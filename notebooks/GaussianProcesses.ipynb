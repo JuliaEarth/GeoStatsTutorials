{
 "cells": [
  {
   "cell_type": "markdown",
   "metadata": {},
   "source": [
    "# Gaussian processes\n",
    "\n",
    "In this tutorial, we explain how to obtain the functionality of other packages such as GaussianProcesses.jl with GeoStats.jl. Gaussian processes (the method) and Simple Kriging are essentially [two names for the same concept](https://en.wikipedia.org/wiki/Kriging). The derivation of Kriging estimators, however; does **not** require distributional assumptions. [Matheron](https://en.wikipedia.org/wiki/Georges_Matheron) and other important geostatisticians have generalized Gaussian processes to random fields with locally-varying mean and for situations where the mean is unknown. GeoStats.jl includes Gaussian processes as a special case as well as other more practical Kriging variants.\n",
    "\n",
    "In machine learning, Gaussian processes are usually explained in 1D, and we will do the same here.\n",
    "\n",
    "Before we proceed, please install the following packages:"
   ]
  },
  {
   "cell_type": "code",
   "execution_count": 1,
   "metadata": {},
   "outputs": [
    {
     "name": "stdout",
     "output_type": "stream",
     "text": [
      "\u001b[32m\u001b[1m  Updating\u001b[22m\u001b[39m registry at `~/.julia/registries/General`\n",
      "\u001b[32m\u001b[1m  Updating\u001b[22m\u001b[39m git-repo `https://github.com/JuliaRegistries/General.git`\n",
      "\u001b[?25l\u001b[2K\u001b[?25h\u001b[32m\u001b[1m Resolving\u001b[22m\u001b[39m package versions...\n",
      "\u001b[32m\u001b[1m  Updating\u001b[22m\u001b[39m `~/.julia/environments/v1.0/Project.toml`\n",
      "\u001b[90m [no changes]\u001b[39m\n",
      "\u001b[32m\u001b[1m  Updating\u001b[22m\u001b[39m `~/.julia/environments/v1.0/Manifest.toml`\n",
      "\u001b[90m [no changes]\u001b[39m\n"
     ]
    }
   ],
   "source": [
    "] add GeoStats Plots GR Interact"
   ]
  },
  {
   "cell_type": "code",
   "execution_count": 2,
   "metadata": {},
   "outputs": [],
   "source": [
    "using Random; Random.seed!(2000); # make sure this tutorial is reproducible"
   ]
  },
  {
   "cell_type": "markdown",
   "metadata": {},
   "source": [
    "## The data\n",
    "\n",
    "Let's start by drawing a set of points in the real line, each with a known value:"
   ]
  },
  {
   "cell_type": "code",
   "execution_count": 3,
   "metadata": {},
   "outputs": [
    {
     "data": {
      "image/svg+xml": [
       "<?xml version=\"1.0\" encoding=\"utf-8\"?>\n",
       "<svg xmlns=\"http://www.w3.org/2000/svg\" xmlns:xlink=\"http://www.w3.org/1999/xlink\" width=\"1000\" height=\"400\" viewBox=\"0 0 4000 1600\">\n",
       "<defs>\n",
       "  <clipPath id=\"clip1200\">\n",
       "    <rect x=\"0\" y=\"0\" width=\"2000\" height=\"2000\"/>\n",
       "  </clipPath>\n",
       "</defs>\n",
       "<defs>\n",
       "  <clipPath id=\"clip1201\">\n",
       "    <rect x=\"0\" y=\"0\" width=\"4000\" height=\"1600\"/>\n",
       "  </clipPath>\n",
       "</defs>\n",
       "<polygon clip-path=\"url(#clip1201)\" points=\"\n",
       "0,1600 4000,1600 4000,0 0,0 \n",
       "  \" fill=\"#ffffff\" fill-rule=\"evenodd\" fill-opacity=\"1\"/>\n",
       "<defs>\n",
       "  <clipPath id=\"clip1202\">\n",
       "    <rect x=\"800\" y=\"0\" width=\"2801\" height=\"1600\"/>\n",
       "  </clipPath>\n",
       "</defs>\n",
       "<polygon clip-path=\"url(#clip1201)\" points=\"\n",
       "161.394,1503.47 3921.26,1503.47 3921.26,47.2441 161.394,47.2441 \n",
       "  \" fill=\"#ffffff\" fill-rule=\"evenodd\" fill-opacity=\"1\"/>\n",
       "<defs>\n",
       "  <clipPath id=\"clip1203\">\n",
       "    <rect x=\"161\" y=\"47\" width=\"3761\" height=\"1457\"/>\n",
       "  </clipPath>\n",
       "</defs>\n",
       "<polyline clip-path=\"url(#clip1203)\" style=\"stroke:#000000; stroke-width:2; stroke-opacity:0.1; fill:none\" points=\"\n",
       "  161.394,1503.47 161.394,47.2441 \n",
       "  \"/>\n",
       "<polyline clip-path=\"url(#clip1203)\" style=\"stroke:#000000; stroke-width:2; stroke-opacity:0.1; fill:none\" points=\"\n",
       "  913.367,1503.47 913.367,47.2441 \n",
       "  \"/>\n",
       "<polyline clip-path=\"url(#clip1203)\" style=\"stroke:#000000; stroke-width:2; stroke-opacity:0.1; fill:none\" points=\"\n",
       "  1665.34,1503.47 1665.34,47.2441 \n",
       "  \"/>\n",
       "<polyline clip-path=\"url(#clip1203)\" style=\"stroke:#000000; stroke-width:2; stroke-opacity:0.1; fill:none\" points=\"\n",
       "  2417.31,1503.47 2417.31,47.2441 \n",
       "  \"/>\n",
       "<polyline clip-path=\"url(#clip1203)\" style=\"stroke:#000000; stroke-width:2; stroke-opacity:0.1; fill:none\" points=\"\n",
       "  3169.29,1503.47 3169.29,47.2441 \n",
       "  \"/>\n",
       "<polyline clip-path=\"url(#clip1203)\" style=\"stroke:#000000; stroke-width:2; stroke-opacity:0.1; fill:none\" points=\"\n",
       "  3921.26,1503.47 3921.26,47.2441 \n",
       "  \"/>\n",
       "<polyline clip-path=\"url(#clip1203)\" style=\"stroke:#000000; stroke-width:2; stroke-opacity:0.1; fill:none\" points=\"\n",
       "  161.394,1503.47 3921.26,1503.47 \n",
       "  \"/>\n",
       "<polyline clip-path=\"url(#clip1203)\" style=\"stroke:#000000; stroke-width:2; stroke-opacity:0.1; fill:none\" points=\"\n",
       "  161.394,1212.23 3921.26,1212.23 \n",
       "  \"/>\n",
       "<polyline clip-path=\"url(#clip1203)\" style=\"stroke:#000000; stroke-width:2; stroke-opacity:0.1; fill:none\" points=\"\n",
       "  161.394,920.982 3921.26,920.982 \n",
       "  \"/>\n",
       "<polyline clip-path=\"url(#clip1203)\" style=\"stroke:#000000; stroke-width:2; stroke-opacity:0.1; fill:none\" points=\"\n",
       "  161.394,629.736 3921.26,629.736 \n",
       "  \"/>\n",
       "<polyline clip-path=\"url(#clip1203)\" style=\"stroke:#000000; stroke-width:2; stroke-opacity:0.1; fill:none\" points=\"\n",
       "  161.394,338.49 3921.26,338.49 \n",
       "  \"/>\n",
       "<polyline clip-path=\"url(#clip1203)\" style=\"stroke:#000000; stroke-width:2; stroke-opacity:0.1; fill:none\" points=\"\n",
       "  161.394,47.2441 3921.26,47.2441 \n",
       "  \"/>\n",
       "<polyline clip-path=\"url(#clip1201)\" style=\"stroke:#000000; stroke-width:4; stroke-opacity:1; fill:none\" points=\"\n",
       "  161.394,1503.47 3921.26,1503.47 \n",
       "  \"/>\n",
       "<polyline clip-path=\"url(#clip1201)\" style=\"stroke:#000000; stroke-width:4; stroke-opacity:1; fill:none\" points=\"\n",
       "  161.394,1503.47 161.394,47.2441 \n",
       "  \"/>\n",
       "<polyline clip-path=\"url(#clip1201)\" style=\"stroke:#000000; stroke-width:4; stroke-opacity:1; fill:none\" points=\"\n",
       "  161.394,1503.47 161.394,1481.63 \n",
       "  \"/>\n",
       "<polyline clip-path=\"url(#clip1201)\" style=\"stroke:#000000; stroke-width:4; stroke-opacity:1; fill:none\" points=\"\n",
       "  913.367,1503.47 913.367,1481.63 \n",
       "  \"/>\n",
       "<polyline clip-path=\"url(#clip1201)\" style=\"stroke:#000000; stroke-width:4; stroke-opacity:1; fill:none\" points=\"\n",
       "  1665.34,1503.47 1665.34,1481.63 \n",
       "  \"/>\n",
       "<polyline clip-path=\"url(#clip1201)\" style=\"stroke:#000000; stroke-width:4; stroke-opacity:1; fill:none\" points=\"\n",
       "  2417.31,1503.47 2417.31,1481.63 \n",
       "  \"/>\n",
       "<polyline clip-path=\"url(#clip1201)\" style=\"stroke:#000000; stroke-width:4; stroke-opacity:1; fill:none\" points=\"\n",
       "  3169.29,1503.47 3169.29,1481.63 \n",
       "  \"/>\n",
       "<polyline clip-path=\"url(#clip1201)\" style=\"stroke:#000000; stroke-width:4; stroke-opacity:1; fill:none\" points=\"\n",
       "  3921.26,1503.47 3921.26,1481.63 \n",
       "  \"/>\n",
       "<polyline clip-path=\"url(#clip1201)\" style=\"stroke:#000000; stroke-width:4; stroke-opacity:1; fill:none\" points=\"\n",
       "  161.394,1503.47 217.792,1503.47 \n",
       "  \"/>\n",
       "<polyline clip-path=\"url(#clip1201)\" style=\"stroke:#000000; stroke-width:4; stroke-opacity:1; fill:none\" points=\"\n",
       "  161.394,1212.23 217.792,1212.23 \n",
       "  \"/>\n",
       "<polyline clip-path=\"url(#clip1201)\" style=\"stroke:#000000; stroke-width:4; stroke-opacity:1; fill:none\" points=\"\n",
       "  161.394,920.982 217.792,920.982 \n",
       "  \"/>\n",
       "<polyline clip-path=\"url(#clip1201)\" style=\"stroke:#000000; stroke-width:4; stroke-opacity:1; fill:none\" points=\"\n",
       "  161.394,629.736 217.792,629.736 \n",
       "  \"/>\n",
       "<polyline clip-path=\"url(#clip1201)\" style=\"stroke:#000000; stroke-width:4; stroke-opacity:1; fill:none\" points=\"\n",
       "  161.394,338.49 217.792,338.49 \n",
       "  \"/>\n",
       "<polyline clip-path=\"url(#clip1201)\" style=\"stroke:#000000; stroke-width:4; stroke-opacity:1; fill:none\" points=\"\n",
       "  161.394,47.2441 217.792,47.2441 \n",
       "  \"/>\n",
       "<g clip-path=\"url(#clip1201)\">\n",
       "<text style=\"fill:#000000; fill-opacity:1; font-family:Arial,Helvetica Neue,Helvetica,sans-serif; font-size:48px; text-anchor:middle;\" transform=\"rotate(0, 161.394, 1565.47)\" x=\"161.394\" y=\"1565.47\">0.0</text>\n",
       "</g>\n",
       "<g clip-path=\"url(#clip1201)\">\n",
       "<text style=\"fill:#000000; fill-opacity:1; font-family:Arial,Helvetica Neue,Helvetica,sans-serif; font-size:48px; text-anchor:middle;\" transform=\"rotate(0, 913.367, 1565.47)\" x=\"913.367\" y=\"1565.47\">0.2</text>\n",
       "</g>\n",
       "<g clip-path=\"url(#clip1201)\">\n",
       "<text style=\"fill:#000000; fill-opacity:1; font-family:Arial,Helvetica Neue,Helvetica,sans-serif; font-size:48px; text-anchor:middle;\" transform=\"rotate(0, 1665.34, 1565.47)\" x=\"1665.34\" y=\"1565.47\">0.4</text>\n",
       "</g>\n",
       "<g clip-path=\"url(#clip1201)\">\n",
       "<text style=\"fill:#000000; fill-opacity:1; font-family:Arial,Helvetica Neue,Helvetica,sans-serif; font-size:48px; text-anchor:middle;\" transform=\"rotate(0, 2417.31, 1565.47)\" x=\"2417.31\" y=\"1565.47\">0.6</text>\n",
       "</g>\n",
       "<g clip-path=\"url(#clip1201)\">\n",
       "<text style=\"fill:#000000; fill-opacity:1; font-family:Arial,Helvetica Neue,Helvetica,sans-serif; font-size:48px; text-anchor:middle;\" transform=\"rotate(0, 3169.29, 1565.47)\" x=\"3169.29\" y=\"1565.47\">0.8</text>\n",
       "</g>\n",
       "<g clip-path=\"url(#clip1201)\">\n",
       "<text style=\"fill:#000000; fill-opacity:1; font-family:Arial,Helvetica Neue,Helvetica,sans-serif; font-size:48px; text-anchor:middle;\" transform=\"rotate(0, 3921.26, 1565.47)\" x=\"3921.26\" y=\"1565.47\">1.0</text>\n",
       "</g>\n",
       "<g clip-path=\"url(#clip1201)\">\n",
       "<text style=\"fill:#000000; fill-opacity:1; font-family:Arial,Helvetica Neue,Helvetica,sans-serif; font-size:48px; text-anchor:end;\" transform=\"rotate(0, 121.394, 1520.97)\" x=\"121.394\" y=\"1520.97\">0.0</text>\n",
       "</g>\n",
       "<g clip-path=\"url(#clip1201)\">\n",
       "<text style=\"fill:#000000; fill-opacity:1; font-family:Arial,Helvetica Neue,Helvetica,sans-serif; font-size:48px; text-anchor:end;\" transform=\"rotate(0, 121.394, 1229.73)\" x=\"121.394\" y=\"1229.73\">0.2</text>\n",
       "</g>\n",
       "<g clip-path=\"url(#clip1201)\">\n",
       "<text style=\"fill:#000000; fill-opacity:1; font-family:Arial,Helvetica Neue,Helvetica,sans-serif; font-size:48px; text-anchor:end;\" transform=\"rotate(0, 121.394, 938.482)\" x=\"121.394\" y=\"938.482\">0.4</text>\n",
       "</g>\n",
       "<g clip-path=\"url(#clip1201)\">\n",
       "<text style=\"fill:#000000; fill-opacity:1; font-family:Arial,Helvetica Neue,Helvetica,sans-serif; font-size:48px; text-anchor:end;\" transform=\"rotate(0, 121.394, 647.236)\" x=\"121.394\" y=\"647.236\">0.6</text>\n",
       "</g>\n",
       "<g clip-path=\"url(#clip1201)\">\n",
       "<text style=\"fill:#000000; fill-opacity:1; font-family:Arial,Helvetica Neue,Helvetica,sans-serif; font-size:48px; text-anchor:end;\" transform=\"rotate(0, 121.394, 355.99)\" x=\"121.394\" y=\"355.99\">0.8</text>\n",
       "</g>\n",
       "<g clip-path=\"url(#clip1201)\">\n",
       "<text style=\"fill:#000000; fill-opacity:1; font-family:Arial,Helvetica Neue,Helvetica,sans-serif; font-size:48px; text-anchor:end;\" transform=\"rotate(0, 121.394, 64.7441)\" x=\"121.394\" y=\"64.7441\">1.0</text>\n",
       "</g>\n",
       "<circle clip-path=\"url(#clip1203)\" style=\"fill:#000000; stroke:none; fill-opacity:1\" cx=\"537.381\" cy=\"643.371\" r=\"18\"/>\n",
       "<circle clip-path=\"url(#clip1203)\" style=\"fill:#009af9; stroke:none; fill-opacity:1\" cx=\"537.381\" cy=\"643.371\" r=\"14\"/>\n",
       "<circle clip-path=\"url(#clip1203)\" style=\"fill:#000000; stroke:none; fill-opacity:1\" cx=\"871.591\" cy=\"646.433\" r=\"18\"/>\n",
       "<circle clip-path=\"url(#clip1203)\" style=\"fill:#009af9; stroke:none; fill-opacity:1\" cx=\"871.591\" cy=\"646.433\" r=\"14\"/>\n",
       "<circle clip-path=\"url(#clip1203)\" style=\"fill:#000000; stroke:none; fill-opacity:1\" cx=\"1205.8\" cy=\"1304.53\" r=\"18\"/>\n",
       "<circle clip-path=\"url(#clip1203)\" style=\"fill:#009af9; stroke:none; fill-opacity:1\" cx=\"1205.8\" cy=\"1304.53\" r=\"14\"/>\n",
       "<circle clip-path=\"url(#clip1203)\" style=\"fill:#000000; stroke:none; fill-opacity:1\" cx=\"1540.01\" cy=\"784.797\" r=\"18\"/>\n",
       "<circle clip-path=\"url(#clip1203)\" style=\"fill:#009af9; stroke:none; fill-opacity:1\" cx=\"1540.01\" cy=\"784.797\" r=\"14\"/>\n",
       "<circle clip-path=\"url(#clip1203)\" style=\"fill:#000000; stroke:none; fill-opacity:1\" cx=\"1874.22\" cy=\"718.019\" r=\"18\"/>\n",
       "<circle clip-path=\"url(#clip1203)\" style=\"fill:#009af9; stroke:none; fill-opacity:1\" cx=\"1874.22\" cy=\"718.019\" r=\"14\"/>\n",
       "<circle clip-path=\"url(#clip1203)\" style=\"fill:#000000; stroke:none; fill-opacity:1\" cx=\"2208.43\" cy=\"758.652\" r=\"18\"/>\n",
       "<circle clip-path=\"url(#clip1203)\" style=\"fill:#009af9; stroke:none; fill-opacity:1\" cx=\"2208.43\" cy=\"758.652\" r=\"14\"/>\n",
       "<circle clip-path=\"url(#clip1203)\" style=\"fill:#000000; stroke:none; fill-opacity:1\" cx=\"2542.64\" cy=\"402.218\" r=\"18\"/>\n",
       "<circle clip-path=\"url(#clip1203)\" style=\"fill:#009af9; stroke:none; fill-opacity:1\" cx=\"2542.64\" cy=\"402.218\" r=\"14\"/>\n",
       "<circle clip-path=\"url(#clip1203)\" style=\"fill:#000000; stroke:none; fill-opacity:1\" cx=\"2876.85\" cy=\"608.36\" r=\"18\"/>\n",
       "<circle clip-path=\"url(#clip1203)\" style=\"fill:#009af9; stroke:none; fill-opacity:1\" cx=\"2876.85\" cy=\"608.36\" r=\"14\"/>\n",
       "<circle clip-path=\"url(#clip1203)\" style=\"fill:#000000; stroke:none; fill-opacity:1\" cx=\"3211.06\" cy=\"426.19\" r=\"18\"/>\n",
       "<circle clip-path=\"url(#clip1203)\" style=\"fill:#009af9; stroke:none; fill-opacity:1\" cx=\"3211.06\" cy=\"426.19\" r=\"14\"/>\n",
       "<circle clip-path=\"url(#clip1203)\" style=\"fill:#000000; stroke:none; fill-opacity:1\" cx=\"3545.27\" cy=\"800.205\" r=\"18\"/>\n",
       "<circle clip-path=\"url(#clip1203)\" style=\"fill:#009af9; stroke:none; fill-opacity:1\" cx=\"3545.27\" cy=\"800.205\" r=\"14\"/>\n",
       "<polygon clip-path=\"url(#clip1201)\" points=\"\n",
       "3307.59,347.724 3801.26,347.724 3801.26,226.764 3307.59,226.764 \n",
       "  \" fill=\"#ffffff\" fill-rule=\"evenodd\" fill-opacity=\"1\"/>\n",
       "<polyline clip-path=\"url(#clip1201)\" style=\"stroke:#000000; stroke-width:4; stroke-opacity:1; fill:none\" points=\"\n",
       "  3307.59,347.724 3801.26,347.724 3801.26,226.764 3307.59,226.764 3307.59,347.724 \n",
       "  \"/>\n",
       "<circle clip-path=\"url(#clip1201)\" style=\"fill:#000000; stroke:none; fill-opacity:1\" cx=\"3487.59\" cy=\"287.244\" r=\"25\"/>\n",
       "<circle clip-path=\"url(#clip1201)\" style=\"fill:#009af9; stroke:none; fill-opacity:1\" cx=\"3487.59\" cy=\"287.244\" r=\"21\"/>\n",
       "<g clip-path=\"url(#clip1201)\">\n",
       "<text style=\"fill:#000000; fill-opacity:1; font-family:Arial,Helvetica Neue,Helvetica,sans-serif; font-size:48px; text-anchor:start;\" transform=\"rotate(0, 3627.59, 304.744)\" x=\"3627.59\" y=\"304.744\">data</text>\n",
       "</g>\n",
       "</svg>\n"
      ]
     },
     "execution_count": 3,
     "metadata": {},
     "output_type": "execute_result"
    }
   ],
   "source": [
    "using Plots; gr(size=(1000,400), xlim=(0,1), ylim=(0,1))\n",
    "\n",
    "x = range(0.1, stop=.9, length=10)\n",
    "z = rand(10)\n",
    "\n",
    "scatter(x, z, label=\"data\", size=(1000,400))"
   ]
  },
  {
   "cell_type": "markdown",
   "metadata": {},
   "source": [
    "We will skip an important step known in geostatistics as *variogram modeling*, and will proceed to the estimation step directly in order to avoid having too many concepts in this tutorial. These concepts are likely new to practioners of machine learning and can be very useful in practice. For more information on variogram modeling, please check the other tutorials in this folder.\n",
    "\n",
    "## Simple Kriging\n",
    "\n",
    "In simple Kriging (or Gaussian process), we need to specify a mean and a covariance-type function in order to interpolate the stochastic process at unseen locations. We choose a covariance (or variogram) model in GeoStats.jl and interact with the parameters:"
   ]
  },
  {
   "cell_type": "code",
   "execution_count": 4,
   "metadata": {},
   "outputs": [
    {
     "data": {
      "text/html": [
       "    <script id=\"webio-setup-8606703807364568493\">\n",
       "    // Immediately-invoked-function-expression to avoid global variables.\n",
       "    (function() {\n",
       "        var warning_div = document.getElementById(\"webio-warning-511280190284159348\");\n",
       "        var hide = function () {\n",
       "            var script = document.getElementById(\"webio-setup-8606703807364568493\");\n",
       "            var parent = script && script.parentElement;\n",
       "            var grandparent = parent && parent.parentElement;\n",
       "            if (grandparent) {\n",
       "                grandparent.style.display = \"none\";\n",
       "            }\n",
       "            warning_div.style.display = \"none\";\n",
       "        };\n",
       "        if (window.require && require.defined) {\n",
       "            // Jupyter notebook.\n",
       "            if (require.defined(\"nbextensions/webio/main\")\n",
       "                    || require.defined(\"/assetserver/590acafbcd226d3bf9ec4084a43ff404e811ce7e-dist/main.js\")) {\n",
       "                // Extension already loaded.\n",
       "                hide();\n",
       "                return;\n",
       "            }\n",
       "            console.warn(\"Loading WebIO Jupyter extension on an ad-hoc basis. Consider enabling the WebIO nbextension for a stabler experience (this should happen automatically when building WebIO).\");\n",
       "            require([\"/assetserver/590acafbcd226d3bf9ec4084a43ff404e811ce7e-dist/main.js\"], function (webIOModule) {\n",
       "                webIOModule.load_ipython_extension();\n",
       "            });\n",
       "            warning_div.innerHTML = \"<strong>Loading WebIO Jupyter extension on an ad-hoc basis. Consider enabling the WebIO nbextension for a stabler experience (this should happen automatically when building WebIO).</strong>\";\n",
       "        } else if (window.location.pathname.includes(\"/lab\")) {\n",
       "            // Guessing JupyterLab\n",
       "            warning_div.innerHTML = \"WebIO does not support JupyterLab yet.\";\n",
       "        }\n",
       "    })();\n",
       "    </script>\n",
       "    <div\n",
       "        id=\"webio-warning-511280190284159348\"\n",
       "        class=\"output_text output_stderr\"\n",
       "        style=\"padding: 1em; font-weight: bold;\"\n",
       "    >\n",
       "        Unable to load WebIO. Please make sure WebIO works for your Jupyter client.\n",
       "        <!-- TODO: link to installation docs. -->\n",
       "    </div>\n"
      ],
      "text/plain": [
       "HTML{String}(\"    <script id=\\\"webio-setup-8606703807364568493\\\">\\n    // Immediately-invoked-function-expression to avoid global variables.\\n    (function() {\\n        var warning_div = document.getElementById(\\\"webio-warning-511280190284159348\\\");\\n        var hide = function () {\\n            var script = document.getElementById(\\\"webio-setup-8606703807364568493\\\");\\n            var parent = script && script.parentElement;\\n            var grandparent = parent && parent.parentElement;\\n            if (grandparent) {\\n                grandparent.style.display = \\\"none\\\";\\n            }\\n            warning_div.style.display = \\\"none\\\";\\n        };\\n        if (window.require && require.defined) {\\n            // Jupyter notebook.\\n            if (require.defined(\\\"nbextensions/webio/main\\\")\\n                    || require.defined(\\\"/assetserver/590acafbcd226d3bf9ec4084a43ff404e811ce7e-dist/main.js\\\")) {\\n                // Extension already loaded.\\n                hide();\\n                return;\\n            }\\n            console.warn(\\\"Loading WebIO Jupyter extension on an ad-hoc basis. Consider enabling the WebIO nbextension for a stabler experience (this should happen automatically when building WebIO).\\\");\\n            require([\\\"/assetserver/590acafbcd226d3bf9ec4084a43ff404e811ce7e-dist/main.js\\\"], function (webIOModule) {\\n                webIOModule.load_ipython_extension();\\n            });\\n            warning_div.innerHTML = \\\"<strong>Loading WebIO Jupyter extension on an ad-hoc basis. Consider enabling the WebIO nbextension for a stabler experience (this should happen automatically when building WebIO).</strong>\\\";\\n        } else if (window.location.pathname.includes(\\\"/lab\\\")) {\\n            // Guessing JupyterLab\\n            warning_div.innerHTML = \\\"WebIO does not support JupyterLab yet.\\\";\\n        }\\n    })();\\n    </script>\\n    <div\\n        id=\\\"webio-warning-511280190284159348\\\"\\n        class=\\\"output_text output_stderr\\\"\\n        style=\\\"padding: 1em; font-weight: bold;\\\"\\n    >\\n        Unable to load WebIO. Please make sure WebIO works for your Jupyter client.\\n        <!-- TODO: link to installation docs. -->\\n    </div>\\n\")"
      ]
     },
     "metadata": {},
     "output_type": "display_data"
    },
    {
     "data": {
      "application/vnd.webio.node+json": {
       "children": [
        {
         "children": [
          {
           "children": [
            {
             "children": [
              {
               "children": [
                {
                 "children": [
                  "s"
                 ],
                 "instanceArgs": {
                  "namespace": "html",
                  "tag": "label"
                 },
                 "nodeType": "DOM",
                 "props": {
                  "className": "interact ",
                  "style": {
                   "padding": "5px 10px 0px 10px"
                  }
                 },
                 "type": "node"
                }
               ],
               "instanceArgs": {
                "namespace": "html",
                "tag": "div"
               },
               "nodeType": "DOM",
               "props": {
                "attributes": {
                 "style": "text-align:right;width:18%"
                }
               },
               "type": "node"
              },
              {
               "children": [
                {
                 "children": [],
                 "instanceArgs": {
                  "namespace": "html",
                  "tag": "input"
                 },
                 "nodeType": "DOM",
                 "props": {
                  "attributes": {
                   "data-bind": "numericValue: index, valueUpdate: 'input', event: {change : function () {this.changes(this.changes()+1)}}",
                   "orient": "horizontal",
                   "type": "range"
                  },
                  "className": "slider slider is-fullwidth",
                  "max": 50,
                  "min": 1,
                  "step": 1,
                  "style": {}
                 },
                 "type": "node"
                }
               ],
               "instanceArgs": {
                "namespace": "html",
                "tag": "div"
               },
               "nodeType": "DOM",
               "props": {
                "attributes": {
                 "style": "flex-grow:1; margin: 0 2%"
                }
               },
               "type": "node"
              },
              {
               "children": [
                {
                 "children": [],
                 "instanceArgs": {
                  "namespace": "html",
                  "tag": "p"
                 },
                 "nodeType": "DOM",
                 "props": {
                  "attributes": {
                   "data-bind": "text: formatted_value"
                  }
                 },
                 "type": "node"
                }
               ],
               "instanceArgs": {
                "namespace": "html",
                "tag": "div"
               },
               "nodeType": "DOM",
               "props": {
                "attributes": {
                 "style": "width:18%"
                }
               },
               "type": "node"
              }
             ],
             "instanceArgs": {
              "namespace": "html",
              "tag": "div"
             },
             "nodeType": "DOM",
             "props": {
              "attributes": {
               "style": "display:flex; justify-content:center; align-items:center;"
              }
             },
             "type": "node"
            }
           ],
           "instanceArgs": {
            "handlers": {
             "_promises": {
              "importsLoaded": [
               "function (ko, koPunches) {\n    ko.punches.enableAll();\n    ko.bindingHandlers.numericValue = {\n        init : function(element, valueAccessor, allBindings, data, context) {\n            var stringified = ko.observable(ko.unwrap(valueAccessor()));\n            stringified.subscribe(function(value) {\n                var val = parseFloat(value);\n                if (!isNaN(val)) {\n                    valueAccessor()(val);\n                }\n            })\n            valueAccessor().subscribe(function(value) {\n                var str = JSON.stringify(value);\n                if ((str == \"0\") && ([\"-0\", \"-0.\"].indexOf(stringified()) >= 0))\n                     return;\n                 if ([\"null\", \"\"].indexOf(str) >= 0)\n                     return;\n                stringified(str);\n            })\n            ko.applyBindingsToNode(element, { value: stringified, valueUpdate: allBindings.get('valueUpdate')}, context);\n        }\n    };\n    var json_data = JSON.parse(\"{\\\"formatted_vals\\\":[\\\"0.0\\\",\\\"0.00204082\\\",\\\"0.00408163\\\",\\\"0.00612245\\\",\\\"0.00816327\\\",\\\"0.0102041\\\",\\\"0.0122449\\\",\\\"0.0142857\\\",\\\"0.0163265\\\",\\\"0.0183673\\\",\\\"0.0204082\\\",\\\"0.022449\\\",\\\"0.0244898\\\",\\\"0.0265306\\\",\\\"0.0285714\\\",\\\"0.0306122\\\",\\\"0.0326531\\\",\\\"0.0346939\\\",\\\"0.0367347\\\",\\\"0.0387755\\\",\\\"0.0408163\\\",\\\"0.0428571\\\",\\\"0.044898\\\",\\\"0.0469388\\\",\\\"0.0489796\\\",\\\"0.0510204\\\",\\\"0.0530612\\\",\\\"0.055102\\\",\\\"0.0571429\\\",\\\"0.0591837\\\",\\\"0.0612245\\\",\\\"0.0632653\\\",\\\"0.0653061\\\",\\\"0.0673469\\\",\\\"0.0693878\\\",\\\"0.0714286\\\",\\\"0.0734694\\\",\\\"0.0755102\\\",\\\"0.077551\\\",\\\"0.0795918\\\",\\\"0.0816327\\\",\\\"0.0836735\\\",\\\"0.0857143\\\",\\\"0.0877551\\\",\\\"0.0897959\\\",\\\"0.0918367\\\",\\\"0.0938776\\\",\\\"0.0959184\\\",\\\"0.0979592\\\",\\\"0.1\\\"],\\\"changes\\\":0,\\\"formatted_value\\\":\\\"0.0489796\\\",\\\"index\\\":25}\");\n    var self = this;\n    function AppViewModel() {\n        for (var key in json_data) {\n            var el = json_data[key];\n            this[key] = Array.isArray(el) ? ko.observableArray(el) : ko.observable(el);\n        }\n        \n        \n        [this[\"formatted_vals\"].subscribe((function (val){!(this.valueFromJulia[\"formatted_vals\"]) ? (_webIOScope.setObservableValue({\"name\":\"formatted_vals\",\"scope\":\"knockout-component-28829b74-56c3-4a39-833a-a5705654e543\",\"id\":\"ob_03\",\"type\":\"observable\"},val)) : undefined; return this.valueFromJulia[\"formatted_vals\"]=false}),self),this[\"changes\"].subscribe((function (val){!(this.valueFromJulia[\"changes\"]) ? (_webIOScope.setObservableValue({\"name\":\"changes\",\"scope\":\"knockout-component-28829b74-56c3-4a39-833a-a5705654e543\",\"id\":\"ob_05\",\"type\":\"observable\"},val)) : undefined; return this.valueFromJulia[\"changes\"]=false}),self),this[\"formatted_value\"].subscribe((function (val){!(this.valueFromJulia[\"formatted_value\"]) ? (_webIOScope.setObservableValue({\"name\":\"formatted_value\",\"scope\":\"knockout-component-28829b74-56c3-4a39-833a-a5705654e543\",\"id\":\"ob_04\",\"type\":\"observable\"},val)) : undefined; return this.valueFromJulia[\"formatted_value\"]=false}),self),this[\"index\"].subscribe((function (val){!(this.valueFromJulia[\"index\"]) ? (_webIOScope.setObservableValue({\"name\":\"index\",\"scope\":\"knockout-component-28829b74-56c3-4a39-833a-a5705654e543\",\"id\":\"ob_02\",\"type\":\"observable\"},val)) : undefined; return this.valueFromJulia[\"index\"]=false}),self)]\n        \n    }\n    self.model = new AppViewModel();\n    self.valueFromJulia = {};\n    for (var key in json_data) {\n        self.valueFromJulia[key] = false;\n    }\n    ko.applyBindings(self.model, self.dom);\n}\n"
              ]
             },
             "changes": [
              "(function (val){return (val!=this.model[\"changes\"]()) ? (this.valueFromJulia[\"changes\"]=true, this.model[\"changes\"](val)) : undefined})"
             ],
             "formatted_vals": [
              "(function (val){return (val!=this.model[\"formatted_vals\"]()) ? (this.valueFromJulia[\"formatted_vals\"]=true, this.model[\"formatted_vals\"](val)) : undefined})"
             ],
             "formatted_value": [
              "(function (val){return (val!=this.model[\"formatted_value\"]()) ? (this.valueFromJulia[\"formatted_value\"]=true, this.model[\"formatted_value\"](val)) : undefined})"
             ],
             "index": [
              "(function (val){return (val!=this.model[\"index\"]()) ? (this.valueFromJulia[\"index\"]=true, this.model[\"index\"](val)) : undefined})",
              "(function (val){return _webIOScope.setObservableValue({\"name\":\"formatted_value\",\"scope\":\"knockout-component-28829b74-56c3-4a39-833a-a5705654e543\",\"id\":\"ob_04\",\"type\":\"observable\"},_webIOScope.getObservableValue({\"name\":\"formatted_vals\",\"scope\":\"knockout-component-28829b74-56c3-4a39-833a-a5705654e543\",\"id\":\"ob_03\",\"type\":\"observable\"})[(_webIOScope.getObservableValue({\"name\":\"index\",\"scope\":\"knockout-component-28829b74-56c3-4a39-833a-a5705654e543\",\"id\":\"ob_02\",\"type\":\"observable\"})-1)])})"
             ]
            },
            "id": "knockout-component-28829b74-56c3-4a39-833a-a5705654e543",
            "imports": {
             "data": [
              {
               "name": "knockout",
               "type": "js",
               "url": "/assetserver/12fd8e1ff6f17c03b96dfdacbbef8267e1e89a3a-knockout.js"
              },
              {
               "name": "knockout_punches",
               "type": "js",
               "url": "/assetserver/6a01192897ccbdaf17e62e31d476c829b44592c2-knockout_punches.js"
              },
              {
               "name": null,
               "type": "js",
               "url": "/assetserver/7eafee0b34b6bcd2c7a521df5846c6418f5603af-all.js"
              },
              {
               "name": null,
               "type": "css",
               "url": "/assetserver/2994e4d83a225d257863de5c164dd41773eb711b-style.css"
              },
              {
               "name": null,
               "type": "css",
               "url": "/assetserver/6b7df7a83458e68eec729d7ee80622dc21ed3a7e-main.css"
              }
             ],
             "type": "async_block"
            },
            "observables": {
             "changes": {
              "id": "ob_05",
              "sync": false,
              "value": 0
             },
             "formatted_vals": {
              "id": "ob_03",
              "sync": false,
              "value": [
               "0.0",
               "0.00204082",
               "0.00408163",
               "0.00612245",
               "0.00816327",
               "0.0102041",
               "0.0122449",
               "0.0142857",
               "0.0163265",
               "0.0183673",
               "0.0204082",
               "0.022449",
               "0.0244898",
               "0.0265306",
               "0.0285714",
               "0.0306122",
               "0.0326531",
               "0.0346939",
               "0.0367347",
               "0.0387755",
               "0.0408163",
               "0.0428571",
               "0.044898",
               "0.0469388",
               "0.0489796",
               "0.0510204",
               "0.0530612",
               "0.055102",
               "0.0571429",
               "0.0591837",
               "0.0612245",
               "0.0632653",
               "0.0653061",
               "0.0673469",
               "0.0693878",
               "0.0714286",
               "0.0734694",
               "0.0755102",
               "0.077551",
               "0.0795918",
               "0.0816327",
               "0.0836735",
               "0.0857143",
               "0.0877551",
               "0.0897959",
               "0.0918367",
               "0.0938776",
               "0.0959184",
               "0.0979592",
               "0.1"
              ]
             },
             "formatted_value": {
              "id": "ob_04",
              "sync": false,
              "value": "0.0489796"
             },
             "index": {
              "id": "ob_02",
              "sync": true,
              "value": 25
             }
            },
            "systemjs_options": null
           },
           "nodeType": "Scope",
           "props": {},
           "type": "node"
          }
         ],
         "instanceArgs": {
          "namespace": "html",
          "tag": "div"
         },
         "nodeType": "DOM",
         "props": {
          "className": "field"
         },
         "type": "node"
        },
        {
         "children": [
          {
           "children": [
            {
             "children": [
              {
               "children": [
                {
                 "children": [
                  "r"
                 ],
                 "instanceArgs": {
                  "namespace": "html",
                  "tag": "label"
                 },
                 "nodeType": "DOM",
                 "props": {
                  "className": "interact ",
                  "style": {
                   "padding": "5px 10px 0px 10px"
                  }
                 },
                 "type": "node"
                }
               ],
               "instanceArgs": {
                "namespace": "html",
                "tag": "div"
               },
               "nodeType": "DOM",
               "props": {
                "attributes": {
                 "style": "text-align:right;width:18%"
                }
               },
               "type": "node"
              },
              {
               "children": [
                {
                 "children": [],
                 "instanceArgs": {
                  "namespace": "html",
                  "tag": "input"
                 },
                 "nodeType": "DOM",
                 "props": {
                  "attributes": {
                   "data-bind": "numericValue: index, valueUpdate: 'input', event: {change : function () {this.changes(this.changes()+1)}}",
                   "orient": "horizontal",
                   "type": "range"
                  },
                  "className": "slider slider is-fullwidth",
                  "max": 50,
                  "min": 1,
                  "step": 1,
                  "style": {}
                 },
                 "type": "node"
                }
               ],
               "instanceArgs": {
                "namespace": "html",
                "tag": "div"
               },
               "nodeType": "DOM",
               "props": {
                "attributes": {
                 "style": "flex-grow:1; margin: 0 2%"
                }
               },
               "type": "node"
              },
              {
               "children": [
                {
                 "children": [],
                 "instanceArgs": {
                  "namespace": "html",
                  "tag": "p"
                 },
                 "nodeType": "DOM",
                 "props": {
                  "attributes": {
                   "data-bind": "text: formatted_value"
                  }
                 },
                 "type": "node"
                }
               ],
               "instanceArgs": {
                "namespace": "html",
                "tag": "div"
               },
               "nodeType": "DOM",
               "props": {
                "attributes": {
                 "style": "width:18%"
                }
               },
               "type": "node"
              }
             ],
             "instanceArgs": {
              "namespace": "html",
              "tag": "div"
             },
             "nodeType": "DOM",
             "props": {
              "attributes": {
               "style": "display:flex; justify-content:center; align-items:center;"
              }
             },
             "type": "node"
            }
           ],
           "instanceArgs": {
            "handlers": {
             "_promises": {
              "importsLoaded": [
               "function (ko, koPunches) {\n    ko.punches.enableAll();\n    ko.bindingHandlers.numericValue = {\n        init : function(element, valueAccessor, allBindings, data, context) {\n            var stringified = ko.observable(ko.unwrap(valueAccessor()));\n            stringified.subscribe(function(value) {\n                var val = parseFloat(value);\n                if (!isNaN(val)) {\n                    valueAccessor()(val);\n                }\n            })\n            valueAccessor().subscribe(function(value) {\n                var str = JSON.stringify(value);\n                if ((str == \"0\") && ([\"-0\", \"-0.\"].indexOf(stringified()) >= 0))\n                     return;\n                 if ([\"null\", \"\"].indexOf(str) >= 0)\n                     return;\n                stringified(str);\n            })\n            ko.applyBindingsToNode(element, { value: stringified, valueUpdate: allBindings.get('valueUpdate')}, context);\n        }\n    };\n    var json_data = JSON.parse(\"{\\\"formatted_vals\\\":[\\\"0.1\\\",\\\"0.102041\\\",\\\"0.104082\\\",\\\"0.106122\\\",\\\"0.108163\\\",\\\"0.110204\\\",\\\"0.112245\\\",\\\"0.114286\\\",\\\"0.116327\\\",\\\"0.118367\\\",\\\"0.120408\\\",\\\"0.122449\\\",\\\"0.12449\\\",\\\"0.126531\\\",\\\"0.128571\\\",\\\"0.130612\\\",\\\"0.132653\\\",\\\"0.134694\\\",\\\"0.136735\\\",\\\"0.138776\\\",\\\"0.140816\\\",\\\"0.142857\\\",\\\"0.144898\\\",\\\"0.146939\\\",\\\"0.14898\\\",\\\"0.15102\\\",\\\"0.153061\\\",\\\"0.155102\\\",\\\"0.157143\\\",\\\"0.159184\\\",\\\"0.161224\\\",\\\"0.163265\\\",\\\"0.165306\\\",\\\"0.167347\\\",\\\"0.169388\\\",\\\"0.171429\\\",\\\"0.173469\\\",\\\"0.17551\\\",\\\"0.177551\\\",\\\"0.179592\\\",\\\"0.181633\\\",\\\"0.183673\\\",\\\"0.185714\\\",\\\"0.187755\\\",\\\"0.189796\\\",\\\"0.191837\\\",\\\"0.193878\\\",\\\"0.195918\\\",\\\"0.197959\\\",\\\"0.2\\\"],\\\"changes\\\":0,\\\"formatted_value\\\":\\\"0.14898\\\",\\\"index\\\":25}\");\n    var self = this;\n    function AppViewModel() {\n        for (var key in json_data) {\n            var el = json_data[key];\n            this[key] = Array.isArray(el) ? ko.observableArray(el) : ko.observable(el);\n        }\n        \n        \n        [this[\"formatted_vals\"].subscribe((function (val){!(this.valueFromJulia[\"formatted_vals\"]) ? (_webIOScope.setObservableValue({\"name\":\"formatted_vals\",\"scope\":\"knockout-component-5fa11a31-6fc6-47ae-ac54-be9c8efb2b50\",\"id\":\"ob_08\",\"type\":\"observable\"},val)) : undefined; return this.valueFromJulia[\"formatted_vals\"]=false}),self),this[\"changes\"].subscribe((function (val){!(this.valueFromJulia[\"changes\"]) ? (_webIOScope.setObservableValue({\"name\":\"changes\",\"scope\":\"knockout-component-5fa11a31-6fc6-47ae-ac54-be9c8efb2b50\",\"id\":\"ob_10\",\"type\":\"observable\"},val)) : undefined; return this.valueFromJulia[\"changes\"]=false}),self),this[\"formatted_value\"].subscribe((function (val){!(this.valueFromJulia[\"formatted_value\"]) ? (_webIOScope.setObservableValue({\"name\":\"formatted_value\",\"scope\":\"knockout-component-5fa11a31-6fc6-47ae-ac54-be9c8efb2b50\",\"id\":\"ob_09\",\"type\":\"observable\"},val)) : undefined; return this.valueFromJulia[\"formatted_value\"]=false}),self),this[\"index\"].subscribe((function (val){!(this.valueFromJulia[\"index\"]) ? (_webIOScope.setObservableValue({\"name\":\"index\",\"scope\":\"knockout-component-5fa11a31-6fc6-47ae-ac54-be9c8efb2b50\",\"id\":\"ob_07\",\"type\":\"observable\"},val)) : undefined; return this.valueFromJulia[\"index\"]=false}),self)]\n        \n    }\n    self.model = new AppViewModel();\n    self.valueFromJulia = {};\n    for (var key in json_data) {\n        self.valueFromJulia[key] = false;\n    }\n    ko.applyBindings(self.model, self.dom);\n}\n"
              ]
             },
             "changes": [
              "(function (val){return (val!=this.model[\"changes\"]()) ? (this.valueFromJulia[\"changes\"]=true, this.model[\"changes\"](val)) : undefined})"
             ],
             "formatted_vals": [
              "(function (val){return (val!=this.model[\"formatted_vals\"]()) ? (this.valueFromJulia[\"formatted_vals\"]=true, this.model[\"formatted_vals\"](val)) : undefined})"
             ],
             "formatted_value": [
              "(function (val){return (val!=this.model[\"formatted_value\"]()) ? (this.valueFromJulia[\"formatted_value\"]=true, this.model[\"formatted_value\"](val)) : undefined})"
             ],
             "index": [
              "(function (val){return (val!=this.model[\"index\"]()) ? (this.valueFromJulia[\"index\"]=true, this.model[\"index\"](val)) : undefined})",
              "(function (val){return _webIOScope.setObservableValue({\"name\":\"formatted_value\",\"scope\":\"knockout-component-5fa11a31-6fc6-47ae-ac54-be9c8efb2b50\",\"id\":\"ob_09\",\"type\":\"observable\"},_webIOScope.getObservableValue({\"name\":\"formatted_vals\",\"scope\":\"knockout-component-5fa11a31-6fc6-47ae-ac54-be9c8efb2b50\",\"id\":\"ob_08\",\"type\":\"observable\"})[(_webIOScope.getObservableValue({\"name\":\"index\",\"scope\":\"knockout-component-5fa11a31-6fc6-47ae-ac54-be9c8efb2b50\",\"id\":\"ob_07\",\"type\":\"observable\"})-1)])})"
             ]
            },
            "id": "knockout-component-5fa11a31-6fc6-47ae-ac54-be9c8efb2b50",
            "imports": {
             "data": [
              {
               "name": "knockout",
               "type": "js",
               "url": "/assetserver/12fd8e1ff6f17c03b96dfdacbbef8267e1e89a3a-knockout.js"
              },
              {
               "name": "knockout_punches",
               "type": "js",
               "url": "/assetserver/6a01192897ccbdaf17e62e31d476c829b44592c2-knockout_punches.js"
              },
              {
               "name": null,
               "type": "js",
               "url": "/assetserver/7eafee0b34b6bcd2c7a521df5846c6418f5603af-all.js"
              },
              {
               "name": null,
               "type": "css",
               "url": "/assetserver/2994e4d83a225d257863de5c164dd41773eb711b-style.css"
              },
              {
               "name": null,
               "type": "css",
               "url": "/assetserver/6b7df7a83458e68eec729d7ee80622dc21ed3a7e-main.css"
              }
             ],
             "type": "async_block"
            },
            "observables": {
             "changes": {
              "id": "ob_10",
              "sync": false,
              "value": 0
             },
             "formatted_vals": {
              "id": "ob_08",
              "sync": false,
              "value": [
               "0.1",
               "0.102041",
               "0.104082",
               "0.106122",
               "0.108163",
               "0.110204",
               "0.112245",
               "0.114286",
               "0.116327",
               "0.118367",
               "0.120408",
               "0.122449",
               "0.12449",
               "0.126531",
               "0.128571",
               "0.130612",
               "0.132653",
               "0.134694",
               "0.136735",
               "0.138776",
               "0.140816",
               "0.142857",
               "0.144898",
               "0.146939",
               "0.14898",
               "0.15102",
               "0.153061",
               "0.155102",
               "0.157143",
               "0.159184",
               "0.161224",
               "0.163265",
               "0.165306",
               "0.167347",
               "0.169388",
               "0.171429",
               "0.173469",
               "0.17551",
               "0.177551",
               "0.179592",
               "0.181633",
               "0.183673",
               "0.185714",
               "0.187755",
               "0.189796",
               "0.191837",
               "0.193878",
               "0.195918",
               "0.197959",
               "0.2"
              ]
             },
             "formatted_value": {
              "id": "ob_09",
              "sync": false,
              "value": "0.14898"
             },
             "index": {
              "id": "ob_07",
              "sync": true,
              "value": 25
             }
            },
            "systemjs_options": null
           },
           "nodeType": "Scope",
           "props": {},
           "type": "node"
          }
         ],
         "instanceArgs": {
          "namespace": "html",
          "tag": "div"
         },
         "nodeType": "DOM",
         "props": {
          "className": "field"
         },
         "type": "node"
        },
        {
         "children": [
          {
           "children": [],
           "instanceArgs": {
            "id": "ob_15",
            "name": "obs-node"
           },
           "nodeType": "ObservableNode",
           "props": {},
           "type": "node"
          }
         ],
         "instanceArgs": {
          "handlers": {},
          "id": "scope-f9319454-a96c-4415-bbb4-4e25535f1fab",
          "imports": {
           "data": [],
           "type": "async_block"
          },
          "observables": {
           "obs-node": {
            "id": "ob_15",
            "sync": false,
            "value": {
             "children": [
              {
               "children": [],
               "instanceArgs": {
                "namespace": "html",
                "tag": "div"
               },
               "nodeType": "DOM",
               "props": {
                "setInnerHtml": "<?xml version=\"1.0\" encoding=\"utf-8\"?>\n<svg xmlns=\"http://www.w3.org/2000/svg\" xmlns:xlink=\"http://www.w3.org/1999/xlink\" width=\"1000\" height=\"400\" viewBox=\"0 0 4000 1600\">\n<defs>\n  <clipPath id=\"clip1600\">\n    <rect x=\"0\" y=\"0\" width=\"2000\" height=\"2000\"/>\n  </clipPath>\n</defs>\n<defs>\n  <clipPath id=\"clip1601\">\n    <rect x=\"0\" y=\"0\" width=\"4000\" height=\"1600\"/>\n  </clipPath>\n</defs>\n<polygon clip-path=\"url(#clip1601)\" points=\"\n0,1600 4000,1600 4000,0 0,0 \n  \" fill=\"#ffffff\" fill-rule=\"evenodd\" fill-opacity=\"1\"/>\n<defs>\n  <clipPath id=\"clip1602\">\n    <rect x=\"800\" y=\"0\" width=\"2801\" height=\"1600\"/>\n  </clipPath>\n</defs>\n<polygon clip-path=\"url(#clip1601)\" points=\"\n161.394,1516.89 3921.26,1516.89 3921.26,47.2441 161.394,47.2441 \n  \" fill=\"#ffffff\" fill-rule=\"evenodd\" fill-opacity=\"1\"/>\n<defs>\n  <clipPath id=\"clip1603\">\n    <rect x=\"161\" y=\"47\" width=\"3761\" height=\"1471\"/>\n  </clipPath>\n</defs>\n<polyline clip-path=\"url(#clip1603)\" style=\"stroke:#000000; stroke-width:2; stroke-opacity:0.1; fill:none\" points=\"\n  161.394,1516.89 161.394,47.2441 \n  \"/>\n<polyline clip-path=\"url(#clip1603)\" style=\"stroke:#000000; stroke-width:2; stroke-opacity:0.1; fill:none\" points=\"\n  913.367,1516.89 913.367,47.2441 \n  \"/>\n<polyline clip-path=\"url(#clip1603)\" style=\"stroke:#000000; stroke-width:2; stroke-opacity:0.1; fill:none\" points=\"\n  1665.34,1516.89 1665.34,47.2441 \n  \"/>\n<polyline clip-path=\"url(#clip1603)\" style=\"stroke:#000000; stroke-width:2; stroke-opacity:0.1; fill:none\" points=\"\n  2417.31,1516.89 2417.31,47.2441 \n  \"/>\n<polyline clip-path=\"url(#clip1603)\" style=\"stroke:#000000; stroke-width:2; stroke-opacity:0.1; fill:none\" points=\"\n  3169.29,1516.89 3169.29,47.2441 \n  \"/>\n<polyline clip-path=\"url(#clip1603)\" style=\"stroke:#000000; stroke-width:2; stroke-opacity:0.1; fill:none\" points=\"\n  3921.26,1516.89 3921.26,47.2441 \n  \"/>\n<polyline clip-path=\"url(#clip1603)\" style=\"stroke:#000000; stroke-width:2; stroke-opacity:0.1; fill:none\" points=\"\n  161.394,1516.89 3921.26,1516.89 \n  \"/>\n<polyline clip-path=\"url(#clip1603)\" style=\"stroke:#000000; stroke-width:2; stroke-opacity:0.1; fill:none\" points=\"\n  161.394,1222.96 3921.26,1222.96 \n  \"/>\n<polyline clip-path=\"url(#clip1603)\" style=\"stroke:#000000; stroke-width:2; stroke-opacity:0.1; fill:none\" points=\"\n  161.394,929.03 3921.26,929.03 \n  \"/>\n<polyline clip-path=\"url(#clip1603)\" style=\"stroke:#000000; stroke-width:2; stroke-opacity:0.1; fill:none\" points=\"\n  161.394,635.102 3921.26,635.102 \n  \"/>\n<polyline clip-path=\"url(#clip1603)\" style=\"stroke:#000000; stroke-width:2; stroke-opacity:0.1; fill:none\" points=\"\n  161.394,341.173 3921.26,341.173 \n  \"/>\n<polyline clip-path=\"url(#clip1603)\" style=\"stroke:#000000; stroke-width:2; stroke-opacity:0.1; fill:none\" points=\"\n  161.394,47.2441 3921.26,47.2441 \n  \"/>\n<polyline clip-path=\"url(#clip1601)\" style=\"stroke:#000000; stroke-width:4; stroke-opacity:1; fill:none\" points=\"\n  161.394,1516.89 3921.26,1516.89 \n  \"/>\n<polyline clip-path=\"url(#clip1601)\" style=\"stroke:#000000; stroke-width:4; stroke-opacity:1; fill:none\" points=\"\n  161.394,1516.89 161.394,47.2441 \n  \"/>\n<polyline clip-path=\"url(#clip1601)\" style=\"stroke:#000000; stroke-width:4; stroke-opacity:1; fill:none\" points=\"\n  161.394,1516.89 161.394,1494.84 \n  \"/>\n<polyline clip-path=\"url(#clip1601)\" style=\"stroke:#000000; stroke-width:4; stroke-opacity:1; fill:none\" points=\"\n  913.367,1516.89 913.367,1494.84 \n  \"/>\n<polyline clip-path=\"url(#clip1601)\" style=\"stroke:#000000; stroke-width:4; stroke-opacity:1; fill:none\" points=\"\n  1665.34,1516.89 1665.34,1494.84 \n  \"/>\n<polyline clip-path=\"url(#clip1601)\" style=\"stroke:#000000; stroke-width:4; stroke-opacity:1; fill:none\" points=\"\n  2417.31,1516.89 2417.31,1494.84 \n  \"/>\n<polyline clip-path=\"url(#clip1601)\" style=\"stroke:#000000; stroke-width:4; stroke-opacity:1; fill:none\" points=\"\n  3169.29,1516.89 3169.29,1494.84 \n  \"/>\n<polyline clip-path=\"url(#clip1601)\" style=\"stroke:#000000; stroke-width:4; stroke-opacity:1; fill:none\" points=\"\n  3921.26,1516.89 3921.26,1494.84 \n  \"/>\n<polyline clip-path=\"url(#clip1601)\" style=\"stroke:#000000; stroke-width:4; stroke-opacity:1; fill:none\" points=\"\n  161.394,1516.89 217.792,1516.89 \n  \"/>\n<polyline clip-path=\"url(#clip1601)\" style=\"stroke:#000000; stroke-width:4; stroke-opacity:1; fill:none\" points=\"\n  161.394,1222.96 217.792,1222.96 \n  \"/>\n<polyline clip-path=\"url(#clip1601)\" style=\"stroke:#000000; stroke-width:4; stroke-opacity:1; fill:none\" points=\"\n  161.394,929.03 217.792,929.03 \n  \"/>\n<polyline clip-path=\"url(#clip1601)\" style=\"stroke:#000000; stroke-width:4; stroke-opacity:1; fill:none\" points=\"\n  161.394,635.102 217.792,635.102 \n  \"/>\n<polyline clip-path=\"url(#clip1601)\" style=\"stroke:#000000; stroke-width:4; stroke-opacity:1; fill:none\" points=\"\n  161.394,341.173 217.792,341.173 \n  \"/>\n<polyline clip-path=\"url(#clip1601)\" style=\"stroke:#000000; stroke-width:4; stroke-opacity:1; fill:none\" points=\"\n  161.394,47.2441 217.792,47.2441 \n  \"/>\n<g clip-path=\"url(#clip1601)\">\n<text style=\"fill:#000000; fill-opacity:1; font-family:Arial,Helvetica Neue,Helvetica,sans-serif; font-size:48px; text-anchor:middle;\" transform=\"rotate(0, 161.394, 1578.89)\" x=\"161.394\" y=\"1578.89\">0.0</text>\n</g>\n<g clip-path=\"url(#clip1601)\">\n<text style=\"fill:#000000; fill-opacity:1; font-family:Arial,Helvetica Neue,Helvetica,sans-serif; font-size:48px; text-anchor:middle;\" transform=\"rotate(0, 913.367, 1578.89)\" x=\"913.367\" y=\"1578.89\">0.2</text>\n</g>\n<g clip-path=\"url(#clip1601)\">\n<text style=\"fill:#000000; fill-opacity:1; font-family:Arial,Helvetica Neue,Helvetica,sans-serif; font-size:48px; text-anchor:middle;\" transform=\"rotate(0, 1665.34, 1578.89)\" x=\"1665.34\" y=\"1578.89\">0.4</text>\n</g>\n<g clip-path=\"url(#clip1601)\">\n<text style=\"fill:#000000; fill-opacity:1; font-family:Arial,Helvetica Neue,Helvetica,sans-serif; font-size:48px; text-anchor:middle;\" transform=\"rotate(0, 2417.31, 1578.89)\" x=\"2417.31\" y=\"1578.89\">0.6</text>\n</g>\n<g clip-path=\"url(#clip1601)\">\n<text style=\"fill:#000000; fill-opacity:1; font-family:Arial,Helvetica Neue,Helvetica,sans-serif; font-size:48px; text-anchor:middle;\" transform=\"rotate(0, 3169.29, 1578.89)\" x=\"3169.29\" y=\"1578.89\">0.8</text>\n</g>\n<g clip-path=\"url(#clip1601)\">\n<text style=\"fill:#000000; fill-opacity:1; font-family:Arial,Helvetica Neue,Helvetica,sans-serif; font-size:48px; text-anchor:middle;\" transform=\"rotate(0, 3921.26, 1578.89)\" x=\"3921.26\" y=\"1578.89\">1.0</text>\n</g>\n<g clip-path=\"url(#clip1601)\">\n<text style=\"fill:#000000; fill-opacity:1; font-family:Arial,Helvetica Neue,Helvetica,sans-serif; font-size:48px; text-anchor:end;\" transform=\"rotate(0, 121.394, 1534.39)\" x=\"121.394\" y=\"1534.39\">0.0</text>\n</g>\n<g clip-path=\"url(#clip1601)\">\n<text style=\"fill:#000000; fill-opacity:1; font-family:Arial,Helvetica Neue,Helvetica,sans-serif; font-size:48px; text-anchor:end;\" transform=\"rotate(0, 121.394, 1240.46)\" x=\"121.394\" y=\"1240.46\">0.2</text>\n</g>\n<g clip-path=\"url(#clip1601)\">\n<text style=\"fill:#000000; fill-opacity:1; font-family:Arial,Helvetica Neue,Helvetica,sans-serif; font-size:48px; text-anchor:end;\" transform=\"rotate(0, 121.394, 946.53)\" x=\"121.394\" y=\"946.53\">0.4</text>\n</g>\n<g clip-path=\"url(#clip1601)\">\n<text style=\"fill:#000000; fill-opacity:1; font-family:Arial,Helvetica Neue,Helvetica,sans-serif; font-size:48px; text-anchor:end;\" transform=\"rotate(0, 121.394, 652.602)\" x=\"121.394\" y=\"652.602\">0.6</text>\n</g>\n<g clip-path=\"url(#clip1601)\">\n<text style=\"fill:#000000; fill-opacity:1; font-family:Arial,Helvetica Neue,Helvetica,sans-serif; font-size:48px; text-anchor:end;\" transform=\"rotate(0, 121.394, 358.673)\" x=\"121.394\" y=\"358.673\">0.8</text>\n</g>\n<g clip-path=\"url(#clip1601)\">\n<text style=\"fill:#000000; fill-opacity:1; font-family:Arial,Helvetica Neue,Helvetica,sans-serif; font-size:48px; text-anchor:end;\" transform=\"rotate(0, 121.394, 64.7441)\" x=\"121.394\" y=\"64.7441\">1.0</text>\n</g>\n<circle clip-path=\"url(#clip1603)\" style=\"fill:#000000; stroke:none; fill-opacity:1\" cx=\"537.381\" cy=\"648.861\" r=\"18\"/>\n<circle clip-path=\"url(#clip1603)\" style=\"fill:#009af9; stroke:none; fill-opacity:1\" cx=\"537.381\" cy=\"648.861\" r=\"14\"/>\n<circle clip-path=\"url(#clip1603)\" style=\"fill:#000000; stroke:none; fill-opacity:1\" cx=\"871.591\" cy=\"651.952\" r=\"18\"/>\n<circle clip-path=\"url(#clip1603)\" style=\"fill:#009af9; stroke:none; fill-opacity:1\" cx=\"871.591\" cy=\"651.952\" r=\"14\"/>\n<circle clip-path=\"url(#clip1603)\" style=\"fill:#000000; stroke:none; fill-opacity:1\" cx=\"1205.8\" cy=\"1316.11\" r=\"18\"/>\n<circle clip-path=\"url(#clip1603)\" style=\"fill:#009af9; stroke:none; fill-opacity:1\" cx=\"1205.8\" cy=\"1316.11\" r=\"14\"/>\n<circle clip-path=\"url(#clip1603)\" style=\"fill:#000000; stroke:none; fill-opacity:1\" cx=\"1540.01\" cy=\"791.59\" r=\"18\"/>\n<circle clip-path=\"url(#clip1603)\" style=\"fill:#009af9; stroke:none; fill-opacity:1\" cx=\"1540.01\" cy=\"791.59\" r=\"14\"/>\n<circle clip-path=\"url(#clip1603)\" style=\"fill:#000000; stroke:none; fill-opacity:1\" cx=\"1874.22\" cy=\"724.198\" r=\"18\"/>\n<circle clip-path=\"url(#clip1603)\" style=\"fill:#009af9; stroke:none; fill-opacity:1\" cx=\"1874.22\" cy=\"724.198\" r=\"14\"/>\n<circle clip-path=\"url(#clip1603)\" style=\"fill:#000000; stroke:none; fill-opacity:1\" cx=\"2208.43\" cy=\"765.205\" r=\"18\"/>\n<circle clip-path=\"url(#clip1603)\" style=\"fill:#009af9; stroke:none; fill-opacity:1\" cx=\"2208.43\" cy=\"765.205\" r=\"14\"/>\n<circle clip-path=\"url(#clip1603)\" style=\"fill:#000000; stroke:none; fill-opacity:1\" cx=\"2542.64\" cy=\"405.487\" r=\"18\"/>\n<circle clip-path=\"url(#clip1603)\" style=\"fill:#009af9; stroke:none; fill-opacity:1\" cx=\"2542.64\" cy=\"405.487\" r=\"14\"/>\n<circle clip-path=\"url(#clip1603)\" style=\"fill:#000000; stroke:none; fill-opacity:1\" cx=\"2876.85\" cy=\"613.529\" r=\"18\"/>\n<circle clip-path=\"url(#clip1603)\" style=\"fill:#009af9; stroke:none; fill-opacity:1\" cx=\"2876.85\" cy=\"613.529\" r=\"14\"/>\n<circle clip-path=\"url(#clip1603)\" style=\"fill:#000000; stroke:none; fill-opacity:1\" cx=\"3211.06\" cy=\"429.68\" r=\"18\"/>\n<circle clip-path=\"url(#clip1603)\" style=\"fill:#009af9; stroke:none; fill-opacity:1\" cx=\"3211.06\" cy=\"429.68\" r=\"14\"/>\n<circle clip-path=\"url(#clip1603)\" style=\"fill:#000000; stroke:none; fill-opacity:1\" cx=\"3545.27\" cy=\"807.141\" r=\"18\"/>\n<circle clip-path=\"url(#clip1603)\" style=\"fill:#009af9; stroke:none; fill-opacity:1\" cx=\"3545.27\" cy=\"807.141\" r=\"14\"/>\n<polygon clip-path=\"url(#clip1603)\" points=\"\n161.394,1088.25 180.288,1083.04 199.182,1076.66 218.075,1068.93 236.969,1059.67 255.863,1048.71 274.757,1035.87 293.651,1021 312.544,1003.97 331.438,984.671 \n  350.332,963.047 369.226,939.083 388.12,912.818 407.013,884.349 425.907,853.838 444.801,821.513 463.695,787.669 482.589,752.671 501.482,716.946 520.376,680.984 \n  539.27,649.758 558.164,657.799 577.058,664.033 595.951,668.325 614.845,670.614 633.739,670.921 652.633,669.363 671.527,666.147 690.42,661.581 709.314,656.061 \n  728.208,650.067 747.102,644.151 765.996,638.92 784.889,635.015 803.783,633.092 822.677,633.796 841.571,637.733 860.465,645.45 879.358,672.437 898.252,724.913 \n  917.146,780.432 936.04,838.037 954.934,896.699 973.827,955.343 992.721,1012.87 1011.61,1068.2 1030.51,1120.27 1049.4,1168.1 1068.3,1210.79 1087.19,1247.55 \n  1106.08,1277.73 1124.98,1300.86 1143.87,1316.61 1162.77,1324.85 1181.66,1325.62 1200.55,1319.14 1219.45,1331.63 1238.34,1346.94 1257.23,1354.73 1276.13,1354.77 \n  1295.02,1347.02 1313.92,1331.61 1332.81,1308.87 1351.7,1279.26 1370.6,1243.41 1389.49,1202.08 1408.38,1156.15 1427.28,1106.55 1446.17,1054.31 1465.07,1000.48 \n  1483.96,946.11 1502.85,892.244 1521.75,839.885 1540.64,791.167 1559.54,780.105 1578.43,771.966 1597.32,766.326 1616.22,762.716 1635.11,760.638 1654,759.598 \n  1672.9,759.122 1691.79,758.78 1710.69,758.205 1729.58,757.1 1748.47,755.257 1767.37,752.556 1786.26,748.967 1805.15,744.549 1824.05,739.437 1842.94,733.837 \n  1861.84,728.006 1880.73,734.537 1899.62,764.426 1918.52,793.498 1937.41,820.977 1956.3,846.13 1975.2,868.277 1994.09,886.81 2012.99,901.203 2031.88,911.023 \n  2050.77,915.94 2069.67,915.734 2088.56,910.303 2107.46,899.66 2126.35,883.942 2145.24,863.402 2164.14,838.406 2183.03,809.428 2201.92,777.036 2220.82,765.257 \n  2239.71,763.008 2258.61,757.665 2277.5,748.999 2296.39,736.885 2315.29,721.314 2334.18,702.396 2353.07,680.363 2371.97,655.564 2390.86,628.454 2409.76,599.587 \n  2428.65,569.595 2447.54,539.171 2466.44,509.047 2485.33,479.966 2504.22,452.666 2523.12,427.846 2542.01,406.15 2560.91,422.524 2579.8,443.161 2598.69,466.131 \n  2617.59,490.638 2636.48,515.85 2655.38,540.923 2674.27,565.026 2693.16,587.371 2712.06,607.23 2730.95,623.965 2749.84,637.038 2768.74,646.034 2787.63,650.673 \n  2806.53,650.815 2825.42,646.464 2844.31,637.771 2863.21,625.024 2882.1,618.595 2900.99,634.585 2919.89,646.714 2938.78,654.627 2957.68,658.108 2976.57,657.079 \n  2995.46,651.607 3014.36,641.902 3033.25,628.31 3052.15,611.302 3071.04,591.461 3089.93,569.463 3108.83,546.058 3127.72,522.044 3146.61,498.248 3165.51,475.496 \n  3184.4,454.59 3203.3,436.287 3222.19,442.85 3241.08,467.9 3259.98,495.801 3278.87,525.878 3297.76,557.403 3316.66,589.622 3335.55,621.774 3354.45,653.118 \n  3373.34,682.951 3392.23,710.63 3411.13,735.591 3430.02,757.356 3448.91,775.552 3467.81,789.913 3486.7,800.282 3505.6,806.613 3524.49,808.964 3543.38,807.49 \n  3562.28,843.306 3581.17,881.948 3600.07,918.532 3618.96,952.683 3637.85,984.106 3656.75,1012.59 3675.64,1038 3694.53,1060.28 3713.43,1079.46 3732.32,1095.62 \n  3751.22,1108.9 3770.11,1119.5 3789,1127.64 3807.9,1133.58 3826.79,1137.57 3845.68,1139.91 3864.58,1140.86 3883.47,1140.67 3902.37,1139.61 3921.26,1137.9 \n  3921.26,512.394 3902.37,521.798 3883.47,532.376 3864.58,544.18 3845.68,557.238 3826.79,571.548 3807.9,587.076 3789,603.744 3770.11,621.433 3751.22,639.971 \n  3732.32,659.141 3713.43,678.669 3694.53,698.238 3675.64,717.484 3656.75,736.006 3637.85,753.375 3618.96,769.145 3600.07,782.866 3581.17,794.099 3562.28,802.43 \n  3543.38,803.058 3524.49,761.725 3505.6,719.888 3486.7,678.17 3467.81,637.231 3448.91,597.739 3430.02,560.363 3411.13,525.746 3392.23,494.49 3373.34,467.135 \n  3354.45,444.143 3335.55,425.878 3316.66,412.599 3297.76,404.442 3278.87,401.417 3259.98,403.402 3241.08,410.146 3222.19,421.273 3203.3,421.256 3184.4,403.629 \n  3165.51,390.372 3146.61,381.766 3127.72,377.959 3108.83,378.963 3089.93,384.648 3071.04,394.752 3052.15,408.88 3033.25,426.523 3014.36,447.068 2995.46,469.817 \n  2976.57,494.012 2957.68,518.853 2938.78,543.523 2919.89,567.217 2900.99,589.162 2882.1,608.643 2863.21,599.219 2844.31,577.042 2825.42,552.74 2806.53,527.058 \n  2787.63,500.786 2768.74,474.738 2749.84,449.724 2730.95,426.528 2712.06,405.88 2693.16,388.438 2674.27,374.766 2655.38,365.317 2636.48,360.418 2617.59,360.265 \n  2598.69,364.913 2579.8,374.277 2560.91,388.139 2542.01,404.958 2523.12,391.119 2504.22,381.56 2485.33,376.722 2466.44,376.912 2447.54,382.305 2428.65,392.932 \n  2409.76,408.686 2390.86,429.321 2371.97,454.462 2353.07,483.62 2334.18,516.2 2315.29,551.523 2296.39,588.839 2277.5,627.355 2258.61,666.25 2239.71,704.697 \n  2220.82,741.885 2201.92,764.736 2183.03,761.841 2164.14,757.031 2145.24,750.799 2126.35,743.653 2107.46,736.099 2088.56,728.614 2069.67,721.635 2050.77,715.537 \n  2031.88,710.62 2012.99,707.104 1994.09,705.122 1975.2,704.716 1956.3,705.841 1937.41,708.374 1918.52,712.123 1899.62,716.84 1880.73,722.237 1861.84,704.634 \n  1842.94,675.527 1824.05,648.022 1805.15,622.905 1786.26,600.921 1767.37,582.764 1748.47,569.061 1729.58,560.357 1710.69,557.103 1691.79,559.647 1672.9,568.221 \n  1654,582.935 1635.11,603.771 1616.22,630.581 1597.32,663.082 1578.43,700.86 1559.54,743.378 1540.64,789.975 1521.75,805.5 1502.85,823.361 1483.96,844.892 \n  1465.07,870.107 1446.17,898.881 1427.28,930.946 1408.38,965.886 1389.49,1003.15 1370.6,1042.06 1351.7,1081.82 1332.81,1121.55 1313.92,1160.32 1295.02,1197.13 \n  1276.13,1231.01 1257.23,1261 1238.34,1286.21 1219.45,1305.82 1200.55,1309.19 1181.66,1280.19 1162.77,1245.35 1143.87,1205.51 1124.98,1161.61 1106.08,1114.67 \n  1087.19,1065.76 1068.3,1015.95 1049.4,966.316 1030.51,917.853 1011.61,871.492 992.721,828.058 973.827,788.247 954.934,752.613 936.04,721.554 917.146,695.308 \n  898.252,673.951 879.358,657.406 860.465,623.872 841.571,579.979 822.677,541.396 803.783,508.631 784.889,482.054 765.996,461.897 747.102,448.256 728.208,441.092 \n  709.314,440.245 690.42,445.44 671.527,456.302 652.633,472.369 633.739,493.108 614.845,517.931 595.951,546.213 577.058,577.307 558.164,610.56 539.27,645.326 \n  520.376,640.108 501.482,629.097 482.589,617.004 463.695,604.131 444.801,590.782 425.907,577.257 407.013,563.838 388.12,550.777 369.226,538.294 350.332,526.568 \n  331.438,515.738 312.544,505.898 293.651,497.104 274.757,489.372 255.863,482.686 236.969,477.002 218.075,472.253 199.182,468.357 180.288,465.22 161.394,462.746 \n  \n  \" fill=\"#e26f46\" fill-rule=\"evenodd\" fill-opacity=\"0.5\"/>\n<polyline clip-path=\"url(#clip1603)\" style=\"stroke:#e26f46; stroke-width:4; stroke-opacity:1; fill:none\" points=\"\n  161.394,775.497 180.288,774.128 199.182,772.506 218.075,770.59 236.969,768.337 255.863,765.699 274.757,762.623 293.651,759.054 312.544,754.934 331.438,750.204 \n  350.332,744.808 369.226,738.689 388.12,731.798 407.013,724.094 425.907,715.548 444.801,706.147 463.695,695.9 482.589,684.838 501.482,673.022 520.376,660.546 \n  539.27,647.542 558.164,634.179 577.058,620.67 595.951,607.269 614.845,594.272 633.739,582.015 652.633,570.866 671.527,561.225 690.42,553.511 709.314,548.153 \n  728.208,545.58 747.102,546.203 765.996,550.409 784.889,558.535 803.783,570.862 822.677,587.596 841.571,608.856 860.465,634.661 879.358,664.921 898.252,699.432 \n  917.146,737.87 936.04,779.796 954.934,824.656 973.827,871.795 992.721,920.466 1011.61,969.847 1030.51,1019.06 1049.4,1067.21 1068.3,1113.37 1087.19,1156.65 \n  1106.08,1196.2 1124.98,1231.23 1143.87,1261.06 1162.77,1285.1 1181.66,1302.91 1200.55,1314.17 1219.45,1318.72 1238.34,1316.58 1257.23,1307.87 1276.13,1292.89 \n  1295.02,1272.07 1313.92,1245.96 1332.81,1215.21 1351.7,1180.54 1370.6,1142.73 1389.49,1102.62 1408.38,1061.02 1427.28,1018.75 1446.17,976.597 1465.07,935.294 \n  1483.96,895.501 1502.85,857.803 1521.75,822.693 1540.64,790.571 1559.54,761.742 1578.43,736.413 1597.32,714.704 1616.22,696.648 1635.11,682.205 1654,671.266 \n  1672.9,663.671 1691.79,659.214 1710.69,657.654 1729.58,658.729 1748.47,662.159 1767.37,667.66 1786.26,674.944 1805.15,683.727 1824.05,693.73 1842.94,704.682 \n  1861.84,716.32 1880.73,728.387 1899.62,740.633 1918.52,752.81 1937.41,764.676 1956.3,775.985 1975.2,786.496 1994.09,795.966 2012.99,804.154 2031.88,810.822 \n  2050.77,815.738 2069.67,818.685 2088.56,819.458 2107.46,817.879 2126.35,813.797 2145.24,807.1 2164.14,797.719 2183.03,785.635 2201.92,770.886 2220.82,753.571 \n  2239.71,733.853 2258.61,711.958 2277.5,688.177 2296.39,662.862 2315.29,636.418 2334.18,609.298 2353.07,581.992 2371.97,555.013 2390.86,528.887 2409.76,504.136 \n  2428.65,481.264 2447.54,460.738 2466.44,442.979 2485.33,428.344 2504.22,417.113 2523.12,409.483 2542.01,405.554 2560.91,405.331 2579.8,408.719 2598.69,415.522 \n  2617.59,425.452 2636.48,438.134 2655.38,453.12 2674.27,469.896 2693.16,487.905 2712.06,506.555 2730.95,525.246 2749.84,543.381 2768.74,560.386 2787.63,575.73 \n  2806.53,588.936 2825.42,599.602 2844.31,607.407 2863.21,612.121 2882.1,613.619 2900.99,611.873 2919.89,606.965 2938.78,599.075 2957.68,588.481 2976.57,575.546 \n  2995.46,560.712 3014.36,544.485 3033.25,527.416 3052.15,510.091 3071.04,493.106 3089.93,477.056 3108.83,462.51 3127.72,450.002 3146.61,440.007 3165.51,432.934 \n  3184.4,429.11 3203.3,428.771 3222.19,432.062 3241.08,439.023 3259.98,449.602 3278.87,463.647 3297.76,480.923 3316.66,501.111 3335.55,523.826 3354.45,548.63 \n  3373.34,575.043 3392.23,602.56 3411.13,630.668 3430.02,658.859 3448.91,686.646 3467.81,713.572 3486.7,739.226 3505.6,763.25 3524.49,785.345 3543.38,805.274 \n  3562.28,822.868 3581.17,838.023 3600.07,850.699 3618.96,860.914 3637.85,868.74 3656.75,874.296 3675.64,877.74 3694.53,879.259 3713.43,879.064 3732.32,877.38 \n  3751.22,874.438 3770.11,870.468 3789,865.694 3807.9,860.327 3826.79,854.561 3845.68,848.574 3864.58,842.518 3883.47,836.526 3902.37,830.706 3921.26,825.145 \n  \n  \"/>\n<polygon clip-path=\"url(#clip1601)\" points=\"\n3016.05,408.204 3801.26,408.204 3801.26,226.764 3016.05,226.764 \n  \" fill=\"#ffffff\" fill-rule=\"evenodd\" fill-opacity=\"1\"/>\n<polyline clip-path=\"url(#clip1601)\" style=\"stroke:#000000; stroke-width:4; stroke-opacity:1; fill:none\" points=\"\n  3016.05,408.204 3801.26,408.204 3801.26,226.764 3016.05,226.764 3016.05,408.204 \n  \"/>\n<circle clip-path=\"url(#clip1601)\" style=\"fill:#000000; stroke:none; fill-opacity:1\" cx=\"3196.05\" cy=\"287.244\" r=\"25\"/>\n<circle clip-path=\"url(#clip1601)\" style=\"fill:#009af9; stroke:none; fill-opacity:1\" cx=\"3196.05\" cy=\"287.244\" r=\"21\"/>\n<g clip-path=\"url(#clip1601)\">\n<text style=\"fill:#000000; fill-opacity:1; font-family:Arial,Helvetica Neue,Helvetica,sans-serif; font-size:48px; text-anchor:start;\" transform=\"rotate(0, 3336.05, 304.744)\" x=\"3336.05\" y=\"304.744\">data</text>\n</g>\n<polyline clip-path=\"url(#clip1601)\" style=\"stroke:#e26f46; stroke-width:4; stroke-opacity:1; fill:none\" points=\"\n  3056.05,347.724 3296.05,347.724 \n  \"/>\n<g clip-path=\"url(#clip1601)\">\n<text style=\"fill:#000000; fill-opacity:1; font-family:Arial,Helvetica Neue,Helvetica,sans-serif; font-size:48px; text-anchor:start;\" transform=\"rotate(0, 3336.05, 365.224)\" x=\"3336.05\" y=\"365.224\">Gaussian process</text>\n</g>\n</svg>\n"
               },
               "type": "node"
              }
             ],
             "instanceArgs": {
              "namespace": "html",
              "tag": "div"
             },
             "nodeType": "DOM",
             "props": {
              "attributes": {
               "style": "display:flex; justify-content:center; align-items:center;"
              }
             },
             "type": "node"
            }
           }
          },
          "systemjs_options": null
         },
         "nodeType": "Scope",
         "props": {},
         "type": "node"
        }
       ],
       "instanceArgs": {
        "namespace": "html",
        "tag": "div"
       },
       "nodeType": "DOM",
       "props": {},
       "type": "node"
      },
      "text/html": [
       "<div\n",
       "    class=\"webio-mountpoint\"\n",
       "    data-webio-mountpoint=\"3213065159442414490\"\n",
       ">\n",
       "    <script>\n",
       "    if (window.require && require.defined && require.defined(\"nbextensions/webio/main\")) {\n",
       "        console.log(\"Jupyter WebIO extension detected, not mounting.\");\n",
       "    } else if (window.WebIO) {\n",
       "        WebIO.mount(\n",
       "            document.querySelector('[data-webio-mountpoint=\"3213065159442414490\"]'),\n",
       "            {\"props\":{},\"nodeType\":\"DOM\",\"type\":\"node\",\"instanceArgs\":{\"namespace\":\"html\",\"tag\":\"div\"},\"children\":[{\"props\":{\"className\":\"field\"},\"nodeType\":\"DOM\",\"type\":\"node\",\"instanceArgs\":{\"namespace\":\"html\",\"tag\":\"div\"},\"children\":[{\"props\":{},\"nodeType\":\"Scope\",\"type\":\"node\",\"instanceArgs\":{\"imports\":{\"data\":[{\"name\":\"knockout\",\"type\":\"js\",\"url\":\"\\/assetserver\\/12fd8e1ff6f17c03b96dfdacbbef8267e1e89a3a-knockout.js\"},{\"name\":\"knockout_punches\",\"type\":\"js\",\"url\":\"\\/assetserver\\/6a01192897ccbdaf17e62e31d476c829b44592c2-knockout_punches.js\"},{\"name\":null,\"type\":\"js\",\"url\":\"\\/assetserver\\/7eafee0b34b6bcd2c7a521df5846c6418f5603af-all.js\"},{\"name\":null,\"type\":\"css\",\"url\":\"\\/assetserver\\/2994e4d83a225d257863de5c164dd41773eb711b-style.css\"},{\"name\":null,\"type\":\"css\",\"url\":\"\\/assetserver\\/6b7df7a83458e68eec729d7ee80622dc21ed3a7e-main.css\"}],\"type\":\"async_block\"},\"id\":\"knockout-component-28829b74-56c3-4a39-833a-a5705654e543\",\"handlers\":{\"formatted_vals\":[\"(function (val){return (val!=this.model[\\\"formatted_vals\\\"]()) ? (this.valueFromJulia[\\\"formatted_vals\\\"]=true, this.model[\\\"formatted_vals\\\"](val)) : undefined})\"],\"_promises\":{\"importsLoaded\":[\"function (ko, koPunches) {\\n    ko.punches.enableAll();\\n    ko.bindingHandlers.numericValue = {\\n        init : function(element, valueAccessor, allBindings, data, context) {\\n            var stringified = ko.observable(ko.unwrap(valueAccessor()));\\n            stringified.subscribe(function(value) {\\n                var val = parseFloat(value);\\n                if (!isNaN(val)) {\\n                    valueAccessor()(val);\\n                }\\n            })\\n            valueAccessor().subscribe(function(value) {\\n                var str = JSON.stringify(value);\\n                if ((str == \\\"0\\\") && ([\\\"-0\\\", \\\"-0.\\\"].indexOf(stringified()) >= 0))\\n                     return;\\n                 if ([\\\"null\\\", \\\"\\\"].indexOf(str) >= 0)\\n                     return;\\n                stringified(str);\\n            })\\n            ko.applyBindingsToNode(element, { value: stringified, valueUpdate: allBindings.get('valueUpdate')}, context);\\n        }\\n    };\\n    var json_data = JSON.parse(\\\"{\\\\\\\"formatted_vals\\\\\\\":[\\\\\\\"0.0\\\\\\\",\\\\\\\"0.00204082\\\\\\\",\\\\\\\"0.00408163\\\\\\\",\\\\\\\"0.00612245\\\\\\\",\\\\\\\"0.00816327\\\\\\\",\\\\\\\"0.0102041\\\\\\\",\\\\\\\"0.0122449\\\\\\\",\\\\\\\"0.0142857\\\\\\\",\\\\\\\"0.0163265\\\\\\\",\\\\\\\"0.0183673\\\\\\\",\\\\\\\"0.0204082\\\\\\\",\\\\\\\"0.022449\\\\\\\",\\\\\\\"0.0244898\\\\\\\",\\\\\\\"0.0265306\\\\\\\",\\\\\\\"0.0285714\\\\\\\",\\\\\\\"0.0306122\\\\\\\",\\\\\\\"0.0326531\\\\\\\",\\\\\\\"0.0346939\\\\\\\",\\\\\\\"0.0367347\\\\\\\",\\\\\\\"0.0387755\\\\\\\",\\\\\\\"0.0408163\\\\\\\",\\\\\\\"0.0428571\\\\\\\",\\\\\\\"0.044898\\\\\\\",\\\\\\\"0.0469388\\\\\\\",\\\\\\\"0.0489796\\\\\\\",\\\\\\\"0.0510204\\\\\\\",\\\\\\\"0.0530612\\\\\\\",\\\\\\\"0.055102\\\\\\\",\\\\\\\"0.0571429\\\\\\\",\\\\\\\"0.0591837\\\\\\\",\\\\\\\"0.0612245\\\\\\\",\\\\\\\"0.0632653\\\\\\\",\\\\\\\"0.0653061\\\\\\\",\\\\\\\"0.0673469\\\\\\\",\\\\\\\"0.0693878\\\\\\\",\\\\\\\"0.0714286\\\\\\\",\\\\\\\"0.0734694\\\\\\\",\\\\\\\"0.0755102\\\\\\\",\\\\\\\"0.077551\\\\\\\",\\\\\\\"0.0795918\\\\\\\",\\\\\\\"0.0816327\\\\\\\",\\\\\\\"0.0836735\\\\\\\",\\\\\\\"0.0857143\\\\\\\",\\\\\\\"0.0877551\\\\\\\",\\\\\\\"0.0897959\\\\\\\",\\\\\\\"0.0918367\\\\\\\",\\\\\\\"0.0938776\\\\\\\",\\\\\\\"0.0959184\\\\\\\",\\\\\\\"0.0979592\\\\\\\",\\\\\\\"0.1\\\\\\\"],\\\\\\\"changes\\\\\\\":0,\\\\\\\"formatted_value\\\\\\\":\\\\\\\"0.0489796\\\\\\\",\\\\\\\"index\\\\\\\":25}\\\");\\n    var self = this;\\n    function AppViewModel() {\\n        for (var key in json_data) {\\n            var el = json_data[key];\\n            this[key] = Array.isArray(el) ? ko.observableArray(el) : ko.observable(el);\\n        }\\n        \\n        \\n        [this[\\\"formatted_vals\\\"].subscribe((function (val){!(this.valueFromJulia[\\\"formatted_vals\\\"]) ? (_webIOScope.setObservableValue({\\\"name\\\":\\\"formatted_vals\\\",\\\"scope\\\":\\\"knockout-component-28829b74-56c3-4a39-833a-a5705654e543\\\",\\\"id\\\":\\\"ob_03\\\",\\\"type\\\":\\\"observable\\\"},val)) : undefined; return this.valueFromJulia[\\\"formatted_vals\\\"]=false}),self),this[\\\"changes\\\"].subscribe((function (val){!(this.valueFromJulia[\\\"changes\\\"]) ? (_webIOScope.setObservableValue({\\\"name\\\":\\\"changes\\\",\\\"scope\\\":\\\"knockout-component-28829b74-56c3-4a39-833a-a5705654e543\\\",\\\"id\\\":\\\"ob_05\\\",\\\"type\\\":\\\"observable\\\"},val)) : undefined; return this.valueFromJulia[\\\"changes\\\"]=false}),self),this[\\\"formatted_value\\\"].subscribe((function (val){!(this.valueFromJulia[\\\"formatted_value\\\"]) ? (_webIOScope.setObservableValue({\\\"name\\\":\\\"formatted_value\\\",\\\"scope\\\":\\\"knockout-component-28829b74-56c3-4a39-833a-a5705654e543\\\",\\\"id\\\":\\\"ob_04\\\",\\\"type\\\":\\\"observable\\\"},val)) : undefined; return this.valueFromJulia[\\\"formatted_value\\\"]=false}),self),this[\\\"index\\\"].subscribe((function (val){!(this.valueFromJulia[\\\"index\\\"]) ? (_webIOScope.setObservableValue({\\\"name\\\":\\\"index\\\",\\\"scope\\\":\\\"knockout-component-28829b74-56c3-4a39-833a-a5705654e543\\\",\\\"id\\\":\\\"ob_02\\\",\\\"type\\\":\\\"observable\\\"},val)) : undefined; return this.valueFromJulia[\\\"index\\\"]=false}),self)]\\n        \\n    }\\n    self.model = new AppViewModel();\\n    self.valueFromJulia = {};\\n    for (var key in json_data) {\\n        self.valueFromJulia[key] = false;\\n    }\\n    ko.applyBindings(self.model, self.dom);\\n}\\n\"]},\"changes\":[\"(function (val){return (val!=this.model[\\\"changes\\\"]()) ? (this.valueFromJulia[\\\"changes\\\"]=true, this.model[\\\"changes\\\"](val)) : undefined})\"],\"formatted_value\":[\"(function (val){return (val!=this.model[\\\"formatted_value\\\"]()) ? (this.valueFromJulia[\\\"formatted_value\\\"]=true, this.model[\\\"formatted_value\\\"](val)) : undefined})\"],\"index\":[\"(function (val){return (val!=this.model[\\\"index\\\"]()) ? (this.valueFromJulia[\\\"index\\\"]=true, this.model[\\\"index\\\"](val)) : undefined})\",\"(function (val){return _webIOScope.setObservableValue({\\\"name\\\":\\\"formatted_value\\\",\\\"scope\\\":\\\"knockout-component-28829b74-56c3-4a39-833a-a5705654e543\\\",\\\"id\\\":\\\"ob_04\\\",\\\"type\\\":\\\"observable\\\"},_webIOScope.getObservableValue({\\\"name\\\":\\\"formatted_vals\\\",\\\"scope\\\":\\\"knockout-component-28829b74-56c3-4a39-833a-a5705654e543\\\",\\\"id\\\":\\\"ob_03\\\",\\\"type\\\":\\\"observable\\\"})[(_webIOScope.getObservableValue({\\\"name\\\":\\\"index\\\",\\\"scope\\\":\\\"knockout-component-28829b74-56c3-4a39-833a-a5705654e543\\\",\\\"id\\\":\\\"ob_02\\\",\\\"type\\\":\\\"observable\\\"})-1)])})\"]},\"systemjs_options\":null,\"observables\":{\"formatted_vals\":{\"sync\":false,\"id\":\"ob_03\",\"value\":[\"0.0\",\"0.00204082\",\"0.00408163\",\"0.00612245\",\"0.00816327\",\"0.0102041\",\"0.0122449\",\"0.0142857\",\"0.0163265\",\"0.0183673\",\"0.0204082\",\"0.022449\",\"0.0244898\",\"0.0265306\",\"0.0285714\",\"0.0306122\",\"0.0326531\",\"0.0346939\",\"0.0367347\",\"0.0387755\",\"0.0408163\",\"0.0428571\",\"0.044898\",\"0.0469388\",\"0.0489796\",\"0.0510204\",\"0.0530612\",\"0.055102\",\"0.0571429\",\"0.0591837\",\"0.0612245\",\"0.0632653\",\"0.0653061\",\"0.0673469\",\"0.0693878\",\"0.0714286\",\"0.0734694\",\"0.0755102\",\"0.077551\",\"0.0795918\",\"0.0816327\",\"0.0836735\",\"0.0857143\",\"0.0877551\",\"0.0897959\",\"0.0918367\",\"0.0938776\",\"0.0959184\",\"0.0979592\",\"0.1\"]},\"changes\":{\"sync\":false,\"id\":\"ob_05\",\"value\":0},\"formatted_value\":{\"sync\":false,\"id\":\"ob_04\",\"value\":\"0.0489796\"},\"index\":{\"sync\":true,\"id\":\"ob_02\",\"value\":25}}},\"children\":[{\"props\":{\"attributes\":{\"style\":\"display:flex; justify-content:center; align-items:center;\"}},\"nodeType\":\"DOM\",\"type\":\"node\",\"instanceArgs\":{\"namespace\":\"html\",\"tag\":\"div\"},\"children\":[{\"props\":{\"attributes\":{\"style\":\"text-align:right;width:18%\"}},\"nodeType\":\"DOM\",\"type\":\"node\",\"instanceArgs\":{\"namespace\":\"html\",\"tag\":\"div\"},\"children\":[{\"props\":{\"className\":\"interact \",\"style\":{\"padding\":\"5px 10px 0px 10px\"}},\"nodeType\":\"DOM\",\"type\":\"node\",\"instanceArgs\":{\"namespace\":\"html\",\"tag\":\"label\"},\"children\":[\"s\"]}]},{\"props\":{\"attributes\":{\"style\":\"flex-grow:1; margin: 0 2%\"}},\"nodeType\":\"DOM\",\"type\":\"node\",\"instanceArgs\":{\"namespace\":\"html\",\"tag\":\"div\"},\"children\":[{\"props\":{\"max\":50,\"min\":1,\"attributes\":{\"type\":\"range\",\"data-bind\":\"numericValue: index, valueUpdate: 'input', event: {change : function () {this.changes(this.changes()+1)}}\",\"orient\":\"horizontal\"},\"step\":1,\"className\":\"slider slider is-fullwidth\",\"style\":{}},\"nodeType\":\"DOM\",\"type\":\"node\",\"instanceArgs\":{\"namespace\":\"html\",\"tag\":\"input\"},\"children\":[]}]},{\"props\":{\"attributes\":{\"style\":\"width:18%\"}},\"nodeType\":\"DOM\",\"type\":\"node\",\"instanceArgs\":{\"namespace\":\"html\",\"tag\":\"div\"},\"children\":[{\"props\":{\"attributes\":{\"data-bind\":\"text: formatted_value\"}},\"nodeType\":\"DOM\",\"type\":\"node\",\"instanceArgs\":{\"namespace\":\"html\",\"tag\":\"p\"},\"children\":[]}]}]}]}]},{\"props\":{\"className\":\"field\"},\"nodeType\":\"DOM\",\"type\":\"node\",\"instanceArgs\":{\"namespace\":\"html\",\"tag\":\"div\"},\"children\":[{\"props\":{},\"nodeType\":\"Scope\",\"type\":\"node\",\"instanceArgs\":{\"imports\":{\"data\":[{\"name\":\"knockout\",\"type\":\"js\",\"url\":\"\\/assetserver\\/12fd8e1ff6f17c03b96dfdacbbef8267e1e89a3a-knockout.js\"},{\"name\":\"knockout_punches\",\"type\":\"js\",\"url\":\"\\/assetserver\\/6a01192897ccbdaf17e62e31d476c829b44592c2-knockout_punches.js\"},{\"name\":null,\"type\":\"js\",\"url\":\"\\/assetserver\\/7eafee0b34b6bcd2c7a521df5846c6418f5603af-all.js\"},{\"name\":null,\"type\":\"css\",\"url\":\"\\/assetserver\\/2994e4d83a225d257863de5c164dd41773eb711b-style.css\"},{\"name\":null,\"type\":\"css\",\"url\":\"\\/assetserver\\/6b7df7a83458e68eec729d7ee80622dc21ed3a7e-main.css\"}],\"type\":\"async_block\"},\"id\":\"knockout-component-5fa11a31-6fc6-47ae-ac54-be9c8efb2b50\",\"handlers\":{\"formatted_vals\":[\"(function (val){return (val!=this.model[\\\"formatted_vals\\\"]()) ? (this.valueFromJulia[\\\"formatted_vals\\\"]=true, this.model[\\\"formatted_vals\\\"](val)) : undefined})\"],\"_promises\":{\"importsLoaded\":[\"function (ko, koPunches) {\\n    ko.punches.enableAll();\\n    ko.bindingHandlers.numericValue = {\\n        init : function(element, valueAccessor, allBindings, data, context) {\\n            var stringified = ko.observable(ko.unwrap(valueAccessor()));\\n            stringified.subscribe(function(value) {\\n                var val = parseFloat(value);\\n                if (!isNaN(val)) {\\n                    valueAccessor()(val);\\n                }\\n            })\\n            valueAccessor().subscribe(function(value) {\\n                var str = JSON.stringify(value);\\n                if ((str == \\\"0\\\") && ([\\\"-0\\\", \\\"-0.\\\"].indexOf(stringified()) >= 0))\\n                     return;\\n                 if ([\\\"null\\\", \\\"\\\"].indexOf(str) >= 0)\\n                     return;\\n                stringified(str);\\n            })\\n            ko.applyBindingsToNode(element, { value: stringified, valueUpdate: allBindings.get('valueUpdate')}, context);\\n        }\\n    };\\n    var json_data = JSON.parse(\\\"{\\\\\\\"formatted_vals\\\\\\\":[\\\\\\\"0.1\\\\\\\",\\\\\\\"0.102041\\\\\\\",\\\\\\\"0.104082\\\\\\\",\\\\\\\"0.106122\\\\\\\",\\\\\\\"0.108163\\\\\\\",\\\\\\\"0.110204\\\\\\\",\\\\\\\"0.112245\\\\\\\",\\\\\\\"0.114286\\\\\\\",\\\\\\\"0.116327\\\\\\\",\\\\\\\"0.118367\\\\\\\",\\\\\\\"0.120408\\\\\\\",\\\\\\\"0.122449\\\\\\\",\\\\\\\"0.12449\\\\\\\",\\\\\\\"0.126531\\\\\\\",\\\\\\\"0.128571\\\\\\\",\\\\\\\"0.130612\\\\\\\",\\\\\\\"0.132653\\\\\\\",\\\\\\\"0.134694\\\\\\\",\\\\\\\"0.136735\\\\\\\",\\\\\\\"0.138776\\\\\\\",\\\\\\\"0.140816\\\\\\\",\\\\\\\"0.142857\\\\\\\",\\\\\\\"0.144898\\\\\\\",\\\\\\\"0.146939\\\\\\\",\\\\\\\"0.14898\\\\\\\",\\\\\\\"0.15102\\\\\\\",\\\\\\\"0.153061\\\\\\\",\\\\\\\"0.155102\\\\\\\",\\\\\\\"0.157143\\\\\\\",\\\\\\\"0.159184\\\\\\\",\\\\\\\"0.161224\\\\\\\",\\\\\\\"0.163265\\\\\\\",\\\\\\\"0.165306\\\\\\\",\\\\\\\"0.167347\\\\\\\",\\\\\\\"0.169388\\\\\\\",\\\\\\\"0.171429\\\\\\\",\\\\\\\"0.173469\\\\\\\",\\\\\\\"0.17551\\\\\\\",\\\\\\\"0.177551\\\\\\\",\\\\\\\"0.179592\\\\\\\",\\\\\\\"0.181633\\\\\\\",\\\\\\\"0.183673\\\\\\\",\\\\\\\"0.185714\\\\\\\",\\\\\\\"0.187755\\\\\\\",\\\\\\\"0.189796\\\\\\\",\\\\\\\"0.191837\\\\\\\",\\\\\\\"0.193878\\\\\\\",\\\\\\\"0.195918\\\\\\\",\\\\\\\"0.197959\\\\\\\",\\\\\\\"0.2\\\\\\\"],\\\\\\\"changes\\\\\\\":0,\\\\\\\"formatted_value\\\\\\\":\\\\\\\"0.14898\\\\\\\",\\\\\\\"index\\\\\\\":25}\\\");\\n    var self = this;\\n    function AppViewModel() {\\n        for (var key in json_data) {\\n            var el = json_data[key];\\n            this[key] = Array.isArray(el) ? ko.observableArray(el) : ko.observable(el);\\n        }\\n        \\n        \\n        [this[\\\"formatted_vals\\\"].subscribe((function (val){!(this.valueFromJulia[\\\"formatted_vals\\\"]) ? (_webIOScope.setObservableValue({\\\"name\\\":\\\"formatted_vals\\\",\\\"scope\\\":\\\"knockout-component-5fa11a31-6fc6-47ae-ac54-be9c8efb2b50\\\",\\\"id\\\":\\\"ob_08\\\",\\\"type\\\":\\\"observable\\\"},val)) : undefined; return this.valueFromJulia[\\\"formatted_vals\\\"]=false}),self),this[\\\"changes\\\"].subscribe((function (val){!(this.valueFromJulia[\\\"changes\\\"]) ? (_webIOScope.setObservableValue({\\\"name\\\":\\\"changes\\\",\\\"scope\\\":\\\"knockout-component-5fa11a31-6fc6-47ae-ac54-be9c8efb2b50\\\",\\\"id\\\":\\\"ob_10\\\",\\\"type\\\":\\\"observable\\\"},val)) : undefined; return this.valueFromJulia[\\\"changes\\\"]=false}),self),this[\\\"formatted_value\\\"].subscribe((function (val){!(this.valueFromJulia[\\\"formatted_value\\\"]) ? (_webIOScope.setObservableValue({\\\"name\\\":\\\"formatted_value\\\",\\\"scope\\\":\\\"knockout-component-5fa11a31-6fc6-47ae-ac54-be9c8efb2b50\\\",\\\"id\\\":\\\"ob_09\\\",\\\"type\\\":\\\"observable\\\"},val)) : undefined; return this.valueFromJulia[\\\"formatted_value\\\"]=false}),self),this[\\\"index\\\"].subscribe((function (val){!(this.valueFromJulia[\\\"index\\\"]) ? (_webIOScope.setObservableValue({\\\"name\\\":\\\"index\\\",\\\"scope\\\":\\\"knockout-component-5fa11a31-6fc6-47ae-ac54-be9c8efb2b50\\\",\\\"id\\\":\\\"ob_07\\\",\\\"type\\\":\\\"observable\\\"},val)) : undefined; return this.valueFromJulia[\\\"index\\\"]=false}),self)]\\n        \\n    }\\n    self.model = new AppViewModel();\\n    self.valueFromJulia = {};\\n    for (var key in json_data) {\\n        self.valueFromJulia[key] = false;\\n    }\\n    ko.applyBindings(self.model, self.dom);\\n}\\n\"]},\"changes\":[\"(function (val){return (val!=this.model[\\\"changes\\\"]()) ? (this.valueFromJulia[\\\"changes\\\"]=true, this.model[\\\"changes\\\"](val)) : undefined})\"],\"formatted_value\":[\"(function (val){return (val!=this.model[\\\"formatted_value\\\"]()) ? (this.valueFromJulia[\\\"formatted_value\\\"]=true, this.model[\\\"formatted_value\\\"](val)) : undefined})\"],\"index\":[\"(function (val){return (val!=this.model[\\\"index\\\"]()) ? (this.valueFromJulia[\\\"index\\\"]=true, this.model[\\\"index\\\"](val)) : undefined})\",\"(function (val){return _webIOScope.setObservableValue({\\\"name\\\":\\\"formatted_value\\\",\\\"scope\\\":\\\"knockout-component-5fa11a31-6fc6-47ae-ac54-be9c8efb2b50\\\",\\\"id\\\":\\\"ob_09\\\",\\\"type\\\":\\\"observable\\\"},_webIOScope.getObservableValue({\\\"name\\\":\\\"formatted_vals\\\",\\\"scope\\\":\\\"knockout-component-5fa11a31-6fc6-47ae-ac54-be9c8efb2b50\\\",\\\"id\\\":\\\"ob_08\\\",\\\"type\\\":\\\"observable\\\"})[(_webIOScope.getObservableValue({\\\"name\\\":\\\"index\\\",\\\"scope\\\":\\\"knockout-component-5fa11a31-6fc6-47ae-ac54-be9c8efb2b50\\\",\\\"id\\\":\\\"ob_07\\\",\\\"type\\\":\\\"observable\\\"})-1)])})\"]},\"systemjs_options\":null,\"observables\":{\"formatted_vals\":{\"sync\":false,\"id\":\"ob_08\",\"value\":[\"0.1\",\"0.102041\",\"0.104082\",\"0.106122\",\"0.108163\",\"0.110204\",\"0.112245\",\"0.114286\",\"0.116327\",\"0.118367\",\"0.120408\",\"0.122449\",\"0.12449\",\"0.126531\",\"0.128571\",\"0.130612\",\"0.132653\",\"0.134694\",\"0.136735\",\"0.138776\",\"0.140816\",\"0.142857\",\"0.144898\",\"0.146939\",\"0.14898\",\"0.15102\",\"0.153061\",\"0.155102\",\"0.157143\",\"0.159184\",\"0.161224\",\"0.163265\",\"0.165306\",\"0.167347\",\"0.169388\",\"0.171429\",\"0.173469\",\"0.17551\",\"0.177551\",\"0.179592\",\"0.181633\",\"0.183673\",\"0.185714\",\"0.187755\",\"0.189796\",\"0.191837\",\"0.193878\",\"0.195918\",\"0.197959\",\"0.2\"]},\"changes\":{\"sync\":false,\"id\":\"ob_10\",\"value\":0},\"formatted_value\":{\"sync\":false,\"id\":\"ob_09\",\"value\":\"0.14898\"},\"index\":{\"sync\":true,\"id\":\"ob_07\",\"value\":25}}},\"children\":[{\"props\":{\"attributes\":{\"style\":\"display:flex; justify-content:center; align-items:center;\"}},\"nodeType\":\"DOM\",\"type\":\"node\",\"instanceArgs\":{\"namespace\":\"html\",\"tag\":\"div\"},\"children\":[{\"props\":{\"attributes\":{\"style\":\"text-align:right;width:18%\"}},\"nodeType\":\"DOM\",\"type\":\"node\",\"instanceArgs\":{\"namespace\":\"html\",\"tag\":\"div\"},\"children\":[{\"props\":{\"className\":\"interact \",\"style\":{\"padding\":\"5px 10px 0px 10px\"}},\"nodeType\":\"DOM\",\"type\":\"node\",\"instanceArgs\":{\"namespace\":\"html\",\"tag\":\"label\"},\"children\":[\"r\"]}]},{\"props\":{\"attributes\":{\"style\":\"flex-grow:1; margin: 0 2%\"}},\"nodeType\":\"DOM\",\"type\":\"node\",\"instanceArgs\":{\"namespace\":\"html\",\"tag\":\"div\"},\"children\":[{\"props\":{\"max\":50,\"min\":1,\"attributes\":{\"type\":\"range\",\"data-bind\":\"numericValue: index, valueUpdate: 'input', event: {change : function () {this.changes(this.changes()+1)}}\",\"orient\":\"horizontal\"},\"step\":1,\"className\":\"slider slider is-fullwidth\",\"style\":{}},\"nodeType\":\"DOM\",\"type\":\"node\",\"instanceArgs\":{\"namespace\":\"html\",\"tag\":\"input\"},\"children\":[]}]},{\"props\":{\"attributes\":{\"style\":\"width:18%\"}},\"nodeType\":\"DOM\",\"type\":\"node\",\"instanceArgs\":{\"namespace\":\"html\",\"tag\":\"div\"},\"children\":[{\"props\":{\"attributes\":{\"data-bind\":\"text: formatted_value\"}},\"nodeType\":\"DOM\",\"type\":\"node\",\"instanceArgs\":{\"namespace\":\"html\",\"tag\":\"p\"},\"children\":[]}]}]}]}]},{\"props\":{},\"nodeType\":\"Scope\",\"type\":\"node\",\"instanceArgs\":{\"imports\":{\"data\":[],\"type\":\"async_block\"},\"id\":\"scope-ad5cef1e-996b-48e3-9ed4-77f7496f8744\",\"handlers\":{},\"systemjs_options\":null,\"observables\":{\"obs-node\":{\"sync\":false,\"id\":\"ob_13\",\"value\":{\"props\":{\"attributes\":{\"style\":\"display:flex; justify-content:center; align-items:center;\"}},\"nodeType\":\"DOM\",\"type\":\"node\",\"instanceArgs\":{\"namespace\":\"html\",\"tag\":\"div\"},\"children\":[{\"props\":{\"setInnerHtml\":\"<?xml version=\\\"1.0\\\" encoding=\\\"utf-8\\\"?>\\n<svg xmlns=\\\"http:\\/\\/www.w3.org\\/2000\\/svg\\\" xmlns:xlink=\\\"http:\\/\\/www.w3.org\\/1999\\/xlink\\\" width=\\\"1000\\\" height=\\\"400\\\" viewBox=\\\"0 0 4000 1600\\\">\\n<defs>\\n  <clipPath id=\\\"clip1400\\\">\\n    <rect x=\\\"0\\\" y=\\\"0\\\" width=\\\"2000\\\" height=\\\"2000\\\"\\/>\\n  <\\/clipPath>\\n<\\/defs>\\n<defs>\\n  <clipPath id=\\\"clip1401\\\">\\n    <rect x=\\\"0\\\" y=\\\"0\\\" width=\\\"4000\\\" height=\\\"1600\\\"\\/>\\n  <\\/clipPath>\\n<\\/defs>\\n<polygon clip-path=\\\"url(#clip1401)\\\" points=\\\"\\n0,1600 4000,1600 4000,0 0,0 \\n  \\\" fill=\\\"#ffffff\\\" fill-rule=\\\"evenodd\\\" fill-opacity=\\\"1\\\"\\/>\\n<defs>\\n  <clipPath id=\\\"clip1402\\\">\\n    <rect x=\\\"800\\\" y=\\\"0\\\" width=\\\"2801\\\" height=\\\"1600\\\"\\/>\\n  <\\/clipPath>\\n<\\/defs>\\n<polygon clip-path=\\\"url(#clip1401)\\\" points=\\\"\\n161.394,1516.89 3921.26,1516.89 3921.26,47.2441 161.394,47.2441 \\n  \\\" fill=\\\"#ffffff\\\" fill-rule=\\\"evenodd\\\" fill-opacity=\\\"1\\\"\\/>\\n<defs>\\n  <clipPath id=\\\"clip1403\\\">\\n    <rect x=\\\"161\\\" y=\\\"47\\\" width=\\\"3761\\\" height=\\\"1471\\\"\\/>\\n  <\\/clipPath>\\n<\\/defs>\\n<polyline clip-path=\\\"url(#clip1403)\\\" style=\\\"stroke:#000000; stroke-width:2; stroke-opacity:0.1; fill:none\\\" points=\\\"\\n  161.394,1516.89 161.394,47.2441 \\n  \\\"\\/>\\n<polyline clip-path=\\\"url(#clip1403)\\\" style=\\\"stroke:#000000; stroke-width:2; stroke-opacity:0.1; fill:none\\\" points=\\\"\\n  913.367,1516.89 913.367,47.2441 \\n  \\\"\\/>\\n<polyline clip-path=\\\"url(#clip1403)\\\" style=\\\"stroke:#000000; stroke-width:2; stroke-opacity:0.1; fill:none\\\" points=\\\"\\n  1665.34,1516.89 1665.34,47.2441 \\n  \\\"\\/>\\n<polyline clip-path=\\\"url(#clip1403)\\\" style=\\\"stroke:#000000; stroke-width:2; stroke-opacity:0.1; fill:none\\\" points=\\\"\\n  2417.31,1516.89 2417.31,47.2441 \\n  \\\"\\/>\\n<polyline clip-path=\\\"url(#clip1403)\\\" style=\\\"stroke:#000000; stroke-width:2; stroke-opacity:0.1; fill:none\\\" points=\\\"\\n  3169.29,1516.89 3169.29,47.2441 \\n  \\\"\\/>\\n<polyline clip-path=\\\"url(#clip1403)\\\" style=\\\"stroke:#000000; stroke-width:2; stroke-opacity:0.1; fill:none\\\" points=\\\"\\n  3921.26,1516.89 3921.26,47.2441 \\n  \\\"\\/>\\n<polyline clip-path=\\\"url(#clip1403)\\\" style=\\\"stroke:#000000; stroke-width:2; stroke-opacity:0.1; fill:none\\\" points=\\\"\\n  161.394,1516.89 3921.26,1516.89 \\n  \\\"\\/>\\n<polyline clip-path=\\\"url(#clip1403)\\\" style=\\\"stroke:#000000; stroke-width:2; stroke-opacity:0.1; fill:none\\\" points=\\\"\\n  161.394,1222.96 3921.26,1222.96 \\n  \\\"\\/>\\n<polyline clip-path=\\\"url(#clip1403)\\\" style=\\\"stroke:#000000; stroke-width:2; stroke-opacity:0.1; fill:none\\\" points=\\\"\\n  161.394,929.03 3921.26,929.03 \\n  \\\"\\/>\\n<polyline clip-path=\\\"url(#clip1403)\\\" style=\\\"stroke:#000000; stroke-width:2; stroke-opacity:0.1; fill:none\\\" points=\\\"\\n  161.394,635.102 3921.26,635.102 \\n  \\\"\\/>\\n<polyline clip-path=\\\"url(#clip1403)\\\" style=\\\"stroke:#000000; stroke-width:2; stroke-opacity:0.1; fill:none\\\" points=\\\"\\n  161.394,341.173 3921.26,341.173 \\n  \\\"\\/>\\n<polyline clip-path=\\\"url(#clip1403)\\\" style=\\\"stroke:#000000; stroke-width:2; stroke-opacity:0.1; fill:none\\\" points=\\\"\\n  161.394,47.2441 3921.26,47.2441 \\n  \\\"\\/>\\n<polyline clip-path=\\\"url(#clip1401)\\\" style=\\\"stroke:#000000; stroke-width:4; stroke-opacity:1; fill:none\\\" points=\\\"\\n  161.394,1516.89 3921.26,1516.89 \\n  \\\"\\/>\\n<polyline clip-path=\\\"url(#clip1401)\\\" style=\\\"stroke:#000000; stroke-width:4; stroke-opacity:1; fill:none\\\" points=\\\"\\n  161.394,1516.89 161.394,47.2441 \\n  \\\"\\/>\\n<polyline clip-path=\\\"url(#clip1401)\\\" style=\\\"stroke:#000000; stroke-width:4; stroke-opacity:1; fill:none\\\" points=\\\"\\n  161.394,1516.89 161.394,1494.84 \\n  \\\"\\/>\\n<polyline clip-path=\\\"url(#clip1401)\\\" style=\\\"stroke:#000000; stroke-width:4; stroke-opacity:1; fill:none\\\" points=\\\"\\n  913.367,1516.89 913.367,1494.84 \\n  \\\"\\/>\\n<polyline clip-path=\\\"url(#clip1401)\\\" style=\\\"stroke:#000000; stroke-width:4; stroke-opacity:1; fill:none\\\" points=\\\"\\n  1665.34,1516.89 1665.34,1494.84 \\n  \\\"\\/>\\n<polyline clip-path=\\\"url(#clip1401)\\\" style=\\\"stroke:#000000; stroke-width:4; stroke-opacity:1; fill:none\\\" points=\\\"\\n  2417.31,1516.89 2417.31,1494.84 \\n  \\\"\\/>\\n<polyline clip-path=\\\"url(#clip1401)\\\" style=\\\"stroke:#000000; stroke-width:4; stroke-opacity:1; fill:none\\\" points=\\\"\\n  3169.29,1516.89 3169.29,1494.84 \\n  \\\"\\/>\\n<polyline clip-path=\\\"url(#clip1401)\\\" style=\\\"stroke:#000000; stroke-width:4; stroke-opacity:1; fill:none\\\" points=\\\"\\n  3921.26,1516.89 3921.26,1494.84 \\n  \\\"\\/>\\n<polyline clip-path=\\\"url(#clip1401)\\\" style=\\\"stroke:#000000; stroke-width:4; stroke-opacity:1; fill:none\\\" points=\\\"\\n  161.394,1516.89 217.792,1516.89 \\n  \\\"\\/>\\n<polyline clip-path=\\\"url(#clip1401)\\\" style=\\\"stroke:#000000; stroke-width:4; stroke-opacity:1; fill:none\\\" points=\\\"\\n  161.394,1222.96 217.792,1222.96 \\n  \\\"\\/>\\n<polyline clip-path=\\\"url(#clip1401)\\\" style=\\\"stroke:#000000; stroke-width:4; stroke-opacity:1; fill:none\\\" points=\\\"\\n  161.394,929.03 217.792,929.03 \\n  \\\"\\/>\\n<polyline clip-path=\\\"url(#clip1401)\\\" style=\\\"stroke:#000000; stroke-width:4; stroke-opacity:1; fill:none\\\" points=\\\"\\n  161.394,635.102 217.792,635.102 \\n  \\\"\\/>\\n<polyline clip-path=\\\"url(#clip1401)\\\" style=\\\"stroke:#000000; stroke-width:4; stroke-opacity:1; fill:none\\\" points=\\\"\\n  161.394,341.173 217.792,341.173 \\n  \\\"\\/>\\n<polyline clip-path=\\\"url(#clip1401)\\\" style=\\\"stroke:#000000; stroke-width:4; stroke-opacity:1; fill:none\\\" points=\\\"\\n  161.394,47.2441 217.792,47.2441 \\n  \\\"\\/>\\n<g clip-path=\\\"url(#clip1401)\\\">\\n<text style=\\\"fill:#000000; fill-opacity:1; font-family:Arial,Helvetica Neue,Helvetica,sans-serif; font-size:48px; text-anchor:middle;\\\" transform=\\\"rotate(0, 161.394, 1578.89)\\\" x=\\\"161.394\\\" y=\\\"1578.89\\\">0.0<\\/text>\\n<\\/g>\\n<g clip-path=\\\"url(#clip1401)\\\">\\n<text style=\\\"fill:#000000; fill-opacity:1; font-family:Arial,Helvetica Neue,Helvetica,sans-serif; font-size:48px; text-anchor:middle;\\\" transform=\\\"rotate(0, 913.367, 1578.89)\\\" x=\\\"913.367\\\" y=\\\"1578.89\\\">0.2<\\/text>\\n<\\/g>\\n<g clip-path=\\\"url(#clip1401)\\\">\\n<text style=\\\"fill:#000000; fill-opacity:1; font-family:Arial,Helvetica Neue,Helvetica,sans-serif; font-size:48px; text-anchor:middle;\\\" transform=\\\"rotate(0, 1665.34, 1578.89)\\\" x=\\\"1665.34\\\" y=\\\"1578.89\\\">0.4<\\/text>\\n<\\/g>\\n<g clip-path=\\\"url(#clip1401)\\\">\\n<text style=\\\"fill:#000000; fill-opacity:1; font-family:Arial,Helvetica Neue,Helvetica,sans-serif; font-size:48px; text-anchor:middle;\\\" transform=\\\"rotate(0, 2417.31, 1578.89)\\\" x=\\\"2417.31\\\" y=\\\"1578.89\\\">0.6<\\/text>\\n<\\/g>\\n<g clip-path=\\\"url(#clip1401)\\\">\\n<text style=\\\"fill:#000000; fill-opacity:1; font-family:Arial,Helvetica Neue,Helvetica,sans-serif; font-size:48px; text-anchor:middle;\\\" transform=\\\"rotate(0, 3169.29, 1578.89)\\\" x=\\\"3169.29\\\" y=\\\"1578.89\\\">0.8<\\/text>\\n<\\/g>\\n<g clip-path=\\\"url(#clip1401)\\\">\\n<text style=\\\"fill:#000000; fill-opacity:1; font-family:Arial,Helvetica Neue,Helvetica,sans-serif; font-size:48px; text-anchor:middle;\\\" transform=\\\"rotate(0, 3921.26, 1578.89)\\\" x=\\\"3921.26\\\" y=\\\"1578.89\\\">1.0<\\/text>\\n<\\/g>\\n<g clip-path=\\\"url(#clip1401)\\\">\\n<text style=\\\"fill:#000000; fill-opacity:1; font-family:Arial,Helvetica Neue,Helvetica,sans-serif; font-size:48px; text-anchor:end;\\\" transform=\\\"rotate(0, 121.394, 1534.39)\\\" x=\\\"121.394\\\" y=\\\"1534.39\\\">0.0<\\/text>\\n<\\/g>\\n<g clip-path=\\\"url(#clip1401)\\\">\\n<text style=\\\"fill:#000000; fill-opacity:1; font-family:Arial,Helvetica Neue,Helvetica,sans-serif; font-size:48px; text-anchor:end;\\\" transform=\\\"rotate(0, 121.394, 1240.46)\\\" x=\\\"121.394\\\" y=\\\"1240.46\\\">0.2<\\/text>\\n<\\/g>\\n<g clip-path=\\\"url(#clip1401)\\\">\\n<text style=\\\"fill:#000000; fill-opacity:1; font-family:Arial,Helvetica Neue,Helvetica,sans-serif; font-size:48px; text-anchor:end;\\\" transform=\\\"rotate(0, 121.394, 946.53)\\\" x=\\\"121.394\\\" y=\\\"946.53\\\">0.4<\\/text>\\n<\\/g>\\n<g clip-path=\\\"url(#clip1401)\\\">\\n<text style=\\\"fill:#000000; fill-opacity:1; font-family:Arial,Helvetica Neue,Helvetica,sans-serif; font-size:48px; text-anchor:end;\\\" transform=\\\"rotate(0, 121.394, 652.602)\\\" x=\\\"121.394\\\" y=\\\"652.602\\\">0.6<\\/text>\\n<\\/g>\\n<g clip-path=\\\"url(#clip1401)\\\">\\n<text style=\\\"fill:#000000; fill-opacity:1; font-family:Arial,Helvetica Neue,Helvetica,sans-serif; font-size:48px; text-anchor:end;\\\" transform=\\\"rotate(0, 121.394, 358.673)\\\" x=\\\"121.394\\\" y=\\\"358.673\\\">0.8<\\/text>\\n<\\/g>\\n<g clip-path=\\\"url(#clip1401)\\\">\\n<text style=\\\"fill:#000000; fill-opacity:1; font-family:Arial,Helvetica Neue,Helvetica,sans-serif; font-size:48px; text-anchor:end;\\\" transform=\\\"rotate(0, 121.394, 64.7441)\\\" x=\\\"121.394\\\" y=\\\"64.7441\\\">1.0<\\/text>\\n<\\/g>\\n<circle clip-path=\\\"url(#clip1403)\\\" style=\\\"fill:#000000; stroke:none; fill-opacity:1\\\" cx=\\\"537.381\\\" cy=\\\"648.861\\\" r=\\\"18\\\"\\/>\\n<circle clip-path=\\\"url(#clip1403)\\\" style=\\\"fill:#009af9; stroke:none; fill-opacity:1\\\" cx=\\\"537.381\\\" cy=\\\"648.861\\\" r=\\\"14\\\"\\/>\\n<circle clip-path=\\\"url(#clip1403)\\\" style=\\\"fill:#000000; stroke:none; fill-opacity:1\\\" cx=\\\"871.591\\\" cy=\\\"651.952\\\" r=\\\"18\\\"\\/>\\n<circle clip-path=\\\"url(#clip1403)\\\" style=\\\"fill:#009af9; stroke:none; fill-opacity:1\\\" cx=\\\"871.591\\\" cy=\\\"651.952\\\" r=\\\"14\\\"\\/>\\n<circle clip-path=\\\"url(#clip1403)\\\" style=\\\"fill:#000000; stroke:none; fill-opacity:1\\\" cx=\\\"1205.8\\\" cy=\\\"1316.11\\\" r=\\\"18\\\"\\/>\\n<circle clip-path=\\\"url(#clip1403)\\\" style=\\\"fill:#009af9; stroke:none; fill-opacity:1\\\" cx=\\\"1205.8\\\" cy=\\\"1316.11\\\" r=\\\"14\\\"\\/>\\n<circle clip-path=\\\"url(#clip1403)\\\" style=\\\"fill:#000000; stroke:none; fill-opacity:1\\\" cx=\\\"1540.01\\\" cy=\\\"791.59\\\" r=\\\"18\\\"\\/>\\n<circle clip-path=\\\"url(#clip1403)\\\" style=\\\"fill:#009af9; stroke:none; fill-opacity:1\\\" cx=\\\"1540.01\\\" cy=\\\"791.59\\\" r=\\\"14\\\"\\/>\\n<circle clip-path=\\\"url(#clip1403)\\\" style=\\\"fill:#000000; stroke:none; fill-opacity:1\\\" cx=\\\"1874.22\\\" cy=\\\"724.198\\\" r=\\\"18\\\"\\/>\\n<circle clip-path=\\\"url(#clip1403)\\\" style=\\\"fill:#009af9; stroke:none; fill-opacity:1\\\" cx=\\\"1874.22\\\" cy=\\\"724.198\\\" r=\\\"14\\\"\\/>\\n<circle clip-path=\\\"url(#clip1403)\\\" style=\\\"fill:#000000; stroke:none; fill-opacity:1\\\" cx=\\\"2208.43\\\" cy=\\\"765.205\\\" r=\\\"18\\\"\\/>\\n<circle clip-path=\\\"url(#clip1403)\\\" style=\\\"fill:#009af9; stroke:none; fill-opacity:1\\\" cx=\\\"2208.43\\\" cy=\\\"765.205\\\" r=\\\"14\\\"\\/>\\n<circle clip-path=\\\"url(#clip1403)\\\" style=\\\"fill:#000000; stroke:none; fill-opacity:1\\\" cx=\\\"2542.64\\\" cy=\\\"405.487\\\" r=\\\"18\\\"\\/>\\n<circle clip-path=\\\"url(#clip1403)\\\" style=\\\"fill:#009af9; stroke:none; fill-opacity:1\\\" cx=\\\"2542.64\\\" cy=\\\"405.487\\\" r=\\\"14\\\"\\/>\\n<circle clip-path=\\\"url(#clip1403)\\\" style=\\\"fill:#000000; stroke:none; fill-opacity:1\\\" cx=\\\"2876.85\\\" cy=\\\"613.529\\\" r=\\\"18\\\"\\/>\\n<circle clip-path=\\\"url(#clip1403)\\\" style=\\\"fill:#009af9; stroke:none; fill-opacity:1\\\" cx=\\\"2876.85\\\" cy=\\\"613.529\\\" r=\\\"14\\\"\\/>\\n<circle clip-path=\\\"url(#clip1403)\\\" style=\\\"fill:#000000; stroke:none; fill-opacity:1\\\" cx=\\\"3211.06\\\" cy=\\\"429.68\\\" r=\\\"18\\\"\\/>\\n<circle clip-path=\\\"url(#clip1403)\\\" style=\\\"fill:#009af9; stroke:none; fill-opacity:1\\\" cx=\\\"3211.06\\\" cy=\\\"429.68\\\" r=\\\"14\\\"\\/>\\n<circle clip-path=\\\"url(#clip1403)\\\" style=\\\"fill:#000000; stroke:none; fill-opacity:1\\\" cx=\\\"3545.27\\\" cy=\\\"807.141\\\" r=\\\"18\\\"\\/>\\n<circle clip-path=\\\"url(#clip1403)\\\" style=\\\"fill:#009af9; stroke:none; fill-opacity:1\\\" cx=\\\"3545.27\\\" cy=\\\"807.141\\\" r=\\\"14\\\"\\/>\\n<polygon clip-path=\\\"url(#clip1403)\\\" points=\\\"\\n161.394,1088.25 180.288,1083.04 199.182,1076.66 218.075,1068.93 236.969,1059.67 255.863,1048.71 274.757,1035.87 293.651,1021 312.544,1003.97 331.438,984.671 \\n  350.332,963.047 369.226,939.083 388.12,912.818 407.013,884.349 425.907,853.838 444.801,821.513 463.695,787.669 482.589,752.671 501.482,716.946 520.376,680.984 \\n  539.27,649.758 558.164,657.799 577.058,664.033 595.951,668.325 614.845,670.614 633.739,670.921 652.633,669.363 671.527,666.147 690.42,661.581 709.314,656.061 \\n  728.208,650.067 747.102,644.151 765.996,638.92 784.889,635.015 803.783,633.092 822.677,633.796 841.571,637.733 860.465,645.45 879.358,672.437 898.252,724.913 \\n  917.146,780.432 936.04,838.037 954.934,896.699 973.827,955.343 992.721,1012.87 1011.61,1068.2 1030.51,1120.27 1049.4,1168.1 1068.3,1210.79 1087.19,1247.55 \\n  1106.08,1277.73 1124.98,1300.86 1143.87,1316.61 1162.77,1324.85 1181.66,1325.62 1200.55,1319.14 1219.45,1331.63 1238.34,1346.94 1257.23,1354.73 1276.13,1354.77 \\n  1295.02,1347.02 1313.92,1331.61 1332.81,1308.87 1351.7,1279.26 1370.6,1243.41 1389.49,1202.08 1408.38,1156.15 1427.28,1106.55 1446.17,1054.31 1465.07,1000.48 \\n  1483.96,946.11 1502.85,892.244 1521.75,839.885 1540.64,791.167 1559.54,780.105 1578.43,771.966 1597.32,766.326 1616.22,762.716 1635.11,760.638 1654,759.598 \\n  1672.9,759.122 1691.79,758.78 1710.69,758.205 1729.58,757.1 1748.47,755.257 1767.37,752.556 1786.26,748.967 1805.15,744.549 1824.05,739.437 1842.94,733.837 \\n  1861.84,728.006 1880.73,734.537 1899.62,764.426 1918.52,793.498 1937.41,820.977 1956.3,846.13 1975.2,868.277 1994.09,886.81 2012.99,901.203 2031.88,911.023 \\n  2050.77,915.94 2069.67,915.734 2088.56,910.303 2107.46,899.66 2126.35,883.942 2145.24,863.402 2164.14,838.406 2183.03,809.428 2201.92,777.036 2220.82,765.257 \\n  2239.71,763.008 2258.61,757.665 2277.5,748.999 2296.39,736.885 2315.29,721.314 2334.18,702.396 2353.07,680.363 2371.97,655.564 2390.86,628.454 2409.76,599.587 \\n  2428.65,569.595 2447.54,539.171 2466.44,509.047 2485.33,479.966 2504.22,452.666 2523.12,427.846 2542.01,406.15 2560.91,422.524 2579.8,443.161 2598.69,466.131 \\n  2617.59,490.638 2636.48,515.85 2655.38,540.923 2674.27,565.026 2693.16,587.371 2712.06,607.23 2730.95,623.965 2749.84,637.038 2768.74,646.034 2787.63,650.673 \\n  2806.53,650.815 2825.42,646.464 2844.31,637.771 2863.21,625.024 2882.1,618.595 2900.99,634.585 2919.89,646.714 2938.78,654.627 2957.68,658.108 2976.57,657.079 \\n  2995.46,651.607 3014.36,641.902 3033.25,628.31 3052.15,611.302 3071.04,591.461 3089.93,569.463 3108.83,546.058 3127.72,522.044 3146.61,498.248 3165.51,475.496 \\n  3184.4,454.59 3203.3,436.287 3222.19,442.85 3241.08,467.9 3259.98,495.801 3278.87,525.878 3297.76,557.403 3316.66,589.622 3335.55,621.774 3354.45,653.118 \\n  3373.34,682.951 3392.23,710.63 3411.13,735.591 3430.02,757.356 3448.91,775.552 3467.81,789.913 3486.7,800.282 3505.6,806.613 3524.49,808.964 3543.38,807.49 \\n  3562.28,843.306 3581.17,881.948 3600.07,918.532 3618.96,952.683 3637.85,984.106 3656.75,1012.59 3675.64,1038 3694.53,1060.28 3713.43,1079.46 3732.32,1095.62 \\n  3751.22,1108.9 3770.11,1119.5 3789,1127.64 3807.9,1133.58 3826.79,1137.57 3845.68,1139.91 3864.58,1140.86 3883.47,1140.67 3902.37,1139.61 3921.26,1137.9 \\n  3921.26,512.394 3902.37,521.798 3883.47,532.376 3864.58,544.18 3845.68,557.238 3826.79,571.548 3807.9,587.076 3789,603.744 3770.11,621.433 3751.22,639.971 \\n  3732.32,659.141 3713.43,678.669 3694.53,698.238 3675.64,717.484 3656.75,736.006 3637.85,753.375 3618.96,769.145 3600.07,782.866 3581.17,794.099 3562.28,802.43 \\n  3543.38,803.058 3524.49,761.725 3505.6,719.888 3486.7,678.17 3467.81,637.231 3448.91,597.739 3430.02,560.363 3411.13,525.746 3392.23,494.49 3373.34,467.135 \\n  3354.45,444.143 3335.55,425.878 3316.66,412.599 3297.76,404.442 3278.87,401.417 3259.98,403.402 3241.08,410.146 3222.19,421.273 3203.3,421.256 3184.4,403.629 \\n  3165.51,390.372 3146.61,381.766 3127.72,377.959 3108.83,378.963 3089.93,384.648 3071.04,394.752 3052.15,408.88 3033.25,426.523 3014.36,447.068 2995.46,469.817 \\n  2976.57,494.012 2957.68,518.853 2938.78,543.523 2919.89,567.217 2900.99,589.162 2882.1,608.643 2863.21,599.219 2844.31,577.042 2825.42,552.74 2806.53,527.058 \\n  2787.63,500.786 2768.74,474.738 2749.84,449.724 2730.95,426.528 2712.06,405.88 2693.16,388.438 2674.27,374.766 2655.38,365.317 2636.48,360.418 2617.59,360.265 \\n  2598.69,364.913 2579.8,374.277 2560.91,388.139 2542.01,404.958 2523.12,391.119 2504.22,381.56 2485.33,376.722 2466.44,376.912 2447.54,382.305 2428.65,392.932 \\n  2409.76,408.686 2390.86,429.321 2371.97,454.462 2353.07,483.62 2334.18,516.2 2315.29,551.523 2296.39,588.839 2277.5,627.355 2258.61,666.25 2239.71,704.697 \\n  2220.82,741.885 2201.92,764.736 2183.03,761.841 2164.14,757.031 2145.24,750.799 2126.35,743.653 2107.46,736.099 2088.56,728.614 2069.67,721.635 2050.77,715.537 \\n  2031.88,710.62 2012.99,707.104 1994.09,705.122 1975.2,704.716 1956.3,705.841 1937.41,708.374 1918.52,712.123 1899.62,716.84 1880.73,722.237 1861.84,704.634 \\n  1842.94,675.527 1824.05,648.022 1805.15,622.905 1786.26,600.921 1767.37,582.764 1748.47,569.061 1729.58,560.357 1710.69,557.103 1691.79,559.647 1672.9,568.221 \\n  1654,582.935 1635.11,603.771 1616.22,630.581 1597.32,663.082 1578.43,700.86 1559.54,743.378 1540.64,789.975 1521.75,805.5 1502.85,823.361 1483.96,844.892 \\n  1465.07,870.107 1446.17,898.881 1427.28,930.946 1408.38,965.886 1389.49,1003.15 1370.6,1042.06 1351.7,1081.82 1332.81,1121.55 1313.92,1160.32 1295.02,1197.13 \\n  1276.13,1231.01 1257.23,1261 1238.34,1286.21 1219.45,1305.82 1200.55,1309.19 1181.66,1280.19 1162.77,1245.35 1143.87,1205.51 1124.98,1161.61 1106.08,1114.67 \\n  1087.19,1065.76 1068.3,1015.95 1049.4,966.316 1030.51,917.853 1011.61,871.492 992.721,828.058 973.827,788.247 954.934,752.613 936.04,721.554 917.146,695.308 \\n  898.252,673.951 879.358,657.406 860.465,623.872 841.571,579.979 822.677,541.396 803.783,508.631 784.889,482.054 765.996,461.897 747.102,448.256 728.208,441.092 \\n  709.314,440.245 690.42,445.44 671.527,456.302 652.633,472.369 633.739,493.108 614.845,517.931 595.951,546.213 577.058,577.307 558.164,610.56 539.27,645.326 \\n  520.376,640.108 501.482,629.097 482.589,617.004 463.695,604.131 444.801,590.782 425.907,577.257 407.013,563.838 388.12,550.777 369.226,538.294 350.332,526.568 \\n  331.438,515.738 312.544,505.898 293.651,497.104 274.757,489.372 255.863,482.686 236.969,477.002 218.075,472.253 199.182,468.357 180.288,465.22 161.394,462.746 \\n  \\n  \\\" fill=\\\"#e26f46\\\" fill-rule=\\\"evenodd\\\" fill-opacity=\\\"0.5\\\"\\/>\\n<polyline clip-path=\\\"url(#clip1403)\\\" style=\\\"stroke:#e26f46; stroke-width:4; stroke-opacity:1; fill:none\\\" points=\\\"\\n  161.394,775.497 180.288,774.128 199.182,772.506 218.075,770.59 236.969,768.337 255.863,765.699 274.757,762.623 293.651,759.054 312.544,754.934 331.438,750.204 \\n  350.332,744.808 369.226,738.689 388.12,731.798 407.013,724.094 425.907,715.548 444.801,706.147 463.695,695.9 482.589,684.838 501.482,673.022 520.376,660.546 \\n  539.27,647.542 558.164,634.179 577.058,620.67 595.951,607.269 614.845,594.272 633.739,582.015 652.633,570.866 671.527,561.225 690.42,553.511 709.314,548.153 \\n  728.208,545.58 747.102,546.203 765.996,550.409 784.889,558.535 803.783,570.862 822.677,587.596 841.571,608.856 860.465,634.661 879.358,664.921 898.252,699.432 \\n  917.146,737.87 936.04,779.796 954.934,824.656 973.827,871.795 992.721,920.466 1011.61,969.847 1030.51,1019.06 1049.4,1067.21 1068.3,1113.37 1087.19,1156.65 \\n  1106.08,1196.2 1124.98,1231.23 1143.87,1261.06 1162.77,1285.1 1181.66,1302.91 1200.55,1314.17 1219.45,1318.72 1238.34,1316.58 1257.23,1307.87 1276.13,1292.89 \\n  1295.02,1272.07 1313.92,1245.96 1332.81,1215.21 1351.7,1180.54 1370.6,1142.73 1389.49,1102.62 1408.38,1061.02 1427.28,1018.75 1446.17,976.597 1465.07,935.294 \\n  1483.96,895.501 1502.85,857.803 1521.75,822.693 1540.64,790.571 1559.54,761.742 1578.43,736.413 1597.32,714.704 1616.22,696.648 1635.11,682.205 1654,671.266 \\n  1672.9,663.671 1691.79,659.214 1710.69,657.654 1729.58,658.729 1748.47,662.159 1767.37,667.66 1786.26,674.944 1805.15,683.727 1824.05,693.73 1842.94,704.682 \\n  1861.84,716.32 1880.73,728.387 1899.62,740.633 1918.52,752.81 1937.41,764.676 1956.3,775.985 1975.2,786.496 1994.09,795.966 2012.99,804.154 2031.88,810.822 \\n  2050.77,815.738 2069.67,818.685 2088.56,819.458 2107.46,817.879 2126.35,813.797 2145.24,807.1 2164.14,797.719 2183.03,785.635 2201.92,770.886 2220.82,753.571 \\n  2239.71,733.853 2258.61,711.958 2277.5,688.177 2296.39,662.862 2315.29,636.418 2334.18,609.298 2353.07,581.992 2371.97,555.013 2390.86,528.887 2409.76,504.136 \\n  2428.65,481.264 2447.54,460.738 2466.44,442.979 2485.33,428.344 2504.22,417.113 2523.12,409.483 2542.01,405.554 2560.91,405.331 2579.8,408.719 2598.69,415.522 \\n  2617.59,425.452 2636.48,438.134 2655.38,453.12 2674.27,469.896 2693.16,487.905 2712.06,506.555 2730.95,525.246 2749.84,543.381 2768.74,560.386 2787.63,575.73 \\n  2806.53,588.936 2825.42,599.602 2844.31,607.407 2863.21,612.121 2882.1,613.619 2900.99,611.873 2919.89,606.965 2938.78,599.075 2957.68,588.481 2976.57,575.546 \\n  2995.46,560.712 3014.36,544.485 3033.25,527.416 3052.15,510.091 3071.04,493.106 3089.93,477.056 3108.83,462.51 3127.72,450.002 3146.61,440.007 3165.51,432.934 \\n  3184.4,429.11 3203.3,428.771 3222.19,432.062 3241.08,439.023 3259.98,449.602 3278.87,463.647 3297.76,480.923 3316.66,501.111 3335.55,523.826 3354.45,548.63 \\n  3373.34,575.043 3392.23,602.56 3411.13,630.668 3430.02,658.859 3448.91,686.646 3467.81,713.572 3486.7,739.226 3505.6,763.25 3524.49,785.345 3543.38,805.274 \\n  3562.28,822.868 3581.17,838.023 3600.07,850.699 3618.96,860.914 3637.85,868.74 3656.75,874.296 3675.64,877.74 3694.53,879.259 3713.43,879.064 3732.32,877.38 \\n  3751.22,874.438 3770.11,870.468 3789,865.694 3807.9,860.327 3826.79,854.561 3845.68,848.574 3864.58,842.518 3883.47,836.526 3902.37,830.706 3921.26,825.145 \\n  \\n  \\\"\\/>\\n<polygon clip-path=\\\"url(#clip1401)\\\" points=\\\"\\n3016.05,408.204 3801.26,408.204 3801.26,226.764 3016.05,226.764 \\n  \\\" fill=\\\"#ffffff\\\" fill-rule=\\\"evenodd\\\" fill-opacity=\\\"1\\\"\\/>\\n<polyline clip-path=\\\"url(#clip1401)\\\" style=\\\"stroke:#000000; stroke-width:4; stroke-opacity:1; fill:none\\\" points=\\\"\\n  3016.05,408.204 3801.26,408.204 3801.26,226.764 3016.05,226.764 3016.05,408.204 \\n  \\\"\\/>\\n<circle clip-path=\\\"url(#clip1401)\\\" style=\\\"fill:#000000; stroke:none; fill-opacity:1\\\" cx=\\\"3196.05\\\" cy=\\\"287.244\\\" r=\\\"25\\\"\\/>\\n<circle clip-path=\\\"url(#clip1401)\\\" style=\\\"fill:#009af9; stroke:none; fill-opacity:1\\\" cx=\\\"3196.05\\\" cy=\\\"287.244\\\" r=\\\"21\\\"\\/>\\n<g clip-path=\\\"url(#clip1401)\\\">\\n<text style=\\\"fill:#000000; fill-opacity:1; font-family:Arial,Helvetica Neue,Helvetica,sans-serif; font-size:48px; text-anchor:start;\\\" transform=\\\"rotate(0, 3336.05, 304.744)\\\" x=\\\"3336.05\\\" y=\\\"304.744\\\">data<\\/text>\\n<\\/g>\\n<polyline clip-path=\\\"url(#clip1401)\\\" style=\\\"stroke:#e26f46; stroke-width:4; stroke-opacity:1; fill:none\\\" points=\\\"\\n  3056.05,347.724 3296.05,347.724 \\n  \\\"\\/>\\n<g clip-path=\\\"url(#clip1401)\\\">\\n<text style=\\\"fill:#000000; fill-opacity:1; font-family:Arial,Helvetica Neue,Helvetica,sans-serif; font-size:48px; text-anchor:start;\\\" transform=\\\"rotate(0, 3336.05, 365.224)\\\" x=\\\"3336.05\\\" y=\\\"365.224\\\">Gaussian process<\\/text>\\n<\\/g>\\n<\\/svg>\\n\"},\"nodeType\":\"DOM\",\"type\":\"node\",\"instanceArgs\":{\"namespace\":\"html\",\"tag\":\"div\"},\"children\":[]}]}}}},\"children\":[{\"props\":{},\"nodeType\":\"ObservableNode\",\"type\":\"node\",\"instanceArgs\":{\"id\":\"ob_13\",\"name\":\"obs-node\"},\"children\":[]}]}]},\n",
       "        );\n",
       "    } else {\n",
       "        document\n",
       "            .querySelector('[data-webio-mountpoint=\"3213065159442414490\"]')\n",
       "            .innerHTML = '<strong>WebIO not detected.</strong>';\n",
       "    }\n",
       "    </script>\n",
       "</div>\n"
      ],
      "text/plain": [
       "Widget{:manipulate,Any}(OrderedDict{Symbol,Any}(:s=>Widget{:slider,Float64}(OrderedDict{Symbol,Any}(:changes=>Observable{Int64} with 1 listeners. Value:\n",
       "0,:index=>Observable{Any} with 2 listeners. Value:\n",
       "25,:formatted_vals=>Observable{Any} with 1 listeners. Value:\n",
       "[\"0.0\", \"0.00204082\", \"0.00408163\", \"0.00612245\", \"0.00816327\", \"0.0102041\", \"0.0122449\", \"0.0142857\", \"0.0163265\", \"0.0183673\"  …  \"0.0816327\", \"0.0836735\", \"0.0857143\", \"0.0877551\", \"0.0897959\", \"0.0918367\", \"0.0938776\", \"0.0959184\", \"0.0979592\", \"0.1\"],:formatted_value=>Observable{String} with 1 listeners. Value:\n",
       "\"0.0489796\",:value=>Observable{Float64} with 2 listeners. Value:\n",
       "0.0489796), Observable{Float64} with 2 listeners. Value:\n",
       "0.0489796, Scope(\"knockout-component-28829b74-56c3-4a39-833a-a5705654e543\", Node{DOM}(DOM(:html, :div), Any[Node{DOM}(DOM(:html, :div), Any[Node{DOM}(DOM(:html, :label), Any[\"s\"], Dict{Symbol,Any}(:className=>\"interact \",:style=>Dict{Any,Any}(:padding=>\"5px 10px 0px 10px\")), 1)], Dict{Symbol,Any}(:attributes=>Dict(\"style\"=>\"text-align:right;width:18%\")), 2), Node{DOM}(DOM(:html, :div), Any[Node{DOM}(DOM(:html, :input), Any[], Dict{Symbol,Any}(:max=>50,:min=>1,:attributes=>Dict{Any,Any}(:type=>\"range\",Symbol(\"data-bind\")=>\"numericValue: index, valueUpdate: 'input', event: {change : function () {this.changes(this.changes()+1)}}\",\"orient\"=>\"horizontal\"),:step=>1,:className=>\"slider slider is-fullwidth\",:style=>Dict{Any,Any}()), 0)], Dict{Symbol,Any}(:attributes=>Dict(\"style\"=>\"flex-grow:1; margin: 0 2%\")), 1), Node{DOM}(DOM(:html, :div), Any[Node{DOM}(DOM(:html, :p), Any[], Dict{Symbol,Any}(:attributes=>Dict(\"data-bind\"=>\"text: formatted_value\")), 0)], Dict{Symbol,Any}(:attributes=>Dict(\"style\"=>\"width:18%\")), 1)], Dict{Symbol,Any}(:attributes=>Dict(\"style\"=>\"display:flex; justify-content:center; align-items:center;\")), 7), Dict{String,Tuple{Observables.AbstractObservable,Union{Nothing, Bool}}}(\"formatted_vals\"=>(Observable{Any} with 1 listeners. Value:\n",
       "[\"0.0\", \"0.00204082\", \"0.00408163\", \"0.00612245\", \"0.00816327\", \"0.0102041\", \"0.0122449\", \"0.0142857\", \"0.0163265\", \"0.0183673\"  …  \"0.0816327\", \"0.0836735\", \"0.0857143\", \"0.0877551\", \"0.0897959\", \"0.0918367\", \"0.0938776\", \"0.0959184\", \"0.0979592\", \"0.1\"], nothing),\"changes\"=>(Observable{Int64} with 1 listeners. Value:\n",
       "0, nothing),\"formatted_value\"=>(Observable{String} with 1 listeners. Value:\n",
       "\"0.0489796\", nothing),\"index\"=>(Observable{Any} with 2 listeners. Value:\n",
       "25, nothing)), Set(String[]), nothing, Any[\"knockout\"=>\"/home/juliohm/.julia/packages/Knockout/JIqpG/src/../assets/knockout.js\", \"knockout_punches\"=>\"/home/juliohm/.julia/packages/Knockout/JIqpG/src/../assets/knockout_punches.js\", \"/home/juliohm/.julia/packages/InteractBase/Q4IkI/src/../assets/all.js\", \"/home/juliohm/.julia/packages/InteractBase/Q4IkI/src/../assets/style.css\", \"/home/juliohm/.julia/packages/InteractBulma/Ohu5Y/src/../assets/main.css\"], Dict{Any,Any}(\"formatted_vals\"=>Any[JSString(\"(function (val){return (val!=this.model[\\\"formatted_vals\\\"]()) ? (this.valueFromJulia[\\\"formatted_vals\\\"]=true, this.model[\\\"formatted_vals\\\"](val)) : undefined})\")],\"_promises\"=>Dict{Any,Any}(\"importsLoaded\"=>Any[JSString(\"function (ko, koPunches) {\\n    ko.punches.enableAll();\\n    ko.bindingHandlers.numericValue = {\\n        init : function(element, valueAccessor, allBindings, data, context) {\\n            var stringified = ko.observable(ko.unwrap(valueAccessor()));\\n            stringified.subscribe(function(value) {\\n                var val = parseFloat(value);\\n                if (!isNaN(val)) {\\n                    valueAccessor()(val);\\n                }\\n            })\\n            valueAccessor().subscribe(function(value) {\\n                var str = JSON.stringify(value);\\n                if ((str == \\\"0\\\") && ([\\\"-0\\\", \\\"-0.\\\"].indexOf(stringified()) >= 0))\\n                     return;\\n                 if ([\\\"null\\\", \\\"\\\"].indexOf(str) >= 0)\\n                     return;\\n                stringified(str);\\n            })\\n            ko.applyBindingsToNode(element, { value: stringified, valueUpdate: allBindings.get('valueUpdate')}, context);\\n        }\\n    };\\n    var json_data = JSON.parse(\\\"{\\\\\\\"formatted_vals\\\\\\\":[\\\\\\\"0.0\\\\\\\",\\\\\\\"0.00204082\\\\\\\",\\\\\\\"0.00408163\\\\\\\",\\\\\\\"0.00612245\\\\\\\",\\\\\\\"0.00816327\\\\\\\",\\\\\\\"0.0102041\\\\\\\",\\\\\\\"0.0122449\\\\\\\",\\\\\\\"0.0142857\\\\\\\",\\\\\\\"0.0163265\\\\\\\",\\\\\\\"0.0183673\\\\\\\",\\\\\\\"0.0204082\\\\\\\",\\\\\\\"0.022449\\\\\\\",\\\\\\\"0.0244898\\\\\\\",\\\\\\\"0.0265306\\\\\\\",\\\\\\\"0.0285714\\\\\\\",\\\\\\\"0.0306122\\\\\\\",\\\\\\\"0.0326531\\\\\\\",\\\\\\\"0.0346939\\\\\\\",\\\\\\\"0.0367347\\\\\\\",\\\\\\\"0.0387755\\\\\\\",\\\\\\\"0.0408163\\\\\\\",\\\\\\\"0.0428571\\\\\\\",\\\\\\\"0.044898\\\\\\\",\\\\\\\"0.0469388\\\\\\\",\\\\\\\"0.0489796\\\\\\\",\\\\\\\"0.0510204\\\\\\\",\\\\\\\"0.0530612\\\\\\\",\\\\\\\"0.055102\\\\\\\",\\\\\\\"0.0571429\\\\\\\",\\\\\\\"0.0591837\\\\\\\",\\\\\\\"0.0612245\\\\\\\",\\\\\\\"0.0632653\\\\\\\",\\\\\\\"0.0653061\\\\\\\",\\\\\\\"0.0673469\\\\\\\",\\\\\\\"0.0693878\\\\\\\",\\\\\\\"0.0714286\\\\\\\",\\\\\\\"0.0734694\\\\\\\",\\\\\\\"0.0755102\\\\\\\",\\\\\\\"0.077551\\\\\\\",\\\\\\\"0.0795918\\\\\\\",\\\\\\\"0.0816327\\\\\\\",\\\\\\\"0.0836735\\\\\\\",\\\\\\\"0.0857143\\\\\\\",\\\\\\\"0.0877551\\\\\\\",\\\\\\\"0.0897959\\\\\\\",\\\\\\\"0.0918367\\\\\\\",\\\\\\\"0.0938776\\\\\\\",\\\\\\\"0.0959184\\\\\\\",\\\\\\\"0.0979592\\\\\\\",\\\\\\\"0.1\\\\\\\"],\\\\\\\"changes\\\\\\\":0,\\\\\\\"formatted_value\\\\\\\":\\\\\\\"0.0489796\\\\\\\",\\\\\\\"index\\\\\\\":25}\\\");\\n    var self = this;\\n    function AppViewModel() {\\n        for (var key in json_data) {\\n            var el = json_data[key];\\n            this[key] = Array.isArray(el) ? ko.observableArray(el) : ko.observable(el);\\n        }\\n        \\n        \\n        [this[\\\"formatted_vals\\\"].subscribe((function (val){!(this.valueFromJulia[\\\"formatted_vals\\\"]) ? (_webIOScope.setObservableValue({\\\"name\\\":\\\"formatted_vals\\\",\\\"scope\\\":\\\"knockout-component-28829b74-56c3-4a39-833a-a5705654e543\\\",\\\"id\\\":\\\"ob_03\\\",\\\"type\\\":\\\"observable\\\"},val)) : undefined; return this.valueFromJulia[\\\"formatted_vals\\\"]=false}),self),this[\\\"changes\\\"].subscribe((function (val){!(this.valueFromJulia[\\\"changes\\\"]) ? (_webIOScope.setObservableValue({\\\"name\\\":\\\"changes\\\",\\\"scope\\\":\\\"knockout-component-28829b74-56c3-4a39-833a-a5705654e543\\\",\\\"id\\\":\\\"ob_05\\\",\\\"type\\\":\\\"observable\\\"},val)) : undefined; return this.valueFromJulia[\\\"changes\\\"]=false}),self),this[\\\"formatted_value\\\"].subscribe((function (val){!(this.valueFromJulia[\\\"formatted_value\\\"]) ? (_webIOScope.setObservableValue({\\\"name\\\":\\\"formatted_value\\\",\\\"scope\\\":\\\"knockout-component-28829b74-56c3-4a39-833a-a5705654e543\\\",\\\"id\\\":\\\"ob_04\\\",\\\"type\\\":\\\"observable\\\"},val)) : undefined; return this.valueFromJulia[\\\"formatted_value\\\"]=false}),self),this[\\\"index\\\"].subscribe((function (val){!(this.valueFromJulia[\\\"index\\\"]) ? (_webIOScope.setObservableValue({\\\"name\\\":\\\"index\\\",\\\"scope\\\":\\\"knockout-component-28829b74-56c3-4a39-833a-a5705654e543\\\",\\\"id\\\":\\\"ob_02\\\",\\\"type\\\":\\\"observable\\\"},val)) : undefined; return this.valueFromJulia[\\\"index\\\"]=false}),self)]\\n        \\n    }\\n    self.model = new AppViewModel();\\n    self.valueFromJulia = {};\\n    for (var key in json_data) {\\n        self.valueFromJulia[key] = false;\\n    }\\n    ko.applyBindings(self.model, self.dom);\\n}\\n\")]),\"changes\"=>Any[JSString(\"(function (val){return (val!=this.model[\\\"changes\\\"]()) ? (this.valueFromJulia[\\\"changes\\\"]=true, this.model[\\\"changes\\\"](val)) : undefined})\")],\"formatted_value\"=>Any[JSString(\"(function (val){return (val!=this.model[\\\"formatted_value\\\"]()) ? (this.valueFromJulia[\\\"formatted_value\\\"]=true, this.model[\\\"formatted_value\\\"](val)) : undefined})\")],\"index\"=>Any[JSString(\"(function (val){return (val!=this.model[\\\"index\\\"]()) ? (this.valueFromJulia[\\\"index\\\"]=true, this.model[\\\"index\\\"](val)) : undefined})\"), JSString(\"(function (val){return _webIOScope.setObservableValue({\\\"name\\\":\\\"formatted_value\\\",\\\"scope\\\":\\\"knockout-component-28829b74-56c3-4a39-833a-a5705654e543\\\",\\\"id\\\":\\\"ob_04\\\",\\\"type\\\":\\\"observable\\\"},_webIOScope.getObservableValue({\\\"name\\\":\\\"formatted_vals\\\",\\\"scope\\\":\\\"knockout-component-28829b74-56c3-4a39-833a-a5705654e543\\\",\\\"id\\\":\\\"ob_03\\\",\\\"type\\\":\\\"observable\\\"})[(_webIOScope.getObservableValue({\\\"name\\\":\\\"index\\\",\\\"scope\\\":\\\"knockout-component-28829b74-56c3-4a39-833a-a5705654e543\\\",\\\"id\\\":\\\"ob_02\\\",\\\"type\\\":\\\"observable\\\"})-1)])})\")]), ConnectionPool(Channel{Any}(sz_max:9223372036854775807,sz_curr:0), Set(AbstractConnection[]), Channel{AbstractConnection}(sz_max:32,sz_curr:0))), ##52#53{#dom#13{##dom#11#12{Dict{Any,Any},DOM}},typeof(scope)}(#dom#13{##dom#11#12{Dict{Any,Any},DOM}}(##dom#11#12{Dict{Any,Any},DOM}(Dict{Any,Any}(:className=>\"field\"), DOM(:html, :div))), scope)),:r=>Widget{:slider,Float64}(OrderedDict{Symbol,Any}(:changes=>Observable{Int64} with 1 listeners. Value:\n",
       "0,:index=>Observable{Any} with 2 listeners. Value:\n",
       "25,:formatted_vals=>Observable{Any} with 1 listeners. Value:\n",
       "[\"0.1\", \"0.102041\", \"0.104082\", \"0.106122\", \"0.108163\", \"0.110204\", \"0.112245\", \"0.114286\", \"0.116327\", \"0.118367\"  …  \"0.181633\", \"0.183673\", \"0.185714\", \"0.187755\", \"0.189796\", \"0.191837\", \"0.193878\", \"0.195918\", \"0.197959\", \"0.2\"],:formatted_value=>Observable{String} with 1 listeners. Value:\n",
       "\"0.14898\",:value=>Observable{Float64} with 2 listeners. Value:\n",
       "0.14898), Observable{Float64} with 2 listeners. Value:\n",
       "0.14898, Scope(\"knockout-component-5fa11a31-6fc6-47ae-ac54-be9c8efb2b50\", Node{DOM}(DOM(:html, :div), Any[Node{DOM}(DOM(:html, :div), Any[Node{DOM}(DOM(:html, :label), Any[\"r\"], Dict{Symbol,Any}(:className=>\"interact \",:style=>Dict{Any,Any}(:padding=>\"5px 10px 0px 10px\")), 1)], Dict{Symbol,Any}(:attributes=>Dict(\"style\"=>\"text-align:right;width:18%\")), 2), Node{DOM}(DOM(:html, :div), Any[Node{DOM}(DOM(:html, :input), Any[], Dict{Symbol,Any}(:max=>50,:min=>1,:attributes=>Dict{Any,Any}(:type=>\"range\",Symbol(\"data-bind\")=>\"numericValue: index, valueUpdate: 'input', event: {change : function () {this.changes(this.changes()+1)}}\",\"orient\"=>\"horizontal\"),:step=>1,:className=>\"slider slider is-fullwidth\",:style=>Dict{Any,Any}()), 0)], Dict{Symbol,Any}(:attributes=>Dict(\"style\"=>\"flex-grow:1; margin: 0 2%\")), 1), Node{DOM}(DOM(:html, :div), Any[Node{DOM}(DOM(:html, :p), Any[], Dict{Symbol,Any}(:attributes=>Dict(\"data-bind\"=>\"text: formatted_value\")), 0)], Dict{Symbol,Any}(:attributes=>Dict(\"style\"=>\"width:18%\")), 1)], Dict{Symbol,Any}(:attributes=>Dict(\"style\"=>\"display:flex; justify-content:center; align-items:center;\")), 7), Dict{String,Tuple{Observables.AbstractObservable,Union{Nothing, Bool}}}(\"formatted_vals\"=>(Observable{Any} with 1 listeners. Value:\n",
       "[\"0.1\", \"0.102041\", \"0.104082\", \"0.106122\", \"0.108163\", \"0.110204\", \"0.112245\", \"0.114286\", \"0.116327\", \"0.118367\"  …  \"0.181633\", \"0.183673\", \"0.185714\", \"0.187755\", \"0.189796\", \"0.191837\", \"0.193878\", \"0.195918\", \"0.197959\", \"0.2\"], nothing),\"changes\"=>(Observable{Int64} with 1 listeners. Value:\n",
       "0, nothing),\"formatted_value\"=>(Observable{String} with 1 listeners. Value:\n",
       "\"0.14898\", nothing),\"index\"=>(Observable{Any} with 2 listeners. Value:\n",
       "25, nothing)), Set(String[]), nothing, Any[\"knockout\"=>\"/home/juliohm/.julia/packages/Knockout/JIqpG/src/../assets/knockout.js\", \"knockout_punches\"=>\"/home/juliohm/.julia/packages/Knockout/JIqpG/src/../assets/knockout_punches.js\", \"/home/juliohm/.julia/packages/InteractBase/Q4IkI/src/../assets/all.js\", \"/home/juliohm/.julia/packages/InteractBase/Q4IkI/src/../assets/style.css\", \"/home/juliohm/.julia/packages/InteractBulma/Ohu5Y/src/../assets/main.css\"], Dict{Any,Any}(\"formatted_vals\"=>Any[JSString(\"(function (val){return (val!=this.model[\\\"formatted_vals\\\"]()) ? (this.valueFromJulia[\\\"formatted_vals\\\"]=true, this.model[\\\"formatted_vals\\\"](val)) : undefined})\")],\"_promises\"=>Dict{Any,Any}(\"importsLoaded\"=>Any[JSString(\"function (ko, koPunches) {\\n    ko.punches.enableAll();\\n    ko.bindingHandlers.numericValue = {\\n        init : function(element, valueAccessor, allBindings, data, context) {\\n            var stringified = ko.observable(ko.unwrap(valueAccessor()));\\n            stringified.subscribe(function(value) {\\n                var val = parseFloat(value);\\n                if (!isNaN(val)) {\\n                    valueAccessor()(val);\\n                }\\n            })\\n            valueAccessor().subscribe(function(value) {\\n                var str = JSON.stringify(value);\\n                if ((str == \\\"0\\\") && ([\\\"-0\\\", \\\"-0.\\\"].indexOf(stringified()) >= 0))\\n                     return;\\n                 if ([\\\"null\\\", \\\"\\\"].indexOf(str) >= 0)\\n                     return;\\n                stringified(str);\\n            })\\n            ko.applyBindingsToNode(element, { value: stringified, valueUpdate: allBindings.get('valueUpdate')}, context);\\n        }\\n    };\\n    var json_data = JSON.parse(\\\"{\\\\\\\"formatted_vals\\\\\\\":[\\\\\\\"0.1\\\\\\\",\\\\\\\"0.102041\\\\\\\",\\\\\\\"0.104082\\\\\\\",\\\\\\\"0.106122\\\\\\\",\\\\\\\"0.108163\\\\\\\",\\\\\\\"0.110204\\\\\\\",\\\\\\\"0.112245\\\\\\\",\\\\\\\"0.114286\\\\\\\",\\\\\\\"0.116327\\\\\\\",\\\\\\\"0.118367\\\\\\\",\\\\\\\"0.120408\\\\\\\",\\\\\\\"0.122449\\\\\\\",\\\\\\\"0.12449\\\\\\\",\\\\\\\"0.126531\\\\\\\",\\\\\\\"0.128571\\\\\\\",\\\\\\\"0.130612\\\\\\\",\\\\\\\"0.132653\\\\\\\",\\\\\\\"0.134694\\\\\\\",\\\\\\\"0.136735\\\\\\\",\\\\\\\"0.138776\\\\\\\",\\\\\\\"0.140816\\\\\\\",\\\\\\\"0.142857\\\\\\\",\\\\\\\"0.144898\\\\\\\",\\\\\\\"0.146939\\\\\\\",\\\\\\\"0.14898\\\\\\\",\\\\\\\"0.15102\\\\\\\",\\\\\\\"0.153061\\\\\\\",\\\\\\\"0.155102\\\\\\\",\\\\\\\"0.157143\\\\\\\",\\\\\\\"0.159184\\\\\\\",\\\\\\\"0.161224\\\\\\\",\\\\\\\"0.163265\\\\\\\",\\\\\\\"0.165306\\\\\\\",\\\\\\\"0.167347\\\\\\\",\\\\\\\"0.169388\\\\\\\",\\\\\\\"0.171429\\\\\\\",\\\\\\\"0.173469\\\\\\\",\\\\\\\"0.17551\\\\\\\",\\\\\\\"0.177551\\\\\\\",\\\\\\\"0.179592\\\\\\\",\\\\\\\"0.181633\\\\\\\",\\\\\\\"0.183673\\\\\\\",\\\\\\\"0.185714\\\\\\\",\\\\\\\"0.187755\\\\\\\",\\\\\\\"0.189796\\\\\\\",\\\\\\\"0.191837\\\\\\\",\\\\\\\"0.193878\\\\\\\",\\\\\\\"0.195918\\\\\\\",\\\\\\\"0.197959\\\\\\\",\\\\\\\"0.2\\\\\\\"],\\\\\\\"changes\\\\\\\":0,\\\\\\\"formatted_value\\\\\\\":\\\\\\\"0.14898\\\\\\\",\\\\\\\"index\\\\\\\":25}\\\");\\n    var self = this;\\n    function AppViewModel() {\\n        for (var key in json_data) {\\n            var el = json_data[key];\\n            this[key] = Array.isArray(el) ? ko.observableArray(el) : ko.observable(el);\\n        }\\n        \\n        \\n        [this[\\\"formatted_vals\\\"].subscribe((function (val){!(this.valueFromJulia[\\\"formatted_vals\\\"]) ? (_webIOScope.setObservableValue({\\\"name\\\":\\\"formatted_vals\\\",\\\"scope\\\":\\\"knockout-component-5fa11a31-6fc6-47ae-ac54-be9c8efb2b50\\\",\\\"id\\\":\\\"ob_08\\\",\\\"type\\\":\\\"observable\\\"},val)) : undefined; return this.valueFromJulia[\\\"formatted_vals\\\"]=false}),self),this[\\\"changes\\\"].subscribe((function (val){!(this.valueFromJulia[\\\"changes\\\"]) ? (_webIOScope.setObservableValue({\\\"name\\\":\\\"changes\\\",\\\"scope\\\":\\\"knockout-component-5fa11a31-6fc6-47ae-ac54-be9c8efb2b50\\\",\\\"id\\\":\\\"ob_10\\\",\\\"type\\\":\\\"observable\\\"},val)) : undefined; return this.valueFromJulia[\\\"changes\\\"]=false}),self),this[\\\"formatted_value\\\"].subscribe((function (val){!(this.valueFromJulia[\\\"formatted_value\\\"]) ? (_webIOScope.setObservableValue({\\\"name\\\":\\\"formatted_value\\\",\\\"scope\\\":\\\"knockout-component-5fa11a31-6fc6-47ae-ac54-be9c8efb2b50\\\",\\\"id\\\":\\\"ob_09\\\",\\\"type\\\":\\\"observable\\\"},val)) : undefined; return this.valueFromJulia[\\\"formatted_value\\\"]=false}),self),this[\\\"index\\\"].subscribe((function (val){!(this.valueFromJulia[\\\"index\\\"]) ? (_webIOScope.setObservableValue({\\\"name\\\":\\\"index\\\",\\\"scope\\\":\\\"knockout-component-5fa11a31-6fc6-47ae-ac54-be9c8efb2b50\\\",\\\"id\\\":\\\"ob_07\\\",\\\"type\\\":\\\"observable\\\"},val)) : undefined; return this.valueFromJulia[\\\"index\\\"]=false}),self)]\\n        \\n    }\\n    self.model = new AppViewModel();\\n    self.valueFromJulia = {};\\n    for (var key in json_data) {\\n        self.valueFromJulia[key] = false;\\n    }\\n    ko.applyBindings(self.model, self.dom);\\n}\\n\")]),\"changes\"=>Any[JSString(\"(function (val){return (val!=this.model[\\\"changes\\\"]()) ? (this.valueFromJulia[\\\"changes\\\"]=true, this.model[\\\"changes\\\"](val)) : undefined})\")],\"formatted_value\"=>Any[JSString(\"(function (val){return (val!=this.model[\\\"formatted_value\\\"]()) ? (this.valueFromJulia[\\\"formatted_value\\\"]=true, this.model[\\\"formatted_value\\\"](val)) : undefined})\")],\"index\"=>Any[JSString(\"(function (val){return (val!=this.model[\\\"index\\\"]()) ? (this.valueFromJulia[\\\"index\\\"]=true, this.model[\\\"index\\\"](val)) : undefined})\"), JSString(\"(function (val){return _webIOScope.setObservableValue({\\\"name\\\":\\\"formatted_value\\\",\\\"scope\\\":\\\"knockout-component-5fa11a31-6fc6-47ae-ac54-be9c8efb2b50\\\",\\\"id\\\":\\\"ob_09\\\",\\\"type\\\":\\\"observable\\\"},_webIOScope.getObservableValue({\\\"name\\\":\\\"formatted_vals\\\",\\\"scope\\\":\\\"knockout-component-5fa11a31-6fc6-47ae-ac54-be9c8efb2b50\\\",\\\"id\\\":\\\"ob_08\\\",\\\"type\\\":\\\"observable\\\"})[(_webIOScope.getObservableValue({\\\"name\\\":\\\"index\\\",\\\"scope\\\":\\\"knockout-component-5fa11a31-6fc6-47ae-ac54-be9c8efb2b50\\\",\\\"id\\\":\\\"ob_07\\\",\\\"type\\\":\\\"observable\\\"})-1)])})\")]), ConnectionPool(Channel{Any}(sz_max:9223372036854775807,sz_curr:0), Set(AbstractConnection[]), Channel{AbstractConnection}(sz_max:32,sz_curr:0))), ##52#53{#dom#13{##dom#11#12{Dict{Any,Any},DOM}},typeof(scope)}(#dom#13{##dom#11#12{Dict{Any,Any},DOM}}(##dom#11#12{Dict{Any,Any},DOM}(Dict{Any,Any}(:className=>\"field\"), DOM(:html, :div))), scope))), Observable{Any} with 0 listeners. Value:\n",
       "Plot{Plots.GRBackend() n=2}, nothing, getfield(Main, Symbol(\"##4#6\")){Observable{Any}}(Observable{Any} with 0 listeners. Value:\n",
       "Plot{Plots.GRBackend() n=2}))"
      ]
     },
     "execution_count": 4,
     "metadata": {
      "application/vnd.webio.node+json": {
       "kernelId": "62b82301-6aec-4a0c-ab56-4778889cce6c"
      }
     },
     "output_type": "execute_result"
    }
   ],
   "source": [
    "using GeoStats\n",
    "using Interact\n",
    "\n",
    "# discretize the line segment for plotting\n",
    "n = 200\n",
    "xs = range(0., stop=1, length=n)\n",
    "\n",
    "@manipulate for s=range(.0, stop=.1, length=50),\n",
    "                r=range(.1, stop=.2, length=50)\n",
    "    # some given mean\n",
    "    process_mean = .5\n",
    "    \n",
    "    # spatial structure\n",
    "    γ = GaussianVariogram(sill=s, range=r)\n",
    "    \n",
    "    # create Gaussian process\n",
    "    simkrig = SimpleKriging(x', z, γ, process_mean)\n",
    "    \n",
    "    # estimate mean and variance\n",
    "    μ = zeros(n)\n",
    "    σ² = zeros(n)\n",
    "    for (i,loc) in enumerate(xs)\n",
    "        μ[i], σ²[i] = estimate(simkrig, [loc])\n",
    "    end\n",
    "    \n",
    "    σ = sqrt.(σ²)\n",
    "    \n",
    "    scatter(x, z, label=\"data\")\n",
    "    plot!(xs, μ, ribbon=σ, fillalpha=.5, label=\"Gaussian process\")\n",
    "end"
   ]
  },
  {
   "cell_type": "markdown",
   "metadata": {},
   "source": [
    "## Ordinary Kriging\n",
    "\n",
    "An immediate generalization of Simple Kriging is Ordinary Kriging. In this case, we still have the assumption that the mean of the field is constant, but this time we treat it as an unknown. Below is the estimation with Ordinary Kriging where we only need to specify the covariance-type function:"
   ]
  },
  {
   "cell_type": "code",
   "execution_count": 5,
   "metadata": {},
   "outputs": [
    {
     "data": {
      "application/vnd.webio.node+json": {
       "children": [
        {
         "children": [
          {
           "children": [
            {
             "children": [
              {
               "children": [
                {
                 "children": [
                  "s"
                 ],
                 "instanceArgs": {
                  "namespace": "html",
                  "tag": "label"
                 },
                 "nodeType": "DOM",
                 "props": {
                  "className": "interact ",
                  "style": {
                   "padding": "5px 10px 0px 10px"
                  }
                 },
                 "type": "node"
                }
               ],
               "instanceArgs": {
                "namespace": "html",
                "tag": "div"
               },
               "nodeType": "DOM",
               "props": {
                "attributes": {
                 "style": "text-align:right;width:18%"
                }
               },
               "type": "node"
              },
              {
               "children": [
                {
                 "children": [],
                 "instanceArgs": {
                  "namespace": "html",
                  "tag": "input"
                 },
                 "nodeType": "DOM",
                 "props": {
                  "attributes": {
                   "data-bind": "numericValue: index, valueUpdate: 'input', event: {change : function () {this.changes(this.changes()+1)}}",
                   "orient": "horizontal",
                   "type": "range"
                  },
                  "className": "slider slider is-fullwidth",
                  "max": 50,
                  "min": 1,
                  "step": 1,
                  "style": {}
                 },
                 "type": "node"
                }
               ],
               "instanceArgs": {
                "namespace": "html",
                "tag": "div"
               },
               "nodeType": "DOM",
               "props": {
                "attributes": {
                 "style": "flex-grow:1; margin: 0 2%"
                }
               },
               "type": "node"
              },
              {
               "children": [
                {
                 "children": [],
                 "instanceArgs": {
                  "namespace": "html",
                  "tag": "p"
                 },
                 "nodeType": "DOM",
                 "props": {
                  "attributes": {
                   "data-bind": "text: formatted_value"
                  }
                 },
                 "type": "node"
                }
               ],
               "instanceArgs": {
                "namespace": "html",
                "tag": "div"
               },
               "nodeType": "DOM",
               "props": {
                "attributes": {
                 "style": "width:18%"
                }
               },
               "type": "node"
              }
             ],
             "instanceArgs": {
              "namespace": "html",
              "tag": "div"
             },
             "nodeType": "DOM",
             "props": {
              "attributes": {
               "style": "display:flex; justify-content:center; align-items:center;"
              }
             },
             "type": "node"
            }
           ],
           "instanceArgs": {
            "handlers": {
             "_promises": {
              "importsLoaded": [
               "function (ko, koPunches) {\n    ko.punches.enableAll();\n    ko.bindingHandlers.numericValue = {\n        init : function(element, valueAccessor, allBindings, data, context) {\n            var stringified = ko.observable(ko.unwrap(valueAccessor()));\n            stringified.subscribe(function(value) {\n                var val = parseFloat(value);\n                if (!isNaN(val)) {\n                    valueAccessor()(val);\n                }\n            })\n            valueAccessor().subscribe(function(value) {\n                var str = JSON.stringify(value);\n                if ((str == \"0\") && ([\"-0\", \"-0.\"].indexOf(stringified()) >= 0))\n                     return;\n                 if ([\"null\", \"\"].indexOf(str) >= 0)\n                     return;\n                stringified(str);\n            })\n            ko.applyBindingsToNode(element, { value: stringified, valueUpdate: allBindings.get('valueUpdate')}, context);\n        }\n    };\n    var json_data = JSON.parse(\"{\\\"formatted_vals\\\":[\\\"0.0\\\",\\\"0.00204082\\\",\\\"0.00408163\\\",\\\"0.00612245\\\",\\\"0.00816327\\\",\\\"0.0102041\\\",\\\"0.0122449\\\",\\\"0.0142857\\\",\\\"0.0163265\\\",\\\"0.0183673\\\",\\\"0.0204082\\\",\\\"0.022449\\\",\\\"0.0244898\\\",\\\"0.0265306\\\",\\\"0.0285714\\\",\\\"0.0306122\\\",\\\"0.0326531\\\",\\\"0.0346939\\\",\\\"0.0367347\\\",\\\"0.0387755\\\",\\\"0.0408163\\\",\\\"0.0428571\\\",\\\"0.044898\\\",\\\"0.0469388\\\",\\\"0.0489796\\\",\\\"0.0510204\\\",\\\"0.0530612\\\",\\\"0.055102\\\",\\\"0.0571429\\\",\\\"0.0591837\\\",\\\"0.0612245\\\",\\\"0.0632653\\\",\\\"0.0653061\\\",\\\"0.0673469\\\",\\\"0.0693878\\\",\\\"0.0714286\\\",\\\"0.0734694\\\",\\\"0.0755102\\\",\\\"0.077551\\\",\\\"0.0795918\\\",\\\"0.0816327\\\",\\\"0.0836735\\\",\\\"0.0857143\\\",\\\"0.0877551\\\",\\\"0.0897959\\\",\\\"0.0918367\\\",\\\"0.0938776\\\",\\\"0.0959184\\\",\\\"0.0979592\\\",\\\"0.1\\\"],\\\"changes\\\":0,\\\"formatted_value\\\":\\\"0.0489796\\\",\\\"index\\\":25}\");\n    var self = this;\n    function AppViewModel() {\n        for (var key in json_data) {\n            var el = json_data[key];\n            this[key] = Array.isArray(el) ? ko.observableArray(el) : ko.observable(el);\n        }\n        \n        \n        [this[\"formatted_vals\"].subscribe((function (val){!(this.valueFromJulia[\"formatted_vals\"]) ? (_webIOScope.setObservableValue({\"name\":\"formatted_vals\",\"scope\":\"knockout-component-e4ebcc62-7839-4145-8618-92e6fa3c02db\",\"id\":\"ob_18\",\"type\":\"observable\"},val)) : undefined; return this.valueFromJulia[\"formatted_vals\"]=false}),self),this[\"changes\"].subscribe((function (val){!(this.valueFromJulia[\"changes\"]) ? (_webIOScope.setObservableValue({\"name\":\"changes\",\"scope\":\"knockout-component-e4ebcc62-7839-4145-8618-92e6fa3c02db\",\"id\":\"ob_20\",\"type\":\"observable\"},val)) : undefined; return this.valueFromJulia[\"changes\"]=false}),self),this[\"formatted_value\"].subscribe((function (val){!(this.valueFromJulia[\"formatted_value\"]) ? (_webIOScope.setObservableValue({\"name\":\"formatted_value\",\"scope\":\"knockout-component-e4ebcc62-7839-4145-8618-92e6fa3c02db\",\"id\":\"ob_19\",\"type\":\"observable\"},val)) : undefined; return this.valueFromJulia[\"formatted_value\"]=false}),self),this[\"index\"].subscribe((function (val){!(this.valueFromJulia[\"index\"]) ? (_webIOScope.setObservableValue({\"name\":\"index\",\"scope\":\"knockout-component-e4ebcc62-7839-4145-8618-92e6fa3c02db\",\"id\":\"ob_17\",\"type\":\"observable\"},val)) : undefined; return this.valueFromJulia[\"index\"]=false}),self)]\n        \n    }\n    self.model = new AppViewModel();\n    self.valueFromJulia = {};\n    for (var key in json_data) {\n        self.valueFromJulia[key] = false;\n    }\n    ko.applyBindings(self.model, self.dom);\n}\n"
              ]
             },
             "changes": [
              "(function (val){return (val!=this.model[\"changes\"]()) ? (this.valueFromJulia[\"changes\"]=true, this.model[\"changes\"](val)) : undefined})"
             ],
             "formatted_vals": [
              "(function (val){return (val!=this.model[\"formatted_vals\"]()) ? (this.valueFromJulia[\"formatted_vals\"]=true, this.model[\"formatted_vals\"](val)) : undefined})"
             ],
             "formatted_value": [
              "(function (val){return (val!=this.model[\"formatted_value\"]()) ? (this.valueFromJulia[\"formatted_value\"]=true, this.model[\"formatted_value\"](val)) : undefined})"
             ],
             "index": [
              "(function (val){return (val!=this.model[\"index\"]()) ? (this.valueFromJulia[\"index\"]=true, this.model[\"index\"](val)) : undefined})",
              "(function (val){return _webIOScope.setObservableValue({\"name\":\"formatted_value\",\"scope\":\"knockout-component-e4ebcc62-7839-4145-8618-92e6fa3c02db\",\"id\":\"ob_19\",\"type\":\"observable\"},_webIOScope.getObservableValue({\"name\":\"formatted_vals\",\"scope\":\"knockout-component-e4ebcc62-7839-4145-8618-92e6fa3c02db\",\"id\":\"ob_18\",\"type\":\"observable\"})[(_webIOScope.getObservableValue({\"name\":\"index\",\"scope\":\"knockout-component-e4ebcc62-7839-4145-8618-92e6fa3c02db\",\"id\":\"ob_17\",\"type\":\"observable\"})-1)])})"
             ]
            },
            "id": "knockout-component-e4ebcc62-7839-4145-8618-92e6fa3c02db",
            "imports": {
             "data": [
              {
               "name": "knockout",
               "type": "js",
               "url": "/assetserver/12fd8e1ff6f17c03b96dfdacbbef8267e1e89a3a-knockout.js"
              },
              {
               "name": "knockout_punches",
               "type": "js",
               "url": "/assetserver/6a01192897ccbdaf17e62e31d476c829b44592c2-knockout_punches.js"
              },
              {
               "name": null,
               "type": "js",
               "url": "/assetserver/7eafee0b34b6bcd2c7a521df5846c6418f5603af-all.js"
              },
              {
               "name": null,
               "type": "css",
               "url": "/assetserver/2994e4d83a225d257863de5c164dd41773eb711b-style.css"
              },
              {
               "name": null,
               "type": "css",
               "url": "/assetserver/6b7df7a83458e68eec729d7ee80622dc21ed3a7e-main.css"
              }
             ],
             "type": "async_block"
            },
            "observables": {
             "changes": {
              "id": "ob_20",
              "sync": false,
              "value": 0
             },
             "formatted_vals": {
              "id": "ob_18",
              "sync": false,
              "value": [
               "0.0",
               "0.00204082",
               "0.00408163",
               "0.00612245",
               "0.00816327",
               "0.0102041",
               "0.0122449",
               "0.0142857",
               "0.0163265",
               "0.0183673",
               "0.0204082",
               "0.022449",
               "0.0244898",
               "0.0265306",
               "0.0285714",
               "0.0306122",
               "0.0326531",
               "0.0346939",
               "0.0367347",
               "0.0387755",
               "0.0408163",
               "0.0428571",
               "0.044898",
               "0.0469388",
               "0.0489796",
               "0.0510204",
               "0.0530612",
               "0.055102",
               "0.0571429",
               "0.0591837",
               "0.0612245",
               "0.0632653",
               "0.0653061",
               "0.0673469",
               "0.0693878",
               "0.0714286",
               "0.0734694",
               "0.0755102",
               "0.077551",
               "0.0795918",
               "0.0816327",
               "0.0836735",
               "0.0857143",
               "0.0877551",
               "0.0897959",
               "0.0918367",
               "0.0938776",
               "0.0959184",
               "0.0979592",
               "0.1"
              ]
             },
             "formatted_value": {
              "id": "ob_19",
              "sync": false,
              "value": "0.0489796"
             },
             "index": {
              "id": "ob_17",
              "sync": true,
              "value": 25
             }
            },
            "systemjs_options": null
           },
           "nodeType": "Scope",
           "props": {},
           "type": "node"
          }
         ],
         "instanceArgs": {
          "namespace": "html",
          "tag": "div"
         },
         "nodeType": "DOM",
         "props": {
          "className": "field"
         },
         "type": "node"
        },
        {
         "children": [
          {
           "children": [
            {
             "children": [
              {
               "children": [
                {
                 "children": [
                  "r"
                 ],
                 "instanceArgs": {
                  "namespace": "html",
                  "tag": "label"
                 },
                 "nodeType": "DOM",
                 "props": {
                  "className": "interact ",
                  "style": {
                   "padding": "5px 10px 0px 10px"
                  }
                 },
                 "type": "node"
                }
               ],
               "instanceArgs": {
                "namespace": "html",
                "tag": "div"
               },
               "nodeType": "DOM",
               "props": {
                "attributes": {
                 "style": "text-align:right;width:18%"
                }
               },
               "type": "node"
              },
              {
               "children": [
                {
                 "children": [],
                 "instanceArgs": {
                  "namespace": "html",
                  "tag": "input"
                 },
                 "nodeType": "DOM",
                 "props": {
                  "attributes": {
                   "data-bind": "numericValue: index, valueUpdate: 'input', event: {change : function () {this.changes(this.changes()+1)}}",
                   "orient": "horizontal",
                   "type": "range"
                  },
                  "className": "slider slider is-fullwidth",
                  "max": 50,
                  "min": 1,
                  "step": 1,
                  "style": {}
                 },
                 "type": "node"
                }
               ],
               "instanceArgs": {
                "namespace": "html",
                "tag": "div"
               },
               "nodeType": "DOM",
               "props": {
                "attributes": {
                 "style": "flex-grow:1; margin: 0 2%"
                }
               },
               "type": "node"
              },
              {
               "children": [
                {
                 "children": [],
                 "instanceArgs": {
                  "namespace": "html",
                  "tag": "p"
                 },
                 "nodeType": "DOM",
                 "props": {
                  "attributes": {
                   "data-bind": "text: formatted_value"
                  }
                 },
                 "type": "node"
                }
               ],
               "instanceArgs": {
                "namespace": "html",
                "tag": "div"
               },
               "nodeType": "DOM",
               "props": {
                "attributes": {
                 "style": "width:18%"
                }
               },
               "type": "node"
              }
             ],
             "instanceArgs": {
              "namespace": "html",
              "tag": "div"
             },
             "nodeType": "DOM",
             "props": {
              "attributes": {
               "style": "display:flex; justify-content:center; align-items:center;"
              }
             },
             "type": "node"
            }
           ],
           "instanceArgs": {
            "handlers": {
             "_promises": {
              "importsLoaded": [
               "function (ko, koPunches) {\n    ko.punches.enableAll();\n    ko.bindingHandlers.numericValue = {\n        init : function(element, valueAccessor, allBindings, data, context) {\n            var stringified = ko.observable(ko.unwrap(valueAccessor()));\n            stringified.subscribe(function(value) {\n                var val = parseFloat(value);\n                if (!isNaN(val)) {\n                    valueAccessor()(val);\n                }\n            })\n            valueAccessor().subscribe(function(value) {\n                var str = JSON.stringify(value);\n                if ((str == \"0\") && ([\"-0\", \"-0.\"].indexOf(stringified()) >= 0))\n                     return;\n                 if ([\"null\", \"\"].indexOf(str) >= 0)\n                     return;\n                stringified(str);\n            })\n            ko.applyBindingsToNode(element, { value: stringified, valueUpdate: allBindings.get('valueUpdate')}, context);\n        }\n    };\n    var json_data = JSON.parse(\"{\\\"formatted_vals\\\":[\\\"0.1\\\",\\\"0.102041\\\",\\\"0.104082\\\",\\\"0.106122\\\",\\\"0.108163\\\",\\\"0.110204\\\",\\\"0.112245\\\",\\\"0.114286\\\",\\\"0.116327\\\",\\\"0.118367\\\",\\\"0.120408\\\",\\\"0.122449\\\",\\\"0.12449\\\",\\\"0.126531\\\",\\\"0.128571\\\",\\\"0.130612\\\",\\\"0.132653\\\",\\\"0.134694\\\",\\\"0.136735\\\",\\\"0.138776\\\",\\\"0.140816\\\",\\\"0.142857\\\",\\\"0.144898\\\",\\\"0.146939\\\",\\\"0.14898\\\",\\\"0.15102\\\",\\\"0.153061\\\",\\\"0.155102\\\",\\\"0.157143\\\",\\\"0.159184\\\",\\\"0.161224\\\",\\\"0.163265\\\",\\\"0.165306\\\",\\\"0.167347\\\",\\\"0.169388\\\",\\\"0.171429\\\",\\\"0.173469\\\",\\\"0.17551\\\",\\\"0.177551\\\",\\\"0.179592\\\",\\\"0.181633\\\",\\\"0.183673\\\",\\\"0.185714\\\",\\\"0.187755\\\",\\\"0.189796\\\",\\\"0.191837\\\",\\\"0.193878\\\",\\\"0.195918\\\",\\\"0.197959\\\",\\\"0.2\\\"],\\\"changes\\\":0,\\\"formatted_value\\\":\\\"0.14898\\\",\\\"index\\\":25}\");\n    var self = this;\n    function AppViewModel() {\n        for (var key in json_data) {\n            var el = json_data[key];\n            this[key] = Array.isArray(el) ? ko.observableArray(el) : ko.observable(el);\n        }\n        \n        \n        [this[\"formatted_vals\"].subscribe((function (val){!(this.valueFromJulia[\"formatted_vals\"]) ? (_webIOScope.setObservableValue({\"name\":\"formatted_vals\",\"scope\":\"knockout-component-756e2b77-3049-4d12-b2d9-456ba52358bd\",\"id\":\"ob_23\",\"type\":\"observable\"},val)) : undefined; return this.valueFromJulia[\"formatted_vals\"]=false}),self),this[\"changes\"].subscribe((function (val){!(this.valueFromJulia[\"changes\"]) ? (_webIOScope.setObservableValue({\"name\":\"changes\",\"scope\":\"knockout-component-756e2b77-3049-4d12-b2d9-456ba52358bd\",\"id\":\"ob_25\",\"type\":\"observable\"},val)) : undefined; return this.valueFromJulia[\"changes\"]=false}),self),this[\"formatted_value\"].subscribe((function (val){!(this.valueFromJulia[\"formatted_value\"]) ? (_webIOScope.setObservableValue({\"name\":\"formatted_value\",\"scope\":\"knockout-component-756e2b77-3049-4d12-b2d9-456ba52358bd\",\"id\":\"ob_24\",\"type\":\"observable\"},val)) : undefined; return this.valueFromJulia[\"formatted_value\"]=false}),self),this[\"index\"].subscribe((function (val){!(this.valueFromJulia[\"index\"]) ? (_webIOScope.setObservableValue({\"name\":\"index\",\"scope\":\"knockout-component-756e2b77-3049-4d12-b2d9-456ba52358bd\",\"id\":\"ob_22\",\"type\":\"observable\"},val)) : undefined; return this.valueFromJulia[\"index\"]=false}),self)]\n        \n    }\n    self.model = new AppViewModel();\n    self.valueFromJulia = {};\n    for (var key in json_data) {\n        self.valueFromJulia[key] = false;\n    }\n    ko.applyBindings(self.model, self.dom);\n}\n"
              ]
             },
             "changes": [
              "(function (val){return (val!=this.model[\"changes\"]()) ? (this.valueFromJulia[\"changes\"]=true, this.model[\"changes\"](val)) : undefined})"
             ],
             "formatted_vals": [
              "(function (val){return (val!=this.model[\"formatted_vals\"]()) ? (this.valueFromJulia[\"formatted_vals\"]=true, this.model[\"formatted_vals\"](val)) : undefined})"
             ],
             "formatted_value": [
              "(function (val){return (val!=this.model[\"formatted_value\"]()) ? (this.valueFromJulia[\"formatted_value\"]=true, this.model[\"formatted_value\"](val)) : undefined})"
             ],
             "index": [
              "(function (val){return (val!=this.model[\"index\"]()) ? (this.valueFromJulia[\"index\"]=true, this.model[\"index\"](val)) : undefined})",
              "(function (val){return _webIOScope.setObservableValue({\"name\":\"formatted_value\",\"scope\":\"knockout-component-756e2b77-3049-4d12-b2d9-456ba52358bd\",\"id\":\"ob_24\",\"type\":\"observable\"},_webIOScope.getObservableValue({\"name\":\"formatted_vals\",\"scope\":\"knockout-component-756e2b77-3049-4d12-b2d9-456ba52358bd\",\"id\":\"ob_23\",\"type\":\"observable\"})[(_webIOScope.getObservableValue({\"name\":\"index\",\"scope\":\"knockout-component-756e2b77-3049-4d12-b2d9-456ba52358bd\",\"id\":\"ob_22\",\"type\":\"observable\"})-1)])})"
             ]
            },
            "id": "knockout-component-756e2b77-3049-4d12-b2d9-456ba52358bd",
            "imports": {
             "data": [
              {
               "name": "knockout",
               "type": "js",
               "url": "/assetserver/12fd8e1ff6f17c03b96dfdacbbef8267e1e89a3a-knockout.js"
              },
              {
               "name": "knockout_punches",
               "type": "js",
               "url": "/assetserver/6a01192897ccbdaf17e62e31d476c829b44592c2-knockout_punches.js"
              },
              {
               "name": null,
               "type": "js",
               "url": "/assetserver/7eafee0b34b6bcd2c7a521df5846c6418f5603af-all.js"
              },
              {
               "name": null,
               "type": "css",
               "url": "/assetserver/2994e4d83a225d257863de5c164dd41773eb711b-style.css"
              },
              {
               "name": null,
               "type": "css",
               "url": "/assetserver/6b7df7a83458e68eec729d7ee80622dc21ed3a7e-main.css"
              }
             ],
             "type": "async_block"
            },
            "observables": {
             "changes": {
              "id": "ob_25",
              "sync": false,
              "value": 0
             },
             "formatted_vals": {
              "id": "ob_23",
              "sync": false,
              "value": [
               "0.1",
               "0.102041",
               "0.104082",
               "0.106122",
               "0.108163",
               "0.110204",
               "0.112245",
               "0.114286",
               "0.116327",
               "0.118367",
               "0.120408",
               "0.122449",
               "0.12449",
               "0.126531",
               "0.128571",
               "0.130612",
               "0.132653",
               "0.134694",
               "0.136735",
               "0.138776",
               "0.140816",
               "0.142857",
               "0.144898",
               "0.146939",
               "0.14898",
               "0.15102",
               "0.153061",
               "0.155102",
               "0.157143",
               "0.159184",
               "0.161224",
               "0.163265",
               "0.165306",
               "0.167347",
               "0.169388",
               "0.171429",
               "0.173469",
               "0.17551",
               "0.177551",
               "0.179592",
               "0.181633",
               "0.183673",
               "0.185714",
               "0.187755",
               "0.189796",
               "0.191837",
               "0.193878",
               "0.195918",
               "0.197959",
               "0.2"
              ]
             },
             "formatted_value": {
              "id": "ob_24",
              "sync": false,
              "value": "0.14898"
             },
             "index": {
              "id": "ob_22",
              "sync": true,
              "value": 25
             }
            },
            "systemjs_options": null
           },
           "nodeType": "Scope",
           "props": {},
           "type": "node"
          }
         ],
         "instanceArgs": {
          "namespace": "html",
          "tag": "div"
         },
         "nodeType": "DOM",
         "props": {
          "className": "field"
         },
         "type": "node"
        },
        {
         "children": [
          {
           "children": [],
           "instanceArgs": {
            "id": "ob_30",
            "name": "obs-node"
           },
           "nodeType": "ObservableNode",
           "props": {},
           "type": "node"
          }
         ],
         "instanceArgs": {
          "handlers": {},
          "id": "scope-637f6a13-805c-4dd5-b483-b177ff0d5927",
          "imports": {
           "data": [],
           "type": "async_block"
          },
          "observables": {
           "obs-node": {
            "id": "ob_30",
            "sync": false,
            "value": {
             "children": [
              {
               "children": [],
               "instanceArgs": {
                "namespace": "html",
                "tag": "div"
               },
               "nodeType": "DOM",
               "props": {
                "setInnerHtml": "<?xml version=\"1.0\" encoding=\"utf-8\"?>\n<svg xmlns=\"http://www.w3.org/2000/svg\" xmlns:xlink=\"http://www.w3.org/1999/xlink\" width=\"1000\" height=\"400\" viewBox=\"0 0 4000 1600\">\n<defs>\n  <clipPath id=\"clip2000\">\n    <rect x=\"0\" y=\"0\" width=\"2000\" height=\"2000\"/>\n  </clipPath>\n</defs>\n<defs>\n  <clipPath id=\"clip2001\">\n    <rect x=\"0\" y=\"0\" width=\"4000\" height=\"1600\"/>\n  </clipPath>\n</defs>\n<polygon clip-path=\"url(#clip2001)\" points=\"\n0,1600 4000,1600 4000,0 0,0 \n  \" fill=\"#ffffff\" fill-rule=\"evenodd\" fill-opacity=\"1\"/>\n<defs>\n  <clipPath id=\"clip2002\">\n    <rect x=\"800\" y=\"0\" width=\"2801\" height=\"1600\"/>\n  </clipPath>\n</defs>\n<polygon clip-path=\"url(#clip2001)\" points=\"\n161.394,1516.89 3921.26,1516.89 3921.26,47.2441 161.394,47.2441 \n  \" fill=\"#ffffff\" fill-rule=\"evenodd\" fill-opacity=\"1\"/>\n<defs>\n  <clipPath id=\"clip2003\">\n    <rect x=\"161\" y=\"47\" width=\"3761\" height=\"1471\"/>\n  </clipPath>\n</defs>\n<polyline clip-path=\"url(#clip2003)\" style=\"stroke:#000000; stroke-width:2; stroke-opacity:0.1; fill:none\" points=\"\n  161.394,1516.89 161.394,47.2441 \n  \"/>\n<polyline clip-path=\"url(#clip2003)\" style=\"stroke:#000000; stroke-width:2; stroke-opacity:0.1; fill:none\" points=\"\n  913.367,1516.89 913.367,47.2441 \n  \"/>\n<polyline clip-path=\"url(#clip2003)\" style=\"stroke:#000000; stroke-width:2; stroke-opacity:0.1; fill:none\" points=\"\n  1665.34,1516.89 1665.34,47.2441 \n  \"/>\n<polyline clip-path=\"url(#clip2003)\" style=\"stroke:#000000; stroke-width:2; stroke-opacity:0.1; fill:none\" points=\"\n  2417.31,1516.89 2417.31,47.2441 \n  \"/>\n<polyline clip-path=\"url(#clip2003)\" style=\"stroke:#000000; stroke-width:2; stroke-opacity:0.1; fill:none\" points=\"\n  3169.29,1516.89 3169.29,47.2441 \n  \"/>\n<polyline clip-path=\"url(#clip2003)\" style=\"stroke:#000000; stroke-width:2; stroke-opacity:0.1; fill:none\" points=\"\n  3921.26,1516.89 3921.26,47.2441 \n  \"/>\n<polyline clip-path=\"url(#clip2003)\" style=\"stroke:#000000; stroke-width:2; stroke-opacity:0.1; fill:none\" points=\"\n  161.394,1516.89 3921.26,1516.89 \n  \"/>\n<polyline clip-path=\"url(#clip2003)\" style=\"stroke:#000000; stroke-width:2; stroke-opacity:0.1; fill:none\" points=\"\n  161.394,1222.96 3921.26,1222.96 \n  \"/>\n<polyline clip-path=\"url(#clip2003)\" style=\"stroke:#000000; stroke-width:2; stroke-opacity:0.1; fill:none\" points=\"\n  161.394,929.03 3921.26,929.03 \n  \"/>\n<polyline clip-path=\"url(#clip2003)\" style=\"stroke:#000000; stroke-width:2; stroke-opacity:0.1; fill:none\" points=\"\n  161.394,635.102 3921.26,635.102 \n  \"/>\n<polyline clip-path=\"url(#clip2003)\" style=\"stroke:#000000; stroke-width:2; stroke-opacity:0.1; fill:none\" points=\"\n  161.394,341.173 3921.26,341.173 \n  \"/>\n<polyline clip-path=\"url(#clip2003)\" style=\"stroke:#000000; stroke-width:2; stroke-opacity:0.1; fill:none\" points=\"\n  161.394,47.2441 3921.26,47.2441 \n  \"/>\n<polyline clip-path=\"url(#clip2001)\" style=\"stroke:#000000; stroke-width:4; stroke-opacity:1; fill:none\" points=\"\n  161.394,1516.89 3921.26,1516.89 \n  \"/>\n<polyline clip-path=\"url(#clip2001)\" style=\"stroke:#000000; stroke-width:4; stroke-opacity:1; fill:none\" points=\"\n  161.394,1516.89 161.394,47.2441 \n  \"/>\n<polyline clip-path=\"url(#clip2001)\" style=\"stroke:#000000; stroke-width:4; stroke-opacity:1; fill:none\" points=\"\n  161.394,1516.89 161.394,1494.84 \n  \"/>\n<polyline clip-path=\"url(#clip2001)\" style=\"stroke:#000000; stroke-width:4; stroke-opacity:1; fill:none\" points=\"\n  913.367,1516.89 913.367,1494.84 \n  \"/>\n<polyline clip-path=\"url(#clip2001)\" style=\"stroke:#000000; stroke-width:4; stroke-opacity:1; fill:none\" points=\"\n  1665.34,1516.89 1665.34,1494.84 \n  \"/>\n<polyline clip-path=\"url(#clip2001)\" style=\"stroke:#000000; stroke-width:4; stroke-opacity:1; fill:none\" points=\"\n  2417.31,1516.89 2417.31,1494.84 \n  \"/>\n<polyline clip-path=\"url(#clip2001)\" style=\"stroke:#000000; stroke-width:4; stroke-opacity:1; fill:none\" points=\"\n  3169.29,1516.89 3169.29,1494.84 \n  \"/>\n<polyline clip-path=\"url(#clip2001)\" style=\"stroke:#000000; stroke-width:4; stroke-opacity:1; fill:none\" points=\"\n  3921.26,1516.89 3921.26,1494.84 \n  \"/>\n<polyline clip-path=\"url(#clip2001)\" style=\"stroke:#000000; stroke-width:4; stroke-opacity:1; fill:none\" points=\"\n  161.394,1516.89 217.792,1516.89 \n  \"/>\n<polyline clip-path=\"url(#clip2001)\" style=\"stroke:#000000; stroke-width:4; stroke-opacity:1; fill:none\" points=\"\n  161.394,1222.96 217.792,1222.96 \n  \"/>\n<polyline clip-path=\"url(#clip2001)\" style=\"stroke:#000000; stroke-width:4; stroke-opacity:1; fill:none\" points=\"\n  161.394,929.03 217.792,929.03 \n  \"/>\n<polyline clip-path=\"url(#clip2001)\" style=\"stroke:#000000; stroke-width:4; stroke-opacity:1; fill:none\" points=\"\n  161.394,635.102 217.792,635.102 \n  \"/>\n<polyline clip-path=\"url(#clip2001)\" style=\"stroke:#000000; stroke-width:4; stroke-opacity:1; fill:none\" points=\"\n  161.394,341.173 217.792,341.173 \n  \"/>\n<polyline clip-path=\"url(#clip2001)\" style=\"stroke:#000000; stroke-width:4; stroke-opacity:1; fill:none\" points=\"\n  161.394,47.2441 217.792,47.2441 \n  \"/>\n<g clip-path=\"url(#clip2001)\">\n<text style=\"fill:#000000; fill-opacity:1; font-family:Arial,Helvetica Neue,Helvetica,sans-serif; font-size:48px; text-anchor:middle;\" transform=\"rotate(0, 161.394, 1578.89)\" x=\"161.394\" y=\"1578.89\">0.0</text>\n</g>\n<g clip-path=\"url(#clip2001)\">\n<text style=\"fill:#000000; fill-opacity:1; font-family:Arial,Helvetica Neue,Helvetica,sans-serif; font-size:48px; text-anchor:middle;\" transform=\"rotate(0, 913.367, 1578.89)\" x=\"913.367\" y=\"1578.89\">0.2</text>\n</g>\n<g clip-path=\"url(#clip2001)\">\n<text style=\"fill:#000000; fill-opacity:1; font-family:Arial,Helvetica Neue,Helvetica,sans-serif; font-size:48px; text-anchor:middle;\" transform=\"rotate(0, 1665.34, 1578.89)\" x=\"1665.34\" y=\"1578.89\">0.4</text>\n</g>\n<g clip-path=\"url(#clip2001)\">\n<text style=\"fill:#000000; fill-opacity:1; font-family:Arial,Helvetica Neue,Helvetica,sans-serif; font-size:48px; text-anchor:middle;\" transform=\"rotate(0, 2417.31, 1578.89)\" x=\"2417.31\" y=\"1578.89\">0.6</text>\n</g>\n<g clip-path=\"url(#clip2001)\">\n<text style=\"fill:#000000; fill-opacity:1; font-family:Arial,Helvetica Neue,Helvetica,sans-serif; font-size:48px; text-anchor:middle;\" transform=\"rotate(0, 3169.29, 1578.89)\" x=\"3169.29\" y=\"1578.89\">0.8</text>\n</g>\n<g clip-path=\"url(#clip2001)\">\n<text style=\"fill:#000000; fill-opacity:1; font-family:Arial,Helvetica Neue,Helvetica,sans-serif; font-size:48px; text-anchor:middle;\" transform=\"rotate(0, 3921.26, 1578.89)\" x=\"3921.26\" y=\"1578.89\">1.0</text>\n</g>\n<g clip-path=\"url(#clip2001)\">\n<text style=\"fill:#000000; fill-opacity:1; font-family:Arial,Helvetica Neue,Helvetica,sans-serif; font-size:48px; text-anchor:end;\" transform=\"rotate(0, 121.394, 1534.39)\" x=\"121.394\" y=\"1534.39\">0.0</text>\n</g>\n<g clip-path=\"url(#clip2001)\">\n<text style=\"fill:#000000; fill-opacity:1; font-family:Arial,Helvetica Neue,Helvetica,sans-serif; font-size:48px; text-anchor:end;\" transform=\"rotate(0, 121.394, 1240.46)\" x=\"121.394\" y=\"1240.46\">0.2</text>\n</g>\n<g clip-path=\"url(#clip2001)\">\n<text style=\"fill:#000000; fill-opacity:1; font-family:Arial,Helvetica Neue,Helvetica,sans-serif; font-size:48px; text-anchor:end;\" transform=\"rotate(0, 121.394, 946.53)\" x=\"121.394\" y=\"946.53\">0.4</text>\n</g>\n<g clip-path=\"url(#clip2001)\">\n<text style=\"fill:#000000; fill-opacity:1; font-family:Arial,Helvetica Neue,Helvetica,sans-serif; font-size:48px; text-anchor:end;\" transform=\"rotate(0, 121.394, 652.602)\" x=\"121.394\" y=\"652.602\">0.6</text>\n</g>\n<g clip-path=\"url(#clip2001)\">\n<text style=\"fill:#000000; fill-opacity:1; font-family:Arial,Helvetica Neue,Helvetica,sans-serif; font-size:48px; text-anchor:end;\" transform=\"rotate(0, 121.394, 358.673)\" x=\"121.394\" y=\"358.673\">0.8</text>\n</g>\n<g clip-path=\"url(#clip2001)\">\n<text style=\"fill:#000000; fill-opacity:1; font-family:Arial,Helvetica Neue,Helvetica,sans-serif; font-size:48px; text-anchor:end;\" transform=\"rotate(0, 121.394, 64.7441)\" x=\"121.394\" y=\"64.7441\">1.0</text>\n</g>\n<circle clip-path=\"url(#clip2003)\" style=\"fill:#000000; stroke:none; fill-opacity:1\" cx=\"537.381\" cy=\"648.861\" r=\"18\"/>\n<circle clip-path=\"url(#clip2003)\" style=\"fill:#009af9; stroke:none; fill-opacity:1\" cx=\"537.381\" cy=\"648.861\" r=\"14\"/>\n<circle clip-path=\"url(#clip2003)\" style=\"fill:#000000; stroke:none; fill-opacity:1\" cx=\"871.591\" cy=\"651.952\" r=\"18\"/>\n<circle clip-path=\"url(#clip2003)\" style=\"fill:#009af9; stroke:none; fill-opacity:1\" cx=\"871.591\" cy=\"651.952\" r=\"14\"/>\n<circle clip-path=\"url(#clip2003)\" style=\"fill:#000000; stroke:none; fill-opacity:1\" cx=\"1205.8\" cy=\"1316.11\" r=\"18\"/>\n<circle clip-path=\"url(#clip2003)\" style=\"fill:#009af9; stroke:none; fill-opacity:1\" cx=\"1205.8\" cy=\"1316.11\" r=\"14\"/>\n<circle clip-path=\"url(#clip2003)\" style=\"fill:#000000; stroke:none; fill-opacity:1\" cx=\"1540.01\" cy=\"791.59\" r=\"18\"/>\n<circle clip-path=\"url(#clip2003)\" style=\"fill:#009af9; stroke:none; fill-opacity:1\" cx=\"1540.01\" cy=\"791.59\" r=\"14\"/>\n<circle clip-path=\"url(#clip2003)\" style=\"fill:#000000; stroke:none; fill-opacity:1\" cx=\"1874.22\" cy=\"724.198\" r=\"18\"/>\n<circle clip-path=\"url(#clip2003)\" style=\"fill:#009af9; stroke:none; fill-opacity:1\" cx=\"1874.22\" cy=\"724.198\" r=\"14\"/>\n<circle clip-path=\"url(#clip2003)\" style=\"fill:#000000; stroke:none; fill-opacity:1\" cx=\"2208.43\" cy=\"765.205\" r=\"18\"/>\n<circle clip-path=\"url(#clip2003)\" style=\"fill:#009af9; stroke:none; fill-opacity:1\" cx=\"2208.43\" cy=\"765.205\" r=\"14\"/>\n<circle clip-path=\"url(#clip2003)\" style=\"fill:#000000; stroke:none; fill-opacity:1\" cx=\"2542.64\" cy=\"405.487\" r=\"18\"/>\n<circle clip-path=\"url(#clip2003)\" style=\"fill:#009af9; stroke:none; fill-opacity:1\" cx=\"2542.64\" cy=\"405.487\" r=\"14\"/>\n<circle clip-path=\"url(#clip2003)\" style=\"fill:#000000; stroke:none; fill-opacity:1\" cx=\"2876.85\" cy=\"613.529\" r=\"18\"/>\n<circle clip-path=\"url(#clip2003)\" style=\"fill:#009af9; stroke:none; fill-opacity:1\" cx=\"2876.85\" cy=\"613.529\" r=\"14\"/>\n<circle clip-path=\"url(#clip2003)\" style=\"fill:#000000; stroke:none; fill-opacity:1\" cx=\"3211.06\" cy=\"429.68\" r=\"18\"/>\n<circle clip-path=\"url(#clip2003)\" style=\"fill:#009af9; stroke:none; fill-opacity:1\" cx=\"3211.06\" cy=\"429.68\" r=\"14\"/>\n<circle clip-path=\"url(#clip2003)\" style=\"fill:#000000; stroke:none; fill-opacity:1\" cx=\"3545.27\" cy=\"807.141\" r=\"18\"/>\n<circle clip-path=\"url(#clip2003)\" style=\"fill:#009af9; stroke:none; fill-opacity:1\" cx=\"3545.27\" cy=\"807.141\" r=\"14\"/>\n<polygon clip-path=\"url(#clip2003)\" points=\"\n161.394,1058.87 180.288,1054.41 199.182,1048.9 218.075,1042.16 236.969,1034.03 255.863,1024.31 274.757,1012.85 293.651,999.469 312.544,984.036 331.438,966.433 \n  350.332,946.582 369.226,924.446 388.12,900.04 407.013,873.435 425.907,844.767 444.801,814.236 463.695,782.112 482.589,748.733 501.482,714.505 520.376,679.898 \n  539.27,649.91 558.164,659.317 577.058,666.648 595.951,671.778 614.845,674.662 633.739,675.341 652.633,673.953 671.527,670.733 690.42,666.01 709.314,660.209 \n  728.208,653.835 747.102,647.466 765.996,641.732 784.889,637.297 803.783,634.837 822.677,635.013 841.571,638.448 860.465,645.701 879.358,672.288 898.252,724.436 \n  917.146,779.679 936.04,837.062 954.934,895.557 973.827,954.09 992.721,1011.56 1011.61,1066.88 1030.51,1118.99 1049.4,1166.9 1068.3,1209.69 1087.19,1246.58 \n  1106.08,1276.91 1124.98,1300.2 1143.87,1316.12 1162.77,1324.52 1181.66,1325.44 1200.55,1319.11 1219.45,1331.72 1238.34,1347.14 1257.23,1355.02 1276.13,1355.13 \n  1295.02,1347.43 1313.92,1332.05 1332.81,1309.32 1351.7,1279.7 1370.6,1243.83 1389.49,1202.48 1408.38,1156.5 1427.28,1106.86 1446.17,1054.57 1465.07,1000.69 \n  1483.96,946.263 1502.85,892.343 1521.75,839.933 1540.64,791.165 1559.54,780.059 1578.43,771.88 1597.32,766.206 1616.22,762.567 1635.11,760.468 1654,759.413 \n  1672.9,758.929 1691.79,758.588 1710.69,758.018 1729.58,756.925 1748.47,755.099 1767.37,752.418 1786.26,748.853 1805.15,744.46 1824.05,739.375 1842.94,733.8 \n  1861.84,727.992 1880.73,734.544 1899.62,764.452 1918.52,793.539 1937.41,821.031 1956.3,846.193 1975.2,868.347 1994.09,886.886 2012.99,901.282 2031.88,911.103 \n  2050.77,916.02 2069.67,915.813 2088.56,910.378 2107.46,899.73 2126.35,884.005 2145.24,863.456 2164.14,838.447 2183.03,809.453 2201.92,777.043 2220.82,765.243 \n  2239.71,762.97 2258.61,757.603 2277.5,748.911 2296.39,736.771 2315.29,721.177 2334.18,702.238 2353.07,680.188 2371.97,655.377 2390.86,628.261 2409.76,599.394 \n  2428.65,569.41 2447.54,539.001 2466.44,508.898 2485.33,479.846 2504.22,452.58 2523.12,427.8 2542.01,406.148 2560.91,422.571 2579.8,443.26 2598.69,466.284 \n  2617.59,490.845 2636.48,516.11 2655.38,541.233 2674.27,565.382 2693.16,587.766 2712.06,607.656 2730.95,624.409 2749.84,637.488 2768.74,646.474 2787.63,651.085 \n  2806.53,651.178 2825.42,646.758 2844.31,637.975 2863.21,625.117 2882.1,618.558 2900.99,634.406 2919.89,646.381 2938.78,654.133 2957.68,657.449 2976.57,656.26 \n  2995.46,650.638 3014.36,640.801 3033.25,627.102 3052.15,610.019 3071.04,590.141 3089.93,568.152 3108.83,544.805 3127.72,520.903 3146.61,497.273 3165.51,474.743 \n  3184.4,454.114 3203.3,436.139 3222.19,443.102 3241.08,468.615 3259.98,497.018 3278.87,527.622 3297.76,559.685 3316.66,592.434 3335.55,625.089 3354.45,656.886 \n  3373.34,687.098 3392.23,715.059 3411.13,740.176 3430.02,761.947 3448.91,779.972 3467.81,793.961 3486.7,803.735 3505.6,809.229 3524.49,810.483 3543.38,807.642 \n  3562.28,842.219 3581.17,879.506 3600.07,914.594 3618.96,947.126 3637.85,976.829 3656.75,1003.52 3675.64,1027.08 3694.53,1047.5 3713.43,1064.82 3732.32,1079.15 \n  3751.22,1090.67 3770.11,1099.57 3789,1106.11 3807.9,1110.55 3826.79,1113.18 3845.68,1114.26 3864.58,1114.09 3883.47,1112.92 3902.37,1110.99 3921.26,1108.52 \n  3921.26,450.246 3902.37,462.54 3883.47,476.205 3864.58,491.272 3845.68,507.748 3826.79,525.606 3807.9,544.78 3789,565.162 3770.11,586.595 3751.22,608.873 \n  3732.32,631.739 3713.43,654.885 3694.53,677.954 3675.64,700.55 3656.75,722.239 3637.85,742.565 3618.96,761.058 3600.07,777.248 3581.17,790.682 3562.28,800.938 \n  3543.38,803.17 3524.49,762.869 3505.6,721.888 3486.7,680.852 3467.81,640.419 3448.91,601.268 3430.02,564.076 3411.13,529.5 3392.23,498.158 3373.34,470.608 \n  3354.45,447.33 3335.55,428.709 3316.66,415.023 3297.76,406.425 3278.87,402.945 3259.98,404.476 3241.08,410.782 3222.19,421.498 3203.3,421.091 3184.4,403.103 \n  3165.51,389.545 3146.61,380.7 3127.72,376.718 3108.83,377.607 3089.93,383.237 3071.04,393.337 3052.15,407.51 3033.25,425.237 3014.36,445.9 2995.46,468.793 \n  2976.57,493.149 2957.68,518.161 2938.78,543.005 2919.89,566.87 2900.99,588.976 2882.1,608.604 2863.21,599.308 2844.31,577.239 2825.42,553.025 2806.53,527.41 \n  2787.63,501.186 2768.74,475.166 2749.84,450.163 2730.95,426.962 2712.06,406.296 2693.16,388.826 2674.27,375.116 2655.38,365.622 2636.48,360.674 2617.59,360.468 \n  2598.69,365.063 2579.8,374.375 2560.91,388.186 2542.01,404.957 2523.12,391.072 2504.22,381.473 2485.33,376.6 2466.44,376.762 2447.54,382.133 2428.65,392.746 \n  2409.76,408.492 2390.86,429.126 2371.97,454.274 2353.07,483.444 2334.18,516.041 2315.29,551.384 2296.39,588.724 2277.5,627.266 2258.61,666.187 2239.71,704.659 \n  2220.82,741.87 2201.92,764.743 2183.03,761.867 2164.14,757.072 2145.24,750.852 2126.35,743.716 2107.46,736.169 2088.56,728.689 2069.67,721.714 2050.77,715.616 \n  2031.88,710.699 2012.99,707.183 1994.09,705.197 1975.2,704.786 1956.3,705.904 1937.41,708.427 1918.52,712.164 1899.62,716.865 1880.73,722.244 1861.84,704.619 \n  1842.94,675.489 1824.05,647.959 1805.15,622.816 1786.26,600.806 1767.37,582.626 1748.47,568.902 1729.58,560.18 1710.69,556.915 1691.79,559.452 1672.9,568.027 \n  1654,582.748 1635.11,603.599 1616.22,630.431 1597.32,662.96 1578.43,700.773 1559.54,743.331 1540.64,789.974 1521.75,805.547 1502.85,823.459 1483.96,845.042 \n  1465.07,870.311 1446.17,899.137 1427.28,931.25 1408.38,966.235 1389.49,1003.54 1370.6,1042.47 1351.7,1082.25 1332.81,1121.99 1313.92,1160.74 1295.02,1197.53 \n  1276.13,1231.36 1257.23,1261.29 1238.34,1286.41 1219.45,1305.91 1200.55,1309.15 1181.66,1280.01 1162.77,1245.01 1143.87,1204.99 1124.98,1160.91 1106.08,1113.8 \n  1087.19,1064.73 1068.3,1014.79 1049.4,965.031 1030.51,916.483 1011.61,870.078 992.721,826.647 973.827,786.892 954.934,751.373 936.04,720.489 917.146,694.481 \n  898.252,673.425 879.358,657.241 860.465,624.097 841.571,580.615 822.677,542.471 803.783,510.159 784.889,484.037 765.996,464.321 747.102,451.086 728.208,444.279 \n  709.314,443.718 690.42,449.109 671.527,460.057 652.633,476.082 633.739,496.637 614.845,521.12 595.951,548.895 577.058,579.308 558.164,611.703 539.27,645.438 \n  520.376,638.616 501.482,625.68 482.589,611.386 463.695,596.044 444.801,579.972 425.907,563.491 407.013,546.904 388.12,530.493 369.226,514.51 350.332,499.167 \n  331.438,484.64 312.544,471.061 293.651,458.522 274.757,447.076 255.863,436.744 236.969,427.512 218.075,419.345 199.182,412.185 180.288,405.963 161.394,400.597 \n  \n  \" fill=\"#e26f46\" fill-rule=\"evenodd\" fill-opacity=\"0.5\"/>\n<polyline clip-path=\"url(#clip2003)\" style=\"stroke:#e26f46; stroke-width:4; stroke-opacity:1; fill:none\" points=\"\n  161.394,729.736 180.288,730.188 199.182,730.543 218.075,730.755 236.969,730.77 255.863,730.529 274.757,729.962 293.651,728.995 312.544,727.548 331.438,725.536 \n  350.332,722.874 369.226,719.478 388.12,715.266 407.013,710.17 425.907,704.129 444.801,697.104 463.695,689.078 482.589,680.059 501.482,670.092 520.376,659.257 \n  539.27,647.674 558.164,635.51 577.058,622.978 595.951,610.336 614.845,597.891 633.739,585.989 652.633,575.018 671.527,565.395 690.42,557.559 709.314,551.963 \n  728.208,549.057 747.102,549.276 765.996,553.026 784.889,560.667 803.783,572.498 822.677,588.742 841.571,609.532 860.465,634.899 879.358,664.765 898.252,698.931 \n  917.146,737.08 936.04,778.775 954.934,823.465 973.827,870.491 992.721,919.104 1011.61,968.48 1030.51,1017.74 1049.4,1065.96 1068.3,1112.24 1087.19,1155.65 \n  1106.08,1195.36 1124.98,1230.56 1143.87,1260.55 1162.77,1284.76 1181.66,1302.72 1200.55,1314.13 1219.45,1318.82 1238.34,1316.78 1257.23,1308.16 1276.13,1293.25 \n  1295.02,1272.48 1313.92,1246.4 1332.81,1215.65 1351.7,1180.98 1370.6,1143.15 1389.49,1103.01 1408.38,1061.37 1427.28,1019.06 1446.17,976.855 1465.07,935.499 \n  1483.96,895.653 1502.85,857.901 1521.75,822.74 1540.64,790.569 1559.54,761.695 1578.43,736.327 1597.32,714.583 1616.22,696.499 1635.11,682.034 1654,671.081 \n  1672.9,663.478 1691.79,659.02 1710.69,657.466 1729.58,658.553 1748.47,662 1767.37,667.522 1786.26,674.83 1805.15,683.638 1824.05,693.667 1842.94,704.644 \n  1861.84,716.306 1880.73,728.394 1899.62,740.658 1918.52,752.851 1937.41,764.729 1956.3,776.048 1975.2,786.567 1994.09,796.041 2012.99,804.232 2031.88,810.901 \n  2050.77,815.818 2069.67,818.763 2088.56,819.534 2107.46,817.95 2126.35,813.861 2145.24,807.154 2164.14,797.76 2183.03,785.66 2201.92,770.893 2220.82,753.557 \n  2239.71,733.815 2258.61,711.895 2277.5,688.088 2296.39,662.748 2315.29,636.28 2334.18,609.139 2353.07,581.816 2371.97,554.825 2390.86,528.693 2409.76,503.943 \n  2428.65,481.078 2447.54,460.567 2466.44,442.83 2485.33,428.223 2504.22,417.027 2523.12,409.436 2542.01,405.552 2560.91,405.379 2579.8,408.818 2598.69,415.673 \n  2617.59,425.657 2636.48,438.392 2655.38,453.427 2674.27,470.249 2693.16,488.296 2712.06,506.976 2730.95,525.686 2749.84,543.825 2768.74,560.82 2787.63,576.135 \n  2806.53,589.294 2825.42,599.892 2844.31,607.607 2863.21,612.212 2882.1,613.581 2900.99,611.691 2919.89,606.625 2938.78,598.569 2957.68,587.805 2976.57,574.704 \n  2995.46,559.715 3014.36,543.35 3033.25,526.17 3052.15,508.764 3071.04,491.739 3089.93,475.694 3108.83,461.206 3127.72,448.81 3146.61,438.987 3165.51,432.144 \n  3184.4,428.609 3203.3,428.615 3222.19,432.3 3241.08,439.699 3259.98,450.747 3278.87,465.284 3297.76,483.055 3316.66,503.728 3335.55,526.899 3354.45,552.108 \n  3373.34,578.853 3392.23,606.608 3411.13,634.838 3430.02,663.011 3448.91,690.62 3467.81,717.19 3486.7,742.294 3505.6,765.558 3524.49,786.676 3543.38,805.406 \n  3562.28,821.579 3581.17,835.094 3600.07,845.921 3618.96,854.092 3637.85,859.697 3656.75,862.878 3675.64,863.816 3694.53,862.728 3713.43,859.853 3732.32,855.447 \n  3751.22,849.77 3770.11,843.083 3789,835.636 3807.9,827.666 3826.79,819.391 3845.68,811.006 3864.58,802.682 3883.47,794.563 3902.37,786.766 3921.26,779.384 \n  \n  \"/>\n<polygon clip-path=\"url(#clip2001)\" points=\"\n3016.05,408.204 3801.26,408.204 3801.26,226.764 3016.05,226.764 \n  \" fill=\"#ffffff\" fill-rule=\"evenodd\" fill-opacity=\"1\"/>\n<polyline clip-path=\"url(#clip2001)\" style=\"stroke:#000000; stroke-width:4; stroke-opacity:1; fill:none\" points=\"\n  3016.05,408.204 3801.26,408.204 3801.26,226.764 3016.05,226.764 3016.05,408.204 \n  \"/>\n<circle clip-path=\"url(#clip2001)\" style=\"fill:#000000; stroke:none; fill-opacity:1\" cx=\"3196.05\" cy=\"287.244\" r=\"25\"/>\n<circle clip-path=\"url(#clip2001)\" style=\"fill:#009af9; stroke:none; fill-opacity:1\" cx=\"3196.05\" cy=\"287.244\" r=\"21\"/>\n<g clip-path=\"url(#clip2001)\">\n<text style=\"fill:#000000; fill-opacity:1; font-family:Arial,Helvetica Neue,Helvetica,sans-serif; font-size:48px; text-anchor:start;\" transform=\"rotate(0, 3336.05, 304.744)\" x=\"3336.05\" y=\"304.744\">data</text>\n</g>\n<polyline clip-path=\"url(#clip2001)\" style=\"stroke:#e26f46; stroke-width:4; stroke-opacity:1; fill:none\" points=\"\n  3056.05,347.724 3296.05,347.724 \n  \"/>\n<g clip-path=\"url(#clip2001)\">\n<text style=\"fill:#000000; fill-opacity:1; font-family:Arial,Helvetica Neue,Helvetica,sans-serif; font-size:48px; text-anchor:start;\" transform=\"rotate(0, 3336.05, 365.224)\" x=\"3336.05\" y=\"365.224\">Gaussian process</text>\n</g>\n</svg>\n"
               },
               "type": "node"
              }
             ],
             "instanceArgs": {
              "namespace": "html",
              "tag": "div"
             },
             "nodeType": "DOM",
             "props": {
              "attributes": {
               "style": "display:flex; justify-content:center; align-items:center;"
              }
             },
             "type": "node"
            }
           }
          },
          "systemjs_options": null
         },
         "nodeType": "Scope",
         "props": {},
         "type": "node"
        }
       ],
       "instanceArgs": {
        "namespace": "html",
        "tag": "div"
       },
       "nodeType": "DOM",
       "props": {},
       "type": "node"
      },
      "text/html": [
       "<div\n",
       "    class=\"webio-mountpoint\"\n",
       "    data-webio-mountpoint=\"9172130781233578586\"\n",
       ">\n",
       "    <script>\n",
       "    if (window.require && require.defined && require.defined(\"nbextensions/webio/main\")) {\n",
       "        console.log(\"Jupyter WebIO extension detected, not mounting.\");\n",
       "    } else if (window.WebIO) {\n",
       "        WebIO.mount(\n",
       "            document.querySelector('[data-webio-mountpoint=\"9172130781233578586\"]'),\n",
       "            {\"props\":{},\"nodeType\":\"DOM\",\"type\":\"node\",\"instanceArgs\":{\"namespace\":\"html\",\"tag\":\"div\"},\"children\":[{\"props\":{\"className\":\"field\"},\"nodeType\":\"DOM\",\"type\":\"node\",\"instanceArgs\":{\"namespace\":\"html\",\"tag\":\"div\"},\"children\":[{\"props\":{},\"nodeType\":\"Scope\",\"type\":\"node\",\"instanceArgs\":{\"imports\":{\"data\":[{\"name\":\"knockout\",\"type\":\"js\",\"url\":\"\\/assetserver\\/12fd8e1ff6f17c03b96dfdacbbef8267e1e89a3a-knockout.js\"},{\"name\":\"knockout_punches\",\"type\":\"js\",\"url\":\"\\/assetserver\\/6a01192897ccbdaf17e62e31d476c829b44592c2-knockout_punches.js\"},{\"name\":null,\"type\":\"js\",\"url\":\"\\/assetserver\\/7eafee0b34b6bcd2c7a521df5846c6418f5603af-all.js\"},{\"name\":null,\"type\":\"css\",\"url\":\"\\/assetserver\\/2994e4d83a225d257863de5c164dd41773eb711b-style.css\"},{\"name\":null,\"type\":\"css\",\"url\":\"\\/assetserver\\/6b7df7a83458e68eec729d7ee80622dc21ed3a7e-main.css\"}],\"type\":\"async_block\"},\"id\":\"knockout-component-e4ebcc62-7839-4145-8618-92e6fa3c02db\",\"handlers\":{\"formatted_vals\":[\"(function (val){return (val!=this.model[\\\"formatted_vals\\\"]()) ? (this.valueFromJulia[\\\"formatted_vals\\\"]=true, this.model[\\\"formatted_vals\\\"](val)) : undefined})\"],\"_promises\":{\"importsLoaded\":[\"function (ko, koPunches) {\\n    ko.punches.enableAll();\\n    ko.bindingHandlers.numericValue = {\\n        init : function(element, valueAccessor, allBindings, data, context) {\\n            var stringified = ko.observable(ko.unwrap(valueAccessor()));\\n            stringified.subscribe(function(value) {\\n                var val = parseFloat(value);\\n                if (!isNaN(val)) {\\n                    valueAccessor()(val);\\n                }\\n            })\\n            valueAccessor().subscribe(function(value) {\\n                var str = JSON.stringify(value);\\n                if ((str == \\\"0\\\") && ([\\\"-0\\\", \\\"-0.\\\"].indexOf(stringified()) >= 0))\\n                     return;\\n                 if ([\\\"null\\\", \\\"\\\"].indexOf(str) >= 0)\\n                     return;\\n                stringified(str);\\n            })\\n            ko.applyBindingsToNode(element, { value: stringified, valueUpdate: allBindings.get('valueUpdate')}, context);\\n        }\\n    };\\n    var json_data = JSON.parse(\\\"{\\\\\\\"formatted_vals\\\\\\\":[\\\\\\\"0.0\\\\\\\",\\\\\\\"0.00204082\\\\\\\",\\\\\\\"0.00408163\\\\\\\",\\\\\\\"0.00612245\\\\\\\",\\\\\\\"0.00816327\\\\\\\",\\\\\\\"0.0102041\\\\\\\",\\\\\\\"0.0122449\\\\\\\",\\\\\\\"0.0142857\\\\\\\",\\\\\\\"0.0163265\\\\\\\",\\\\\\\"0.0183673\\\\\\\",\\\\\\\"0.0204082\\\\\\\",\\\\\\\"0.022449\\\\\\\",\\\\\\\"0.0244898\\\\\\\",\\\\\\\"0.0265306\\\\\\\",\\\\\\\"0.0285714\\\\\\\",\\\\\\\"0.0306122\\\\\\\",\\\\\\\"0.0326531\\\\\\\",\\\\\\\"0.0346939\\\\\\\",\\\\\\\"0.0367347\\\\\\\",\\\\\\\"0.0387755\\\\\\\",\\\\\\\"0.0408163\\\\\\\",\\\\\\\"0.0428571\\\\\\\",\\\\\\\"0.044898\\\\\\\",\\\\\\\"0.0469388\\\\\\\",\\\\\\\"0.0489796\\\\\\\",\\\\\\\"0.0510204\\\\\\\",\\\\\\\"0.0530612\\\\\\\",\\\\\\\"0.055102\\\\\\\",\\\\\\\"0.0571429\\\\\\\",\\\\\\\"0.0591837\\\\\\\",\\\\\\\"0.0612245\\\\\\\",\\\\\\\"0.0632653\\\\\\\",\\\\\\\"0.0653061\\\\\\\",\\\\\\\"0.0673469\\\\\\\",\\\\\\\"0.0693878\\\\\\\",\\\\\\\"0.0714286\\\\\\\",\\\\\\\"0.0734694\\\\\\\",\\\\\\\"0.0755102\\\\\\\",\\\\\\\"0.077551\\\\\\\",\\\\\\\"0.0795918\\\\\\\",\\\\\\\"0.0816327\\\\\\\",\\\\\\\"0.0836735\\\\\\\",\\\\\\\"0.0857143\\\\\\\",\\\\\\\"0.0877551\\\\\\\",\\\\\\\"0.0897959\\\\\\\",\\\\\\\"0.0918367\\\\\\\",\\\\\\\"0.0938776\\\\\\\",\\\\\\\"0.0959184\\\\\\\",\\\\\\\"0.0979592\\\\\\\",\\\\\\\"0.1\\\\\\\"],\\\\\\\"changes\\\\\\\":0,\\\\\\\"formatted_value\\\\\\\":\\\\\\\"0.0489796\\\\\\\",\\\\\\\"index\\\\\\\":25}\\\");\\n    var self = this;\\n    function AppViewModel() {\\n        for (var key in json_data) {\\n            var el = json_data[key];\\n            this[key] = Array.isArray(el) ? ko.observableArray(el) : ko.observable(el);\\n        }\\n        \\n        \\n        [this[\\\"formatted_vals\\\"].subscribe((function (val){!(this.valueFromJulia[\\\"formatted_vals\\\"]) ? (_webIOScope.setObservableValue({\\\"name\\\":\\\"formatted_vals\\\",\\\"scope\\\":\\\"knockout-component-e4ebcc62-7839-4145-8618-92e6fa3c02db\\\",\\\"id\\\":\\\"ob_18\\\",\\\"type\\\":\\\"observable\\\"},val)) : undefined; return this.valueFromJulia[\\\"formatted_vals\\\"]=false}),self),this[\\\"changes\\\"].subscribe((function (val){!(this.valueFromJulia[\\\"changes\\\"]) ? (_webIOScope.setObservableValue({\\\"name\\\":\\\"changes\\\",\\\"scope\\\":\\\"knockout-component-e4ebcc62-7839-4145-8618-92e6fa3c02db\\\",\\\"id\\\":\\\"ob_20\\\",\\\"type\\\":\\\"observable\\\"},val)) : undefined; return this.valueFromJulia[\\\"changes\\\"]=false}),self),this[\\\"formatted_value\\\"].subscribe((function (val){!(this.valueFromJulia[\\\"formatted_value\\\"]) ? (_webIOScope.setObservableValue({\\\"name\\\":\\\"formatted_value\\\",\\\"scope\\\":\\\"knockout-component-e4ebcc62-7839-4145-8618-92e6fa3c02db\\\",\\\"id\\\":\\\"ob_19\\\",\\\"type\\\":\\\"observable\\\"},val)) : undefined; return this.valueFromJulia[\\\"formatted_value\\\"]=false}),self),this[\\\"index\\\"].subscribe((function (val){!(this.valueFromJulia[\\\"index\\\"]) ? (_webIOScope.setObservableValue({\\\"name\\\":\\\"index\\\",\\\"scope\\\":\\\"knockout-component-e4ebcc62-7839-4145-8618-92e6fa3c02db\\\",\\\"id\\\":\\\"ob_17\\\",\\\"type\\\":\\\"observable\\\"},val)) : undefined; return this.valueFromJulia[\\\"index\\\"]=false}),self)]\\n        \\n    }\\n    self.model = new AppViewModel();\\n    self.valueFromJulia = {};\\n    for (var key in json_data) {\\n        self.valueFromJulia[key] = false;\\n    }\\n    ko.applyBindings(self.model, self.dom);\\n}\\n\"]},\"changes\":[\"(function (val){return (val!=this.model[\\\"changes\\\"]()) ? (this.valueFromJulia[\\\"changes\\\"]=true, this.model[\\\"changes\\\"](val)) : undefined})\"],\"formatted_value\":[\"(function (val){return (val!=this.model[\\\"formatted_value\\\"]()) ? (this.valueFromJulia[\\\"formatted_value\\\"]=true, this.model[\\\"formatted_value\\\"](val)) : undefined})\"],\"index\":[\"(function (val){return (val!=this.model[\\\"index\\\"]()) ? (this.valueFromJulia[\\\"index\\\"]=true, this.model[\\\"index\\\"](val)) : undefined})\",\"(function (val){return _webIOScope.setObservableValue({\\\"name\\\":\\\"formatted_value\\\",\\\"scope\\\":\\\"knockout-component-e4ebcc62-7839-4145-8618-92e6fa3c02db\\\",\\\"id\\\":\\\"ob_19\\\",\\\"type\\\":\\\"observable\\\"},_webIOScope.getObservableValue({\\\"name\\\":\\\"formatted_vals\\\",\\\"scope\\\":\\\"knockout-component-e4ebcc62-7839-4145-8618-92e6fa3c02db\\\",\\\"id\\\":\\\"ob_18\\\",\\\"type\\\":\\\"observable\\\"})[(_webIOScope.getObservableValue({\\\"name\\\":\\\"index\\\",\\\"scope\\\":\\\"knockout-component-e4ebcc62-7839-4145-8618-92e6fa3c02db\\\",\\\"id\\\":\\\"ob_17\\\",\\\"type\\\":\\\"observable\\\"})-1)])})\"]},\"systemjs_options\":null,\"observables\":{\"formatted_vals\":{\"sync\":false,\"id\":\"ob_18\",\"value\":[\"0.0\",\"0.00204082\",\"0.00408163\",\"0.00612245\",\"0.00816327\",\"0.0102041\",\"0.0122449\",\"0.0142857\",\"0.0163265\",\"0.0183673\",\"0.0204082\",\"0.022449\",\"0.0244898\",\"0.0265306\",\"0.0285714\",\"0.0306122\",\"0.0326531\",\"0.0346939\",\"0.0367347\",\"0.0387755\",\"0.0408163\",\"0.0428571\",\"0.044898\",\"0.0469388\",\"0.0489796\",\"0.0510204\",\"0.0530612\",\"0.055102\",\"0.0571429\",\"0.0591837\",\"0.0612245\",\"0.0632653\",\"0.0653061\",\"0.0673469\",\"0.0693878\",\"0.0714286\",\"0.0734694\",\"0.0755102\",\"0.077551\",\"0.0795918\",\"0.0816327\",\"0.0836735\",\"0.0857143\",\"0.0877551\",\"0.0897959\",\"0.0918367\",\"0.0938776\",\"0.0959184\",\"0.0979592\",\"0.1\"]},\"changes\":{\"sync\":false,\"id\":\"ob_20\",\"value\":0},\"formatted_value\":{\"sync\":false,\"id\":\"ob_19\",\"value\":\"0.0489796\"},\"index\":{\"sync\":true,\"id\":\"ob_17\",\"value\":25}}},\"children\":[{\"props\":{\"attributes\":{\"style\":\"display:flex; justify-content:center; align-items:center;\"}},\"nodeType\":\"DOM\",\"type\":\"node\",\"instanceArgs\":{\"namespace\":\"html\",\"tag\":\"div\"},\"children\":[{\"props\":{\"attributes\":{\"style\":\"text-align:right;width:18%\"}},\"nodeType\":\"DOM\",\"type\":\"node\",\"instanceArgs\":{\"namespace\":\"html\",\"tag\":\"div\"},\"children\":[{\"props\":{\"className\":\"interact \",\"style\":{\"padding\":\"5px 10px 0px 10px\"}},\"nodeType\":\"DOM\",\"type\":\"node\",\"instanceArgs\":{\"namespace\":\"html\",\"tag\":\"label\"},\"children\":[\"s\"]}]},{\"props\":{\"attributes\":{\"style\":\"flex-grow:1; margin: 0 2%\"}},\"nodeType\":\"DOM\",\"type\":\"node\",\"instanceArgs\":{\"namespace\":\"html\",\"tag\":\"div\"},\"children\":[{\"props\":{\"max\":50,\"min\":1,\"attributes\":{\"type\":\"range\",\"data-bind\":\"numericValue: index, valueUpdate: 'input', event: {change : function () {this.changes(this.changes()+1)}}\",\"orient\":\"horizontal\"},\"step\":1,\"className\":\"slider slider is-fullwidth\",\"style\":{}},\"nodeType\":\"DOM\",\"type\":\"node\",\"instanceArgs\":{\"namespace\":\"html\",\"tag\":\"input\"},\"children\":[]}]},{\"props\":{\"attributes\":{\"style\":\"width:18%\"}},\"nodeType\":\"DOM\",\"type\":\"node\",\"instanceArgs\":{\"namespace\":\"html\",\"tag\":\"div\"},\"children\":[{\"props\":{\"attributes\":{\"data-bind\":\"text: formatted_value\"}},\"nodeType\":\"DOM\",\"type\":\"node\",\"instanceArgs\":{\"namespace\":\"html\",\"tag\":\"p\"},\"children\":[]}]}]}]}]},{\"props\":{\"className\":\"field\"},\"nodeType\":\"DOM\",\"type\":\"node\",\"instanceArgs\":{\"namespace\":\"html\",\"tag\":\"div\"},\"children\":[{\"props\":{},\"nodeType\":\"Scope\",\"type\":\"node\",\"instanceArgs\":{\"imports\":{\"data\":[{\"name\":\"knockout\",\"type\":\"js\",\"url\":\"\\/assetserver\\/12fd8e1ff6f17c03b96dfdacbbef8267e1e89a3a-knockout.js\"},{\"name\":\"knockout_punches\",\"type\":\"js\",\"url\":\"\\/assetserver\\/6a01192897ccbdaf17e62e31d476c829b44592c2-knockout_punches.js\"},{\"name\":null,\"type\":\"js\",\"url\":\"\\/assetserver\\/7eafee0b34b6bcd2c7a521df5846c6418f5603af-all.js\"},{\"name\":null,\"type\":\"css\",\"url\":\"\\/assetserver\\/2994e4d83a225d257863de5c164dd41773eb711b-style.css\"},{\"name\":null,\"type\":\"css\",\"url\":\"\\/assetserver\\/6b7df7a83458e68eec729d7ee80622dc21ed3a7e-main.css\"}],\"type\":\"async_block\"},\"id\":\"knockout-component-756e2b77-3049-4d12-b2d9-456ba52358bd\",\"handlers\":{\"formatted_vals\":[\"(function (val){return (val!=this.model[\\\"formatted_vals\\\"]()) ? (this.valueFromJulia[\\\"formatted_vals\\\"]=true, this.model[\\\"formatted_vals\\\"](val)) : undefined})\"],\"_promises\":{\"importsLoaded\":[\"function (ko, koPunches) {\\n    ko.punches.enableAll();\\n    ko.bindingHandlers.numericValue = {\\n        init : function(element, valueAccessor, allBindings, data, context) {\\n            var stringified = ko.observable(ko.unwrap(valueAccessor()));\\n            stringified.subscribe(function(value) {\\n                var val = parseFloat(value);\\n                if (!isNaN(val)) {\\n                    valueAccessor()(val);\\n                }\\n            })\\n            valueAccessor().subscribe(function(value) {\\n                var str = JSON.stringify(value);\\n                if ((str == \\\"0\\\") && ([\\\"-0\\\", \\\"-0.\\\"].indexOf(stringified()) >= 0))\\n                     return;\\n                 if ([\\\"null\\\", \\\"\\\"].indexOf(str) >= 0)\\n                     return;\\n                stringified(str);\\n            })\\n            ko.applyBindingsToNode(element, { value: stringified, valueUpdate: allBindings.get('valueUpdate')}, context);\\n        }\\n    };\\n    var json_data = JSON.parse(\\\"{\\\\\\\"formatted_vals\\\\\\\":[\\\\\\\"0.1\\\\\\\",\\\\\\\"0.102041\\\\\\\",\\\\\\\"0.104082\\\\\\\",\\\\\\\"0.106122\\\\\\\",\\\\\\\"0.108163\\\\\\\",\\\\\\\"0.110204\\\\\\\",\\\\\\\"0.112245\\\\\\\",\\\\\\\"0.114286\\\\\\\",\\\\\\\"0.116327\\\\\\\",\\\\\\\"0.118367\\\\\\\",\\\\\\\"0.120408\\\\\\\",\\\\\\\"0.122449\\\\\\\",\\\\\\\"0.12449\\\\\\\",\\\\\\\"0.126531\\\\\\\",\\\\\\\"0.128571\\\\\\\",\\\\\\\"0.130612\\\\\\\",\\\\\\\"0.132653\\\\\\\",\\\\\\\"0.134694\\\\\\\",\\\\\\\"0.136735\\\\\\\",\\\\\\\"0.138776\\\\\\\",\\\\\\\"0.140816\\\\\\\",\\\\\\\"0.142857\\\\\\\",\\\\\\\"0.144898\\\\\\\",\\\\\\\"0.146939\\\\\\\",\\\\\\\"0.14898\\\\\\\",\\\\\\\"0.15102\\\\\\\",\\\\\\\"0.153061\\\\\\\",\\\\\\\"0.155102\\\\\\\",\\\\\\\"0.157143\\\\\\\",\\\\\\\"0.159184\\\\\\\",\\\\\\\"0.161224\\\\\\\",\\\\\\\"0.163265\\\\\\\",\\\\\\\"0.165306\\\\\\\",\\\\\\\"0.167347\\\\\\\",\\\\\\\"0.169388\\\\\\\",\\\\\\\"0.171429\\\\\\\",\\\\\\\"0.173469\\\\\\\",\\\\\\\"0.17551\\\\\\\",\\\\\\\"0.177551\\\\\\\",\\\\\\\"0.179592\\\\\\\",\\\\\\\"0.181633\\\\\\\",\\\\\\\"0.183673\\\\\\\",\\\\\\\"0.185714\\\\\\\",\\\\\\\"0.187755\\\\\\\",\\\\\\\"0.189796\\\\\\\",\\\\\\\"0.191837\\\\\\\",\\\\\\\"0.193878\\\\\\\",\\\\\\\"0.195918\\\\\\\",\\\\\\\"0.197959\\\\\\\",\\\\\\\"0.2\\\\\\\"],\\\\\\\"changes\\\\\\\":0,\\\\\\\"formatted_value\\\\\\\":\\\\\\\"0.14898\\\\\\\",\\\\\\\"index\\\\\\\":25}\\\");\\n    var self = this;\\n    function AppViewModel() {\\n        for (var key in json_data) {\\n            var el = json_data[key];\\n            this[key] = Array.isArray(el) ? ko.observableArray(el) : ko.observable(el);\\n        }\\n        \\n        \\n        [this[\\\"formatted_vals\\\"].subscribe((function (val){!(this.valueFromJulia[\\\"formatted_vals\\\"]) ? (_webIOScope.setObservableValue({\\\"name\\\":\\\"formatted_vals\\\",\\\"scope\\\":\\\"knockout-component-756e2b77-3049-4d12-b2d9-456ba52358bd\\\",\\\"id\\\":\\\"ob_23\\\",\\\"type\\\":\\\"observable\\\"},val)) : undefined; return this.valueFromJulia[\\\"formatted_vals\\\"]=false}),self),this[\\\"changes\\\"].subscribe((function (val){!(this.valueFromJulia[\\\"changes\\\"]) ? (_webIOScope.setObservableValue({\\\"name\\\":\\\"changes\\\",\\\"scope\\\":\\\"knockout-component-756e2b77-3049-4d12-b2d9-456ba52358bd\\\",\\\"id\\\":\\\"ob_25\\\",\\\"type\\\":\\\"observable\\\"},val)) : undefined; return this.valueFromJulia[\\\"changes\\\"]=false}),self),this[\\\"formatted_value\\\"].subscribe((function (val){!(this.valueFromJulia[\\\"formatted_value\\\"]) ? (_webIOScope.setObservableValue({\\\"name\\\":\\\"formatted_value\\\",\\\"scope\\\":\\\"knockout-component-756e2b77-3049-4d12-b2d9-456ba52358bd\\\",\\\"id\\\":\\\"ob_24\\\",\\\"type\\\":\\\"observable\\\"},val)) : undefined; return this.valueFromJulia[\\\"formatted_value\\\"]=false}),self),this[\\\"index\\\"].subscribe((function (val){!(this.valueFromJulia[\\\"index\\\"]) ? (_webIOScope.setObservableValue({\\\"name\\\":\\\"index\\\",\\\"scope\\\":\\\"knockout-component-756e2b77-3049-4d12-b2d9-456ba52358bd\\\",\\\"id\\\":\\\"ob_22\\\",\\\"type\\\":\\\"observable\\\"},val)) : undefined; return this.valueFromJulia[\\\"index\\\"]=false}),self)]\\n        \\n    }\\n    self.model = new AppViewModel();\\n    self.valueFromJulia = {};\\n    for (var key in json_data) {\\n        self.valueFromJulia[key] = false;\\n    }\\n    ko.applyBindings(self.model, self.dom);\\n}\\n\"]},\"changes\":[\"(function (val){return (val!=this.model[\\\"changes\\\"]()) ? (this.valueFromJulia[\\\"changes\\\"]=true, this.model[\\\"changes\\\"](val)) : undefined})\"],\"formatted_value\":[\"(function (val){return (val!=this.model[\\\"formatted_value\\\"]()) ? (this.valueFromJulia[\\\"formatted_value\\\"]=true, this.model[\\\"formatted_value\\\"](val)) : undefined})\"],\"index\":[\"(function (val){return (val!=this.model[\\\"index\\\"]()) ? (this.valueFromJulia[\\\"index\\\"]=true, this.model[\\\"index\\\"](val)) : undefined})\",\"(function (val){return _webIOScope.setObservableValue({\\\"name\\\":\\\"formatted_value\\\",\\\"scope\\\":\\\"knockout-component-756e2b77-3049-4d12-b2d9-456ba52358bd\\\",\\\"id\\\":\\\"ob_24\\\",\\\"type\\\":\\\"observable\\\"},_webIOScope.getObservableValue({\\\"name\\\":\\\"formatted_vals\\\",\\\"scope\\\":\\\"knockout-component-756e2b77-3049-4d12-b2d9-456ba52358bd\\\",\\\"id\\\":\\\"ob_23\\\",\\\"type\\\":\\\"observable\\\"})[(_webIOScope.getObservableValue({\\\"name\\\":\\\"index\\\",\\\"scope\\\":\\\"knockout-component-756e2b77-3049-4d12-b2d9-456ba52358bd\\\",\\\"id\\\":\\\"ob_22\\\",\\\"type\\\":\\\"observable\\\"})-1)])})\"]},\"systemjs_options\":null,\"observables\":{\"formatted_vals\":{\"sync\":false,\"id\":\"ob_23\",\"value\":[\"0.1\",\"0.102041\",\"0.104082\",\"0.106122\",\"0.108163\",\"0.110204\",\"0.112245\",\"0.114286\",\"0.116327\",\"0.118367\",\"0.120408\",\"0.122449\",\"0.12449\",\"0.126531\",\"0.128571\",\"0.130612\",\"0.132653\",\"0.134694\",\"0.136735\",\"0.138776\",\"0.140816\",\"0.142857\",\"0.144898\",\"0.146939\",\"0.14898\",\"0.15102\",\"0.153061\",\"0.155102\",\"0.157143\",\"0.159184\",\"0.161224\",\"0.163265\",\"0.165306\",\"0.167347\",\"0.169388\",\"0.171429\",\"0.173469\",\"0.17551\",\"0.177551\",\"0.179592\",\"0.181633\",\"0.183673\",\"0.185714\",\"0.187755\",\"0.189796\",\"0.191837\",\"0.193878\",\"0.195918\",\"0.197959\",\"0.2\"]},\"changes\":{\"sync\":false,\"id\":\"ob_25\",\"value\":0},\"formatted_value\":{\"sync\":false,\"id\":\"ob_24\",\"value\":\"0.14898\"},\"index\":{\"sync\":true,\"id\":\"ob_22\",\"value\":25}}},\"children\":[{\"props\":{\"attributes\":{\"style\":\"display:flex; justify-content:center; align-items:center;\"}},\"nodeType\":\"DOM\",\"type\":\"node\",\"instanceArgs\":{\"namespace\":\"html\",\"tag\":\"div\"},\"children\":[{\"props\":{\"attributes\":{\"style\":\"text-align:right;width:18%\"}},\"nodeType\":\"DOM\",\"type\":\"node\",\"instanceArgs\":{\"namespace\":\"html\",\"tag\":\"div\"},\"children\":[{\"props\":{\"className\":\"interact \",\"style\":{\"padding\":\"5px 10px 0px 10px\"}},\"nodeType\":\"DOM\",\"type\":\"node\",\"instanceArgs\":{\"namespace\":\"html\",\"tag\":\"label\"},\"children\":[\"r\"]}]},{\"props\":{\"attributes\":{\"style\":\"flex-grow:1; margin: 0 2%\"}},\"nodeType\":\"DOM\",\"type\":\"node\",\"instanceArgs\":{\"namespace\":\"html\",\"tag\":\"div\"},\"children\":[{\"props\":{\"max\":50,\"min\":1,\"attributes\":{\"type\":\"range\",\"data-bind\":\"numericValue: index, valueUpdate: 'input', event: {change : function () {this.changes(this.changes()+1)}}\",\"orient\":\"horizontal\"},\"step\":1,\"className\":\"slider slider is-fullwidth\",\"style\":{}},\"nodeType\":\"DOM\",\"type\":\"node\",\"instanceArgs\":{\"namespace\":\"html\",\"tag\":\"input\"},\"children\":[]}]},{\"props\":{\"attributes\":{\"style\":\"width:18%\"}},\"nodeType\":\"DOM\",\"type\":\"node\",\"instanceArgs\":{\"namespace\":\"html\",\"tag\":\"div\"},\"children\":[{\"props\":{\"attributes\":{\"data-bind\":\"text: formatted_value\"}},\"nodeType\":\"DOM\",\"type\":\"node\",\"instanceArgs\":{\"namespace\":\"html\",\"tag\":\"p\"},\"children\":[]}]}]}]}]},{\"props\":{},\"nodeType\":\"Scope\",\"type\":\"node\",\"instanceArgs\":{\"imports\":{\"data\":[],\"type\":\"async_block\"},\"id\":\"scope-1b8f9554-cae9-416c-9cbe-646e4ff0f943\",\"handlers\":{},\"systemjs_options\":null,\"observables\":{\"obs-node\":{\"sync\":false,\"id\":\"ob_28\",\"value\":{\"props\":{\"attributes\":{\"style\":\"display:flex; justify-content:center; align-items:center;\"}},\"nodeType\":\"DOM\",\"type\":\"node\",\"instanceArgs\":{\"namespace\":\"html\",\"tag\":\"div\"},\"children\":[{\"props\":{\"setInnerHtml\":\"<?xml version=\\\"1.0\\\" encoding=\\\"utf-8\\\"?>\\n<svg xmlns=\\\"http:\\/\\/www.w3.org\\/2000\\/svg\\\" xmlns:xlink=\\\"http:\\/\\/www.w3.org\\/1999\\/xlink\\\" width=\\\"1000\\\" height=\\\"400\\\" viewBox=\\\"0 0 4000 1600\\\">\\n<defs>\\n  <clipPath id=\\\"clip1800\\\">\\n    <rect x=\\\"0\\\" y=\\\"0\\\" width=\\\"2000\\\" height=\\\"2000\\\"\\/>\\n  <\\/clipPath>\\n<\\/defs>\\n<defs>\\n  <clipPath id=\\\"clip1801\\\">\\n    <rect x=\\\"0\\\" y=\\\"0\\\" width=\\\"4000\\\" height=\\\"1600\\\"\\/>\\n  <\\/clipPath>\\n<\\/defs>\\n<polygon clip-path=\\\"url(#clip1801)\\\" points=\\\"\\n0,1600 4000,1600 4000,0 0,0 \\n  \\\" fill=\\\"#ffffff\\\" fill-rule=\\\"evenodd\\\" fill-opacity=\\\"1\\\"\\/>\\n<defs>\\n  <clipPath id=\\\"clip1802\\\">\\n    <rect x=\\\"800\\\" y=\\\"0\\\" width=\\\"2801\\\" height=\\\"1600\\\"\\/>\\n  <\\/clipPath>\\n<\\/defs>\\n<polygon clip-path=\\\"url(#clip1801)\\\" points=\\\"\\n161.394,1516.89 3921.26,1516.89 3921.26,47.2441 161.394,47.2441 \\n  \\\" fill=\\\"#ffffff\\\" fill-rule=\\\"evenodd\\\" fill-opacity=\\\"1\\\"\\/>\\n<defs>\\n  <clipPath id=\\\"clip1803\\\">\\n    <rect x=\\\"161\\\" y=\\\"47\\\" width=\\\"3761\\\" height=\\\"1471\\\"\\/>\\n  <\\/clipPath>\\n<\\/defs>\\n<polyline clip-path=\\\"url(#clip1803)\\\" style=\\\"stroke:#000000; stroke-width:2; stroke-opacity:0.1; fill:none\\\" points=\\\"\\n  161.394,1516.89 161.394,47.2441 \\n  \\\"\\/>\\n<polyline clip-path=\\\"url(#clip1803)\\\" style=\\\"stroke:#000000; stroke-width:2; stroke-opacity:0.1; fill:none\\\" points=\\\"\\n  913.367,1516.89 913.367,47.2441 \\n  \\\"\\/>\\n<polyline clip-path=\\\"url(#clip1803)\\\" style=\\\"stroke:#000000; stroke-width:2; stroke-opacity:0.1; fill:none\\\" points=\\\"\\n  1665.34,1516.89 1665.34,47.2441 \\n  \\\"\\/>\\n<polyline clip-path=\\\"url(#clip1803)\\\" style=\\\"stroke:#000000; stroke-width:2; stroke-opacity:0.1; fill:none\\\" points=\\\"\\n  2417.31,1516.89 2417.31,47.2441 \\n  \\\"\\/>\\n<polyline clip-path=\\\"url(#clip1803)\\\" style=\\\"stroke:#000000; stroke-width:2; stroke-opacity:0.1; fill:none\\\" points=\\\"\\n  3169.29,1516.89 3169.29,47.2441 \\n  \\\"\\/>\\n<polyline clip-path=\\\"url(#clip1803)\\\" style=\\\"stroke:#000000; stroke-width:2; stroke-opacity:0.1; fill:none\\\" points=\\\"\\n  3921.26,1516.89 3921.26,47.2441 \\n  \\\"\\/>\\n<polyline clip-path=\\\"url(#clip1803)\\\" style=\\\"stroke:#000000; stroke-width:2; stroke-opacity:0.1; fill:none\\\" points=\\\"\\n  161.394,1516.89 3921.26,1516.89 \\n  \\\"\\/>\\n<polyline clip-path=\\\"url(#clip1803)\\\" style=\\\"stroke:#000000; stroke-width:2; stroke-opacity:0.1; fill:none\\\" points=\\\"\\n  161.394,1222.96 3921.26,1222.96 \\n  \\\"\\/>\\n<polyline clip-path=\\\"url(#clip1803)\\\" style=\\\"stroke:#000000; stroke-width:2; stroke-opacity:0.1; fill:none\\\" points=\\\"\\n  161.394,929.03 3921.26,929.03 \\n  \\\"\\/>\\n<polyline clip-path=\\\"url(#clip1803)\\\" style=\\\"stroke:#000000; stroke-width:2; stroke-opacity:0.1; fill:none\\\" points=\\\"\\n  161.394,635.102 3921.26,635.102 \\n  \\\"\\/>\\n<polyline clip-path=\\\"url(#clip1803)\\\" style=\\\"stroke:#000000; stroke-width:2; stroke-opacity:0.1; fill:none\\\" points=\\\"\\n  161.394,341.173 3921.26,341.173 \\n  \\\"\\/>\\n<polyline clip-path=\\\"url(#clip1803)\\\" style=\\\"stroke:#000000; stroke-width:2; stroke-opacity:0.1; fill:none\\\" points=\\\"\\n  161.394,47.2441 3921.26,47.2441 \\n  \\\"\\/>\\n<polyline clip-path=\\\"url(#clip1801)\\\" style=\\\"stroke:#000000; stroke-width:4; stroke-opacity:1; fill:none\\\" points=\\\"\\n  161.394,1516.89 3921.26,1516.89 \\n  \\\"\\/>\\n<polyline clip-path=\\\"url(#clip1801)\\\" style=\\\"stroke:#000000; stroke-width:4; stroke-opacity:1; fill:none\\\" points=\\\"\\n  161.394,1516.89 161.394,47.2441 \\n  \\\"\\/>\\n<polyline clip-path=\\\"url(#clip1801)\\\" style=\\\"stroke:#000000; stroke-width:4; stroke-opacity:1; fill:none\\\" points=\\\"\\n  161.394,1516.89 161.394,1494.84 \\n  \\\"\\/>\\n<polyline clip-path=\\\"url(#clip1801)\\\" style=\\\"stroke:#000000; stroke-width:4; stroke-opacity:1; fill:none\\\" points=\\\"\\n  913.367,1516.89 913.367,1494.84 \\n  \\\"\\/>\\n<polyline clip-path=\\\"url(#clip1801)\\\" style=\\\"stroke:#000000; stroke-width:4; stroke-opacity:1; fill:none\\\" points=\\\"\\n  1665.34,1516.89 1665.34,1494.84 \\n  \\\"\\/>\\n<polyline clip-path=\\\"url(#clip1801)\\\" style=\\\"stroke:#000000; stroke-width:4; stroke-opacity:1; fill:none\\\" points=\\\"\\n  2417.31,1516.89 2417.31,1494.84 \\n  \\\"\\/>\\n<polyline clip-path=\\\"url(#clip1801)\\\" style=\\\"stroke:#000000; stroke-width:4; stroke-opacity:1; fill:none\\\" points=\\\"\\n  3169.29,1516.89 3169.29,1494.84 \\n  \\\"\\/>\\n<polyline clip-path=\\\"url(#clip1801)\\\" style=\\\"stroke:#000000; stroke-width:4; stroke-opacity:1; fill:none\\\" points=\\\"\\n  3921.26,1516.89 3921.26,1494.84 \\n  \\\"\\/>\\n<polyline clip-path=\\\"url(#clip1801)\\\" style=\\\"stroke:#000000; stroke-width:4; stroke-opacity:1; fill:none\\\" points=\\\"\\n  161.394,1516.89 217.792,1516.89 \\n  \\\"\\/>\\n<polyline clip-path=\\\"url(#clip1801)\\\" style=\\\"stroke:#000000; stroke-width:4; stroke-opacity:1; fill:none\\\" points=\\\"\\n  161.394,1222.96 217.792,1222.96 \\n  \\\"\\/>\\n<polyline clip-path=\\\"url(#clip1801)\\\" style=\\\"stroke:#000000; stroke-width:4; stroke-opacity:1; fill:none\\\" points=\\\"\\n  161.394,929.03 217.792,929.03 \\n  \\\"\\/>\\n<polyline clip-path=\\\"url(#clip1801)\\\" style=\\\"stroke:#000000; stroke-width:4; stroke-opacity:1; fill:none\\\" points=\\\"\\n  161.394,635.102 217.792,635.102 \\n  \\\"\\/>\\n<polyline clip-path=\\\"url(#clip1801)\\\" style=\\\"stroke:#000000; stroke-width:4; stroke-opacity:1; fill:none\\\" points=\\\"\\n  161.394,341.173 217.792,341.173 \\n  \\\"\\/>\\n<polyline clip-path=\\\"url(#clip1801)\\\" style=\\\"stroke:#000000; stroke-width:4; stroke-opacity:1; fill:none\\\" points=\\\"\\n  161.394,47.2441 217.792,47.2441 \\n  \\\"\\/>\\n<g clip-path=\\\"url(#clip1801)\\\">\\n<text style=\\\"fill:#000000; fill-opacity:1; font-family:Arial,Helvetica Neue,Helvetica,sans-serif; font-size:48px; text-anchor:middle;\\\" transform=\\\"rotate(0, 161.394, 1578.89)\\\" x=\\\"161.394\\\" y=\\\"1578.89\\\">0.0<\\/text>\\n<\\/g>\\n<g clip-path=\\\"url(#clip1801)\\\">\\n<text style=\\\"fill:#000000; fill-opacity:1; font-family:Arial,Helvetica Neue,Helvetica,sans-serif; font-size:48px; text-anchor:middle;\\\" transform=\\\"rotate(0, 913.367, 1578.89)\\\" x=\\\"913.367\\\" y=\\\"1578.89\\\">0.2<\\/text>\\n<\\/g>\\n<g clip-path=\\\"url(#clip1801)\\\">\\n<text style=\\\"fill:#000000; fill-opacity:1; font-family:Arial,Helvetica Neue,Helvetica,sans-serif; font-size:48px; text-anchor:middle;\\\" transform=\\\"rotate(0, 1665.34, 1578.89)\\\" x=\\\"1665.34\\\" y=\\\"1578.89\\\">0.4<\\/text>\\n<\\/g>\\n<g clip-path=\\\"url(#clip1801)\\\">\\n<text style=\\\"fill:#000000; fill-opacity:1; font-family:Arial,Helvetica Neue,Helvetica,sans-serif; font-size:48px; text-anchor:middle;\\\" transform=\\\"rotate(0, 2417.31, 1578.89)\\\" x=\\\"2417.31\\\" y=\\\"1578.89\\\">0.6<\\/text>\\n<\\/g>\\n<g clip-path=\\\"url(#clip1801)\\\">\\n<text style=\\\"fill:#000000; fill-opacity:1; font-family:Arial,Helvetica Neue,Helvetica,sans-serif; font-size:48px; text-anchor:middle;\\\" transform=\\\"rotate(0, 3169.29, 1578.89)\\\" x=\\\"3169.29\\\" y=\\\"1578.89\\\">0.8<\\/text>\\n<\\/g>\\n<g clip-path=\\\"url(#clip1801)\\\">\\n<text style=\\\"fill:#000000; fill-opacity:1; font-family:Arial,Helvetica Neue,Helvetica,sans-serif; font-size:48px; text-anchor:middle;\\\" transform=\\\"rotate(0, 3921.26, 1578.89)\\\" x=\\\"3921.26\\\" y=\\\"1578.89\\\">1.0<\\/text>\\n<\\/g>\\n<g clip-path=\\\"url(#clip1801)\\\">\\n<text style=\\\"fill:#000000; fill-opacity:1; font-family:Arial,Helvetica Neue,Helvetica,sans-serif; font-size:48px; text-anchor:end;\\\" transform=\\\"rotate(0, 121.394, 1534.39)\\\" x=\\\"121.394\\\" y=\\\"1534.39\\\">0.0<\\/text>\\n<\\/g>\\n<g clip-path=\\\"url(#clip1801)\\\">\\n<text style=\\\"fill:#000000; fill-opacity:1; font-family:Arial,Helvetica Neue,Helvetica,sans-serif; font-size:48px; text-anchor:end;\\\" transform=\\\"rotate(0, 121.394, 1240.46)\\\" x=\\\"121.394\\\" y=\\\"1240.46\\\">0.2<\\/text>\\n<\\/g>\\n<g clip-path=\\\"url(#clip1801)\\\">\\n<text style=\\\"fill:#000000; fill-opacity:1; font-family:Arial,Helvetica Neue,Helvetica,sans-serif; font-size:48px; text-anchor:end;\\\" transform=\\\"rotate(0, 121.394, 946.53)\\\" x=\\\"121.394\\\" y=\\\"946.53\\\">0.4<\\/text>\\n<\\/g>\\n<g clip-path=\\\"url(#clip1801)\\\">\\n<text style=\\\"fill:#000000; fill-opacity:1; font-family:Arial,Helvetica Neue,Helvetica,sans-serif; font-size:48px; text-anchor:end;\\\" transform=\\\"rotate(0, 121.394, 652.602)\\\" x=\\\"121.394\\\" y=\\\"652.602\\\">0.6<\\/text>\\n<\\/g>\\n<g clip-path=\\\"url(#clip1801)\\\">\\n<text style=\\\"fill:#000000; fill-opacity:1; font-family:Arial,Helvetica Neue,Helvetica,sans-serif; font-size:48px; text-anchor:end;\\\" transform=\\\"rotate(0, 121.394, 358.673)\\\" x=\\\"121.394\\\" y=\\\"358.673\\\">0.8<\\/text>\\n<\\/g>\\n<g clip-path=\\\"url(#clip1801)\\\">\\n<text style=\\\"fill:#000000; fill-opacity:1; font-family:Arial,Helvetica Neue,Helvetica,sans-serif; font-size:48px; text-anchor:end;\\\" transform=\\\"rotate(0, 121.394, 64.7441)\\\" x=\\\"121.394\\\" y=\\\"64.7441\\\">1.0<\\/text>\\n<\\/g>\\n<circle clip-path=\\\"url(#clip1803)\\\" style=\\\"fill:#000000; stroke:none; fill-opacity:1\\\" cx=\\\"537.381\\\" cy=\\\"648.861\\\" r=\\\"18\\\"\\/>\\n<circle clip-path=\\\"url(#clip1803)\\\" style=\\\"fill:#009af9; stroke:none; fill-opacity:1\\\" cx=\\\"537.381\\\" cy=\\\"648.861\\\" r=\\\"14\\\"\\/>\\n<circle clip-path=\\\"url(#clip1803)\\\" style=\\\"fill:#000000; stroke:none; fill-opacity:1\\\" cx=\\\"871.591\\\" cy=\\\"651.952\\\" r=\\\"18\\\"\\/>\\n<circle clip-path=\\\"url(#clip1803)\\\" style=\\\"fill:#009af9; stroke:none; fill-opacity:1\\\" cx=\\\"871.591\\\" cy=\\\"651.952\\\" r=\\\"14\\\"\\/>\\n<circle clip-path=\\\"url(#clip1803)\\\" style=\\\"fill:#000000; stroke:none; fill-opacity:1\\\" cx=\\\"1205.8\\\" cy=\\\"1316.11\\\" r=\\\"18\\\"\\/>\\n<circle clip-path=\\\"url(#clip1803)\\\" style=\\\"fill:#009af9; stroke:none; fill-opacity:1\\\" cx=\\\"1205.8\\\" cy=\\\"1316.11\\\" r=\\\"14\\\"\\/>\\n<circle clip-path=\\\"url(#clip1803)\\\" style=\\\"fill:#000000; stroke:none; fill-opacity:1\\\" cx=\\\"1540.01\\\" cy=\\\"791.59\\\" r=\\\"18\\\"\\/>\\n<circle clip-path=\\\"url(#clip1803)\\\" style=\\\"fill:#009af9; stroke:none; fill-opacity:1\\\" cx=\\\"1540.01\\\" cy=\\\"791.59\\\" r=\\\"14\\\"\\/>\\n<circle clip-path=\\\"url(#clip1803)\\\" style=\\\"fill:#000000; stroke:none; fill-opacity:1\\\" cx=\\\"1874.22\\\" cy=\\\"724.198\\\" r=\\\"18\\\"\\/>\\n<circle clip-path=\\\"url(#clip1803)\\\" style=\\\"fill:#009af9; stroke:none; fill-opacity:1\\\" cx=\\\"1874.22\\\" cy=\\\"724.198\\\" r=\\\"14\\\"\\/>\\n<circle clip-path=\\\"url(#clip1803)\\\" style=\\\"fill:#000000; stroke:none; fill-opacity:1\\\" cx=\\\"2208.43\\\" cy=\\\"765.205\\\" r=\\\"18\\\"\\/>\\n<circle clip-path=\\\"url(#clip1803)\\\" style=\\\"fill:#009af9; stroke:none; fill-opacity:1\\\" cx=\\\"2208.43\\\" cy=\\\"765.205\\\" r=\\\"14\\\"\\/>\\n<circle clip-path=\\\"url(#clip1803)\\\" style=\\\"fill:#000000; stroke:none; fill-opacity:1\\\" cx=\\\"2542.64\\\" cy=\\\"405.487\\\" r=\\\"18\\\"\\/>\\n<circle clip-path=\\\"url(#clip1803)\\\" style=\\\"fill:#009af9; stroke:none; fill-opacity:1\\\" cx=\\\"2542.64\\\" cy=\\\"405.487\\\" r=\\\"14\\\"\\/>\\n<circle clip-path=\\\"url(#clip1803)\\\" style=\\\"fill:#000000; stroke:none; fill-opacity:1\\\" cx=\\\"2876.85\\\" cy=\\\"613.529\\\" r=\\\"18\\\"\\/>\\n<circle clip-path=\\\"url(#clip1803)\\\" style=\\\"fill:#009af9; stroke:none; fill-opacity:1\\\" cx=\\\"2876.85\\\" cy=\\\"613.529\\\" r=\\\"14\\\"\\/>\\n<circle clip-path=\\\"url(#clip1803)\\\" style=\\\"fill:#000000; stroke:none; fill-opacity:1\\\" cx=\\\"3211.06\\\" cy=\\\"429.68\\\" r=\\\"18\\\"\\/>\\n<circle clip-path=\\\"url(#clip1803)\\\" style=\\\"fill:#009af9; stroke:none; fill-opacity:1\\\" cx=\\\"3211.06\\\" cy=\\\"429.68\\\" r=\\\"14\\\"\\/>\\n<circle clip-path=\\\"url(#clip1803)\\\" style=\\\"fill:#000000; stroke:none; fill-opacity:1\\\" cx=\\\"3545.27\\\" cy=\\\"807.141\\\" r=\\\"18\\\"\\/>\\n<circle clip-path=\\\"url(#clip1803)\\\" style=\\\"fill:#009af9; stroke:none; fill-opacity:1\\\" cx=\\\"3545.27\\\" cy=\\\"807.141\\\" r=\\\"14\\\"\\/>\\n<polygon clip-path=\\\"url(#clip1803)\\\" points=\\\"\\n161.394,1058.87 180.288,1054.41 199.182,1048.9 218.075,1042.16 236.969,1034.03 255.863,1024.31 274.757,1012.85 293.651,999.469 312.544,984.036 331.438,966.433 \\n  350.332,946.582 369.226,924.446 388.12,900.04 407.013,873.435 425.907,844.767 444.801,814.236 463.695,782.112 482.589,748.733 501.482,714.505 520.376,679.898 \\n  539.27,649.91 558.164,659.317 577.058,666.648 595.951,671.778 614.845,674.662 633.739,675.341 652.633,673.953 671.527,670.733 690.42,666.01 709.314,660.209 \\n  728.208,653.835 747.102,647.466 765.996,641.732 784.889,637.297 803.783,634.837 822.677,635.013 841.571,638.448 860.465,645.701 879.358,672.288 898.252,724.436 \\n  917.146,779.679 936.04,837.062 954.934,895.557 973.827,954.09 992.721,1011.56 1011.61,1066.88 1030.51,1118.99 1049.4,1166.9 1068.3,1209.69 1087.19,1246.58 \\n  1106.08,1276.91 1124.98,1300.2 1143.87,1316.12 1162.77,1324.52 1181.66,1325.44 1200.55,1319.11 1219.45,1331.72 1238.34,1347.14 1257.23,1355.02 1276.13,1355.13 \\n  1295.02,1347.43 1313.92,1332.05 1332.81,1309.32 1351.7,1279.7 1370.6,1243.83 1389.49,1202.48 1408.38,1156.5 1427.28,1106.86 1446.17,1054.57 1465.07,1000.69 \\n  1483.96,946.263 1502.85,892.343 1521.75,839.933 1540.64,791.165 1559.54,780.059 1578.43,771.88 1597.32,766.206 1616.22,762.567 1635.11,760.468 1654,759.413 \\n  1672.9,758.929 1691.79,758.588 1710.69,758.018 1729.58,756.925 1748.47,755.099 1767.37,752.418 1786.26,748.853 1805.15,744.46 1824.05,739.375 1842.94,733.8 \\n  1861.84,727.992 1880.73,734.544 1899.62,764.452 1918.52,793.539 1937.41,821.031 1956.3,846.193 1975.2,868.347 1994.09,886.886 2012.99,901.282 2031.88,911.103 \\n  2050.77,916.02 2069.67,915.813 2088.56,910.378 2107.46,899.73 2126.35,884.005 2145.24,863.456 2164.14,838.447 2183.03,809.453 2201.92,777.043 2220.82,765.243 \\n  2239.71,762.97 2258.61,757.603 2277.5,748.911 2296.39,736.771 2315.29,721.177 2334.18,702.238 2353.07,680.188 2371.97,655.377 2390.86,628.261 2409.76,599.394 \\n  2428.65,569.41 2447.54,539.001 2466.44,508.898 2485.33,479.846 2504.22,452.58 2523.12,427.8 2542.01,406.148 2560.91,422.571 2579.8,443.26 2598.69,466.284 \\n  2617.59,490.845 2636.48,516.11 2655.38,541.233 2674.27,565.382 2693.16,587.766 2712.06,607.656 2730.95,624.409 2749.84,637.488 2768.74,646.474 2787.63,651.085 \\n  2806.53,651.178 2825.42,646.758 2844.31,637.975 2863.21,625.117 2882.1,618.558 2900.99,634.406 2919.89,646.381 2938.78,654.133 2957.68,657.449 2976.57,656.26 \\n  2995.46,650.638 3014.36,640.801 3033.25,627.102 3052.15,610.019 3071.04,590.141 3089.93,568.152 3108.83,544.805 3127.72,520.903 3146.61,497.273 3165.51,474.743 \\n  3184.4,454.114 3203.3,436.139 3222.19,443.102 3241.08,468.615 3259.98,497.018 3278.87,527.622 3297.76,559.685 3316.66,592.434 3335.55,625.089 3354.45,656.886 \\n  3373.34,687.098 3392.23,715.059 3411.13,740.176 3430.02,761.947 3448.91,779.972 3467.81,793.961 3486.7,803.735 3505.6,809.229 3524.49,810.483 3543.38,807.642 \\n  3562.28,842.219 3581.17,879.506 3600.07,914.594 3618.96,947.126 3637.85,976.829 3656.75,1003.52 3675.64,1027.08 3694.53,1047.5 3713.43,1064.82 3732.32,1079.15 \\n  3751.22,1090.67 3770.11,1099.57 3789,1106.11 3807.9,1110.55 3826.79,1113.18 3845.68,1114.26 3864.58,1114.09 3883.47,1112.92 3902.37,1110.99 3921.26,1108.52 \\n  3921.26,450.246 3902.37,462.54 3883.47,476.205 3864.58,491.272 3845.68,507.748 3826.79,525.606 3807.9,544.78 3789,565.162 3770.11,586.595 3751.22,608.873 \\n  3732.32,631.739 3713.43,654.885 3694.53,677.954 3675.64,700.55 3656.75,722.239 3637.85,742.565 3618.96,761.058 3600.07,777.248 3581.17,790.682 3562.28,800.938 \\n  3543.38,803.17 3524.49,762.869 3505.6,721.888 3486.7,680.852 3467.81,640.419 3448.91,601.268 3430.02,564.076 3411.13,529.5 3392.23,498.158 3373.34,470.608 \\n  3354.45,447.33 3335.55,428.709 3316.66,415.023 3297.76,406.425 3278.87,402.945 3259.98,404.476 3241.08,410.782 3222.19,421.498 3203.3,421.091 3184.4,403.103 \\n  3165.51,389.545 3146.61,380.7 3127.72,376.718 3108.83,377.607 3089.93,383.237 3071.04,393.337 3052.15,407.51 3033.25,425.237 3014.36,445.9 2995.46,468.793 \\n  2976.57,493.149 2957.68,518.161 2938.78,543.005 2919.89,566.87 2900.99,588.976 2882.1,608.604 2863.21,599.308 2844.31,577.239 2825.42,553.025 2806.53,527.41 \\n  2787.63,501.186 2768.74,475.166 2749.84,450.163 2730.95,426.962 2712.06,406.296 2693.16,388.826 2674.27,375.116 2655.38,365.622 2636.48,360.674 2617.59,360.468 \\n  2598.69,365.063 2579.8,374.375 2560.91,388.186 2542.01,404.957 2523.12,391.072 2504.22,381.473 2485.33,376.6 2466.44,376.762 2447.54,382.133 2428.65,392.746 \\n  2409.76,408.492 2390.86,429.126 2371.97,454.274 2353.07,483.444 2334.18,516.041 2315.29,551.384 2296.39,588.724 2277.5,627.266 2258.61,666.187 2239.71,704.659 \\n  2220.82,741.87 2201.92,764.743 2183.03,761.867 2164.14,757.072 2145.24,750.852 2126.35,743.716 2107.46,736.169 2088.56,728.689 2069.67,721.714 2050.77,715.616 \\n  2031.88,710.699 2012.99,707.183 1994.09,705.197 1975.2,704.786 1956.3,705.904 1937.41,708.427 1918.52,712.164 1899.62,716.865 1880.73,722.244 1861.84,704.619 \\n  1842.94,675.489 1824.05,647.959 1805.15,622.816 1786.26,600.806 1767.37,582.626 1748.47,568.902 1729.58,560.18 1710.69,556.915 1691.79,559.452 1672.9,568.027 \\n  1654,582.748 1635.11,603.599 1616.22,630.431 1597.32,662.96 1578.43,700.773 1559.54,743.331 1540.64,789.974 1521.75,805.547 1502.85,823.459 1483.96,845.042 \\n  1465.07,870.311 1446.17,899.137 1427.28,931.25 1408.38,966.235 1389.49,1003.54 1370.6,1042.47 1351.7,1082.25 1332.81,1121.99 1313.92,1160.74 1295.02,1197.53 \\n  1276.13,1231.36 1257.23,1261.29 1238.34,1286.41 1219.45,1305.91 1200.55,1309.15 1181.66,1280.01 1162.77,1245.01 1143.87,1204.99 1124.98,1160.91 1106.08,1113.8 \\n  1087.19,1064.73 1068.3,1014.79 1049.4,965.031 1030.51,916.483 1011.61,870.078 992.721,826.647 973.827,786.892 954.934,751.373 936.04,720.489 917.146,694.481 \\n  898.252,673.425 879.358,657.241 860.465,624.097 841.571,580.615 822.677,542.471 803.783,510.159 784.889,484.037 765.996,464.321 747.102,451.086 728.208,444.279 \\n  709.314,443.718 690.42,449.109 671.527,460.057 652.633,476.082 633.739,496.637 614.845,521.12 595.951,548.895 577.058,579.308 558.164,611.703 539.27,645.438 \\n  520.376,638.616 501.482,625.68 482.589,611.386 463.695,596.044 444.801,579.972 425.907,563.491 407.013,546.904 388.12,530.493 369.226,514.51 350.332,499.167 \\n  331.438,484.64 312.544,471.061 293.651,458.522 274.757,447.076 255.863,436.744 236.969,427.512 218.075,419.345 199.182,412.185 180.288,405.963 161.394,400.597 \\n  \\n  \\\" fill=\\\"#e26f46\\\" fill-rule=\\\"evenodd\\\" fill-opacity=\\\"0.5\\\"\\/>\\n<polyline clip-path=\\\"url(#clip1803)\\\" style=\\\"stroke:#e26f46; stroke-width:4; stroke-opacity:1; fill:none\\\" points=\\\"\\n  161.394,729.736 180.288,730.188 199.182,730.543 218.075,730.755 236.969,730.77 255.863,730.529 274.757,729.962 293.651,728.995 312.544,727.548 331.438,725.536 \\n  350.332,722.874 369.226,719.478 388.12,715.266 407.013,710.17 425.907,704.129 444.801,697.104 463.695,689.078 482.589,680.059 501.482,670.092 520.376,659.257 \\n  539.27,647.674 558.164,635.51 577.058,622.978 595.951,610.336 614.845,597.891 633.739,585.989 652.633,575.018 671.527,565.395 690.42,557.559 709.314,551.963 \\n  728.208,549.057 747.102,549.276 765.996,553.026 784.889,560.667 803.783,572.498 822.677,588.742 841.571,609.532 860.465,634.899 879.358,664.765 898.252,698.931 \\n  917.146,737.08 936.04,778.775 954.934,823.465 973.827,870.491 992.721,919.104 1011.61,968.48 1030.51,1017.74 1049.4,1065.96 1068.3,1112.24 1087.19,1155.65 \\n  1106.08,1195.36 1124.98,1230.56 1143.87,1260.55 1162.77,1284.76 1181.66,1302.72 1200.55,1314.13 1219.45,1318.82 1238.34,1316.78 1257.23,1308.16 1276.13,1293.25 \\n  1295.02,1272.48 1313.92,1246.4 1332.81,1215.65 1351.7,1180.98 1370.6,1143.15 1389.49,1103.01 1408.38,1061.37 1427.28,1019.06 1446.17,976.855 1465.07,935.499 \\n  1483.96,895.653 1502.85,857.901 1521.75,822.74 1540.64,790.569 1559.54,761.695 1578.43,736.327 1597.32,714.583 1616.22,696.499 1635.11,682.034 1654,671.081 \\n  1672.9,663.478 1691.79,659.02 1710.69,657.466 1729.58,658.553 1748.47,662 1767.37,667.522 1786.26,674.83 1805.15,683.638 1824.05,693.667 1842.94,704.644 \\n  1861.84,716.306 1880.73,728.394 1899.62,740.658 1918.52,752.851 1937.41,764.729 1956.3,776.048 1975.2,786.567 1994.09,796.041 2012.99,804.232 2031.88,810.901 \\n  2050.77,815.818 2069.67,818.763 2088.56,819.534 2107.46,817.95 2126.35,813.861 2145.24,807.154 2164.14,797.76 2183.03,785.66 2201.92,770.893 2220.82,753.557 \\n  2239.71,733.815 2258.61,711.895 2277.5,688.088 2296.39,662.748 2315.29,636.28 2334.18,609.139 2353.07,581.816 2371.97,554.825 2390.86,528.693 2409.76,503.943 \\n  2428.65,481.078 2447.54,460.567 2466.44,442.83 2485.33,428.223 2504.22,417.027 2523.12,409.436 2542.01,405.552 2560.91,405.379 2579.8,408.818 2598.69,415.673 \\n  2617.59,425.657 2636.48,438.392 2655.38,453.427 2674.27,470.249 2693.16,488.296 2712.06,506.976 2730.95,525.686 2749.84,543.825 2768.74,560.82 2787.63,576.135 \\n  2806.53,589.294 2825.42,599.892 2844.31,607.607 2863.21,612.212 2882.1,613.581 2900.99,611.691 2919.89,606.625 2938.78,598.569 2957.68,587.805 2976.57,574.704 \\n  2995.46,559.715 3014.36,543.35 3033.25,526.17 3052.15,508.764 3071.04,491.739 3089.93,475.694 3108.83,461.206 3127.72,448.81 3146.61,438.987 3165.51,432.144 \\n  3184.4,428.609 3203.3,428.615 3222.19,432.3 3241.08,439.699 3259.98,450.747 3278.87,465.284 3297.76,483.055 3316.66,503.728 3335.55,526.899 3354.45,552.108 \\n  3373.34,578.853 3392.23,606.608 3411.13,634.838 3430.02,663.011 3448.91,690.62 3467.81,717.19 3486.7,742.294 3505.6,765.558 3524.49,786.676 3543.38,805.406 \\n  3562.28,821.579 3581.17,835.094 3600.07,845.921 3618.96,854.092 3637.85,859.697 3656.75,862.878 3675.64,863.816 3694.53,862.728 3713.43,859.853 3732.32,855.447 \\n  3751.22,849.77 3770.11,843.083 3789,835.636 3807.9,827.666 3826.79,819.391 3845.68,811.006 3864.58,802.682 3883.47,794.563 3902.37,786.766 3921.26,779.384 \\n  \\n  \\\"\\/>\\n<polygon clip-path=\\\"url(#clip1801)\\\" points=\\\"\\n3016.05,408.204 3801.26,408.204 3801.26,226.764 3016.05,226.764 \\n  \\\" fill=\\\"#ffffff\\\" fill-rule=\\\"evenodd\\\" fill-opacity=\\\"1\\\"\\/>\\n<polyline clip-path=\\\"url(#clip1801)\\\" style=\\\"stroke:#000000; stroke-width:4; stroke-opacity:1; fill:none\\\" points=\\\"\\n  3016.05,408.204 3801.26,408.204 3801.26,226.764 3016.05,226.764 3016.05,408.204 \\n  \\\"\\/>\\n<circle clip-path=\\\"url(#clip1801)\\\" style=\\\"fill:#000000; stroke:none; fill-opacity:1\\\" cx=\\\"3196.05\\\" cy=\\\"287.244\\\" r=\\\"25\\\"\\/>\\n<circle clip-path=\\\"url(#clip1801)\\\" style=\\\"fill:#009af9; stroke:none; fill-opacity:1\\\" cx=\\\"3196.05\\\" cy=\\\"287.244\\\" r=\\\"21\\\"\\/>\\n<g clip-path=\\\"url(#clip1801)\\\">\\n<text style=\\\"fill:#000000; fill-opacity:1; font-family:Arial,Helvetica Neue,Helvetica,sans-serif; font-size:48px; text-anchor:start;\\\" transform=\\\"rotate(0, 3336.05, 304.744)\\\" x=\\\"3336.05\\\" y=\\\"304.744\\\">data<\\/text>\\n<\\/g>\\n<polyline clip-path=\\\"url(#clip1801)\\\" style=\\\"stroke:#e26f46; stroke-width:4; stroke-opacity:1; fill:none\\\" points=\\\"\\n  3056.05,347.724 3296.05,347.724 \\n  \\\"\\/>\\n<g clip-path=\\\"url(#clip1801)\\\">\\n<text style=\\\"fill:#000000; fill-opacity:1; font-family:Arial,Helvetica Neue,Helvetica,sans-serif; font-size:48px; text-anchor:start;\\\" transform=\\\"rotate(0, 3336.05, 365.224)\\\" x=\\\"3336.05\\\" y=\\\"365.224\\\">Gaussian process<\\/text>\\n<\\/g>\\n<\\/svg>\\n\"},\"nodeType\":\"DOM\",\"type\":\"node\",\"instanceArgs\":{\"namespace\":\"html\",\"tag\":\"div\"},\"children\":[]}]}}}},\"children\":[{\"props\":{},\"nodeType\":\"ObservableNode\",\"type\":\"node\",\"instanceArgs\":{\"id\":\"ob_28\",\"name\":\"obs-node\"},\"children\":[]}]}]},\n",
       "        );\n",
       "    } else {\n",
       "        document\n",
       "            .querySelector('[data-webio-mountpoint=\"9172130781233578586\"]')\n",
       "            .innerHTML = '<strong>WebIO not detected.</strong>';\n",
       "    }\n",
       "    </script>\n",
       "</div>\n"
      ],
      "text/plain": [
       "Widget{:manipulate,Any}(OrderedDict{Symbol,Any}(:s=>Widget{:slider,Float64}(OrderedDict{Symbol,Any}(:changes=>Observable{Int64} with 1 listeners. Value:\n",
       "0,:index=>Observable{Any} with 2 listeners. Value:\n",
       "25,:formatted_vals=>Observable{Any} with 1 listeners. Value:\n",
       "[\"0.0\", \"0.00204082\", \"0.00408163\", \"0.00612245\", \"0.00816327\", \"0.0102041\", \"0.0122449\", \"0.0142857\", \"0.0163265\", \"0.0183673\"  …  \"0.0816327\", \"0.0836735\", \"0.0857143\", \"0.0877551\", \"0.0897959\", \"0.0918367\", \"0.0938776\", \"0.0959184\", \"0.0979592\", \"0.1\"],:formatted_value=>Observable{String} with 1 listeners. Value:\n",
       "\"0.0489796\",:value=>Observable{Float64} with 2 listeners. Value:\n",
       "0.0489796), Observable{Float64} with 2 listeners. Value:\n",
       "0.0489796, Scope(\"knockout-component-e4ebcc62-7839-4145-8618-92e6fa3c02db\", Node{DOM}(DOM(:html, :div), Any[Node{DOM}(DOM(:html, :div), Any[Node{DOM}(DOM(:html, :label), Any[\"s\"], Dict{Symbol,Any}(:className=>\"interact \",:style=>Dict{Any,Any}(:padding=>\"5px 10px 0px 10px\")), 1)], Dict{Symbol,Any}(:attributes=>Dict(\"style\"=>\"text-align:right;width:18%\")), 2), Node{DOM}(DOM(:html, :div), Any[Node{DOM}(DOM(:html, :input), Any[], Dict{Symbol,Any}(:max=>50,:min=>1,:attributes=>Dict{Any,Any}(:type=>\"range\",Symbol(\"data-bind\")=>\"numericValue: index, valueUpdate: 'input', event: {change : function () {this.changes(this.changes()+1)}}\",\"orient\"=>\"horizontal\"),:step=>1,:className=>\"slider slider is-fullwidth\",:style=>Dict{Any,Any}()), 0)], Dict{Symbol,Any}(:attributes=>Dict(\"style\"=>\"flex-grow:1; margin: 0 2%\")), 1), Node{DOM}(DOM(:html, :div), Any[Node{DOM}(DOM(:html, :p), Any[], Dict{Symbol,Any}(:attributes=>Dict(\"data-bind\"=>\"text: formatted_value\")), 0)], Dict{Symbol,Any}(:attributes=>Dict(\"style\"=>\"width:18%\")), 1)], Dict{Symbol,Any}(:attributes=>Dict(\"style\"=>\"display:flex; justify-content:center; align-items:center;\")), 7), Dict{String,Tuple{Observables.AbstractObservable,Union{Nothing, Bool}}}(\"formatted_vals\"=>(Observable{Any} with 1 listeners. Value:\n",
       "[\"0.0\", \"0.00204082\", \"0.00408163\", \"0.00612245\", \"0.00816327\", \"0.0102041\", \"0.0122449\", \"0.0142857\", \"0.0163265\", \"0.0183673\"  …  \"0.0816327\", \"0.0836735\", \"0.0857143\", \"0.0877551\", \"0.0897959\", \"0.0918367\", \"0.0938776\", \"0.0959184\", \"0.0979592\", \"0.1\"], nothing),\"changes\"=>(Observable{Int64} with 1 listeners. Value:\n",
       "0, nothing),\"formatted_value\"=>(Observable{String} with 1 listeners. Value:\n",
       "\"0.0489796\", nothing),\"index\"=>(Observable{Any} with 2 listeners. Value:\n",
       "25, nothing)), Set(String[]), nothing, Any[\"knockout\"=>\"/home/juliohm/.julia/packages/Knockout/JIqpG/src/../assets/knockout.js\", \"knockout_punches\"=>\"/home/juliohm/.julia/packages/Knockout/JIqpG/src/../assets/knockout_punches.js\", \"/home/juliohm/.julia/packages/InteractBase/Q4IkI/src/../assets/all.js\", \"/home/juliohm/.julia/packages/InteractBase/Q4IkI/src/../assets/style.css\", \"/home/juliohm/.julia/packages/InteractBulma/Ohu5Y/src/../assets/main.css\"], Dict{Any,Any}(\"formatted_vals\"=>Any[JSString(\"(function (val){return (val!=this.model[\\\"formatted_vals\\\"]()) ? (this.valueFromJulia[\\\"formatted_vals\\\"]=true, this.model[\\\"formatted_vals\\\"](val)) : undefined})\")],\"_promises\"=>Dict{Any,Any}(\"importsLoaded\"=>Any[JSString(\"function (ko, koPunches) {\\n    ko.punches.enableAll();\\n    ko.bindingHandlers.numericValue = {\\n        init : function(element, valueAccessor, allBindings, data, context) {\\n            var stringified = ko.observable(ko.unwrap(valueAccessor()));\\n            stringified.subscribe(function(value) {\\n                var val = parseFloat(value);\\n                if (!isNaN(val)) {\\n                    valueAccessor()(val);\\n                }\\n            })\\n            valueAccessor().subscribe(function(value) {\\n                var str = JSON.stringify(value);\\n                if ((str == \\\"0\\\") && ([\\\"-0\\\", \\\"-0.\\\"].indexOf(stringified()) >= 0))\\n                     return;\\n                 if ([\\\"null\\\", \\\"\\\"].indexOf(str) >= 0)\\n                     return;\\n                stringified(str);\\n            })\\n            ko.applyBindingsToNode(element, { value: stringified, valueUpdate: allBindings.get('valueUpdate')}, context);\\n        }\\n    };\\n    var json_data = JSON.parse(\\\"{\\\\\\\"formatted_vals\\\\\\\":[\\\\\\\"0.0\\\\\\\",\\\\\\\"0.00204082\\\\\\\",\\\\\\\"0.00408163\\\\\\\",\\\\\\\"0.00612245\\\\\\\",\\\\\\\"0.00816327\\\\\\\",\\\\\\\"0.0102041\\\\\\\",\\\\\\\"0.0122449\\\\\\\",\\\\\\\"0.0142857\\\\\\\",\\\\\\\"0.0163265\\\\\\\",\\\\\\\"0.0183673\\\\\\\",\\\\\\\"0.0204082\\\\\\\",\\\\\\\"0.022449\\\\\\\",\\\\\\\"0.0244898\\\\\\\",\\\\\\\"0.0265306\\\\\\\",\\\\\\\"0.0285714\\\\\\\",\\\\\\\"0.0306122\\\\\\\",\\\\\\\"0.0326531\\\\\\\",\\\\\\\"0.0346939\\\\\\\",\\\\\\\"0.0367347\\\\\\\",\\\\\\\"0.0387755\\\\\\\",\\\\\\\"0.0408163\\\\\\\",\\\\\\\"0.0428571\\\\\\\",\\\\\\\"0.044898\\\\\\\",\\\\\\\"0.0469388\\\\\\\",\\\\\\\"0.0489796\\\\\\\",\\\\\\\"0.0510204\\\\\\\",\\\\\\\"0.0530612\\\\\\\",\\\\\\\"0.055102\\\\\\\",\\\\\\\"0.0571429\\\\\\\",\\\\\\\"0.0591837\\\\\\\",\\\\\\\"0.0612245\\\\\\\",\\\\\\\"0.0632653\\\\\\\",\\\\\\\"0.0653061\\\\\\\",\\\\\\\"0.0673469\\\\\\\",\\\\\\\"0.0693878\\\\\\\",\\\\\\\"0.0714286\\\\\\\",\\\\\\\"0.0734694\\\\\\\",\\\\\\\"0.0755102\\\\\\\",\\\\\\\"0.077551\\\\\\\",\\\\\\\"0.0795918\\\\\\\",\\\\\\\"0.0816327\\\\\\\",\\\\\\\"0.0836735\\\\\\\",\\\\\\\"0.0857143\\\\\\\",\\\\\\\"0.0877551\\\\\\\",\\\\\\\"0.0897959\\\\\\\",\\\\\\\"0.0918367\\\\\\\",\\\\\\\"0.0938776\\\\\\\",\\\\\\\"0.0959184\\\\\\\",\\\\\\\"0.0979592\\\\\\\",\\\\\\\"0.1\\\\\\\"],\\\\\\\"changes\\\\\\\":0,\\\\\\\"formatted_value\\\\\\\":\\\\\\\"0.0489796\\\\\\\",\\\\\\\"index\\\\\\\":25}\\\");\\n    var self = this;\\n    function AppViewModel() {\\n        for (var key in json_data) {\\n            var el = json_data[key];\\n            this[key] = Array.isArray(el) ? ko.observableArray(el) : ko.observable(el);\\n        }\\n        \\n        \\n        [this[\\\"formatted_vals\\\"].subscribe((function (val){!(this.valueFromJulia[\\\"formatted_vals\\\"]) ? (_webIOScope.setObservableValue({\\\"name\\\":\\\"formatted_vals\\\",\\\"scope\\\":\\\"knockout-component-e4ebcc62-7839-4145-8618-92e6fa3c02db\\\",\\\"id\\\":\\\"ob_18\\\",\\\"type\\\":\\\"observable\\\"},val)) : undefined; return this.valueFromJulia[\\\"formatted_vals\\\"]=false}),self),this[\\\"changes\\\"].subscribe((function (val){!(this.valueFromJulia[\\\"changes\\\"]) ? (_webIOScope.setObservableValue({\\\"name\\\":\\\"changes\\\",\\\"scope\\\":\\\"knockout-component-e4ebcc62-7839-4145-8618-92e6fa3c02db\\\",\\\"id\\\":\\\"ob_20\\\",\\\"type\\\":\\\"observable\\\"},val)) : undefined; return this.valueFromJulia[\\\"changes\\\"]=false}),self),this[\\\"formatted_value\\\"].subscribe((function (val){!(this.valueFromJulia[\\\"formatted_value\\\"]) ? (_webIOScope.setObservableValue({\\\"name\\\":\\\"formatted_value\\\",\\\"scope\\\":\\\"knockout-component-e4ebcc62-7839-4145-8618-92e6fa3c02db\\\",\\\"id\\\":\\\"ob_19\\\",\\\"type\\\":\\\"observable\\\"},val)) : undefined; return this.valueFromJulia[\\\"formatted_value\\\"]=false}),self),this[\\\"index\\\"].subscribe((function (val){!(this.valueFromJulia[\\\"index\\\"]) ? (_webIOScope.setObservableValue({\\\"name\\\":\\\"index\\\",\\\"scope\\\":\\\"knockout-component-e4ebcc62-7839-4145-8618-92e6fa3c02db\\\",\\\"id\\\":\\\"ob_17\\\",\\\"type\\\":\\\"observable\\\"},val)) : undefined; return this.valueFromJulia[\\\"index\\\"]=false}),self)]\\n        \\n    }\\n    self.model = new AppViewModel();\\n    self.valueFromJulia = {};\\n    for (var key in json_data) {\\n        self.valueFromJulia[key] = false;\\n    }\\n    ko.applyBindings(self.model, self.dom);\\n}\\n\")]),\"changes\"=>Any[JSString(\"(function (val){return (val!=this.model[\\\"changes\\\"]()) ? (this.valueFromJulia[\\\"changes\\\"]=true, this.model[\\\"changes\\\"](val)) : undefined})\")],\"formatted_value\"=>Any[JSString(\"(function (val){return (val!=this.model[\\\"formatted_value\\\"]()) ? (this.valueFromJulia[\\\"formatted_value\\\"]=true, this.model[\\\"formatted_value\\\"](val)) : undefined})\")],\"index\"=>Any[JSString(\"(function (val){return (val!=this.model[\\\"index\\\"]()) ? (this.valueFromJulia[\\\"index\\\"]=true, this.model[\\\"index\\\"](val)) : undefined})\"), JSString(\"(function (val){return _webIOScope.setObservableValue({\\\"name\\\":\\\"formatted_value\\\",\\\"scope\\\":\\\"knockout-component-e4ebcc62-7839-4145-8618-92e6fa3c02db\\\",\\\"id\\\":\\\"ob_19\\\",\\\"type\\\":\\\"observable\\\"},_webIOScope.getObservableValue({\\\"name\\\":\\\"formatted_vals\\\",\\\"scope\\\":\\\"knockout-component-e4ebcc62-7839-4145-8618-92e6fa3c02db\\\",\\\"id\\\":\\\"ob_18\\\",\\\"type\\\":\\\"observable\\\"})[(_webIOScope.getObservableValue({\\\"name\\\":\\\"index\\\",\\\"scope\\\":\\\"knockout-component-e4ebcc62-7839-4145-8618-92e6fa3c02db\\\",\\\"id\\\":\\\"ob_17\\\",\\\"type\\\":\\\"observable\\\"})-1)])})\")]), ConnectionPool(Channel{Any}(sz_max:9223372036854775807,sz_curr:0), Set(AbstractConnection[]), Channel{AbstractConnection}(sz_max:32,sz_curr:0))), ##52#53{#dom#13{##dom#11#12{Dict{Any,Any},DOM}},typeof(scope)}(#dom#13{##dom#11#12{Dict{Any,Any},DOM}}(##dom#11#12{Dict{Any,Any},DOM}(Dict{Any,Any}(:className=>\"field\"), DOM(:html, :div))), scope)),:r=>Widget{:slider,Float64}(OrderedDict{Symbol,Any}(:changes=>Observable{Int64} with 1 listeners. Value:\n",
       "0,:index=>Observable{Any} with 2 listeners. Value:\n",
       "25,:formatted_vals=>Observable{Any} with 1 listeners. Value:\n",
       "[\"0.1\", \"0.102041\", \"0.104082\", \"0.106122\", \"0.108163\", \"0.110204\", \"0.112245\", \"0.114286\", \"0.116327\", \"0.118367\"  …  \"0.181633\", \"0.183673\", \"0.185714\", \"0.187755\", \"0.189796\", \"0.191837\", \"0.193878\", \"0.195918\", \"0.197959\", \"0.2\"],:formatted_value=>Observable{String} with 1 listeners. Value:\n",
       "\"0.14898\",:value=>Observable{Float64} with 2 listeners. Value:\n",
       "0.14898), Observable{Float64} with 2 listeners. Value:\n",
       "0.14898, Scope(\"knockout-component-756e2b77-3049-4d12-b2d9-456ba52358bd\", Node{DOM}(DOM(:html, :div), Any[Node{DOM}(DOM(:html, :div), Any[Node{DOM}(DOM(:html, :label), Any[\"r\"], Dict{Symbol,Any}(:className=>\"interact \",:style=>Dict{Any,Any}(:padding=>\"5px 10px 0px 10px\")), 1)], Dict{Symbol,Any}(:attributes=>Dict(\"style\"=>\"text-align:right;width:18%\")), 2), Node{DOM}(DOM(:html, :div), Any[Node{DOM}(DOM(:html, :input), Any[], Dict{Symbol,Any}(:max=>50,:min=>1,:attributes=>Dict{Any,Any}(:type=>\"range\",Symbol(\"data-bind\")=>\"numericValue: index, valueUpdate: 'input', event: {change : function () {this.changes(this.changes()+1)}}\",\"orient\"=>\"horizontal\"),:step=>1,:className=>\"slider slider is-fullwidth\",:style=>Dict{Any,Any}()), 0)], Dict{Symbol,Any}(:attributes=>Dict(\"style\"=>\"flex-grow:1; margin: 0 2%\")), 1), Node{DOM}(DOM(:html, :div), Any[Node{DOM}(DOM(:html, :p), Any[], Dict{Symbol,Any}(:attributes=>Dict(\"data-bind\"=>\"text: formatted_value\")), 0)], Dict{Symbol,Any}(:attributes=>Dict(\"style\"=>\"width:18%\")), 1)], Dict{Symbol,Any}(:attributes=>Dict(\"style\"=>\"display:flex; justify-content:center; align-items:center;\")), 7), Dict{String,Tuple{Observables.AbstractObservable,Union{Nothing, Bool}}}(\"formatted_vals\"=>(Observable{Any} with 1 listeners. Value:\n",
       "[\"0.1\", \"0.102041\", \"0.104082\", \"0.106122\", \"0.108163\", \"0.110204\", \"0.112245\", \"0.114286\", \"0.116327\", \"0.118367\"  …  \"0.181633\", \"0.183673\", \"0.185714\", \"0.187755\", \"0.189796\", \"0.191837\", \"0.193878\", \"0.195918\", \"0.197959\", \"0.2\"], nothing),\"changes\"=>(Observable{Int64} with 1 listeners. Value:\n",
       "0, nothing),\"formatted_value\"=>(Observable{String} with 1 listeners. Value:\n",
       "\"0.14898\", nothing),\"index\"=>(Observable{Any} with 2 listeners. Value:\n",
       "25, nothing)), Set(String[]), nothing, Any[\"knockout\"=>\"/home/juliohm/.julia/packages/Knockout/JIqpG/src/../assets/knockout.js\", \"knockout_punches\"=>\"/home/juliohm/.julia/packages/Knockout/JIqpG/src/../assets/knockout_punches.js\", \"/home/juliohm/.julia/packages/InteractBase/Q4IkI/src/../assets/all.js\", \"/home/juliohm/.julia/packages/InteractBase/Q4IkI/src/../assets/style.css\", \"/home/juliohm/.julia/packages/InteractBulma/Ohu5Y/src/../assets/main.css\"], Dict{Any,Any}(\"formatted_vals\"=>Any[JSString(\"(function (val){return (val!=this.model[\\\"formatted_vals\\\"]()) ? (this.valueFromJulia[\\\"formatted_vals\\\"]=true, this.model[\\\"formatted_vals\\\"](val)) : undefined})\")],\"_promises\"=>Dict{Any,Any}(\"importsLoaded\"=>Any[JSString(\"function (ko, koPunches) {\\n    ko.punches.enableAll();\\n    ko.bindingHandlers.numericValue = {\\n        init : function(element, valueAccessor, allBindings, data, context) {\\n            var stringified = ko.observable(ko.unwrap(valueAccessor()));\\n            stringified.subscribe(function(value) {\\n                var val = parseFloat(value);\\n                if (!isNaN(val)) {\\n                    valueAccessor()(val);\\n                }\\n            })\\n            valueAccessor().subscribe(function(value) {\\n                var str = JSON.stringify(value);\\n                if ((str == \\\"0\\\") && ([\\\"-0\\\", \\\"-0.\\\"].indexOf(stringified()) >= 0))\\n                     return;\\n                 if ([\\\"null\\\", \\\"\\\"].indexOf(str) >= 0)\\n                     return;\\n                stringified(str);\\n            })\\n            ko.applyBindingsToNode(element, { value: stringified, valueUpdate: allBindings.get('valueUpdate')}, context);\\n        }\\n    };\\n    var json_data = JSON.parse(\\\"{\\\\\\\"formatted_vals\\\\\\\":[\\\\\\\"0.1\\\\\\\",\\\\\\\"0.102041\\\\\\\",\\\\\\\"0.104082\\\\\\\",\\\\\\\"0.106122\\\\\\\",\\\\\\\"0.108163\\\\\\\",\\\\\\\"0.110204\\\\\\\",\\\\\\\"0.112245\\\\\\\",\\\\\\\"0.114286\\\\\\\",\\\\\\\"0.116327\\\\\\\",\\\\\\\"0.118367\\\\\\\",\\\\\\\"0.120408\\\\\\\",\\\\\\\"0.122449\\\\\\\",\\\\\\\"0.12449\\\\\\\",\\\\\\\"0.126531\\\\\\\",\\\\\\\"0.128571\\\\\\\",\\\\\\\"0.130612\\\\\\\",\\\\\\\"0.132653\\\\\\\",\\\\\\\"0.134694\\\\\\\",\\\\\\\"0.136735\\\\\\\",\\\\\\\"0.138776\\\\\\\",\\\\\\\"0.140816\\\\\\\",\\\\\\\"0.142857\\\\\\\",\\\\\\\"0.144898\\\\\\\",\\\\\\\"0.146939\\\\\\\",\\\\\\\"0.14898\\\\\\\",\\\\\\\"0.15102\\\\\\\",\\\\\\\"0.153061\\\\\\\",\\\\\\\"0.155102\\\\\\\",\\\\\\\"0.157143\\\\\\\",\\\\\\\"0.159184\\\\\\\",\\\\\\\"0.161224\\\\\\\",\\\\\\\"0.163265\\\\\\\",\\\\\\\"0.165306\\\\\\\",\\\\\\\"0.167347\\\\\\\",\\\\\\\"0.169388\\\\\\\",\\\\\\\"0.171429\\\\\\\",\\\\\\\"0.173469\\\\\\\",\\\\\\\"0.17551\\\\\\\",\\\\\\\"0.177551\\\\\\\",\\\\\\\"0.179592\\\\\\\",\\\\\\\"0.181633\\\\\\\",\\\\\\\"0.183673\\\\\\\",\\\\\\\"0.185714\\\\\\\",\\\\\\\"0.187755\\\\\\\",\\\\\\\"0.189796\\\\\\\",\\\\\\\"0.191837\\\\\\\",\\\\\\\"0.193878\\\\\\\",\\\\\\\"0.195918\\\\\\\",\\\\\\\"0.197959\\\\\\\",\\\\\\\"0.2\\\\\\\"],\\\\\\\"changes\\\\\\\":0,\\\\\\\"formatted_value\\\\\\\":\\\\\\\"0.14898\\\\\\\",\\\\\\\"index\\\\\\\":25}\\\");\\n    var self = this;\\n    function AppViewModel() {\\n        for (var key in json_data) {\\n            var el = json_data[key];\\n            this[key] = Array.isArray(el) ? ko.observableArray(el) : ko.observable(el);\\n        }\\n        \\n        \\n        [this[\\\"formatted_vals\\\"].subscribe((function (val){!(this.valueFromJulia[\\\"formatted_vals\\\"]) ? (_webIOScope.setObservableValue({\\\"name\\\":\\\"formatted_vals\\\",\\\"scope\\\":\\\"knockout-component-756e2b77-3049-4d12-b2d9-456ba52358bd\\\",\\\"id\\\":\\\"ob_23\\\",\\\"type\\\":\\\"observable\\\"},val)) : undefined; return this.valueFromJulia[\\\"formatted_vals\\\"]=false}),self),this[\\\"changes\\\"].subscribe((function (val){!(this.valueFromJulia[\\\"changes\\\"]) ? (_webIOScope.setObservableValue({\\\"name\\\":\\\"changes\\\",\\\"scope\\\":\\\"knockout-component-756e2b77-3049-4d12-b2d9-456ba52358bd\\\",\\\"id\\\":\\\"ob_25\\\",\\\"type\\\":\\\"observable\\\"},val)) : undefined; return this.valueFromJulia[\\\"changes\\\"]=false}),self),this[\\\"formatted_value\\\"].subscribe((function (val){!(this.valueFromJulia[\\\"formatted_value\\\"]) ? (_webIOScope.setObservableValue({\\\"name\\\":\\\"formatted_value\\\",\\\"scope\\\":\\\"knockout-component-756e2b77-3049-4d12-b2d9-456ba52358bd\\\",\\\"id\\\":\\\"ob_24\\\",\\\"type\\\":\\\"observable\\\"},val)) : undefined; return this.valueFromJulia[\\\"formatted_value\\\"]=false}),self),this[\\\"index\\\"].subscribe((function (val){!(this.valueFromJulia[\\\"index\\\"]) ? (_webIOScope.setObservableValue({\\\"name\\\":\\\"index\\\",\\\"scope\\\":\\\"knockout-component-756e2b77-3049-4d12-b2d9-456ba52358bd\\\",\\\"id\\\":\\\"ob_22\\\",\\\"type\\\":\\\"observable\\\"},val)) : undefined; return this.valueFromJulia[\\\"index\\\"]=false}),self)]\\n        \\n    }\\n    self.model = new AppViewModel();\\n    self.valueFromJulia = {};\\n    for (var key in json_data) {\\n        self.valueFromJulia[key] = false;\\n    }\\n    ko.applyBindings(self.model, self.dom);\\n}\\n\")]),\"changes\"=>Any[JSString(\"(function (val){return (val!=this.model[\\\"changes\\\"]()) ? (this.valueFromJulia[\\\"changes\\\"]=true, this.model[\\\"changes\\\"](val)) : undefined})\")],\"formatted_value\"=>Any[JSString(\"(function (val){return (val!=this.model[\\\"formatted_value\\\"]()) ? (this.valueFromJulia[\\\"formatted_value\\\"]=true, this.model[\\\"formatted_value\\\"](val)) : undefined})\")],\"index\"=>Any[JSString(\"(function (val){return (val!=this.model[\\\"index\\\"]()) ? (this.valueFromJulia[\\\"index\\\"]=true, this.model[\\\"index\\\"](val)) : undefined})\"), JSString(\"(function (val){return _webIOScope.setObservableValue({\\\"name\\\":\\\"formatted_value\\\",\\\"scope\\\":\\\"knockout-component-756e2b77-3049-4d12-b2d9-456ba52358bd\\\",\\\"id\\\":\\\"ob_24\\\",\\\"type\\\":\\\"observable\\\"},_webIOScope.getObservableValue({\\\"name\\\":\\\"formatted_vals\\\",\\\"scope\\\":\\\"knockout-component-756e2b77-3049-4d12-b2d9-456ba52358bd\\\",\\\"id\\\":\\\"ob_23\\\",\\\"type\\\":\\\"observable\\\"})[(_webIOScope.getObservableValue({\\\"name\\\":\\\"index\\\",\\\"scope\\\":\\\"knockout-component-756e2b77-3049-4d12-b2d9-456ba52358bd\\\",\\\"id\\\":\\\"ob_22\\\",\\\"type\\\":\\\"observable\\\"})-1)])})\")]), ConnectionPool(Channel{Any}(sz_max:9223372036854775807,sz_curr:0), Set(AbstractConnection[]), Channel{AbstractConnection}(sz_max:32,sz_curr:0))), ##52#53{#dom#13{##dom#11#12{Dict{Any,Any},DOM}},typeof(scope)}(#dom#13{##dom#11#12{Dict{Any,Any},DOM}}(##dom#11#12{Dict{Any,Any},DOM}(Dict{Any,Any}(:className=>\"field\"), DOM(:html, :div))), scope))), Observable{Any} with 0 listeners. Value:\n",
       "Plot{Plots.GRBackend() n=2}, nothing, getfield(Main, Symbol(\"##8#10\")){Observable{Any}}(Observable{Any} with 0 listeners. Value:\n",
       "Plot{Plots.GRBackend() n=2}))"
      ]
     },
     "execution_count": 5,
     "metadata": {
      "application/vnd.webio.node+json": {
       "kernelId": "62b82301-6aec-4a0c-ab56-4778889cce6c"
      }
     },
     "output_type": "execute_result"
    }
   ],
   "source": [
    "using GeoStats\n",
    "using Interact\n",
    "\n",
    "# discretize the line segment for plotting\n",
    "n = 200\n",
    "xs = range(0., stop=1, length=n)\n",
    "\n",
    "@manipulate for s=range(.0, stop=.1, length=50),\n",
    "                r=range(.1, stop=.2, length=50)\n",
    "    # spatial structure\n",
    "    γ = GaussianVariogram(sill=s, range=r)\n",
    "    \n",
    "    # create Gaussian process\n",
    "    ordkrig = OrdinaryKriging(x', z, γ)\n",
    "    \n",
    "    # estimate mean and variance\n",
    "    μ = zeros(n)\n",
    "    σ² = zeros(n)\n",
    "    for (i,loc) in enumerate(xs)\n",
    "        μ[i], σ²[i] = estimate(ordkrig, [loc])\n",
    "    end\n",
    "    \n",
    "    σ = sqrt.(σ²)\n",
    "    \n",
    "    scatter(x, z, label=\"data\")\n",
    "    plot!(xs, μ, ribbon=σ, fillalpha=.5, label=\"Gaussian process\")\n",
    "end"
   ]
  },
  {
   "cell_type": "markdown",
   "metadata": {},
   "source": [
    "# Other generalizations\n",
    "\n",
    "- We can also have random fields with non-constant mean. In Universal Kriging, the mean is a polynomial on the coordinates of the problem up to a certain degree specified by the user. In External Drift Kriging, the mean can be any external variable (a.k.a. external drift).\n",
    "\n",
    "- All methods in GeoStats.jl accept general distance functions. We can for example use the Haversine distance to compute covariances between latitude/longitude coordinates directly.\n",
    "\n",
    "- Other methods for co-estimation and co-simulation will be available in future releases."
   ]
  }
 ],
 "metadata": {
  "@webio": {
   "lastCommId": "d7a1907472b14bd69450a3379e7f7c6c",
   "lastKernelId": "62b82301-6aec-4a0c-ab56-4778889cce6c"
  },
  "kernelspec": {
   "display_name": "Julia 1.0.0",
   "language": "julia",
   "name": "julia-1.0"
  },
  "language_info": {
   "file_extension": ".jl",
   "mimetype": "application/julia",
   "name": "julia",
   "version": "1.0.0"
  }
 },
 "nbformat": 4,
 "nbformat_minor": 2
}
