{
 "cells": [
  {
   "cell_type": "markdown",
   "metadata": {},
   "source": [
    "# Gaussian processes\n",
    "\n",
    "In this tutorial, we explain how to obtain the functionality of other packages such as GaussianProcesses.jl with GeoStats.jl. Gaussian processes (the method) and Simple Kriging are essentially [two names for the same concept](https://en.wikipedia.org/wiki/Kriging). The derivation of Kriging estimators, however; does **not** require distributional assumptions. [Matheron](https://en.wikipedia.org/wiki/Georges_Matheron) and other important geostatisticians have generalized Gaussian processes to random fields with locally-varying mean and for situations where the mean is unknown. GeoStats.jl includes Gaussian processes as a special case as well as other more practical Kriging variants.\n",
    "\n",
    "In machine learning, Gaussian processes are usually explained in 1D, and we will do the same here.\n",
    "\n",
    "Before we proceed, please install the following packages:"
   ]
  },
  {
   "cell_type": "code",
   "execution_count": 1,
   "metadata": {},
   "outputs": [
    {
     "name": "stdout",
     "output_type": "stream",
     "text": [
      "\u001b[32m\u001b[1m  Updating\u001b[22m\u001b[39m registry at `~/.julia/registries/General`\n",
      "\u001b[32m\u001b[1m  Updating\u001b[22m\u001b[39m git-repo `https://github.com/JuliaRegistries/General.git`\n",
      "\u001b[?25l\u001b[2K\u001b[?25h\u001b[32m\u001b[1m Resolving\u001b[22m\u001b[39m package versions...\n",
      "\u001b[32m\u001b[1m  Updating\u001b[22m\u001b[39m `~/.julia/environments/v1.1/Project.toml`\n",
      "\u001b[90m [no changes]\u001b[39m\n",
      "\u001b[32m\u001b[1m  Updating\u001b[22m\u001b[39m `~/.julia/environments/v1.1/Manifest.toml`\n",
      "\u001b[90m [no changes]\u001b[39m\n"
     ]
    }
   ],
   "source": [
    "] add GeoStats Plots GR Interact"
   ]
  },
  {
   "cell_type": "code",
   "execution_count": 2,
   "metadata": {},
   "outputs": [],
   "source": [
    "using Random; Random.seed!(2000); # make sure this tutorial is reproducible"
   ]
  },
  {
   "cell_type": "markdown",
   "metadata": {},
   "source": [
    "## The data\n",
    "\n",
    "Let's start by drawing a set of points in the real line, each with a known value:"
   ]
  },
  {
   "cell_type": "code",
   "execution_count": 3,
   "metadata": {},
   "outputs": [
    {
     "data": {
      "image/svg+xml": [
       "<?xml version=\"1.0\" encoding=\"utf-8\"?>\n",
       "<svg xmlns=\"http://www.w3.org/2000/svg\" xmlns:xlink=\"http://www.w3.org/1999/xlink\" width=\"900\" height=\"400\" viewBox=\"0 0 3600 1600\">\n",
       "<defs>\n",
       "  <clipPath id=\"clip5000\">\n",
       "    <rect x=\"0\" y=\"0\" width=\"3600\" height=\"1600\"/>\n",
       "  </clipPath>\n",
       "</defs>\n",
       "<polygon clip-path=\"url(#clip5000)\" points=\"\n",
       "0,1600 3600,1600 3600,0 0,0 \n",
       "  \" fill=\"#ffffff\" fill-rule=\"evenodd\" fill-opacity=\"1\"/>\n",
       "<defs>\n",
       "  <clipPath id=\"clip5001\">\n",
       "    <rect x=\"720\" y=\"0\" width=\"2521\" height=\"1600\"/>\n",
       "  </clipPath>\n",
       "</defs>\n",
       "<polygon clip-path=\"url(#clip5000)\" points=\"\n",
       "161.394,1503.47 3521.26,1503.47 3521.26,47.2441 161.394,47.2441 \n",
       "  \" fill=\"#ffffff\" fill-rule=\"evenodd\" fill-opacity=\"1\"/>\n",
       "<defs>\n",
       "  <clipPath id=\"clip5002\">\n",
       "    <rect x=\"161\" y=\"47\" width=\"3361\" height=\"1457\"/>\n",
       "  </clipPath>\n",
       "</defs>\n",
       "<polyline clip-path=\"url(#clip5002)\" style=\"stroke:#000000; stroke-width:2; stroke-opacity:0.1; fill:none\" points=\"\n",
       "  161.394,1503.47 161.394,47.2441 \n",
       "  \"/>\n",
       "<polyline clip-path=\"url(#clip5002)\" style=\"stroke:#000000; stroke-width:2; stroke-opacity:0.1; fill:none\" points=\"\n",
       "  833.367,1503.47 833.367,47.2441 \n",
       "  \"/>\n",
       "<polyline clip-path=\"url(#clip5002)\" style=\"stroke:#000000; stroke-width:2; stroke-opacity:0.1; fill:none\" points=\"\n",
       "  1505.34,1503.47 1505.34,47.2441 \n",
       "  \"/>\n",
       "<polyline clip-path=\"url(#clip5002)\" style=\"stroke:#000000; stroke-width:2; stroke-opacity:0.1; fill:none\" points=\"\n",
       "  2177.31,1503.47 2177.31,47.2441 \n",
       "  \"/>\n",
       "<polyline clip-path=\"url(#clip5002)\" style=\"stroke:#000000; stroke-width:2; stroke-opacity:0.1; fill:none\" points=\"\n",
       "  2849.29,1503.47 2849.29,47.2441 \n",
       "  \"/>\n",
       "<polyline clip-path=\"url(#clip5002)\" style=\"stroke:#000000; stroke-width:2; stroke-opacity:0.1; fill:none\" points=\"\n",
       "  3521.26,1503.47 3521.26,47.2441 \n",
       "  \"/>\n",
       "<polyline clip-path=\"url(#clip5002)\" style=\"stroke:#000000; stroke-width:2; stroke-opacity:0.1; fill:none\" points=\"\n",
       "  161.394,1503.47 3521.26,1503.47 \n",
       "  \"/>\n",
       "<polyline clip-path=\"url(#clip5002)\" style=\"stroke:#000000; stroke-width:2; stroke-opacity:0.1; fill:none\" points=\"\n",
       "  161.394,1212.23 3521.26,1212.23 \n",
       "  \"/>\n",
       "<polyline clip-path=\"url(#clip5002)\" style=\"stroke:#000000; stroke-width:2; stroke-opacity:0.1; fill:none\" points=\"\n",
       "  161.394,920.982 3521.26,920.982 \n",
       "  \"/>\n",
       "<polyline clip-path=\"url(#clip5002)\" style=\"stroke:#000000; stroke-width:2; stroke-opacity:0.1; fill:none\" points=\"\n",
       "  161.394,629.736 3521.26,629.736 \n",
       "  \"/>\n",
       "<polyline clip-path=\"url(#clip5002)\" style=\"stroke:#000000; stroke-width:2; stroke-opacity:0.1; fill:none\" points=\"\n",
       "  161.394,338.49 3521.26,338.49 \n",
       "  \"/>\n",
       "<polyline clip-path=\"url(#clip5002)\" style=\"stroke:#000000; stroke-width:2; stroke-opacity:0.1; fill:none\" points=\"\n",
       "  161.394,47.2441 3521.26,47.2441 \n",
       "  \"/>\n",
       "<polyline clip-path=\"url(#clip5000)\" style=\"stroke:#000000; stroke-width:4; stroke-opacity:1; fill:none\" points=\"\n",
       "  161.394,1503.47 3521.26,1503.47 \n",
       "  \"/>\n",
       "<polyline clip-path=\"url(#clip5000)\" style=\"stroke:#000000; stroke-width:4; stroke-opacity:1; fill:none\" points=\"\n",
       "  161.394,1503.47 161.394,47.2441 \n",
       "  \"/>\n",
       "<polyline clip-path=\"url(#clip5000)\" style=\"stroke:#000000; stroke-width:4; stroke-opacity:1; fill:none\" points=\"\n",
       "  161.394,1503.47 161.394,1481.63 \n",
       "  \"/>\n",
       "<polyline clip-path=\"url(#clip5000)\" style=\"stroke:#000000; stroke-width:4; stroke-opacity:1; fill:none\" points=\"\n",
       "  833.367,1503.47 833.367,1481.63 \n",
       "  \"/>\n",
       "<polyline clip-path=\"url(#clip5000)\" style=\"stroke:#000000; stroke-width:4; stroke-opacity:1; fill:none\" points=\"\n",
       "  1505.34,1503.47 1505.34,1481.63 \n",
       "  \"/>\n",
       "<polyline clip-path=\"url(#clip5000)\" style=\"stroke:#000000; stroke-width:4; stroke-opacity:1; fill:none\" points=\"\n",
       "  2177.31,1503.47 2177.31,1481.63 \n",
       "  \"/>\n",
       "<polyline clip-path=\"url(#clip5000)\" style=\"stroke:#000000; stroke-width:4; stroke-opacity:1; fill:none\" points=\"\n",
       "  2849.29,1503.47 2849.29,1481.63 \n",
       "  \"/>\n",
       "<polyline clip-path=\"url(#clip5000)\" style=\"stroke:#000000; stroke-width:4; stroke-opacity:1; fill:none\" points=\"\n",
       "  3521.26,1503.47 3521.26,1481.63 \n",
       "  \"/>\n",
       "<polyline clip-path=\"url(#clip5000)\" style=\"stroke:#000000; stroke-width:4; stroke-opacity:1; fill:none\" points=\"\n",
       "  161.394,1503.47 211.792,1503.47 \n",
       "  \"/>\n",
       "<polyline clip-path=\"url(#clip5000)\" style=\"stroke:#000000; stroke-width:4; stroke-opacity:1; fill:none\" points=\"\n",
       "  161.394,1212.23 211.792,1212.23 \n",
       "  \"/>\n",
       "<polyline clip-path=\"url(#clip5000)\" style=\"stroke:#000000; stroke-width:4; stroke-opacity:1; fill:none\" points=\"\n",
       "  161.394,920.982 211.792,920.982 \n",
       "  \"/>\n",
       "<polyline clip-path=\"url(#clip5000)\" style=\"stroke:#000000; stroke-width:4; stroke-opacity:1; fill:none\" points=\"\n",
       "  161.394,629.736 211.792,629.736 \n",
       "  \"/>\n",
       "<polyline clip-path=\"url(#clip5000)\" style=\"stroke:#000000; stroke-width:4; stroke-opacity:1; fill:none\" points=\"\n",
       "  161.394,338.49 211.792,338.49 \n",
       "  \"/>\n",
       "<polyline clip-path=\"url(#clip5000)\" style=\"stroke:#000000; stroke-width:4; stroke-opacity:1; fill:none\" points=\"\n",
       "  161.394,47.2441 211.792,47.2441 \n",
       "  \"/>\n",
       "<g clip-path=\"url(#clip5000)\">\n",
       "<text style=\"fill:#000000; fill-opacity:1; font-family:Arial,Helvetica Neue,Helvetica,sans-serif; font-size:48px; text-anchor:middle;\" transform=\"rotate(0, 161.394, 1563.47)\" x=\"161.394\" y=\"1563.47\">0.0</text>\n",
       "</g>\n",
       "<g clip-path=\"url(#clip5000)\">\n",
       "<text style=\"fill:#000000; fill-opacity:1; font-family:Arial,Helvetica Neue,Helvetica,sans-serif; font-size:48px; text-anchor:middle;\" transform=\"rotate(0, 833.367, 1563.47)\" x=\"833.367\" y=\"1563.47\">0.2</text>\n",
       "</g>\n",
       "<g clip-path=\"url(#clip5000)\">\n",
       "<text style=\"fill:#000000; fill-opacity:1; font-family:Arial,Helvetica Neue,Helvetica,sans-serif; font-size:48px; text-anchor:middle;\" transform=\"rotate(0, 1505.34, 1563.47)\" x=\"1505.34\" y=\"1563.47\">0.4</text>\n",
       "</g>\n",
       "<g clip-path=\"url(#clip5000)\">\n",
       "<text style=\"fill:#000000; fill-opacity:1; font-family:Arial,Helvetica Neue,Helvetica,sans-serif; font-size:48px; text-anchor:middle;\" transform=\"rotate(0, 2177.31, 1563.47)\" x=\"2177.31\" y=\"1563.47\">0.6</text>\n",
       "</g>\n",
       "<g clip-path=\"url(#clip5000)\">\n",
       "<text style=\"fill:#000000; fill-opacity:1; font-family:Arial,Helvetica Neue,Helvetica,sans-serif; font-size:48px; text-anchor:middle;\" transform=\"rotate(0, 2849.29, 1563.47)\" x=\"2849.29\" y=\"1563.47\">0.8</text>\n",
       "</g>\n",
       "<g clip-path=\"url(#clip5000)\">\n",
       "<text style=\"fill:#000000; fill-opacity:1; font-family:Arial,Helvetica Neue,Helvetica,sans-serif; font-size:48px; text-anchor:middle;\" transform=\"rotate(0, 3521.26, 1563.47)\" x=\"3521.26\" y=\"1563.47\">1.0</text>\n",
       "</g>\n",
       "<g clip-path=\"url(#clip5000)\">\n",
       "<text style=\"fill:#000000; fill-opacity:1; font-family:Arial,Helvetica Neue,Helvetica,sans-serif; font-size:48px; text-anchor:end;\" transform=\"rotate(0, 125.394, 1520.97)\" x=\"125.394\" y=\"1520.97\">0.0</text>\n",
       "</g>\n",
       "<g clip-path=\"url(#clip5000)\">\n",
       "<text style=\"fill:#000000; fill-opacity:1; font-family:Arial,Helvetica Neue,Helvetica,sans-serif; font-size:48px; text-anchor:end;\" transform=\"rotate(0, 125.394, 1229.73)\" x=\"125.394\" y=\"1229.73\">0.2</text>\n",
       "</g>\n",
       "<g clip-path=\"url(#clip5000)\">\n",
       "<text style=\"fill:#000000; fill-opacity:1; font-family:Arial,Helvetica Neue,Helvetica,sans-serif; font-size:48px; text-anchor:end;\" transform=\"rotate(0, 125.394, 938.482)\" x=\"125.394\" y=\"938.482\">0.4</text>\n",
       "</g>\n",
       "<g clip-path=\"url(#clip5000)\">\n",
       "<text style=\"fill:#000000; fill-opacity:1; font-family:Arial,Helvetica Neue,Helvetica,sans-serif; font-size:48px; text-anchor:end;\" transform=\"rotate(0, 125.394, 647.236)\" x=\"125.394\" y=\"647.236\">0.6</text>\n",
       "</g>\n",
       "<g clip-path=\"url(#clip5000)\">\n",
       "<text style=\"fill:#000000; fill-opacity:1; font-family:Arial,Helvetica Neue,Helvetica,sans-serif; font-size:48px; text-anchor:end;\" transform=\"rotate(0, 125.394, 355.99)\" x=\"125.394\" y=\"355.99\">0.8</text>\n",
       "</g>\n",
       "<g clip-path=\"url(#clip5000)\">\n",
       "<text style=\"fill:#000000; fill-opacity:1; font-family:Arial,Helvetica Neue,Helvetica,sans-serif; font-size:48px; text-anchor:end;\" transform=\"rotate(0, 125.394, 64.7441)\" x=\"125.394\" y=\"64.7441\">1.0</text>\n",
       "</g>\n",
       "<circle clip-path=\"url(#clip5002)\" style=\"fill:#000000; stroke:none; fill-opacity:1\" cx=\"497.381\" cy=\"643.371\" r=\"18\"/>\n",
       "<circle clip-path=\"url(#clip5002)\" style=\"fill:#009af9; stroke:none; fill-opacity:1\" cx=\"497.381\" cy=\"643.371\" r=\"14\"/>\n",
       "<circle clip-path=\"url(#clip5002)\" style=\"fill:#000000; stroke:none; fill-opacity:1\" cx=\"796.035\" cy=\"646.433\" r=\"18\"/>\n",
       "<circle clip-path=\"url(#clip5002)\" style=\"fill:#009af9; stroke:none; fill-opacity:1\" cx=\"796.035\" cy=\"646.433\" r=\"14\"/>\n",
       "<circle clip-path=\"url(#clip5002)\" style=\"fill:#000000; stroke:none; fill-opacity:1\" cx=\"1094.69\" cy=\"1304.53\" r=\"18\"/>\n",
       "<circle clip-path=\"url(#clip5002)\" style=\"fill:#009af9; stroke:none; fill-opacity:1\" cx=\"1094.69\" cy=\"1304.53\" r=\"14\"/>\n",
       "<circle clip-path=\"url(#clip5002)\" style=\"fill:#000000; stroke:none; fill-opacity:1\" cx=\"1393.34\" cy=\"784.797\" r=\"18\"/>\n",
       "<circle clip-path=\"url(#clip5002)\" style=\"fill:#009af9; stroke:none; fill-opacity:1\" cx=\"1393.34\" cy=\"784.797\" r=\"14\"/>\n",
       "<circle clip-path=\"url(#clip5002)\" style=\"fill:#000000; stroke:none; fill-opacity:1\" cx=\"1692\" cy=\"718.019\" r=\"18\"/>\n",
       "<circle clip-path=\"url(#clip5002)\" style=\"fill:#009af9; stroke:none; fill-opacity:1\" cx=\"1692\" cy=\"718.019\" r=\"14\"/>\n",
       "<circle clip-path=\"url(#clip5002)\" style=\"fill:#000000; stroke:none; fill-opacity:1\" cx=\"1990.65\" cy=\"758.652\" r=\"18\"/>\n",
       "<circle clip-path=\"url(#clip5002)\" style=\"fill:#009af9; stroke:none; fill-opacity:1\" cx=\"1990.65\" cy=\"758.652\" r=\"14\"/>\n",
       "<circle clip-path=\"url(#clip5002)\" style=\"fill:#000000; stroke:none; fill-opacity:1\" cx=\"2289.31\" cy=\"402.218\" r=\"18\"/>\n",
       "<circle clip-path=\"url(#clip5002)\" style=\"fill:#009af9; stroke:none; fill-opacity:1\" cx=\"2289.31\" cy=\"402.218\" r=\"14\"/>\n",
       "<circle clip-path=\"url(#clip5002)\" style=\"fill:#000000; stroke:none; fill-opacity:1\" cx=\"2587.96\" cy=\"608.36\" r=\"18\"/>\n",
       "<circle clip-path=\"url(#clip5002)\" style=\"fill:#009af9; stroke:none; fill-opacity:1\" cx=\"2587.96\" cy=\"608.36\" r=\"14\"/>\n",
       "<circle clip-path=\"url(#clip5002)\" style=\"fill:#000000; stroke:none; fill-opacity:1\" cx=\"2886.62\" cy=\"426.19\" r=\"18\"/>\n",
       "<circle clip-path=\"url(#clip5002)\" style=\"fill:#009af9; stroke:none; fill-opacity:1\" cx=\"2886.62\" cy=\"426.19\" r=\"14\"/>\n",
       "<circle clip-path=\"url(#clip5002)\" style=\"fill:#000000; stroke:none; fill-opacity:1\" cx=\"3185.27\" cy=\"800.205\" r=\"18\"/>\n",
       "<circle clip-path=\"url(#clip5002)\" style=\"fill:#009af9; stroke:none; fill-opacity:1\" cx=\"3185.27\" cy=\"800.205\" r=\"14\"/>\n",
       "<polygon clip-path=\"url(#clip5000)\" points=\"\n",
       "2959.59,323.724 3413.26,323.724 3413.26,202.764 2959.59,202.764 \n",
       "  \" fill=\"#ffffff\" fill-rule=\"evenodd\" fill-opacity=\"1\"/>\n",
       "<polyline clip-path=\"url(#clip5000)\" style=\"stroke:#000000; stroke-width:4; stroke-opacity:1; fill:none\" points=\"\n",
       "  2959.59,323.724 3413.26,323.724 3413.26,202.764 2959.59,202.764 2959.59,323.724 \n",
       "  \"/>\n",
       "<circle clip-path=\"url(#clip5000)\" style=\"fill:#000000; stroke:none; fill-opacity:1\" cx=\"3121.59\" cy=\"263.244\" r=\"25\"/>\n",
       "<circle clip-path=\"url(#clip5000)\" style=\"fill:#009af9; stroke:none; fill-opacity:1\" cx=\"3121.59\" cy=\"263.244\" r=\"21\"/>\n",
       "<g clip-path=\"url(#clip5000)\">\n",
       "<text style=\"fill:#000000; fill-opacity:1; font-family:Arial,Helvetica Neue,Helvetica,sans-serif; font-size:48px; text-anchor:start;\" transform=\"rotate(0, 3247.59, 280.744)\" x=\"3247.59\" y=\"280.744\">data</text>\n",
       "</g>\n",
       "</svg>\n"
      ]
     },
     "execution_count": 3,
     "metadata": {},
     "output_type": "execute_result"
    }
   ],
   "source": [
    "using Plots; gr(size=(900,400), xlim=(0,1), ylim=(0,1))\n",
    "\n",
    "x = range(0.1, stop=.9, length=10)\n",
    "z = rand(10)\n",
    "\n",
    "scatter(x, z, label=\"data\")"
   ]
  },
  {
   "cell_type": "markdown",
   "metadata": {},
   "source": [
    "We will skip an important step known in geostatistics as *variogram modeling*, and will proceed to the estimation step directly in order to avoid having too many concepts in this tutorial. These concepts are likely new to practioners of machine learning and can be very useful in practice. For more information on variogram modeling, please check the other tutorials in this folder.\n",
    "\n",
    "## Simple Kriging\n",
    "\n",
    "In simple Kriging (or Gaussian process), we need to specify a mean and a covariance-type function in order to interpolate the stochastic process at unseen locations. We choose a covariance (or variogram) model in GeoStats.jl and interact with the parameters:"
   ]
  },
  {
   "cell_type": "code",
   "execution_count": 4,
   "metadata": {},
   "outputs": [
    {
     "data": {
      "text/html": [
       "<script>\n",
       "// Immediately-invoked-function-expression to avoid global variables.\n",
       "(function() {\n",
       "    var warning_div = document.getElementById(\"webio-warning-510829550748491079\");\n",
       "    var hide = function () {\n",
       "        var script = document.getElementById(\"webio-setup-8607613918097982706\");\n",
       "        var parent = script && script.parentElement;\n",
       "        var grandparent = parent && parent.parentElement;\n",
       "        if (grandparent) {\n",
       "            grandparent.style.display = \"none\";\n",
       "        }\n",
       "        warning_div.style.display = \"none\";\n",
       "    };\n",
       "    if (typeof Jupyter !== \"undefined\") {\n",
       "        console.log(\"WebIO detected Jupyter notebook environment.\");\n",
       "        // Jupyter notebook.\n",
       "        var extensions = (\n",
       "            Jupyter\n",
       "            && Jupyter.notebook.config.data\n",
       "            && Jupyter.notebook.config.data.load_extensions\n",
       "        );\n",
       "        if (extensions && extensions[\"webio/main\"]) {\n",
       "            // Extension already loaded.\n",
       "            console.log(\"Jupyter WebIO nbextension detected; not loading ad-hoc.\");\n",
       "            hide();\n",
       "            return;\n",
       "        }\n",
       "        console.warn(\"Loading WebIO Jupyter extension on an ad-hoc basis. Consider enabling the WebIO nbextension for a stabler experience (this should happen automatically when building WebIO).\");\n",
       "        require([\"/assetserver/17b83ab2b5a23b65deb8593c485fb5e5abf5e8d6-dist/main.js\"], function (webIOModule) {\n",
       "            webIOModule.load_ipython_extension();\n",
       "        });\n",
       "        warning_div.innerHTML = \"<strong>Loading WebIO Jupyter extension on an ad-hoc basis. Consider enabling the WebIO nbextension for a stabler experience (this should happen automatically when building WebIO).</strong>\";\n",
       "    } else if (window.location.pathname.includes(\"/lab\")) {\n",
       "        // Guessing JupyterLa\n",
       "        console.log(\"Jupyter Lab detected; make sure the @webio/jupyter-lab-provider labextension is installed.\");\n",
       "        hide();\n",
       "        return;\n",
       "    }\n",
       "})();\n",
       "\n",
       "</script>\n",
       "<div\n",
       "    id=\"webio-warning-510829550748491079\"\n",
       "    class=\"output_text output_stderr\"\n",
       "    style=\"padding: 1em; font-weight: bold;\"\n",
       ">\n",
       "    Unable to load WebIO. Please make sure WebIO works for your Jupyter client.\n",
       "    <!-- TODO: link to installation docs. -->\n",
       "</div>\n"
      ],
      "text/plain": [
       "HTML{String}(\"<script>\\n// Immediately-invoked-function-expression to avoid global variables.\\n(function() {\\n    var warning_div = document.getElementById(\\\"webio-warning-510829550748491079\\\");\\n    var hide = function () {\\n        var script = document.getElementById(\\\"webio-setup-8607613918097982706\\\");\\n        var parent = script && script.parentElement;\\n        var grandparent = parent && parent.parentElement;\\n        if (grandparent) {\\n            grandparent.style.display = \\\"none\\\";\\n        }\\n        warning_div.style.display = \\\"none\\\";\\n    };\\n    if (typeof Jupyter !== \\\"undefined\\\") {\\n        console.log(\\\"WebIO detected Jupyter notebook environment.\\\");\\n        // Jupyter notebook.\\n        var extensions = (\\n            Jupyter\\n            && Jupyter.notebook.config.data\\n            && Jupyter.notebook.config.data.load_extensions\\n        );\\n        if (extensions && extensions[\\\"webio/main\\\"]) {\\n            // Extension already loaded.\\n            console.log(\\\"Jupyter WebIO nbextension detected; not loading ad-hoc.\\\");\\n            hide();\\n            return;\\n        }\\n        console.warn(\\\"Loading WebIO Jupyter extension on an ad-hoc basis. Consider enabling the WebIO nbextension for a stabler experience (this should happen automatically when building WebIO).\\\");\\n        require([\\\"/assetserver/17b83ab2b5a23b65deb8593c485fb5e5abf5e8d6-dist/main.js\\\"], function (webIOModule) {\\n            webIOModule.load_ipython_extension();\\n        });\\n        warning_div.innerHTML = \\\"<strong>Loading WebIO Jupyter extension on an ad-hoc basis. Consider enabling the WebIO nbextension for a stabler experience (this should happen automatically when building WebIO).</strong>\\\";\\n    } else if (window.location.pathname.includes(\\\"/lab\\\")) {\\n        // Guessing JupyterLa\\n        console.log(\\\"Jupyter Lab detected; make sure the @webio/jupyter-lab-provider labextension is installed.\\\");\\n        hide();\\n        return;\\n    }\\n})();\\n\\n</script>\\n<div\\n    id=\\\"webio-warning-510829550748491079\\\"\\n    class=\\\"output_text output_stderr\\\"\\n    style=\\\"padding: 1em; font-weight: bold;\\\"\\n>\\n    Unable to load WebIO. Please make sure WebIO works for your Jupyter client.\\n    <!-- TODO: link to installation docs. -->\\n</div>\\n\")"
      ]
     },
     "metadata": {},
     "output_type": "display_data"
    },
    {
     "data": {
      "application/vnd.webio.node+json": {
       "children": [
        {
         "children": [
          {
           "children": [
            {
             "children": [
              {
               "children": [
                {
                 "children": [
                  "s"
                 ],
                 "instanceArgs": {
                  "namespace": "html",
                  "tag": "label"
                 },
                 "nodeType": "DOM",
                 "props": {
                  "className": "interact ",
                  "style": {
                   "padding": "5px 10px 0px 10px"
                  }
                 },
                 "type": "node"
                }
               ],
               "instanceArgs": {
                "namespace": "html",
                "tag": "div"
               },
               "nodeType": "DOM",
               "props": {
                "className": "interact-flex-row-left"
               },
               "type": "node"
              },
              {
               "children": [
                {
                 "children": [],
                 "instanceArgs": {
                  "namespace": "html",
                  "tag": "input"
                 },
                 "nodeType": "DOM",
                 "props": {
                  "attributes": {
                   "data-bind": "numericValue: index, valueUpdate: 'input', event: {change: function (){this.changes(this.changes()+1)}}",
                   "orient": "horizontal",
                   "type": "range"
                  },
                  "className": "slider slider is-fullwidth",
                  "max": 50,
                  "min": 1,
                  "step": 1,
                  "style": {}
                 },
                 "type": "node"
                }
               ],
               "instanceArgs": {
                "namespace": "html",
                "tag": "div"
               },
               "nodeType": "DOM",
               "props": {
                "className": "interact-flex-row-center"
               },
               "type": "node"
              },
              {
               "children": [
                {
                 "children": [],
                 "instanceArgs": {
                  "namespace": "html",
                  "tag": "p"
                 },
                 "nodeType": "DOM",
                 "props": {
                  "attributes": {
                   "data-bind": "text: formatted_val"
                  }
                 },
                 "type": "node"
                }
               ],
               "instanceArgs": {
                "namespace": "html",
                "tag": "div"
               },
               "nodeType": "DOM",
               "props": {
                "className": "interact-flex-row-right"
               },
               "type": "node"
              }
             ],
             "instanceArgs": {
              "namespace": "html",
              "tag": "div"
             },
             "nodeType": "DOM",
             "props": {
              "className": "interact-flex-row interact-widget"
             },
             "type": "node"
            }
           ],
           "instanceArgs": {
            "handlers": {
             "changes": [
              "(function (val){return (val!=this.model[\"changes\"]()) ? (this.valueFromJulia[\"changes\"]=true, this.model[\"changes\"](val)) : undefined})"
             ],
             "index": [
              "(function (val){return (val!=this.model[\"index\"]()) ? (this.valueFromJulia[\"index\"]=true, this.model[\"index\"](val)) : undefined})"
             ]
            },
            "id": "knockout-component-72280751-70cb-4d3f-b8b3-f9b606ea0520",
            "imports": {
             "data": [
              {
               "name": "knockout",
               "type": "js",
               "url": "/assetserver/24e2b70eb9e173a49e23c0745ccd248bfbf38bf9-knockout.js"
              },
              {
               "name": "knockout_punches",
               "type": "js",
               "url": "/assetserver/275b61436d7fa46a7116217771eb956e6cd64022-knockout_punches.js"
              },
              {
               "name": null,
               "type": "js",
               "url": "/assetserver/fcaf8a3b2c1be4f9bf6123d96dff4941add82233-all.js"
              },
              {
               "name": null,
               "type": "css",
               "url": "/assetserver/882a43841858d9b7554d0f72741df97d69de80fe-style.css"
              },
              {
               "name": null,
               "type": "css",
               "url": "/assetserver/404e7c5add19dc537a50ff822869948dc67ad8fa-bulma_confined.min.css"
              }
             ],
             "type": "async_block"
            },
            "mount_callbacks": [
             "function () {\n    var handler = (function (ko, koPunches) {\n    ko.punches.enableAll();\n    ko.bindingHandlers.numericValue = {\n        init : function(element, valueAccessor, allBindings, data, context) {\n            var stringified = ko.observable(ko.unwrap(valueAccessor()));\n            stringified.subscribe(function(value) {\n                var val = parseFloat(value);\n                if (!isNaN(val)) {\n                    valueAccessor()(val);\n                }\n            })\n            valueAccessor().subscribe(function(value) {\n                var str = JSON.stringify(value);\n                if ((str == \"0\") && ([\"-0\", \"-0.\"].indexOf(stringified()) >= 0))\n                     return;\n                 if ([\"null\", \"\"].indexOf(str) >= 0)\n                     return;\n                stringified(str);\n            })\n            ko.applyBindingsToNode(element, { value: stringified, valueUpdate: allBindings.get('valueUpdate')}, context);\n        }\n    };\n    var json_data = {\"formatted_vals\":[\"0.0\",\"0.00204082\",\"0.00408163\",\"0.00612245\",\"0.00816327\",\"0.0102041\",\"0.0122449\",\"0.0142857\",\"0.0163265\",\"0.0183673\",\"0.0204082\",\"0.022449\",\"0.0244898\",\"0.0265306\",\"0.0285714\",\"0.0306122\",\"0.0326531\",\"0.0346939\",\"0.0367347\",\"0.0387755\",\"0.0408163\",\"0.0428571\",\"0.044898\",\"0.0469388\",\"0.0489796\",\"0.0510204\",\"0.0530612\",\"0.055102\",\"0.0571429\",\"0.0591837\",\"0.0612245\",\"0.0632653\",\"0.0653061\",\"0.0673469\",\"0.0693878\",\"0.0714286\",\"0.0734694\",\"0.0755102\",\"0.077551\",\"0.0795918\",\"0.0816327\",\"0.0836735\",\"0.0857143\",\"0.0877551\",\"0.0897959\",\"0.0918367\",\"0.0938776\",\"0.0959184\",\"0.0979592\",\"0.1\"],\"changes\":WebIO.getval({\"name\":\"changes\",\"scope\":\"knockout-component-72280751-70cb-4d3f-b8b3-f9b606ea0520\",\"id\":\"ob_03\",\"type\":\"observable\"}),\"index\":WebIO.getval({\"name\":\"index\",\"scope\":\"knockout-component-72280751-70cb-4d3f-b8b3-f9b606ea0520\",\"id\":\"ob_02\",\"type\":\"observable\"})};\n    var self = this;\n    function AppViewModel() {\n        for (var key in json_data) {\n            var el = json_data[key];\n            this[key] = Array.isArray(el) ? ko.observableArray(el) : ko.observable(el);\n        }\n        \n        [this[\"formatted_val\"]=ko.computed(    function(){\n        return this.formatted_vals()[parseInt(this.index())-1];\n    }\n,this)]\n        [this[\"changes\"].subscribe((function (val){!(this.valueFromJulia[\"changes\"]) ? (WebIO.setval({\"name\":\"changes\",\"scope\":\"knockout-component-72280751-70cb-4d3f-b8b3-f9b606ea0520\",\"id\":\"ob_03\",\"type\":\"observable\"},val)) : undefined; return this.valueFromJulia[\"changes\"]=false}),self),this[\"index\"].subscribe((function (val){!(this.valueFromJulia[\"index\"]) ? (WebIO.setval({\"name\":\"index\",\"scope\":\"knockout-component-72280751-70cb-4d3f-b8b3-f9b606ea0520\",\"id\":\"ob_02\",\"type\":\"observable\"},val)) : undefined; return this.valueFromJulia[\"index\"]=false}),self)]\n        \n    }\n    self.model = new AppViewModel();\n    self.valueFromJulia = {};\n    for (var key in json_data) {\n        self.valueFromJulia[key] = false;\n    }\n    ko.applyBindings(self.model, self.dom);\n}\n);\n    (WebIO.importBlock({\"data\":[{\"name\":\"knockout\",\"type\":\"js\",\"url\":\"/assetserver/24e2b70eb9e173a49e23c0745ccd248bfbf38bf9-knockout.js\"},{\"name\":\"knockout_punches\",\"type\":\"js\",\"url\":\"/assetserver/275b61436d7fa46a7116217771eb956e6cd64022-knockout_punches.js\"}],\"type\":\"async_block\"})).then((imports) => handler.apply(this, imports));\n}\n"
            ],
            "observables": {
             "changes": {
              "id": "ob_03",
              "sync": false,
              "value": 0
             },
             "index": {
              "id": "ob_02",
              "sync": true,
              "value": 25
             }
            },
            "systemjs_options": null
           },
           "nodeType": "Scope",
           "props": {},
           "type": "node"
          }
         ],
         "instanceArgs": {
          "namespace": "html",
          "tag": "div"
         },
         "nodeType": "DOM",
         "props": {
          "className": "field interact-widget"
         },
         "type": "node"
        },
        {
         "children": [
          {
           "children": [
            {
             "children": [
              {
               "children": [
                {
                 "children": [
                  "r"
                 ],
                 "instanceArgs": {
                  "namespace": "html",
                  "tag": "label"
                 },
                 "nodeType": "DOM",
                 "props": {
                  "className": "interact ",
                  "style": {
                   "padding": "5px 10px 0px 10px"
                  }
                 },
                 "type": "node"
                }
               ],
               "instanceArgs": {
                "namespace": "html",
                "tag": "div"
               },
               "nodeType": "DOM",
               "props": {
                "className": "interact-flex-row-left"
               },
               "type": "node"
              },
              {
               "children": [
                {
                 "children": [],
                 "instanceArgs": {
                  "namespace": "html",
                  "tag": "input"
                 },
                 "nodeType": "DOM",
                 "props": {
                  "attributes": {
                   "data-bind": "numericValue: index, valueUpdate: 'input', event: {change: function (){this.changes(this.changes()+1)}}",
                   "orient": "horizontal",
                   "type": "range"
                  },
                  "className": "slider slider is-fullwidth",
                  "max": 50,
                  "min": 1,
                  "step": 1,
                  "style": {}
                 },
                 "type": "node"
                }
               ],
               "instanceArgs": {
                "namespace": "html",
                "tag": "div"
               },
               "nodeType": "DOM",
               "props": {
                "className": "interact-flex-row-center"
               },
               "type": "node"
              },
              {
               "children": [
                {
                 "children": [],
                 "instanceArgs": {
                  "namespace": "html",
                  "tag": "p"
                 },
                 "nodeType": "DOM",
                 "props": {
                  "attributes": {
                   "data-bind": "text: formatted_val"
                  }
                 },
                 "type": "node"
                }
               ],
               "instanceArgs": {
                "namespace": "html",
                "tag": "div"
               },
               "nodeType": "DOM",
               "props": {
                "className": "interact-flex-row-right"
               },
               "type": "node"
              }
             ],
             "instanceArgs": {
              "namespace": "html",
              "tag": "div"
             },
             "nodeType": "DOM",
             "props": {
              "className": "interact-flex-row interact-widget"
             },
             "type": "node"
            }
           ],
           "instanceArgs": {
            "handlers": {
             "changes": [
              "(function (val){return (val!=this.model[\"changes\"]()) ? (this.valueFromJulia[\"changes\"]=true, this.model[\"changes\"](val)) : undefined})"
             ],
             "index": [
              "(function (val){return (val!=this.model[\"index\"]()) ? (this.valueFromJulia[\"index\"]=true, this.model[\"index\"](val)) : undefined})"
             ]
            },
            "id": "knockout-component-a4d08aa0-c44a-498b-941e-489783980994",
            "imports": {
             "data": [
              {
               "name": "knockout",
               "type": "js",
               "url": "/assetserver/24e2b70eb9e173a49e23c0745ccd248bfbf38bf9-knockout.js"
              },
              {
               "name": "knockout_punches",
               "type": "js",
               "url": "/assetserver/275b61436d7fa46a7116217771eb956e6cd64022-knockout_punches.js"
              },
              {
               "name": null,
               "type": "js",
               "url": "/assetserver/fcaf8a3b2c1be4f9bf6123d96dff4941add82233-all.js"
              },
              {
               "name": null,
               "type": "css",
               "url": "/assetserver/882a43841858d9b7554d0f72741df97d69de80fe-style.css"
              },
              {
               "name": null,
               "type": "css",
               "url": "/assetserver/404e7c5add19dc537a50ff822869948dc67ad8fa-bulma_confined.min.css"
              }
             ],
             "type": "async_block"
            },
            "mount_callbacks": [
             "function () {\n    var handler = (function (ko, koPunches) {\n    ko.punches.enableAll();\n    ko.bindingHandlers.numericValue = {\n        init : function(element, valueAccessor, allBindings, data, context) {\n            var stringified = ko.observable(ko.unwrap(valueAccessor()));\n            stringified.subscribe(function(value) {\n                var val = parseFloat(value);\n                if (!isNaN(val)) {\n                    valueAccessor()(val);\n                }\n            })\n            valueAccessor().subscribe(function(value) {\n                var str = JSON.stringify(value);\n                if ((str == \"0\") && ([\"-0\", \"-0.\"].indexOf(stringified()) >= 0))\n                     return;\n                 if ([\"null\", \"\"].indexOf(str) >= 0)\n                     return;\n                stringified(str);\n            })\n            ko.applyBindingsToNode(element, { value: stringified, valueUpdate: allBindings.get('valueUpdate')}, context);\n        }\n    };\n    var json_data = {\"formatted_vals\":[\"0.1\",\"0.102041\",\"0.104082\",\"0.106122\",\"0.108163\",\"0.110204\",\"0.112245\",\"0.114286\",\"0.116327\",\"0.118367\",\"0.120408\",\"0.122449\",\"0.12449\",\"0.126531\",\"0.128571\",\"0.130612\",\"0.132653\",\"0.134694\",\"0.136735\",\"0.138776\",\"0.140816\",\"0.142857\",\"0.144898\",\"0.146939\",\"0.14898\",\"0.15102\",\"0.153061\",\"0.155102\",\"0.157143\",\"0.159184\",\"0.161224\",\"0.163265\",\"0.165306\",\"0.167347\",\"0.169388\",\"0.171429\",\"0.173469\",\"0.17551\",\"0.177551\",\"0.179592\",\"0.181633\",\"0.183673\",\"0.185714\",\"0.187755\",\"0.189796\",\"0.191837\",\"0.193878\",\"0.195918\",\"0.197959\",\"0.2\"],\"changes\":WebIO.getval({\"name\":\"changes\",\"scope\":\"knockout-component-a4d08aa0-c44a-498b-941e-489783980994\",\"id\":\"ob_06\",\"type\":\"observable\"}),\"index\":WebIO.getval({\"name\":\"index\",\"scope\":\"knockout-component-a4d08aa0-c44a-498b-941e-489783980994\",\"id\":\"ob_05\",\"type\":\"observable\"})};\n    var self = this;\n    function AppViewModel() {\n        for (var key in json_data) {\n            var el = json_data[key];\n            this[key] = Array.isArray(el) ? ko.observableArray(el) : ko.observable(el);\n        }\n        \n        [this[\"formatted_val\"]=ko.computed(    function(){\n        return this.formatted_vals()[parseInt(this.index())-1];\n    }\n,this)]\n        [this[\"changes\"].subscribe((function (val){!(this.valueFromJulia[\"changes\"]) ? (WebIO.setval({\"name\":\"changes\",\"scope\":\"knockout-component-a4d08aa0-c44a-498b-941e-489783980994\",\"id\":\"ob_06\",\"type\":\"observable\"},val)) : undefined; return this.valueFromJulia[\"changes\"]=false}),self),this[\"index\"].subscribe((function (val){!(this.valueFromJulia[\"index\"]) ? (WebIO.setval({\"name\":\"index\",\"scope\":\"knockout-component-a4d08aa0-c44a-498b-941e-489783980994\",\"id\":\"ob_05\",\"type\":\"observable\"},val)) : undefined; return this.valueFromJulia[\"index\"]=false}),self)]\n        \n    }\n    self.model = new AppViewModel();\n    self.valueFromJulia = {};\n    for (var key in json_data) {\n        self.valueFromJulia[key] = false;\n    }\n    ko.applyBindings(self.model, self.dom);\n}\n);\n    (WebIO.importBlock({\"data\":[{\"name\":\"knockout\",\"type\":\"js\",\"url\":\"/assetserver/24e2b70eb9e173a49e23c0745ccd248bfbf38bf9-knockout.js\"},{\"name\":\"knockout_punches\",\"type\":\"js\",\"url\":\"/assetserver/275b61436d7fa46a7116217771eb956e6cd64022-knockout_punches.js\"}],\"type\":\"async_block\"})).then((imports) => handler.apply(this, imports));\n}\n"
            ],
            "observables": {
             "changes": {
              "id": "ob_06",
              "sync": false,
              "value": 0
             },
             "index": {
              "id": "ob_05",
              "sync": true,
              "value": 25
             }
            },
            "systemjs_options": null
           },
           "nodeType": "Scope",
           "props": {},
           "type": "node"
          }
         ],
         "instanceArgs": {
          "namespace": "html",
          "tag": "div"
         },
         "nodeType": "DOM",
         "props": {
          "className": "field interact-widget"
         },
         "type": "node"
        },
        {
         "children": [
          {
           "children": [],
           "instanceArgs": {
            "id": "ob_12",
            "name": "obs-node"
           },
           "nodeType": "ObservableNode",
           "props": {},
           "type": "node"
          }
         ],
         "instanceArgs": {
          "handlers": {},
          "id": "scope-df19366f-93bc-4f46-8dbc-1a313aaf22ec",
          "imports": {
           "data": [],
           "type": "async_block"
          },
          "mount_callbacks": [],
          "observables": {
           "obs-node": {
            "id": "ob_12",
            "sync": false,
            "value": {
             "children": [
              {
               "children": [],
               "instanceArgs": {
                "namespace": "html",
                "tag": "div"
               },
               "nodeType": "DOM",
               "props": {
                "setInnerHtml": "<?xml version=\"1.0\" encoding=\"utf-8\"?>\n<svg xmlns=\"http://www.w3.org/2000/svg\" xmlns:xlink=\"http://www.w3.org/1999/xlink\" width=\"900\" height=\"400\" viewBox=\"0 0 3600 1600\">\n<defs>\n  <clipPath id=\"clip5800\">\n    <rect x=\"0\" y=\"0\" width=\"3600\" height=\"1600\"/>\n  </clipPath>\n</defs>\n<polygon clip-path=\"url(#clip5800)\" points=\"\n0,1600 3600,1600 3600,0 0,0 \n  \" fill=\"#ffffff\" fill-rule=\"evenodd\" fill-opacity=\"1\"/>\n<defs>\n  <clipPath id=\"clip5801\">\n    <rect x=\"720\" y=\"0\" width=\"2521\" height=\"1600\"/>\n  </clipPath>\n</defs>\n<polygon clip-path=\"url(#clip5800)\" points=\"\n161.394,1514.65 3521.26,1514.65 3521.26,47.2441 161.394,47.2441 \n  \" fill=\"#ffffff\" fill-rule=\"evenodd\" fill-opacity=\"1\"/>\n<defs>\n  <clipPath id=\"clip5802\">\n    <rect x=\"161\" y=\"47\" width=\"3361\" height=\"1468\"/>\n  </clipPath>\n</defs>\n<polyline clip-path=\"url(#clip5802)\" style=\"stroke:#000000; stroke-width:2; stroke-opacity:0.1; fill:none\" points=\"\n  161.394,1514.65 161.394,47.2441 \n  \"/>\n<polyline clip-path=\"url(#clip5802)\" style=\"stroke:#000000; stroke-width:2; stroke-opacity:0.1; fill:none\" points=\"\n  833.367,1514.65 833.367,47.2441 \n  \"/>\n<polyline clip-path=\"url(#clip5802)\" style=\"stroke:#000000; stroke-width:2; stroke-opacity:0.1; fill:none\" points=\"\n  1505.34,1514.65 1505.34,47.2441 \n  \"/>\n<polyline clip-path=\"url(#clip5802)\" style=\"stroke:#000000; stroke-width:2; stroke-opacity:0.1; fill:none\" points=\"\n  2177.31,1514.65 2177.31,47.2441 \n  \"/>\n<polyline clip-path=\"url(#clip5802)\" style=\"stroke:#000000; stroke-width:2; stroke-opacity:0.1; fill:none\" points=\"\n  2849.29,1514.65 2849.29,47.2441 \n  \"/>\n<polyline clip-path=\"url(#clip5802)\" style=\"stroke:#000000; stroke-width:2; stroke-opacity:0.1; fill:none\" points=\"\n  3521.26,1514.65 3521.26,47.2441 \n  \"/>\n<polyline clip-path=\"url(#clip5802)\" style=\"stroke:#000000; stroke-width:2; stroke-opacity:0.1; fill:none\" points=\"\n  161.394,1514.65 3521.26,1514.65 \n  \"/>\n<polyline clip-path=\"url(#clip5802)\" style=\"stroke:#000000; stroke-width:2; stroke-opacity:0.1; fill:none\" points=\"\n  161.394,1221.17 3521.26,1221.17 \n  \"/>\n<polyline clip-path=\"url(#clip5802)\" style=\"stroke:#000000; stroke-width:2; stroke-opacity:0.1; fill:none\" points=\"\n  161.394,927.689 3521.26,927.689 \n  \"/>\n<polyline clip-path=\"url(#clip5802)\" style=\"stroke:#000000; stroke-width:2; stroke-opacity:0.1; fill:none\" points=\"\n  161.394,634.207 3521.26,634.207 \n  \"/>\n<polyline clip-path=\"url(#clip5802)\" style=\"stroke:#000000; stroke-width:2; stroke-opacity:0.1; fill:none\" points=\"\n  161.394,340.726 3521.26,340.726 \n  \"/>\n<polyline clip-path=\"url(#clip5802)\" style=\"stroke:#000000; stroke-width:2; stroke-opacity:0.1; fill:none\" points=\"\n  161.394,47.2441 3521.26,47.2441 \n  \"/>\n<polyline clip-path=\"url(#clip5800)\" style=\"stroke:#000000; stroke-width:4; stroke-opacity:1; fill:none\" points=\"\n  161.394,1514.65 3521.26,1514.65 \n  \"/>\n<polyline clip-path=\"url(#clip5800)\" style=\"stroke:#000000; stroke-width:4; stroke-opacity:1; fill:none\" points=\"\n  161.394,1514.65 161.394,47.2441 \n  \"/>\n<polyline clip-path=\"url(#clip5800)\" style=\"stroke:#000000; stroke-width:4; stroke-opacity:1; fill:none\" points=\"\n  161.394,1514.65 161.394,1492.64 \n  \"/>\n<polyline clip-path=\"url(#clip5800)\" style=\"stroke:#000000; stroke-width:4; stroke-opacity:1; fill:none\" points=\"\n  833.367,1514.65 833.367,1492.64 \n  \"/>\n<polyline clip-path=\"url(#clip5800)\" style=\"stroke:#000000; stroke-width:4; stroke-opacity:1; fill:none\" points=\"\n  1505.34,1514.65 1505.34,1492.64 \n  \"/>\n<polyline clip-path=\"url(#clip5800)\" style=\"stroke:#000000; stroke-width:4; stroke-opacity:1; fill:none\" points=\"\n  2177.31,1514.65 2177.31,1492.64 \n  \"/>\n<polyline clip-path=\"url(#clip5800)\" style=\"stroke:#000000; stroke-width:4; stroke-opacity:1; fill:none\" points=\"\n  2849.29,1514.65 2849.29,1492.64 \n  \"/>\n<polyline clip-path=\"url(#clip5800)\" style=\"stroke:#000000; stroke-width:4; stroke-opacity:1; fill:none\" points=\"\n  3521.26,1514.65 3521.26,1492.64 \n  \"/>\n<polyline clip-path=\"url(#clip5800)\" style=\"stroke:#000000; stroke-width:4; stroke-opacity:1; fill:none\" points=\"\n  161.394,1514.65 211.792,1514.65 \n  \"/>\n<polyline clip-path=\"url(#clip5800)\" style=\"stroke:#000000; stroke-width:4; stroke-opacity:1; fill:none\" points=\"\n  161.394,1221.17 211.792,1221.17 \n  \"/>\n<polyline clip-path=\"url(#clip5800)\" style=\"stroke:#000000; stroke-width:4; stroke-opacity:1; fill:none\" points=\"\n  161.394,927.689 211.792,927.689 \n  \"/>\n<polyline clip-path=\"url(#clip5800)\" style=\"stroke:#000000; stroke-width:4; stroke-opacity:1; fill:none\" points=\"\n  161.394,634.207 211.792,634.207 \n  \"/>\n<polyline clip-path=\"url(#clip5800)\" style=\"stroke:#000000; stroke-width:4; stroke-opacity:1; fill:none\" points=\"\n  161.394,340.726 211.792,340.726 \n  \"/>\n<polyline clip-path=\"url(#clip5800)\" style=\"stroke:#000000; stroke-width:4; stroke-opacity:1; fill:none\" points=\"\n  161.394,47.2441 211.792,47.2441 \n  \"/>\n<g clip-path=\"url(#clip5800)\">\n<text style=\"fill:#000000; fill-opacity:1; font-family:Arial,Helvetica Neue,Helvetica,sans-serif; font-size:48px; text-anchor:middle;\" transform=\"rotate(0, 161.394, 1574.65)\" x=\"161.394\" y=\"1574.65\">0.0</text>\n</g>\n<g clip-path=\"url(#clip5800)\">\n<text style=\"fill:#000000; fill-opacity:1; font-family:Arial,Helvetica Neue,Helvetica,sans-serif; font-size:48px; text-anchor:middle;\" transform=\"rotate(0, 833.367, 1574.65)\" x=\"833.367\" y=\"1574.65\">0.2</text>\n</g>\n<g clip-path=\"url(#clip5800)\">\n<text style=\"fill:#000000; fill-opacity:1; font-family:Arial,Helvetica Neue,Helvetica,sans-serif; font-size:48px; text-anchor:middle;\" transform=\"rotate(0, 1505.34, 1574.65)\" x=\"1505.34\" y=\"1574.65\">0.4</text>\n</g>\n<g clip-path=\"url(#clip5800)\">\n<text style=\"fill:#000000; fill-opacity:1; font-family:Arial,Helvetica Neue,Helvetica,sans-serif; font-size:48px; text-anchor:middle;\" transform=\"rotate(0, 2177.31, 1574.65)\" x=\"2177.31\" y=\"1574.65\">0.6</text>\n</g>\n<g clip-path=\"url(#clip5800)\">\n<text style=\"fill:#000000; fill-opacity:1; font-family:Arial,Helvetica Neue,Helvetica,sans-serif; font-size:48px; text-anchor:middle;\" transform=\"rotate(0, 2849.29, 1574.65)\" x=\"2849.29\" y=\"1574.65\">0.8</text>\n</g>\n<g clip-path=\"url(#clip5800)\">\n<text style=\"fill:#000000; fill-opacity:1; font-family:Arial,Helvetica Neue,Helvetica,sans-serif; font-size:48px; text-anchor:middle;\" transform=\"rotate(0, 3521.26, 1574.65)\" x=\"3521.26\" y=\"1574.65\">1.0</text>\n</g>\n<g clip-path=\"url(#clip5800)\">\n<text style=\"fill:#000000; fill-opacity:1; font-family:Arial,Helvetica Neue,Helvetica,sans-serif; font-size:48px; text-anchor:end;\" transform=\"rotate(0, 125.394, 1532.15)\" x=\"125.394\" y=\"1532.15\">0.0</text>\n</g>\n<g clip-path=\"url(#clip5800)\">\n<text style=\"fill:#000000; fill-opacity:1; font-family:Arial,Helvetica Neue,Helvetica,sans-serif; font-size:48px; text-anchor:end;\" transform=\"rotate(0, 125.394, 1238.67)\" x=\"125.394\" y=\"1238.67\">0.2</text>\n</g>\n<g clip-path=\"url(#clip5800)\">\n<text style=\"fill:#000000; fill-opacity:1; font-family:Arial,Helvetica Neue,Helvetica,sans-serif; font-size:48px; text-anchor:end;\" transform=\"rotate(0, 125.394, 945.189)\" x=\"125.394\" y=\"945.189\">0.4</text>\n</g>\n<g clip-path=\"url(#clip5800)\">\n<text style=\"fill:#000000; fill-opacity:1; font-family:Arial,Helvetica Neue,Helvetica,sans-serif; font-size:48px; text-anchor:end;\" transform=\"rotate(0, 125.394, 651.707)\" x=\"125.394\" y=\"651.707\">0.6</text>\n</g>\n<g clip-path=\"url(#clip5800)\">\n<text style=\"fill:#000000; fill-opacity:1; font-family:Arial,Helvetica Neue,Helvetica,sans-serif; font-size:48px; text-anchor:end;\" transform=\"rotate(0, 125.394, 358.226)\" x=\"125.394\" y=\"358.226\">0.8</text>\n</g>\n<g clip-path=\"url(#clip5800)\">\n<text style=\"fill:#000000; fill-opacity:1; font-family:Arial,Helvetica Neue,Helvetica,sans-serif; font-size:48px; text-anchor:end;\" transform=\"rotate(0, 125.394, 64.7441)\" x=\"125.394\" y=\"64.7441\">1.0</text>\n</g>\n<circle clip-path=\"url(#clip5802)\" style=\"fill:#000000; stroke:none; fill-opacity:1\" cx=\"497.381\" cy=\"647.946\" r=\"18\"/>\n<circle clip-path=\"url(#clip5802)\" style=\"fill:#009af9; stroke:none; fill-opacity:1\" cx=\"497.381\" cy=\"647.946\" r=\"14\"/>\n<circle clip-path=\"url(#clip5802)\" style=\"fill:#000000; stroke:none; fill-opacity:1\" cx=\"796.035\" cy=\"651.032\" r=\"18\"/>\n<circle clip-path=\"url(#clip5802)\" style=\"fill:#009af9; stroke:none; fill-opacity:1\" cx=\"796.035\" cy=\"651.032\" r=\"14\"/>\n<circle clip-path=\"url(#clip5802)\" style=\"fill:#000000; stroke:none; fill-opacity:1\" cx=\"1094.69\" cy=\"1314.18\" r=\"18\"/>\n<circle clip-path=\"url(#clip5802)\" style=\"fill:#009af9; stroke:none; fill-opacity:1\" cx=\"1094.69\" cy=\"1314.18\" r=\"14\"/>\n<circle clip-path=\"url(#clip5802)\" style=\"fill:#000000; stroke:none; fill-opacity:1\" cx=\"1393.34\" cy=\"790.458\" r=\"18\"/>\n<circle clip-path=\"url(#clip5802)\" style=\"fill:#009af9; stroke:none; fill-opacity:1\" cx=\"1393.34\" cy=\"790.458\" r=\"14\"/>\n<circle clip-path=\"url(#clip5802)\" style=\"fill:#000000; stroke:none; fill-opacity:1\" cx=\"1692\" cy=\"723.168\" r=\"18\"/>\n<circle clip-path=\"url(#clip5802)\" style=\"fill:#009af9; stroke:none; fill-opacity:1\" cx=\"1692\" cy=\"723.168\" r=\"14\"/>\n<circle clip-path=\"url(#clip5802)\" style=\"fill:#000000; stroke:none; fill-opacity:1\" cx=\"1990.65\" cy=\"764.113\" r=\"18\"/>\n<circle clip-path=\"url(#clip5802)\" style=\"fill:#009af9; stroke:none; fill-opacity:1\" cx=\"1990.65\" cy=\"764.113\" r=\"14\"/>\n<circle clip-path=\"url(#clip5802)\" style=\"fill:#000000; stroke:none; fill-opacity:1\" cx=\"2289.31\" cy=\"404.942\" r=\"18\"/>\n<circle clip-path=\"url(#clip5802)\" style=\"fill:#009af9; stroke:none; fill-opacity:1\" cx=\"2289.31\" cy=\"404.942\" r=\"14\"/>\n<circle clip-path=\"url(#clip5802)\" style=\"fill:#000000; stroke:none; fill-opacity:1\" cx=\"2587.96\" cy=\"612.667\" r=\"18\"/>\n<circle clip-path=\"url(#clip5802)\" style=\"fill:#009af9; stroke:none; fill-opacity:1\" cx=\"2587.96\" cy=\"612.667\" r=\"14\"/>\n<circle clip-path=\"url(#clip5802)\" style=\"fill:#000000; stroke:none; fill-opacity:1\" cx=\"2886.62\" cy=\"429.098\" r=\"18\"/>\n<circle clip-path=\"url(#clip5802)\" style=\"fill:#009af9; stroke:none; fill-opacity:1\" cx=\"2886.62\" cy=\"429.098\" r=\"14\"/>\n<circle clip-path=\"url(#clip5802)\" style=\"fill:#000000; stroke:none; fill-opacity:1\" cx=\"3185.27\" cy=\"805.985\" r=\"18\"/>\n<circle clip-path=\"url(#clip5802)\" style=\"fill:#009af9; stroke:none; fill-opacity:1\" cx=\"3185.27\" cy=\"805.985\" r=\"14\"/>\n<polygon clip-path=\"url(#clip5802)\" points=\"\n161.394,1086.66 178.278,1081.46 195.162,1075.09 212.045,1067.37 228.929,1058.13 245.813,1047.19 262.697,1034.37 279.58,1019.52 296.464,1002.52 313.348,983.247 \n  330.232,961.658 347.115,937.732 363.999,911.508 380.883,883.084 397.767,852.622 414.65,820.35 431.534,786.564 448.418,751.628 465.301,715.976 482.185,680.126 \n  499.069,649.661 515.953,656.96 532.836,663.144 549.72,667.415 566.604,669.694 583.488,669.998 600.371,668.44 617.255,665.229 634.139,660.67 651.023,655.159 \n  667.906,649.175 684.79,643.271 701.674,638.05 718.558,634.156 735.441,632.243 752.325,632.958 769.209,636.917 786.093,644.746 802.976,671.774 819.86,723.972 \n  836.744,779.371 853.628,836.873 870.511,895.436 887.395,953.985 904.279,1011.42 921.163,1066.66 938.046,1118.66 954.93,1166.41 971.814,1209.03 988.698,1245.73 \n  1005.58,1275.87 1022.47,1298.97 1039.35,1314.7 1056.23,1322.94 1073.12,1323.75 1090,1317.61 1106.88,1329.82 1123.77,1345.02 1140.65,1352.77 1157.54,1352.8 \n  1174.42,1345.05 1191.3,1329.67 1208.19,1306.96 1225.07,1277.39 1241.95,1241.6 1258.84,1200.34 1275.72,1154.47 1292.61,1104.96 1309.49,1052.8 1326.37,999.061 \n  1343.26,944.785 1360.14,891.023 1377.02,838.807 1393.91,791.604 1410.79,779.113 1427.68,770.929 1444.56,765.28 1461.44,761.665 1478.33,759.585 1495.21,758.543 \n  1512.09,758.066 1528.98,757.724 1545.86,757.148 1562.75,756.045 1579.63,754.206 1596.51,751.511 1613.4,747.931 1630.28,743.525 1647.16,738.433 1664.05,732.868 \n  1680.93,727.155 1697.82,733.833 1714.7,763.424 1731.58,792.413 1748.47,819.835 1765.35,844.94 1782.23,867.049 1799.12,885.55 1816,899.919 1832.89,909.723 \n  1849.77,914.632 1866.65,914.427 1883.54,909.005 1900.42,898.382 1917.3,882.693 1934.19,862.192 1951.07,837.25 1967.96,808.354 1984.84,776.263 2001.72,764.345 \n  2018.61,761.99 2035.49,756.629 2052.37,747.965 2069.26,735.864 2086.14,720.313 2103.03,701.423 2119.91,679.423 2136.79,654.661 2153.68,627.594 2170.56,598.773 \n  2187.44,568.83 2204.33,538.456 2221.21,508.384 2238.1,479.358 2254.98,452.118 2271.86,427.394 2288.75,407.177 2305.63,422.087 2322.51,442.629 2339.4,465.543 \n  2356.28,490.003 2373.16,515.169 2390.05,540.199 2406.93,564.263 2423.82,586.571 2440.7,606.4 2457.58,623.108 2474.47,636.161 2491.35,645.146 2508.23,649.781 \n  2525.12,649.928 2542,645.595 2558.89,636.94 2575.77,624.308 2592.65,618.138 2609.54,633.783 2626.42,645.852 2643.3,653.738 2660.19,657.206 2677.07,656.174 \n  2693.96,650.709 2710.84,641.018 2727.72,627.446 2744.61,610.465 2761.49,590.656 2778.37,568.694 2795.26,545.328 2812.14,521.357 2829.03,497.605 2845.91,474.902 \n  2862.79,454.063 2879.68,435.986 2896.56,442.456 2913.44,467.343 2930.33,495.173 2947.21,525.192 2964.1,556.662 2980.98,588.826 2997.86,620.926 3014.75,652.219 \n  3031.63,682.005 3048.51,709.641 3065.4,734.563 3082.28,756.296 3099.17,774.466 3116.05,788.808 3132.93,799.168 3149.82,805.503 3166.7,807.891 3183.58,807.149 \n  3200.47,842.197 3217.35,880.723 3234.24,917.234 3251.12,951.323 3268,982.692 3284.89,1011.13 3301.77,1036.49 3318.65,1058.74 3335.54,1077.89 3352.42,1094.03 \n  3369.31,1107.29 3386.19,1117.87 3403.07,1126 3419.96,1131.92 3436.84,1135.91 3453.72,1138.25 3470.61,1139.19 3487.49,1139.01 3504.38,1137.95 3521.26,1136.24 \n  3521.26,511.684 3504.38,521.072 3487.49,531.634 3470.61,543.42 3453.72,556.457 3436.84,570.745 3419.96,586.248 3403.07,602.89 3386.19,620.55 3369.31,639.06 \n  3352.42,658.198 3335.54,677.696 3318.65,697.233 3301.77,716.448 3284.89,734.939 3268,752.278 3251.12,768.018 3234.24,781.71 3217.35,792.908 3200.47,801.171 \n  3183.58,801.085 3166.7,760.547 3149.82,718.815 3132.93,677.177 3116.05,636.308 3099.17,596.882 3082.28,559.566 3065.4,525.004 3048.51,493.797 3031.63,466.485 \n  3014.75,443.528 2997.86,425.291 2980.98,412.03 2964.1,403.881 2947.21,400.854 2930.33,402.824 2913.44,409.53 2896.56,420.515 2879.68,420.415 2862.79,403.012 \n  2845.91,389.809 2829.03,381.23 2812.14,377.436 2795.26,378.441 2778.37,384.12 2761.49,394.209 2744.61,408.315 2727.72,425.93 2710.84,446.442 2693.96,469.154 \n  2677.07,493.308 2660.19,518.105 2643.3,542.729 2626.42,566.371 2609.54,588.241 2592.65,607.37 2575.77,598.21 2558.89,576.164 2542,551.925 2525.12,526.293 \n  2508.23,500.068 2491.35,474.065 2474.47,449.092 2457.58,425.934 2440.7,405.319 2423.82,387.905 2406.93,374.254 2390.05,364.817 2373.16,359.923 2356.28,359.765 \n  2339.4,364.397 2322.51,373.727 2305.63,387.505 2288.75,402.86 2271.86,390.489 2254.98,381.002 2238.1,376.19 2221.21,376.389 2204.33,381.779 2187.44,392.393 \n  2170.56,408.124 2153.68,428.727 2136.79,453.83 2119.91,482.942 2103.03,515.47 2086.14,550.735 2069.26,587.989 2052.37,626.439 2035.49,665.262 2018.61,703.622 \n  2001.72,740.643 1984.84,763.3 1967.96,760.661 1951.07,755.895 1934.19,749.687 1917.3,742.56 1900.42,735.022 1883.54,727.552 1866.65,720.586 1849.77,714.497 \n  1832.89,709.588 1816,706.078 1799.12,704.097 1782.23,703.689 1765.35,704.808 1748.47,707.33 1731.58,711.059 1714.7,715.731 1697.82,720.87 1680.93,703.452 \n  1664.05,674.5 1647.16,647.066 1630.28,622 1613.4,600.057 1596.51,581.932 1579.63,568.253 1562.75,559.564 1545.86,556.316 1528.98,558.857 1512.09,567.417 \n  1495.21,582.106 1478.33,602.907 1461.44,629.67 1444.56,662.112 1427.68,699.813 1410.79,742.208 1393.91,787.286 1377.02,804.226 1360.14,822.121 1343.26,843.639 \n  1326.37,868.824 1309.49,897.559 1292.61,929.576 1275.72,964.464 1258.84,1001.67 1241.95,1040.52 1225.07,1080.22 1208.19,1119.89 1191.3,1158.59 1174.42,1195.34 \n  1157.54,1229.16 1140.65,1259.1 1123.77,1284.24 1106.88,1303.73 1090,1306.84 1073.12,1278.21 1056.23,1243.46 1039.35,1203.7 1022.47,1159.87 1005.58,1113.01 \n  988.698,1064.18 971.814,1014.45 954.93,964.894 938.046,916.506 921.163,870.217 904.279,826.85 887.395,787.098 870.511,751.515 853.628,720.498 836.744,694.278 \n  819.86,672.92 802.976,656.204 786.093,622.805 769.209,579.104 752.325,540.609 735.441,507.906 718.558,481.376 701.674,461.254 684.79,447.636 667.906,440.484 \n  651.023,439.639 634.139,444.826 617.255,455.67 600.371,471.71 583.488,492.413 566.604,517.194 549.72,545.425 532.836,576.456 515.953,609.615 499.069,643.597 \n  482.185,639.1 465.301,628.161 448.418,616.105 431.534,603.259 414.65,589.936 397.767,576.435 380.883,563.038 363.999,549.999 347.115,537.537 330.232,525.83 \n  313.348,515.017 296.464,505.194 279.58,496.414 262.697,488.694 245.813,482.019 228.929,476.344 212.045,471.603 195.162,467.713 178.278,464.582 161.394,462.112 \n  \n  \" fill=\"#e26f46\" fill-rule=\"evenodd\" fill-opacity=\"0.5\"/>\n<polyline clip-path=\"url(#clip5802)\" style=\"stroke:#e26f46; stroke-width:4; stroke-opacity:1; fill:none\" points=\"\n  161.394,774.388 178.278,773.021 195.162,771.401 212.045,769.488 228.929,767.239 245.813,764.604 262.697,761.532 279.58,757.968 296.464,753.855 313.348,749.132 \n  330.232,743.744 347.115,737.634 363.999,730.754 380.883,723.061 397.767,714.529 414.65,705.143 431.534,694.911 448.418,683.866 465.301,672.069 482.185,659.613 \n  499.069,646.629 515.953,633.287 532.836,619.8 549.72,606.42 566.604,593.444 583.488,581.205 600.371,570.075 617.255,560.449 634.139,552.748 651.023,547.399 \n  667.906,544.83 684.79,545.453 701.674,549.652 718.558,557.766 735.441,570.075 752.325,586.783 769.209,608.011 786.093,633.776 802.976,663.989 819.86,698.446 \n  836.744,736.825 853.628,778.685 870.511,823.476 887.395,870.542 904.279,919.136 921.163,968.441 938.046,1017.58 954.93,1065.65 971.814,1111.74 988.698,1154.95 \n  1005.58,1194.44 1022.47,1229.42 1039.35,1259.2 1056.23,1283.2 1073.12,1300.98 1090,1312.22 1106.88,1316.78 1123.77,1314.63 1140.65,1305.93 1157.54,1290.98 \n  1174.42,1270.2 1191.3,1244.13 1208.19,1213.42 1225.07,1178.8 1241.95,1141.06 1258.84,1101 1275.72,1059.47 1292.61,1017.27 1309.49,975.182 1326.37,933.943 \n  1343.26,894.212 1360.14,856.572 1377.02,821.517 1393.91,789.445 1410.79,760.66 1427.68,735.371 1444.56,713.696 1461.44,695.668 1478.33,681.246 1495.21,670.325 \n  1512.09,662.741 1528.98,658.29 1545.86,656.732 1562.75,657.805 1579.63,661.23 1596.51,666.721 1613.4,673.994 1630.28,682.762 1647.16,692.749 1664.05,703.684 \n  1680.93,715.303 1697.82,727.351 1714.7,739.578 1731.58,751.736 1748.47,763.582 1765.35,774.874 1782.23,785.369 1799.12,794.824 1816,802.998 1832.89,809.655 \n  1849.77,814.565 1866.65,817.506 1883.54,818.279 1900.42,816.702 1917.3,812.626 1934.19,805.94 1951.07,796.573 1967.96,784.507 1984.84,769.782 2001.72,752.494 \n  2018.61,732.806 2035.49,710.946 2052.37,687.202 2069.26,661.926 2086.14,635.524 2103.03,608.446 2119.91,581.182 2136.79,554.246 2153.68,528.161 2170.56,503.448 \n  2187.44,480.611 2204.33,460.118 2221.21,442.386 2238.1,427.774 2254.98,416.56 2271.86,408.941 2288.75,405.019 2305.63,404.796 2322.51,408.178 2339.4,414.97 \n  2356.28,424.884 2373.16,437.546 2390.05,452.508 2406.93,469.258 2423.82,487.238 2440.7,505.859 2457.58,524.521 2474.47,542.627 2491.35,559.605 2508.23,574.925 \n  2525.12,588.111 2542,598.76 2558.89,606.552 2575.77,611.259 2592.65,612.754 2609.54,611.012 2626.42,606.111 2643.3,598.234 2660.19,587.656 2677.07,574.741 \n  2693.96,559.931 2710.84,543.73 2727.72,526.688 2744.61,509.39 2761.49,492.432 2778.37,476.407 2795.26,461.885 2812.14,449.396 2829.03,439.417 2845.91,432.356 \n  2862.79,428.538 2879.68,428.2 2896.56,431.486 2913.44,438.437 2930.33,448.999 2947.21,463.023 2964.1,480.271 2980.98,500.428 2997.86,523.108 3014.75,547.874 \n  3031.63,574.245 3048.51,601.719 3065.4,629.784 3082.28,657.931 3099.17,685.674 3116.05,712.558 3132.93,738.173 3149.82,762.159 3166.7,784.219 3183.58,804.117 \n  3200.47,821.684 3217.35,836.816 3234.24,849.472 3251.12,859.671 3268,867.485 3284.89,873.032 3301.77,876.471 3318.65,877.987 3335.54,877.793 3352.42,876.112 \n  3369.31,873.175 3386.19,869.211 3403.07,864.444 3419.96,859.086 3436.84,853.329 3453.72,847.351 3470.61,841.305 3487.49,835.322 3504.38,829.511 3521.26,823.959 \n  \n  \"/>\n<polygon clip-path=\"url(#clip5800)\" points=\"\n2668.05,384.204 3413.26,384.204 3413.26,202.764 2668.05,202.764 \n  \" fill=\"#ffffff\" fill-rule=\"evenodd\" fill-opacity=\"1\"/>\n<polyline clip-path=\"url(#clip5800)\" style=\"stroke:#000000; stroke-width:4; stroke-opacity:1; fill:none\" points=\"\n  2668.05,384.204 3413.26,384.204 3413.26,202.764 2668.05,202.764 2668.05,384.204 \n  \"/>\n<circle clip-path=\"url(#clip5800)\" style=\"fill:#000000; stroke:none; fill-opacity:1\" cx=\"2830.05\" cy=\"263.244\" r=\"25\"/>\n<circle clip-path=\"url(#clip5800)\" style=\"fill:#009af9; stroke:none; fill-opacity:1\" cx=\"2830.05\" cy=\"263.244\" r=\"21\"/>\n<g clip-path=\"url(#clip5800)\">\n<text style=\"fill:#000000; fill-opacity:1; font-family:Arial,Helvetica Neue,Helvetica,sans-serif; font-size:48px; text-anchor:start;\" transform=\"rotate(0, 2956.05, 280.744)\" x=\"2956.05\" y=\"280.744\">data</text>\n</g>\n<polyline clip-path=\"url(#clip5800)\" style=\"stroke:#e26f46; stroke-width:4; stroke-opacity:1; fill:none\" points=\"\n  2704.05,323.724 2920.05,323.724 \n  \"/>\n<g clip-path=\"url(#clip5800)\">\n<text style=\"fill:#000000; fill-opacity:1; font-family:Arial,Helvetica Neue,Helvetica,sans-serif; font-size:48px; text-anchor:start;\" transform=\"rotate(0, 2956.05, 341.224)\" x=\"2956.05\" y=\"341.224\">Gaussian process</text>\n</g>\n</svg>\n"
               },
               "type": "node"
              }
             ],
             "instanceArgs": {
              "namespace": "html",
              "tag": "div"
             },
             "nodeType": "DOM",
             "props": {
              "className": "interact-flex-row interact-widget"
             },
             "type": "node"
            }
           }
          },
          "systemjs_options": null
         },
         "nodeType": "Scope",
         "props": {},
         "type": "node"
        }
       ],
       "instanceArgs": {
        "namespace": "html",
        "tag": "div"
       },
       "nodeType": "DOM",
       "props": {},
       "type": "node"
      },
      "text/html": [
       "<div\n",
       "    class=\"webio-mountpoint\"\n",
       "    data-webio-mountpoint=\"3213065159442414490\"\n",
       ">\n",
       "    <script>\n",
       "    if (window.require && require.defined && require.defined(\"nbextensions/webio/main\")) {\n",
       "        console.log(\"Jupyter WebIO extension detected, not mounting.\");\n",
       "    } else if (window.WebIO) {\n",
       "        WebIO.mount(\n",
       "            document.querySelector('[data-webio-mountpoint=\"3213065159442414490\"]'),\n",
       "            {\"props\":{},\"nodeType\":\"DOM\",\"type\":\"node\",\"instanceArgs\":{\"namespace\":\"html\",\"tag\":\"div\"},\"children\":[{\"props\":{\"className\":\"field interact-widget\"},\"nodeType\":\"DOM\",\"type\":\"node\",\"instanceArgs\":{\"namespace\":\"html\",\"tag\":\"div\"},\"children\":[{\"props\":{},\"nodeType\":\"Scope\",\"type\":\"node\",\"instanceArgs\":{\"imports\":{\"data\":[{\"name\":\"knockout\",\"type\":\"js\",\"url\":\"\\/assetserver\\/24e2b70eb9e173a49e23c0745ccd248bfbf38bf9-knockout.js\"},{\"name\":\"knockout_punches\",\"type\":\"js\",\"url\":\"\\/assetserver\\/275b61436d7fa46a7116217771eb956e6cd64022-knockout_punches.js\"},{\"name\":null,\"type\":\"js\",\"url\":\"\\/assetserver\\/fcaf8a3b2c1be4f9bf6123d96dff4941add82233-all.js\"},{\"name\":null,\"type\":\"css\",\"url\":\"\\/assetserver\\/882a43841858d9b7554d0f72741df97d69de80fe-style.css\"},{\"name\":null,\"type\":\"css\",\"url\":\"\\/assetserver\\/404e7c5add19dc537a50ff822869948dc67ad8fa-bulma_confined.min.css\"}],\"type\":\"async_block\"},\"id\":\"knockout-component-72280751-70cb-4d3f-b8b3-f9b606ea0520\",\"handlers\":{\"changes\":[\"(function (val){return (val!=this.model[\\\"changes\\\"]()) ? (this.valueFromJulia[\\\"changes\\\"]=true, this.model[\\\"changes\\\"](val)) : undefined})\"],\"index\":[\"(function (val){return (val!=this.model[\\\"index\\\"]()) ? (this.valueFromJulia[\\\"index\\\"]=true, this.model[\\\"index\\\"](val)) : undefined})\"]},\"systemjs_options\":null,\"mount_callbacks\":[\"function () {\\n    var handler = (function (ko, koPunches) {\\n    ko.punches.enableAll();\\n    ko.bindingHandlers.numericValue = {\\n        init : function(element, valueAccessor, allBindings, data, context) {\\n            var stringified = ko.observable(ko.unwrap(valueAccessor()));\\n            stringified.subscribe(function(value) {\\n                var val = parseFloat(value);\\n                if (!isNaN(val)) {\\n                    valueAccessor()(val);\\n                }\\n            })\\n            valueAccessor().subscribe(function(value) {\\n                var str = JSON.stringify(value);\\n                if ((str == \\\"0\\\") && ([\\\"-0\\\", \\\"-0.\\\"].indexOf(stringified()) >= 0))\\n                     return;\\n                 if ([\\\"null\\\", \\\"\\\"].indexOf(str) >= 0)\\n                     return;\\n                stringified(str);\\n            })\\n            ko.applyBindingsToNode(element, { value: stringified, valueUpdate: allBindings.get('valueUpdate')}, context);\\n        }\\n    };\\n    var json_data = {\\\"formatted_vals\\\":[\\\"0.0\\\",\\\"0.00204082\\\",\\\"0.00408163\\\",\\\"0.00612245\\\",\\\"0.00816327\\\",\\\"0.0102041\\\",\\\"0.0122449\\\",\\\"0.0142857\\\",\\\"0.0163265\\\",\\\"0.0183673\\\",\\\"0.0204082\\\",\\\"0.022449\\\",\\\"0.0244898\\\",\\\"0.0265306\\\",\\\"0.0285714\\\",\\\"0.0306122\\\",\\\"0.0326531\\\",\\\"0.0346939\\\",\\\"0.0367347\\\",\\\"0.0387755\\\",\\\"0.0408163\\\",\\\"0.0428571\\\",\\\"0.044898\\\",\\\"0.0469388\\\",\\\"0.0489796\\\",\\\"0.0510204\\\",\\\"0.0530612\\\",\\\"0.055102\\\",\\\"0.0571429\\\",\\\"0.0591837\\\",\\\"0.0612245\\\",\\\"0.0632653\\\",\\\"0.0653061\\\",\\\"0.0673469\\\",\\\"0.0693878\\\",\\\"0.0714286\\\",\\\"0.0734694\\\",\\\"0.0755102\\\",\\\"0.077551\\\",\\\"0.0795918\\\",\\\"0.0816327\\\",\\\"0.0836735\\\",\\\"0.0857143\\\",\\\"0.0877551\\\",\\\"0.0897959\\\",\\\"0.0918367\\\",\\\"0.0938776\\\",\\\"0.0959184\\\",\\\"0.0979592\\\",\\\"0.1\\\"],\\\"changes\\\":WebIO.getval({\\\"name\\\":\\\"changes\\\",\\\"scope\\\":\\\"knockout-component-72280751-70cb-4d3f-b8b3-f9b606ea0520\\\",\\\"id\\\":\\\"ob_03\\\",\\\"type\\\":\\\"observable\\\"}),\\\"index\\\":WebIO.getval({\\\"name\\\":\\\"index\\\",\\\"scope\\\":\\\"knockout-component-72280751-70cb-4d3f-b8b3-f9b606ea0520\\\",\\\"id\\\":\\\"ob_02\\\",\\\"type\\\":\\\"observable\\\"})};\\n    var self = this;\\n    function AppViewModel() {\\n        for (var key in json_data) {\\n            var el = json_data[key];\\n            this[key] = Array.isArray(el) ? ko.observableArray(el) : ko.observable(el);\\n        }\\n        \\n        [this[\\\"formatted_val\\\"]=ko.computed(    function(){\\n        return this.formatted_vals()[parseInt(this.index())-1];\\n    }\\n,this)]\\n        [this[\\\"changes\\\"].subscribe((function (val){!(this.valueFromJulia[\\\"changes\\\"]) ? (WebIO.setval({\\\"name\\\":\\\"changes\\\",\\\"scope\\\":\\\"knockout-component-72280751-70cb-4d3f-b8b3-f9b606ea0520\\\",\\\"id\\\":\\\"ob_03\\\",\\\"type\\\":\\\"observable\\\"},val)) : undefined; return this.valueFromJulia[\\\"changes\\\"]=false}),self),this[\\\"index\\\"].subscribe((function (val){!(this.valueFromJulia[\\\"index\\\"]) ? (WebIO.setval({\\\"name\\\":\\\"index\\\",\\\"scope\\\":\\\"knockout-component-72280751-70cb-4d3f-b8b3-f9b606ea0520\\\",\\\"id\\\":\\\"ob_02\\\",\\\"type\\\":\\\"observable\\\"},val)) : undefined; return this.valueFromJulia[\\\"index\\\"]=false}),self)]\\n        \\n    }\\n    self.model = new AppViewModel();\\n    self.valueFromJulia = {};\\n    for (var key in json_data) {\\n        self.valueFromJulia[key] = false;\\n    }\\n    ko.applyBindings(self.model, self.dom);\\n}\\n);\\n    (WebIO.importBlock({\\\"data\\\":[{\\\"name\\\":\\\"knockout\\\",\\\"type\\\":\\\"js\\\",\\\"url\\\":\\\"\\/assetserver\\/24e2b70eb9e173a49e23c0745ccd248bfbf38bf9-knockout.js\\\"},{\\\"name\\\":\\\"knockout_punches\\\",\\\"type\\\":\\\"js\\\",\\\"url\\\":\\\"\\/assetserver\\/275b61436d7fa46a7116217771eb956e6cd64022-knockout_punches.js\\\"}],\\\"type\\\":\\\"async_block\\\"})).then((imports) => handler.apply(this, imports));\\n}\\n\"],\"observables\":{\"changes\":{\"sync\":false,\"id\":\"ob_03\",\"value\":0},\"index\":{\"sync\":true,\"id\":\"ob_02\",\"value\":25}}},\"children\":[{\"props\":{\"className\":\"interact-flex-row interact-widget\"},\"nodeType\":\"DOM\",\"type\":\"node\",\"instanceArgs\":{\"namespace\":\"html\",\"tag\":\"div\"},\"children\":[{\"props\":{\"className\":\"interact-flex-row-left\"},\"nodeType\":\"DOM\",\"type\":\"node\",\"instanceArgs\":{\"namespace\":\"html\",\"tag\":\"div\"},\"children\":[{\"props\":{\"className\":\"interact \",\"style\":{\"padding\":\"5px 10px 0px 10px\"}},\"nodeType\":\"DOM\",\"type\":\"node\",\"instanceArgs\":{\"namespace\":\"html\",\"tag\":\"label\"},\"children\":[\"s\"]}]},{\"props\":{\"className\":\"interact-flex-row-center\"},\"nodeType\":\"DOM\",\"type\":\"node\",\"instanceArgs\":{\"namespace\":\"html\",\"tag\":\"div\"},\"children\":[{\"props\":{\"max\":50,\"min\":1,\"attributes\":{\"type\":\"range\",\"data-bind\":\"numericValue: index, valueUpdate: 'input', event: {change: function (){this.changes(this.changes()+1)}}\",\"orient\":\"horizontal\"},\"step\":1,\"className\":\"slider slider is-fullwidth\",\"style\":{}},\"nodeType\":\"DOM\",\"type\":\"node\",\"instanceArgs\":{\"namespace\":\"html\",\"tag\":\"input\"},\"children\":[]}]},{\"props\":{\"className\":\"interact-flex-row-right\"},\"nodeType\":\"DOM\",\"type\":\"node\",\"instanceArgs\":{\"namespace\":\"html\",\"tag\":\"div\"},\"children\":[{\"props\":{\"attributes\":{\"data-bind\":\"text: formatted_val\"}},\"nodeType\":\"DOM\",\"type\":\"node\",\"instanceArgs\":{\"namespace\":\"html\",\"tag\":\"p\"},\"children\":[]}]}]}]}]},{\"props\":{\"className\":\"field interact-widget\"},\"nodeType\":\"DOM\",\"type\":\"node\",\"instanceArgs\":{\"namespace\":\"html\",\"tag\":\"div\"},\"children\":[{\"props\":{},\"nodeType\":\"Scope\",\"type\":\"node\",\"instanceArgs\":{\"imports\":{\"data\":[{\"name\":\"knockout\",\"type\":\"js\",\"url\":\"\\/assetserver\\/24e2b70eb9e173a49e23c0745ccd248bfbf38bf9-knockout.js\"},{\"name\":\"knockout_punches\",\"type\":\"js\",\"url\":\"\\/assetserver\\/275b61436d7fa46a7116217771eb956e6cd64022-knockout_punches.js\"},{\"name\":null,\"type\":\"js\",\"url\":\"\\/assetserver\\/fcaf8a3b2c1be4f9bf6123d96dff4941add82233-all.js\"},{\"name\":null,\"type\":\"css\",\"url\":\"\\/assetserver\\/882a43841858d9b7554d0f72741df97d69de80fe-style.css\"},{\"name\":null,\"type\":\"css\",\"url\":\"\\/assetserver\\/404e7c5add19dc537a50ff822869948dc67ad8fa-bulma_confined.min.css\"}],\"type\":\"async_block\"},\"id\":\"knockout-component-a4d08aa0-c44a-498b-941e-489783980994\",\"handlers\":{\"changes\":[\"(function (val){return (val!=this.model[\\\"changes\\\"]()) ? (this.valueFromJulia[\\\"changes\\\"]=true, this.model[\\\"changes\\\"](val)) : undefined})\"],\"index\":[\"(function (val){return (val!=this.model[\\\"index\\\"]()) ? (this.valueFromJulia[\\\"index\\\"]=true, this.model[\\\"index\\\"](val)) : undefined})\"]},\"systemjs_options\":null,\"mount_callbacks\":[\"function () {\\n    var handler = (function (ko, koPunches) {\\n    ko.punches.enableAll();\\n    ko.bindingHandlers.numericValue = {\\n        init : function(element, valueAccessor, allBindings, data, context) {\\n            var stringified = ko.observable(ko.unwrap(valueAccessor()));\\n            stringified.subscribe(function(value) {\\n                var val = parseFloat(value);\\n                if (!isNaN(val)) {\\n                    valueAccessor()(val);\\n                }\\n            })\\n            valueAccessor().subscribe(function(value) {\\n                var str = JSON.stringify(value);\\n                if ((str == \\\"0\\\") && ([\\\"-0\\\", \\\"-0.\\\"].indexOf(stringified()) >= 0))\\n                     return;\\n                 if ([\\\"null\\\", \\\"\\\"].indexOf(str) >= 0)\\n                     return;\\n                stringified(str);\\n            })\\n            ko.applyBindingsToNode(element, { value: stringified, valueUpdate: allBindings.get('valueUpdate')}, context);\\n        }\\n    };\\n    var json_data = {\\\"formatted_vals\\\":[\\\"0.1\\\",\\\"0.102041\\\",\\\"0.104082\\\",\\\"0.106122\\\",\\\"0.108163\\\",\\\"0.110204\\\",\\\"0.112245\\\",\\\"0.114286\\\",\\\"0.116327\\\",\\\"0.118367\\\",\\\"0.120408\\\",\\\"0.122449\\\",\\\"0.12449\\\",\\\"0.126531\\\",\\\"0.128571\\\",\\\"0.130612\\\",\\\"0.132653\\\",\\\"0.134694\\\",\\\"0.136735\\\",\\\"0.138776\\\",\\\"0.140816\\\",\\\"0.142857\\\",\\\"0.144898\\\",\\\"0.146939\\\",\\\"0.14898\\\",\\\"0.15102\\\",\\\"0.153061\\\",\\\"0.155102\\\",\\\"0.157143\\\",\\\"0.159184\\\",\\\"0.161224\\\",\\\"0.163265\\\",\\\"0.165306\\\",\\\"0.167347\\\",\\\"0.169388\\\",\\\"0.171429\\\",\\\"0.173469\\\",\\\"0.17551\\\",\\\"0.177551\\\",\\\"0.179592\\\",\\\"0.181633\\\",\\\"0.183673\\\",\\\"0.185714\\\",\\\"0.187755\\\",\\\"0.189796\\\",\\\"0.191837\\\",\\\"0.193878\\\",\\\"0.195918\\\",\\\"0.197959\\\",\\\"0.2\\\"],\\\"changes\\\":WebIO.getval({\\\"name\\\":\\\"changes\\\",\\\"scope\\\":\\\"knockout-component-a4d08aa0-c44a-498b-941e-489783980994\\\",\\\"id\\\":\\\"ob_06\\\",\\\"type\\\":\\\"observable\\\"}),\\\"index\\\":WebIO.getval({\\\"name\\\":\\\"index\\\",\\\"scope\\\":\\\"knockout-component-a4d08aa0-c44a-498b-941e-489783980994\\\",\\\"id\\\":\\\"ob_05\\\",\\\"type\\\":\\\"observable\\\"})};\\n    var self = this;\\n    function AppViewModel() {\\n        for (var key in json_data) {\\n            var el = json_data[key];\\n            this[key] = Array.isArray(el) ? ko.observableArray(el) : ko.observable(el);\\n        }\\n        \\n        [this[\\\"formatted_val\\\"]=ko.computed(    function(){\\n        return this.formatted_vals()[parseInt(this.index())-1];\\n    }\\n,this)]\\n        [this[\\\"changes\\\"].subscribe((function (val){!(this.valueFromJulia[\\\"changes\\\"]) ? (WebIO.setval({\\\"name\\\":\\\"changes\\\",\\\"scope\\\":\\\"knockout-component-a4d08aa0-c44a-498b-941e-489783980994\\\",\\\"id\\\":\\\"ob_06\\\",\\\"type\\\":\\\"observable\\\"},val)) : undefined; return this.valueFromJulia[\\\"changes\\\"]=false}),self),this[\\\"index\\\"].subscribe((function (val){!(this.valueFromJulia[\\\"index\\\"]) ? (WebIO.setval({\\\"name\\\":\\\"index\\\",\\\"scope\\\":\\\"knockout-component-a4d08aa0-c44a-498b-941e-489783980994\\\",\\\"id\\\":\\\"ob_05\\\",\\\"type\\\":\\\"observable\\\"},val)) : undefined; return this.valueFromJulia[\\\"index\\\"]=false}),self)]\\n        \\n    }\\n    self.model = new AppViewModel();\\n    self.valueFromJulia = {};\\n    for (var key in json_data) {\\n        self.valueFromJulia[key] = false;\\n    }\\n    ko.applyBindings(self.model, self.dom);\\n}\\n);\\n    (WebIO.importBlock({\\\"data\\\":[{\\\"name\\\":\\\"knockout\\\",\\\"type\\\":\\\"js\\\",\\\"url\\\":\\\"\\/assetserver\\/24e2b70eb9e173a49e23c0745ccd248bfbf38bf9-knockout.js\\\"},{\\\"name\\\":\\\"knockout_punches\\\",\\\"type\\\":\\\"js\\\",\\\"url\\\":\\\"\\/assetserver\\/275b61436d7fa46a7116217771eb956e6cd64022-knockout_punches.js\\\"}],\\\"type\\\":\\\"async_block\\\"})).then((imports) => handler.apply(this, imports));\\n}\\n\"],\"observables\":{\"changes\":{\"sync\":false,\"id\":\"ob_06\",\"value\":0},\"index\":{\"sync\":true,\"id\":\"ob_05\",\"value\":25}}},\"children\":[{\"props\":{\"className\":\"interact-flex-row interact-widget\"},\"nodeType\":\"DOM\",\"type\":\"node\",\"instanceArgs\":{\"namespace\":\"html\",\"tag\":\"div\"},\"children\":[{\"props\":{\"className\":\"interact-flex-row-left\"},\"nodeType\":\"DOM\",\"type\":\"node\",\"instanceArgs\":{\"namespace\":\"html\",\"tag\":\"div\"},\"children\":[{\"props\":{\"className\":\"interact \",\"style\":{\"padding\":\"5px 10px 0px 10px\"}},\"nodeType\":\"DOM\",\"type\":\"node\",\"instanceArgs\":{\"namespace\":\"html\",\"tag\":\"label\"},\"children\":[\"r\"]}]},{\"props\":{\"className\":\"interact-flex-row-center\"},\"nodeType\":\"DOM\",\"type\":\"node\",\"instanceArgs\":{\"namespace\":\"html\",\"tag\":\"div\"},\"children\":[{\"props\":{\"max\":50,\"min\":1,\"attributes\":{\"type\":\"range\",\"data-bind\":\"numericValue: index, valueUpdate: 'input', event: {change: function (){this.changes(this.changes()+1)}}\",\"orient\":\"horizontal\"},\"step\":1,\"className\":\"slider slider is-fullwidth\",\"style\":{}},\"nodeType\":\"DOM\",\"type\":\"node\",\"instanceArgs\":{\"namespace\":\"html\",\"tag\":\"input\"},\"children\":[]}]},{\"props\":{\"className\":\"interact-flex-row-right\"},\"nodeType\":\"DOM\",\"type\":\"node\",\"instanceArgs\":{\"namespace\":\"html\",\"tag\":\"div\"},\"children\":[{\"props\":{\"attributes\":{\"data-bind\":\"text: formatted_val\"}},\"nodeType\":\"DOM\",\"type\":\"node\",\"instanceArgs\":{\"namespace\":\"html\",\"tag\":\"p\"},\"children\":[]}]}]}]}]},{\"props\":{},\"nodeType\":\"Scope\",\"type\":\"node\",\"instanceArgs\":{\"imports\":{\"data\":[],\"type\":\"async_block\"},\"id\":\"scope-78af24e8-7721-45c3-b44b-7dcd5ddfba12\",\"handlers\":{},\"systemjs_options\":null,\"mount_callbacks\":[],\"observables\":{\"obs-node\":{\"sync\":false,\"id\":\"ob_10\",\"value\":{\"props\":{\"className\":\"interact-flex-row interact-widget\"},\"nodeType\":\"DOM\",\"type\":\"node\",\"instanceArgs\":{\"namespace\":\"html\",\"tag\":\"div\"},\"children\":[{\"props\":{\"setInnerHtml\":\"<?xml version=\\\"1.0\\\" encoding=\\\"utf-8\\\"?>\\n<svg xmlns=\\\"http:\\/\\/www.w3.org\\/2000\\/svg\\\" xmlns:xlink=\\\"http:\\/\\/www.w3.org\\/1999\\/xlink\\\" width=\\\"900\\\" height=\\\"400\\\" viewBox=\\\"0 0 3600 1600\\\">\\n<defs>\\n  <clipPath id=\\\"clip5400\\\">\\n    <rect x=\\\"0\\\" y=\\\"0\\\" width=\\\"3600\\\" height=\\\"1600\\\"\\/>\\n  <\\/clipPath>\\n<\\/defs>\\n<polygon clip-path=\\\"url(#clip5400)\\\" points=\\\"\\n0,1600 3600,1600 3600,0 0,0 \\n  \\\" fill=\\\"#ffffff\\\" fill-rule=\\\"evenodd\\\" fill-opacity=\\\"1\\\"\\/>\\n<defs>\\n  <clipPath id=\\\"clip5401\\\">\\n    <rect x=\\\"720\\\" y=\\\"0\\\" width=\\\"2521\\\" height=\\\"1600\\\"\\/>\\n  <\\/clipPath>\\n<\\/defs>\\n<polygon clip-path=\\\"url(#clip5400)\\\" points=\\\"\\n161.394,1514.65 3521.26,1514.65 3521.26,47.2441 161.394,47.2441 \\n  \\\" fill=\\\"#ffffff\\\" fill-rule=\\\"evenodd\\\" fill-opacity=\\\"1\\\"\\/>\\n<defs>\\n  <clipPath id=\\\"clip5402\\\">\\n    <rect x=\\\"161\\\" y=\\\"47\\\" width=\\\"3361\\\" height=\\\"1468\\\"\\/>\\n  <\\/clipPath>\\n<\\/defs>\\n<polyline clip-path=\\\"url(#clip5402)\\\" style=\\\"stroke:#000000; stroke-width:2; stroke-opacity:0.1; fill:none\\\" points=\\\"\\n  161.394,1514.65 161.394,47.2441 \\n  \\\"\\/>\\n<polyline clip-path=\\\"url(#clip5402)\\\" style=\\\"stroke:#000000; stroke-width:2; stroke-opacity:0.1; fill:none\\\" points=\\\"\\n  833.367,1514.65 833.367,47.2441 \\n  \\\"\\/>\\n<polyline clip-path=\\\"url(#clip5402)\\\" style=\\\"stroke:#000000; stroke-width:2; stroke-opacity:0.1; fill:none\\\" points=\\\"\\n  1505.34,1514.65 1505.34,47.2441 \\n  \\\"\\/>\\n<polyline clip-path=\\\"url(#clip5402)\\\" style=\\\"stroke:#000000; stroke-width:2; stroke-opacity:0.1; fill:none\\\" points=\\\"\\n  2177.31,1514.65 2177.31,47.2441 \\n  \\\"\\/>\\n<polyline clip-path=\\\"url(#clip5402)\\\" style=\\\"stroke:#000000; stroke-width:2; stroke-opacity:0.1; fill:none\\\" points=\\\"\\n  2849.29,1514.65 2849.29,47.2441 \\n  \\\"\\/>\\n<polyline clip-path=\\\"url(#clip5402)\\\" style=\\\"stroke:#000000; stroke-width:2; stroke-opacity:0.1; fill:none\\\" points=\\\"\\n  3521.26,1514.65 3521.26,47.2441 \\n  \\\"\\/>\\n<polyline clip-path=\\\"url(#clip5402)\\\" style=\\\"stroke:#000000; stroke-width:2; stroke-opacity:0.1; fill:none\\\" points=\\\"\\n  161.394,1514.65 3521.26,1514.65 \\n  \\\"\\/>\\n<polyline clip-path=\\\"url(#clip5402)\\\" style=\\\"stroke:#000000; stroke-width:2; stroke-opacity:0.1; fill:none\\\" points=\\\"\\n  161.394,1221.17 3521.26,1221.17 \\n  \\\"\\/>\\n<polyline clip-path=\\\"url(#clip5402)\\\" style=\\\"stroke:#000000; stroke-width:2; stroke-opacity:0.1; fill:none\\\" points=\\\"\\n  161.394,927.689 3521.26,927.689 \\n  \\\"\\/>\\n<polyline clip-path=\\\"url(#clip5402)\\\" style=\\\"stroke:#000000; stroke-width:2; stroke-opacity:0.1; fill:none\\\" points=\\\"\\n  161.394,634.207 3521.26,634.207 \\n  \\\"\\/>\\n<polyline clip-path=\\\"url(#clip5402)\\\" style=\\\"stroke:#000000; stroke-width:2; stroke-opacity:0.1; fill:none\\\" points=\\\"\\n  161.394,340.726 3521.26,340.726 \\n  \\\"\\/>\\n<polyline clip-path=\\\"url(#clip5402)\\\" style=\\\"stroke:#000000; stroke-width:2; stroke-opacity:0.1; fill:none\\\" points=\\\"\\n  161.394,47.2441 3521.26,47.2441 \\n  \\\"\\/>\\n<polyline clip-path=\\\"url(#clip5400)\\\" style=\\\"stroke:#000000; stroke-width:4; stroke-opacity:1; fill:none\\\" points=\\\"\\n  161.394,1514.65 3521.26,1514.65 \\n  \\\"\\/>\\n<polyline clip-path=\\\"url(#clip5400)\\\" style=\\\"stroke:#000000; stroke-width:4; stroke-opacity:1; fill:none\\\" points=\\\"\\n  161.394,1514.65 161.394,47.2441 \\n  \\\"\\/>\\n<polyline clip-path=\\\"url(#clip5400)\\\" style=\\\"stroke:#000000; stroke-width:4; stroke-opacity:1; fill:none\\\" points=\\\"\\n  161.394,1514.65 161.394,1492.64 \\n  \\\"\\/>\\n<polyline clip-path=\\\"url(#clip5400)\\\" style=\\\"stroke:#000000; stroke-width:4; stroke-opacity:1; fill:none\\\" points=\\\"\\n  833.367,1514.65 833.367,1492.64 \\n  \\\"\\/>\\n<polyline clip-path=\\\"url(#clip5400)\\\" style=\\\"stroke:#000000; stroke-width:4; stroke-opacity:1; fill:none\\\" points=\\\"\\n  1505.34,1514.65 1505.34,1492.64 \\n  \\\"\\/>\\n<polyline clip-path=\\\"url(#clip5400)\\\" style=\\\"stroke:#000000; stroke-width:4; stroke-opacity:1; fill:none\\\" points=\\\"\\n  2177.31,1514.65 2177.31,1492.64 \\n  \\\"\\/>\\n<polyline clip-path=\\\"url(#clip5400)\\\" style=\\\"stroke:#000000; stroke-width:4; stroke-opacity:1; fill:none\\\" points=\\\"\\n  2849.29,1514.65 2849.29,1492.64 \\n  \\\"\\/>\\n<polyline clip-path=\\\"url(#clip5400)\\\" style=\\\"stroke:#000000; stroke-width:4; stroke-opacity:1; fill:none\\\" points=\\\"\\n  3521.26,1514.65 3521.26,1492.64 \\n  \\\"\\/>\\n<polyline clip-path=\\\"url(#clip5400)\\\" style=\\\"stroke:#000000; stroke-width:4; stroke-opacity:1; fill:none\\\" points=\\\"\\n  161.394,1514.65 211.792,1514.65 \\n  \\\"\\/>\\n<polyline clip-path=\\\"url(#clip5400)\\\" style=\\\"stroke:#000000; stroke-width:4; stroke-opacity:1; fill:none\\\" points=\\\"\\n  161.394,1221.17 211.792,1221.17 \\n  \\\"\\/>\\n<polyline clip-path=\\\"url(#clip5400)\\\" style=\\\"stroke:#000000; stroke-width:4; stroke-opacity:1; fill:none\\\" points=\\\"\\n  161.394,927.689 211.792,927.689 \\n  \\\"\\/>\\n<polyline clip-path=\\\"url(#clip5400)\\\" style=\\\"stroke:#000000; stroke-width:4; stroke-opacity:1; fill:none\\\" points=\\\"\\n  161.394,634.207 211.792,634.207 \\n  \\\"\\/>\\n<polyline clip-path=\\\"url(#clip5400)\\\" style=\\\"stroke:#000000; stroke-width:4; stroke-opacity:1; fill:none\\\" points=\\\"\\n  161.394,340.726 211.792,340.726 \\n  \\\"\\/>\\n<polyline clip-path=\\\"url(#clip5400)\\\" style=\\\"stroke:#000000; stroke-width:4; stroke-opacity:1; fill:none\\\" points=\\\"\\n  161.394,47.2441 211.792,47.2441 \\n  \\\"\\/>\\n<g clip-path=\\\"url(#clip5400)\\\">\\n<text style=\\\"fill:#000000; fill-opacity:1; font-family:Arial,Helvetica Neue,Helvetica,sans-serif; font-size:48px; text-anchor:middle;\\\" transform=\\\"rotate(0, 161.394, 1574.65)\\\" x=\\\"161.394\\\" y=\\\"1574.65\\\">0.0<\\/text>\\n<\\/g>\\n<g clip-path=\\\"url(#clip5400)\\\">\\n<text style=\\\"fill:#000000; fill-opacity:1; font-family:Arial,Helvetica Neue,Helvetica,sans-serif; font-size:48px; text-anchor:middle;\\\" transform=\\\"rotate(0, 833.367, 1574.65)\\\" x=\\\"833.367\\\" y=\\\"1574.65\\\">0.2<\\/text>\\n<\\/g>\\n<g clip-path=\\\"url(#clip5400)\\\">\\n<text style=\\\"fill:#000000; fill-opacity:1; font-family:Arial,Helvetica Neue,Helvetica,sans-serif; font-size:48px; text-anchor:middle;\\\" transform=\\\"rotate(0, 1505.34, 1574.65)\\\" x=\\\"1505.34\\\" y=\\\"1574.65\\\">0.4<\\/text>\\n<\\/g>\\n<g clip-path=\\\"url(#clip5400)\\\">\\n<text style=\\\"fill:#000000; fill-opacity:1; font-family:Arial,Helvetica Neue,Helvetica,sans-serif; font-size:48px; text-anchor:middle;\\\" transform=\\\"rotate(0, 2177.31, 1574.65)\\\" x=\\\"2177.31\\\" y=\\\"1574.65\\\">0.6<\\/text>\\n<\\/g>\\n<g clip-path=\\\"url(#clip5400)\\\">\\n<text style=\\\"fill:#000000; fill-opacity:1; font-family:Arial,Helvetica Neue,Helvetica,sans-serif; font-size:48px; text-anchor:middle;\\\" transform=\\\"rotate(0, 2849.29, 1574.65)\\\" x=\\\"2849.29\\\" y=\\\"1574.65\\\">0.8<\\/text>\\n<\\/g>\\n<g clip-path=\\\"url(#clip5400)\\\">\\n<text style=\\\"fill:#000000; fill-opacity:1; font-family:Arial,Helvetica Neue,Helvetica,sans-serif; font-size:48px; text-anchor:middle;\\\" transform=\\\"rotate(0, 3521.26, 1574.65)\\\" x=\\\"3521.26\\\" y=\\\"1574.65\\\">1.0<\\/text>\\n<\\/g>\\n<g clip-path=\\\"url(#clip5400)\\\">\\n<text style=\\\"fill:#000000; fill-opacity:1; font-family:Arial,Helvetica Neue,Helvetica,sans-serif; font-size:48px; text-anchor:end;\\\" transform=\\\"rotate(0, 125.394, 1532.15)\\\" x=\\\"125.394\\\" y=\\\"1532.15\\\">0.0<\\/text>\\n<\\/g>\\n<g clip-path=\\\"url(#clip5400)\\\">\\n<text style=\\\"fill:#000000; fill-opacity:1; font-family:Arial,Helvetica Neue,Helvetica,sans-serif; font-size:48px; text-anchor:end;\\\" transform=\\\"rotate(0, 125.394, 1238.67)\\\" x=\\\"125.394\\\" y=\\\"1238.67\\\">0.2<\\/text>\\n<\\/g>\\n<g clip-path=\\\"url(#clip5400)\\\">\\n<text style=\\\"fill:#000000; fill-opacity:1; font-family:Arial,Helvetica Neue,Helvetica,sans-serif; font-size:48px; text-anchor:end;\\\" transform=\\\"rotate(0, 125.394, 945.189)\\\" x=\\\"125.394\\\" y=\\\"945.189\\\">0.4<\\/text>\\n<\\/g>\\n<g clip-path=\\\"url(#clip5400)\\\">\\n<text style=\\\"fill:#000000; fill-opacity:1; font-family:Arial,Helvetica Neue,Helvetica,sans-serif; font-size:48px; text-anchor:end;\\\" transform=\\\"rotate(0, 125.394, 651.707)\\\" x=\\\"125.394\\\" y=\\\"651.707\\\">0.6<\\/text>\\n<\\/g>\\n<g clip-path=\\\"url(#clip5400)\\\">\\n<text style=\\\"fill:#000000; fill-opacity:1; font-family:Arial,Helvetica Neue,Helvetica,sans-serif; font-size:48px; text-anchor:end;\\\" transform=\\\"rotate(0, 125.394, 358.226)\\\" x=\\\"125.394\\\" y=\\\"358.226\\\">0.8<\\/text>\\n<\\/g>\\n<g clip-path=\\\"url(#clip5400)\\\">\\n<text style=\\\"fill:#000000; fill-opacity:1; font-family:Arial,Helvetica Neue,Helvetica,sans-serif; font-size:48px; text-anchor:end;\\\" transform=\\\"rotate(0, 125.394, 64.7441)\\\" x=\\\"125.394\\\" y=\\\"64.7441\\\">1.0<\\/text>\\n<\\/g>\\n<circle clip-path=\\\"url(#clip5402)\\\" style=\\\"fill:#000000; stroke:none; fill-opacity:1\\\" cx=\\\"497.381\\\" cy=\\\"647.946\\\" r=\\\"18\\\"\\/>\\n<circle clip-path=\\\"url(#clip5402)\\\" style=\\\"fill:#009af9; stroke:none; fill-opacity:1\\\" cx=\\\"497.381\\\" cy=\\\"647.946\\\" r=\\\"14\\\"\\/>\\n<circle clip-path=\\\"url(#clip5402)\\\" style=\\\"fill:#000000; stroke:none; fill-opacity:1\\\" cx=\\\"796.035\\\" cy=\\\"651.032\\\" r=\\\"18\\\"\\/>\\n<circle clip-path=\\\"url(#clip5402)\\\" style=\\\"fill:#009af9; stroke:none; fill-opacity:1\\\" cx=\\\"796.035\\\" cy=\\\"651.032\\\" r=\\\"14\\\"\\/>\\n<circle clip-path=\\\"url(#clip5402)\\\" style=\\\"fill:#000000; stroke:none; fill-opacity:1\\\" cx=\\\"1094.69\\\" cy=\\\"1314.18\\\" r=\\\"18\\\"\\/>\\n<circle clip-path=\\\"url(#clip5402)\\\" style=\\\"fill:#009af9; stroke:none; fill-opacity:1\\\" cx=\\\"1094.69\\\" cy=\\\"1314.18\\\" r=\\\"14\\\"\\/>\\n<circle clip-path=\\\"url(#clip5402)\\\" style=\\\"fill:#000000; stroke:none; fill-opacity:1\\\" cx=\\\"1393.34\\\" cy=\\\"790.458\\\" r=\\\"18\\\"\\/>\\n<circle clip-path=\\\"url(#clip5402)\\\" style=\\\"fill:#009af9; stroke:none; fill-opacity:1\\\" cx=\\\"1393.34\\\" cy=\\\"790.458\\\" r=\\\"14\\\"\\/>\\n<circle clip-path=\\\"url(#clip5402)\\\" style=\\\"fill:#000000; stroke:none; fill-opacity:1\\\" cx=\\\"1692\\\" cy=\\\"723.168\\\" r=\\\"18\\\"\\/>\\n<circle clip-path=\\\"url(#clip5402)\\\" style=\\\"fill:#009af9; stroke:none; fill-opacity:1\\\" cx=\\\"1692\\\" cy=\\\"723.168\\\" r=\\\"14\\\"\\/>\\n<circle clip-path=\\\"url(#clip5402)\\\" style=\\\"fill:#000000; stroke:none; fill-opacity:1\\\" cx=\\\"1990.65\\\" cy=\\\"764.113\\\" r=\\\"18\\\"\\/>\\n<circle clip-path=\\\"url(#clip5402)\\\" style=\\\"fill:#009af9; stroke:none; fill-opacity:1\\\" cx=\\\"1990.65\\\" cy=\\\"764.113\\\" r=\\\"14\\\"\\/>\\n<circle clip-path=\\\"url(#clip5402)\\\" style=\\\"fill:#000000; stroke:none; fill-opacity:1\\\" cx=\\\"2289.31\\\" cy=\\\"404.942\\\" r=\\\"18\\\"\\/>\\n<circle clip-path=\\\"url(#clip5402)\\\" style=\\\"fill:#009af9; stroke:none; fill-opacity:1\\\" cx=\\\"2289.31\\\" cy=\\\"404.942\\\" r=\\\"14\\\"\\/>\\n<circle clip-path=\\\"url(#clip5402)\\\" style=\\\"fill:#000000; stroke:none; fill-opacity:1\\\" cx=\\\"2587.96\\\" cy=\\\"612.667\\\" r=\\\"18\\\"\\/>\\n<circle clip-path=\\\"url(#clip5402)\\\" style=\\\"fill:#009af9; stroke:none; fill-opacity:1\\\" cx=\\\"2587.96\\\" cy=\\\"612.667\\\" r=\\\"14\\\"\\/>\\n<circle clip-path=\\\"url(#clip5402)\\\" style=\\\"fill:#000000; stroke:none; fill-opacity:1\\\" cx=\\\"2886.62\\\" cy=\\\"429.098\\\" r=\\\"18\\\"\\/>\\n<circle clip-path=\\\"url(#clip5402)\\\" style=\\\"fill:#009af9; stroke:none; fill-opacity:1\\\" cx=\\\"2886.62\\\" cy=\\\"429.098\\\" r=\\\"14\\\"\\/>\\n<circle clip-path=\\\"url(#clip5402)\\\" style=\\\"fill:#000000; stroke:none; fill-opacity:1\\\" cx=\\\"3185.27\\\" cy=\\\"805.985\\\" r=\\\"18\\\"\\/>\\n<circle clip-path=\\\"url(#clip5402)\\\" style=\\\"fill:#009af9; stroke:none; fill-opacity:1\\\" cx=\\\"3185.27\\\" cy=\\\"805.985\\\" r=\\\"14\\\"\\/>\\n<polygon clip-path=\\\"url(#clip5402)\\\" points=\\\"\\n161.394,1086.66 178.278,1081.46 195.162,1075.09 212.045,1067.37 228.929,1058.13 245.813,1047.19 262.697,1034.37 279.58,1019.52 296.464,1002.52 313.348,983.247 \\n  330.232,961.658 347.115,937.732 363.999,911.508 380.883,883.084 397.767,852.622 414.65,820.35 431.534,786.564 448.418,751.628 465.301,715.976 482.185,680.126 \\n  499.069,649.661 515.953,656.96 532.836,663.144 549.72,667.415 566.604,669.694 583.488,669.998 600.371,668.44 617.255,665.229 634.139,660.67 651.023,655.159 \\n  667.906,649.175 684.79,643.271 701.674,638.05 718.558,634.156 735.441,632.243 752.325,632.958 769.209,636.917 786.093,644.746 802.976,671.774 819.86,723.972 \\n  836.744,779.371 853.628,836.873 870.511,895.436 887.395,953.985 904.279,1011.42 921.163,1066.66 938.046,1118.66 954.93,1166.41 971.814,1209.03 988.698,1245.73 \\n  1005.58,1275.87 1022.47,1298.97 1039.35,1314.7 1056.23,1322.94 1073.12,1323.75 1090,1317.61 1106.88,1329.82 1123.77,1345.02 1140.65,1352.77 1157.54,1352.8 \\n  1174.42,1345.05 1191.3,1329.67 1208.19,1306.96 1225.07,1277.39 1241.95,1241.6 1258.84,1200.34 1275.72,1154.47 1292.61,1104.96 1309.49,1052.8 1326.37,999.061 \\n  1343.26,944.785 1360.14,891.023 1377.02,838.807 1393.91,791.604 1410.79,779.113 1427.68,770.929 1444.56,765.28 1461.44,761.665 1478.33,759.585 1495.21,758.543 \\n  1512.09,758.066 1528.98,757.724 1545.86,757.148 1562.75,756.045 1579.63,754.206 1596.51,751.511 1613.4,747.931 1630.28,743.525 1647.16,738.433 1664.05,732.868 \\n  1680.93,727.155 1697.82,733.833 1714.7,763.424 1731.58,792.413 1748.47,819.835 1765.35,844.94 1782.23,867.049 1799.12,885.55 1816,899.919 1832.89,909.723 \\n  1849.77,914.632 1866.65,914.427 1883.54,909.005 1900.42,898.382 1917.3,882.693 1934.19,862.192 1951.07,837.25 1967.96,808.354 1984.84,776.263 2001.72,764.345 \\n  2018.61,761.99 2035.49,756.629 2052.37,747.965 2069.26,735.864 2086.14,720.313 2103.03,701.423 2119.91,679.423 2136.79,654.661 2153.68,627.594 2170.56,598.773 \\n  2187.44,568.83 2204.33,538.456 2221.21,508.384 2238.1,479.358 2254.98,452.118 2271.86,427.394 2288.75,407.177 2305.63,422.087 2322.51,442.629 2339.4,465.543 \\n  2356.28,490.003 2373.16,515.169 2390.05,540.199 2406.93,564.263 2423.82,586.571 2440.7,606.4 2457.58,623.108 2474.47,636.161 2491.35,645.146 2508.23,649.781 \\n  2525.12,649.928 2542,645.595 2558.89,636.94 2575.77,624.308 2592.65,618.138 2609.54,633.783 2626.42,645.852 2643.3,653.738 2660.19,657.206 2677.07,656.174 \\n  2693.96,650.709 2710.84,641.018 2727.72,627.446 2744.61,610.465 2761.49,590.656 2778.37,568.694 2795.26,545.328 2812.14,521.357 2829.03,497.605 2845.91,474.902 \\n  2862.79,454.063 2879.68,435.986 2896.56,442.456 2913.44,467.343 2930.33,495.173 2947.21,525.192 2964.1,556.662 2980.98,588.826 2997.86,620.926 3014.75,652.219 \\n  3031.63,682.005 3048.51,709.641 3065.4,734.563 3082.28,756.296 3099.17,774.466 3116.05,788.808 3132.93,799.168 3149.82,805.503 3166.7,807.891 3183.58,807.149 \\n  3200.47,842.197 3217.35,880.723 3234.24,917.234 3251.12,951.323 3268,982.692 3284.89,1011.13 3301.77,1036.49 3318.65,1058.74 3335.54,1077.89 3352.42,1094.03 \\n  3369.31,1107.29 3386.19,1117.87 3403.07,1126 3419.96,1131.92 3436.84,1135.91 3453.72,1138.25 3470.61,1139.19 3487.49,1139.01 3504.38,1137.95 3521.26,1136.24 \\n  3521.26,511.684 3504.38,521.072 3487.49,531.634 3470.61,543.42 3453.72,556.457 3436.84,570.745 3419.96,586.248 3403.07,602.89 3386.19,620.55 3369.31,639.06 \\n  3352.42,658.198 3335.54,677.696 3318.65,697.233 3301.77,716.448 3284.89,734.939 3268,752.278 3251.12,768.018 3234.24,781.71 3217.35,792.908 3200.47,801.171 \\n  3183.58,801.085 3166.7,760.547 3149.82,718.815 3132.93,677.177 3116.05,636.308 3099.17,596.882 3082.28,559.566 3065.4,525.004 3048.51,493.797 3031.63,466.485 \\n  3014.75,443.528 2997.86,425.291 2980.98,412.03 2964.1,403.881 2947.21,400.854 2930.33,402.824 2913.44,409.53 2896.56,420.515 2879.68,420.415 2862.79,403.012 \\n  2845.91,389.809 2829.03,381.23 2812.14,377.436 2795.26,378.441 2778.37,384.12 2761.49,394.209 2744.61,408.315 2727.72,425.93 2710.84,446.442 2693.96,469.154 \\n  2677.07,493.308 2660.19,518.105 2643.3,542.729 2626.42,566.371 2609.54,588.241 2592.65,607.37 2575.77,598.21 2558.89,576.164 2542,551.925 2525.12,526.293 \\n  2508.23,500.068 2491.35,474.065 2474.47,449.092 2457.58,425.934 2440.7,405.319 2423.82,387.905 2406.93,374.254 2390.05,364.817 2373.16,359.923 2356.28,359.765 \\n  2339.4,364.397 2322.51,373.727 2305.63,387.505 2288.75,402.86 2271.86,390.489 2254.98,381.002 2238.1,376.19 2221.21,376.389 2204.33,381.779 2187.44,392.393 \\n  2170.56,408.124 2153.68,428.727 2136.79,453.83 2119.91,482.942 2103.03,515.47 2086.14,550.735 2069.26,587.989 2052.37,626.439 2035.49,665.262 2018.61,703.622 \\n  2001.72,740.643 1984.84,763.3 1967.96,760.661 1951.07,755.895 1934.19,749.687 1917.3,742.56 1900.42,735.022 1883.54,727.552 1866.65,720.586 1849.77,714.497 \\n  1832.89,709.588 1816,706.078 1799.12,704.097 1782.23,703.689 1765.35,704.808 1748.47,707.33 1731.58,711.059 1714.7,715.731 1697.82,720.87 1680.93,703.452 \\n  1664.05,674.5 1647.16,647.066 1630.28,622 1613.4,600.057 1596.51,581.932 1579.63,568.253 1562.75,559.564 1545.86,556.316 1528.98,558.857 1512.09,567.417 \\n  1495.21,582.106 1478.33,602.907 1461.44,629.67 1444.56,662.112 1427.68,699.813 1410.79,742.208 1393.91,787.286 1377.02,804.226 1360.14,822.121 1343.26,843.639 \\n  1326.37,868.824 1309.49,897.559 1292.61,929.576 1275.72,964.464 1258.84,1001.67 1241.95,1040.52 1225.07,1080.22 1208.19,1119.89 1191.3,1158.59 1174.42,1195.34 \\n  1157.54,1229.16 1140.65,1259.1 1123.77,1284.24 1106.88,1303.73 1090,1306.84 1073.12,1278.21 1056.23,1243.46 1039.35,1203.7 1022.47,1159.87 1005.58,1113.01 \\n  988.698,1064.18 971.814,1014.45 954.93,964.894 938.046,916.506 921.163,870.217 904.279,826.85 887.395,787.098 870.511,751.515 853.628,720.498 836.744,694.278 \\n  819.86,672.92 802.976,656.204 786.093,622.805 769.209,579.104 752.325,540.609 735.441,507.906 718.558,481.376 701.674,461.254 684.79,447.636 667.906,440.484 \\n  651.023,439.639 634.139,444.826 617.255,455.67 600.371,471.71 583.488,492.413 566.604,517.194 549.72,545.425 532.836,576.456 515.953,609.615 499.069,643.597 \\n  482.185,639.1 465.301,628.161 448.418,616.105 431.534,603.259 414.65,589.936 397.767,576.435 380.883,563.038 363.999,549.999 347.115,537.537 330.232,525.83 \\n  313.348,515.017 296.464,505.194 279.58,496.414 262.697,488.694 245.813,482.019 228.929,476.344 212.045,471.603 195.162,467.713 178.278,464.582 161.394,462.112 \\n  \\n  \\\" fill=\\\"#e26f46\\\" fill-rule=\\\"evenodd\\\" fill-opacity=\\\"0.5\\\"\\/>\\n<polyline clip-path=\\\"url(#clip5402)\\\" style=\\\"stroke:#e26f46; stroke-width:4; stroke-opacity:1; fill:none\\\" points=\\\"\\n  161.394,774.388 178.278,773.021 195.162,771.401 212.045,769.488 228.929,767.239 245.813,764.604 262.697,761.532 279.58,757.968 296.464,753.855 313.348,749.132 \\n  330.232,743.744 347.115,737.634 363.999,730.754 380.883,723.061 397.767,714.529 414.65,705.143 431.534,694.911 448.418,683.866 465.301,672.069 482.185,659.613 \\n  499.069,646.629 515.953,633.287 532.836,619.8 549.72,606.42 566.604,593.444 583.488,581.205 600.371,570.075 617.255,560.449 634.139,552.748 651.023,547.399 \\n  667.906,544.83 684.79,545.453 701.674,549.652 718.558,557.766 735.441,570.075 752.325,586.783 769.209,608.011 786.093,633.776 802.976,663.989 819.86,698.446 \\n  836.744,736.825 853.628,778.685 870.511,823.476 887.395,870.542 904.279,919.136 921.163,968.441 938.046,1017.58 954.93,1065.65 971.814,1111.74 988.698,1154.95 \\n  1005.58,1194.44 1022.47,1229.42 1039.35,1259.2 1056.23,1283.2 1073.12,1300.98 1090,1312.22 1106.88,1316.78 1123.77,1314.63 1140.65,1305.93 1157.54,1290.98 \\n  1174.42,1270.2 1191.3,1244.13 1208.19,1213.42 1225.07,1178.8 1241.95,1141.06 1258.84,1101 1275.72,1059.47 1292.61,1017.27 1309.49,975.182 1326.37,933.943 \\n  1343.26,894.212 1360.14,856.572 1377.02,821.517 1393.91,789.445 1410.79,760.66 1427.68,735.371 1444.56,713.696 1461.44,695.668 1478.33,681.246 1495.21,670.325 \\n  1512.09,662.741 1528.98,658.29 1545.86,656.732 1562.75,657.805 1579.63,661.23 1596.51,666.721 1613.4,673.994 1630.28,682.762 1647.16,692.749 1664.05,703.684 \\n  1680.93,715.303 1697.82,727.351 1714.7,739.578 1731.58,751.736 1748.47,763.582 1765.35,774.874 1782.23,785.369 1799.12,794.824 1816,802.998 1832.89,809.655 \\n  1849.77,814.565 1866.65,817.506 1883.54,818.279 1900.42,816.702 1917.3,812.626 1934.19,805.94 1951.07,796.573 1967.96,784.507 1984.84,769.782 2001.72,752.494 \\n  2018.61,732.806 2035.49,710.946 2052.37,687.202 2069.26,661.926 2086.14,635.524 2103.03,608.446 2119.91,581.182 2136.79,554.246 2153.68,528.161 2170.56,503.448 \\n  2187.44,480.611 2204.33,460.118 2221.21,442.386 2238.1,427.774 2254.98,416.56 2271.86,408.941 2288.75,405.019 2305.63,404.796 2322.51,408.178 2339.4,414.97 \\n  2356.28,424.884 2373.16,437.546 2390.05,452.508 2406.93,469.258 2423.82,487.238 2440.7,505.859 2457.58,524.521 2474.47,542.627 2491.35,559.605 2508.23,574.925 \\n  2525.12,588.111 2542,598.76 2558.89,606.552 2575.77,611.259 2592.65,612.754 2609.54,611.012 2626.42,606.111 2643.3,598.234 2660.19,587.656 2677.07,574.741 \\n  2693.96,559.931 2710.84,543.73 2727.72,526.688 2744.61,509.39 2761.49,492.432 2778.37,476.407 2795.26,461.885 2812.14,449.396 2829.03,439.417 2845.91,432.356 \\n  2862.79,428.538 2879.68,428.2 2896.56,431.486 2913.44,438.437 2930.33,448.999 2947.21,463.023 2964.1,480.271 2980.98,500.428 2997.86,523.108 3014.75,547.874 \\n  3031.63,574.245 3048.51,601.719 3065.4,629.784 3082.28,657.931 3099.17,685.674 3116.05,712.558 3132.93,738.173 3149.82,762.159 3166.7,784.219 3183.58,804.117 \\n  3200.47,821.684 3217.35,836.816 3234.24,849.472 3251.12,859.671 3268,867.485 3284.89,873.032 3301.77,876.471 3318.65,877.987 3335.54,877.793 3352.42,876.112 \\n  3369.31,873.175 3386.19,869.211 3403.07,864.444 3419.96,859.086 3436.84,853.329 3453.72,847.351 3470.61,841.305 3487.49,835.322 3504.38,829.511 3521.26,823.959 \\n  \\n  \\\"\\/>\\n<polygon clip-path=\\\"url(#clip5400)\\\" points=\\\"\\n2668.05,384.204 3413.26,384.204 3413.26,202.764 2668.05,202.764 \\n  \\\" fill=\\\"#ffffff\\\" fill-rule=\\\"evenodd\\\" fill-opacity=\\\"1\\\"\\/>\\n<polyline clip-path=\\\"url(#clip5400)\\\" style=\\\"stroke:#000000; stroke-width:4; stroke-opacity:1; fill:none\\\" points=\\\"\\n  2668.05,384.204 3413.26,384.204 3413.26,202.764 2668.05,202.764 2668.05,384.204 \\n  \\\"\\/>\\n<circle clip-path=\\\"url(#clip5400)\\\" style=\\\"fill:#000000; stroke:none; fill-opacity:1\\\" cx=\\\"2830.05\\\" cy=\\\"263.244\\\" r=\\\"25\\\"\\/>\\n<circle clip-path=\\\"url(#clip5400)\\\" style=\\\"fill:#009af9; stroke:none; fill-opacity:1\\\" cx=\\\"2830.05\\\" cy=\\\"263.244\\\" r=\\\"21\\\"\\/>\\n<g clip-path=\\\"url(#clip5400)\\\">\\n<text style=\\\"fill:#000000; fill-opacity:1; font-family:Arial,Helvetica Neue,Helvetica,sans-serif; font-size:48px; text-anchor:start;\\\" transform=\\\"rotate(0, 2956.05, 280.744)\\\" x=\\\"2956.05\\\" y=\\\"280.744\\\">data<\\/text>\\n<\\/g>\\n<polyline clip-path=\\\"url(#clip5400)\\\" style=\\\"stroke:#e26f46; stroke-width:4; stroke-opacity:1; fill:none\\\" points=\\\"\\n  2704.05,323.724 2920.05,323.724 \\n  \\\"\\/>\\n<g clip-path=\\\"url(#clip5400)\\\">\\n<text style=\\\"fill:#000000; fill-opacity:1; font-family:Arial,Helvetica Neue,Helvetica,sans-serif; font-size:48px; text-anchor:start;\\\" transform=\\\"rotate(0, 2956.05, 341.224)\\\" x=\\\"2956.05\\\" y=\\\"341.224\\\">Gaussian process<\\/text>\\n<\\/g>\\n<\\/svg>\\n\"},\"nodeType\":\"DOM\",\"type\":\"node\",\"instanceArgs\":{\"namespace\":\"html\",\"tag\":\"div\"},\"children\":[]}]}}}},\"children\":[{\"props\":{},\"nodeType\":\"ObservableNode\",\"type\":\"node\",\"instanceArgs\":{\"id\":\"ob_10\",\"name\":\"obs-node\"},\"children\":[]}]}]},\n",
       "            window,\n",
       "        );\n",
       "    } else {\n",
       "        document\n",
       "            .querySelector('[data-webio-mountpoint=\"3213065159442414490\"]')\n",
       "            .innerHTML = '<strong>WebIO not detected.</strong>';\n",
       "    }\n",
       "    </script>\n",
       "</div>\n"
      ],
      "text/plain": [
       "Node{WebIO.DOM}(WebIO.DOM(:html, :div), Any[Node{DOM}(DOM(:html, :div), Any[Scope(\"knockout-component-72280751-70cb-4d3f-b8b3-f9b606ea0520\", Node{DOM}(DOM(:html, :div), Any[Node{DOM}(DOM(:html, :div), Any[Node{DOM}(DOM(:html, :label), Any[\"s\"], Dict{Symbol,Any}(:className=>\"interact \",:style=>Dict{Any,Any}(:padding=>\"5px 10px 0px 10px\")), 1)], Dict{Symbol,Any}(:className=>\"interact-flex-row-left\"), 2), Node{DOM}(DOM(:html, :div), Any[Node{DOM}(DOM(:html, :input), Any[], Dict{Symbol,Any}(:max=>50,:min=>1,:attributes=>Dict{Any,Any}(:type=>\"range\",Symbol(\"data-bind\")=>\"numericValue: index, valueUpdate: 'input', event: {change: function (){this.changes(this.changes()+1)}}\",\"orient\"=>\"horizontal\"),:step=>1,:className=>\"slider slider is-fullwidth\",:style=>Dict{Any,Any}()), 0)], Dict{Symbol,Any}(:className=>\"interact-flex-row-center\"), 1), Node{DOM}(DOM(:html, :div), Any[Node{DOM}(DOM(:html, :p), Any[], Dict{Symbol,Any}(:attributes=>Dict(\"data-bind\"=>\"text: formatted_val\")), 0)], Dict{Symbol,Any}(:className=>\"interact-flex-row-right\"), 1)], Dict{Symbol,Any}(:className=>\"interact-flex-row interact-widget\"), 7), Dict{String,Tuple{Observables.AbstractObservable,Union{Nothing, Bool}}}(\"changes\"=>(Observable{Int64} with 1 listeners. Value:\n",
       "0, nothing),\"index\"=>(Observable{Any} with 2 listeners. Value:\n",
       "25, nothing)), Set(String[]), nothing, Asset[Asset(\"js\", \"knockout\", \"/home/juliohm/.julia/packages/Knockout/JE2Yq/src/../assets/knockout.js\"), Asset(\"js\", \"knockout_punches\", \"/home/juliohm/.julia/packages/Knockout/JE2Yq/src/../assets/knockout_punches.js\"), Asset(\"js\", nothing, \"/home/juliohm/.julia/packages/InteractBase/R8JgH/src/../assets/all.js\"), Asset(\"css\", nothing, \"/home/juliohm/.julia/packages/InteractBase/R8JgH/src/../assets/style.css\"), Asset(\"css\", nothing, \"/home/juliohm/.julia/packages/Interact/0klKX/src/../assets/bulma_confined.min.css\")], Dict{Any,Any}(\"changes\"=>Any[JSString(\"(function (val){return (val!=this.model[\\\"changes\\\"]()) ? (this.valueFromJulia[\\\"changes\\\"]=true, this.model[\\\"changes\\\"](val)) : undefined})\")],\"index\"=>Any[JSString(\"(function (val){return (val!=this.model[\\\"index\\\"]()) ? (this.valueFromJulia[\\\"index\\\"]=true, this.model[\\\"index\\\"](val)) : undefined})\")]), ConnectionPool(Channel{Any}(sz_max:9223372036854775807,sz_curr:0), Set(AbstractConnection[]), Channel{AbstractConnection}(sz_max:32,sz_curr:0)), WebIO.JSString[JSString(\"function () {\\n    var handler = (function (ko, koPunches) {\\n    ko.punches.enableAll();\\n    ko.bindingHandlers.numericValue = {\\n        init : function(element, valueAccessor, allBindings, data, context) {\\n            var stringified = ko.observable(ko.unwrap(valueAccessor()));\\n            stringified.subscribe(function(value) {\\n                var val = parseFloat(value);\\n                if (!isNaN(val)) {\\n                    valueAccessor()(val);\\n                }\\n            })\\n            valueAccessor().subscribe(function(value) {\\n                var str = JSON.stringify(value);\\n                if ((str == \\\"0\\\") && ([\\\"-0\\\", \\\"-0.\\\"].indexOf(stringified()) >= 0))\\n                     return;\\n                 if ([\\\"null\\\", \\\"\\\"].indexOf(str) >= 0)\\n                     return;\\n                stringified(str);\\n            })\\n            ko.applyBindingsToNode(element, { value: stringified, valueUpdate: allBindings.get('valueUpdate')}, context);\\n        }\\n    };\\n    var json_data = {\\\"formatted_vals\\\":[\\\"0.0\\\",\\\"0.00204082\\\",\\\"0.00408163\\\",\\\"0.00612245\\\",\\\"0.00816327\\\",\\\"0.0102041\\\",\\\"0.0122449\\\",\\\"0.0142857\\\",\\\"0.0163265\\\",\\\"0.0183673\\\",\\\"0.0204082\\\",\\\"0.022449\\\",\\\"0.0244898\\\",\\\"0.0265306\\\",\\\"0.0285714\\\",\\\"0.0306122\\\",\\\"0.0326531\\\",\\\"0.0346939\\\",\\\"0.0367347\\\",\\\"0.0387755\\\",\\\"0.0408163\\\",\\\"0.0428571\\\",\\\"0.044898\\\",\\\"0.0469388\\\",\\\"0.0489796\\\",\\\"0.0510204\\\",\\\"0.0530612\\\",\\\"0.055102\\\",\\\"0.0571429\\\",\\\"0.0591837\\\",\\\"0.0612245\\\",\\\"0.0632653\\\",\\\"0.0653061\\\",\\\"0.0673469\\\",\\\"0.0693878\\\",\\\"0.0714286\\\",\\\"0.0734694\\\",\\\"0.0755102\\\",\\\"0.077551\\\",\\\"0.0795918\\\",\\\"0.0816327\\\",\\\"0.0836735\\\",\\\"0.0857143\\\",\\\"0.0877551\\\",\\\"0.0897959\\\",\\\"0.0918367\\\",\\\"0.0938776\\\",\\\"0.0959184\\\",\\\"0.0979592\\\",\\\"0.1\\\"],\\\"changes\\\":WebIO.getval({\\\"name\\\":\\\"changes\\\",\\\"scope\\\":\\\"knockout-component-72280751-70cb-4d3f-b8b3-f9b606ea0520\\\",\\\"id\\\":\\\"ob_03\\\",\\\"type\\\":\\\"observable\\\"}),\\\"index\\\":WebIO.getval({\\\"name\\\":\\\"index\\\",\\\"scope\\\":\\\"knockout-component-72280751-70cb-4d3f-b8b3-f9b606ea0520\\\",\\\"id\\\":\\\"ob_02\\\",\\\"type\\\":\\\"observable\\\"})};\\n    var self = this;\\n    function AppViewModel() {\\n        for (var key in json_data) {\\n            var el = json_data[key];\\n            this[key] = Array.isArray(el) ? ko.observableArray(el) : ko.observable(el);\\n        }\\n        \\n        [this[\\\"formatted_val\\\"]=ko.computed(    function(){\\n        return this.formatted_vals()[parseInt(this.index())-1];\\n    }\\n,this)]\\n        [this[\\\"changes\\\"].subscribe((function (val){!(this.valueFromJulia[\\\"changes\\\"]) ? (WebIO.setval({\\\"name\\\":\\\"changes\\\",\\\"scope\\\":\\\"knockout-component-72280751-70cb-4d3f-b8b3-f9b606ea0520\\\",\\\"id\\\":\\\"ob_03\\\",\\\"type\\\":\\\"observable\\\"},val)) : undefined; return this.valueFromJulia[\\\"changes\\\"]=false}),self),this[\\\"index\\\"].subscribe((function (val){!(this.valueFromJulia[\\\"index\\\"]) ? (WebIO.setval({\\\"name\\\":\\\"index\\\",\\\"scope\\\":\\\"knockout-component-72280751-70cb-4d3f-b8b3-f9b606ea0520\\\",\\\"id\\\":\\\"ob_02\\\",\\\"type\\\":\\\"observable\\\"},val)) : undefined; return this.valueFromJulia[\\\"index\\\"]=false}),self)]\\n        \\n    }\\n    self.model = new AppViewModel();\\n    self.valueFromJulia = {};\\n    for (var key in json_data) {\\n        self.valueFromJulia[key] = false;\\n    }\\n    ko.applyBindings(self.model, self.dom);\\n}\\n);\\n    (WebIO.importBlock({\\\"data\\\":[{\\\"name\\\":\\\"knockout\\\",\\\"type\\\":\\\"js\\\",\\\"url\\\":\\\"/assetserver/24e2b70eb9e173a49e23c0745ccd248bfbf38bf9-knockout.js\\\"},{\\\"name\\\":\\\"knockout_punches\\\",\\\"type\\\":\\\"js\\\",\\\"url\\\":\\\"/assetserver/275b61436d7fa46a7116217771eb956e6cd64022-knockout_punches.js\\\"}],\\\"type\\\":\\\"async_block\\\"})).then((imports) => handler.apply(this, imports));\\n}\\n\")])], Dict{Symbol,Any}(:className=>\"field interact-widget\"), 1), Node{DOM}(DOM(:html, :div), Any[Scope(\"knockout-component-a4d08aa0-c44a-498b-941e-489783980994\", Node{DOM}(DOM(:html, :div), Any[Node{DOM}(DOM(:html, :div), Any[Node{DOM}(DOM(:html, :label), Any[\"r\"], Dict{Symbol,Any}(:className=>\"interact \",:style=>Dict{Any,Any}(:padding=>\"5px 10px 0px 10px\")), 1)], Dict{Symbol,Any}(:className=>\"interact-flex-row-left\"), 2), Node{DOM}(DOM(:html, :div), Any[Node{DOM}(DOM(:html, :input), Any[], Dict{Symbol,Any}(:max=>50,:min=>1,:attributes=>Dict{Any,Any}(:type=>\"range\",Symbol(\"data-bind\")=>\"numericValue: index, valueUpdate: 'input', event: {change: function (){this.changes(this.changes()+1)}}\",\"orient\"=>\"horizontal\"),:step=>1,:className=>\"slider slider is-fullwidth\",:style=>Dict{Any,Any}()), 0)], Dict{Symbol,Any}(:className=>\"interact-flex-row-center\"), 1), Node{DOM}(DOM(:html, :div), Any[Node{DOM}(DOM(:html, :p), Any[], Dict{Symbol,Any}(:attributes=>Dict(\"data-bind\"=>\"text: formatted_val\")), 0)], Dict{Symbol,Any}(:className=>\"interact-flex-row-right\"), 1)], Dict{Symbol,Any}(:className=>\"interact-flex-row interact-widget\"), 7), Dict{String,Tuple{Observables.AbstractObservable,Union{Nothing, Bool}}}(\"changes\"=>(Observable{Int64} with 1 listeners. Value:\n",
       "0, nothing),\"index\"=>(Observable{Any} with 2 listeners. Value:\n",
       "25, nothing)), Set(String[]), nothing, Asset[Asset(\"js\", \"knockout\", \"/home/juliohm/.julia/packages/Knockout/JE2Yq/src/../assets/knockout.js\"), Asset(\"js\", \"knockout_punches\", \"/home/juliohm/.julia/packages/Knockout/JE2Yq/src/../assets/knockout_punches.js\"), Asset(\"js\", nothing, \"/home/juliohm/.julia/packages/InteractBase/R8JgH/src/../assets/all.js\"), Asset(\"css\", nothing, \"/home/juliohm/.julia/packages/InteractBase/R8JgH/src/../assets/style.css\"), Asset(\"css\", nothing, \"/home/juliohm/.julia/packages/Interact/0klKX/src/../assets/bulma_confined.min.css\")], Dict{Any,Any}(\"changes\"=>Any[JSString(\"(function (val){return (val!=this.model[\\\"changes\\\"]()) ? (this.valueFromJulia[\\\"changes\\\"]=true, this.model[\\\"changes\\\"](val)) : undefined})\")],\"index\"=>Any[JSString(\"(function (val){return (val!=this.model[\\\"index\\\"]()) ? (this.valueFromJulia[\\\"index\\\"]=true, this.model[\\\"index\\\"](val)) : undefined})\")]), ConnectionPool(Channel{Any}(sz_max:9223372036854775807,sz_curr:0), Set(AbstractConnection[]), Channel{AbstractConnection}(sz_max:32,sz_curr:0)), WebIO.JSString[JSString(\"function () {\\n    var handler = (function (ko, koPunches) {\\n    ko.punches.enableAll();\\n    ko.bindingHandlers.numericValue = {\\n        init : function(element, valueAccessor, allBindings, data, context) {\\n            var stringified = ko.observable(ko.unwrap(valueAccessor()));\\n            stringified.subscribe(function(value) {\\n                var val = parseFloat(value);\\n                if (!isNaN(val)) {\\n                    valueAccessor()(val);\\n                }\\n            })\\n            valueAccessor().subscribe(function(value) {\\n                var str = JSON.stringify(value);\\n                if ((str == \\\"0\\\") && ([\\\"-0\\\", \\\"-0.\\\"].indexOf(stringified()) >= 0))\\n                     return;\\n                 if ([\\\"null\\\", \\\"\\\"].indexOf(str) >= 0)\\n                     return;\\n                stringified(str);\\n            })\\n            ko.applyBindingsToNode(element, { value: stringified, valueUpdate: allBindings.get('valueUpdate')}, context);\\n        }\\n    };\\n    var json_data = {\\\"formatted_vals\\\":[\\\"0.1\\\",\\\"0.102041\\\",\\\"0.104082\\\",\\\"0.106122\\\",\\\"0.108163\\\",\\\"0.110204\\\",\\\"0.112245\\\",\\\"0.114286\\\",\\\"0.116327\\\",\\\"0.118367\\\",\\\"0.120408\\\",\\\"0.122449\\\",\\\"0.12449\\\",\\\"0.126531\\\",\\\"0.128571\\\",\\\"0.130612\\\",\\\"0.132653\\\",\\\"0.134694\\\",\\\"0.136735\\\",\\\"0.138776\\\",\\\"0.140816\\\",\\\"0.142857\\\",\\\"0.144898\\\",\\\"0.146939\\\",\\\"0.14898\\\",\\\"0.15102\\\",\\\"0.153061\\\",\\\"0.155102\\\",\\\"0.157143\\\",\\\"0.159184\\\",\\\"0.161224\\\",\\\"0.163265\\\",\\\"0.165306\\\",\\\"0.167347\\\",\\\"0.169388\\\",\\\"0.171429\\\",\\\"0.173469\\\",\\\"0.17551\\\",\\\"0.177551\\\",\\\"0.179592\\\",\\\"0.181633\\\",\\\"0.183673\\\",\\\"0.185714\\\",\\\"0.187755\\\",\\\"0.189796\\\",\\\"0.191837\\\",\\\"0.193878\\\",\\\"0.195918\\\",\\\"0.197959\\\",\\\"0.2\\\"],\\\"changes\\\":WebIO.getval({\\\"name\\\":\\\"changes\\\",\\\"scope\\\":\\\"knockout-component-a4d08aa0-c44a-498b-941e-489783980994\\\",\\\"id\\\":\\\"ob_06\\\",\\\"type\\\":\\\"observable\\\"}),\\\"index\\\":WebIO.getval({\\\"name\\\":\\\"index\\\",\\\"scope\\\":\\\"knockout-component-a4d08aa0-c44a-498b-941e-489783980994\\\",\\\"id\\\":\\\"ob_05\\\",\\\"type\\\":\\\"observable\\\"})};\\n    var self = this;\\n    function AppViewModel() {\\n        for (var key in json_data) {\\n            var el = json_data[key];\\n            this[key] = Array.isArray(el) ? ko.observableArray(el) : ko.observable(el);\\n        }\\n        \\n        [this[\\\"formatted_val\\\"]=ko.computed(    function(){\\n        return this.formatted_vals()[parseInt(this.index())-1];\\n    }\\n,this)]\\n        [this[\\\"changes\\\"].subscribe((function (val){!(this.valueFromJulia[\\\"changes\\\"]) ? (WebIO.setval({\\\"name\\\":\\\"changes\\\",\\\"scope\\\":\\\"knockout-component-a4d08aa0-c44a-498b-941e-489783980994\\\",\\\"id\\\":\\\"ob_06\\\",\\\"type\\\":\\\"observable\\\"},val)) : undefined; return this.valueFromJulia[\\\"changes\\\"]=false}),self),this[\\\"index\\\"].subscribe((function (val){!(this.valueFromJulia[\\\"index\\\"]) ? (WebIO.setval({\\\"name\\\":\\\"index\\\",\\\"scope\\\":\\\"knockout-component-a4d08aa0-c44a-498b-941e-489783980994\\\",\\\"id\\\":\\\"ob_05\\\",\\\"type\\\":\\\"observable\\\"},val)) : undefined; return this.valueFromJulia[\\\"index\\\"]=false}),self)]\\n        \\n    }\\n    self.model = new AppViewModel();\\n    self.valueFromJulia = {};\\n    for (var key in json_data) {\\n        self.valueFromJulia[key] = false;\\n    }\\n    ko.applyBindings(self.model, self.dom);\\n}\\n);\\n    (WebIO.importBlock({\\\"data\\\":[{\\\"name\\\":\\\"knockout\\\",\\\"type\\\":\\\"js\\\",\\\"url\\\":\\\"/assetserver/24e2b70eb9e173a49e23c0745ccd248bfbf38bf9-knockout.js\\\"},{\\\"name\\\":\\\"knockout_punches\\\",\\\"type\\\":\\\"js\\\",\\\"url\\\":\\\"/assetserver/275b61436d7fa46a7116217771eb956e6cd64022-knockout_punches.js\\\"}],\\\"type\\\":\\\"async_block\\\"})).then((imports) => handler.apply(this, imports));\\n}\\n\")])], Dict{Symbol,Any}(:className=>\"field interact-widget\"), 1), Observable{Any} with 0 listeners. Value:\n",
       "Node{DOM}(DOM(:html, :div), Any[Plot{Plots.GRBackend() n=2}], Dict{Symbol,Any}(:className=>\"interact-flex-row interact-widget\"), 1)], Dict{Symbol,Any}(), 3)"
      ]
     },
     "execution_count": 4,
     "metadata": {
      "application/vnd.webio.node+json": {
       "kernelId": "7a042f2a-0572-4d14-ba7b-039e9b7249aa"
      }
     },
     "output_type": "execute_result"
    }
   ],
   "source": [
    "using GeoStats\n",
    "using Interact\n",
    "\n",
    "# discretize the line segment for plotting\n",
    "n  = 200\n",
    "xs = range(0., stop=1, length=n)\n",
    "\n",
    "@manipulate for s=range(.0, stop=.1, length=50),\n",
    "                r=range(.1, stop=.2, length=50)\n",
    "    # some given mean\n",
    "    process_mean = .5\n",
    "    \n",
    "    # spatial structure\n",
    "    γ = GaussianVariogram(sill=s, range=r)\n",
    "    \n",
    "    # create Gaussian process\n",
    "    sk = SimpleKriging(x', z, γ, process_mean)\n",
    "    \n",
    "    # estimate mean and variance\n",
    "    μ = zeros(n)\n",
    "    σ² = zeros(n)\n",
    "    for (i,loc) in enumerate(xs)\n",
    "        μ[i], σ²[i] = predict(sk, [loc])\n",
    "    end\n",
    "    \n",
    "    σ = sqrt.(σ²)\n",
    "    \n",
    "    scatter(x, z, label=\"data\")\n",
    "    plot!(xs, μ, ribbon=σ, fillalpha=.5, label=\"Gaussian process\")\n",
    "end"
   ]
  },
  {
   "cell_type": "markdown",
   "metadata": {},
   "source": [
    "## Ordinary Kriging\n",
    "\n",
    "An immediate generalization of Simple Kriging is Ordinary Kriging. In this case, we still have the assumption that the mean of the field is constant, but this time we treat it as an unknown. Below is the estimation with Ordinary Kriging where we only need to specify the covariance-type function:"
   ]
  },
  {
   "cell_type": "code",
   "execution_count": 5,
   "metadata": {},
   "outputs": [
    {
     "data": {
      "application/vnd.webio.node+json": {
       "children": [
        {
         "children": [
          {
           "children": [
            {
             "children": [
              {
               "children": [
                {
                 "children": [
                  "s"
                 ],
                 "instanceArgs": {
                  "namespace": "html",
                  "tag": "label"
                 },
                 "nodeType": "DOM",
                 "props": {
                  "className": "interact ",
                  "style": {
                   "padding": "5px 10px 0px 10px"
                  }
                 },
                 "type": "node"
                }
               ],
               "instanceArgs": {
                "namespace": "html",
                "tag": "div"
               },
               "nodeType": "DOM",
               "props": {
                "className": "interact-flex-row-left"
               },
               "type": "node"
              },
              {
               "children": [
                {
                 "children": [],
                 "instanceArgs": {
                  "namespace": "html",
                  "tag": "input"
                 },
                 "nodeType": "DOM",
                 "props": {
                  "attributes": {
                   "data-bind": "numericValue: index, valueUpdate: 'input', event: {change: function (){this.changes(this.changes()+1)}}",
                   "orient": "horizontal",
                   "type": "range"
                  },
                  "className": "slider slider is-fullwidth",
                  "max": 50,
                  "min": 1,
                  "step": 1,
                  "style": {}
                 },
                 "type": "node"
                }
               ],
               "instanceArgs": {
                "namespace": "html",
                "tag": "div"
               },
               "nodeType": "DOM",
               "props": {
                "className": "interact-flex-row-center"
               },
               "type": "node"
              },
              {
               "children": [
                {
                 "children": [],
                 "instanceArgs": {
                  "namespace": "html",
                  "tag": "p"
                 },
                 "nodeType": "DOM",
                 "props": {
                  "attributes": {
                   "data-bind": "text: formatted_val"
                  }
                 },
                 "type": "node"
                }
               ],
               "instanceArgs": {
                "namespace": "html",
                "tag": "div"
               },
               "nodeType": "DOM",
               "props": {
                "className": "interact-flex-row-right"
               },
               "type": "node"
              }
             ],
             "instanceArgs": {
              "namespace": "html",
              "tag": "div"
             },
             "nodeType": "DOM",
             "props": {
              "className": "interact-flex-row interact-widget"
             },
             "type": "node"
            }
           ],
           "instanceArgs": {
            "handlers": {
             "changes": [
              "(function (val){return (val!=this.model[\"changes\"]()) ? (this.valueFromJulia[\"changes\"]=true, this.model[\"changes\"](val)) : undefined})"
             ],
             "index": [
              "(function (val){return (val!=this.model[\"index\"]()) ? (this.valueFromJulia[\"index\"]=true, this.model[\"index\"](val)) : undefined})"
             ]
            },
            "id": "knockout-component-ac1960ba-d9a8-479e-aa4f-ba9c655b54df",
            "imports": {
             "data": [
              {
               "name": "knockout",
               "type": "js",
               "url": "/assetserver/24e2b70eb9e173a49e23c0745ccd248bfbf38bf9-knockout.js"
              },
              {
               "name": "knockout_punches",
               "type": "js",
               "url": "/assetserver/275b61436d7fa46a7116217771eb956e6cd64022-knockout_punches.js"
              },
              {
               "name": null,
               "type": "js",
               "url": "/assetserver/fcaf8a3b2c1be4f9bf6123d96dff4941add82233-all.js"
              },
              {
               "name": null,
               "type": "css",
               "url": "/assetserver/882a43841858d9b7554d0f72741df97d69de80fe-style.css"
              },
              {
               "name": null,
               "type": "css",
               "url": "/assetserver/404e7c5add19dc537a50ff822869948dc67ad8fa-bulma_confined.min.css"
              }
             ],
             "type": "async_block"
            },
            "mount_callbacks": [
             "function () {\n    var handler = (function (ko, koPunches) {\n    ko.punches.enableAll();\n    ko.bindingHandlers.numericValue = {\n        init : function(element, valueAccessor, allBindings, data, context) {\n            var stringified = ko.observable(ko.unwrap(valueAccessor()));\n            stringified.subscribe(function(value) {\n                var val = parseFloat(value);\n                if (!isNaN(val)) {\n                    valueAccessor()(val);\n                }\n            })\n            valueAccessor().subscribe(function(value) {\n                var str = JSON.stringify(value);\n                if ((str == \"0\") && ([\"-0\", \"-0.\"].indexOf(stringified()) >= 0))\n                     return;\n                 if ([\"null\", \"\"].indexOf(str) >= 0)\n                     return;\n                stringified(str);\n            })\n            ko.applyBindingsToNode(element, { value: stringified, valueUpdate: allBindings.get('valueUpdate')}, context);\n        }\n    };\n    var json_data = {\"formatted_vals\":[\"0.0\",\"0.00204082\",\"0.00408163\",\"0.00612245\",\"0.00816327\",\"0.0102041\",\"0.0122449\",\"0.0142857\",\"0.0163265\",\"0.0183673\",\"0.0204082\",\"0.022449\",\"0.0244898\",\"0.0265306\",\"0.0285714\",\"0.0306122\",\"0.0326531\",\"0.0346939\",\"0.0367347\",\"0.0387755\",\"0.0408163\",\"0.0428571\",\"0.044898\",\"0.0469388\",\"0.0489796\",\"0.0510204\",\"0.0530612\",\"0.055102\",\"0.0571429\",\"0.0591837\",\"0.0612245\",\"0.0632653\",\"0.0653061\",\"0.0673469\",\"0.0693878\",\"0.0714286\",\"0.0734694\",\"0.0755102\",\"0.077551\",\"0.0795918\",\"0.0816327\",\"0.0836735\",\"0.0857143\",\"0.0877551\",\"0.0897959\",\"0.0918367\",\"0.0938776\",\"0.0959184\",\"0.0979592\",\"0.1\"],\"changes\":WebIO.getval({\"name\":\"changes\",\"scope\":\"knockout-component-ac1960ba-d9a8-479e-aa4f-ba9c655b54df\",\"id\":\"ob_15\",\"type\":\"observable\"}),\"index\":WebIO.getval({\"name\":\"index\",\"scope\":\"knockout-component-ac1960ba-d9a8-479e-aa4f-ba9c655b54df\",\"id\":\"ob_14\",\"type\":\"observable\"})};\n    var self = this;\n    function AppViewModel() {\n        for (var key in json_data) {\n            var el = json_data[key];\n            this[key] = Array.isArray(el) ? ko.observableArray(el) : ko.observable(el);\n        }\n        \n        [this[\"formatted_val\"]=ko.computed(    function(){\n        return this.formatted_vals()[parseInt(this.index())-1];\n    }\n,this)]\n        [this[\"changes\"].subscribe((function (val){!(this.valueFromJulia[\"changes\"]) ? (WebIO.setval({\"name\":\"changes\",\"scope\":\"knockout-component-ac1960ba-d9a8-479e-aa4f-ba9c655b54df\",\"id\":\"ob_15\",\"type\":\"observable\"},val)) : undefined; return this.valueFromJulia[\"changes\"]=false}),self),this[\"index\"].subscribe((function (val){!(this.valueFromJulia[\"index\"]) ? (WebIO.setval({\"name\":\"index\",\"scope\":\"knockout-component-ac1960ba-d9a8-479e-aa4f-ba9c655b54df\",\"id\":\"ob_14\",\"type\":\"observable\"},val)) : undefined; return this.valueFromJulia[\"index\"]=false}),self)]\n        \n    }\n    self.model = new AppViewModel();\n    self.valueFromJulia = {};\n    for (var key in json_data) {\n        self.valueFromJulia[key] = false;\n    }\n    ko.applyBindings(self.model, self.dom);\n}\n);\n    (WebIO.importBlock({\"data\":[{\"name\":\"knockout\",\"type\":\"js\",\"url\":\"/assetserver/24e2b70eb9e173a49e23c0745ccd248bfbf38bf9-knockout.js\"},{\"name\":\"knockout_punches\",\"type\":\"js\",\"url\":\"/assetserver/275b61436d7fa46a7116217771eb956e6cd64022-knockout_punches.js\"}],\"type\":\"async_block\"})).then((imports) => handler.apply(this, imports));\n}\n"
            ],
            "observables": {
             "changes": {
              "id": "ob_15",
              "sync": false,
              "value": 0
             },
             "index": {
              "id": "ob_14",
              "sync": true,
              "value": 25
             }
            },
            "systemjs_options": null
           },
           "nodeType": "Scope",
           "props": {},
           "type": "node"
          }
         ],
         "instanceArgs": {
          "namespace": "html",
          "tag": "div"
         },
         "nodeType": "DOM",
         "props": {
          "className": "field interact-widget"
         },
         "type": "node"
        },
        {
         "children": [
          {
           "children": [
            {
             "children": [
              {
               "children": [
                {
                 "children": [
                  "r"
                 ],
                 "instanceArgs": {
                  "namespace": "html",
                  "tag": "label"
                 },
                 "nodeType": "DOM",
                 "props": {
                  "className": "interact ",
                  "style": {
                   "padding": "5px 10px 0px 10px"
                  }
                 },
                 "type": "node"
                }
               ],
               "instanceArgs": {
                "namespace": "html",
                "tag": "div"
               },
               "nodeType": "DOM",
               "props": {
                "className": "interact-flex-row-left"
               },
               "type": "node"
              },
              {
               "children": [
                {
                 "children": [],
                 "instanceArgs": {
                  "namespace": "html",
                  "tag": "input"
                 },
                 "nodeType": "DOM",
                 "props": {
                  "attributes": {
                   "data-bind": "numericValue: index, valueUpdate: 'input', event: {change: function (){this.changes(this.changes()+1)}}",
                   "orient": "horizontal",
                   "type": "range"
                  },
                  "className": "slider slider is-fullwidth",
                  "max": 50,
                  "min": 1,
                  "step": 1,
                  "style": {}
                 },
                 "type": "node"
                }
               ],
               "instanceArgs": {
                "namespace": "html",
                "tag": "div"
               },
               "nodeType": "DOM",
               "props": {
                "className": "interact-flex-row-center"
               },
               "type": "node"
              },
              {
               "children": [
                {
                 "children": [],
                 "instanceArgs": {
                  "namespace": "html",
                  "tag": "p"
                 },
                 "nodeType": "DOM",
                 "props": {
                  "attributes": {
                   "data-bind": "text: formatted_val"
                  }
                 },
                 "type": "node"
                }
               ],
               "instanceArgs": {
                "namespace": "html",
                "tag": "div"
               },
               "nodeType": "DOM",
               "props": {
                "className": "interact-flex-row-right"
               },
               "type": "node"
              }
             ],
             "instanceArgs": {
              "namespace": "html",
              "tag": "div"
             },
             "nodeType": "DOM",
             "props": {
              "className": "interact-flex-row interact-widget"
             },
             "type": "node"
            }
           ],
           "instanceArgs": {
            "handlers": {
             "changes": [
              "(function (val){return (val!=this.model[\"changes\"]()) ? (this.valueFromJulia[\"changes\"]=true, this.model[\"changes\"](val)) : undefined})"
             ],
             "index": [
              "(function (val){return (val!=this.model[\"index\"]()) ? (this.valueFromJulia[\"index\"]=true, this.model[\"index\"](val)) : undefined})"
             ]
            },
            "id": "knockout-component-48295aac-71ed-474b-a45c-fb9aff28f330",
            "imports": {
             "data": [
              {
               "name": "knockout",
               "type": "js",
               "url": "/assetserver/24e2b70eb9e173a49e23c0745ccd248bfbf38bf9-knockout.js"
              },
              {
               "name": "knockout_punches",
               "type": "js",
               "url": "/assetserver/275b61436d7fa46a7116217771eb956e6cd64022-knockout_punches.js"
              },
              {
               "name": null,
               "type": "js",
               "url": "/assetserver/fcaf8a3b2c1be4f9bf6123d96dff4941add82233-all.js"
              },
              {
               "name": null,
               "type": "css",
               "url": "/assetserver/882a43841858d9b7554d0f72741df97d69de80fe-style.css"
              },
              {
               "name": null,
               "type": "css",
               "url": "/assetserver/404e7c5add19dc537a50ff822869948dc67ad8fa-bulma_confined.min.css"
              }
             ],
             "type": "async_block"
            },
            "mount_callbacks": [
             "function () {\n    var handler = (function (ko, koPunches) {\n    ko.punches.enableAll();\n    ko.bindingHandlers.numericValue = {\n        init : function(element, valueAccessor, allBindings, data, context) {\n            var stringified = ko.observable(ko.unwrap(valueAccessor()));\n            stringified.subscribe(function(value) {\n                var val = parseFloat(value);\n                if (!isNaN(val)) {\n                    valueAccessor()(val);\n                }\n            })\n            valueAccessor().subscribe(function(value) {\n                var str = JSON.stringify(value);\n                if ((str == \"0\") && ([\"-0\", \"-0.\"].indexOf(stringified()) >= 0))\n                     return;\n                 if ([\"null\", \"\"].indexOf(str) >= 0)\n                     return;\n                stringified(str);\n            })\n            ko.applyBindingsToNode(element, { value: stringified, valueUpdate: allBindings.get('valueUpdate')}, context);\n        }\n    };\n    var json_data = {\"formatted_vals\":[\"0.1\",\"0.102041\",\"0.104082\",\"0.106122\",\"0.108163\",\"0.110204\",\"0.112245\",\"0.114286\",\"0.116327\",\"0.118367\",\"0.120408\",\"0.122449\",\"0.12449\",\"0.126531\",\"0.128571\",\"0.130612\",\"0.132653\",\"0.134694\",\"0.136735\",\"0.138776\",\"0.140816\",\"0.142857\",\"0.144898\",\"0.146939\",\"0.14898\",\"0.15102\",\"0.153061\",\"0.155102\",\"0.157143\",\"0.159184\",\"0.161224\",\"0.163265\",\"0.165306\",\"0.167347\",\"0.169388\",\"0.171429\",\"0.173469\",\"0.17551\",\"0.177551\",\"0.179592\",\"0.181633\",\"0.183673\",\"0.185714\",\"0.187755\",\"0.189796\",\"0.191837\",\"0.193878\",\"0.195918\",\"0.197959\",\"0.2\"],\"changes\":WebIO.getval({\"name\":\"changes\",\"scope\":\"knockout-component-48295aac-71ed-474b-a45c-fb9aff28f330\",\"id\":\"ob_18\",\"type\":\"observable\"}),\"index\":WebIO.getval({\"name\":\"index\",\"scope\":\"knockout-component-48295aac-71ed-474b-a45c-fb9aff28f330\",\"id\":\"ob_17\",\"type\":\"observable\"})};\n    var self = this;\n    function AppViewModel() {\n        for (var key in json_data) {\n            var el = json_data[key];\n            this[key] = Array.isArray(el) ? ko.observableArray(el) : ko.observable(el);\n        }\n        \n        [this[\"formatted_val\"]=ko.computed(    function(){\n        return this.formatted_vals()[parseInt(this.index())-1];\n    }\n,this)]\n        [this[\"changes\"].subscribe((function (val){!(this.valueFromJulia[\"changes\"]) ? (WebIO.setval({\"name\":\"changes\",\"scope\":\"knockout-component-48295aac-71ed-474b-a45c-fb9aff28f330\",\"id\":\"ob_18\",\"type\":\"observable\"},val)) : undefined; return this.valueFromJulia[\"changes\"]=false}),self),this[\"index\"].subscribe((function (val){!(this.valueFromJulia[\"index\"]) ? (WebIO.setval({\"name\":\"index\",\"scope\":\"knockout-component-48295aac-71ed-474b-a45c-fb9aff28f330\",\"id\":\"ob_17\",\"type\":\"observable\"},val)) : undefined; return this.valueFromJulia[\"index\"]=false}),self)]\n        \n    }\n    self.model = new AppViewModel();\n    self.valueFromJulia = {};\n    for (var key in json_data) {\n        self.valueFromJulia[key] = false;\n    }\n    ko.applyBindings(self.model, self.dom);\n}\n);\n    (WebIO.importBlock({\"data\":[{\"name\":\"knockout\",\"type\":\"js\",\"url\":\"/assetserver/24e2b70eb9e173a49e23c0745ccd248bfbf38bf9-knockout.js\"},{\"name\":\"knockout_punches\",\"type\":\"js\",\"url\":\"/assetserver/275b61436d7fa46a7116217771eb956e6cd64022-knockout_punches.js\"}],\"type\":\"async_block\"})).then((imports) => handler.apply(this, imports));\n}\n"
            ],
            "observables": {
             "changes": {
              "id": "ob_18",
              "sync": false,
              "value": 0
             },
             "index": {
              "id": "ob_17",
              "sync": true,
              "value": 25
             }
            },
            "systemjs_options": null
           },
           "nodeType": "Scope",
           "props": {},
           "type": "node"
          }
         ],
         "instanceArgs": {
          "namespace": "html",
          "tag": "div"
         },
         "nodeType": "DOM",
         "props": {
          "className": "field interact-widget"
         },
         "type": "node"
        },
        {
         "children": [
          {
           "children": [],
           "instanceArgs": {
            "id": "ob_24",
            "name": "obs-node"
           },
           "nodeType": "ObservableNode",
           "props": {},
           "type": "node"
          }
         ],
         "instanceArgs": {
          "handlers": {},
          "id": "scope-e63e99a0-1bdd-405c-b932-db8e52081236",
          "imports": {
           "data": [],
           "type": "async_block"
          },
          "mount_callbacks": [],
          "observables": {
           "obs-node": {
            "id": "ob_24",
            "sync": false,
            "value": {
             "children": [
              {
               "children": [],
               "instanceArgs": {
                "namespace": "html",
                "tag": "div"
               },
               "nodeType": "DOM",
               "props": {
                "setInnerHtml": "<?xml version=\"1.0\" encoding=\"utf-8\"?>\n<svg xmlns=\"http://www.w3.org/2000/svg\" xmlns:xlink=\"http://www.w3.org/1999/xlink\" width=\"900\" height=\"400\" viewBox=\"0 0 3600 1600\">\n<defs>\n  <clipPath id=\"clip6600\">\n    <rect x=\"0\" y=\"0\" width=\"3600\" height=\"1600\"/>\n  </clipPath>\n</defs>\n<polygon clip-path=\"url(#clip6600)\" points=\"\n0,1600 3600,1600 3600,0 0,0 \n  \" fill=\"#ffffff\" fill-rule=\"evenodd\" fill-opacity=\"1\"/>\n<defs>\n  <clipPath id=\"clip6601\">\n    <rect x=\"720\" y=\"0\" width=\"2521\" height=\"1600\"/>\n  </clipPath>\n</defs>\n<polygon clip-path=\"url(#clip6600)\" points=\"\n161.394,1514.65 3521.26,1514.65 3521.26,47.2441 161.394,47.2441 \n  \" fill=\"#ffffff\" fill-rule=\"evenodd\" fill-opacity=\"1\"/>\n<defs>\n  <clipPath id=\"clip6602\">\n    <rect x=\"161\" y=\"47\" width=\"3361\" height=\"1468\"/>\n  </clipPath>\n</defs>\n<polyline clip-path=\"url(#clip6602)\" style=\"stroke:#000000; stroke-width:2; stroke-opacity:0.1; fill:none\" points=\"\n  161.394,1514.65 161.394,47.2441 \n  \"/>\n<polyline clip-path=\"url(#clip6602)\" style=\"stroke:#000000; stroke-width:2; stroke-opacity:0.1; fill:none\" points=\"\n  833.367,1514.65 833.367,47.2441 \n  \"/>\n<polyline clip-path=\"url(#clip6602)\" style=\"stroke:#000000; stroke-width:2; stroke-opacity:0.1; fill:none\" points=\"\n  1505.34,1514.65 1505.34,47.2441 \n  \"/>\n<polyline clip-path=\"url(#clip6602)\" style=\"stroke:#000000; stroke-width:2; stroke-opacity:0.1; fill:none\" points=\"\n  2177.31,1514.65 2177.31,47.2441 \n  \"/>\n<polyline clip-path=\"url(#clip6602)\" style=\"stroke:#000000; stroke-width:2; stroke-opacity:0.1; fill:none\" points=\"\n  2849.29,1514.65 2849.29,47.2441 \n  \"/>\n<polyline clip-path=\"url(#clip6602)\" style=\"stroke:#000000; stroke-width:2; stroke-opacity:0.1; fill:none\" points=\"\n  3521.26,1514.65 3521.26,47.2441 \n  \"/>\n<polyline clip-path=\"url(#clip6602)\" style=\"stroke:#000000; stroke-width:2; stroke-opacity:0.1; fill:none\" points=\"\n  161.394,1514.65 3521.26,1514.65 \n  \"/>\n<polyline clip-path=\"url(#clip6602)\" style=\"stroke:#000000; stroke-width:2; stroke-opacity:0.1; fill:none\" points=\"\n  161.394,1221.17 3521.26,1221.17 \n  \"/>\n<polyline clip-path=\"url(#clip6602)\" style=\"stroke:#000000; stroke-width:2; stroke-opacity:0.1; fill:none\" points=\"\n  161.394,927.689 3521.26,927.689 \n  \"/>\n<polyline clip-path=\"url(#clip6602)\" style=\"stroke:#000000; stroke-width:2; stroke-opacity:0.1; fill:none\" points=\"\n  161.394,634.207 3521.26,634.207 \n  \"/>\n<polyline clip-path=\"url(#clip6602)\" style=\"stroke:#000000; stroke-width:2; stroke-opacity:0.1; fill:none\" points=\"\n  161.394,340.726 3521.26,340.726 \n  \"/>\n<polyline clip-path=\"url(#clip6602)\" style=\"stroke:#000000; stroke-width:2; stroke-opacity:0.1; fill:none\" points=\"\n  161.394,47.2441 3521.26,47.2441 \n  \"/>\n<polyline clip-path=\"url(#clip6600)\" style=\"stroke:#000000; stroke-width:4; stroke-opacity:1; fill:none\" points=\"\n  161.394,1514.65 3521.26,1514.65 \n  \"/>\n<polyline clip-path=\"url(#clip6600)\" style=\"stroke:#000000; stroke-width:4; stroke-opacity:1; fill:none\" points=\"\n  161.394,1514.65 161.394,47.2441 \n  \"/>\n<polyline clip-path=\"url(#clip6600)\" style=\"stroke:#000000; stroke-width:4; stroke-opacity:1; fill:none\" points=\"\n  161.394,1514.65 161.394,1492.64 \n  \"/>\n<polyline clip-path=\"url(#clip6600)\" style=\"stroke:#000000; stroke-width:4; stroke-opacity:1; fill:none\" points=\"\n  833.367,1514.65 833.367,1492.64 \n  \"/>\n<polyline clip-path=\"url(#clip6600)\" style=\"stroke:#000000; stroke-width:4; stroke-opacity:1; fill:none\" points=\"\n  1505.34,1514.65 1505.34,1492.64 \n  \"/>\n<polyline clip-path=\"url(#clip6600)\" style=\"stroke:#000000; stroke-width:4; stroke-opacity:1; fill:none\" points=\"\n  2177.31,1514.65 2177.31,1492.64 \n  \"/>\n<polyline clip-path=\"url(#clip6600)\" style=\"stroke:#000000; stroke-width:4; stroke-opacity:1; fill:none\" points=\"\n  2849.29,1514.65 2849.29,1492.64 \n  \"/>\n<polyline clip-path=\"url(#clip6600)\" style=\"stroke:#000000; stroke-width:4; stroke-opacity:1; fill:none\" points=\"\n  3521.26,1514.65 3521.26,1492.64 \n  \"/>\n<polyline clip-path=\"url(#clip6600)\" style=\"stroke:#000000; stroke-width:4; stroke-opacity:1; fill:none\" points=\"\n  161.394,1514.65 211.792,1514.65 \n  \"/>\n<polyline clip-path=\"url(#clip6600)\" style=\"stroke:#000000; stroke-width:4; stroke-opacity:1; fill:none\" points=\"\n  161.394,1221.17 211.792,1221.17 \n  \"/>\n<polyline clip-path=\"url(#clip6600)\" style=\"stroke:#000000; stroke-width:4; stroke-opacity:1; fill:none\" points=\"\n  161.394,927.689 211.792,927.689 \n  \"/>\n<polyline clip-path=\"url(#clip6600)\" style=\"stroke:#000000; stroke-width:4; stroke-opacity:1; fill:none\" points=\"\n  161.394,634.207 211.792,634.207 \n  \"/>\n<polyline clip-path=\"url(#clip6600)\" style=\"stroke:#000000; stroke-width:4; stroke-opacity:1; fill:none\" points=\"\n  161.394,340.726 211.792,340.726 \n  \"/>\n<polyline clip-path=\"url(#clip6600)\" style=\"stroke:#000000; stroke-width:4; stroke-opacity:1; fill:none\" points=\"\n  161.394,47.2441 211.792,47.2441 \n  \"/>\n<g clip-path=\"url(#clip6600)\">\n<text style=\"fill:#000000; fill-opacity:1; font-family:Arial,Helvetica Neue,Helvetica,sans-serif; font-size:48px; text-anchor:middle;\" transform=\"rotate(0, 161.394, 1574.65)\" x=\"161.394\" y=\"1574.65\">0.0</text>\n</g>\n<g clip-path=\"url(#clip6600)\">\n<text style=\"fill:#000000; fill-opacity:1; font-family:Arial,Helvetica Neue,Helvetica,sans-serif; font-size:48px; text-anchor:middle;\" transform=\"rotate(0, 833.367, 1574.65)\" x=\"833.367\" y=\"1574.65\">0.2</text>\n</g>\n<g clip-path=\"url(#clip6600)\">\n<text style=\"fill:#000000; fill-opacity:1; font-family:Arial,Helvetica Neue,Helvetica,sans-serif; font-size:48px; text-anchor:middle;\" transform=\"rotate(0, 1505.34, 1574.65)\" x=\"1505.34\" y=\"1574.65\">0.4</text>\n</g>\n<g clip-path=\"url(#clip6600)\">\n<text style=\"fill:#000000; fill-opacity:1; font-family:Arial,Helvetica Neue,Helvetica,sans-serif; font-size:48px; text-anchor:middle;\" transform=\"rotate(0, 2177.31, 1574.65)\" x=\"2177.31\" y=\"1574.65\">0.6</text>\n</g>\n<g clip-path=\"url(#clip6600)\">\n<text style=\"fill:#000000; fill-opacity:1; font-family:Arial,Helvetica Neue,Helvetica,sans-serif; font-size:48px; text-anchor:middle;\" transform=\"rotate(0, 2849.29, 1574.65)\" x=\"2849.29\" y=\"1574.65\">0.8</text>\n</g>\n<g clip-path=\"url(#clip6600)\">\n<text style=\"fill:#000000; fill-opacity:1; font-family:Arial,Helvetica Neue,Helvetica,sans-serif; font-size:48px; text-anchor:middle;\" transform=\"rotate(0, 3521.26, 1574.65)\" x=\"3521.26\" y=\"1574.65\">1.0</text>\n</g>\n<g clip-path=\"url(#clip6600)\">\n<text style=\"fill:#000000; fill-opacity:1; font-family:Arial,Helvetica Neue,Helvetica,sans-serif; font-size:48px; text-anchor:end;\" transform=\"rotate(0, 125.394, 1532.15)\" x=\"125.394\" y=\"1532.15\">0.0</text>\n</g>\n<g clip-path=\"url(#clip6600)\">\n<text style=\"fill:#000000; fill-opacity:1; font-family:Arial,Helvetica Neue,Helvetica,sans-serif; font-size:48px; text-anchor:end;\" transform=\"rotate(0, 125.394, 1238.67)\" x=\"125.394\" y=\"1238.67\">0.2</text>\n</g>\n<g clip-path=\"url(#clip6600)\">\n<text style=\"fill:#000000; fill-opacity:1; font-family:Arial,Helvetica Neue,Helvetica,sans-serif; font-size:48px; text-anchor:end;\" transform=\"rotate(0, 125.394, 945.189)\" x=\"125.394\" y=\"945.189\">0.4</text>\n</g>\n<g clip-path=\"url(#clip6600)\">\n<text style=\"fill:#000000; fill-opacity:1; font-family:Arial,Helvetica Neue,Helvetica,sans-serif; font-size:48px; text-anchor:end;\" transform=\"rotate(0, 125.394, 651.707)\" x=\"125.394\" y=\"651.707\">0.6</text>\n</g>\n<g clip-path=\"url(#clip6600)\">\n<text style=\"fill:#000000; fill-opacity:1; font-family:Arial,Helvetica Neue,Helvetica,sans-serif; font-size:48px; text-anchor:end;\" transform=\"rotate(0, 125.394, 358.226)\" x=\"125.394\" y=\"358.226\">0.8</text>\n</g>\n<g clip-path=\"url(#clip6600)\">\n<text style=\"fill:#000000; fill-opacity:1; font-family:Arial,Helvetica Neue,Helvetica,sans-serif; font-size:48px; text-anchor:end;\" transform=\"rotate(0, 125.394, 64.7441)\" x=\"125.394\" y=\"64.7441\">1.0</text>\n</g>\n<circle clip-path=\"url(#clip6602)\" style=\"fill:#000000; stroke:none; fill-opacity:1\" cx=\"497.381\" cy=\"647.946\" r=\"18\"/>\n<circle clip-path=\"url(#clip6602)\" style=\"fill:#009af9; stroke:none; fill-opacity:1\" cx=\"497.381\" cy=\"647.946\" r=\"14\"/>\n<circle clip-path=\"url(#clip6602)\" style=\"fill:#000000; stroke:none; fill-opacity:1\" cx=\"796.035\" cy=\"651.032\" r=\"18\"/>\n<circle clip-path=\"url(#clip6602)\" style=\"fill:#009af9; stroke:none; fill-opacity:1\" cx=\"796.035\" cy=\"651.032\" r=\"14\"/>\n<circle clip-path=\"url(#clip6602)\" style=\"fill:#000000; stroke:none; fill-opacity:1\" cx=\"1094.69\" cy=\"1314.18\" r=\"18\"/>\n<circle clip-path=\"url(#clip6602)\" style=\"fill:#009af9; stroke:none; fill-opacity:1\" cx=\"1094.69\" cy=\"1314.18\" r=\"14\"/>\n<circle clip-path=\"url(#clip6602)\" style=\"fill:#000000; stroke:none; fill-opacity:1\" cx=\"1393.34\" cy=\"790.458\" r=\"18\"/>\n<circle clip-path=\"url(#clip6602)\" style=\"fill:#009af9; stroke:none; fill-opacity:1\" cx=\"1393.34\" cy=\"790.458\" r=\"14\"/>\n<circle clip-path=\"url(#clip6602)\" style=\"fill:#000000; stroke:none; fill-opacity:1\" cx=\"1692\" cy=\"723.168\" r=\"18\"/>\n<circle clip-path=\"url(#clip6602)\" style=\"fill:#009af9; stroke:none; fill-opacity:1\" cx=\"1692\" cy=\"723.168\" r=\"14\"/>\n<circle clip-path=\"url(#clip6602)\" style=\"fill:#000000; stroke:none; fill-opacity:1\" cx=\"1990.65\" cy=\"764.113\" r=\"18\"/>\n<circle clip-path=\"url(#clip6602)\" style=\"fill:#009af9; stroke:none; fill-opacity:1\" cx=\"1990.65\" cy=\"764.113\" r=\"14\"/>\n<circle clip-path=\"url(#clip6602)\" style=\"fill:#000000; stroke:none; fill-opacity:1\" cx=\"2289.31\" cy=\"404.942\" r=\"18\"/>\n<circle clip-path=\"url(#clip6602)\" style=\"fill:#009af9; stroke:none; fill-opacity:1\" cx=\"2289.31\" cy=\"404.942\" r=\"14\"/>\n<circle clip-path=\"url(#clip6602)\" style=\"fill:#000000; stroke:none; fill-opacity:1\" cx=\"2587.96\" cy=\"612.667\" r=\"18\"/>\n<circle clip-path=\"url(#clip6602)\" style=\"fill:#009af9; stroke:none; fill-opacity:1\" cx=\"2587.96\" cy=\"612.667\" r=\"14\"/>\n<circle clip-path=\"url(#clip6602)\" style=\"fill:#000000; stroke:none; fill-opacity:1\" cx=\"2886.62\" cy=\"429.098\" r=\"18\"/>\n<circle clip-path=\"url(#clip6602)\" style=\"fill:#009af9; stroke:none; fill-opacity:1\" cx=\"2886.62\" cy=\"429.098\" r=\"14\"/>\n<circle clip-path=\"url(#clip6602)\" style=\"fill:#000000; stroke:none; fill-opacity:1\" cx=\"3185.27\" cy=\"805.985\" r=\"18\"/>\n<circle clip-path=\"url(#clip6602)\" style=\"fill:#009af9; stroke:none; fill-opacity:1\" cx=\"3185.27\" cy=\"805.985\" r=\"14\"/>\n<polygon clip-path=\"url(#clip6602)\" points=\"\n161.394,1057.33 178.278,1052.88 195.162,1047.38 212.045,1040.65 228.929,1032.53 245.813,1022.83 262.697,1011.38 279.58,998.021 296.464,982.612 313.348,965.036 \n  330.232,945.216 347.115,923.115 363.999,898.748 380.883,872.186 397.767,843.565 414.65,813.084 431.534,781.014 448.418,747.695 465.301,713.537 482.185,679.04 \n  499.069,649.806 515.953,658.474 532.836,665.753 549.72,670.861 566.604,673.734 583.488,674.409 600.371,673.022 617.255,669.806 634.139,665.091 651.023,659.299 \n  667.906,652.937 684.79,646.579 701.674,640.857 718.558,636.433 735.441,633.984 752.325,634.172 769.209,637.63 786.093,644.996 802.976,671.625 819.86,723.496 \n  836.744,778.619 853.628,835.898 870.511,894.296 887.395,952.733 904.279,1010.11 921.163,1065.35 938.046,1117.37 954.93,1165.2 971.814,1207.93 988.698,1244.76 \n  1005.58,1275.06 1022.47,1298.31 1039.35,1314.21 1056.23,1322.61 1073.12,1323.57 1090,1317.57 1106.88,1329.92 1123.77,1345.22 1140.65,1353.06 1157.54,1353.16 \n  1174.42,1345.46 1191.3,1330.11 1208.19,1307.4 1225.07,1277.83 1241.95,1242.02 1258.84,1200.73 1275.72,1154.83 1292.61,1105.27 1309.49,1053.06 1326.37,999.267 \n  1343.26,944.937 1360.14,891.121 1377.02,838.854 1393.91,791.602 1410.79,779.066 1427.68,770.843 1444.56,765.159 1461.44,761.516 1478.33,759.414 1495.21,758.358 \n  1512.09,757.873 1528.98,757.53 1545.86,756.961 1562.75,755.87 1579.63,754.047 1596.51,751.373 1613.4,747.816 1630.28,743.436 1647.16,738.37 1664.05,732.83 \n  1680.93,727.14 1697.82,733.84 1714.7,763.449 1731.58,792.454 1748.47,819.888 1765.35,845.003 1782.23,867.118 1799.12,885.625 1816,899.997 1832.89,909.802 \n  1849.77,914.711 1866.65,914.505 1883.54,909.08 1900.42,898.451 1917.3,882.755 1934.19,862.245 1951.07,837.29 1967.96,808.379 1984.84,776.27 2001.72,764.33 \n  2018.61,761.952 2035.49,756.566 2052.37,747.876 2069.26,735.749 2086.14,720.175 2103.03,701.264 2119.91,679.247 2136.79,654.474 2153.68,627.401 2170.56,598.58 \n  2187.44,568.644 2204.33,538.286 2221.21,508.235 2238.1,479.237 2254.98,452.032 2271.86,427.347 2288.75,407.175 2305.63,422.134 2322.51,442.727 2339.4,465.695 \n  2356.28,490.208 2373.16,515.428 2390.05,540.508 2406.93,564.617 2423.82,586.965 2440.7,606.824 2457.58,623.551 2474.47,636.61 2491.35,645.584 2508.23,650.191 \n  2525.12,650.29 2542,645.888 2558.89,637.143 2575.77,624.4 2592.65,618.101 2609.54,633.604 2626.42,645.519 2643.3,653.244 2660.19,656.547 2677.07,655.355 \n  2693.96,649.74 2710.84,639.917 2727.72,626.239 2744.61,609.183 2761.49,589.338 2778.37,567.384 2795.26,544.076 2812.14,520.216 2829.03,496.631 2845.91,474.15 \n  2862.79,453.587 2879.68,435.837 2896.56,442.706 2913.44,468.057 2930.33,496.388 2947.21,526.932 2964.1,558.939 2980.98,591.633 2997.86,624.234 3014.75,655.98 \n  3031.63,686.145 3048.51,714.062 3065.4,739.14 3082.28,760.878 3099.17,778.878 3116.05,792.848 3132.93,802.614 3149.82,808.113 3166.7,809.406 3183.58,807.294 \n  3200.47,841.111 3217.35,878.284 3234.24,913.301 3251.12,945.774 3268,975.426 3284.89,1002.07 3301.77,1025.6 3318.65,1045.98 3335.54,1063.27 3352.42,1077.58 \n  3369.31,1089.08 3386.19,1097.97 3403.07,1104.5 3419.96,1108.93 3436.84,1111.55 3453.72,1112.64 3470.61,1112.47 3487.49,1111.3 3504.38,1109.37 3521.26,1106.91 \n  3521.26,449.629 3504.38,461.904 3487.49,475.548 3470.61,490.591 3453.72,507.042 3436.84,524.871 3419.96,544.016 3403.07,564.365 3386.19,585.765 3369.31,608.008 \n  3352.42,630.838 3335.54,653.946 3318.65,676.979 3301.77,699.538 3284.89,721.192 3268,741.483 3251.12,759.943 3234.24,776.099 3217.35,789.495 3200.47,799.68 \n  3183.58,801.202 3166.7,761.689 3149.82,720.812 3132.93,679.854 3116.05,639.492 3099.17,600.405 3082.28,563.273 3065.4,528.752 3048.51,497.459 3031.63,469.952 \n  3014.75,446.71 2997.86,428.117 2980.98,414.449 2964.1,405.861 2947.21,402.38 2930.33,403.896 2913.44,410.164 2896.56,420.74 2879.68,420.25 2862.79,402.487 \n  2845.91,388.983 2829.03,380.166 2812.14,376.196 2795.26,377.088 2778.37,382.71 2761.49,392.796 2744.61,406.946 2727.72,424.646 2710.84,445.275 2693.96,468.131 \n  2677.07,492.446 2660.19,517.414 2643.3,542.211 2626.42,566.023 2609.54,588.054 2592.65,607.331 2575.77,598.299 2558.89,576.36 2542,552.208 2525.12,526.645 \n  2508.23,500.467 2491.35,474.492 2474.47,449.53 2457.58,426.367 2440.7,405.734 2423.82,388.291 2406.93,374.602 2390.05,365.121 2373.16,360.178 2356.28,359.968 \n  2339.4,364.547 2322.51,373.825 2305.63,387.552 2288.75,402.858 2271.86,390.442 2254.98,380.915 2238.1,376.068 2221.21,376.238 2204.33,381.606 2187.44,392.206 \n  2170.56,407.929 2153.68,428.532 2136.79,453.641 2119.91,482.765 2103.03,515.31 2086.14,550.596 2069.26,587.874 2052.37,626.35 2035.49,665.198 2018.61,703.584 \n  2001.72,740.628 1984.84,763.306 1967.96,760.685 1951.07,755.936 1934.19,749.74 1917.3,742.622 1900.42,735.091 1883.54,727.626 1866.65,720.663 1849.77,714.576 \n  1832.89,709.667 1816,706.155 1799.12,704.171 1782.23,703.758 1765.35,704.87 1748.47,707.383 1731.58,711.099 1714.7,715.756 1697.82,720.876 1680.93,703.437 \n  1664.05,674.462 1647.16,647.002 1630.28,621.91 1613.4,599.941 1596.51,581.793 1579.63,568.093 1562.75,559.387 1545.86,556.127 1528.98,558.661 1512.09,567.222 \n  1495.21,581.919 1478.33,602.735 1461.44,629.52 1444.56,661.989 1427.68,699.725 1410.79,742.161 1393.91,787.284 1377.02,804.272 1360.14,822.218 1343.26,843.788 \n  1326.37,869.027 1309.49,897.813 1292.61,929.88 1275.72,964.812 1258.84,1002.06 1241.95,1040.93 1225.07,1080.65 1208.19,1120.33 1191.3,1159.02 1174.42,1195.74 \n  1157.54,1229.52 1140.65,1259.38 1123.77,1284.44 1106.88,1303.82 1090,1306.8 1073.12,1278.02 1056.23,1243.12 1039.35,1203.18 1022.47,1159.18 1005.58,1112.15 \n  988.698,1063.15 971.814,1013.29 954.93,963.61 938.046,915.137 921.163,868.804 904.279,825.439 887.395,785.744 870.511,750.276 853.628,719.433 836.744,693.452 \n  819.86,672.395 802.976,656.039 786.093,623.03 769.209,579.738 752.325,541.681 735.441,509.431 718.558,483.356 701.674,463.673 684.79,450.462 667.906,443.666 \n  651.023,443.106 634.139,448.488 617.255,459.418 600.371,475.417 583.488,495.937 566.604,520.377 549.72,548.102 532.836,578.453 515.953,610.757 499.069,643.714 \n  482.185,637.609 465.301,624.749 448.418,610.494 431.534,595.183 414.65,579.141 397.767,562.688 380.883,546.129 363.999,529.745 347.115,513.788 330.232,498.47 \n  313.348,483.966 296.464,470.408 279.58,457.889 262.697,446.462 245.813,436.146 228.929,426.929 212.045,418.775 195.162,411.627 178.278,405.414 161.394,400.057 \n  \n  \" fill=\"#e26f46\" fill-rule=\"evenodd\" fill-opacity=\"0.5\"/>\n<polyline clip-path=\"url(#clip6602)\" style=\"stroke:#e26f46; stroke-width:4; stroke-opacity:1; fill:none\" points=\"\n  161.394,728.695 178.278,729.147 195.162,729.501 212.045,729.712 228.929,729.728 245.813,729.486 262.697,728.92 279.58,727.955 296.464,726.51 313.348,724.501 \n  330.232,721.843 347.115,718.451 363.999,714.247 380.883,709.158 397.767,703.126 414.65,696.113 431.534,688.099 448.418,679.094 465.301,669.143 482.185,658.324 \n  499.069,646.76 515.953,634.616 532.836,622.103 549.72,609.482 566.604,597.056 583.488,585.173 600.371,574.219 617.255,564.612 634.139,556.789 651.023,551.202 \n  667.906,548.301 684.79,548.52 701.674,552.265 718.558,559.895 735.441,571.708 752.325,587.926 769.209,608.684 786.093,634.013 802.976,663.832 819.86,697.945 \n  836.744,736.035 853.628,777.666 870.511,822.286 887.395,869.239 904.279,917.777 921.163,967.075 938.046,1016.26 954.93,1064.41 971.814,1110.61 988.698,1153.96 \n  1005.58,1193.6 1022.47,1228.74 1039.35,1258.69 1056.23,1282.86 1073.12,1300.8 1090,1312.19 1106.88,1316.87 1123.77,1314.83 1140.65,1306.22 1157.54,1291.34 \n  1174.42,1270.6 1191.3,1244.56 1208.19,1213.87 1225.07,1179.24 1241.95,1141.48 1258.84,1101.39 1275.72,1059.82 1292.61,1017.57 1309.49,975.439 1326.37,934.147 \n  1343.26,894.363 1360.14,856.67 1377.02,821.563 1393.91,789.443 1410.79,760.613 1427.68,735.284 1444.56,713.574 1461.44,695.518 1478.33,681.075 1495.21,670.138 \n  1512.09,662.547 1528.98,658.096 1545.86,656.544 1562.75,657.628 1579.63,661.07 1596.51,666.583 1613.4,673.879 1630.28,682.673 1647.16,692.686 1664.05,703.646 \n  1680.93,715.289 1697.82,727.358 1714.7,739.603 1731.58,751.776 1748.47,763.635 1765.35,774.937 1782.23,785.438 1799.12,794.898 1816,803.076 1832.89,809.734 \n  1849.77,814.643 1866.65,817.584 1883.54,818.353 1900.42,816.771 1917.3,812.689 1934.19,805.992 1951.07,796.613 1967.96,784.532 1984.84,769.788 2001.72,752.479 \n  2018.61,732.768 2035.49,710.882 2052.37,687.113 2069.26,661.812 2086.14,635.385 2103.03,608.287 2119.91,581.006 2136.79,554.057 2153.68,527.966 2170.56,503.255 \n  2187.44,480.425 2204.33,459.946 2221.21,442.236 2238.1,427.652 2254.98,416.473 2271.86,408.894 2288.75,405.016 2305.63,404.843 2322.51,408.276 2339.4,415.121 \n  2356.28,425.088 2373.16,437.803 2390.05,452.814 2406.93,469.61 2423.82,487.628 2440.7,506.279 2457.58,524.959 2474.47,543.07 2491.35,560.038 2508.23,575.329 \n  2525.12,588.467 2542,599.048 2558.89,606.751 2575.77,611.349 2592.65,612.716 2609.54,610.829 2626.42,605.771 2643.3,597.728 2660.19,586.981 2677.07,573.901 \n  2693.96,558.935 2710.84,542.596 2727.72,525.443 2744.61,508.065 2761.49,491.067 2778.37,475.047 2795.26,460.582 2812.14,448.206 2829.03,438.398 2845.91,431.567 \n  2862.79,428.037 2879.68,428.043 2896.56,431.723 2913.44,439.11 2930.33,450.142 2947.21,464.656 2964.1,482.4 2980.98,503.041 2997.86,526.176 3014.75,551.345 \n  3031.63,578.049 3048.51,605.761 3065.4,633.946 3082.28,662.076 3099.17,689.642 3116.05,716.17 3132.93,741.234 3149.82,764.463 3166.7,785.547 3183.58,804.248 \n  3200.47,820.395 3217.35,833.89 3234.24,844.7 3251.12,852.858 3268,858.455 3284.89,861.63 3301.77,862.567 3318.65,861.48 3335.54,858.61 3352.42,854.211 \n  3369.31,848.543 3386.19,841.866 3403.07,834.431 3419.96,826.474 3436.84,818.212 3453.72,809.84 3470.61,801.529 3487.49,793.422 3504.38,785.638 3521.26,778.267 \n  \n  \"/>\n<polygon clip-path=\"url(#clip6600)\" points=\"\n2668.05,384.204 3413.26,384.204 3413.26,202.764 2668.05,202.764 \n  \" fill=\"#ffffff\" fill-rule=\"evenodd\" fill-opacity=\"1\"/>\n<polyline clip-path=\"url(#clip6600)\" style=\"stroke:#000000; stroke-width:4; stroke-opacity:1; fill:none\" points=\"\n  2668.05,384.204 3413.26,384.204 3413.26,202.764 2668.05,202.764 2668.05,384.204 \n  \"/>\n<circle clip-path=\"url(#clip6600)\" style=\"fill:#000000; stroke:none; fill-opacity:1\" cx=\"2830.05\" cy=\"263.244\" r=\"25\"/>\n<circle clip-path=\"url(#clip6600)\" style=\"fill:#009af9; stroke:none; fill-opacity:1\" cx=\"2830.05\" cy=\"263.244\" r=\"21\"/>\n<g clip-path=\"url(#clip6600)\">\n<text style=\"fill:#000000; fill-opacity:1; font-family:Arial,Helvetica Neue,Helvetica,sans-serif; font-size:48px; text-anchor:start;\" transform=\"rotate(0, 2956.05, 280.744)\" x=\"2956.05\" y=\"280.744\">data</text>\n</g>\n<polyline clip-path=\"url(#clip6600)\" style=\"stroke:#e26f46; stroke-width:4; stroke-opacity:1; fill:none\" points=\"\n  2704.05,323.724 2920.05,323.724 \n  \"/>\n<g clip-path=\"url(#clip6600)\">\n<text style=\"fill:#000000; fill-opacity:1; font-family:Arial,Helvetica Neue,Helvetica,sans-serif; font-size:48px; text-anchor:start;\" transform=\"rotate(0, 2956.05, 341.224)\" x=\"2956.05\" y=\"341.224\">Gaussian process</text>\n</g>\n</svg>\n"
               },
               "type": "node"
              }
             ],
             "instanceArgs": {
              "namespace": "html",
              "tag": "div"
             },
             "nodeType": "DOM",
             "props": {
              "className": "interact-flex-row interact-widget"
             },
             "type": "node"
            }
           }
          },
          "systemjs_options": null
         },
         "nodeType": "Scope",
         "props": {},
         "type": "node"
        }
       ],
       "instanceArgs": {
        "namespace": "html",
        "tag": "div"
       },
       "nodeType": "DOM",
       "props": {},
       "type": "node"
      },
      "text/html": [
       "<div\n",
       "    class=\"webio-mountpoint\"\n",
       "    data-webio-mountpoint=\"9172130781233578586\"\n",
       ">\n",
       "    <script>\n",
       "    if (window.require && require.defined && require.defined(\"nbextensions/webio/main\")) {\n",
       "        console.log(\"Jupyter WebIO extension detected, not mounting.\");\n",
       "    } else if (window.WebIO) {\n",
       "        WebIO.mount(\n",
       "            document.querySelector('[data-webio-mountpoint=\"9172130781233578586\"]'),\n",
       "            {\"props\":{},\"nodeType\":\"DOM\",\"type\":\"node\",\"instanceArgs\":{\"namespace\":\"html\",\"tag\":\"div\"},\"children\":[{\"props\":{\"className\":\"field interact-widget\"},\"nodeType\":\"DOM\",\"type\":\"node\",\"instanceArgs\":{\"namespace\":\"html\",\"tag\":\"div\"},\"children\":[{\"props\":{},\"nodeType\":\"Scope\",\"type\":\"node\",\"instanceArgs\":{\"imports\":{\"data\":[{\"name\":\"knockout\",\"type\":\"js\",\"url\":\"\\/assetserver\\/24e2b70eb9e173a49e23c0745ccd248bfbf38bf9-knockout.js\"},{\"name\":\"knockout_punches\",\"type\":\"js\",\"url\":\"\\/assetserver\\/275b61436d7fa46a7116217771eb956e6cd64022-knockout_punches.js\"},{\"name\":null,\"type\":\"js\",\"url\":\"\\/assetserver\\/fcaf8a3b2c1be4f9bf6123d96dff4941add82233-all.js\"},{\"name\":null,\"type\":\"css\",\"url\":\"\\/assetserver\\/882a43841858d9b7554d0f72741df97d69de80fe-style.css\"},{\"name\":null,\"type\":\"css\",\"url\":\"\\/assetserver\\/404e7c5add19dc537a50ff822869948dc67ad8fa-bulma_confined.min.css\"}],\"type\":\"async_block\"},\"id\":\"knockout-component-ac1960ba-d9a8-479e-aa4f-ba9c655b54df\",\"handlers\":{\"changes\":[\"(function (val){return (val!=this.model[\\\"changes\\\"]()) ? (this.valueFromJulia[\\\"changes\\\"]=true, this.model[\\\"changes\\\"](val)) : undefined})\"],\"index\":[\"(function (val){return (val!=this.model[\\\"index\\\"]()) ? (this.valueFromJulia[\\\"index\\\"]=true, this.model[\\\"index\\\"](val)) : undefined})\"]},\"systemjs_options\":null,\"mount_callbacks\":[\"function () {\\n    var handler = (function (ko, koPunches) {\\n    ko.punches.enableAll();\\n    ko.bindingHandlers.numericValue = {\\n        init : function(element, valueAccessor, allBindings, data, context) {\\n            var stringified = ko.observable(ko.unwrap(valueAccessor()));\\n            stringified.subscribe(function(value) {\\n                var val = parseFloat(value);\\n                if (!isNaN(val)) {\\n                    valueAccessor()(val);\\n                }\\n            })\\n            valueAccessor().subscribe(function(value) {\\n                var str = JSON.stringify(value);\\n                if ((str == \\\"0\\\") && ([\\\"-0\\\", \\\"-0.\\\"].indexOf(stringified()) >= 0))\\n                     return;\\n                 if ([\\\"null\\\", \\\"\\\"].indexOf(str) >= 0)\\n                     return;\\n                stringified(str);\\n            })\\n            ko.applyBindingsToNode(element, { value: stringified, valueUpdate: allBindings.get('valueUpdate')}, context);\\n        }\\n    };\\n    var json_data = {\\\"formatted_vals\\\":[\\\"0.0\\\",\\\"0.00204082\\\",\\\"0.00408163\\\",\\\"0.00612245\\\",\\\"0.00816327\\\",\\\"0.0102041\\\",\\\"0.0122449\\\",\\\"0.0142857\\\",\\\"0.0163265\\\",\\\"0.0183673\\\",\\\"0.0204082\\\",\\\"0.022449\\\",\\\"0.0244898\\\",\\\"0.0265306\\\",\\\"0.0285714\\\",\\\"0.0306122\\\",\\\"0.0326531\\\",\\\"0.0346939\\\",\\\"0.0367347\\\",\\\"0.0387755\\\",\\\"0.0408163\\\",\\\"0.0428571\\\",\\\"0.044898\\\",\\\"0.0469388\\\",\\\"0.0489796\\\",\\\"0.0510204\\\",\\\"0.0530612\\\",\\\"0.055102\\\",\\\"0.0571429\\\",\\\"0.0591837\\\",\\\"0.0612245\\\",\\\"0.0632653\\\",\\\"0.0653061\\\",\\\"0.0673469\\\",\\\"0.0693878\\\",\\\"0.0714286\\\",\\\"0.0734694\\\",\\\"0.0755102\\\",\\\"0.077551\\\",\\\"0.0795918\\\",\\\"0.0816327\\\",\\\"0.0836735\\\",\\\"0.0857143\\\",\\\"0.0877551\\\",\\\"0.0897959\\\",\\\"0.0918367\\\",\\\"0.0938776\\\",\\\"0.0959184\\\",\\\"0.0979592\\\",\\\"0.1\\\"],\\\"changes\\\":WebIO.getval({\\\"name\\\":\\\"changes\\\",\\\"scope\\\":\\\"knockout-component-ac1960ba-d9a8-479e-aa4f-ba9c655b54df\\\",\\\"id\\\":\\\"ob_15\\\",\\\"type\\\":\\\"observable\\\"}),\\\"index\\\":WebIO.getval({\\\"name\\\":\\\"index\\\",\\\"scope\\\":\\\"knockout-component-ac1960ba-d9a8-479e-aa4f-ba9c655b54df\\\",\\\"id\\\":\\\"ob_14\\\",\\\"type\\\":\\\"observable\\\"})};\\n    var self = this;\\n    function AppViewModel() {\\n        for (var key in json_data) {\\n            var el = json_data[key];\\n            this[key] = Array.isArray(el) ? ko.observableArray(el) : ko.observable(el);\\n        }\\n        \\n        [this[\\\"formatted_val\\\"]=ko.computed(    function(){\\n        return this.formatted_vals()[parseInt(this.index())-1];\\n    }\\n,this)]\\n        [this[\\\"changes\\\"].subscribe((function (val){!(this.valueFromJulia[\\\"changes\\\"]) ? (WebIO.setval({\\\"name\\\":\\\"changes\\\",\\\"scope\\\":\\\"knockout-component-ac1960ba-d9a8-479e-aa4f-ba9c655b54df\\\",\\\"id\\\":\\\"ob_15\\\",\\\"type\\\":\\\"observable\\\"},val)) : undefined; return this.valueFromJulia[\\\"changes\\\"]=false}),self),this[\\\"index\\\"].subscribe((function (val){!(this.valueFromJulia[\\\"index\\\"]) ? (WebIO.setval({\\\"name\\\":\\\"index\\\",\\\"scope\\\":\\\"knockout-component-ac1960ba-d9a8-479e-aa4f-ba9c655b54df\\\",\\\"id\\\":\\\"ob_14\\\",\\\"type\\\":\\\"observable\\\"},val)) : undefined; return this.valueFromJulia[\\\"index\\\"]=false}),self)]\\n        \\n    }\\n    self.model = new AppViewModel();\\n    self.valueFromJulia = {};\\n    for (var key in json_data) {\\n        self.valueFromJulia[key] = false;\\n    }\\n    ko.applyBindings(self.model, self.dom);\\n}\\n);\\n    (WebIO.importBlock({\\\"data\\\":[{\\\"name\\\":\\\"knockout\\\",\\\"type\\\":\\\"js\\\",\\\"url\\\":\\\"\\/assetserver\\/24e2b70eb9e173a49e23c0745ccd248bfbf38bf9-knockout.js\\\"},{\\\"name\\\":\\\"knockout_punches\\\",\\\"type\\\":\\\"js\\\",\\\"url\\\":\\\"\\/assetserver\\/275b61436d7fa46a7116217771eb956e6cd64022-knockout_punches.js\\\"}],\\\"type\\\":\\\"async_block\\\"})).then((imports) => handler.apply(this, imports));\\n}\\n\"],\"observables\":{\"changes\":{\"sync\":false,\"id\":\"ob_15\",\"value\":0},\"index\":{\"sync\":true,\"id\":\"ob_14\",\"value\":25}}},\"children\":[{\"props\":{\"className\":\"interact-flex-row interact-widget\"},\"nodeType\":\"DOM\",\"type\":\"node\",\"instanceArgs\":{\"namespace\":\"html\",\"tag\":\"div\"},\"children\":[{\"props\":{\"className\":\"interact-flex-row-left\"},\"nodeType\":\"DOM\",\"type\":\"node\",\"instanceArgs\":{\"namespace\":\"html\",\"tag\":\"div\"},\"children\":[{\"props\":{\"className\":\"interact \",\"style\":{\"padding\":\"5px 10px 0px 10px\"}},\"nodeType\":\"DOM\",\"type\":\"node\",\"instanceArgs\":{\"namespace\":\"html\",\"tag\":\"label\"},\"children\":[\"s\"]}]},{\"props\":{\"className\":\"interact-flex-row-center\"},\"nodeType\":\"DOM\",\"type\":\"node\",\"instanceArgs\":{\"namespace\":\"html\",\"tag\":\"div\"},\"children\":[{\"props\":{\"max\":50,\"min\":1,\"attributes\":{\"type\":\"range\",\"data-bind\":\"numericValue: index, valueUpdate: 'input', event: {change: function (){this.changes(this.changes()+1)}}\",\"orient\":\"horizontal\"},\"step\":1,\"className\":\"slider slider is-fullwidth\",\"style\":{}},\"nodeType\":\"DOM\",\"type\":\"node\",\"instanceArgs\":{\"namespace\":\"html\",\"tag\":\"input\"},\"children\":[]}]},{\"props\":{\"className\":\"interact-flex-row-right\"},\"nodeType\":\"DOM\",\"type\":\"node\",\"instanceArgs\":{\"namespace\":\"html\",\"tag\":\"div\"},\"children\":[{\"props\":{\"attributes\":{\"data-bind\":\"text: formatted_val\"}},\"nodeType\":\"DOM\",\"type\":\"node\",\"instanceArgs\":{\"namespace\":\"html\",\"tag\":\"p\"},\"children\":[]}]}]}]}]},{\"props\":{\"className\":\"field interact-widget\"},\"nodeType\":\"DOM\",\"type\":\"node\",\"instanceArgs\":{\"namespace\":\"html\",\"tag\":\"div\"},\"children\":[{\"props\":{},\"nodeType\":\"Scope\",\"type\":\"node\",\"instanceArgs\":{\"imports\":{\"data\":[{\"name\":\"knockout\",\"type\":\"js\",\"url\":\"\\/assetserver\\/24e2b70eb9e173a49e23c0745ccd248bfbf38bf9-knockout.js\"},{\"name\":\"knockout_punches\",\"type\":\"js\",\"url\":\"\\/assetserver\\/275b61436d7fa46a7116217771eb956e6cd64022-knockout_punches.js\"},{\"name\":null,\"type\":\"js\",\"url\":\"\\/assetserver\\/fcaf8a3b2c1be4f9bf6123d96dff4941add82233-all.js\"},{\"name\":null,\"type\":\"css\",\"url\":\"\\/assetserver\\/882a43841858d9b7554d0f72741df97d69de80fe-style.css\"},{\"name\":null,\"type\":\"css\",\"url\":\"\\/assetserver\\/404e7c5add19dc537a50ff822869948dc67ad8fa-bulma_confined.min.css\"}],\"type\":\"async_block\"},\"id\":\"knockout-component-48295aac-71ed-474b-a45c-fb9aff28f330\",\"handlers\":{\"changes\":[\"(function (val){return (val!=this.model[\\\"changes\\\"]()) ? (this.valueFromJulia[\\\"changes\\\"]=true, this.model[\\\"changes\\\"](val)) : undefined})\"],\"index\":[\"(function (val){return (val!=this.model[\\\"index\\\"]()) ? (this.valueFromJulia[\\\"index\\\"]=true, this.model[\\\"index\\\"](val)) : undefined})\"]},\"systemjs_options\":null,\"mount_callbacks\":[\"function () {\\n    var handler = (function (ko, koPunches) {\\n    ko.punches.enableAll();\\n    ko.bindingHandlers.numericValue = {\\n        init : function(element, valueAccessor, allBindings, data, context) {\\n            var stringified = ko.observable(ko.unwrap(valueAccessor()));\\n            stringified.subscribe(function(value) {\\n                var val = parseFloat(value);\\n                if (!isNaN(val)) {\\n                    valueAccessor()(val);\\n                }\\n            })\\n            valueAccessor().subscribe(function(value) {\\n                var str = JSON.stringify(value);\\n                if ((str == \\\"0\\\") && ([\\\"-0\\\", \\\"-0.\\\"].indexOf(stringified()) >= 0))\\n                     return;\\n                 if ([\\\"null\\\", \\\"\\\"].indexOf(str) >= 0)\\n                     return;\\n                stringified(str);\\n            })\\n            ko.applyBindingsToNode(element, { value: stringified, valueUpdate: allBindings.get('valueUpdate')}, context);\\n        }\\n    };\\n    var json_data = {\\\"formatted_vals\\\":[\\\"0.1\\\",\\\"0.102041\\\",\\\"0.104082\\\",\\\"0.106122\\\",\\\"0.108163\\\",\\\"0.110204\\\",\\\"0.112245\\\",\\\"0.114286\\\",\\\"0.116327\\\",\\\"0.118367\\\",\\\"0.120408\\\",\\\"0.122449\\\",\\\"0.12449\\\",\\\"0.126531\\\",\\\"0.128571\\\",\\\"0.130612\\\",\\\"0.132653\\\",\\\"0.134694\\\",\\\"0.136735\\\",\\\"0.138776\\\",\\\"0.140816\\\",\\\"0.142857\\\",\\\"0.144898\\\",\\\"0.146939\\\",\\\"0.14898\\\",\\\"0.15102\\\",\\\"0.153061\\\",\\\"0.155102\\\",\\\"0.157143\\\",\\\"0.159184\\\",\\\"0.161224\\\",\\\"0.163265\\\",\\\"0.165306\\\",\\\"0.167347\\\",\\\"0.169388\\\",\\\"0.171429\\\",\\\"0.173469\\\",\\\"0.17551\\\",\\\"0.177551\\\",\\\"0.179592\\\",\\\"0.181633\\\",\\\"0.183673\\\",\\\"0.185714\\\",\\\"0.187755\\\",\\\"0.189796\\\",\\\"0.191837\\\",\\\"0.193878\\\",\\\"0.195918\\\",\\\"0.197959\\\",\\\"0.2\\\"],\\\"changes\\\":WebIO.getval({\\\"name\\\":\\\"changes\\\",\\\"scope\\\":\\\"knockout-component-48295aac-71ed-474b-a45c-fb9aff28f330\\\",\\\"id\\\":\\\"ob_18\\\",\\\"type\\\":\\\"observable\\\"}),\\\"index\\\":WebIO.getval({\\\"name\\\":\\\"index\\\",\\\"scope\\\":\\\"knockout-component-48295aac-71ed-474b-a45c-fb9aff28f330\\\",\\\"id\\\":\\\"ob_17\\\",\\\"type\\\":\\\"observable\\\"})};\\n    var self = this;\\n    function AppViewModel() {\\n        for (var key in json_data) {\\n            var el = json_data[key];\\n            this[key] = Array.isArray(el) ? ko.observableArray(el) : ko.observable(el);\\n        }\\n        \\n        [this[\\\"formatted_val\\\"]=ko.computed(    function(){\\n        return this.formatted_vals()[parseInt(this.index())-1];\\n    }\\n,this)]\\n        [this[\\\"changes\\\"].subscribe((function (val){!(this.valueFromJulia[\\\"changes\\\"]) ? (WebIO.setval({\\\"name\\\":\\\"changes\\\",\\\"scope\\\":\\\"knockout-component-48295aac-71ed-474b-a45c-fb9aff28f330\\\",\\\"id\\\":\\\"ob_18\\\",\\\"type\\\":\\\"observable\\\"},val)) : undefined; return this.valueFromJulia[\\\"changes\\\"]=false}),self),this[\\\"index\\\"].subscribe((function (val){!(this.valueFromJulia[\\\"index\\\"]) ? (WebIO.setval({\\\"name\\\":\\\"index\\\",\\\"scope\\\":\\\"knockout-component-48295aac-71ed-474b-a45c-fb9aff28f330\\\",\\\"id\\\":\\\"ob_17\\\",\\\"type\\\":\\\"observable\\\"},val)) : undefined; return this.valueFromJulia[\\\"index\\\"]=false}),self)]\\n        \\n    }\\n    self.model = new AppViewModel();\\n    self.valueFromJulia = {};\\n    for (var key in json_data) {\\n        self.valueFromJulia[key] = false;\\n    }\\n    ko.applyBindings(self.model, self.dom);\\n}\\n);\\n    (WebIO.importBlock({\\\"data\\\":[{\\\"name\\\":\\\"knockout\\\",\\\"type\\\":\\\"js\\\",\\\"url\\\":\\\"\\/assetserver\\/24e2b70eb9e173a49e23c0745ccd248bfbf38bf9-knockout.js\\\"},{\\\"name\\\":\\\"knockout_punches\\\",\\\"type\\\":\\\"js\\\",\\\"url\\\":\\\"\\/assetserver\\/275b61436d7fa46a7116217771eb956e6cd64022-knockout_punches.js\\\"}],\\\"type\\\":\\\"async_block\\\"})).then((imports) => handler.apply(this, imports));\\n}\\n\"],\"observables\":{\"changes\":{\"sync\":false,\"id\":\"ob_18\",\"value\":0},\"index\":{\"sync\":true,\"id\":\"ob_17\",\"value\":25}}},\"children\":[{\"props\":{\"className\":\"interact-flex-row interact-widget\"},\"nodeType\":\"DOM\",\"type\":\"node\",\"instanceArgs\":{\"namespace\":\"html\",\"tag\":\"div\"},\"children\":[{\"props\":{\"className\":\"interact-flex-row-left\"},\"nodeType\":\"DOM\",\"type\":\"node\",\"instanceArgs\":{\"namespace\":\"html\",\"tag\":\"div\"},\"children\":[{\"props\":{\"className\":\"interact \",\"style\":{\"padding\":\"5px 10px 0px 10px\"}},\"nodeType\":\"DOM\",\"type\":\"node\",\"instanceArgs\":{\"namespace\":\"html\",\"tag\":\"label\"},\"children\":[\"r\"]}]},{\"props\":{\"className\":\"interact-flex-row-center\"},\"nodeType\":\"DOM\",\"type\":\"node\",\"instanceArgs\":{\"namespace\":\"html\",\"tag\":\"div\"},\"children\":[{\"props\":{\"max\":50,\"min\":1,\"attributes\":{\"type\":\"range\",\"data-bind\":\"numericValue: index, valueUpdate: 'input', event: {change: function (){this.changes(this.changes()+1)}}\",\"orient\":\"horizontal\"},\"step\":1,\"className\":\"slider slider is-fullwidth\",\"style\":{}},\"nodeType\":\"DOM\",\"type\":\"node\",\"instanceArgs\":{\"namespace\":\"html\",\"tag\":\"input\"},\"children\":[]}]},{\"props\":{\"className\":\"interact-flex-row-right\"},\"nodeType\":\"DOM\",\"type\":\"node\",\"instanceArgs\":{\"namespace\":\"html\",\"tag\":\"div\"},\"children\":[{\"props\":{\"attributes\":{\"data-bind\":\"text: formatted_val\"}},\"nodeType\":\"DOM\",\"type\":\"node\",\"instanceArgs\":{\"namespace\":\"html\",\"tag\":\"p\"},\"children\":[]}]}]}]}]},{\"props\":{},\"nodeType\":\"Scope\",\"type\":\"node\",\"instanceArgs\":{\"imports\":{\"data\":[],\"type\":\"async_block\"},\"id\":\"scope-d99aa472-5d99-4c63-b3e7-d87704199e28\",\"handlers\":{},\"systemjs_options\":null,\"mount_callbacks\":[],\"observables\":{\"obs-node\":{\"sync\":false,\"id\":\"ob_22\",\"value\":{\"props\":{\"className\":\"interact-flex-row interact-widget\"},\"nodeType\":\"DOM\",\"type\":\"node\",\"instanceArgs\":{\"namespace\":\"html\",\"tag\":\"div\"},\"children\":[{\"props\":{\"setInnerHtml\":\"<?xml version=\\\"1.0\\\" encoding=\\\"utf-8\\\"?>\\n<svg xmlns=\\\"http:\\/\\/www.w3.org\\/2000\\/svg\\\" xmlns:xlink=\\\"http:\\/\\/www.w3.org\\/1999\\/xlink\\\" width=\\\"900\\\" height=\\\"400\\\" viewBox=\\\"0 0 3600 1600\\\">\\n<defs>\\n  <clipPath id=\\\"clip6200\\\">\\n    <rect x=\\\"0\\\" y=\\\"0\\\" width=\\\"3600\\\" height=\\\"1600\\\"\\/>\\n  <\\/clipPath>\\n<\\/defs>\\n<polygon clip-path=\\\"url(#clip6200)\\\" points=\\\"\\n0,1600 3600,1600 3600,0 0,0 \\n  \\\" fill=\\\"#ffffff\\\" fill-rule=\\\"evenodd\\\" fill-opacity=\\\"1\\\"\\/>\\n<defs>\\n  <clipPath id=\\\"clip6201\\\">\\n    <rect x=\\\"720\\\" y=\\\"0\\\" width=\\\"2521\\\" height=\\\"1600\\\"\\/>\\n  <\\/clipPath>\\n<\\/defs>\\n<polygon clip-path=\\\"url(#clip6200)\\\" points=\\\"\\n161.394,1514.65 3521.26,1514.65 3521.26,47.2441 161.394,47.2441 \\n  \\\" fill=\\\"#ffffff\\\" fill-rule=\\\"evenodd\\\" fill-opacity=\\\"1\\\"\\/>\\n<defs>\\n  <clipPath id=\\\"clip6202\\\">\\n    <rect x=\\\"161\\\" y=\\\"47\\\" width=\\\"3361\\\" height=\\\"1468\\\"\\/>\\n  <\\/clipPath>\\n<\\/defs>\\n<polyline clip-path=\\\"url(#clip6202)\\\" style=\\\"stroke:#000000; stroke-width:2; stroke-opacity:0.1; fill:none\\\" points=\\\"\\n  161.394,1514.65 161.394,47.2441 \\n  \\\"\\/>\\n<polyline clip-path=\\\"url(#clip6202)\\\" style=\\\"stroke:#000000; stroke-width:2; stroke-opacity:0.1; fill:none\\\" points=\\\"\\n  833.367,1514.65 833.367,47.2441 \\n  \\\"\\/>\\n<polyline clip-path=\\\"url(#clip6202)\\\" style=\\\"stroke:#000000; stroke-width:2; stroke-opacity:0.1; fill:none\\\" points=\\\"\\n  1505.34,1514.65 1505.34,47.2441 \\n  \\\"\\/>\\n<polyline clip-path=\\\"url(#clip6202)\\\" style=\\\"stroke:#000000; stroke-width:2; stroke-opacity:0.1; fill:none\\\" points=\\\"\\n  2177.31,1514.65 2177.31,47.2441 \\n  \\\"\\/>\\n<polyline clip-path=\\\"url(#clip6202)\\\" style=\\\"stroke:#000000; stroke-width:2; stroke-opacity:0.1; fill:none\\\" points=\\\"\\n  2849.29,1514.65 2849.29,47.2441 \\n  \\\"\\/>\\n<polyline clip-path=\\\"url(#clip6202)\\\" style=\\\"stroke:#000000; stroke-width:2; stroke-opacity:0.1; fill:none\\\" points=\\\"\\n  3521.26,1514.65 3521.26,47.2441 \\n  \\\"\\/>\\n<polyline clip-path=\\\"url(#clip6202)\\\" style=\\\"stroke:#000000; stroke-width:2; stroke-opacity:0.1; fill:none\\\" points=\\\"\\n  161.394,1514.65 3521.26,1514.65 \\n  \\\"\\/>\\n<polyline clip-path=\\\"url(#clip6202)\\\" style=\\\"stroke:#000000; stroke-width:2; stroke-opacity:0.1; fill:none\\\" points=\\\"\\n  161.394,1221.17 3521.26,1221.17 \\n  \\\"\\/>\\n<polyline clip-path=\\\"url(#clip6202)\\\" style=\\\"stroke:#000000; stroke-width:2; stroke-opacity:0.1; fill:none\\\" points=\\\"\\n  161.394,927.689 3521.26,927.689 \\n  \\\"\\/>\\n<polyline clip-path=\\\"url(#clip6202)\\\" style=\\\"stroke:#000000; stroke-width:2; stroke-opacity:0.1; fill:none\\\" points=\\\"\\n  161.394,634.207 3521.26,634.207 \\n  \\\"\\/>\\n<polyline clip-path=\\\"url(#clip6202)\\\" style=\\\"stroke:#000000; stroke-width:2; stroke-opacity:0.1; fill:none\\\" points=\\\"\\n  161.394,340.726 3521.26,340.726 \\n  \\\"\\/>\\n<polyline clip-path=\\\"url(#clip6202)\\\" style=\\\"stroke:#000000; stroke-width:2; stroke-opacity:0.1; fill:none\\\" points=\\\"\\n  161.394,47.2441 3521.26,47.2441 \\n  \\\"\\/>\\n<polyline clip-path=\\\"url(#clip6200)\\\" style=\\\"stroke:#000000; stroke-width:4; stroke-opacity:1; fill:none\\\" points=\\\"\\n  161.394,1514.65 3521.26,1514.65 \\n  \\\"\\/>\\n<polyline clip-path=\\\"url(#clip6200)\\\" style=\\\"stroke:#000000; stroke-width:4; stroke-opacity:1; fill:none\\\" points=\\\"\\n  161.394,1514.65 161.394,47.2441 \\n  \\\"\\/>\\n<polyline clip-path=\\\"url(#clip6200)\\\" style=\\\"stroke:#000000; stroke-width:4; stroke-opacity:1; fill:none\\\" points=\\\"\\n  161.394,1514.65 161.394,1492.64 \\n  \\\"\\/>\\n<polyline clip-path=\\\"url(#clip6200)\\\" style=\\\"stroke:#000000; stroke-width:4; stroke-opacity:1; fill:none\\\" points=\\\"\\n  833.367,1514.65 833.367,1492.64 \\n  \\\"\\/>\\n<polyline clip-path=\\\"url(#clip6200)\\\" style=\\\"stroke:#000000; stroke-width:4; stroke-opacity:1; fill:none\\\" points=\\\"\\n  1505.34,1514.65 1505.34,1492.64 \\n  \\\"\\/>\\n<polyline clip-path=\\\"url(#clip6200)\\\" style=\\\"stroke:#000000; stroke-width:4; stroke-opacity:1; fill:none\\\" points=\\\"\\n  2177.31,1514.65 2177.31,1492.64 \\n  \\\"\\/>\\n<polyline clip-path=\\\"url(#clip6200)\\\" style=\\\"stroke:#000000; stroke-width:4; stroke-opacity:1; fill:none\\\" points=\\\"\\n  2849.29,1514.65 2849.29,1492.64 \\n  \\\"\\/>\\n<polyline clip-path=\\\"url(#clip6200)\\\" style=\\\"stroke:#000000; stroke-width:4; stroke-opacity:1; fill:none\\\" points=\\\"\\n  3521.26,1514.65 3521.26,1492.64 \\n  \\\"\\/>\\n<polyline clip-path=\\\"url(#clip6200)\\\" style=\\\"stroke:#000000; stroke-width:4; stroke-opacity:1; fill:none\\\" points=\\\"\\n  161.394,1514.65 211.792,1514.65 \\n  \\\"\\/>\\n<polyline clip-path=\\\"url(#clip6200)\\\" style=\\\"stroke:#000000; stroke-width:4; stroke-opacity:1; fill:none\\\" points=\\\"\\n  161.394,1221.17 211.792,1221.17 \\n  \\\"\\/>\\n<polyline clip-path=\\\"url(#clip6200)\\\" style=\\\"stroke:#000000; stroke-width:4; stroke-opacity:1; fill:none\\\" points=\\\"\\n  161.394,927.689 211.792,927.689 \\n  \\\"\\/>\\n<polyline clip-path=\\\"url(#clip6200)\\\" style=\\\"stroke:#000000; stroke-width:4; stroke-opacity:1; fill:none\\\" points=\\\"\\n  161.394,634.207 211.792,634.207 \\n  \\\"\\/>\\n<polyline clip-path=\\\"url(#clip6200)\\\" style=\\\"stroke:#000000; stroke-width:4; stroke-opacity:1; fill:none\\\" points=\\\"\\n  161.394,340.726 211.792,340.726 \\n  \\\"\\/>\\n<polyline clip-path=\\\"url(#clip6200)\\\" style=\\\"stroke:#000000; stroke-width:4; stroke-opacity:1; fill:none\\\" points=\\\"\\n  161.394,47.2441 211.792,47.2441 \\n  \\\"\\/>\\n<g clip-path=\\\"url(#clip6200)\\\">\\n<text style=\\\"fill:#000000; fill-opacity:1; font-family:Arial,Helvetica Neue,Helvetica,sans-serif; font-size:48px; text-anchor:middle;\\\" transform=\\\"rotate(0, 161.394, 1574.65)\\\" x=\\\"161.394\\\" y=\\\"1574.65\\\">0.0<\\/text>\\n<\\/g>\\n<g clip-path=\\\"url(#clip6200)\\\">\\n<text style=\\\"fill:#000000; fill-opacity:1; font-family:Arial,Helvetica Neue,Helvetica,sans-serif; font-size:48px; text-anchor:middle;\\\" transform=\\\"rotate(0, 833.367, 1574.65)\\\" x=\\\"833.367\\\" y=\\\"1574.65\\\">0.2<\\/text>\\n<\\/g>\\n<g clip-path=\\\"url(#clip6200)\\\">\\n<text style=\\\"fill:#000000; fill-opacity:1; font-family:Arial,Helvetica Neue,Helvetica,sans-serif; font-size:48px; text-anchor:middle;\\\" transform=\\\"rotate(0, 1505.34, 1574.65)\\\" x=\\\"1505.34\\\" y=\\\"1574.65\\\">0.4<\\/text>\\n<\\/g>\\n<g clip-path=\\\"url(#clip6200)\\\">\\n<text style=\\\"fill:#000000; fill-opacity:1; font-family:Arial,Helvetica Neue,Helvetica,sans-serif; font-size:48px; text-anchor:middle;\\\" transform=\\\"rotate(0, 2177.31, 1574.65)\\\" x=\\\"2177.31\\\" y=\\\"1574.65\\\">0.6<\\/text>\\n<\\/g>\\n<g clip-path=\\\"url(#clip6200)\\\">\\n<text style=\\\"fill:#000000; fill-opacity:1; font-family:Arial,Helvetica Neue,Helvetica,sans-serif; font-size:48px; text-anchor:middle;\\\" transform=\\\"rotate(0, 2849.29, 1574.65)\\\" x=\\\"2849.29\\\" y=\\\"1574.65\\\">0.8<\\/text>\\n<\\/g>\\n<g clip-path=\\\"url(#clip6200)\\\">\\n<text style=\\\"fill:#000000; fill-opacity:1; font-family:Arial,Helvetica Neue,Helvetica,sans-serif; font-size:48px; text-anchor:middle;\\\" transform=\\\"rotate(0, 3521.26, 1574.65)\\\" x=\\\"3521.26\\\" y=\\\"1574.65\\\">1.0<\\/text>\\n<\\/g>\\n<g clip-path=\\\"url(#clip6200)\\\">\\n<text style=\\\"fill:#000000; fill-opacity:1; font-family:Arial,Helvetica Neue,Helvetica,sans-serif; font-size:48px; text-anchor:end;\\\" transform=\\\"rotate(0, 125.394, 1532.15)\\\" x=\\\"125.394\\\" y=\\\"1532.15\\\">0.0<\\/text>\\n<\\/g>\\n<g clip-path=\\\"url(#clip6200)\\\">\\n<text style=\\\"fill:#000000; fill-opacity:1; font-family:Arial,Helvetica Neue,Helvetica,sans-serif; font-size:48px; text-anchor:end;\\\" transform=\\\"rotate(0, 125.394, 1238.67)\\\" x=\\\"125.394\\\" y=\\\"1238.67\\\">0.2<\\/text>\\n<\\/g>\\n<g clip-path=\\\"url(#clip6200)\\\">\\n<text style=\\\"fill:#000000; fill-opacity:1; font-family:Arial,Helvetica Neue,Helvetica,sans-serif; font-size:48px; text-anchor:end;\\\" transform=\\\"rotate(0, 125.394, 945.189)\\\" x=\\\"125.394\\\" y=\\\"945.189\\\">0.4<\\/text>\\n<\\/g>\\n<g clip-path=\\\"url(#clip6200)\\\">\\n<text style=\\\"fill:#000000; fill-opacity:1; font-family:Arial,Helvetica Neue,Helvetica,sans-serif; font-size:48px; text-anchor:end;\\\" transform=\\\"rotate(0, 125.394, 651.707)\\\" x=\\\"125.394\\\" y=\\\"651.707\\\">0.6<\\/text>\\n<\\/g>\\n<g clip-path=\\\"url(#clip6200)\\\">\\n<text style=\\\"fill:#000000; fill-opacity:1; font-family:Arial,Helvetica Neue,Helvetica,sans-serif; font-size:48px; text-anchor:end;\\\" transform=\\\"rotate(0, 125.394, 358.226)\\\" x=\\\"125.394\\\" y=\\\"358.226\\\">0.8<\\/text>\\n<\\/g>\\n<g clip-path=\\\"url(#clip6200)\\\">\\n<text style=\\\"fill:#000000; fill-opacity:1; font-family:Arial,Helvetica Neue,Helvetica,sans-serif; font-size:48px; text-anchor:end;\\\" transform=\\\"rotate(0, 125.394, 64.7441)\\\" x=\\\"125.394\\\" y=\\\"64.7441\\\">1.0<\\/text>\\n<\\/g>\\n<circle clip-path=\\\"url(#clip6202)\\\" style=\\\"fill:#000000; stroke:none; fill-opacity:1\\\" cx=\\\"497.381\\\" cy=\\\"647.946\\\" r=\\\"18\\\"\\/>\\n<circle clip-path=\\\"url(#clip6202)\\\" style=\\\"fill:#009af9; stroke:none; fill-opacity:1\\\" cx=\\\"497.381\\\" cy=\\\"647.946\\\" r=\\\"14\\\"\\/>\\n<circle clip-path=\\\"url(#clip6202)\\\" style=\\\"fill:#000000; stroke:none; fill-opacity:1\\\" cx=\\\"796.035\\\" cy=\\\"651.032\\\" r=\\\"18\\\"\\/>\\n<circle clip-path=\\\"url(#clip6202)\\\" style=\\\"fill:#009af9; stroke:none; fill-opacity:1\\\" cx=\\\"796.035\\\" cy=\\\"651.032\\\" r=\\\"14\\\"\\/>\\n<circle clip-path=\\\"url(#clip6202)\\\" style=\\\"fill:#000000; stroke:none; fill-opacity:1\\\" cx=\\\"1094.69\\\" cy=\\\"1314.18\\\" r=\\\"18\\\"\\/>\\n<circle clip-path=\\\"url(#clip6202)\\\" style=\\\"fill:#009af9; stroke:none; fill-opacity:1\\\" cx=\\\"1094.69\\\" cy=\\\"1314.18\\\" r=\\\"14\\\"\\/>\\n<circle clip-path=\\\"url(#clip6202)\\\" style=\\\"fill:#000000; stroke:none; fill-opacity:1\\\" cx=\\\"1393.34\\\" cy=\\\"790.458\\\" r=\\\"18\\\"\\/>\\n<circle clip-path=\\\"url(#clip6202)\\\" style=\\\"fill:#009af9; stroke:none; fill-opacity:1\\\" cx=\\\"1393.34\\\" cy=\\\"790.458\\\" r=\\\"14\\\"\\/>\\n<circle clip-path=\\\"url(#clip6202)\\\" style=\\\"fill:#000000; stroke:none; fill-opacity:1\\\" cx=\\\"1692\\\" cy=\\\"723.168\\\" r=\\\"18\\\"\\/>\\n<circle clip-path=\\\"url(#clip6202)\\\" style=\\\"fill:#009af9; stroke:none; fill-opacity:1\\\" cx=\\\"1692\\\" cy=\\\"723.168\\\" r=\\\"14\\\"\\/>\\n<circle clip-path=\\\"url(#clip6202)\\\" style=\\\"fill:#000000; stroke:none; fill-opacity:1\\\" cx=\\\"1990.65\\\" cy=\\\"764.113\\\" r=\\\"18\\\"\\/>\\n<circle clip-path=\\\"url(#clip6202)\\\" style=\\\"fill:#009af9; stroke:none; fill-opacity:1\\\" cx=\\\"1990.65\\\" cy=\\\"764.113\\\" r=\\\"14\\\"\\/>\\n<circle clip-path=\\\"url(#clip6202)\\\" style=\\\"fill:#000000; stroke:none; fill-opacity:1\\\" cx=\\\"2289.31\\\" cy=\\\"404.942\\\" r=\\\"18\\\"\\/>\\n<circle clip-path=\\\"url(#clip6202)\\\" style=\\\"fill:#009af9; stroke:none; fill-opacity:1\\\" cx=\\\"2289.31\\\" cy=\\\"404.942\\\" r=\\\"14\\\"\\/>\\n<circle clip-path=\\\"url(#clip6202)\\\" style=\\\"fill:#000000; stroke:none; fill-opacity:1\\\" cx=\\\"2587.96\\\" cy=\\\"612.667\\\" r=\\\"18\\\"\\/>\\n<circle clip-path=\\\"url(#clip6202)\\\" style=\\\"fill:#009af9; stroke:none; fill-opacity:1\\\" cx=\\\"2587.96\\\" cy=\\\"612.667\\\" r=\\\"14\\\"\\/>\\n<circle clip-path=\\\"url(#clip6202)\\\" style=\\\"fill:#000000; stroke:none; fill-opacity:1\\\" cx=\\\"2886.62\\\" cy=\\\"429.098\\\" r=\\\"18\\\"\\/>\\n<circle clip-path=\\\"url(#clip6202)\\\" style=\\\"fill:#009af9; stroke:none; fill-opacity:1\\\" cx=\\\"2886.62\\\" cy=\\\"429.098\\\" r=\\\"14\\\"\\/>\\n<circle clip-path=\\\"url(#clip6202)\\\" style=\\\"fill:#000000; stroke:none; fill-opacity:1\\\" cx=\\\"3185.27\\\" cy=\\\"805.985\\\" r=\\\"18\\\"\\/>\\n<circle clip-path=\\\"url(#clip6202)\\\" style=\\\"fill:#009af9; stroke:none; fill-opacity:1\\\" cx=\\\"3185.27\\\" cy=\\\"805.985\\\" r=\\\"14\\\"\\/>\\n<polygon clip-path=\\\"url(#clip6202)\\\" points=\\\"\\n161.394,1057.33 178.278,1052.88 195.162,1047.38 212.045,1040.65 228.929,1032.53 245.813,1022.83 262.697,1011.38 279.58,998.021 296.464,982.612 313.348,965.036 \\n  330.232,945.216 347.115,923.115 363.999,898.748 380.883,872.186 397.767,843.565 414.65,813.084 431.534,781.014 448.418,747.695 465.301,713.537 482.185,679.04 \\n  499.069,649.806 515.953,658.474 532.836,665.753 549.72,670.861 566.604,673.734 583.488,674.409 600.371,673.022 617.255,669.806 634.139,665.091 651.023,659.299 \\n  667.906,652.937 684.79,646.579 701.674,640.857 718.558,636.433 735.441,633.984 752.325,634.172 769.209,637.63 786.093,644.996 802.976,671.625 819.86,723.496 \\n  836.744,778.619 853.628,835.898 870.511,894.296 887.395,952.733 904.279,1010.11 921.163,1065.35 938.046,1117.37 954.93,1165.2 971.814,1207.93 988.698,1244.76 \\n  1005.58,1275.06 1022.47,1298.31 1039.35,1314.21 1056.23,1322.61 1073.12,1323.57 1090,1317.57 1106.88,1329.92 1123.77,1345.22 1140.65,1353.06 1157.54,1353.16 \\n  1174.42,1345.46 1191.3,1330.11 1208.19,1307.4 1225.07,1277.83 1241.95,1242.02 1258.84,1200.73 1275.72,1154.83 1292.61,1105.27 1309.49,1053.06 1326.37,999.267 \\n  1343.26,944.937 1360.14,891.121 1377.02,838.854 1393.91,791.602 1410.79,779.066 1427.68,770.843 1444.56,765.159 1461.44,761.516 1478.33,759.414 1495.21,758.358 \\n  1512.09,757.873 1528.98,757.53 1545.86,756.961 1562.75,755.87 1579.63,754.047 1596.51,751.373 1613.4,747.816 1630.28,743.436 1647.16,738.37 1664.05,732.83 \\n  1680.93,727.14 1697.82,733.84 1714.7,763.449 1731.58,792.454 1748.47,819.888 1765.35,845.003 1782.23,867.118 1799.12,885.625 1816,899.997 1832.89,909.802 \\n  1849.77,914.711 1866.65,914.505 1883.54,909.08 1900.42,898.451 1917.3,882.755 1934.19,862.245 1951.07,837.29 1967.96,808.379 1984.84,776.27 2001.72,764.33 \\n  2018.61,761.952 2035.49,756.566 2052.37,747.876 2069.26,735.749 2086.14,720.175 2103.03,701.264 2119.91,679.247 2136.79,654.474 2153.68,627.401 2170.56,598.58 \\n  2187.44,568.644 2204.33,538.286 2221.21,508.235 2238.1,479.237 2254.98,452.032 2271.86,427.347 2288.75,407.175 2305.63,422.134 2322.51,442.727 2339.4,465.695 \\n  2356.28,490.208 2373.16,515.428 2390.05,540.508 2406.93,564.617 2423.82,586.965 2440.7,606.824 2457.58,623.551 2474.47,636.61 2491.35,645.584 2508.23,650.191 \\n  2525.12,650.29 2542,645.888 2558.89,637.143 2575.77,624.4 2592.65,618.101 2609.54,633.604 2626.42,645.519 2643.3,653.244 2660.19,656.547 2677.07,655.355 \\n  2693.96,649.74 2710.84,639.917 2727.72,626.239 2744.61,609.183 2761.49,589.338 2778.37,567.384 2795.26,544.076 2812.14,520.216 2829.03,496.631 2845.91,474.15 \\n  2862.79,453.587 2879.68,435.837 2896.56,442.706 2913.44,468.057 2930.33,496.388 2947.21,526.932 2964.1,558.939 2980.98,591.633 2997.86,624.234 3014.75,655.98 \\n  3031.63,686.145 3048.51,714.062 3065.4,739.14 3082.28,760.878 3099.17,778.878 3116.05,792.848 3132.93,802.614 3149.82,808.113 3166.7,809.406 3183.58,807.294 \\n  3200.47,841.111 3217.35,878.284 3234.24,913.301 3251.12,945.774 3268,975.426 3284.89,1002.07 3301.77,1025.6 3318.65,1045.98 3335.54,1063.27 3352.42,1077.58 \\n  3369.31,1089.08 3386.19,1097.97 3403.07,1104.5 3419.96,1108.93 3436.84,1111.55 3453.72,1112.64 3470.61,1112.47 3487.49,1111.3 3504.38,1109.37 3521.26,1106.91 \\n  3521.26,449.629 3504.38,461.904 3487.49,475.548 3470.61,490.591 3453.72,507.042 3436.84,524.871 3419.96,544.016 3403.07,564.365 3386.19,585.765 3369.31,608.008 \\n  3352.42,630.838 3335.54,653.946 3318.65,676.979 3301.77,699.538 3284.89,721.192 3268,741.483 3251.12,759.943 3234.24,776.099 3217.35,789.495 3200.47,799.68 \\n  3183.58,801.202 3166.7,761.689 3149.82,720.812 3132.93,679.854 3116.05,639.492 3099.17,600.405 3082.28,563.273 3065.4,528.752 3048.51,497.459 3031.63,469.952 \\n  3014.75,446.71 2997.86,428.117 2980.98,414.449 2964.1,405.861 2947.21,402.38 2930.33,403.896 2913.44,410.164 2896.56,420.74 2879.68,420.25 2862.79,402.487 \\n  2845.91,388.983 2829.03,380.166 2812.14,376.196 2795.26,377.088 2778.37,382.71 2761.49,392.796 2744.61,406.946 2727.72,424.646 2710.84,445.275 2693.96,468.131 \\n  2677.07,492.446 2660.19,517.414 2643.3,542.211 2626.42,566.023 2609.54,588.054 2592.65,607.331 2575.77,598.299 2558.89,576.36 2542,552.208 2525.12,526.645 \\n  2508.23,500.467 2491.35,474.492 2474.47,449.53 2457.58,426.367 2440.7,405.734 2423.82,388.291 2406.93,374.602 2390.05,365.121 2373.16,360.178 2356.28,359.968 \\n  2339.4,364.547 2322.51,373.825 2305.63,387.552 2288.75,402.858 2271.86,390.442 2254.98,380.915 2238.1,376.068 2221.21,376.238 2204.33,381.606 2187.44,392.206 \\n  2170.56,407.929 2153.68,428.532 2136.79,453.641 2119.91,482.765 2103.03,515.31 2086.14,550.596 2069.26,587.874 2052.37,626.35 2035.49,665.198 2018.61,703.584 \\n  2001.72,740.628 1984.84,763.306 1967.96,760.685 1951.07,755.936 1934.19,749.74 1917.3,742.622 1900.42,735.091 1883.54,727.626 1866.65,720.663 1849.77,714.576 \\n  1832.89,709.667 1816,706.155 1799.12,704.171 1782.23,703.758 1765.35,704.87 1748.47,707.383 1731.58,711.099 1714.7,715.756 1697.82,720.876 1680.93,703.437 \\n  1664.05,674.462 1647.16,647.002 1630.28,621.91 1613.4,599.941 1596.51,581.793 1579.63,568.093 1562.75,559.387 1545.86,556.127 1528.98,558.661 1512.09,567.222 \\n  1495.21,581.919 1478.33,602.735 1461.44,629.52 1444.56,661.989 1427.68,699.725 1410.79,742.161 1393.91,787.284 1377.02,804.272 1360.14,822.218 1343.26,843.788 \\n  1326.37,869.027 1309.49,897.813 1292.61,929.88 1275.72,964.812 1258.84,1002.06 1241.95,1040.93 1225.07,1080.65 1208.19,1120.33 1191.3,1159.02 1174.42,1195.74 \\n  1157.54,1229.52 1140.65,1259.38 1123.77,1284.44 1106.88,1303.82 1090,1306.8 1073.12,1278.02 1056.23,1243.12 1039.35,1203.18 1022.47,1159.18 1005.58,1112.15 \\n  988.698,1063.15 971.814,1013.29 954.93,963.61 938.046,915.137 921.163,868.804 904.279,825.439 887.395,785.744 870.511,750.276 853.628,719.433 836.744,693.452 \\n  819.86,672.395 802.976,656.039 786.093,623.03 769.209,579.738 752.325,541.681 735.441,509.431 718.558,483.356 701.674,463.673 684.79,450.462 667.906,443.666 \\n  651.023,443.106 634.139,448.488 617.255,459.418 600.371,475.417 583.488,495.937 566.604,520.377 549.72,548.102 532.836,578.453 515.953,610.757 499.069,643.714 \\n  482.185,637.609 465.301,624.749 448.418,610.494 431.534,595.183 414.65,579.141 397.767,562.688 380.883,546.129 363.999,529.745 347.115,513.788 330.232,498.47 \\n  313.348,483.966 296.464,470.408 279.58,457.889 262.697,446.462 245.813,436.146 228.929,426.929 212.045,418.775 195.162,411.627 178.278,405.414 161.394,400.057 \\n  \\n  \\\" fill=\\\"#e26f46\\\" fill-rule=\\\"evenodd\\\" fill-opacity=\\\"0.5\\\"\\/>\\n<polyline clip-path=\\\"url(#clip6202)\\\" style=\\\"stroke:#e26f46; stroke-width:4; stroke-opacity:1; fill:none\\\" points=\\\"\\n  161.394,728.695 178.278,729.147 195.162,729.501 212.045,729.712 228.929,729.728 245.813,729.486 262.697,728.92 279.58,727.955 296.464,726.51 313.348,724.501 \\n  330.232,721.843 347.115,718.451 363.999,714.247 380.883,709.158 397.767,703.126 414.65,696.113 431.534,688.099 448.418,679.094 465.301,669.143 482.185,658.324 \\n  499.069,646.76 515.953,634.616 532.836,622.103 549.72,609.482 566.604,597.056 583.488,585.173 600.371,574.219 617.255,564.612 634.139,556.789 651.023,551.202 \\n  667.906,548.301 684.79,548.52 701.674,552.265 718.558,559.895 735.441,571.708 752.325,587.926 769.209,608.684 786.093,634.013 802.976,663.832 819.86,697.945 \\n  836.744,736.035 853.628,777.666 870.511,822.286 887.395,869.239 904.279,917.777 921.163,967.075 938.046,1016.26 954.93,1064.41 971.814,1110.61 988.698,1153.96 \\n  1005.58,1193.6 1022.47,1228.74 1039.35,1258.69 1056.23,1282.86 1073.12,1300.8 1090,1312.19 1106.88,1316.87 1123.77,1314.83 1140.65,1306.22 1157.54,1291.34 \\n  1174.42,1270.6 1191.3,1244.56 1208.19,1213.87 1225.07,1179.24 1241.95,1141.48 1258.84,1101.39 1275.72,1059.82 1292.61,1017.57 1309.49,975.439 1326.37,934.147 \\n  1343.26,894.363 1360.14,856.67 1377.02,821.563 1393.91,789.443 1410.79,760.613 1427.68,735.284 1444.56,713.574 1461.44,695.518 1478.33,681.075 1495.21,670.138 \\n  1512.09,662.547 1528.98,658.096 1545.86,656.544 1562.75,657.628 1579.63,661.07 1596.51,666.583 1613.4,673.879 1630.28,682.673 1647.16,692.686 1664.05,703.646 \\n  1680.93,715.289 1697.82,727.358 1714.7,739.603 1731.58,751.776 1748.47,763.635 1765.35,774.937 1782.23,785.438 1799.12,794.898 1816,803.076 1832.89,809.734 \\n  1849.77,814.643 1866.65,817.584 1883.54,818.353 1900.42,816.771 1917.3,812.689 1934.19,805.992 1951.07,796.613 1967.96,784.532 1984.84,769.788 2001.72,752.479 \\n  2018.61,732.768 2035.49,710.882 2052.37,687.113 2069.26,661.812 2086.14,635.385 2103.03,608.287 2119.91,581.006 2136.79,554.057 2153.68,527.966 2170.56,503.255 \\n  2187.44,480.425 2204.33,459.946 2221.21,442.236 2238.1,427.652 2254.98,416.473 2271.86,408.894 2288.75,405.016 2305.63,404.843 2322.51,408.276 2339.4,415.121 \\n  2356.28,425.088 2373.16,437.803 2390.05,452.814 2406.93,469.61 2423.82,487.628 2440.7,506.279 2457.58,524.959 2474.47,543.07 2491.35,560.038 2508.23,575.329 \\n  2525.12,588.467 2542,599.048 2558.89,606.751 2575.77,611.349 2592.65,612.716 2609.54,610.829 2626.42,605.771 2643.3,597.728 2660.19,586.981 2677.07,573.901 \\n  2693.96,558.935 2710.84,542.596 2727.72,525.443 2744.61,508.065 2761.49,491.067 2778.37,475.047 2795.26,460.582 2812.14,448.206 2829.03,438.398 2845.91,431.567 \\n  2862.79,428.037 2879.68,428.043 2896.56,431.723 2913.44,439.11 2930.33,450.142 2947.21,464.656 2964.1,482.4 2980.98,503.041 2997.86,526.176 3014.75,551.345 \\n  3031.63,578.049 3048.51,605.761 3065.4,633.946 3082.28,662.076 3099.17,689.642 3116.05,716.17 3132.93,741.234 3149.82,764.463 3166.7,785.547 3183.58,804.248 \\n  3200.47,820.395 3217.35,833.89 3234.24,844.7 3251.12,852.858 3268,858.455 3284.89,861.63 3301.77,862.567 3318.65,861.48 3335.54,858.61 3352.42,854.211 \\n  3369.31,848.543 3386.19,841.866 3403.07,834.431 3419.96,826.474 3436.84,818.212 3453.72,809.84 3470.61,801.529 3487.49,793.422 3504.38,785.638 3521.26,778.267 \\n  \\n  \\\"\\/>\\n<polygon clip-path=\\\"url(#clip6200)\\\" points=\\\"\\n2668.05,384.204 3413.26,384.204 3413.26,202.764 2668.05,202.764 \\n  \\\" fill=\\\"#ffffff\\\" fill-rule=\\\"evenodd\\\" fill-opacity=\\\"1\\\"\\/>\\n<polyline clip-path=\\\"url(#clip6200)\\\" style=\\\"stroke:#000000; stroke-width:4; stroke-opacity:1; fill:none\\\" points=\\\"\\n  2668.05,384.204 3413.26,384.204 3413.26,202.764 2668.05,202.764 2668.05,384.204 \\n  \\\"\\/>\\n<circle clip-path=\\\"url(#clip6200)\\\" style=\\\"fill:#000000; stroke:none; fill-opacity:1\\\" cx=\\\"2830.05\\\" cy=\\\"263.244\\\" r=\\\"25\\\"\\/>\\n<circle clip-path=\\\"url(#clip6200)\\\" style=\\\"fill:#009af9; stroke:none; fill-opacity:1\\\" cx=\\\"2830.05\\\" cy=\\\"263.244\\\" r=\\\"21\\\"\\/>\\n<g clip-path=\\\"url(#clip6200)\\\">\\n<text style=\\\"fill:#000000; fill-opacity:1; font-family:Arial,Helvetica Neue,Helvetica,sans-serif; font-size:48px; text-anchor:start;\\\" transform=\\\"rotate(0, 2956.05, 280.744)\\\" x=\\\"2956.05\\\" y=\\\"280.744\\\">data<\\/text>\\n<\\/g>\\n<polyline clip-path=\\\"url(#clip6200)\\\" style=\\\"stroke:#e26f46; stroke-width:4; stroke-opacity:1; fill:none\\\" points=\\\"\\n  2704.05,323.724 2920.05,323.724 \\n  \\\"\\/>\\n<g clip-path=\\\"url(#clip6200)\\\">\\n<text style=\\\"fill:#000000; fill-opacity:1; font-family:Arial,Helvetica Neue,Helvetica,sans-serif; font-size:48px; text-anchor:start;\\\" transform=\\\"rotate(0, 2956.05, 341.224)\\\" x=\\\"2956.05\\\" y=\\\"341.224\\\">Gaussian process<\\/text>\\n<\\/g>\\n<\\/svg>\\n\"},\"nodeType\":\"DOM\",\"type\":\"node\",\"instanceArgs\":{\"namespace\":\"html\",\"tag\":\"div\"},\"children\":[]}]}}}},\"children\":[{\"props\":{},\"nodeType\":\"ObservableNode\",\"type\":\"node\",\"instanceArgs\":{\"id\":\"ob_22\",\"name\":\"obs-node\"},\"children\":[]}]}]},\n",
       "            window,\n",
       "        );\n",
       "    } else {\n",
       "        document\n",
       "            .querySelector('[data-webio-mountpoint=\"9172130781233578586\"]')\n",
       "            .innerHTML = '<strong>WebIO not detected.</strong>';\n",
       "    }\n",
       "    </script>\n",
       "</div>\n"
      ],
      "text/plain": [
       "Node{WebIO.DOM}(WebIO.DOM(:html, :div), Any[Node{DOM}(DOM(:html, :div), Any[Scope(\"knockout-component-ac1960ba-d9a8-479e-aa4f-ba9c655b54df\", Node{DOM}(DOM(:html, :div), Any[Node{DOM}(DOM(:html, :div), Any[Node{DOM}(DOM(:html, :label), Any[\"s\"], Dict{Symbol,Any}(:className=>\"interact \",:style=>Dict{Any,Any}(:padding=>\"5px 10px 0px 10px\")), 1)], Dict{Symbol,Any}(:className=>\"interact-flex-row-left\"), 2), Node{DOM}(DOM(:html, :div), Any[Node{DOM}(DOM(:html, :input), Any[], Dict{Symbol,Any}(:max=>50,:min=>1,:attributes=>Dict{Any,Any}(:type=>\"range\",Symbol(\"data-bind\")=>\"numericValue: index, valueUpdate: 'input', event: {change: function (){this.changes(this.changes()+1)}}\",\"orient\"=>\"horizontal\"),:step=>1,:className=>\"slider slider is-fullwidth\",:style=>Dict{Any,Any}()), 0)], Dict{Symbol,Any}(:className=>\"interact-flex-row-center\"), 1), Node{DOM}(DOM(:html, :div), Any[Node{DOM}(DOM(:html, :p), Any[], Dict{Symbol,Any}(:attributes=>Dict(\"data-bind\"=>\"text: formatted_val\")), 0)], Dict{Symbol,Any}(:className=>\"interact-flex-row-right\"), 1)], Dict{Symbol,Any}(:className=>\"interact-flex-row interact-widget\"), 7), Dict{String,Tuple{Observables.AbstractObservable,Union{Nothing, Bool}}}(\"changes\"=>(Observable{Int64} with 1 listeners. Value:\n",
       "0, nothing),\"index\"=>(Observable{Any} with 2 listeners. Value:\n",
       "25, nothing)), Set(String[]), nothing, Asset[Asset(\"js\", \"knockout\", \"/home/juliohm/.julia/packages/Knockout/JE2Yq/src/../assets/knockout.js\"), Asset(\"js\", \"knockout_punches\", \"/home/juliohm/.julia/packages/Knockout/JE2Yq/src/../assets/knockout_punches.js\"), Asset(\"js\", nothing, \"/home/juliohm/.julia/packages/InteractBase/R8JgH/src/../assets/all.js\"), Asset(\"css\", nothing, \"/home/juliohm/.julia/packages/InteractBase/R8JgH/src/../assets/style.css\"), Asset(\"css\", nothing, \"/home/juliohm/.julia/packages/Interact/0klKX/src/../assets/bulma_confined.min.css\")], Dict{Any,Any}(\"changes\"=>Any[JSString(\"(function (val){return (val!=this.model[\\\"changes\\\"]()) ? (this.valueFromJulia[\\\"changes\\\"]=true, this.model[\\\"changes\\\"](val)) : undefined})\")],\"index\"=>Any[JSString(\"(function (val){return (val!=this.model[\\\"index\\\"]()) ? (this.valueFromJulia[\\\"index\\\"]=true, this.model[\\\"index\\\"](val)) : undefined})\")]), ConnectionPool(Channel{Any}(sz_max:9223372036854775807,sz_curr:0), Set(AbstractConnection[]), Channel{AbstractConnection}(sz_max:32,sz_curr:0)), WebIO.JSString[JSString(\"function () {\\n    var handler = (function (ko, koPunches) {\\n    ko.punches.enableAll();\\n    ko.bindingHandlers.numericValue = {\\n        init : function(element, valueAccessor, allBindings, data, context) {\\n            var stringified = ko.observable(ko.unwrap(valueAccessor()));\\n            stringified.subscribe(function(value) {\\n                var val = parseFloat(value);\\n                if (!isNaN(val)) {\\n                    valueAccessor()(val);\\n                }\\n            })\\n            valueAccessor().subscribe(function(value) {\\n                var str = JSON.stringify(value);\\n                if ((str == \\\"0\\\") && ([\\\"-0\\\", \\\"-0.\\\"].indexOf(stringified()) >= 0))\\n                     return;\\n                 if ([\\\"null\\\", \\\"\\\"].indexOf(str) >= 0)\\n                     return;\\n                stringified(str);\\n            })\\n            ko.applyBindingsToNode(element, { value: stringified, valueUpdate: allBindings.get('valueUpdate')}, context);\\n        }\\n    };\\n    var json_data = {\\\"formatted_vals\\\":[\\\"0.0\\\",\\\"0.00204082\\\",\\\"0.00408163\\\",\\\"0.00612245\\\",\\\"0.00816327\\\",\\\"0.0102041\\\",\\\"0.0122449\\\",\\\"0.0142857\\\",\\\"0.0163265\\\",\\\"0.0183673\\\",\\\"0.0204082\\\",\\\"0.022449\\\",\\\"0.0244898\\\",\\\"0.0265306\\\",\\\"0.0285714\\\",\\\"0.0306122\\\",\\\"0.0326531\\\",\\\"0.0346939\\\",\\\"0.0367347\\\",\\\"0.0387755\\\",\\\"0.0408163\\\",\\\"0.0428571\\\",\\\"0.044898\\\",\\\"0.0469388\\\",\\\"0.0489796\\\",\\\"0.0510204\\\",\\\"0.0530612\\\",\\\"0.055102\\\",\\\"0.0571429\\\",\\\"0.0591837\\\",\\\"0.0612245\\\",\\\"0.0632653\\\",\\\"0.0653061\\\",\\\"0.0673469\\\",\\\"0.0693878\\\",\\\"0.0714286\\\",\\\"0.0734694\\\",\\\"0.0755102\\\",\\\"0.077551\\\",\\\"0.0795918\\\",\\\"0.0816327\\\",\\\"0.0836735\\\",\\\"0.0857143\\\",\\\"0.0877551\\\",\\\"0.0897959\\\",\\\"0.0918367\\\",\\\"0.0938776\\\",\\\"0.0959184\\\",\\\"0.0979592\\\",\\\"0.1\\\"],\\\"changes\\\":WebIO.getval({\\\"name\\\":\\\"changes\\\",\\\"scope\\\":\\\"knockout-component-ac1960ba-d9a8-479e-aa4f-ba9c655b54df\\\",\\\"id\\\":\\\"ob_15\\\",\\\"type\\\":\\\"observable\\\"}),\\\"index\\\":WebIO.getval({\\\"name\\\":\\\"index\\\",\\\"scope\\\":\\\"knockout-component-ac1960ba-d9a8-479e-aa4f-ba9c655b54df\\\",\\\"id\\\":\\\"ob_14\\\",\\\"type\\\":\\\"observable\\\"})};\\n    var self = this;\\n    function AppViewModel() {\\n        for (var key in json_data) {\\n            var el = json_data[key];\\n            this[key] = Array.isArray(el) ? ko.observableArray(el) : ko.observable(el);\\n        }\\n        \\n        [this[\\\"formatted_val\\\"]=ko.computed(    function(){\\n        return this.formatted_vals()[parseInt(this.index())-1];\\n    }\\n,this)]\\n        [this[\\\"changes\\\"].subscribe((function (val){!(this.valueFromJulia[\\\"changes\\\"]) ? (WebIO.setval({\\\"name\\\":\\\"changes\\\",\\\"scope\\\":\\\"knockout-component-ac1960ba-d9a8-479e-aa4f-ba9c655b54df\\\",\\\"id\\\":\\\"ob_15\\\",\\\"type\\\":\\\"observable\\\"},val)) : undefined; return this.valueFromJulia[\\\"changes\\\"]=false}),self),this[\\\"index\\\"].subscribe((function (val){!(this.valueFromJulia[\\\"index\\\"]) ? (WebIO.setval({\\\"name\\\":\\\"index\\\",\\\"scope\\\":\\\"knockout-component-ac1960ba-d9a8-479e-aa4f-ba9c655b54df\\\",\\\"id\\\":\\\"ob_14\\\",\\\"type\\\":\\\"observable\\\"},val)) : undefined; return this.valueFromJulia[\\\"index\\\"]=false}),self)]\\n        \\n    }\\n    self.model = new AppViewModel();\\n    self.valueFromJulia = {};\\n    for (var key in json_data) {\\n        self.valueFromJulia[key] = false;\\n    }\\n    ko.applyBindings(self.model, self.dom);\\n}\\n);\\n    (WebIO.importBlock({\\\"data\\\":[{\\\"name\\\":\\\"knockout\\\",\\\"type\\\":\\\"js\\\",\\\"url\\\":\\\"/assetserver/24e2b70eb9e173a49e23c0745ccd248bfbf38bf9-knockout.js\\\"},{\\\"name\\\":\\\"knockout_punches\\\",\\\"type\\\":\\\"js\\\",\\\"url\\\":\\\"/assetserver/275b61436d7fa46a7116217771eb956e6cd64022-knockout_punches.js\\\"}],\\\"type\\\":\\\"async_block\\\"})).then((imports) => handler.apply(this, imports));\\n}\\n\")])], Dict{Symbol,Any}(:className=>\"field interact-widget\"), 1), Node{DOM}(DOM(:html, :div), Any[Scope(\"knockout-component-48295aac-71ed-474b-a45c-fb9aff28f330\", Node{DOM}(DOM(:html, :div), Any[Node{DOM}(DOM(:html, :div), Any[Node{DOM}(DOM(:html, :label), Any[\"r\"], Dict{Symbol,Any}(:className=>\"interact \",:style=>Dict{Any,Any}(:padding=>\"5px 10px 0px 10px\")), 1)], Dict{Symbol,Any}(:className=>\"interact-flex-row-left\"), 2), Node{DOM}(DOM(:html, :div), Any[Node{DOM}(DOM(:html, :input), Any[], Dict{Symbol,Any}(:max=>50,:min=>1,:attributes=>Dict{Any,Any}(:type=>\"range\",Symbol(\"data-bind\")=>\"numericValue: index, valueUpdate: 'input', event: {change: function (){this.changes(this.changes()+1)}}\",\"orient\"=>\"horizontal\"),:step=>1,:className=>\"slider slider is-fullwidth\",:style=>Dict{Any,Any}()), 0)], Dict{Symbol,Any}(:className=>\"interact-flex-row-center\"), 1), Node{DOM}(DOM(:html, :div), Any[Node{DOM}(DOM(:html, :p), Any[], Dict{Symbol,Any}(:attributes=>Dict(\"data-bind\"=>\"text: formatted_val\")), 0)], Dict{Symbol,Any}(:className=>\"interact-flex-row-right\"), 1)], Dict{Symbol,Any}(:className=>\"interact-flex-row interact-widget\"), 7), Dict{String,Tuple{Observables.AbstractObservable,Union{Nothing, Bool}}}(\"changes\"=>(Observable{Int64} with 1 listeners. Value:\n",
       "0, nothing),\"index\"=>(Observable{Any} with 2 listeners. Value:\n",
       "25, nothing)), Set(String[]), nothing, Asset[Asset(\"js\", \"knockout\", \"/home/juliohm/.julia/packages/Knockout/JE2Yq/src/../assets/knockout.js\"), Asset(\"js\", \"knockout_punches\", \"/home/juliohm/.julia/packages/Knockout/JE2Yq/src/../assets/knockout_punches.js\"), Asset(\"js\", nothing, \"/home/juliohm/.julia/packages/InteractBase/R8JgH/src/../assets/all.js\"), Asset(\"css\", nothing, \"/home/juliohm/.julia/packages/InteractBase/R8JgH/src/../assets/style.css\"), Asset(\"css\", nothing, \"/home/juliohm/.julia/packages/Interact/0klKX/src/../assets/bulma_confined.min.css\")], Dict{Any,Any}(\"changes\"=>Any[JSString(\"(function (val){return (val!=this.model[\\\"changes\\\"]()) ? (this.valueFromJulia[\\\"changes\\\"]=true, this.model[\\\"changes\\\"](val)) : undefined})\")],\"index\"=>Any[JSString(\"(function (val){return (val!=this.model[\\\"index\\\"]()) ? (this.valueFromJulia[\\\"index\\\"]=true, this.model[\\\"index\\\"](val)) : undefined})\")]), ConnectionPool(Channel{Any}(sz_max:9223372036854775807,sz_curr:0), Set(AbstractConnection[]), Channel{AbstractConnection}(sz_max:32,sz_curr:0)), WebIO.JSString[JSString(\"function () {\\n    var handler = (function (ko, koPunches) {\\n    ko.punches.enableAll();\\n    ko.bindingHandlers.numericValue = {\\n        init : function(element, valueAccessor, allBindings, data, context) {\\n            var stringified = ko.observable(ko.unwrap(valueAccessor()));\\n            stringified.subscribe(function(value) {\\n                var val = parseFloat(value);\\n                if (!isNaN(val)) {\\n                    valueAccessor()(val);\\n                }\\n            })\\n            valueAccessor().subscribe(function(value) {\\n                var str = JSON.stringify(value);\\n                if ((str == \\\"0\\\") && ([\\\"-0\\\", \\\"-0.\\\"].indexOf(stringified()) >= 0))\\n                     return;\\n                 if ([\\\"null\\\", \\\"\\\"].indexOf(str) >= 0)\\n                     return;\\n                stringified(str);\\n            })\\n            ko.applyBindingsToNode(element, { value: stringified, valueUpdate: allBindings.get('valueUpdate')}, context);\\n        }\\n    };\\n    var json_data = {\\\"formatted_vals\\\":[\\\"0.1\\\",\\\"0.102041\\\",\\\"0.104082\\\",\\\"0.106122\\\",\\\"0.108163\\\",\\\"0.110204\\\",\\\"0.112245\\\",\\\"0.114286\\\",\\\"0.116327\\\",\\\"0.118367\\\",\\\"0.120408\\\",\\\"0.122449\\\",\\\"0.12449\\\",\\\"0.126531\\\",\\\"0.128571\\\",\\\"0.130612\\\",\\\"0.132653\\\",\\\"0.134694\\\",\\\"0.136735\\\",\\\"0.138776\\\",\\\"0.140816\\\",\\\"0.142857\\\",\\\"0.144898\\\",\\\"0.146939\\\",\\\"0.14898\\\",\\\"0.15102\\\",\\\"0.153061\\\",\\\"0.155102\\\",\\\"0.157143\\\",\\\"0.159184\\\",\\\"0.161224\\\",\\\"0.163265\\\",\\\"0.165306\\\",\\\"0.167347\\\",\\\"0.169388\\\",\\\"0.171429\\\",\\\"0.173469\\\",\\\"0.17551\\\",\\\"0.177551\\\",\\\"0.179592\\\",\\\"0.181633\\\",\\\"0.183673\\\",\\\"0.185714\\\",\\\"0.187755\\\",\\\"0.189796\\\",\\\"0.191837\\\",\\\"0.193878\\\",\\\"0.195918\\\",\\\"0.197959\\\",\\\"0.2\\\"],\\\"changes\\\":WebIO.getval({\\\"name\\\":\\\"changes\\\",\\\"scope\\\":\\\"knockout-component-48295aac-71ed-474b-a45c-fb9aff28f330\\\",\\\"id\\\":\\\"ob_18\\\",\\\"type\\\":\\\"observable\\\"}),\\\"index\\\":WebIO.getval({\\\"name\\\":\\\"index\\\",\\\"scope\\\":\\\"knockout-component-48295aac-71ed-474b-a45c-fb9aff28f330\\\",\\\"id\\\":\\\"ob_17\\\",\\\"type\\\":\\\"observable\\\"})};\\n    var self = this;\\n    function AppViewModel() {\\n        for (var key in json_data) {\\n            var el = json_data[key];\\n            this[key] = Array.isArray(el) ? ko.observableArray(el) : ko.observable(el);\\n        }\\n        \\n        [this[\\\"formatted_val\\\"]=ko.computed(    function(){\\n        return this.formatted_vals()[parseInt(this.index())-1];\\n    }\\n,this)]\\n        [this[\\\"changes\\\"].subscribe((function (val){!(this.valueFromJulia[\\\"changes\\\"]) ? (WebIO.setval({\\\"name\\\":\\\"changes\\\",\\\"scope\\\":\\\"knockout-component-48295aac-71ed-474b-a45c-fb9aff28f330\\\",\\\"id\\\":\\\"ob_18\\\",\\\"type\\\":\\\"observable\\\"},val)) : undefined; return this.valueFromJulia[\\\"changes\\\"]=false}),self),this[\\\"index\\\"].subscribe((function (val){!(this.valueFromJulia[\\\"index\\\"]) ? (WebIO.setval({\\\"name\\\":\\\"index\\\",\\\"scope\\\":\\\"knockout-component-48295aac-71ed-474b-a45c-fb9aff28f330\\\",\\\"id\\\":\\\"ob_17\\\",\\\"type\\\":\\\"observable\\\"},val)) : undefined; return this.valueFromJulia[\\\"index\\\"]=false}),self)]\\n        \\n    }\\n    self.model = new AppViewModel();\\n    self.valueFromJulia = {};\\n    for (var key in json_data) {\\n        self.valueFromJulia[key] = false;\\n    }\\n    ko.applyBindings(self.model, self.dom);\\n}\\n);\\n    (WebIO.importBlock({\\\"data\\\":[{\\\"name\\\":\\\"knockout\\\",\\\"type\\\":\\\"js\\\",\\\"url\\\":\\\"/assetserver/24e2b70eb9e173a49e23c0745ccd248bfbf38bf9-knockout.js\\\"},{\\\"name\\\":\\\"knockout_punches\\\",\\\"type\\\":\\\"js\\\",\\\"url\\\":\\\"/assetserver/275b61436d7fa46a7116217771eb956e6cd64022-knockout_punches.js\\\"}],\\\"type\\\":\\\"async_block\\\"})).then((imports) => handler.apply(this, imports));\\n}\\n\")])], Dict{Symbol,Any}(:className=>\"field interact-widget\"), 1), Observable{Any} with 0 listeners. Value:\n",
       "Node{DOM}(DOM(:html, :div), Any[Plot{Plots.GRBackend() n=2}], Dict{Symbol,Any}(:className=>\"interact-flex-row interact-widget\"), 1)], Dict{Symbol,Any}(), 3)"
      ]
     },
     "execution_count": 5,
     "metadata": {
      "application/vnd.webio.node+json": {
       "kernelId": "7a042f2a-0572-4d14-ba7b-039e9b7249aa"
      }
     },
     "output_type": "execute_result"
    }
   ],
   "source": [
    "using GeoStats\n",
    "using Interact\n",
    "\n",
    "# discretize the line segment for plotting\n",
    "n  = 200\n",
    "xs = range(0., stop=1, length=n)\n",
    "\n",
    "@manipulate for s=range(.0, stop=.1, length=50),\n",
    "                r=range(.1, stop=.2, length=50)\n",
    "    # spatial structure\n",
    "    γ = GaussianVariogram(sill=s, range=r)\n",
    "    \n",
    "    # create Gaussian process\n",
    "    ok = OrdinaryKriging(x', z, γ)\n",
    "    \n",
    "    # estimate mean and variance\n",
    "    μ = zeros(n)\n",
    "    σ² = zeros(n)\n",
    "    for (i,loc) in enumerate(xs)\n",
    "        μ[i], σ²[i] = predict(ok, [loc])\n",
    "    end\n",
    "    \n",
    "    σ = sqrt.(σ²)\n",
    "    \n",
    "    scatter(x, z, label=\"data\")\n",
    "    plot!(xs, μ, ribbon=σ, fillalpha=.5, label=\"Gaussian process\")\n",
    "end"
   ]
  },
  {
   "cell_type": "markdown",
   "metadata": {},
   "source": [
    "# Other generalizations\n",
    "\n",
    "- We can also have random fields with non-constant mean. In Universal Kriging, the mean is a polynomial on the coordinates of the problem up to a certain degree specified by the user. In External Drift Kriging, the mean can be any external variable (a.k.a. external drift).\n",
    "\n",
    "- All methods in GeoStats.jl accept general distance functions. We can for example use the Haversine distance to compute covariances between latitude/longitude coordinates directly.\n",
    "\n",
    "- Other methods for co-estimation and co-simulation will be available in future releases."
   ]
  }
 ],
 "metadata": {
  "@webio": {
   "lastCommId": "3af65646cb8741918576b06748c1ceea",
   "lastKernelId": "7a042f2a-0572-4d14-ba7b-039e9b7249aa"
  },
  "kernelspec": {
   "display_name": "Julia 1.1.0",
   "language": "julia",
   "name": "julia-1.1"
  },
  "language_info": {
   "file_extension": ".jl",
   "mimetype": "application/julia",
   "name": "julia",
   "version": "1.1.0"
  }
 },
 "nbformat": 4,
 "nbformat_minor": 2
}
