{
 "cells": [
  {
   "cell_type": "markdown",
   "metadata": {},
   "source": [
    "# Gaussian processes\n",
    "\n",
    "In this tutorial, we explain how to obtain the functionality of other packages such as GaussianProcesses.jl with GeoStats.jl. Gaussian processes (the method) and Simple Kriging are essentially [two names for the same concept](https://en.wikipedia.org/wiki/Kriging). The derivation of Kriging estimators, however; does **not** require distributional assumptions. [Matheron](https://en.wikipedia.org/wiki/Georges_Matheron) and other important geostatisticians have generalized Gaussian processes to random fields with locally-varying mean and for situations where the mean is unknown. GeoStats.jl includes Gaussian processes as a special case as well as other more practical Kriging variants.\n",
    "\n",
    "In machine learning, Gaussian processes are usually explained in 1D, and we will do the same here.\n",
    "\n",
    "Before we proceed, please install the following packages:"
   ]
  },
  {
   "cell_type": "code",
   "execution_count": 1,
   "metadata": {},
   "outputs": [],
   "source": [
    "using Pkg\n",
    "push!(empty!(LOAD_PATH), @__DIR__)\n",
    "Pkg.instantiate()"
   ]
  },
  {
   "cell_type": "code",
   "execution_count": 2,
   "metadata": {},
   "outputs": [],
   "source": [
    "using Random; Random.seed!(2000); # make sure this tutorial is reproducible"
   ]
  },
  {
   "cell_type": "markdown",
   "metadata": {},
   "source": [
    "## The data\n",
    "\n",
    "Let's start by drawing a set of points in the real line, each with a known value:"
   ]
  },
  {
   "cell_type": "code",
   "execution_count": 3,
   "metadata": {},
   "outputs": [
    {
     "data": {
      "image/svg+xml": [
       "<?xml version=\"1.0\" encoding=\"utf-8\"?>\n",
       "<svg xmlns=\"http://www.w3.org/2000/svg\" xmlns:xlink=\"http://www.w3.org/1999/xlink\" width=\"900\" height=\"400\" viewBox=\"0 0 3600 1600\">\n",
       "<defs>\n",
       "  <clipPath id=\"clip7000\">\n",
       "    <rect x=\"0\" y=\"0\" width=\"3600\" height=\"1600\"/>\n",
       "  </clipPath>\n",
       "</defs>\n",
       "<path clip-path=\"url(#clip7000)\" d=\"\n",
       "M0 1600 L3600 1600 L3600 0 L0 0  Z\n",
       "  \" fill=\"#ffffff\" fill-rule=\"evenodd\" fill-opacity=\"1\"/>\n",
       "<defs>\n",
       "  <clipPath id=\"clip7001\">\n",
       "    <rect x=\"720\" y=\"0\" width=\"2521\" height=\"1600\"/>\n",
       "  </clipPath>\n",
       "</defs>\n",
       "<path clip-path=\"url(#clip7000)\" d=\"\n",
       "M153.898 1487.47 L3552.76 1487.47 L3552.76 47.2441 L153.898 47.2441  Z\n",
       "  \" fill=\"#ffffff\" fill-rule=\"evenodd\" fill-opacity=\"1\"/>\n",
       "<defs>\n",
       "  <clipPath id=\"clip7002\">\n",
       "    <rect x=\"153\" y=\"47\" width=\"3400\" height=\"1441\"/>\n",
       "  </clipPath>\n",
       "</defs>\n",
       "<polyline clip-path=\"url(#clip7002)\" style=\"stroke:#000000; stroke-width:2; stroke-opacity:0.1; fill:none\" points=\"\n",
       "  153.898,1487.47 153.898,47.2441 \n",
       "  \"/>\n",
       "<polyline clip-path=\"url(#clip7002)\" style=\"stroke:#000000; stroke-width:2; stroke-opacity:0.1; fill:none\" points=\"\n",
       "  833.67,1487.47 833.67,47.2441 \n",
       "  \"/>\n",
       "<polyline clip-path=\"url(#clip7002)\" style=\"stroke:#000000; stroke-width:2; stroke-opacity:0.1; fill:none\" points=\"\n",
       "  1513.44,1487.47 1513.44,47.2441 \n",
       "  \"/>\n",
       "<polyline clip-path=\"url(#clip7002)\" style=\"stroke:#000000; stroke-width:2; stroke-opacity:0.1; fill:none\" points=\"\n",
       "  2193.21,1487.47 2193.21,47.2441 \n",
       "  \"/>\n",
       "<polyline clip-path=\"url(#clip7002)\" style=\"stroke:#000000; stroke-width:2; stroke-opacity:0.1; fill:none\" points=\"\n",
       "  2872.98,1487.47 2872.98,47.2441 \n",
       "  \"/>\n",
       "<polyline clip-path=\"url(#clip7002)\" style=\"stroke:#000000; stroke-width:2; stroke-opacity:0.1; fill:none\" points=\"\n",
       "  3552.76,1487.47 3552.76,47.2441 \n",
       "  \"/>\n",
       "<polyline clip-path=\"url(#clip7002)\" style=\"stroke:#000000; stroke-width:2; stroke-opacity:0.1; fill:none\" points=\"\n",
       "  153.898,1487.47 3552.76,1487.47 \n",
       "  \"/>\n",
       "<polyline clip-path=\"url(#clip7002)\" style=\"stroke:#000000; stroke-width:2; stroke-opacity:0.1; fill:none\" points=\"\n",
       "  153.898,1199.43 3552.76,1199.43 \n",
       "  \"/>\n",
       "<polyline clip-path=\"url(#clip7002)\" style=\"stroke:#000000; stroke-width:2; stroke-opacity:0.1; fill:none\" points=\"\n",
       "  153.898,911.382 3552.76,911.382 \n",
       "  \"/>\n",
       "<polyline clip-path=\"url(#clip7002)\" style=\"stroke:#000000; stroke-width:2; stroke-opacity:0.1; fill:none\" points=\"\n",
       "  153.898,623.336 3552.76,623.336 \n",
       "  \"/>\n",
       "<polyline clip-path=\"url(#clip7002)\" style=\"stroke:#000000; stroke-width:2; stroke-opacity:0.1; fill:none\" points=\"\n",
       "  153.898,335.29 3552.76,335.29 \n",
       "  \"/>\n",
       "<polyline clip-path=\"url(#clip7002)\" style=\"stroke:#000000; stroke-width:2; stroke-opacity:0.1; fill:none\" points=\"\n",
       "  153.898,47.2441 3552.76,47.2441 \n",
       "  \"/>\n",
       "<polyline clip-path=\"url(#clip7000)\" style=\"stroke:#000000; stroke-width:4; stroke-opacity:1; fill:none\" points=\"\n",
       "  153.898,1487.47 3552.76,1487.47 \n",
       "  \"/>\n",
       "<polyline clip-path=\"url(#clip7000)\" style=\"stroke:#000000; stroke-width:4; stroke-opacity:1; fill:none\" points=\"\n",
       "  153.898,1487.47 153.898,47.2441 \n",
       "  \"/>\n",
       "<polyline clip-path=\"url(#clip7000)\" style=\"stroke:#000000; stroke-width:4; stroke-opacity:1; fill:none\" points=\"\n",
       "  153.898,1487.47 153.898,1470.19 \n",
       "  \"/>\n",
       "<polyline clip-path=\"url(#clip7000)\" style=\"stroke:#000000; stroke-width:4; stroke-opacity:1; fill:none\" points=\"\n",
       "  833.67,1487.47 833.67,1470.19 \n",
       "  \"/>\n",
       "<polyline clip-path=\"url(#clip7000)\" style=\"stroke:#000000; stroke-width:4; stroke-opacity:1; fill:none\" points=\"\n",
       "  1513.44,1487.47 1513.44,1470.19 \n",
       "  \"/>\n",
       "<polyline clip-path=\"url(#clip7000)\" style=\"stroke:#000000; stroke-width:4; stroke-opacity:1; fill:none\" points=\"\n",
       "  2193.21,1487.47 2193.21,1470.19 \n",
       "  \"/>\n",
       "<polyline clip-path=\"url(#clip7000)\" style=\"stroke:#000000; stroke-width:4; stroke-opacity:1; fill:none\" points=\"\n",
       "  2872.98,1487.47 2872.98,1470.19 \n",
       "  \"/>\n",
       "<polyline clip-path=\"url(#clip7000)\" style=\"stroke:#000000; stroke-width:4; stroke-opacity:1; fill:none\" points=\"\n",
       "  3552.76,1487.47 3552.76,1470.19 \n",
       "  \"/>\n",
       "<polyline clip-path=\"url(#clip7000)\" style=\"stroke:#000000; stroke-width:4; stroke-opacity:1; fill:none\" points=\"\n",
       "  153.898,1487.47 194.684,1487.47 \n",
       "  \"/>\n",
       "<polyline clip-path=\"url(#clip7000)\" style=\"stroke:#000000; stroke-width:4; stroke-opacity:1; fill:none\" points=\"\n",
       "  153.898,1199.43 194.684,1199.43 \n",
       "  \"/>\n",
       "<polyline clip-path=\"url(#clip7000)\" style=\"stroke:#000000; stroke-width:4; stroke-opacity:1; fill:none\" points=\"\n",
       "  153.898,911.382 194.684,911.382 \n",
       "  \"/>\n",
       "<polyline clip-path=\"url(#clip7000)\" style=\"stroke:#000000; stroke-width:4; stroke-opacity:1; fill:none\" points=\"\n",
       "  153.898,623.336 194.684,623.336 \n",
       "  \"/>\n",
       "<polyline clip-path=\"url(#clip7000)\" style=\"stroke:#000000; stroke-width:4; stroke-opacity:1; fill:none\" points=\"\n",
       "  153.898,335.29 194.684,335.29 \n",
       "  \"/>\n",
       "<polyline clip-path=\"url(#clip7000)\" style=\"stroke:#000000; stroke-width:4; stroke-opacity:1; fill:none\" points=\"\n",
       "  153.898,47.2441 194.684,47.2441 \n",
       "  \"/>\n",
       "<g clip-path=\"url(#clip7000)\">\n",
       "<text style=\"fill:#000000; fill-opacity:1; font-family:Arial,Helvetica Neue,Helvetica,sans-serif; font-size:48px; text-anchor:middle;\" transform=\"rotate(0, 153.898, 1547.47)\" x=\"153.898\" y=\"1547.47\">0.0</text>\n",
       "</g>\n",
       "<g clip-path=\"url(#clip7000)\">\n",
       "<text style=\"fill:#000000; fill-opacity:1; font-family:Arial,Helvetica Neue,Helvetica,sans-serif; font-size:48px; text-anchor:middle;\" transform=\"rotate(0, 833.67, 1547.47)\" x=\"833.67\" y=\"1547.47\">0.2</text>\n",
       "</g>\n",
       "<g clip-path=\"url(#clip7000)\">\n",
       "<text style=\"fill:#000000; fill-opacity:1; font-family:Arial,Helvetica Neue,Helvetica,sans-serif; font-size:48px; text-anchor:middle;\" transform=\"rotate(0, 1513.44, 1547.47)\" x=\"1513.44\" y=\"1547.47\">0.4</text>\n",
       "</g>\n",
       "<g clip-path=\"url(#clip7000)\">\n",
       "<text style=\"fill:#000000; fill-opacity:1; font-family:Arial,Helvetica Neue,Helvetica,sans-serif; font-size:48px; text-anchor:middle;\" transform=\"rotate(0, 2193.21, 1547.47)\" x=\"2193.21\" y=\"1547.47\">0.6</text>\n",
       "</g>\n",
       "<g clip-path=\"url(#clip7000)\">\n",
       "<text style=\"fill:#000000; fill-opacity:1; font-family:Arial,Helvetica Neue,Helvetica,sans-serif; font-size:48px; text-anchor:middle;\" transform=\"rotate(0, 2872.98, 1547.47)\" x=\"2872.98\" y=\"1547.47\">0.8</text>\n",
       "</g>\n",
       "<g clip-path=\"url(#clip7000)\">\n",
       "<text style=\"fill:#000000; fill-opacity:1; font-family:Arial,Helvetica Neue,Helvetica,sans-serif; font-size:48px; text-anchor:middle;\" transform=\"rotate(0, 3552.76, 1547.47)\" x=\"3552.76\" y=\"1547.47\">1.0</text>\n",
       "</g>\n",
       "<g clip-path=\"url(#clip7000)\">\n",
       "<text style=\"fill:#000000; fill-opacity:1; font-family:Arial,Helvetica Neue,Helvetica,sans-serif; font-size:48px; text-anchor:end;\" transform=\"rotate(0, 117.898, 1504.97)\" x=\"117.898\" y=\"1504.97\">0.0</text>\n",
       "</g>\n",
       "<g clip-path=\"url(#clip7000)\">\n",
       "<text style=\"fill:#000000; fill-opacity:1; font-family:Arial,Helvetica Neue,Helvetica,sans-serif; font-size:48px; text-anchor:end;\" transform=\"rotate(0, 117.898, 1216.93)\" x=\"117.898\" y=\"1216.93\">0.2</text>\n",
       "</g>\n",
       "<g clip-path=\"url(#clip7000)\">\n",
       "<text style=\"fill:#000000; fill-opacity:1; font-family:Arial,Helvetica Neue,Helvetica,sans-serif; font-size:48px; text-anchor:end;\" transform=\"rotate(0, 117.898, 928.882)\" x=\"117.898\" y=\"928.882\">0.4</text>\n",
       "</g>\n",
       "<g clip-path=\"url(#clip7000)\">\n",
       "<text style=\"fill:#000000; fill-opacity:1; font-family:Arial,Helvetica Neue,Helvetica,sans-serif; font-size:48px; text-anchor:end;\" transform=\"rotate(0, 117.898, 640.836)\" x=\"117.898\" y=\"640.836\">0.6</text>\n",
       "</g>\n",
       "<g clip-path=\"url(#clip7000)\">\n",
       "<text style=\"fill:#000000; fill-opacity:1; font-family:Arial,Helvetica Neue,Helvetica,sans-serif; font-size:48px; text-anchor:end;\" transform=\"rotate(0, 117.898, 352.79)\" x=\"117.898\" y=\"352.79\">0.8</text>\n",
       "</g>\n",
       "<g clip-path=\"url(#clip7000)\">\n",
       "<text style=\"fill:#000000; fill-opacity:1; font-family:Arial,Helvetica Neue,Helvetica,sans-serif; font-size:48px; text-anchor:end;\" transform=\"rotate(0, 117.898, 64.7441)\" x=\"117.898\" y=\"64.7441\">1.0</text>\n",
       "</g>\n",
       "<circle clip-path=\"url(#clip7002)\" cx=\"493.784\" cy=\"636.821\" r=\"14\" fill=\"#009af9\" fill-rule=\"evenodd\" fill-opacity=\"1\" stroke=\"#000000\" stroke-opacity=\"1\" stroke-width=\"3.2\"/>\n",
       "<circle clip-path=\"url(#clip7002)\" cx=\"795.904\" cy=\"639.849\" r=\"14\" fill=\"#009af9\" fill-rule=\"evenodd\" fill-opacity=\"1\" stroke=\"#000000\" stroke-opacity=\"1\" stroke-width=\"3.2\"/>\n",
       "<circle clip-path=\"url(#clip7002)\" cx=\"1098.03\" cy=\"1290.71\" r=\"14\" fill=\"#009af9\" fill-rule=\"evenodd\" fill-opacity=\"1\" stroke=\"#000000\" stroke-opacity=\"1\" stroke-width=\"3.2\"/>\n",
       "<circle clip-path=\"url(#clip7002)\" cx=\"1400.15\" cy=\"776.693\" r=\"14\" fill=\"#009af9\" fill-rule=\"evenodd\" fill-opacity=\"1\" stroke=\"#000000\" stroke-opacity=\"1\" stroke-width=\"3.2\"/>\n",
       "<circle clip-path=\"url(#clip7002)\" cx=\"1702.27\" cy=\"710.649\" r=\"14\" fill=\"#009af9\" fill-rule=\"evenodd\" fill-opacity=\"1\" stroke=\"#000000\" stroke-opacity=\"1\" stroke-width=\"3.2\"/>\n",
       "<circle clip-path=\"url(#clip7002)\" cx=\"2004.39\" cy=\"750.835\" r=\"14\" fill=\"#009af9\" fill-rule=\"evenodd\" fill-opacity=\"1\" stroke=\"#000000\" stroke-opacity=\"1\" stroke-width=\"3.2\"/>\n",
       "<circle clip-path=\"url(#clip7002)\" cx=\"2306.51\" cy=\"398.317\" r=\"14\" fill=\"#009af9\" fill-rule=\"evenodd\" fill-opacity=\"1\" stroke=\"#000000\" stroke-opacity=\"1\" stroke-width=\"3.2\"/>\n",
       "<circle clip-path=\"url(#clip7002)\" cx=\"2608.63\" cy=\"602.195\" r=\"14\" fill=\"#009af9\" fill-rule=\"evenodd\" fill-opacity=\"1\" stroke=\"#000000\" stroke-opacity=\"1\" stroke-width=\"3.2\"/>\n",
       "<circle clip-path=\"url(#clip7002)\" cx=\"2910.75\" cy=\"422.026\" r=\"14\" fill=\"#009af9\" fill-rule=\"evenodd\" fill-opacity=\"1\" stroke=\"#000000\" stroke-opacity=\"1\" stroke-width=\"3.2\"/>\n",
       "<circle clip-path=\"url(#clip7002)\" cx=\"3212.87\" cy=\"791.932\" r=\"14\" fill=\"#009af9\" fill-rule=\"evenodd\" fill-opacity=\"1\" stroke=\"#000000\" stroke-opacity=\"1\" stroke-width=\"3.2\"/>\n",
       "<path clip-path=\"url(#clip7000)\" d=\"\n",
       "M2991.09 323.724 L3444.76 323.724 L3444.76 202.764 L2991.09 202.764  Z\n",
       "  \" fill=\"#ffffff\" fill-rule=\"evenodd\" fill-opacity=\"1\"/>\n",
       "<polyline clip-path=\"url(#clip7000)\" style=\"stroke:#000000; stroke-width:4; stroke-opacity:1; fill:none\" points=\"\n",
       "  2991.09,323.724 3444.76,323.724 3444.76,202.764 2991.09,202.764 2991.09,323.724 \n",
       "  \"/>\n",
       "<circle clip-path=\"url(#clip7000)\" cx=\"3153.09\" cy=\"263.244\" r=\"21\" fill=\"#009af9\" fill-rule=\"evenodd\" fill-opacity=\"1\" stroke=\"#000000\" stroke-opacity=\"1\" stroke-width=\"3.2\"/>\n",
       "<g clip-path=\"url(#clip7000)\">\n",
       "<text style=\"fill:#000000; fill-opacity:1; font-family:Arial,Helvetica Neue,Helvetica,sans-serif; font-size:48px; text-anchor:start;\" transform=\"rotate(0, 3279.09, 280.744)\" x=\"3279.09\" y=\"280.744\">data</text>\n",
       "</g>\n",
       "</svg>\n"
      ]
     },
     "execution_count": 3,
     "metadata": {},
     "output_type": "execute_result"
    }
   ],
   "source": [
    "using Plots; gr(size=(900,400), xlim=(0,1), ylim=(0,1))\n",
    "\n",
    "x = range(0.1, stop=.9, length=10)\n",
    "z = rand(10)\n",
    "\n",
    "scatter(x, z, label=\"data\")"
   ]
  },
  {
   "cell_type": "markdown",
   "metadata": {},
   "source": [
    "We will skip an important step known in geostatistics as *variogram modeling*, and will proceed to the estimation step directly in order to avoid having too many concepts in this tutorial. These concepts are likely new to practioners of machine learning and can be very useful in practice. For more information on variogram modeling, please check the other tutorials in this folder.\n",
    "\n",
    "## Simple Kriging\n",
    "\n",
    "In simple Kriging (or Gaussian process), we need to specify a mean and a covariance-type function in order to interpolate the stochastic process at unseen locations. We choose a covariance (or variogram) model in GeoStats.jl and interact with the parameters:"
   ]
  },
  {
   "cell_type": "code",
   "execution_count": 4,
   "metadata": {},
   "outputs": [
    {
     "data": {
      "text/html": [
       "<script>\n",
       "// Immediately-invoked-function-expression to avoid global variables.\n",
       "(function() {\n",
       "    var warning_div = document.getElementById(\"webio-warning-510829550748491079\");\n",
       "    var hide = function () {\n",
       "        var script = document.getElementById(\"webio-setup-8607613918097982706\");\n",
       "        var parent = script && script.parentElement;\n",
       "        var grandparent = parent && parent.parentElement;\n",
       "        if (grandparent) {\n",
       "            grandparent.style.display = \"none\";\n",
       "        }\n",
       "        warning_div.style.display = \"none\";\n",
       "    };\n",
       "    if (typeof Jupyter !== \"undefined\") {\n",
       "        console.log(\"WebIO detected Jupyter notebook environment.\");\n",
       "        // Jupyter notebook.\n",
       "        var extensions = (\n",
       "            Jupyter\n",
       "            && Jupyter.notebook.config.data\n",
       "            && Jupyter.notebook.config.data.load_extensions\n",
       "        );\n",
       "        if (extensions && extensions[\"webio-jupyter-notebook\"]) {\n",
       "            // Extension already loaded.\n",
       "            console.log(\"Jupyter WebIO nbextension detected; not loading ad-hoc.\");\n",
       "            hide();\n",
       "            return;\n",
       "        }\n",
       "    } else if (window.location.pathname.includes(\"/lab\")) {\n",
       "        // Guessing JupyterLa\n",
       "        console.log(\"Jupyter Lab detected; make sure the @webio/jupyter-lab-provider labextension is installed.\");\n",
       "        hide();\n",
       "        return;\n",
       "    }\n",
       "})();\n",
       "\n",
       "</script>\n",
       "<p\n",
       "    id=\"webio-warning-510829550748491079\"\n",
       "    class=\"output_text output_stderr\"\n",
       "    style=\"padding: 1em; font-weight: bold;\"\n",
       ">\n",
       "    Unable to load WebIO. Please make sure WebIO works for your Jupyter client.\n",
       "    For troubleshooting, please see <a href=\"https://juliagizmos.github.io/WebIO.jl/latest/providers/ijulia/\">\n",
       "    the WebIO/IJulia documentation</a>.\n",
       "    <!-- TODO: link to installation docs. -->\n",
       "</p>\n"
      ],
      "text/plain": [
       "HTML{String}(\"<script>\\n// Immediately-invoked-function-expression to avoid global variables.\\n(function() {\\n    var warning_div = document.getElementById(\\\"webio-warning-510829550748491079\\\");\\n    var hide = function () {\\n        var script = document.getElementById(\\\"webio-setup-8607613918097982706\\\");\\n        var parent = script && script.parentElement;\\n        var grandparent = parent && parent.parentElement;\\n        if (grandparent) {\\n            grandparent.style.display = \\\"none\\\";\\n        }\\n        warning_div.style.display = \\\"none\\\";\\n    };\\n    if (typeof Jupyter !== \\\"undefined\\\") {\\n        console.log(\\\"WebIO detected Jupyter notebook environment.\\\");\\n        // Jupyter notebook.\\n        var extensions = (\\n            Jupyter\\n            && Jupyter.notebook.config.data\\n            && Jupyter.notebook.config.data.load_extensions\\n        );\\n        if (extensions && extensions[\\\"webio-jupyter-notebook\\\"]) {\\n            // Extension already loaded.\\n            console.log(\\\"Jupyter WebIO nbextension detected; not loading ad-hoc.\\\");\\n            hide();\\n            return;\\n        }\\n    } else if (window.location.pathname.includes(\\\"/lab\\\")) {\\n        // Guessing JupyterLa\\n        console.log(\\\"Jupyter Lab detected; make sure the @webio/jupyter-lab-provider labextension is installed.\\\");\\n        hide();\\n        return;\\n    }\\n})();\\n\\n</script>\\n<p\\n    id=\\\"webio-warning-510829550748491079\\\"\\n    class=\\\"output_text output_stderr\\\"\\n    style=\\\"padding: 1em; font-weight: bold;\\\"\\n>\\n    Unable to load WebIO. Please make sure WebIO works for your Jupyter client.\\n    For troubleshooting, please see <a href=\\\"https://juliagizmos.github.io/WebIO.jl/latest/providers/ijulia/\\\">\\n    the WebIO/IJulia documentation</a>.\\n    <!-- TODO: link to installation docs. -->\\n</p>\\n\")"
      ]
     },
     "metadata": {},
     "output_type": "display_data"
    },
    {
     "data": {
      "application/vnd.webio.node+json": {
       "children": [
        {
         "children": [
          {
           "children": [
            {
             "children": [
              {
               "children": [
                {
                 "children": [
                  "s"
                 ],
                 "instanceArgs": {
                  "namespace": "html",
                  "tag": "label"
                 },
                 "nodeType": "DOM",
                 "props": {
                  "className": "interact ",
                  "style": {
                   "padding": "5px 10px 0px 10px"
                  }
                 },
                 "type": "node"
                }
               ],
               "instanceArgs": {
                "namespace": "html",
                "tag": "div"
               },
               "nodeType": "DOM",
               "props": {
                "className": "interact-flex-row-left"
               },
               "type": "node"
              },
              {
               "children": [
                {
                 "children": [],
                 "instanceArgs": {
                  "namespace": "html",
                  "tag": "input"
                 },
                 "nodeType": "DOM",
                 "props": {
                  "attributes": {
                   "data-bind": "numericValue: index, valueUpdate: 'input', event: {change: function (){this.changes(this.changes()+1)}}",
                   "orient": "horizontal",
                   "type": "range"
                  },
                  "className": "slider slider is-fullwidth",
                  "max": 50,
                  "min": 1,
                  "step": 1,
                  "style": {}
                 },
                 "type": "node"
                }
               ],
               "instanceArgs": {
                "namespace": "html",
                "tag": "div"
               },
               "nodeType": "DOM",
               "props": {
                "className": "interact-flex-row-center"
               },
               "type": "node"
              },
              {
               "children": [
                {
                 "children": [],
                 "instanceArgs": {
                  "namespace": "html",
                  "tag": "p"
                 },
                 "nodeType": "DOM",
                 "props": {
                  "attributes": {
                   "data-bind": "text: formatted_val"
                  }
                 },
                 "type": "node"
                }
               ],
               "instanceArgs": {
                "namespace": "html",
                "tag": "div"
               },
               "nodeType": "DOM",
               "props": {
                "className": "interact-flex-row-right"
               },
               "type": "node"
              }
             ],
             "instanceArgs": {
              "namespace": "html",
              "tag": "div"
             },
             "nodeType": "DOM",
             "props": {
              "className": "interact-flex-row interact-widget"
             },
             "type": "node"
            }
           ],
           "instanceArgs": {
            "handlers": {
             "changes": [
              "(function (val){return (val!=this.model[\"changes\"]()) ? (this.valueFromJulia[\"changes\"]=true, this.model[\"changes\"](val)) : undefined})"
             ],
             "index": [
              "(function (val){return (val!=this.model[\"index\"]()) ? (this.valueFromJulia[\"index\"]=true, this.model[\"index\"](val)) : undefined})"
             ]
            },
            "id": "11415657784382391852",
            "imports": {
             "data": [
              {
               "name": "knockout",
               "type": "js",
               "url": "/assetserver/f848bd002af2052b634cac1eb2affe109cbba3ba-knockout.js"
              },
              {
               "name": "knockout_punches",
               "type": "js",
               "url": "/assetserver/31ecefdc4553d90f2aa48f9261b2f16dfc2d359b-knockout_punches.js"
              },
              {
               "name": null,
               "type": "js",
               "url": "/assetserver/f2c8ad3910f87ab7e0acf2b3cfd5913e15d66f87-all.js"
              },
              {
               "name": null,
               "type": "css",
               "url": "/assetserver/dae29c5c6cb77b6ac0bed0cefad4137f69351557-style.css"
              },
              {
               "name": null,
               "type": "css",
               "url": "/assetserver/5f021a427ae3fef2ec76433c67544a048a5b7e8c-bulma_confined.min.css"
              }
             ],
             "type": "async_block"
            },
            "mount_callbacks": [
             "function () {\n    var handler = (function (ko, koPunches) {\n    ko.punches.enableAll();\n    ko.bindingHandlers.numericValue = {\n        init: function(element, valueAccessor, allBindings, data, context) {\n            var stringified = ko.observable(ko.unwrap(valueAccessor()));\n            stringified.subscribe(function(value) {\n                var val = parseFloat(value);\n                if (!isNaN(val)) {\n                    valueAccessor()(val);\n                }\n            });\n            valueAccessor().subscribe(function(value) {\n                var str = JSON.stringify(value);\n                if ((str == \"0\") && ([\"-0\", \"-0.\"].indexOf(stringified()) >= 0))\n                     return;\n                 if ([\"null\", \"\"].indexOf(str) >= 0)\n                     return;\n                stringified(str);\n            });\n            ko.applyBindingsToNode(\n                element,\n                {\n                    value: stringified,\n                    valueUpdate: allBindings.get('valueUpdate'),\n                },\n                context,\n            );\n        }\n    };\n    var json_data = {\"formatted_vals\":[\"0.0\",\"0.00204082\",\"0.00408163\",\"0.00612245\",\"0.00816327\",\"0.0102041\",\"0.0122449\",\"0.0142857\",\"0.0163265\",\"0.0183673\",\"0.0204082\",\"0.022449\",\"0.0244898\",\"0.0265306\",\"0.0285714\",\"0.0306122\",\"0.0326531\",\"0.0346939\",\"0.0367347\",\"0.0387755\",\"0.0408163\",\"0.0428571\",\"0.044898\",\"0.0469388\",\"0.0489796\",\"0.0510204\",\"0.0530612\",\"0.055102\",\"0.0571429\",\"0.0591837\",\"0.0612245\",\"0.0632653\",\"0.0653061\",\"0.0673469\",\"0.0693878\",\"0.0714286\",\"0.0734694\",\"0.0755102\",\"0.077551\",\"0.0795918\",\"0.0816327\",\"0.0836735\",\"0.0857143\",\"0.0877551\",\"0.0897959\",\"0.0918367\",\"0.0938776\",\"0.0959184\",\"0.0979592\",\"0.1\"],\"changes\":WebIO.getval({\"name\":\"changes\",\"scope\":\"11415657784382391852\",\"id\":\"ob_03\",\"type\":\"observable\"}),\"index\":WebIO.getval({\"name\":\"index\",\"scope\":\"11415657784382391852\",\"id\":\"ob_02\",\"type\":\"observable\"})};\n    var self = this;\n    function AppViewModel() {\n        for (var key in json_data) {\n            var el = json_data[key];\n            this[key] = Array.isArray(el) ? ko.observableArray(el) : ko.observable(el);\n        }\n        \n        [this[\"formatted_val\"]=ko.computed(    function(){\n        return this.formatted_vals()[parseInt(this.index())-(1)];\n    }\n,this)]\n        [this[\"changes\"].subscribe((function (val){!(this.valueFromJulia[\"changes\"]) ? (WebIO.setval({\"name\":\"changes\",\"scope\":\"11415657784382391852\",\"id\":\"ob_03\",\"type\":\"observable\"},val)) : undefined; return this.valueFromJulia[\"changes\"]=false}),self),this[\"index\"].subscribe((function (val){!(this.valueFromJulia[\"index\"]) ? (WebIO.setval({\"name\":\"index\",\"scope\":\"11415657784382391852\",\"id\":\"ob_02\",\"type\":\"observable\"},val)) : undefined; return this.valueFromJulia[\"index\"]=false}),self)]\n        \n    }\n    self.model = new AppViewModel();\n    self.valueFromJulia = {};\n    for (var key in json_data) {\n        self.valueFromJulia[key] = false;\n    }\n    ko.applyBindings(self.model, self.dom);\n}\n);\n    (WebIO.importBlock({\"data\":[{\"name\":\"knockout\",\"type\":\"js\",\"url\":\"/assetserver/f848bd002af2052b634cac1eb2affe109cbba3ba-knockout.js\"},{\"name\":\"knockout_punches\",\"type\":\"js\",\"url\":\"/assetserver/31ecefdc4553d90f2aa48f9261b2f16dfc2d359b-knockout_punches.js\"}],\"type\":\"async_block\"})).then((imports) => handler.apply(this, imports));\n}\n"
            ],
            "observables": {
             "changes": {
              "id": "ob_03",
              "sync": false,
              "value": 0
             },
             "index": {
              "id": "ob_02",
              "sync": true,
              "value": 25
             }
            },
            "systemjs_options": null
           },
           "nodeType": "Scope",
           "props": {},
           "type": "node"
          }
         ],
         "instanceArgs": {
          "namespace": "html",
          "tag": "div"
         },
         "nodeType": "DOM",
         "props": {
          "className": "field interact-widget"
         },
         "type": "node"
        },
        {
         "children": [
          {
           "children": [
            {
             "children": [
              {
               "children": [
                {
                 "children": [
                  "r"
                 ],
                 "instanceArgs": {
                  "namespace": "html",
                  "tag": "label"
                 },
                 "nodeType": "DOM",
                 "props": {
                  "className": "interact ",
                  "style": {
                   "padding": "5px 10px 0px 10px"
                  }
                 },
                 "type": "node"
                }
               ],
               "instanceArgs": {
                "namespace": "html",
                "tag": "div"
               },
               "nodeType": "DOM",
               "props": {
                "className": "interact-flex-row-left"
               },
               "type": "node"
              },
              {
               "children": [
                {
                 "children": [],
                 "instanceArgs": {
                  "namespace": "html",
                  "tag": "input"
                 },
                 "nodeType": "DOM",
                 "props": {
                  "attributes": {
                   "data-bind": "numericValue: index, valueUpdate: 'input', event: {change: function (){this.changes(this.changes()+1)}}",
                   "orient": "horizontal",
                   "type": "range"
                  },
                  "className": "slider slider is-fullwidth",
                  "max": 50,
                  "min": 1,
                  "step": 1,
                  "style": {}
                 },
                 "type": "node"
                }
               ],
               "instanceArgs": {
                "namespace": "html",
                "tag": "div"
               },
               "nodeType": "DOM",
               "props": {
                "className": "interact-flex-row-center"
               },
               "type": "node"
              },
              {
               "children": [
                {
                 "children": [],
                 "instanceArgs": {
                  "namespace": "html",
                  "tag": "p"
                 },
                 "nodeType": "DOM",
                 "props": {
                  "attributes": {
                   "data-bind": "text: formatted_val"
                  }
                 },
                 "type": "node"
                }
               ],
               "instanceArgs": {
                "namespace": "html",
                "tag": "div"
               },
               "nodeType": "DOM",
               "props": {
                "className": "interact-flex-row-right"
               },
               "type": "node"
              }
             ],
             "instanceArgs": {
              "namespace": "html",
              "tag": "div"
             },
             "nodeType": "DOM",
             "props": {
              "className": "interact-flex-row interact-widget"
             },
             "type": "node"
            }
           ],
           "instanceArgs": {
            "handlers": {
             "changes": [
              "(function (val){return (val!=this.model[\"changes\"]()) ? (this.valueFromJulia[\"changes\"]=true, this.model[\"changes\"](val)) : undefined})"
             ],
             "index": [
              "(function (val){return (val!=this.model[\"index\"]()) ? (this.valueFromJulia[\"index\"]=true, this.model[\"index\"](val)) : undefined})"
             ]
            },
            "id": "8909251716311877959",
            "imports": {
             "data": [
              {
               "name": "knockout",
               "type": "js",
               "url": "/assetserver/f848bd002af2052b634cac1eb2affe109cbba3ba-knockout.js"
              },
              {
               "name": "knockout_punches",
               "type": "js",
               "url": "/assetserver/31ecefdc4553d90f2aa48f9261b2f16dfc2d359b-knockout_punches.js"
              },
              {
               "name": null,
               "type": "js",
               "url": "/assetserver/f2c8ad3910f87ab7e0acf2b3cfd5913e15d66f87-all.js"
              },
              {
               "name": null,
               "type": "css",
               "url": "/assetserver/dae29c5c6cb77b6ac0bed0cefad4137f69351557-style.css"
              },
              {
               "name": null,
               "type": "css",
               "url": "/assetserver/5f021a427ae3fef2ec76433c67544a048a5b7e8c-bulma_confined.min.css"
              }
             ],
             "type": "async_block"
            },
            "mount_callbacks": [
             "function () {\n    var handler = (function (ko, koPunches) {\n    ko.punches.enableAll();\n    ko.bindingHandlers.numericValue = {\n        init: function(element, valueAccessor, allBindings, data, context) {\n            var stringified = ko.observable(ko.unwrap(valueAccessor()));\n            stringified.subscribe(function(value) {\n                var val = parseFloat(value);\n                if (!isNaN(val)) {\n                    valueAccessor()(val);\n                }\n            });\n            valueAccessor().subscribe(function(value) {\n                var str = JSON.stringify(value);\n                if ((str == \"0\") && ([\"-0\", \"-0.\"].indexOf(stringified()) >= 0))\n                     return;\n                 if ([\"null\", \"\"].indexOf(str) >= 0)\n                     return;\n                stringified(str);\n            });\n            ko.applyBindingsToNode(\n                element,\n                {\n                    value: stringified,\n                    valueUpdate: allBindings.get('valueUpdate'),\n                },\n                context,\n            );\n        }\n    };\n    var json_data = {\"formatted_vals\":[\"0.1\",\"0.102041\",\"0.104082\",\"0.106122\",\"0.108163\",\"0.110204\",\"0.112245\",\"0.114286\",\"0.116327\",\"0.118367\",\"0.120408\",\"0.122449\",\"0.12449\",\"0.126531\",\"0.128571\",\"0.130612\",\"0.132653\",\"0.134694\",\"0.136735\",\"0.138776\",\"0.140816\",\"0.142857\",\"0.144898\",\"0.146939\",\"0.14898\",\"0.15102\",\"0.153061\",\"0.155102\",\"0.157143\",\"0.159184\",\"0.161224\",\"0.163265\",\"0.165306\",\"0.167347\",\"0.169388\",\"0.171429\",\"0.173469\",\"0.17551\",\"0.177551\",\"0.179592\",\"0.181633\",\"0.183673\",\"0.185714\",\"0.187755\",\"0.189796\",\"0.191837\",\"0.193878\",\"0.195918\",\"0.197959\",\"0.2\"],\"changes\":WebIO.getval({\"name\":\"changes\",\"scope\":\"8909251716311877959\",\"id\":\"ob_06\",\"type\":\"observable\"}),\"index\":WebIO.getval({\"name\":\"index\",\"scope\":\"8909251716311877959\",\"id\":\"ob_05\",\"type\":\"observable\"})};\n    var self = this;\n    function AppViewModel() {\n        for (var key in json_data) {\n            var el = json_data[key];\n            this[key] = Array.isArray(el) ? ko.observableArray(el) : ko.observable(el);\n        }\n        \n        [this[\"formatted_val\"]=ko.computed(    function(){\n        return this.formatted_vals()[parseInt(this.index())-(1)];\n    }\n,this)]\n        [this[\"changes\"].subscribe((function (val){!(this.valueFromJulia[\"changes\"]) ? (WebIO.setval({\"name\":\"changes\",\"scope\":\"8909251716311877959\",\"id\":\"ob_06\",\"type\":\"observable\"},val)) : undefined; return this.valueFromJulia[\"changes\"]=false}),self),this[\"index\"].subscribe((function (val){!(this.valueFromJulia[\"index\"]) ? (WebIO.setval({\"name\":\"index\",\"scope\":\"8909251716311877959\",\"id\":\"ob_05\",\"type\":\"observable\"},val)) : undefined; return this.valueFromJulia[\"index\"]=false}),self)]\n        \n    }\n    self.model = new AppViewModel();\n    self.valueFromJulia = {};\n    for (var key in json_data) {\n        self.valueFromJulia[key] = false;\n    }\n    ko.applyBindings(self.model, self.dom);\n}\n);\n    (WebIO.importBlock({\"data\":[{\"name\":\"knockout\",\"type\":\"js\",\"url\":\"/assetserver/f848bd002af2052b634cac1eb2affe109cbba3ba-knockout.js\"},{\"name\":\"knockout_punches\",\"type\":\"js\",\"url\":\"/assetserver/31ecefdc4553d90f2aa48f9261b2f16dfc2d359b-knockout_punches.js\"}],\"type\":\"async_block\"})).then((imports) => handler.apply(this, imports));\n}\n"
            ],
            "observables": {
             "changes": {
              "id": "ob_06",
              "sync": false,
              "value": 0
             },
             "index": {
              "id": "ob_05",
              "sync": true,
              "value": 25
             }
            },
            "systemjs_options": null
           },
           "nodeType": "Scope",
           "props": {},
           "type": "node"
          }
         ],
         "instanceArgs": {
          "namespace": "html",
          "tag": "div"
         },
         "nodeType": "DOM",
         "props": {
          "className": "field interact-widget"
         },
         "type": "node"
        },
        {
         "children": [
          {
           "children": [],
           "instanceArgs": {
            "id": "ob_12",
            "name": "obs-node"
           },
           "nodeType": "ObservableNode",
           "props": {},
           "type": "node"
          }
         ],
         "instanceArgs": {
          "handlers": {},
          "id": "11667378216413641136",
          "imports": {
           "data": [],
           "type": "async_block"
          },
          "mount_callbacks": [],
          "observables": {
           "obs-node": {
            "id": "ob_12",
            "sync": false,
            "value": {
             "children": [
              {
               "children": [],
               "instanceArgs": {
                "namespace": "html",
                "tag": "div"
               },
               "nodeType": "DOM",
               "props": {
                "setInnerHtml": "<?xml version=\"1.0\" encoding=\"utf-8\"?>\n<svg xmlns=\"http://www.w3.org/2000/svg\" xmlns:xlink=\"http://www.w3.org/1999/xlink\" width=\"900\" height=\"400\" viewBox=\"0 0 3600 1600\">\n<defs>\n  <clipPath id=\"clip7800\">\n    <rect x=\"0\" y=\"0\" width=\"3600\" height=\"1600\"/>\n  </clipPath>\n</defs>\n<path clip-path=\"url(#clip7800)\" d=\"\nM0 1600 L3600 1600 L3600 0 L0 0  Z\n  \" fill=\"#ffffff\" fill-rule=\"evenodd\" fill-opacity=\"1\"/>\n<defs>\n  <clipPath id=\"clip7801\">\n    <rect x=\"720\" y=\"0\" width=\"2521\" height=\"1600\"/>\n  </clipPath>\n</defs>\n<path clip-path=\"url(#clip7800)\" d=\"\nM165.898 1498.65 L3552.76 1498.65 L3552.76 47.2441 L165.898 47.2441  Z\n  \" fill=\"#ffffff\" fill-rule=\"evenodd\" fill-opacity=\"1\"/>\n<defs>\n  <clipPath id=\"clip7802\">\n    <rect x=\"165\" y=\"47\" width=\"3388\" height=\"1452\"/>\n  </clipPath>\n</defs>\n<polyline clip-path=\"url(#clip7802)\" style=\"stroke:#000000; stroke-width:2; stroke-opacity:0.1; fill:none\" points=\"\n  165.898,1498.65 165.898,47.2441 \n  \"/>\n<polyline clip-path=\"url(#clip7802)\" style=\"stroke:#000000; stroke-width:2; stroke-opacity:0.1; fill:none\" points=\"\n  843.27,1498.65 843.27,47.2441 \n  \"/>\n<polyline clip-path=\"url(#clip7802)\" style=\"stroke:#000000; stroke-width:2; stroke-opacity:0.1; fill:none\" points=\"\n  1520.64,1498.65 1520.64,47.2441 \n  \"/>\n<polyline clip-path=\"url(#clip7802)\" style=\"stroke:#000000; stroke-width:2; stroke-opacity:0.1; fill:none\" points=\"\n  2198.01,1498.65 2198.01,47.2441 \n  \"/>\n<polyline clip-path=\"url(#clip7802)\" style=\"stroke:#000000; stroke-width:2; stroke-opacity:0.1; fill:none\" points=\"\n  2875.38,1498.65 2875.38,47.2441 \n  \"/>\n<polyline clip-path=\"url(#clip7802)\" style=\"stroke:#000000; stroke-width:2; stroke-opacity:0.1; fill:none\" points=\"\n  3552.76,1498.65 3552.76,47.2441 \n  \"/>\n<polyline clip-path=\"url(#clip7802)\" style=\"stroke:#000000; stroke-width:2; stroke-opacity:0.1; fill:none\" points=\"\n  165.898,1498.65 3552.76,1498.65 \n  \"/>\n<polyline clip-path=\"url(#clip7802)\" style=\"stroke:#000000; stroke-width:2; stroke-opacity:0.1; fill:none\" points=\"\n  165.898,1208.37 3552.76,1208.37 \n  \"/>\n<polyline clip-path=\"url(#clip7802)\" style=\"stroke:#000000; stroke-width:2; stroke-opacity:0.1; fill:none\" points=\"\n  165.898,918.089 3552.76,918.089 \n  \"/>\n<polyline clip-path=\"url(#clip7802)\" style=\"stroke:#000000; stroke-width:2; stroke-opacity:0.1; fill:none\" points=\"\n  165.898,627.807 3552.76,627.807 \n  \"/>\n<polyline clip-path=\"url(#clip7802)\" style=\"stroke:#000000; stroke-width:2; stroke-opacity:0.1; fill:none\" points=\"\n  165.898,337.526 3552.76,337.526 \n  \"/>\n<polyline clip-path=\"url(#clip7802)\" style=\"stroke:#000000; stroke-width:2; stroke-opacity:0.1; fill:none\" points=\"\n  165.898,47.2441 3552.76,47.2441 \n  \"/>\n<polyline clip-path=\"url(#clip7800)\" style=\"stroke:#000000; stroke-width:4; stroke-opacity:1; fill:none\" points=\"\n  165.898,1498.65 3552.76,1498.65 \n  \"/>\n<polyline clip-path=\"url(#clip7800)\" style=\"stroke:#000000; stroke-width:4; stroke-opacity:1; fill:none\" points=\"\n  165.898,1498.65 165.898,47.2441 \n  \"/>\n<polyline clip-path=\"url(#clip7800)\" style=\"stroke:#000000; stroke-width:4; stroke-opacity:1; fill:none\" points=\"\n  165.898,1498.65 165.898,1481.24 \n  \"/>\n<polyline clip-path=\"url(#clip7800)\" style=\"stroke:#000000; stroke-width:4; stroke-opacity:1; fill:none\" points=\"\n  843.27,1498.65 843.27,1481.24 \n  \"/>\n<polyline clip-path=\"url(#clip7800)\" style=\"stroke:#000000; stroke-width:4; stroke-opacity:1; fill:none\" points=\"\n  1520.64,1498.65 1520.64,1481.24 \n  \"/>\n<polyline clip-path=\"url(#clip7800)\" style=\"stroke:#000000; stroke-width:4; stroke-opacity:1; fill:none\" points=\"\n  2198.01,1498.65 2198.01,1481.24 \n  \"/>\n<polyline clip-path=\"url(#clip7800)\" style=\"stroke:#000000; stroke-width:4; stroke-opacity:1; fill:none\" points=\"\n  2875.38,1498.65 2875.38,1481.24 \n  \"/>\n<polyline clip-path=\"url(#clip7800)\" style=\"stroke:#000000; stroke-width:4; stroke-opacity:1; fill:none\" points=\"\n  3552.76,1498.65 3552.76,1481.24 \n  \"/>\n<polyline clip-path=\"url(#clip7800)\" style=\"stroke:#000000; stroke-width:4; stroke-opacity:1; fill:none\" points=\"\n  165.898,1498.65 206.54,1498.65 \n  \"/>\n<polyline clip-path=\"url(#clip7800)\" style=\"stroke:#000000; stroke-width:4; stroke-opacity:1; fill:none\" points=\"\n  165.898,1208.37 206.54,1208.37 \n  \"/>\n<polyline clip-path=\"url(#clip7800)\" style=\"stroke:#000000; stroke-width:4; stroke-opacity:1; fill:none\" points=\"\n  165.898,918.089 206.54,918.089 \n  \"/>\n<polyline clip-path=\"url(#clip7800)\" style=\"stroke:#000000; stroke-width:4; stroke-opacity:1; fill:none\" points=\"\n  165.898,627.807 206.54,627.807 \n  \"/>\n<polyline clip-path=\"url(#clip7800)\" style=\"stroke:#000000; stroke-width:4; stroke-opacity:1; fill:none\" points=\"\n  165.898,337.526 206.54,337.526 \n  \"/>\n<polyline clip-path=\"url(#clip7800)\" style=\"stroke:#000000; stroke-width:4; stroke-opacity:1; fill:none\" points=\"\n  165.898,47.2441 206.54,47.2441 \n  \"/>\n<g clip-path=\"url(#clip7800)\">\n<text style=\"fill:#000000; fill-opacity:1; font-family:Arial,Helvetica Neue,Helvetica,sans-serif; font-size:48px; text-anchor:middle;\" transform=\"rotate(0, 165.898, 1558.65)\" x=\"165.898\" y=\"1558.65\">0.0</text>\n</g>\n<g clip-path=\"url(#clip7800)\">\n<text style=\"fill:#000000; fill-opacity:1; font-family:Arial,Helvetica Neue,Helvetica,sans-serif; font-size:48px; text-anchor:middle;\" transform=\"rotate(0, 843.27, 1558.65)\" x=\"843.27\" y=\"1558.65\">0.2</text>\n</g>\n<g clip-path=\"url(#clip7800)\">\n<text style=\"fill:#000000; fill-opacity:1; font-family:Arial,Helvetica Neue,Helvetica,sans-serif; font-size:48px; text-anchor:middle;\" transform=\"rotate(0, 1520.64, 1558.65)\" x=\"1520.64\" y=\"1558.65\">0.4</text>\n</g>\n<g clip-path=\"url(#clip7800)\">\n<text style=\"fill:#000000; fill-opacity:1; font-family:Arial,Helvetica Neue,Helvetica,sans-serif; font-size:48px; text-anchor:middle;\" transform=\"rotate(0, 2198.01, 1558.65)\" x=\"2198.01\" y=\"1558.65\">0.6</text>\n</g>\n<g clip-path=\"url(#clip7800)\">\n<text style=\"fill:#000000; fill-opacity:1; font-family:Arial,Helvetica Neue,Helvetica,sans-serif; font-size:48px; text-anchor:middle;\" transform=\"rotate(0, 2875.38, 1558.65)\" x=\"2875.38\" y=\"1558.65\">0.8</text>\n</g>\n<g clip-path=\"url(#clip7800)\">\n<text style=\"fill:#000000; fill-opacity:1; font-family:Arial,Helvetica Neue,Helvetica,sans-serif; font-size:48px; text-anchor:middle;\" transform=\"rotate(0, 3552.76, 1558.65)\" x=\"3552.76\" y=\"1558.65\">1.0</text>\n</g>\n<g clip-path=\"url(#clip7800)\">\n<text style=\"fill:#000000; fill-opacity:1; font-family:Arial,Helvetica Neue,Helvetica,sans-serif; font-size:48px; text-anchor:end;\" transform=\"rotate(0, 129.898, 1516.15)\" x=\"129.898\" y=\"1516.15\">0.0</text>\n</g>\n<g clip-path=\"url(#clip7800)\">\n<text style=\"fill:#000000; fill-opacity:1; font-family:Arial,Helvetica Neue,Helvetica,sans-serif; font-size:48px; text-anchor:end;\" transform=\"rotate(0, 129.898, 1225.87)\" x=\"129.898\" y=\"1225.87\">0.2</text>\n</g>\n<g clip-path=\"url(#clip7800)\">\n<text style=\"fill:#000000; fill-opacity:1; font-family:Arial,Helvetica Neue,Helvetica,sans-serif; font-size:48px; text-anchor:end;\" transform=\"rotate(0, 129.898, 935.589)\" x=\"129.898\" y=\"935.589\">0.4</text>\n</g>\n<g clip-path=\"url(#clip7800)\">\n<text style=\"fill:#000000; fill-opacity:1; font-family:Arial,Helvetica Neue,Helvetica,sans-serif; font-size:48px; text-anchor:end;\" transform=\"rotate(0, 129.898, 645.307)\" x=\"129.898\" y=\"645.307\">0.6</text>\n</g>\n<g clip-path=\"url(#clip7800)\">\n<text style=\"fill:#000000; fill-opacity:1; font-family:Arial,Helvetica Neue,Helvetica,sans-serif; font-size:48px; text-anchor:end;\" transform=\"rotate(0, 129.898, 355.026)\" x=\"129.898\" y=\"355.026\">0.8</text>\n</g>\n<g clip-path=\"url(#clip7800)\">\n<text style=\"fill:#000000; fill-opacity:1; font-family:Arial,Helvetica Neue,Helvetica,sans-serif; font-size:48px; text-anchor:end;\" transform=\"rotate(0, 129.898, 64.7441)\" x=\"129.898\" y=\"64.7441\">1.0</text>\n</g>\n<circle clip-path=\"url(#clip7802)\" cx=\"504.584\" cy=\"641.397\" r=\"14\" fill=\"#009af9\" fill-rule=\"evenodd\" fill-opacity=\"1\" stroke=\"#000000\" stroke-opacity=\"1\" stroke-width=\"3.2\"/>\n<circle clip-path=\"url(#clip7802)\" cx=\"805.638\" cy=\"644.449\" r=\"14\" fill=\"#009af9\" fill-rule=\"evenodd\" fill-opacity=\"1\" stroke=\"#000000\" stroke-opacity=\"1\" stroke-width=\"3.2\"/>\n<circle clip-path=\"url(#clip7802)\" cx=\"1106.69\" cy=\"1300.36\" r=\"14\" fill=\"#009af9\" fill-rule=\"evenodd\" fill-opacity=\"1\" stroke=\"#000000\" stroke-opacity=\"1\" stroke-width=\"3.2\"/>\n<circle clip-path=\"url(#clip7802)\" cx=\"1407.75\" cy=\"782.354\" r=\"14\" fill=\"#009af9\" fill-rule=\"evenodd\" fill-opacity=\"1\" stroke=\"#000000\" stroke-opacity=\"1\" stroke-width=\"3.2\"/>\n<circle clip-path=\"url(#clip7802)\" cx=\"1708.8\" cy=\"715.798\" r=\"14\" fill=\"#009af9\" fill-rule=\"evenodd\" fill-opacity=\"1\" stroke=\"#000000\" stroke-opacity=\"1\" stroke-width=\"3.2\"/>\n<circle clip-path=\"url(#clip7802)\" cx=\"2009.85\" cy=\"756.296\" r=\"14\" fill=\"#009af9\" fill-rule=\"evenodd\" fill-opacity=\"1\" stroke=\"#000000\" stroke-opacity=\"1\" stroke-width=\"3.2\"/>\n<circle clip-path=\"url(#clip7802)\" cx=\"2310.91\" cy=\"401.042\" r=\"14\" fill=\"#009af9\" fill-rule=\"evenodd\" fill-opacity=\"1\" stroke=\"#000000\" stroke-opacity=\"1\" stroke-width=\"3.2\"/>\n<circle clip-path=\"url(#clip7802)\" cx=\"2611.96\" cy=\"606.502\" r=\"14\" fill=\"#009af9\" fill-rule=\"evenodd\" fill-opacity=\"1\" stroke=\"#000000\" stroke-opacity=\"1\" stroke-width=\"3.2\"/>\n<circle clip-path=\"url(#clip7802)\" cx=\"2913.02\" cy=\"424.935\" r=\"14\" fill=\"#009af9\" fill-rule=\"evenodd\" fill-opacity=\"1\" stroke=\"#000000\" stroke-opacity=\"1\" stroke-width=\"3.2\"/>\n<circle clip-path=\"url(#clip7802)\" cx=\"3214.07\" cy=\"797.712\" r=\"14\" fill=\"#009af9\" fill-rule=\"evenodd\" fill-opacity=\"1\" stroke=\"#000000\" stroke-opacity=\"1\" stroke-width=\"3.2\"/>\n<path clip-path=\"url(#clip7802)\" d=\"\nM165.898 1075.33 L182.917 1070.18 L199.937 1063.88 L216.956 1056.25 L233.976 1047.11 L250.995 1036.29 L268.014 1023.61 L285.034 1008.92 L302.053 992.1 L319.072 973.042 \n  L336.092 951.687 L353.111 928.022 L370.131 902.084 L387.15 873.971 L404.169 843.841 L421.189 811.921 L438.208 778.503 L455.228 743.948 L472.247 708.685 L489.266 673.225 \n  L506.286 643.093 L523.305 650.312 L540.324 656.428 L557.344 660.653 L574.363 662.907 L591.383 663.207 L608.402 661.666 L625.421 658.49 L642.441 653.981 L659.46 648.53 \n  L676.48 642.612 L693.499 636.772 L710.518 631.609 L727.538 627.757 L744.557 625.865 L761.577 626.572 L778.596 630.488 L795.615 638.231 L812.635 664.965 L829.654 716.593 \n  L846.673 771.388 L863.693 828.263 L880.712 886.188 L897.732 944.098 L914.751 1000.91 L931.77 1055.55 L948.79 1106.97 L965.809 1154.21 L982.829 1196.36 L999.848 1232.66 \n  L1016.87 1262.48 L1033.89 1285.32 L1050.91 1300.88 L1067.93 1309.03 L1084.94 1309.83 L1101.96 1303.76 L1118.98 1315.84 L1136 1330.87 L1153.02 1338.53 L1170.04 1338.56 \n  L1187.06 1330.9 L1204.08 1315.69 L1221.1 1293.22 L1238.12 1263.98 L1255.14 1228.58 L1272.16 1187.76 L1289.18 1142.4 L1306.2 1093.43 L1323.22 1041.84 L1340.24 988.683 \n  L1357.26 934.999 L1374.27 881.822 L1391.29 830.177 L1408.31 783.488 L1425.33 771.133 L1442.35 763.039 L1459.37 757.45 L1476.39 753.875 L1493.41 751.818 L1510.43 750.787 \n  L1527.45 750.315 L1544.47 749.977 L1561.49 749.408 L1578.51 748.317 L1595.53 746.497 L1612.55 743.832 L1629.57 740.291 L1646.58 735.933 L1663.6 730.896 L1680.62 725.392 \n  L1697.64 719.741 L1714.66 726.347 L1731.68 755.616 L1748.7 784.288 L1765.72 811.411 L1782.74 836.243 L1799.76 858.11 L1816.78 876.41 L1833.8 890.622 L1850.82 900.319 \n  L1867.84 905.174 L1884.86 904.972 L1901.88 899.609 L1918.89 889.101 L1935.91 873.583 L1952.93 853.306 L1969.95 828.636 L1986.97 800.055 L2003.99 768.315 L2021.01 756.526 \n  L2038.03 754.197 L2055.05 748.894 L2072.07 740.324 L2089.09 728.355 L2106.11 712.974 L2123.13 694.29 L2140.15 672.53 L2157.17 648.038 L2174.19 621.266 L2191.2 592.759 \n  L2208.22 563.142 L2225.24 533.1 L2242.26 503.356 L2259.28 474.646 L2276.3 447.704 L2293.32 423.249 L2310.34 403.253 L2327.36 418 L2344.38 438.318 L2361.4 460.982 \n  L2378.42 485.175 L2395.44 510.067 L2412.46 534.824 L2429.48 558.625 L2446.5 580.691 L2463.52 600.303 L2480.53 616.829 L2497.55 629.74 L2514.57 638.626 L2531.59 643.211 \n  L2548.61 643.357 L2565.63 639.071 L2582.65 630.51 L2599.67 618.016 L2616.69 611.913 L2633.71 627.387 L2650.73 639.325 L2667.75 647.125 L2684.77 650.555 L2701.79 649.535 \n  L2718.81 644.129 L2735.83 634.543 L2752.84 621.12 L2769.86 604.324 L2786.88 584.731 L2803.9 563.008 L2820.92 539.897 L2837.94 516.187 L2854.96 492.695 L2871.98 470.239 \n  L2889 449.627 L2906.02 431.747 L2923.04 438.147 L2940.06 462.763 L2957.08 490.289 L2974.1 519.98 L2991.12 551.107 L3008.14 582.921 L3025.15 614.671 L3042.17 645.623 \n  L3059.19 675.084 L3076.21 702.419 L3093.23 727.069 L3110.25 748.565 L3127.27 766.537 L3144.29 780.722 L3161.31 790.969 L3178.33 797.235 L3195.35 799.598 L3212.37 798.864 \n  L3229.39 833.529 L3246.41 871.635 L3263.43 907.748 L3280.45 941.466 L3297.47 972.493 L3314.48 1000.62 L3331.5 1025.71 L3348.52 1047.71 L3365.54 1066.65 L3382.56 1082.61 \n  L3399.58 1095.73 L3416.6 1106.2 L3433.62 1114.24 L3450.64 1120.1 L3467.66 1124.04 L3484.68 1126.35 L3501.7 1127.28 L3518.72 1127.11 L3535.74 1126.06 L3552.76 1124.36 \n  L3552.76 506.62 L3535.74 515.906 L3518.72 526.353 L3501.7 538.01 L3484.68 550.905 L3467.66 565.037 L3450.64 580.371 L3433.62 596.831 L3416.6 614.299 L3399.58 632.607 \n  L3382.56 651.537 L3365.54 670.822 L3348.52 690.146 L3331.5 709.151 L3314.48 727.44 L3297.47 744.59 L3280.45 760.159 L3263.43 773.702 L3246.41 784.778 L3229.39 792.95 \n  L3212.37 792.865 L3195.35 752.769 L3178.33 711.493 L3161.31 670.309 L3144.29 629.885 L3127.27 590.889 L3110.25 553.98 L3093.23 519.795 L3076.21 488.928 L3059.19 461.914 \n  L3042.17 439.207 L3025.15 421.169 L3008.14 408.052 L2991.12 399.993 L2974.1 396.999 L2957.08 398.947 L2940.06 405.58 L2923.04 416.445 L2906.02 416.346 L2889 399.133 \n  L2871.98 386.074 L2854.96 377.588 L2837.94 373.835 L2820.92 374.83 L2803.9 380.447 L2786.88 390.426 L2769.86 404.378 L2752.84 421.801 L2735.83 442.089 L2718.81 464.554 \n  L2701.79 488.445 L2684.77 512.971 L2667.75 537.327 L2650.73 560.71 L2633.71 582.342 L2616.69 601.262 L2599.67 592.203 L2582.65 570.396 L2565.63 546.422 L2548.61 521.07 \n  L2531.59 495.131 L2514.57 469.411 L2497.55 444.711 L2480.53 421.805 L2463.52 401.415 L2446.5 384.19 L2429.48 370.688 L2412.46 361.355 L2395.44 356.514 L2378.42 356.358 \n  L2361.4 360.939 L2344.38 370.168 L2327.36 383.795 L2310.34 398.982 L2293.32 386.746 L2276.3 377.363 L2259.28 372.603 L2242.26 372.8 L2225.24 378.131 L2208.22 388.629 \n  L2191.2 404.189 L2174.19 424.568 L2157.17 449.397 L2140.15 478.191 L2123.13 510.365 L2106.11 545.245 L2089.09 582.093 L2072.07 620.124 L2055.05 658.523 L2038.03 696.465 \n  L2021.01 733.082 L2003.99 755.492 L1986.97 752.882 L1969.95 748.169 L1952.93 742.028 L1935.91 734.979 L1918.89 727.523 L1901.88 720.134 L1884.86 713.244 L1867.84 707.222 \n  L1850.82 702.366 L1833.8 698.894 L1816.78 696.935 L1799.76 696.531 L1782.74 697.638 L1765.72 700.133 L1748.7 703.821 L1731.68 708.442 L1714.66 713.525 L1697.64 696.297 \n  L1680.62 667.661 L1663.6 640.526 L1646.58 615.733 L1629.57 594.029 L1612.55 576.102 L1595.53 562.572 L1578.51 553.978 L1561.49 550.766 L1544.47 553.278 L1527.45 561.745 \n  L1510.43 576.274 L1493.41 596.849 L1476.39 623.32 L1459.37 655.407 L1442.35 692.698 L1425.33 734.631 L1408.31 779.217 L1391.29 795.972 L1374.27 813.672 L1357.26 834.955 \n  L1340.24 859.866 L1323.22 888.287 L1306.2 919.956 L1289.18 954.463 L1272.16 991.265 L1255.14 1029.69 L1238.12 1068.95 L1221.1 1108.19 L1204.08 1146.47 L1187.06 1182.82 \n  L1170.04 1216.28 L1153.02 1245.89 L1136 1270.75 L1118.98 1290.03 L1101.96 1293.11 L1084.94 1264.79 L1067.93 1230.42 L1050.91 1191.09 L1033.89 1147.74 L1016.87 1101.39 \n  L999.848 1053.09 L982.829 1003.91 L965.809 954.889 L948.79 907.028 L931.77 861.244 L914.751 818.349 L897.732 779.031 L880.712 743.836 L863.693 713.157 L846.673 687.223 \n  L829.654 666.098 L812.635 649.564 L795.615 616.53 L778.596 573.305 L761.577 535.229 L744.557 502.883 L727.538 476.642 L710.518 456.74 L693.499 443.27 L676.48 436.196 \n  L659.46 435.36 L642.441 440.491 L625.421 451.216 L608.402 467.081 L591.383 487.559 L574.363 512.07 L557.344 539.993 L540.324 570.686 L523.305 603.483 L506.286 637.094 \n  L489.266 632.646 L472.247 621.827 L455.228 609.902 L438.208 597.196 L421.189 584.018 L404.169 570.665 L387.15 557.414 L370.131 544.518 L353.111 532.191 L336.092 520.612 \n  L319.072 509.917 L302.053 500.2 L285.034 491.516 L268.014 483.881 L250.995 477.279 L233.976 471.666 L216.956 466.976 L199.937 463.129 L182.917 460.032 L165.898 457.589 \n   Z\n  \" fill=\"#e26f46\" fill-rule=\"evenodd\" fill-opacity=\"0.5\"/>\n<polyline clip-path=\"url(#clip7802)\" style=\"stroke:#e26f46; stroke-width:4; stroke-opacity:1; fill:none\" points=\"\n  165.898,766.459 182.917,765.107 199.937,763.505 216.956,761.613 233.976,759.388 250.995,756.782 268.014,753.744 285.034,750.219 302.053,746.15 319.072,741.479 \n  336.092,736.15 353.111,730.107 370.131,723.301 387.15,715.693 404.169,707.253 421.189,697.969 438.208,687.849 455.228,676.925 472.247,665.256 489.266,652.936 \n  506.286,640.094 523.305,626.897 540.324,613.557 557.344,600.323 574.363,587.488 591.383,575.383 608.402,564.374 625.421,554.853 642.441,547.236 659.46,541.945 \n  676.48,539.404 693.499,540.021 710.518,544.174 727.538,552.2 744.557,564.374 761.577,580.9 778.596,601.896 795.615,627.38 812.635,657.264 829.654,691.346 \n  846.673,729.306 863.693,770.71 880.712,815.012 897.732,861.565 914.751,909.63 931.77,958.397 948.79,1007 965.809,1054.55 982.829,1100.13 999.848,1142.88 \n  1016.87,1181.93 1033.89,1216.53 1050.91,1245.99 1067.93,1269.73 1084.94,1287.31 1101.96,1298.43 1118.98,1302.93 1136,1300.81 1153.02,1292.21 1170.04,1277.42 \n  1187.06,1256.86 1204.08,1231.08 1221.1,1200.71 1238.12,1166.47 1255.14,1129.13 1272.16,1089.51 1289.18,1048.43 1306.2,1006.69 1323.22,965.064 1340.24,924.274 \n  1357.26,884.977 1374.27,847.747 1391.29,813.074 1408.31,781.352 1425.33,752.882 1442.35,727.868 1459.37,706.429 1476.39,688.598 1493.41,674.333 1510.43,663.531 \n  1527.45,656.03 1544.47,651.627 1561.49,650.087 1578.51,651.147 1595.53,654.535 1612.55,659.967 1629.57,667.16 1646.58,675.833 1663.6,685.711 1680.62,696.527 \n  1697.64,708.019 1714.66,719.936 1731.68,732.029 1748.7,744.055 1765.72,755.772 1782.74,766.94 1799.76,777.32 1816.78,786.672 1833.8,794.758 1850.82,801.342 \n  1867.84,806.198 1884.86,809.108 1901.88,809.872 1918.89,808.312 1935.91,804.281 1952.93,797.667 1969.95,788.402 1986.97,776.469 2003.99,761.903 2021.01,744.804 \n  2038.03,725.331 2055.05,703.709 2072.07,680.224 2089.09,655.224 2106.11,629.11 2123.13,602.327 2140.15,575.361 2157.17,548.718 2174.19,522.917 2191.2,498.474 \n  2208.22,475.886 2225.24,455.616 2242.26,438.078 2259.28,423.625 2276.3,412.533 2293.32,404.998 2310.34,401.118 2327.36,400.898 2344.38,404.243 2361.4,410.96 \n  2378.42,420.766 2395.44,433.291 2412.46,448.089 2429.48,464.657 2446.5,482.441 2463.52,500.859 2480.53,519.317 2497.55,537.225 2514.57,554.019 2531.59,569.171 \n  2548.61,582.213 2565.63,592.746 2582.65,600.453 2599.67,605.109 2616.69,606.588 2633.71,604.865 2650.73,600.018 2667.75,592.226 2684.77,581.763 2701.79,568.99 \n  2718.81,554.341 2735.83,538.316 2752.84,521.46 2769.86,504.351 2786.88,487.578 2803.9,471.728 2820.92,457.364 2837.94,445.011 2854.96,435.141 2871.98,428.157 \n  2889,424.38 2906.02,424.047 2923.04,427.296 2940.06,434.171 2957.08,444.618 2974.1,458.489 2991.12,475.55 3008.14,495.487 3025.15,517.92 3042.17,542.415 \n  3059.19,568.499 3076.21,595.674 3093.23,623.432 3110.25,651.272 3127.27,678.713 3144.29,705.304 3161.31,730.639 3178.33,754.364 3195.35,776.183 3212.37,795.865 \n  3229.39,813.24 3246.41,828.207 3263.43,840.725 3280.45,850.813 3297.47,858.541 3314.48,864.028 3331.5,867.429 3348.52,868.929 3365.54,868.737 3382.56,867.074 \n  3399.58,864.169 3416.6,860.249 3433.62,855.534 3450.64,850.234 3467.66,844.54 3484.68,838.627 3501.7,832.647 3518.72,826.729 3535.74,820.982 3552.76,815.49 \n  \n  \"/>\n<path clip-path=\"url(#clip7800)\" d=\"\nM2699.54 384.204 L3444.76 384.204 L3444.76 202.764 L2699.54 202.764  Z\n  \" fill=\"#ffffff\" fill-rule=\"evenodd\" fill-opacity=\"1\"/>\n<polyline clip-path=\"url(#clip7800)\" style=\"stroke:#000000; stroke-width:4; stroke-opacity:1; fill:none\" points=\"\n  2699.54,384.204 3444.76,384.204 3444.76,202.764 2699.54,202.764 2699.54,384.204 \n  \"/>\n<circle clip-path=\"url(#clip7800)\" cx=\"2861.54\" cy=\"263.244\" r=\"21\" fill=\"#009af9\" fill-rule=\"evenodd\" fill-opacity=\"1\" stroke=\"#000000\" stroke-opacity=\"1\" stroke-width=\"3.2\"/>\n<g clip-path=\"url(#clip7800)\">\n<text style=\"fill:#000000; fill-opacity:1; font-family:Arial,Helvetica Neue,Helvetica,sans-serif; font-size:48px; text-anchor:start;\" transform=\"rotate(0, 2987.54, 280.744)\" x=\"2987.54\" y=\"280.744\">data</text>\n</g>\n<polyline clip-path=\"url(#clip7800)\" style=\"stroke:#e26f46; stroke-width:4; stroke-opacity:1; fill:none\" points=\"\n  2735.54,323.724 2951.54,323.724 \n  \"/>\n<g clip-path=\"url(#clip7800)\">\n<text style=\"fill:#000000; fill-opacity:1; font-family:Arial,Helvetica Neue,Helvetica,sans-serif; font-size:48px; text-anchor:start;\" transform=\"rotate(0, 2987.54, 341.224)\" x=\"2987.54\" y=\"341.224\">Gaussian process</text>\n</g>\n</svg>\n"
               },
               "type": "node"
              }
             ],
             "instanceArgs": {
              "namespace": "html",
              "tag": "div"
             },
             "nodeType": "DOM",
             "props": {
              "className": "interact-flex-row interact-widget"
             },
             "type": "node"
            }
           }
          },
          "systemjs_options": null
         },
         "nodeType": "Scope",
         "props": {},
         "type": "node"
        }
       ],
       "instanceArgs": {
        "namespace": "html",
        "tag": "div"
       },
       "nodeType": "DOM",
       "props": {},
       "type": "node"
      },
      "text/html": [
       "<div\n",
       "    class=\"webio-mountpoint\"\n",
       "    data-webio-mountpoint=\"3213065159442414490\"\n",
       ">\n",
       "    <script>\n",
       "    if (window.require && require.defined && require.defined(\"nbextensions/webio-jupyter-notebook\")) {\n",
       "        console.log(\"Jupyter WebIO extension detected, not mounting.\");\n",
       "    } else if (window.WebIO) {\n",
       "        WebIO.mount(\n",
       "            document.querySelector('[data-webio-mountpoint=\"3213065159442414490\"]'),\n",
       "            {\"props\":{},\"nodeType\":\"DOM\",\"type\":\"node\",\"instanceArgs\":{\"namespace\":\"html\",\"tag\":\"div\"},\"children\":[{\"props\":{\"className\":\"field interact-widget\"},\"nodeType\":\"DOM\",\"type\":\"node\",\"instanceArgs\":{\"namespace\":\"html\",\"tag\":\"div\"},\"children\":[{\"props\":{},\"nodeType\":\"Scope\",\"type\":\"node\",\"instanceArgs\":{\"imports\":{\"data\":[{\"name\":\"knockout\",\"type\":\"js\",\"url\":\"\\/assetserver\\/f848bd002af2052b634cac1eb2affe109cbba3ba-knockout.js\"},{\"name\":\"knockout_punches\",\"type\":\"js\",\"url\":\"\\/assetserver\\/31ecefdc4553d90f2aa48f9261b2f16dfc2d359b-knockout_punches.js\"},{\"name\":null,\"type\":\"js\",\"url\":\"\\/assetserver\\/f2c8ad3910f87ab7e0acf2b3cfd5913e15d66f87-all.js\"},{\"name\":null,\"type\":\"css\",\"url\":\"\\/assetserver\\/dae29c5c6cb77b6ac0bed0cefad4137f69351557-style.css\"},{\"name\":null,\"type\":\"css\",\"url\":\"\\/assetserver\\/5f021a427ae3fef2ec76433c67544a048a5b7e8c-bulma_confined.min.css\"}],\"type\":\"async_block\"},\"id\":\"11415657784382391852\",\"handlers\":{\"changes\":[\"(function (val){return (val!=this.model[\\\"changes\\\"]()) ? (this.valueFromJulia[\\\"changes\\\"]=true, this.model[\\\"changes\\\"](val)) : undefined})\"],\"index\":[\"(function (val){return (val!=this.model[\\\"index\\\"]()) ? (this.valueFromJulia[\\\"index\\\"]=true, this.model[\\\"index\\\"](val)) : undefined})\"]},\"systemjs_options\":null,\"mount_callbacks\":[\"function () {\\n    var handler = (function (ko, koPunches) {\\n    ko.punches.enableAll();\\n    ko.bindingHandlers.numericValue = {\\n        init: function(element, valueAccessor, allBindings, data, context) {\\n            var stringified = ko.observable(ko.unwrap(valueAccessor()));\\n            stringified.subscribe(function(value) {\\n                var val = parseFloat(value);\\n                if (!isNaN(val)) {\\n                    valueAccessor()(val);\\n                }\\n            });\\n            valueAccessor().subscribe(function(value) {\\n                var str = JSON.stringify(value);\\n                if ((str == \\\"0\\\") && ([\\\"-0\\\", \\\"-0.\\\"].indexOf(stringified()) >= 0))\\n                     return;\\n                 if ([\\\"null\\\", \\\"\\\"].indexOf(str) >= 0)\\n                     return;\\n                stringified(str);\\n            });\\n            ko.applyBindingsToNode(\\n                element,\\n                {\\n                    value: stringified,\\n                    valueUpdate: allBindings.get('valueUpdate'),\\n                },\\n                context,\\n            );\\n        }\\n    };\\n    var json_data = {\\\"formatted_vals\\\":[\\\"0.0\\\",\\\"0.00204082\\\",\\\"0.00408163\\\",\\\"0.00612245\\\",\\\"0.00816327\\\",\\\"0.0102041\\\",\\\"0.0122449\\\",\\\"0.0142857\\\",\\\"0.0163265\\\",\\\"0.0183673\\\",\\\"0.0204082\\\",\\\"0.022449\\\",\\\"0.0244898\\\",\\\"0.0265306\\\",\\\"0.0285714\\\",\\\"0.0306122\\\",\\\"0.0326531\\\",\\\"0.0346939\\\",\\\"0.0367347\\\",\\\"0.0387755\\\",\\\"0.0408163\\\",\\\"0.0428571\\\",\\\"0.044898\\\",\\\"0.0469388\\\",\\\"0.0489796\\\",\\\"0.0510204\\\",\\\"0.0530612\\\",\\\"0.055102\\\",\\\"0.0571429\\\",\\\"0.0591837\\\",\\\"0.0612245\\\",\\\"0.0632653\\\",\\\"0.0653061\\\",\\\"0.0673469\\\",\\\"0.0693878\\\",\\\"0.0714286\\\",\\\"0.0734694\\\",\\\"0.0755102\\\",\\\"0.077551\\\",\\\"0.0795918\\\",\\\"0.0816327\\\",\\\"0.0836735\\\",\\\"0.0857143\\\",\\\"0.0877551\\\",\\\"0.0897959\\\",\\\"0.0918367\\\",\\\"0.0938776\\\",\\\"0.0959184\\\",\\\"0.0979592\\\",\\\"0.1\\\"],\\\"changes\\\":WebIO.getval({\\\"name\\\":\\\"changes\\\",\\\"scope\\\":\\\"11415657784382391852\\\",\\\"id\\\":\\\"ob_03\\\",\\\"type\\\":\\\"observable\\\"}),\\\"index\\\":WebIO.getval({\\\"name\\\":\\\"index\\\",\\\"scope\\\":\\\"11415657784382391852\\\",\\\"id\\\":\\\"ob_02\\\",\\\"type\\\":\\\"observable\\\"})};\\n    var self = this;\\n    function AppViewModel() {\\n        for (var key in json_data) {\\n            var el = json_data[key];\\n            this[key] = Array.isArray(el) ? ko.observableArray(el) : ko.observable(el);\\n        }\\n        \\n        [this[\\\"formatted_val\\\"]=ko.computed(    function(){\\n        return this.formatted_vals()[parseInt(this.index())-(1)];\\n    }\\n,this)]\\n        [this[\\\"changes\\\"].subscribe((function (val){!(this.valueFromJulia[\\\"changes\\\"]) ? (WebIO.setval({\\\"name\\\":\\\"changes\\\",\\\"scope\\\":\\\"11415657784382391852\\\",\\\"id\\\":\\\"ob_03\\\",\\\"type\\\":\\\"observable\\\"},val)) : undefined; return this.valueFromJulia[\\\"changes\\\"]=false}),self),this[\\\"index\\\"].subscribe((function (val){!(this.valueFromJulia[\\\"index\\\"]) ? (WebIO.setval({\\\"name\\\":\\\"index\\\",\\\"scope\\\":\\\"11415657784382391852\\\",\\\"id\\\":\\\"ob_02\\\",\\\"type\\\":\\\"observable\\\"},val)) : undefined; return this.valueFromJulia[\\\"index\\\"]=false}),self)]\\n        \\n    }\\n    self.model = new AppViewModel();\\n    self.valueFromJulia = {};\\n    for (var key in json_data) {\\n        self.valueFromJulia[key] = false;\\n    }\\n    ko.applyBindings(self.model, self.dom);\\n}\\n);\\n    (WebIO.importBlock({\\\"data\\\":[{\\\"name\\\":\\\"knockout\\\",\\\"type\\\":\\\"js\\\",\\\"url\\\":\\\"\\/assetserver\\/f848bd002af2052b634cac1eb2affe109cbba3ba-knockout.js\\\"},{\\\"name\\\":\\\"knockout_punches\\\",\\\"type\\\":\\\"js\\\",\\\"url\\\":\\\"\\/assetserver\\/31ecefdc4553d90f2aa48f9261b2f16dfc2d359b-knockout_punches.js\\\"}],\\\"type\\\":\\\"async_block\\\"})).then((imports) => handler.apply(this, imports));\\n}\\n\"],\"observables\":{\"changes\":{\"sync\":false,\"id\":\"ob_03\",\"value\":0},\"index\":{\"sync\":true,\"id\":\"ob_02\",\"value\":25}}},\"children\":[{\"props\":{\"className\":\"interact-flex-row interact-widget\"},\"nodeType\":\"DOM\",\"type\":\"node\",\"instanceArgs\":{\"namespace\":\"html\",\"tag\":\"div\"},\"children\":[{\"props\":{\"className\":\"interact-flex-row-left\"},\"nodeType\":\"DOM\",\"type\":\"node\",\"instanceArgs\":{\"namespace\":\"html\",\"tag\":\"div\"},\"children\":[{\"props\":{\"className\":\"interact \",\"style\":{\"padding\":\"5px 10px 0px 10px\"}},\"nodeType\":\"DOM\",\"type\":\"node\",\"instanceArgs\":{\"namespace\":\"html\",\"tag\":\"label\"},\"children\":[\"s\"]}]},{\"props\":{\"className\":\"interact-flex-row-center\"},\"nodeType\":\"DOM\",\"type\":\"node\",\"instanceArgs\":{\"namespace\":\"html\",\"tag\":\"div\"},\"children\":[{\"props\":{\"max\":50,\"min\":1,\"attributes\":{\"type\":\"range\",\"data-bind\":\"numericValue: index, valueUpdate: 'input', event: {change: function (){this.changes(this.changes()+1)}}\",\"orient\":\"horizontal\"},\"step\":1,\"className\":\"slider slider is-fullwidth\",\"style\":{}},\"nodeType\":\"DOM\",\"type\":\"node\",\"instanceArgs\":{\"namespace\":\"html\",\"tag\":\"input\"},\"children\":[]}]},{\"props\":{\"className\":\"interact-flex-row-right\"},\"nodeType\":\"DOM\",\"type\":\"node\",\"instanceArgs\":{\"namespace\":\"html\",\"tag\":\"div\"},\"children\":[{\"props\":{\"attributes\":{\"data-bind\":\"text: formatted_val\"}},\"nodeType\":\"DOM\",\"type\":\"node\",\"instanceArgs\":{\"namespace\":\"html\",\"tag\":\"p\"},\"children\":[]}]}]}]}]},{\"props\":{\"className\":\"field interact-widget\"},\"nodeType\":\"DOM\",\"type\":\"node\",\"instanceArgs\":{\"namespace\":\"html\",\"tag\":\"div\"},\"children\":[{\"props\":{},\"nodeType\":\"Scope\",\"type\":\"node\",\"instanceArgs\":{\"imports\":{\"data\":[{\"name\":\"knockout\",\"type\":\"js\",\"url\":\"\\/assetserver\\/f848bd002af2052b634cac1eb2affe109cbba3ba-knockout.js\"},{\"name\":\"knockout_punches\",\"type\":\"js\",\"url\":\"\\/assetserver\\/31ecefdc4553d90f2aa48f9261b2f16dfc2d359b-knockout_punches.js\"},{\"name\":null,\"type\":\"js\",\"url\":\"\\/assetserver\\/f2c8ad3910f87ab7e0acf2b3cfd5913e15d66f87-all.js\"},{\"name\":null,\"type\":\"css\",\"url\":\"\\/assetserver\\/dae29c5c6cb77b6ac0bed0cefad4137f69351557-style.css\"},{\"name\":null,\"type\":\"css\",\"url\":\"\\/assetserver\\/5f021a427ae3fef2ec76433c67544a048a5b7e8c-bulma_confined.min.css\"}],\"type\":\"async_block\"},\"id\":\"8909251716311877959\",\"handlers\":{\"changes\":[\"(function (val){return (val!=this.model[\\\"changes\\\"]()) ? (this.valueFromJulia[\\\"changes\\\"]=true, this.model[\\\"changes\\\"](val)) : undefined})\"],\"index\":[\"(function (val){return (val!=this.model[\\\"index\\\"]()) ? (this.valueFromJulia[\\\"index\\\"]=true, this.model[\\\"index\\\"](val)) : undefined})\"]},\"systemjs_options\":null,\"mount_callbacks\":[\"function () {\\n    var handler = (function (ko, koPunches) {\\n    ko.punches.enableAll();\\n    ko.bindingHandlers.numericValue = {\\n        init: function(element, valueAccessor, allBindings, data, context) {\\n            var stringified = ko.observable(ko.unwrap(valueAccessor()));\\n            stringified.subscribe(function(value) {\\n                var val = parseFloat(value);\\n                if (!isNaN(val)) {\\n                    valueAccessor()(val);\\n                }\\n            });\\n            valueAccessor().subscribe(function(value) {\\n                var str = JSON.stringify(value);\\n                if ((str == \\\"0\\\") && ([\\\"-0\\\", \\\"-0.\\\"].indexOf(stringified()) >= 0))\\n                     return;\\n                 if ([\\\"null\\\", \\\"\\\"].indexOf(str) >= 0)\\n                     return;\\n                stringified(str);\\n            });\\n            ko.applyBindingsToNode(\\n                element,\\n                {\\n                    value: stringified,\\n                    valueUpdate: allBindings.get('valueUpdate'),\\n                },\\n                context,\\n            );\\n        }\\n    };\\n    var json_data = {\\\"formatted_vals\\\":[\\\"0.1\\\",\\\"0.102041\\\",\\\"0.104082\\\",\\\"0.106122\\\",\\\"0.108163\\\",\\\"0.110204\\\",\\\"0.112245\\\",\\\"0.114286\\\",\\\"0.116327\\\",\\\"0.118367\\\",\\\"0.120408\\\",\\\"0.122449\\\",\\\"0.12449\\\",\\\"0.126531\\\",\\\"0.128571\\\",\\\"0.130612\\\",\\\"0.132653\\\",\\\"0.134694\\\",\\\"0.136735\\\",\\\"0.138776\\\",\\\"0.140816\\\",\\\"0.142857\\\",\\\"0.144898\\\",\\\"0.146939\\\",\\\"0.14898\\\",\\\"0.15102\\\",\\\"0.153061\\\",\\\"0.155102\\\",\\\"0.157143\\\",\\\"0.159184\\\",\\\"0.161224\\\",\\\"0.163265\\\",\\\"0.165306\\\",\\\"0.167347\\\",\\\"0.169388\\\",\\\"0.171429\\\",\\\"0.173469\\\",\\\"0.17551\\\",\\\"0.177551\\\",\\\"0.179592\\\",\\\"0.181633\\\",\\\"0.183673\\\",\\\"0.185714\\\",\\\"0.187755\\\",\\\"0.189796\\\",\\\"0.191837\\\",\\\"0.193878\\\",\\\"0.195918\\\",\\\"0.197959\\\",\\\"0.2\\\"],\\\"changes\\\":WebIO.getval({\\\"name\\\":\\\"changes\\\",\\\"scope\\\":\\\"8909251716311877959\\\",\\\"id\\\":\\\"ob_06\\\",\\\"type\\\":\\\"observable\\\"}),\\\"index\\\":WebIO.getval({\\\"name\\\":\\\"index\\\",\\\"scope\\\":\\\"8909251716311877959\\\",\\\"id\\\":\\\"ob_05\\\",\\\"type\\\":\\\"observable\\\"})};\\n    var self = this;\\n    function AppViewModel() {\\n        for (var key in json_data) {\\n            var el = json_data[key];\\n            this[key] = Array.isArray(el) ? ko.observableArray(el) : ko.observable(el);\\n        }\\n        \\n        [this[\\\"formatted_val\\\"]=ko.computed(    function(){\\n        return this.formatted_vals()[parseInt(this.index())-(1)];\\n    }\\n,this)]\\n        [this[\\\"changes\\\"].subscribe((function (val){!(this.valueFromJulia[\\\"changes\\\"]) ? (WebIO.setval({\\\"name\\\":\\\"changes\\\",\\\"scope\\\":\\\"8909251716311877959\\\",\\\"id\\\":\\\"ob_06\\\",\\\"type\\\":\\\"observable\\\"},val)) : undefined; return this.valueFromJulia[\\\"changes\\\"]=false}),self),this[\\\"index\\\"].subscribe((function (val){!(this.valueFromJulia[\\\"index\\\"]) ? (WebIO.setval({\\\"name\\\":\\\"index\\\",\\\"scope\\\":\\\"8909251716311877959\\\",\\\"id\\\":\\\"ob_05\\\",\\\"type\\\":\\\"observable\\\"},val)) : undefined; return this.valueFromJulia[\\\"index\\\"]=false}),self)]\\n        \\n    }\\n    self.model = new AppViewModel();\\n    self.valueFromJulia = {};\\n    for (var key in json_data) {\\n        self.valueFromJulia[key] = false;\\n    }\\n    ko.applyBindings(self.model, self.dom);\\n}\\n);\\n    (WebIO.importBlock({\\\"data\\\":[{\\\"name\\\":\\\"knockout\\\",\\\"type\\\":\\\"js\\\",\\\"url\\\":\\\"\\/assetserver\\/f848bd002af2052b634cac1eb2affe109cbba3ba-knockout.js\\\"},{\\\"name\\\":\\\"knockout_punches\\\",\\\"type\\\":\\\"js\\\",\\\"url\\\":\\\"\\/assetserver\\/31ecefdc4553d90f2aa48f9261b2f16dfc2d359b-knockout_punches.js\\\"}],\\\"type\\\":\\\"async_block\\\"})).then((imports) => handler.apply(this, imports));\\n}\\n\"],\"observables\":{\"changes\":{\"sync\":false,\"id\":\"ob_06\",\"value\":0},\"index\":{\"sync\":true,\"id\":\"ob_05\",\"value\":25}}},\"children\":[{\"props\":{\"className\":\"interact-flex-row interact-widget\"},\"nodeType\":\"DOM\",\"type\":\"node\",\"instanceArgs\":{\"namespace\":\"html\",\"tag\":\"div\"},\"children\":[{\"props\":{\"className\":\"interact-flex-row-left\"},\"nodeType\":\"DOM\",\"type\":\"node\",\"instanceArgs\":{\"namespace\":\"html\",\"tag\":\"div\"},\"children\":[{\"props\":{\"className\":\"interact \",\"style\":{\"padding\":\"5px 10px 0px 10px\"}},\"nodeType\":\"DOM\",\"type\":\"node\",\"instanceArgs\":{\"namespace\":\"html\",\"tag\":\"label\"},\"children\":[\"r\"]}]},{\"props\":{\"className\":\"interact-flex-row-center\"},\"nodeType\":\"DOM\",\"type\":\"node\",\"instanceArgs\":{\"namespace\":\"html\",\"tag\":\"div\"},\"children\":[{\"props\":{\"max\":50,\"min\":1,\"attributes\":{\"type\":\"range\",\"data-bind\":\"numericValue: index, valueUpdate: 'input', event: {change: function (){this.changes(this.changes()+1)}}\",\"orient\":\"horizontal\"},\"step\":1,\"className\":\"slider slider is-fullwidth\",\"style\":{}},\"nodeType\":\"DOM\",\"type\":\"node\",\"instanceArgs\":{\"namespace\":\"html\",\"tag\":\"input\"},\"children\":[]}]},{\"props\":{\"className\":\"interact-flex-row-right\"},\"nodeType\":\"DOM\",\"type\":\"node\",\"instanceArgs\":{\"namespace\":\"html\",\"tag\":\"div\"},\"children\":[{\"props\":{\"attributes\":{\"data-bind\":\"text: formatted_val\"}},\"nodeType\":\"DOM\",\"type\":\"node\",\"instanceArgs\":{\"namespace\":\"html\",\"tag\":\"p\"},\"children\":[]}]}]}]}]},{\"props\":{},\"nodeType\":\"Scope\",\"type\":\"node\",\"instanceArgs\":{\"imports\":{\"data\":[],\"type\":\"async_block\"},\"id\":\"12334842370415074120\",\"handlers\":{},\"systemjs_options\":null,\"mount_callbacks\":[],\"observables\":{\"obs-node\":{\"sync\":false,\"id\":\"ob_10\",\"value\":{\"props\":{\"className\":\"interact-flex-row interact-widget\"},\"nodeType\":\"DOM\",\"type\":\"node\",\"instanceArgs\":{\"namespace\":\"html\",\"tag\":\"div\"},\"children\":[{\"props\":{\"setInnerHtml\":\"<?xml version=\\\"1.0\\\" encoding=\\\"utf-8\\\"?>\\n<svg xmlns=\\\"http:\\/\\/www.w3.org\\/2000\\/svg\\\" xmlns:xlink=\\\"http:\\/\\/www.w3.org\\/1999\\/xlink\\\" width=\\\"900\\\" height=\\\"400\\\" viewBox=\\\"0 0 3600 1600\\\">\\n<defs>\\n  <clipPath id=\\\"clip7400\\\">\\n    <rect x=\\\"0\\\" y=\\\"0\\\" width=\\\"3600\\\" height=\\\"1600\\\"\\/>\\n  <\\/clipPath>\\n<\\/defs>\\n<path clip-path=\\\"url(#clip7400)\\\" d=\\\"\\nM0 1600 L3600 1600 L3600 0 L0 0  Z\\n  \\\" fill=\\\"#ffffff\\\" fill-rule=\\\"evenodd\\\" fill-opacity=\\\"1\\\"\\/>\\n<defs>\\n  <clipPath id=\\\"clip7401\\\">\\n    <rect x=\\\"720\\\" y=\\\"0\\\" width=\\\"2521\\\" height=\\\"1600\\\"\\/>\\n  <\\/clipPath>\\n<\\/defs>\\n<path clip-path=\\\"url(#clip7400)\\\" d=\\\"\\nM165.898 1498.65 L3552.76 1498.65 L3552.76 47.2441 L165.898 47.2441  Z\\n  \\\" fill=\\\"#ffffff\\\" fill-rule=\\\"evenodd\\\" fill-opacity=\\\"1\\\"\\/>\\n<defs>\\n  <clipPath id=\\\"clip7402\\\">\\n    <rect x=\\\"165\\\" y=\\\"47\\\" width=\\\"3388\\\" height=\\\"1452\\\"\\/>\\n  <\\/clipPath>\\n<\\/defs>\\n<polyline clip-path=\\\"url(#clip7402)\\\" style=\\\"stroke:#000000; stroke-width:2; stroke-opacity:0.1; fill:none\\\" points=\\\"\\n  165.898,1498.65 165.898,47.2441 \\n  \\\"\\/>\\n<polyline clip-path=\\\"url(#clip7402)\\\" style=\\\"stroke:#000000; stroke-width:2; stroke-opacity:0.1; fill:none\\\" points=\\\"\\n  843.27,1498.65 843.27,47.2441 \\n  \\\"\\/>\\n<polyline clip-path=\\\"url(#clip7402)\\\" style=\\\"stroke:#000000; stroke-width:2; stroke-opacity:0.1; fill:none\\\" points=\\\"\\n  1520.64,1498.65 1520.64,47.2441 \\n  \\\"\\/>\\n<polyline clip-path=\\\"url(#clip7402)\\\" style=\\\"stroke:#000000; stroke-width:2; stroke-opacity:0.1; fill:none\\\" points=\\\"\\n  2198.01,1498.65 2198.01,47.2441 \\n  \\\"\\/>\\n<polyline clip-path=\\\"url(#clip7402)\\\" style=\\\"stroke:#000000; stroke-width:2; stroke-opacity:0.1; fill:none\\\" points=\\\"\\n  2875.38,1498.65 2875.38,47.2441 \\n  \\\"\\/>\\n<polyline clip-path=\\\"url(#clip7402)\\\" style=\\\"stroke:#000000; stroke-width:2; stroke-opacity:0.1; fill:none\\\" points=\\\"\\n  3552.76,1498.65 3552.76,47.2441 \\n  \\\"\\/>\\n<polyline clip-path=\\\"url(#clip7402)\\\" style=\\\"stroke:#000000; stroke-width:2; stroke-opacity:0.1; fill:none\\\" points=\\\"\\n  165.898,1498.65 3552.76,1498.65 \\n  \\\"\\/>\\n<polyline clip-path=\\\"url(#clip7402)\\\" style=\\\"stroke:#000000; stroke-width:2; stroke-opacity:0.1; fill:none\\\" points=\\\"\\n  165.898,1208.37 3552.76,1208.37 \\n  \\\"\\/>\\n<polyline clip-path=\\\"url(#clip7402)\\\" style=\\\"stroke:#000000; stroke-width:2; stroke-opacity:0.1; fill:none\\\" points=\\\"\\n  165.898,918.089 3552.76,918.089 \\n  \\\"\\/>\\n<polyline clip-path=\\\"url(#clip7402)\\\" style=\\\"stroke:#000000; stroke-width:2; stroke-opacity:0.1; fill:none\\\" points=\\\"\\n  165.898,627.807 3552.76,627.807 \\n  \\\"\\/>\\n<polyline clip-path=\\\"url(#clip7402)\\\" style=\\\"stroke:#000000; stroke-width:2; stroke-opacity:0.1; fill:none\\\" points=\\\"\\n  165.898,337.526 3552.76,337.526 \\n  \\\"\\/>\\n<polyline clip-path=\\\"url(#clip7402)\\\" style=\\\"stroke:#000000; stroke-width:2; stroke-opacity:0.1; fill:none\\\" points=\\\"\\n  165.898,47.2441 3552.76,47.2441 \\n  \\\"\\/>\\n<polyline clip-path=\\\"url(#clip7400)\\\" style=\\\"stroke:#000000; stroke-width:4; stroke-opacity:1; fill:none\\\" points=\\\"\\n  165.898,1498.65 3552.76,1498.65 \\n  \\\"\\/>\\n<polyline clip-path=\\\"url(#clip7400)\\\" style=\\\"stroke:#000000; stroke-width:4; stroke-opacity:1; fill:none\\\" points=\\\"\\n  165.898,1498.65 165.898,47.2441 \\n  \\\"\\/>\\n<polyline clip-path=\\\"url(#clip7400)\\\" style=\\\"stroke:#000000; stroke-width:4; stroke-opacity:1; fill:none\\\" points=\\\"\\n  165.898,1498.65 165.898,1481.24 \\n  \\\"\\/>\\n<polyline clip-path=\\\"url(#clip7400)\\\" style=\\\"stroke:#000000; stroke-width:4; stroke-opacity:1; fill:none\\\" points=\\\"\\n  843.27,1498.65 843.27,1481.24 \\n  \\\"\\/>\\n<polyline clip-path=\\\"url(#clip7400)\\\" style=\\\"stroke:#000000; stroke-width:4; stroke-opacity:1; fill:none\\\" points=\\\"\\n  1520.64,1498.65 1520.64,1481.24 \\n  \\\"\\/>\\n<polyline clip-path=\\\"url(#clip7400)\\\" style=\\\"stroke:#000000; stroke-width:4; stroke-opacity:1; fill:none\\\" points=\\\"\\n  2198.01,1498.65 2198.01,1481.24 \\n  \\\"\\/>\\n<polyline clip-path=\\\"url(#clip7400)\\\" style=\\\"stroke:#000000; stroke-width:4; stroke-opacity:1; fill:none\\\" points=\\\"\\n  2875.38,1498.65 2875.38,1481.24 \\n  \\\"\\/>\\n<polyline clip-path=\\\"url(#clip7400)\\\" style=\\\"stroke:#000000; stroke-width:4; stroke-opacity:1; fill:none\\\" points=\\\"\\n  3552.76,1498.65 3552.76,1481.24 \\n  \\\"\\/>\\n<polyline clip-path=\\\"url(#clip7400)\\\" style=\\\"stroke:#000000; stroke-width:4; stroke-opacity:1; fill:none\\\" points=\\\"\\n  165.898,1498.65 206.54,1498.65 \\n  \\\"\\/>\\n<polyline clip-path=\\\"url(#clip7400)\\\" style=\\\"stroke:#000000; stroke-width:4; stroke-opacity:1; fill:none\\\" points=\\\"\\n  165.898,1208.37 206.54,1208.37 \\n  \\\"\\/>\\n<polyline clip-path=\\\"url(#clip7400)\\\" style=\\\"stroke:#000000; stroke-width:4; stroke-opacity:1; fill:none\\\" points=\\\"\\n  165.898,918.089 206.54,918.089 \\n  \\\"\\/>\\n<polyline clip-path=\\\"url(#clip7400)\\\" style=\\\"stroke:#000000; stroke-width:4; stroke-opacity:1; fill:none\\\" points=\\\"\\n  165.898,627.807 206.54,627.807 \\n  \\\"\\/>\\n<polyline clip-path=\\\"url(#clip7400)\\\" style=\\\"stroke:#000000; stroke-width:4; stroke-opacity:1; fill:none\\\" points=\\\"\\n  165.898,337.526 206.54,337.526 \\n  \\\"\\/>\\n<polyline clip-path=\\\"url(#clip7400)\\\" style=\\\"stroke:#000000; stroke-width:4; stroke-opacity:1; fill:none\\\" points=\\\"\\n  165.898,47.2441 206.54,47.2441 \\n  \\\"\\/>\\n<g clip-path=\\\"url(#clip7400)\\\">\\n<text style=\\\"fill:#000000; fill-opacity:1; font-family:Arial,Helvetica Neue,Helvetica,sans-serif; font-size:48px; text-anchor:middle;\\\" transform=\\\"rotate(0, 165.898, 1558.65)\\\" x=\\\"165.898\\\" y=\\\"1558.65\\\">0.0<\\/text>\\n<\\/g>\\n<g clip-path=\\\"url(#clip7400)\\\">\\n<text style=\\\"fill:#000000; fill-opacity:1; font-family:Arial,Helvetica Neue,Helvetica,sans-serif; font-size:48px; text-anchor:middle;\\\" transform=\\\"rotate(0, 843.27, 1558.65)\\\" x=\\\"843.27\\\" y=\\\"1558.65\\\">0.2<\\/text>\\n<\\/g>\\n<g clip-path=\\\"url(#clip7400)\\\">\\n<text style=\\\"fill:#000000; fill-opacity:1; font-family:Arial,Helvetica Neue,Helvetica,sans-serif; font-size:48px; text-anchor:middle;\\\" transform=\\\"rotate(0, 1520.64, 1558.65)\\\" x=\\\"1520.64\\\" y=\\\"1558.65\\\">0.4<\\/text>\\n<\\/g>\\n<g clip-path=\\\"url(#clip7400)\\\">\\n<text style=\\\"fill:#000000; fill-opacity:1; font-family:Arial,Helvetica Neue,Helvetica,sans-serif; font-size:48px; text-anchor:middle;\\\" transform=\\\"rotate(0, 2198.01, 1558.65)\\\" x=\\\"2198.01\\\" y=\\\"1558.65\\\">0.6<\\/text>\\n<\\/g>\\n<g clip-path=\\\"url(#clip7400)\\\">\\n<text style=\\\"fill:#000000; fill-opacity:1; font-family:Arial,Helvetica Neue,Helvetica,sans-serif; font-size:48px; text-anchor:middle;\\\" transform=\\\"rotate(0, 2875.38, 1558.65)\\\" x=\\\"2875.38\\\" y=\\\"1558.65\\\">0.8<\\/text>\\n<\\/g>\\n<g clip-path=\\\"url(#clip7400)\\\">\\n<text style=\\\"fill:#000000; fill-opacity:1; font-family:Arial,Helvetica Neue,Helvetica,sans-serif; font-size:48px; text-anchor:middle;\\\" transform=\\\"rotate(0, 3552.76, 1558.65)\\\" x=\\\"3552.76\\\" y=\\\"1558.65\\\">1.0<\\/text>\\n<\\/g>\\n<g clip-path=\\\"url(#clip7400)\\\">\\n<text style=\\\"fill:#000000; fill-opacity:1; font-family:Arial,Helvetica Neue,Helvetica,sans-serif; font-size:48px; text-anchor:end;\\\" transform=\\\"rotate(0, 129.898, 1516.15)\\\" x=\\\"129.898\\\" y=\\\"1516.15\\\">0.0<\\/text>\\n<\\/g>\\n<g clip-path=\\\"url(#clip7400)\\\">\\n<text style=\\\"fill:#000000; fill-opacity:1; font-family:Arial,Helvetica Neue,Helvetica,sans-serif; font-size:48px; text-anchor:end;\\\" transform=\\\"rotate(0, 129.898, 1225.87)\\\" x=\\\"129.898\\\" y=\\\"1225.87\\\">0.2<\\/text>\\n<\\/g>\\n<g clip-path=\\\"url(#clip7400)\\\">\\n<text style=\\\"fill:#000000; fill-opacity:1; font-family:Arial,Helvetica Neue,Helvetica,sans-serif; font-size:48px; text-anchor:end;\\\" transform=\\\"rotate(0, 129.898, 935.589)\\\" x=\\\"129.898\\\" y=\\\"935.589\\\">0.4<\\/text>\\n<\\/g>\\n<g clip-path=\\\"url(#clip7400)\\\">\\n<text style=\\\"fill:#000000; fill-opacity:1; font-family:Arial,Helvetica Neue,Helvetica,sans-serif; font-size:48px; text-anchor:end;\\\" transform=\\\"rotate(0, 129.898, 645.307)\\\" x=\\\"129.898\\\" y=\\\"645.307\\\">0.6<\\/text>\\n<\\/g>\\n<g clip-path=\\\"url(#clip7400)\\\">\\n<text style=\\\"fill:#000000; fill-opacity:1; font-family:Arial,Helvetica Neue,Helvetica,sans-serif; font-size:48px; text-anchor:end;\\\" transform=\\\"rotate(0, 129.898, 355.026)\\\" x=\\\"129.898\\\" y=\\\"355.026\\\">0.8<\\/text>\\n<\\/g>\\n<g clip-path=\\\"url(#clip7400)\\\">\\n<text style=\\\"fill:#000000; fill-opacity:1; font-family:Arial,Helvetica Neue,Helvetica,sans-serif; font-size:48px; text-anchor:end;\\\" transform=\\\"rotate(0, 129.898, 64.7441)\\\" x=\\\"129.898\\\" y=\\\"64.7441\\\">1.0<\\/text>\\n<\\/g>\\n<circle clip-path=\\\"url(#clip7402)\\\" cx=\\\"504.584\\\" cy=\\\"641.397\\\" r=\\\"14\\\" fill=\\\"#009af9\\\" fill-rule=\\\"evenodd\\\" fill-opacity=\\\"1\\\" stroke=\\\"#000000\\\" stroke-opacity=\\\"1\\\" stroke-width=\\\"3.2\\\"\\/>\\n<circle clip-path=\\\"url(#clip7402)\\\" cx=\\\"805.638\\\" cy=\\\"644.449\\\" r=\\\"14\\\" fill=\\\"#009af9\\\" fill-rule=\\\"evenodd\\\" fill-opacity=\\\"1\\\" stroke=\\\"#000000\\\" stroke-opacity=\\\"1\\\" stroke-width=\\\"3.2\\\"\\/>\\n<circle clip-path=\\\"url(#clip7402)\\\" cx=\\\"1106.69\\\" cy=\\\"1300.36\\\" r=\\\"14\\\" fill=\\\"#009af9\\\" fill-rule=\\\"evenodd\\\" fill-opacity=\\\"1\\\" stroke=\\\"#000000\\\" stroke-opacity=\\\"1\\\" stroke-width=\\\"3.2\\\"\\/>\\n<circle clip-path=\\\"url(#clip7402)\\\" cx=\\\"1407.75\\\" cy=\\\"782.354\\\" r=\\\"14\\\" fill=\\\"#009af9\\\" fill-rule=\\\"evenodd\\\" fill-opacity=\\\"1\\\" stroke=\\\"#000000\\\" stroke-opacity=\\\"1\\\" stroke-width=\\\"3.2\\\"\\/>\\n<circle clip-path=\\\"url(#clip7402)\\\" cx=\\\"1708.8\\\" cy=\\\"715.798\\\" r=\\\"14\\\" fill=\\\"#009af9\\\" fill-rule=\\\"evenodd\\\" fill-opacity=\\\"1\\\" stroke=\\\"#000000\\\" stroke-opacity=\\\"1\\\" stroke-width=\\\"3.2\\\"\\/>\\n<circle clip-path=\\\"url(#clip7402)\\\" cx=\\\"2009.85\\\" cy=\\\"756.296\\\" r=\\\"14\\\" fill=\\\"#009af9\\\" fill-rule=\\\"evenodd\\\" fill-opacity=\\\"1\\\" stroke=\\\"#000000\\\" stroke-opacity=\\\"1\\\" stroke-width=\\\"3.2\\\"\\/>\\n<circle clip-path=\\\"url(#clip7402)\\\" cx=\\\"2310.91\\\" cy=\\\"401.042\\\" r=\\\"14\\\" fill=\\\"#009af9\\\" fill-rule=\\\"evenodd\\\" fill-opacity=\\\"1\\\" stroke=\\\"#000000\\\" stroke-opacity=\\\"1\\\" stroke-width=\\\"3.2\\\"\\/>\\n<circle clip-path=\\\"url(#clip7402)\\\" cx=\\\"2611.96\\\" cy=\\\"606.502\\\" r=\\\"14\\\" fill=\\\"#009af9\\\" fill-rule=\\\"evenodd\\\" fill-opacity=\\\"1\\\" stroke=\\\"#000000\\\" stroke-opacity=\\\"1\\\" stroke-width=\\\"3.2\\\"\\/>\\n<circle clip-path=\\\"url(#clip7402)\\\" cx=\\\"2913.02\\\" cy=\\\"424.935\\\" r=\\\"14\\\" fill=\\\"#009af9\\\" fill-rule=\\\"evenodd\\\" fill-opacity=\\\"1\\\" stroke=\\\"#000000\\\" stroke-opacity=\\\"1\\\" stroke-width=\\\"3.2\\\"\\/>\\n<circle clip-path=\\\"url(#clip7402)\\\" cx=\\\"3214.07\\\" cy=\\\"797.712\\\" r=\\\"14\\\" fill=\\\"#009af9\\\" fill-rule=\\\"evenodd\\\" fill-opacity=\\\"1\\\" stroke=\\\"#000000\\\" stroke-opacity=\\\"1\\\" stroke-width=\\\"3.2\\\"\\/>\\n<path clip-path=\\\"url(#clip7402)\\\" d=\\\"\\nM165.898 1075.33 L182.917 1070.18 L199.937 1063.88 L216.956 1056.25 L233.976 1047.11 L250.995 1036.29 L268.014 1023.61 L285.034 1008.92 L302.053 992.1 L319.072 973.042 \\n  L336.092 951.687 L353.111 928.022 L370.131 902.084 L387.15 873.971 L404.169 843.841 L421.189 811.921 L438.208 778.503 L455.228 743.948 L472.247 708.685 L489.266 673.225 \\n  L506.286 643.093 L523.305 650.312 L540.324 656.428 L557.344 660.653 L574.363 662.907 L591.383 663.207 L608.402 661.666 L625.421 658.49 L642.441 653.981 L659.46 648.53 \\n  L676.48 642.612 L693.499 636.772 L710.518 631.609 L727.538 627.757 L744.557 625.865 L761.577 626.572 L778.596 630.488 L795.615 638.231 L812.635 664.965 L829.654 716.593 \\n  L846.673 771.388 L863.693 828.263 L880.712 886.188 L897.732 944.098 L914.751 1000.91 L931.77 1055.55 L948.79 1106.97 L965.809 1154.21 L982.829 1196.36 L999.848 1232.66 \\n  L1016.87 1262.48 L1033.89 1285.32 L1050.91 1300.88 L1067.93 1309.03 L1084.94 1309.83 L1101.96 1303.76 L1118.98 1315.84 L1136 1330.87 L1153.02 1338.53 L1170.04 1338.56 \\n  L1187.06 1330.9 L1204.08 1315.69 L1221.1 1293.22 L1238.12 1263.98 L1255.14 1228.58 L1272.16 1187.76 L1289.18 1142.4 L1306.2 1093.43 L1323.22 1041.84 L1340.24 988.683 \\n  L1357.26 934.999 L1374.27 881.822 L1391.29 830.177 L1408.31 783.488 L1425.33 771.133 L1442.35 763.039 L1459.37 757.45 L1476.39 753.875 L1493.41 751.818 L1510.43 750.787 \\n  L1527.45 750.315 L1544.47 749.977 L1561.49 749.408 L1578.51 748.317 L1595.53 746.497 L1612.55 743.832 L1629.57 740.291 L1646.58 735.933 L1663.6 730.896 L1680.62 725.392 \\n  L1697.64 719.741 L1714.66 726.347 L1731.68 755.616 L1748.7 784.288 L1765.72 811.411 L1782.74 836.243 L1799.76 858.11 L1816.78 876.41 L1833.8 890.622 L1850.82 900.319 \\n  L1867.84 905.174 L1884.86 904.972 L1901.88 899.609 L1918.89 889.101 L1935.91 873.583 L1952.93 853.306 L1969.95 828.636 L1986.97 800.055 L2003.99 768.315 L2021.01 756.526 \\n  L2038.03 754.197 L2055.05 748.894 L2072.07 740.324 L2089.09 728.355 L2106.11 712.974 L2123.13 694.29 L2140.15 672.53 L2157.17 648.038 L2174.19 621.266 L2191.2 592.759 \\n  L2208.22 563.142 L2225.24 533.1 L2242.26 503.356 L2259.28 474.646 L2276.3 447.704 L2293.32 423.249 L2310.34 403.253 L2327.36 418 L2344.38 438.318 L2361.4 460.982 \\n  L2378.42 485.175 L2395.44 510.067 L2412.46 534.824 L2429.48 558.625 L2446.5 580.691 L2463.52 600.303 L2480.53 616.829 L2497.55 629.74 L2514.57 638.626 L2531.59 643.211 \\n  L2548.61 643.357 L2565.63 639.071 L2582.65 630.51 L2599.67 618.016 L2616.69 611.913 L2633.71 627.387 L2650.73 639.325 L2667.75 647.125 L2684.77 650.555 L2701.79 649.535 \\n  L2718.81 644.129 L2735.83 634.543 L2752.84 621.12 L2769.86 604.324 L2786.88 584.731 L2803.9 563.008 L2820.92 539.897 L2837.94 516.187 L2854.96 492.695 L2871.98 470.239 \\n  L2889 449.627 L2906.02 431.747 L2923.04 438.147 L2940.06 462.763 L2957.08 490.289 L2974.1 519.98 L2991.12 551.107 L3008.14 582.921 L3025.15 614.671 L3042.17 645.623 \\n  L3059.19 675.084 L3076.21 702.419 L3093.23 727.069 L3110.25 748.565 L3127.27 766.537 L3144.29 780.722 L3161.31 790.969 L3178.33 797.235 L3195.35 799.598 L3212.37 798.864 \\n  L3229.39 833.529 L3246.41 871.635 L3263.43 907.748 L3280.45 941.466 L3297.47 972.493 L3314.48 1000.62 L3331.5 1025.71 L3348.52 1047.71 L3365.54 1066.65 L3382.56 1082.61 \\n  L3399.58 1095.73 L3416.6 1106.2 L3433.62 1114.24 L3450.64 1120.1 L3467.66 1124.04 L3484.68 1126.35 L3501.7 1127.28 L3518.72 1127.11 L3535.74 1126.06 L3552.76 1124.36 \\n  L3552.76 506.62 L3535.74 515.906 L3518.72 526.353 L3501.7 538.01 L3484.68 550.905 L3467.66 565.037 L3450.64 580.371 L3433.62 596.831 L3416.6 614.299 L3399.58 632.607 \\n  L3382.56 651.537 L3365.54 670.822 L3348.52 690.146 L3331.5 709.151 L3314.48 727.44 L3297.47 744.59 L3280.45 760.159 L3263.43 773.702 L3246.41 784.778 L3229.39 792.95 \\n  L3212.37 792.865 L3195.35 752.769 L3178.33 711.493 L3161.31 670.309 L3144.29 629.885 L3127.27 590.889 L3110.25 553.98 L3093.23 519.795 L3076.21 488.928 L3059.19 461.914 \\n  L3042.17 439.207 L3025.15 421.169 L3008.14 408.052 L2991.12 399.993 L2974.1 396.999 L2957.08 398.947 L2940.06 405.58 L2923.04 416.445 L2906.02 416.346 L2889 399.133 \\n  L2871.98 386.074 L2854.96 377.588 L2837.94 373.835 L2820.92 374.83 L2803.9 380.447 L2786.88 390.426 L2769.86 404.378 L2752.84 421.801 L2735.83 442.089 L2718.81 464.554 \\n  L2701.79 488.445 L2684.77 512.971 L2667.75 537.327 L2650.73 560.71 L2633.71 582.342 L2616.69 601.262 L2599.67 592.203 L2582.65 570.396 L2565.63 546.422 L2548.61 521.07 \\n  L2531.59 495.131 L2514.57 469.411 L2497.55 444.711 L2480.53 421.805 L2463.52 401.415 L2446.5 384.19 L2429.48 370.688 L2412.46 361.355 L2395.44 356.514 L2378.42 356.358 \\n  L2361.4 360.939 L2344.38 370.168 L2327.36 383.795 L2310.34 398.982 L2293.32 386.746 L2276.3 377.363 L2259.28 372.603 L2242.26 372.8 L2225.24 378.131 L2208.22 388.629 \\n  L2191.2 404.189 L2174.19 424.568 L2157.17 449.397 L2140.15 478.191 L2123.13 510.365 L2106.11 545.245 L2089.09 582.093 L2072.07 620.124 L2055.05 658.523 L2038.03 696.465 \\n  L2021.01 733.082 L2003.99 755.492 L1986.97 752.882 L1969.95 748.169 L1952.93 742.028 L1935.91 734.979 L1918.89 727.523 L1901.88 720.134 L1884.86 713.244 L1867.84 707.222 \\n  L1850.82 702.366 L1833.8 698.894 L1816.78 696.935 L1799.76 696.531 L1782.74 697.638 L1765.72 700.133 L1748.7 703.821 L1731.68 708.442 L1714.66 713.525 L1697.64 696.297 \\n  L1680.62 667.661 L1663.6 640.526 L1646.58 615.733 L1629.57 594.029 L1612.55 576.102 L1595.53 562.572 L1578.51 553.978 L1561.49 550.766 L1544.47 553.278 L1527.45 561.745 \\n  L1510.43 576.274 L1493.41 596.849 L1476.39 623.32 L1459.37 655.407 L1442.35 692.698 L1425.33 734.631 L1408.31 779.217 L1391.29 795.972 L1374.27 813.672 L1357.26 834.955 \\n  L1340.24 859.866 L1323.22 888.287 L1306.2 919.956 L1289.18 954.463 L1272.16 991.265 L1255.14 1029.69 L1238.12 1068.95 L1221.1 1108.19 L1204.08 1146.47 L1187.06 1182.82 \\n  L1170.04 1216.28 L1153.02 1245.89 L1136 1270.75 L1118.98 1290.03 L1101.96 1293.11 L1084.94 1264.79 L1067.93 1230.42 L1050.91 1191.09 L1033.89 1147.74 L1016.87 1101.39 \\n  L999.848 1053.09 L982.829 1003.91 L965.809 954.889 L948.79 907.028 L931.77 861.244 L914.751 818.349 L897.732 779.031 L880.712 743.836 L863.693 713.157 L846.673 687.223 \\n  L829.654 666.098 L812.635 649.564 L795.615 616.53 L778.596 573.305 L761.577 535.229 L744.557 502.883 L727.538 476.642 L710.518 456.74 L693.499 443.27 L676.48 436.196 \\n  L659.46 435.36 L642.441 440.491 L625.421 451.216 L608.402 467.081 L591.383 487.559 L574.363 512.07 L557.344 539.993 L540.324 570.686 L523.305 603.483 L506.286 637.094 \\n  L489.266 632.646 L472.247 621.827 L455.228 609.902 L438.208 597.196 L421.189 584.018 L404.169 570.665 L387.15 557.414 L370.131 544.518 L353.111 532.191 L336.092 520.612 \\n  L319.072 509.917 L302.053 500.2 L285.034 491.516 L268.014 483.881 L250.995 477.279 L233.976 471.666 L216.956 466.976 L199.937 463.129 L182.917 460.032 L165.898 457.589 \\n   Z\\n  \\\" fill=\\\"#e26f46\\\" fill-rule=\\\"evenodd\\\" fill-opacity=\\\"0.5\\\"\\/>\\n<polyline clip-path=\\\"url(#clip7402)\\\" style=\\\"stroke:#e26f46; stroke-width:4; stroke-opacity:1; fill:none\\\" points=\\\"\\n  165.898,766.459 182.917,765.107 199.937,763.505 216.956,761.613 233.976,759.388 250.995,756.782 268.014,753.744 285.034,750.219 302.053,746.15 319.072,741.479 \\n  336.092,736.15 353.111,730.107 370.131,723.301 387.15,715.693 404.169,707.253 421.189,697.969 438.208,687.849 455.228,676.925 472.247,665.256 489.266,652.936 \\n  506.286,640.094 523.305,626.897 540.324,613.557 557.344,600.323 574.363,587.488 591.383,575.383 608.402,564.374 625.421,554.853 642.441,547.236 659.46,541.945 \\n  676.48,539.404 693.499,540.021 710.518,544.174 727.538,552.2 744.557,564.374 761.577,580.9 778.596,601.896 795.615,627.38 812.635,657.264 829.654,691.346 \\n  846.673,729.306 863.693,770.71 880.712,815.012 897.732,861.565 914.751,909.63 931.77,958.397 948.79,1007 965.809,1054.55 982.829,1100.13 999.848,1142.88 \\n  1016.87,1181.93 1033.89,1216.53 1050.91,1245.99 1067.93,1269.73 1084.94,1287.31 1101.96,1298.43 1118.98,1302.93 1136,1300.81 1153.02,1292.21 1170.04,1277.42 \\n  1187.06,1256.86 1204.08,1231.08 1221.1,1200.71 1238.12,1166.47 1255.14,1129.13 1272.16,1089.51 1289.18,1048.43 1306.2,1006.69 1323.22,965.064 1340.24,924.274 \\n  1357.26,884.977 1374.27,847.747 1391.29,813.074 1408.31,781.352 1425.33,752.882 1442.35,727.868 1459.37,706.429 1476.39,688.598 1493.41,674.333 1510.43,663.531 \\n  1527.45,656.03 1544.47,651.627 1561.49,650.087 1578.51,651.147 1595.53,654.535 1612.55,659.967 1629.57,667.16 1646.58,675.833 1663.6,685.711 1680.62,696.527 \\n  1697.64,708.019 1714.66,719.936 1731.68,732.029 1748.7,744.055 1765.72,755.772 1782.74,766.94 1799.76,777.32 1816.78,786.672 1833.8,794.758 1850.82,801.342 \\n  1867.84,806.198 1884.86,809.108 1901.88,809.872 1918.89,808.312 1935.91,804.281 1952.93,797.667 1969.95,788.402 1986.97,776.469 2003.99,761.903 2021.01,744.804 \\n  2038.03,725.331 2055.05,703.709 2072.07,680.224 2089.09,655.224 2106.11,629.11 2123.13,602.327 2140.15,575.361 2157.17,548.718 2174.19,522.917 2191.2,498.474 \\n  2208.22,475.886 2225.24,455.616 2242.26,438.078 2259.28,423.625 2276.3,412.533 2293.32,404.998 2310.34,401.118 2327.36,400.898 2344.38,404.243 2361.4,410.96 \\n  2378.42,420.766 2395.44,433.291 2412.46,448.089 2429.48,464.657 2446.5,482.441 2463.52,500.859 2480.53,519.317 2497.55,537.225 2514.57,554.019 2531.59,569.171 \\n  2548.61,582.213 2565.63,592.746 2582.65,600.453 2599.67,605.109 2616.69,606.588 2633.71,604.865 2650.73,600.018 2667.75,592.226 2684.77,581.763 2701.79,568.99 \\n  2718.81,554.341 2735.83,538.316 2752.84,521.46 2769.86,504.351 2786.88,487.578 2803.9,471.728 2820.92,457.364 2837.94,445.011 2854.96,435.141 2871.98,428.157 \\n  2889,424.38 2906.02,424.047 2923.04,427.296 2940.06,434.171 2957.08,444.618 2974.1,458.489 2991.12,475.55 3008.14,495.487 3025.15,517.92 3042.17,542.415 \\n  3059.19,568.499 3076.21,595.674 3093.23,623.432 3110.25,651.272 3127.27,678.713 3144.29,705.304 3161.31,730.639 3178.33,754.364 3195.35,776.183 3212.37,795.865 \\n  3229.39,813.24 3246.41,828.207 3263.43,840.725 3280.45,850.813 3297.47,858.541 3314.48,864.028 3331.5,867.429 3348.52,868.929 3365.54,868.737 3382.56,867.074 \\n  3399.58,864.169 3416.6,860.249 3433.62,855.534 3450.64,850.234 3467.66,844.54 3484.68,838.627 3501.7,832.647 3518.72,826.729 3535.74,820.982 3552.76,815.49 \\n  \\n  \\\"\\/>\\n<path clip-path=\\\"url(#clip7400)\\\" d=\\\"\\nM2699.54 384.204 L3444.76 384.204 L3444.76 202.764 L2699.54 202.764  Z\\n  \\\" fill=\\\"#ffffff\\\" fill-rule=\\\"evenodd\\\" fill-opacity=\\\"1\\\"\\/>\\n<polyline clip-path=\\\"url(#clip7400)\\\" style=\\\"stroke:#000000; stroke-width:4; stroke-opacity:1; fill:none\\\" points=\\\"\\n  2699.54,384.204 3444.76,384.204 3444.76,202.764 2699.54,202.764 2699.54,384.204 \\n  \\\"\\/>\\n<circle clip-path=\\\"url(#clip7400)\\\" cx=\\\"2861.54\\\" cy=\\\"263.244\\\" r=\\\"21\\\" fill=\\\"#009af9\\\" fill-rule=\\\"evenodd\\\" fill-opacity=\\\"1\\\" stroke=\\\"#000000\\\" stroke-opacity=\\\"1\\\" stroke-width=\\\"3.2\\\"\\/>\\n<g clip-path=\\\"url(#clip7400)\\\">\\n<text style=\\\"fill:#000000; fill-opacity:1; font-family:Arial,Helvetica Neue,Helvetica,sans-serif; font-size:48px; text-anchor:start;\\\" transform=\\\"rotate(0, 2987.54, 280.744)\\\" x=\\\"2987.54\\\" y=\\\"280.744\\\">data<\\/text>\\n<\\/g>\\n<polyline clip-path=\\\"url(#clip7400)\\\" style=\\\"stroke:#e26f46; stroke-width:4; stroke-opacity:1; fill:none\\\" points=\\\"\\n  2735.54,323.724 2951.54,323.724 \\n  \\\"\\/>\\n<g clip-path=\\\"url(#clip7400)\\\">\\n<text style=\\\"fill:#000000; fill-opacity:1; font-family:Arial,Helvetica Neue,Helvetica,sans-serif; font-size:48px; text-anchor:start;\\\" transform=\\\"rotate(0, 2987.54, 341.224)\\\" x=\\\"2987.54\\\" y=\\\"341.224\\\">Gaussian process<\\/text>\\n<\\/g>\\n<\\/svg>\\n\"},\"nodeType\":\"DOM\",\"type\":\"node\",\"instanceArgs\":{\"namespace\":\"html\",\"tag\":\"div\"},\"children\":[]}]}}}},\"children\":[{\"props\":{},\"nodeType\":\"ObservableNode\",\"type\":\"node\",\"instanceArgs\":{\"id\":\"ob_10\",\"name\":\"obs-node\"},\"children\":[]}]}]},\n",
       "            window,\n",
       "        );\n",
       "    } else {\n",
       "        document\n",
       "            .querySelector('[data-webio-mountpoint=\"3213065159442414490\"]')\n",
       "            .innerHTML = (\n",
       "                '<div style=\"padding: 1em; background-color: #f8d6da; border: 1px solid #f5c6cb\">' +\n",
       "                '<p><strong>WebIO not detected.</strong></p>' +\n",
       "                '<p>Please read ' +\n",
       "                '<a href=\"https://juliagizmos.github.io/WebIO.jl/latest/troubleshooting/not-detected/\" target=\"_blank\">the troubleshooting guide</a> ' +\n",
       "                'for more information on how to resolve this issue.</p>' +\n",
       "                '<p><a href=\"https://juliagizmos.github.io/WebIO.jl/latest/troubleshooting/not-detected/\" target=\"_blank\">https://juliagizmos.github.io/WebIO.jl/latest/troubleshooting/not-detected/</a></p>' +\n",
       "                '</div>'\n",
       "            );\n",
       "    }\n",
       "    </script>\n",
       "</div>\n"
      ],
      "text/plain": [
       "Node{WebIO.DOM}(WebIO.DOM(:html, :div), Any[Node{WebIO.DOM}(WebIO.DOM(:html, :div), Any[Scope(Node{WebIO.DOM}(WebIO.DOM(:html, :div), Any[Node{WebIO.DOM}(WebIO.DOM(:html, :div), Any[Node{WebIO.DOM}(WebIO.DOM(:html, :label), Any[\"s\"], Dict{Symbol,Any}(:className => \"interact \",:style => Dict{Any,Any}(:padding => \"5px 10px 0px 10px\")))], Dict{Symbol,Any}(:className => \"interact-flex-row-left\")), Node{WebIO.DOM}(WebIO.DOM(:html, :div), Any[Node{WebIO.DOM}(WebIO.DOM(:html, :input), Any[], Dict{Symbol,Any}(:max => 50,:min => 1,:attributes => Dict{Any,Any}(:type => \"range\",Symbol(\"data-bind\") => \"numericValue: index, valueUpdate: 'input', event: {change: function (){this.changes(this.changes()+1)}}\",\"orient\" => \"horizontal\"),:step => 1,:className => \"slider slider is-fullwidth\",:style => Dict{Any,Any}()))], Dict{Symbol,Any}(:className => \"interact-flex-row-center\")), Node{WebIO.DOM}(WebIO.DOM(:html, :div), Any[Node{WebIO.DOM}(WebIO.DOM(:html, :p), Any[], Dict{Symbol,Any}(:attributes => Dict(\"data-bind\" => \"text: formatted_val\")))], Dict{Symbol,Any}(:className => \"interact-flex-row-right\"))], Dict{Symbol,Any}(:className => \"interact-flex-row interact-widget\")), Dict{String,Tuple{Observables.AbstractObservable,Union{Nothing, Bool}}}(\"changes\" => (Observable{Int64} with 1 listeners. Value:\n",
       "0, nothing),\"index\" => (Observable{Any} with 2 listeners. Value:\n",
       "25, nothing)), Set(String[]), nothing, Asset[Asset(\"js\", \"knockout\", \"/home/juliohm/.julia/packages/Knockout/IP1uR/src/../assets/knockout.js\"), Asset(\"js\", \"knockout_punches\", \"/home/juliohm/.julia/packages/Knockout/IP1uR/src/../assets/knockout_punches.js\"), Asset(\"js\", nothing, \"/home/juliohm/.julia/packages/InteractBase/9mFwe/src/../assets/all.js\"), Asset(\"css\", nothing, \"/home/juliohm/.julia/packages/InteractBase/9mFwe/src/../assets/style.css\"), Asset(\"css\", nothing, \"/home/juliohm/.julia/packages/Interact/SbgIk/src/../assets/bulma_confined.min.css\")], Dict{Any,Any}(\"changes\" => Any[WebIO.JSString(\"(function (val){return (val!=this.model[\\\"changes\\\"]()) ? (this.valueFromJulia[\\\"changes\\\"]=true, this.model[\\\"changes\\\"](val)) : undefined})\")],\"index\" => Any[WebIO.JSString(\"(function (val){return (val!=this.model[\\\"index\\\"]()) ? (this.valueFromJulia[\\\"index\\\"]=true, this.model[\\\"index\\\"](val)) : undefined})\")]), WebIO.ConnectionPool(Channel{Any}(sz_max:32,sz_curr:0), Set(AbstractConnection[]), Base.GenericCondition{Base.AlwaysLockedST}(Base.InvasiveLinkedList{Task}(Task (runnable) @0x00007f51906fc280, Task (runnable) @0x00007f51906fc280), Base.AlwaysLockedST(1))), WebIO.JSString[WebIO.JSString(\"function () {\\n    var handler = (function (ko, koPunches) {\\n    ko.punches.enableAll();\\n    ko.bindingHandlers.numericValue = {\\n        init: function(element, valueAccessor, allBindings, data, context) {\\n            var stringified = ko.observable(ko.unwrap(valueAccessor()));\\n            stringified.subscribe(function(value) {\\n                var val = parseFloat(value);\\n                if (!isNaN(val)) {\\n                    valueAccessor()(val);\\n                }\\n            });\\n            valueAccessor().subscribe(function(value) {\\n                var str = JSON.stringify(value);\\n                if ((str == \\\"0\\\") && ([\\\"-0\\\", \\\"-0.\\\"].indexOf(stringified()) >= 0))\\n                     return;\\n                 if ([\\\"null\\\", \\\"\\\"].indexOf(str) >= 0)\\n                     return;\\n                stringified(str);\\n            });\\n            ko.applyBindingsToNode(\\n                element,\\n                {\\n                    value: stringified,\\n                    valueUpdate: allBindings.get('valueUpdate'),\\n                },\\n                context,\\n            );\\n        }\\n    };\\n    var json_data = {\\\"formatted_vals\\\":[\\\"0.0\\\",\\\"0.00204082\\\",\\\"0.00408163\\\",\\\"0.00612245\\\",\\\"0.00816327\\\",\\\"0.0102041\\\",\\\"0.0122449\\\",\\\"0.0142857\\\",\\\"0.0163265\\\",\\\"0.0183673\\\",\\\"0.0204082\\\",\\\"0.022449\\\",\\\"0.0244898\\\",\\\"0.0265306\\\",\\\"0.0285714\\\",\\\"0.0306122\\\",\\\"0.0326531\\\",\\\"0.0346939\\\",\\\"0.0367347\\\",\\\"0.0387755\\\",\\\"0.0408163\\\",\\\"0.0428571\\\",\\\"0.044898\\\",\\\"0.0469388\\\",\\\"0.0489796\\\",\\\"0.0510204\\\",\\\"0.0530612\\\",\\\"0.055102\\\",\\\"0.0571429\\\",\\\"0.0591837\\\",\\\"0.0612245\\\",\\\"0.0632653\\\",\\\"0.0653061\\\",\\\"0.0673469\\\",\\\"0.0693878\\\",\\\"0.0714286\\\",\\\"0.0734694\\\",\\\"0.0755102\\\",\\\"0.077551\\\",\\\"0.0795918\\\",\\\"0.0816327\\\",\\\"0.0836735\\\",\\\"0.0857143\\\",\\\"0.0877551\\\",\\\"0.0897959\\\",\\\"0.0918367\\\",\\\"0.0938776\\\",\\\"0.0959184\\\",\\\"0.0979592\\\",\\\"0.1\\\"],\\\"changes\\\":WebIO.getval({\\\"name\\\":\\\"changes\\\",\\\"scope\\\":\\\"11415657784382391852\\\",\\\"id\\\":\\\"ob_03\\\",\\\"type\\\":\\\"observable\\\"}),\\\"index\\\":WebIO.getval({\\\"name\\\":\\\"index\\\",\\\"scope\\\":\\\"11415657784382391852\\\",\\\"id\\\":\\\"ob_02\\\",\\\"type\\\":\\\"observable\\\"})};\\n    var self = this;\\n    function AppViewModel() {\\n        for (var key in json_data) {\\n            var el = json_data[key];\\n            this[key] = Array.isArray(el) ? ko.observableArray(el) : ko.observable(el);\\n        }\\n        \\n        [this[\\\"formatted_val\\\"]=ko.computed(    function(){\\n        return this.formatted_vals()[parseInt(this.index())-(1)];\\n    }\\n,this)]\\n        [this[\\\"changes\\\"].subscribe((function (val){!(this.valueFromJulia[\\\"changes\\\"]) ? (WebIO.setval({\\\"name\\\":\\\"changes\\\",\\\"scope\\\":\\\"11415657784382391852\\\",\\\"id\\\":\\\"ob_03\\\",\\\"type\\\":\\\"observable\\\"},val)) : undefined; return this.valueFromJulia[\\\"changes\\\"]=false}),self),this[\\\"index\\\"].subscribe((function (val){!(this.valueFromJulia[\\\"index\\\"]) ? (WebIO.setval({\\\"name\\\":\\\"index\\\",\\\"scope\\\":\\\"11415657784382391852\\\",\\\"id\\\":\\\"ob_02\\\",\\\"type\\\":\\\"observable\\\"},val)) : undefined; return this.valueFromJulia[\\\"index\\\"]=false}),self)]\\n        \\n    }\\n    self.model = new AppViewModel();\\n    self.valueFromJulia = {};\\n    for (var key in json_data) {\\n        self.valueFromJulia[key] = false;\\n    }\\n    ko.applyBindings(self.model, self.dom);\\n}\\n);\\n    (WebIO.importBlock({\\\"data\\\":[{\\\"name\\\":\\\"knockout\\\",\\\"type\\\":\\\"js\\\",\\\"url\\\":\\\"/assetserver/f848bd002af2052b634cac1eb2affe109cbba3ba-knockout.js\\\"},{\\\"name\\\":\\\"knockout_punches\\\",\\\"type\\\":\\\"js\\\",\\\"url\\\":\\\"/assetserver/31ecefdc4553d90f2aa48f9261b2f16dfc2d359b-knockout_punches.js\\\"}],\\\"type\\\":\\\"async_block\\\"})).then((imports) => handler.apply(this, imports));\\n}\\n\")])], Dict{Symbol,Any}(:className => \"field interact-widget\")), Node{WebIO.DOM}(WebIO.DOM(:html, :div), Any[Scope(Node{WebIO.DOM}(WebIO.DOM(:html, :div), Any[Node{WebIO.DOM}(WebIO.DOM(:html, :div), Any[Node{WebIO.DOM}(WebIO.DOM(:html, :label), Any[\"r\"], Dict{Symbol,Any}(:className => \"interact \",:style => Dict{Any,Any}(:padding => \"5px 10px 0px 10px\")))], Dict{Symbol,Any}(:className => \"interact-flex-row-left\")), Node{WebIO.DOM}(WebIO.DOM(:html, :div), Any[Node{WebIO.DOM}(WebIO.DOM(:html, :input), Any[], Dict{Symbol,Any}(:max => 50,:min => 1,:attributes => Dict{Any,Any}(:type => \"range\",Symbol(\"data-bind\") => \"numericValue: index, valueUpdate: 'input', event: {change: function (){this.changes(this.changes()+1)}}\",\"orient\" => \"horizontal\"),:step => 1,:className => \"slider slider is-fullwidth\",:style => Dict{Any,Any}()))], Dict{Symbol,Any}(:className => \"interact-flex-row-center\")), Node{WebIO.DOM}(WebIO.DOM(:html, :div), Any[Node{WebIO.DOM}(WebIO.DOM(:html, :p), Any[], Dict{Symbol,Any}(:attributes => Dict(\"data-bind\" => \"text: formatted_val\")))], Dict{Symbol,Any}(:className => \"interact-flex-row-right\"))], Dict{Symbol,Any}(:className => \"interact-flex-row interact-widget\")), Dict{String,Tuple{Observables.AbstractObservable,Union{Nothing, Bool}}}(\"changes\" => (Observable{Int64} with 1 listeners. Value:\n",
       "0, nothing),\"index\" => (Observable{Any} with 2 listeners. Value:\n",
       "25, nothing)), Set(String[]), nothing, Asset[Asset(\"js\", \"knockout\", \"/home/juliohm/.julia/packages/Knockout/IP1uR/src/../assets/knockout.js\"), Asset(\"js\", \"knockout_punches\", \"/home/juliohm/.julia/packages/Knockout/IP1uR/src/../assets/knockout_punches.js\"), Asset(\"js\", nothing, \"/home/juliohm/.julia/packages/InteractBase/9mFwe/src/../assets/all.js\"), Asset(\"css\", nothing, \"/home/juliohm/.julia/packages/InteractBase/9mFwe/src/../assets/style.css\"), Asset(\"css\", nothing, \"/home/juliohm/.julia/packages/Interact/SbgIk/src/../assets/bulma_confined.min.css\")], Dict{Any,Any}(\"changes\" => Any[WebIO.JSString(\"(function (val){return (val!=this.model[\\\"changes\\\"]()) ? (this.valueFromJulia[\\\"changes\\\"]=true, this.model[\\\"changes\\\"](val)) : undefined})\")],\"index\" => Any[WebIO.JSString(\"(function (val){return (val!=this.model[\\\"index\\\"]()) ? (this.valueFromJulia[\\\"index\\\"]=true, this.model[\\\"index\\\"](val)) : undefined})\")]), WebIO.ConnectionPool(Channel{Any}(sz_max:32,sz_curr:0), Set(AbstractConnection[]), Base.GenericCondition{Base.AlwaysLockedST}(Base.InvasiveLinkedList{Task}(Task (runnable) @0x00007f515d9a9600, Task (runnable) @0x00007f515d9a9600), Base.AlwaysLockedST(1))), WebIO.JSString[WebIO.JSString(\"function () {\\n    var handler = (function (ko, koPunches) {\\n    ko.punches.enableAll();\\n    ko.bindingHandlers.numericValue = {\\n        init: function(element, valueAccessor, allBindings, data, context) {\\n            var stringified = ko.observable(ko.unwrap(valueAccessor()));\\n            stringified.subscribe(function(value) {\\n                var val = parseFloat(value);\\n                if (!isNaN(val)) {\\n                    valueAccessor()(val);\\n                }\\n            });\\n            valueAccessor().subscribe(function(value) {\\n                var str = JSON.stringify(value);\\n                if ((str == \\\"0\\\") && ([\\\"-0\\\", \\\"-0.\\\"].indexOf(stringified()) >= 0))\\n                     return;\\n                 if ([\\\"null\\\", \\\"\\\"].indexOf(str) >= 0)\\n                     return;\\n                stringified(str);\\n            });\\n            ko.applyBindingsToNode(\\n                element,\\n                {\\n                    value: stringified,\\n                    valueUpdate: allBindings.get('valueUpdate'),\\n                },\\n                context,\\n            );\\n        }\\n    };\\n    var json_data = {\\\"formatted_vals\\\":[\\\"0.1\\\",\\\"0.102041\\\",\\\"0.104082\\\",\\\"0.106122\\\",\\\"0.108163\\\",\\\"0.110204\\\",\\\"0.112245\\\",\\\"0.114286\\\",\\\"0.116327\\\",\\\"0.118367\\\",\\\"0.120408\\\",\\\"0.122449\\\",\\\"0.12449\\\",\\\"0.126531\\\",\\\"0.128571\\\",\\\"0.130612\\\",\\\"0.132653\\\",\\\"0.134694\\\",\\\"0.136735\\\",\\\"0.138776\\\",\\\"0.140816\\\",\\\"0.142857\\\",\\\"0.144898\\\",\\\"0.146939\\\",\\\"0.14898\\\",\\\"0.15102\\\",\\\"0.153061\\\",\\\"0.155102\\\",\\\"0.157143\\\",\\\"0.159184\\\",\\\"0.161224\\\",\\\"0.163265\\\",\\\"0.165306\\\",\\\"0.167347\\\",\\\"0.169388\\\",\\\"0.171429\\\",\\\"0.173469\\\",\\\"0.17551\\\",\\\"0.177551\\\",\\\"0.179592\\\",\\\"0.181633\\\",\\\"0.183673\\\",\\\"0.185714\\\",\\\"0.187755\\\",\\\"0.189796\\\",\\\"0.191837\\\",\\\"0.193878\\\",\\\"0.195918\\\",\\\"0.197959\\\",\\\"0.2\\\"],\\\"changes\\\":WebIO.getval({\\\"name\\\":\\\"changes\\\",\\\"scope\\\":\\\"8909251716311877959\\\",\\\"id\\\":\\\"ob_06\\\",\\\"type\\\":\\\"observable\\\"}),\\\"index\\\":WebIO.getval({\\\"name\\\":\\\"index\\\",\\\"scope\\\":\\\"8909251716311877959\\\",\\\"id\\\":\\\"ob_05\\\",\\\"type\\\":\\\"observable\\\"})};\\n    var self = this;\\n    function AppViewModel() {\\n        for (var key in json_data) {\\n            var el = json_data[key];\\n            this[key] = Array.isArray(el) ? ko.observableArray(el) : ko.observable(el);\\n        }\\n        \\n        [this[\\\"formatted_val\\\"]=ko.computed(    function(){\\n        return this.formatted_vals()[parseInt(this.index())-(1)];\\n    }\\n,this)]\\n        [this[\\\"changes\\\"].subscribe((function (val){!(this.valueFromJulia[\\\"changes\\\"]) ? (WebIO.setval({\\\"name\\\":\\\"changes\\\",\\\"scope\\\":\\\"8909251716311877959\\\",\\\"id\\\":\\\"ob_06\\\",\\\"type\\\":\\\"observable\\\"},val)) : undefined; return this.valueFromJulia[\\\"changes\\\"]=false}),self),this[\\\"index\\\"].subscribe((function (val){!(this.valueFromJulia[\\\"index\\\"]) ? (WebIO.setval({\\\"name\\\":\\\"index\\\",\\\"scope\\\":\\\"8909251716311877959\\\",\\\"id\\\":\\\"ob_05\\\",\\\"type\\\":\\\"observable\\\"},val)) : undefined; return this.valueFromJulia[\\\"index\\\"]=false}),self)]\\n        \\n    }\\n    self.model = new AppViewModel();\\n    self.valueFromJulia = {};\\n    for (var key in json_data) {\\n        self.valueFromJulia[key] = false;\\n    }\\n    ko.applyBindings(self.model, self.dom);\\n}\\n);\\n    (WebIO.importBlock({\\\"data\\\":[{\\\"name\\\":\\\"knockout\\\",\\\"type\\\":\\\"js\\\",\\\"url\\\":\\\"/assetserver/f848bd002af2052b634cac1eb2affe109cbba3ba-knockout.js\\\"},{\\\"name\\\":\\\"knockout_punches\\\",\\\"type\\\":\\\"js\\\",\\\"url\\\":\\\"/assetserver/31ecefdc4553d90f2aa48f9261b2f16dfc2d359b-knockout_punches.js\\\"}],\\\"type\\\":\\\"async_block\\\"})).then((imports) => handler.apply(this, imports));\\n}\\n\")])], Dict{Symbol,Any}(:className => \"field interact-widget\")), Observable{Any} with 0 listeners. Value:\n",
       "Node{WebIO.DOM}(WebIO.DOM(:html, :div), Any[Plot{Plots.GRBackend() n=2}], Dict{Symbol,Any}(:className => \"interact-flex-row interact-widget\"))], Dict{Symbol,Any}())"
      ]
     },
     "execution_count": 4,
     "metadata": {
      "application/vnd.webio.node+json": {
       "kernelId": "fae46fb0-2edb-49c4-949e-fc793b3b9a1a"
      }
     },
     "output_type": "execute_result"
    }
   ],
   "source": [
    "using GeoStats\n",
    "using Interact\n",
    "\n",
    "# discretize the line segment for plotting\n",
    "n  = 200\n",
    "xs = range(0., stop=1, length=n)\n",
    "\n",
    "@manipulate for s=range(.0, stop=.1, length=50),\n",
    "                r=range(.1, stop=.2, length=50)\n",
    "    # some given mean\n",
    "    process_mean = .5\n",
    "    \n",
    "    # spatial structure\n",
    "    γ = GaussianVariogram(sill=s, range=r)\n",
    "    \n",
    "    # create Gaussian process\n",
    "    sk = SimpleKriging(x', z, γ, process_mean)\n",
    "    \n",
    "    # estimate mean and variance\n",
    "    μ = zeros(n)\n",
    "    σ² = zeros(n)\n",
    "    for (i,loc) in enumerate(xs)\n",
    "        μ[i], σ²[i] = predict(sk, [loc])\n",
    "    end\n",
    "    \n",
    "    σ = sqrt.(σ²)\n",
    "    \n",
    "    scatter(x, z, label=\"data\")\n",
    "    plot!(xs, μ, ribbon=σ, fillalpha=.5, label=\"Gaussian process\")\n",
    "end"
   ]
  },
  {
   "cell_type": "markdown",
   "metadata": {},
   "source": [
    "## Ordinary Kriging\n",
    "\n",
    "An immediate generalization of Simple Kriging is Ordinary Kriging. In this case, we still have the assumption that the mean of the field is constant, but this time we treat it as an unknown. Below is the estimation with Ordinary Kriging where we only need to specify the covariance-type function:"
   ]
  },
  {
   "cell_type": "code",
   "execution_count": 5,
   "metadata": {},
   "outputs": [
    {
     "data": {
      "application/vnd.webio.node+json": {
       "children": [
        {
         "children": [
          {
           "children": [
            {
             "children": [
              {
               "children": [
                {
                 "children": [
                  "s"
                 ],
                 "instanceArgs": {
                  "namespace": "html",
                  "tag": "label"
                 },
                 "nodeType": "DOM",
                 "props": {
                  "className": "interact ",
                  "style": {
                   "padding": "5px 10px 0px 10px"
                  }
                 },
                 "type": "node"
                }
               ],
               "instanceArgs": {
                "namespace": "html",
                "tag": "div"
               },
               "nodeType": "DOM",
               "props": {
                "className": "interact-flex-row-left"
               },
               "type": "node"
              },
              {
               "children": [
                {
                 "children": [],
                 "instanceArgs": {
                  "namespace": "html",
                  "tag": "input"
                 },
                 "nodeType": "DOM",
                 "props": {
                  "attributes": {
                   "data-bind": "numericValue: index, valueUpdate: 'input', event: {change: function (){this.changes(this.changes()+1)}}",
                   "orient": "horizontal",
                   "type": "range"
                  },
                  "className": "slider slider is-fullwidth",
                  "max": 50,
                  "min": 1,
                  "step": 1,
                  "style": {}
                 },
                 "type": "node"
                }
               ],
               "instanceArgs": {
                "namespace": "html",
                "tag": "div"
               },
               "nodeType": "DOM",
               "props": {
                "className": "interact-flex-row-center"
               },
               "type": "node"
              },
              {
               "children": [
                {
                 "children": [],
                 "instanceArgs": {
                  "namespace": "html",
                  "tag": "p"
                 },
                 "nodeType": "DOM",
                 "props": {
                  "attributes": {
                   "data-bind": "text: formatted_val"
                  }
                 },
                 "type": "node"
                }
               ],
               "instanceArgs": {
                "namespace": "html",
                "tag": "div"
               },
               "nodeType": "DOM",
               "props": {
                "className": "interact-flex-row-right"
               },
               "type": "node"
              }
             ],
             "instanceArgs": {
              "namespace": "html",
              "tag": "div"
             },
             "nodeType": "DOM",
             "props": {
              "className": "interact-flex-row interact-widget"
             },
             "type": "node"
            }
           ],
           "instanceArgs": {
            "handlers": {
             "changes": [
              "(function (val){return (val!=this.model[\"changes\"]()) ? (this.valueFromJulia[\"changes\"]=true, this.model[\"changes\"](val)) : undefined})"
             ],
             "index": [
              "(function (val){return (val!=this.model[\"index\"]()) ? (this.valueFromJulia[\"index\"]=true, this.model[\"index\"](val)) : undefined})"
             ]
            },
            "id": "1493092013962898336",
            "imports": {
             "data": [
              {
               "name": "knockout",
               "type": "js",
               "url": "/assetserver/f848bd002af2052b634cac1eb2affe109cbba3ba-knockout.js"
              },
              {
               "name": "knockout_punches",
               "type": "js",
               "url": "/assetserver/31ecefdc4553d90f2aa48f9261b2f16dfc2d359b-knockout_punches.js"
              },
              {
               "name": null,
               "type": "js",
               "url": "/assetserver/f2c8ad3910f87ab7e0acf2b3cfd5913e15d66f87-all.js"
              },
              {
               "name": null,
               "type": "css",
               "url": "/assetserver/dae29c5c6cb77b6ac0bed0cefad4137f69351557-style.css"
              },
              {
               "name": null,
               "type": "css",
               "url": "/assetserver/5f021a427ae3fef2ec76433c67544a048a5b7e8c-bulma_confined.min.css"
              }
             ],
             "type": "async_block"
            },
            "mount_callbacks": [
             "function () {\n    var handler = (function (ko, koPunches) {\n    ko.punches.enableAll();\n    ko.bindingHandlers.numericValue = {\n        init: function(element, valueAccessor, allBindings, data, context) {\n            var stringified = ko.observable(ko.unwrap(valueAccessor()));\n            stringified.subscribe(function(value) {\n                var val = parseFloat(value);\n                if (!isNaN(val)) {\n                    valueAccessor()(val);\n                }\n            });\n            valueAccessor().subscribe(function(value) {\n                var str = JSON.stringify(value);\n                if ((str == \"0\") && ([\"-0\", \"-0.\"].indexOf(stringified()) >= 0))\n                     return;\n                 if ([\"null\", \"\"].indexOf(str) >= 0)\n                     return;\n                stringified(str);\n            });\n            ko.applyBindingsToNode(\n                element,\n                {\n                    value: stringified,\n                    valueUpdate: allBindings.get('valueUpdate'),\n                },\n                context,\n            );\n        }\n    };\n    var json_data = {\"formatted_vals\":[\"0.0\",\"0.00204082\",\"0.00408163\",\"0.00612245\",\"0.00816327\",\"0.0102041\",\"0.0122449\",\"0.0142857\",\"0.0163265\",\"0.0183673\",\"0.0204082\",\"0.022449\",\"0.0244898\",\"0.0265306\",\"0.0285714\",\"0.0306122\",\"0.0326531\",\"0.0346939\",\"0.0367347\",\"0.0387755\",\"0.0408163\",\"0.0428571\",\"0.044898\",\"0.0469388\",\"0.0489796\",\"0.0510204\",\"0.0530612\",\"0.055102\",\"0.0571429\",\"0.0591837\",\"0.0612245\",\"0.0632653\",\"0.0653061\",\"0.0673469\",\"0.0693878\",\"0.0714286\",\"0.0734694\",\"0.0755102\",\"0.077551\",\"0.0795918\",\"0.0816327\",\"0.0836735\",\"0.0857143\",\"0.0877551\",\"0.0897959\",\"0.0918367\",\"0.0938776\",\"0.0959184\",\"0.0979592\",\"0.1\"],\"changes\":WebIO.getval({\"name\":\"changes\",\"scope\":\"1493092013962898336\",\"id\":\"ob_15\",\"type\":\"observable\"}),\"index\":WebIO.getval({\"name\":\"index\",\"scope\":\"1493092013962898336\",\"id\":\"ob_14\",\"type\":\"observable\"})};\n    var self = this;\n    function AppViewModel() {\n        for (var key in json_data) {\n            var el = json_data[key];\n            this[key] = Array.isArray(el) ? ko.observableArray(el) : ko.observable(el);\n        }\n        \n        [this[\"formatted_val\"]=ko.computed(    function(){\n        return this.formatted_vals()[parseInt(this.index())-(1)];\n    }\n,this)]\n        [this[\"changes\"].subscribe((function (val){!(this.valueFromJulia[\"changes\"]) ? (WebIO.setval({\"name\":\"changes\",\"scope\":\"1493092013962898336\",\"id\":\"ob_15\",\"type\":\"observable\"},val)) : undefined; return this.valueFromJulia[\"changes\"]=false}),self),this[\"index\"].subscribe((function (val){!(this.valueFromJulia[\"index\"]) ? (WebIO.setval({\"name\":\"index\",\"scope\":\"1493092013962898336\",\"id\":\"ob_14\",\"type\":\"observable\"},val)) : undefined; return this.valueFromJulia[\"index\"]=false}),self)]\n        \n    }\n    self.model = new AppViewModel();\n    self.valueFromJulia = {};\n    for (var key in json_data) {\n        self.valueFromJulia[key] = false;\n    }\n    ko.applyBindings(self.model, self.dom);\n}\n);\n    (WebIO.importBlock({\"data\":[{\"name\":\"knockout\",\"type\":\"js\",\"url\":\"/assetserver/f848bd002af2052b634cac1eb2affe109cbba3ba-knockout.js\"},{\"name\":\"knockout_punches\",\"type\":\"js\",\"url\":\"/assetserver/31ecefdc4553d90f2aa48f9261b2f16dfc2d359b-knockout_punches.js\"}],\"type\":\"async_block\"})).then((imports) => handler.apply(this, imports));\n}\n"
            ],
            "observables": {
             "changes": {
              "id": "ob_15",
              "sync": false,
              "value": 0
             },
             "index": {
              "id": "ob_14",
              "sync": true,
              "value": 25
             }
            },
            "systemjs_options": null
           },
           "nodeType": "Scope",
           "props": {},
           "type": "node"
          }
         ],
         "instanceArgs": {
          "namespace": "html",
          "tag": "div"
         },
         "nodeType": "DOM",
         "props": {
          "className": "field interact-widget"
         },
         "type": "node"
        },
        {
         "children": [
          {
           "children": [
            {
             "children": [
              {
               "children": [
                {
                 "children": [
                  "r"
                 ],
                 "instanceArgs": {
                  "namespace": "html",
                  "tag": "label"
                 },
                 "nodeType": "DOM",
                 "props": {
                  "className": "interact ",
                  "style": {
                   "padding": "5px 10px 0px 10px"
                  }
                 },
                 "type": "node"
                }
               ],
               "instanceArgs": {
                "namespace": "html",
                "tag": "div"
               },
               "nodeType": "DOM",
               "props": {
                "className": "interact-flex-row-left"
               },
               "type": "node"
              },
              {
               "children": [
                {
                 "children": [],
                 "instanceArgs": {
                  "namespace": "html",
                  "tag": "input"
                 },
                 "nodeType": "DOM",
                 "props": {
                  "attributes": {
                   "data-bind": "numericValue: index, valueUpdate: 'input', event: {change: function (){this.changes(this.changes()+1)}}",
                   "orient": "horizontal",
                   "type": "range"
                  },
                  "className": "slider slider is-fullwidth",
                  "max": 50,
                  "min": 1,
                  "step": 1,
                  "style": {}
                 },
                 "type": "node"
                }
               ],
               "instanceArgs": {
                "namespace": "html",
                "tag": "div"
               },
               "nodeType": "DOM",
               "props": {
                "className": "interact-flex-row-center"
               },
               "type": "node"
              },
              {
               "children": [
                {
                 "children": [],
                 "instanceArgs": {
                  "namespace": "html",
                  "tag": "p"
                 },
                 "nodeType": "DOM",
                 "props": {
                  "attributes": {
                   "data-bind": "text: formatted_val"
                  }
                 },
                 "type": "node"
                }
               ],
               "instanceArgs": {
                "namespace": "html",
                "tag": "div"
               },
               "nodeType": "DOM",
               "props": {
                "className": "interact-flex-row-right"
               },
               "type": "node"
              }
             ],
             "instanceArgs": {
              "namespace": "html",
              "tag": "div"
             },
             "nodeType": "DOM",
             "props": {
              "className": "interact-flex-row interact-widget"
             },
             "type": "node"
            }
           ],
           "instanceArgs": {
            "handlers": {
             "changes": [
              "(function (val){return (val!=this.model[\"changes\"]()) ? (this.valueFromJulia[\"changes\"]=true, this.model[\"changes\"](val)) : undefined})"
             ],
             "index": [
              "(function (val){return (val!=this.model[\"index\"]()) ? (this.valueFromJulia[\"index\"]=true, this.model[\"index\"](val)) : undefined})"
             ]
            },
            "id": "15895758726710654535",
            "imports": {
             "data": [
              {
               "name": "knockout",
               "type": "js",
               "url": "/assetserver/f848bd002af2052b634cac1eb2affe109cbba3ba-knockout.js"
              },
              {
               "name": "knockout_punches",
               "type": "js",
               "url": "/assetserver/31ecefdc4553d90f2aa48f9261b2f16dfc2d359b-knockout_punches.js"
              },
              {
               "name": null,
               "type": "js",
               "url": "/assetserver/f2c8ad3910f87ab7e0acf2b3cfd5913e15d66f87-all.js"
              },
              {
               "name": null,
               "type": "css",
               "url": "/assetserver/dae29c5c6cb77b6ac0bed0cefad4137f69351557-style.css"
              },
              {
               "name": null,
               "type": "css",
               "url": "/assetserver/5f021a427ae3fef2ec76433c67544a048a5b7e8c-bulma_confined.min.css"
              }
             ],
             "type": "async_block"
            },
            "mount_callbacks": [
             "function () {\n    var handler = (function (ko, koPunches) {\n    ko.punches.enableAll();\n    ko.bindingHandlers.numericValue = {\n        init: function(element, valueAccessor, allBindings, data, context) {\n            var stringified = ko.observable(ko.unwrap(valueAccessor()));\n            stringified.subscribe(function(value) {\n                var val = parseFloat(value);\n                if (!isNaN(val)) {\n                    valueAccessor()(val);\n                }\n            });\n            valueAccessor().subscribe(function(value) {\n                var str = JSON.stringify(value);\n                if ((str == \"0\") && ([\"-0\", \"-0.\"].indexOf(stringified()) >= 0))\n                     return;\n                 if ([\"null\", \"\"].indexOf(str) >= 0)\n                     return;\n                stringified(str);\n            });\n            ko.applyBindingsToNode(\n                element,\n                {\n                    value: stringified,\n                    valueUpdate: allBindings.get('valueUpdate'),\n                },\n                context,\n            );\n        }\n    };\n    var json_data = {\"formatted_vals\":[\"0.1\",\"0.102041\",\"0.104082\",\"0.106122\",\"0.108163\",\"0.110204\",\"0.112245\",\"0.114286\",\"0.116327\",\"0.118367\",\"0.120408\",\"0.122449\",\"0.12449\",\"0.126531\",\"0.128571\",\"0.130612\",\"0.132653\",\"0.134694\",\"0.136735\",\"0.138776\",\"0.140816\",\"0.142857\",\"0.144898\",\"0.146939\",\"0.14898\",\"0.15102\",\"0.153061\",\"0.155102\",\"0.157143\",\"0.159184\",\"0.161224\",\"0.163265\",\"0.165306\",\"0.167347\",\"0.169388\",\"0.171429\",\"0.173469\",\"0.17551\",\"0.177551\",\"0.179592\",\"0.181633\",\"0.183673\",\"0.185714\",\"0.187755\",\"0.189796\",\"0.191837\",\"0.193878\",\"0.195918\",\"0.197959\",\"0.2\"],\"changes\":WebIO.getval({\"name\":\"changes\",\"scope\":\"15895758726710654535\",\"id\":\"ob_18\",\"type\":\"observable\"}),\"index\":WebIO.getval({\"name\":\"index\",\"scope\":\"15895758726710654535\",\"id\":\"ob_17\",\"type\":\"observable\"})};\n    var self = this;\n    function AppViewModel() {\n        for (var key in json_data) {\n            var el = json_data[key];\n            this[key] = Array.isArray(el) ? ko.observableArray(el) : ko.observable(el);\n        }\n        \n        [this[\"formatted_val\"]=ko.computed(    function(){\n        return this.formatted_vals()[parseInt(this.index())-(1)];\n    }\n,this)]\n        [this[\"changes\"].subscribe((function (val){!(this.valueFromJulia[\"changes\"]) ? (WebIO.setval({\"name\":\"changes\",\"scope\":\"15895758726710654535\",\"id\":\"ob_18\",\"type\":\"observable\"},val)) : undefined; return this.valueFromJulia[\"changes\"]=false}),self),this[\"index\"].subscribe((function (val){!(this.valueFromJulia[\"index\"]) ? (WebIO.setval({\"name\":\"index\",\"scope\":\"15895758726710654535\",\"id\":\"ob_17\",\"type\":\"observable\"},val)) : undefined; return this.valueFromJulia[\"index\"]=false}),self)]\n        \n    }\n    self.model = new AppViewModel();\n    self.valueFromJulia = {};\n    for (var key in json_data) {\n        self.valueFromJulia[key] = false;\n    }\n    ko.applyBindings(self.model, self.dom);\n}\n);\n    (WebIO.importBlock({\"data\":[{\"name\":\"knockout\",\"type\":\"js\",\"url\":\"/assetserver/f848bd002af2052b634cac1eb2affe109cbba3ba-knockout.js\"},{\"name\":\"knockout_punches\",\"type\":\"js\",\"url\":\"/assetserver/31ecefdc4553d90f2aa48f9261b2f16dfc2d359b-knockout_punches.js\"}],\"type\":\"async_block\"})).then((imports) => handler.apply(this, imports));\n}\n"
            ],
            "observables": {
             "changes": {
              "id": "ob_18",
              "sync": false,
              "value": 0
             },
             "index": {
              "id": "ob_17",
              "sync": true,
              "value": 25
             }
            },
            "systemjs_options": null
           },
           "nodeType": "Scope",
           "props": {},
           "type": "node"
          }
         ],
         "instanceArgs": {
          "namespace": "html",
          "tag": "div"
         },
         "nodeType": "DOM",
         "props": {
          "className": "field interact-widget"
         },
         "type": "node"
        },
        {
         "children": [
          {
           "children": [],
           "instanceArgs": {
            "id": "ob_24",
            "name": "obs-node"
           },
           "nodeType": "ObservableNode",
           "props": {},
           "type": "node"
          }
         ],
         "instanceArgs": {
          "handlers": {},
          "id": "4854609388873200891",
          "imports": {
           "data": [],
           "type": "async_block"
          },
          "mount_callbacks": [],
          "observables": {
           "obs-node": {
            "id": "ob_24",
            "sync": false,
            "value": {
             "children": [
              {
               "children": [],
               "instanceArgs": {
                "namespace": "html",
                "tag": "div"
               },
               "nodeType": "DOM",
               "props": {
                "setInnerHtml": "<?xml version=\"1.0\" encoding=\"utf-8\"?>\n<svg xmlns=\"http://www.w3.org/2000/svg\" xmlns:xlink=\"http://www.w3.org/1999/xlink\" width=\"900\" height=\"400\" viewBox=\"0 0 3600 1600\">\n<defs>\n  <clipPath id=\"clip8600\">\n    <rect x=\"0\" y=\"0\" width=\"3600\" height=\"1600\"/>\n  </clipPath>\n</defs>\n<path clip-path=\"url(#clip8600)\" d=\"\nM0 1600 L3600 1600 L3600 0 L0 0  Z\n  \" fill=\"#ffffff\" fill-rule=\"evenodd\" fill-opacity=\"1\"/>\n<defs>\n  <clipPath id=\"clip8601\">\n    <rect x=\"720\" y=\"0\" width=\"2521\" height=\"1600\"/>\n  </clipPath>\n</defs>\n<path clip-path=\"url(#clip8600)\" d=\"\nM165.898 1498.65 L3552.76 1498.65 L3552.76 47.2441 L165.898 47.2441  Z\n  \" fill=\"#ffffff\" fill-rule=\"evenodd\" fill-opacity=\"1\"/>\n<defs>\n  <clipPath id=\"clip8602\">\n    <rect x=\"165\" y=\"47\" width=\"3388\" height=\"1452\"/>\n  </clipPath>\n</defs>\n<polyline clip-path=\"url(#clip8602)\" style=\"stroke:#000000; stroke-width:2; stroke-opacity:0.1; fill:none\" points=\"\n  165.898,1498.65 165.898,47.2441 \n  \"/>\n<polyline clip-path=\"url(#clip8602)\" style=\"stroke:#000000; stroke-width:2; stroke-opacity:0.1; fill:none\" points=\"\n  843.27,1498.65 843.27,47.2441 \n  \"/>\n<polyline clip-path=\"url(#clip8602)\" style=\"stroke:#000000; stroke-width:2; stroke-opacity:0.1; fill:none\" points=\"\n  1520.64,1498.65 1520.64,47.2441 \n  \"/>\n<polyline clip-path=\"url(#clip8602)\" style=\"stroke:#000000; stroke-width:2; stroke-opacity:0.1; fill:none\" points=\"\n  2198.01,1498.65 2198.01,47.2441 \n  \"/>\n<polyline clip-path=\"url(#clip8602)\" style=\"stroke:#000000; stroke-width:2; stroke-opacity:0.1; fill:none\" points=\"\n  2875.38,1498.65 2875.38,47.2441 \n  \"/>\n<polyline clip-path=\"url(#clip8602)\" style=\"stroke:#000000; stroke-width:2; stroke-opacity:0.1; fill:none\" points=\"\n  3552.76,1498.65 3552.76,47.2441 \n  \"/>\n<polyline clip-path=\"url(#clip8602)\" style=\"stroke:#000000; stroke-width:2; stroke-opacity:0.1; fill:none\" points=\"\n  165.898,1498.65 3552.76,1498.65 \n  \"/>\n<polyline clip-path=\"url(#clip8602)\" style=\"stroke:#000000; stroke-width:2; stroke-opacity:0.1; fill:none\" points=\"\n  165.898,1208.37 3552.76,1208.37 \n  \"/>\n<polyline clip-path=\"url(#clip8602)\" style=\"stroke:#000000; stroke-width:2; stroke-opacity:0.1; fill:none\" points=\"\n  165.898,918.089 3552.76,918.089 \n  \"/>\n<polyline clip-path=\"url(#clip8602)\" style=\"stroke:#000000; stroke-width:2; stroke-opacity:0.1; fill:none\" points=\"\n  165.898,627.807 3552.76,627.807 \n  \"/>\n<polyline clip-path=\"url(#clip8602)\" style=\"stroke:#000000; stroke-width:2; stroke-opacity:0.1; fill:none\" points=\"\n  165.898,337.526 3552.76,337.526 \n  \"/>\n<polyline clip-path=\"url(#clip8602)\" style=\"stroke:#000000; stroke-width:2; stroke-opacity:0.1; fill:none\" points=\"\n  165.898,47.2441 3552.76,47.2441 \n  \"/>\n<polyline clip-path=\"url(#clip8600)\" style=\"stroke:#000000; stroke-width:4; stroke-opacity:1; fill:none\" points=\"\n  165.898,1498.65 3552.76,1498.65 \n  \"/>\n<polyline clip-path=\"url(#clip8600)\" style=\"stroke:#000000; stroke-width:4; stroke-opacity:1; fill:none\" points=\"\n  165.898,1498.65 165.898,47.2441 \n  \"/>\n<polyline clip-path=\"url(#clip8600)\" style=\"stroke:#000000; stroke-width:4; stroke-opacity:1; fill:none\" points=\"\n  165.898,1498.65 165.898,1481.24 \n  \"/>\n<polyline clip-path=\"url(#clip8600)\" style=\"stroke:#000000; stroke-width:4; stroke-opacity:1; fill:none\" points=\"\n  843.27,1498.65 843.27,1481.24 \n  \"/>\n<polyline clip-path=\"url(#clip8600)\" style=\"stroke:#000000; stroke-width:4; stroke-opacity:1; fill:none\" points=\"\n  1520.64,1498.65 1520.64,1481.24 \n  \"/>\n<polyline clip-path=\"url(#clip8600)\" style=\"stroke:#000000; stroke-width:4; stroke-opacity:1; fill:none\" points=\"\n  2198.01,1498.65 2198.01,1481.24 \n  \"/>\n<polyline clip-path=\"url(#clip8600)\" style=\"stroke:#000000; stroke-width:4; stroke-opacity:1; fill:none\" points=\"\n  2875.38,1498.65 2875.38,1481.24 \n  \"/>\n<polyline clip-path=\"url(#clip8600)\" style=\"stroke:#000000; stroke-width:4; stroke-opacity:1; fill:none\" points=\"\n  3552.76,1498.65 3552.76,1481.24 \n  \"/>\n<polyline clip-path=\"url(#clip8600)\" style=\"stroke:#000000; stroke-width:4; stroke-opacity:1; fill:none\" points=\"\n  165.898,1498.65 206.54,1498.65 \n  \"/>\n<polyline clip-path=\"url(#clip8600)\" style=\"stroke:#000000; stroke-width:4; stroke-opacity:1; fill:none\" points=\"\n  165.898,1208.37 206.54,1208.37 \n  \"/>\n<polyline clip-path=\"url(#clip8600)\" style=\"stroke:#000000; stroke-width:4; stroke-opacity:1; fill:none\" points=\"\n  165.898,918.089 206.54,918.089 \n  \"/>\n<polyline clip-path=\"url(#clip8600)\" style=\"stroke:#000000; stroke-width:4; stroke-opacity:1; fill:none\" points=\"\n  165.898,627.807 206.54,627.807 \n  \"/>\n<polyline clip-path=\"url(#clip8600)\" style=\"stroke:#000000; stroke-width:4; stroke-opacity:1; fill:none\" points=\"\n  165.898,337.526 206.54,337.526 \n  \"/>\n<polyline clip-path=\"url(#clip8600)\" style=\"stroke:#000000; stroke-width:4; stroke-opacity:1; fill:none\" points=\"\n  165.898,47.2441 206.54,47.2441 \n  \"/>\n<g clip-path=\"url(#clip8600)\">\n<text style=\"fill:#000000; fill-opacity:1; font-family:Arial,Helvetica Neue,Helvetica,sans-serif; font-size:48px; text-anchor:middle;\" transform=\"rotate(0, 165.898, 1558.65)\" x=\"165.898\" y=\"1558.65\">0.0</text>\n</g>\n<g clip-path=\"url(#clip8600)\">\n<text style=\"fill:#000000; fill-opacity:1; font-family:Arial,Helvetica Neue,Helvetica,sans-serif; font-size:48px; text-anchor:middle;\" transform=\"rotate(0, 843.27, 1558.65)\" x=\"843.27\" y=\"1558.65\">0.2</text>\n</g>\n<g clip-path=\"url(#clip8600)\">\n<text style=\"fill:#000000; fill-opacity:1; font-family:Arial,Helvetica Neue,Helvetica,sans-serif; font-size:48px; text-anchor:middle;\" transform=\"rotate(0, 1520.64, 1558.65)\" x=\"1520.64\" y=\"1558.65\">0.4</text>\n</g>\n<g clip-path=\"url(#clip8600)\">\n<text style=\"fill:#000000; fill-opacity:1; font-family:Arial,Helvetica Neue,Helvetica,sans-serif; font-size:48px; text-anchor:middle;\" transform=\"rotate(0, 2198.01, 1558.65)\" x=\"2198.01\" y=\"1558.65\">0.6</text>\n</g>\n<g clip-path=\"url(#clip8600)\">\n<text style=\"fill:#000000; fill-opacity:1; font-family:Arial,Helvetica Neue,Helvetica,sans-serif; font-size:48px; text-anchor:middle;\" transform=\"rotate(0, 2875.38, 1558.65)\" x=\"2875.38\" y=\"1558.65\">0.8</text>\n</g>\n<g clip-path=\"url(#clip8600)\">\n<text style=\"fill:#000000; fill-opacity:1; font-family:Arial,Helvetica Neue,Helvetica,sans-serif; font-size:48px; text-anchor:middle;\" transform=\"rotate(0, 3552.76, 1558.65)\" x=\"3552.76\" y=\"1558.65\">1.0</text>\n</g>\n<g clip-path=\"url(#clip8600)\">\n<text style=\"fill:#000000; fill-opacity:1; font-family:Arial,Helvetica Neue,Helvetica,sans-serif; font-size:48px; text-anchor:end;\" transform=\"rotate(0, 129.898, 1516.15)\" x=\"129.898\" y=\"1516.15\">0.0</text>\n</g>\n<g clip-path=\"url(#clip8600)\">\n<text style=\"fill:#000000; fill-opacity:1; font-family:Arial,Helvetica Neue,Helvetica,sans-serif; font-size:48px; text-anchor:end;\" transform=\"rotate(0, 129.898, 1225.87)\" x=\"129.898\" y=\"1225.87\">0.2</text>\n</g>\n<g clip-path=\"url(#clip8600)\">\n<text style=\"fill:#000000; fill-opacity:1; font-family:Arial,Helvetica Neue,Helvetica,sans-serif; font-size:48px; text-anchor:end;\" transform=\"rotate(0, 129.898, 935.589)\" x=\"129.898\" y=\"935.589\">0.4</text>\n</g>\n<g clip-path=\"url(#clip8600)\">\n<text style=\"fill:#000000; fill-opacity:1; font-family:Arial,Helvetica Neue,Helvetica,sans-serif; font-size:48px; text-anchor:end;\" transform=\"rotate(0, 129.898, 645.307)\" x=\"129.898\" y=\"645.307\">0.6</text>\n</g>\n<g clip-path=\"url(#clip8600)\">\n<text style=\"fill:#000000; fill-opacity:1; font-family:Arial,Helvetica Neue,Helvetica,sans-serif; font-size:48px; text-anchor:end;\" transform=\"rotate(0, 129.898, 355.026)\" x=\"129.898\" y=\"355.026\">0.8</text>\n</g>\n<g clip-path=\"url(#clip8600)\">\n<text style=\"fill:#000000; fill-opacity:1; font-family:Arial,Helvetica Neue,Helvetica,sans-serif; font-size:48px; text-anchor:end;\" transform=\"rotate(0, 129.898, 64.7441)\" x=\"129.898\" y=\"64.7441\">1.0</text>\n</g>\n<circle clip-path=\"url(#clip8602)\" cx=\"504.584\" cy=\"641.397\" r=\"14\" fill=\"#009af9\" fill-rule=\"evenodd\" fill-opacity=\"1\" stroke=\"#000000\" stroke-opacity=\"1\" stroke-width=\"3.2\"/>\n<circle clip-path=\"url(#clip8602)\" cx=\"805.638\" cy=\"644.449\" r=\"14\" fill=\"#009af9\" fill-rule=\"evenodd\" fill-opacity=\"1\" stroke=\"#000000\" stroke-opacity=\"1\" stroke-width=\"3.2\"/>\n<circle clip-path=\"url(#clip8602)\" cx=\"1106.69\" cy=\"1300.36\" r=\"14\" fill=\"#009af9\" fill-rule=\"evenodd\" fill-opacity=\"1\" stroke=\"#000000\" stroke-opacity=\"1\" stroke-width=\"3.2\"/>\n<circle clip-path=\"url(#clip8602)\" cx=\"1407.75\" cy=\"782.354\" r=\"14\" fill=\"#009af9\" fill-rule=\"evenodd\" fill-opacity=\"1\" stroke=\"#000000\" stroke-opacity=\"1\" stroke-width=\"3.2\"/>\n<circle clip-path=\"url(#clip8602)\" cx=\"1708.8\" cy=\"715.798\" r=\"14\" fill=\"#009af9\" fill-rule=\"evenodd\" fill-opacity=\"1\" stroke=\"#000000\" stroke-opacity=\"1\" stroke-width=\"3.2\"/>\n<circle clip-path=\"url(#clip8602)\" cx=\"2009.85\" cy=\"756.296\" r=\"14\" fill=\"#009af9\" fill-rule=\"evenodd\" fill-opacity=\"1\" stroke=\"#000000\" stroke-opacity=\"1\" stroke-width=\"3.2\"/>\n<circle clip-path=\"url(#clip8602)\" cx=\"2310.91\" cy=\"401.042\" r=\"14\" fill=\"#009af9\" fill-rule=\"evenodd\" fill-opacity=\"1\" stroke=\"#000000\" stroke-opacity=\"1\" stroke-width=\"3.2\"/>\n<circle clip-path=\"url(#clip8602)\" cx=\"2611.96\" cy=\"606.502\" r=\"14\" fill=\"#009af9\" fill-rule=\"evenodd\" fill-opacity=\"1\" stroke=\"#000000\" stroke-opacity=\"1\" stroke-width=\"3.2\"/>\n<circle clip-path=\"url(#clip8602)\" cx=\"2913.02\" cy=\"424.935\" r=\"14\" fill=\"#009af9\" fill-rule=\"evenodd\" fill-opacity=\"1\" stroke=\"#000000\" stroke-opacity=\"1\" stroke-width=\"3.2\"/>\n<circle clip-path=\"url(#clip8602)\" cx=\"3214.07\" cy=\"797.712\" r=\"14\" fill=\"#009af9\" fill-rule=\"evenodd\" fill-opacity=\"1\" stroke=\"#000000\" stroke-opacity=\"1\" stroke-width=\"3.2\"/>\n<path clip-path=\"url(#clip8602)\" d=\"\nM165.898 1046.32 L182.917 1041.92 L199.937 1036.47 L216.956 1029.82 L233.976 1021.78 L250.995 1012.19 L268.014 1000.87 L285.034 987.654 L302.053 972.413 L319.072 955.029 \n  L336.092 935.425 L353.111 913.565 L370.131 889.464 L387.15 863.192 L404.169 834.882 L421.189 804.734 L438.208 773.014 L455.228 740.058 L472.247 706.272 L489.266 672.151 \n  L506.286 643.236 L523.305 651.81 L540.324 659.009 L557.344 664.062 L574.363 666.903 L591.383 667.571 L608.402 666.199 L625.421 663.018 L642.441 658.354 L659.46 652.625 \n  L676.48 646.332 L693.499 640.044 L710.518 634.385 L727.538 630.009 L744.557 627.586 L761.577 627.773 L778.596 631.193 L795.615 638.478 L812.635 664.817 L829.654 716.122 \n  L846.673 770.644 L863.693 827.299 L880.712 885.06 L897.732 942.86 L914.751 999.615 L931.77 1054.25 L948.79 1105.71 L965.809 1153.01 L982.829 1195.27 L999.848 1231.71 \n  L1016.87 1261.67 L1033.89 1284.67 L1050.91 1300.4 L1067.93 1308.71 L1084.94 1309.66 L1101.96 1303.72 L1118.98 1315.93 L1136 1331.07 L1153.02 1338.82 L1170.04 1338.92 \n  L1187.06 1331.31 L1204.08 1316.12 L1221.1 1293.66 L1238.12 1264.42 L1255.14 1229 L1272.16 1188.15 L1289.18 1142.75 L1306.2 1093.73 L1323.22 1042.1 L1340.24 988.887 \n  L1357.26 935.149 L1374.27 881.92 L1391.29 830.223 L1408.31 783.485 L1425.33 771.086 L1442.35 762.953 L1459.37 757.331 L1476.39 753.728 L1493.41 751.649 L1510.43 750.604 \n  L1527.45 750.125 L1544.47 749.786 L1561.49 749.222 L1578.51 748.143 L1595.53 746.34 L1612.55 743.695 L1629.57 740.178 L1646.58 735.845 L1663.6 730.834 L1680.62 725.354 \n  L1697.64 719.727 L1714.66 726.353 L1731.68 755.64 L1748.7 784.328 L1765.72 811.463 L1782.74 836.305 L1799.76 858.179 L1816.78 876.483 L1833.8 890.699 L1850.82 900.397 \n  L1867.84 905.253 L1884.86 905.049 L1901.88 899.683 L1918.89 889.17 L1935.91 873.645 L1952.93 853.358 L1969.95 828.676 L1986.97 800.08 L2003.99 768.321 L2021.01 756.511 \n  L2038.03 754.159 L2055.05 748.832 L2072.07 740.236 L2089.09 728.242 L2106.11 712.838 L2123.13 694.133 L2140.15 672.356 L2157.17 647.853 L2174.19 621.075 L2191.2 592.569 \n  L2208.22 562.959 L2225.24 532.932 L2242.26 503.208 L2259.28 474.527 L2276.3 447.618 L2293.32 423.202 L2310.34 403.251 L2327.36 418.046 L2344.38 438.415 L2361.4 461.132 \n  L2378.42 485.379 L2395.44 510.323 L2412.46 535.13 L2429.48 558.976 L2446.5 581.08 L2463.52 600.722 L2480.53 617.267 L2497.55 630.183 L2514.57 639.06 L2531.59 643.616 \n  L2548.61 643.714 L2565.63 639.36 L2582.65 630.711 L2599.67 618.107 L2616.69 611.876 L2633.71 627.21 L2650.73 638.996 L2667.75 646.636 L2684.77 649.904 L2701.79 648.725 \n  L2718.81 643.171 L2735.83 633.455 L2752.84 619.926 L2769.86 603.056 L2786.88 583.427 L2803.9 561.713 L2820.92 538.659 L2837.94 515.059 L2854.96 491.731 L2871.98 469.495 \n  L2889 449.157 L2906.02 431.6 L2923.04 438.394 L2940.06 463.468 L2957.08 491.491 L2974.1 521.702 L2991.12 553.36 L3008.14 585.697 L3025.15 617.943 L3042.17 649.343 \n  L3059.19 679.179 L3076.21 706.792 L3093.23 731.596 L3110.25 753.097 L3127.27 770.9 L3144.29 784.719 L3161.31 794.378 L3178.33 799.817 L3195.35 801.096 L3212.37 799.007 \n  L3229.39 832.455 L3246.41 869.223 L3263.43 903.857 L3280.45 935.977 L3297.47 965.306 L3314.48 991.658 L3331.5 1014.93 L3348.52 1035.09 L3365.54 1052.2 L3382.56 1066.35 \n  L3399.58 1077.72 L3416.6 1086.51 L3433.62 1092.97 L3450.64 1097.36 L3467.66 1099.95 L3484.68 1101.02 L3501.7 1100.85 L3518.72 1099.7 L3535.74 1097.79 L3552.76 1095.35 \n  L3552.76 445.242 L3535.74 457.383 L3518.72 470.878 L3501.7 485.757 L3484.68 502.028 L3467.66 519.664 L3450.64 538.599 L3433.62 558.727 L3416.6 579.893 L3399.58 601.894 \n  L3382.56 624.474 L3365.54 647.331 L3348.52 670.113 L3331.5 692.426 L3314.48 713.843 L3297.47 733.914 L3280.45 752.172 L3263.43 768.152 L3246.41 781.402 L3229.39 791.476 \n  L3212.37 792.981 L3195.35 753.899 L3178.33 713.468 L3161.31 672.957 L3144.29 633.034 L3127.27 594.374 L3110.25 557.647 L3093.23 523.502 L3076.21 492.55 L3059.19 465.343 \n  L3042.17 442.354 L3025.15 423.964 L3008.14 410.445 L2991.12 401.951 L2974.1 398.507 L2957.08 400.008 L2940.06 406.207 L2923.04 416.667 L2906.02 416.183 L2889 398.613 \n  L2871.98 385.257 L2854.96 376.536 L2837.94 372.609 L2820.92 373.491 L2803.9 379.052 L2786.88 389.028 L2769.86 403.024 L2752.84 420.531 L2735.83 440.935 L2718.81 463.542 \n  L2701.79 487.592 L2684.77 512.287 L2667.75 536.814 L2650.73 560.367 L2633.71 582.158 L2616.69 601.224 L2599.67 592.29 L2582.65 570.59 L2565.63 546.703 L2548.61 521.417 \n  L2531.59 495.525 L2514.57 469.833 L2497.55 445.144 L2480.53 422.233 L2463.52 401.826 L2446.5 384.572 L2429.48 371.032 L2412.46 361.655 L2395.44 356.766 L2378.42 356.558 \n  L2361.4 361.087 L2344.38 370.264 L2327.36 383.841 L2310.34 398.98 L2293.32 386.7 L2276.3 377.276 L2259.28 372.482 L2242.26 372.651 L2225.24 377.961 L2208.22 388.444 \n  L2191.2 403.996 L2174.19 424.374 L2157.17 449.21 L2140.15 478.016 L2123.13 510.206 L2106.11 545.107 L2089.09 581.979 L2072.07 620.035 L2055.05 658.46 L2038.03 696.427 \n  L2021.01 733.067 L2003.99 755.498 L1986.97 752.906 L1969.95 748.208 L1952.93 742.08 L1935.91 735.04 L1918.89 727.591 L1901.88 720.208 L1884.86 713.32 L1867.84 707.299 \n  L1850.82 702.444 L1833.8 698.97 L1816.78 697.008 L1799.76 696.6 L1782.74 697.7 L1765.72 700.185 L1748.7 703.861 L1731.68 708.467 L1714.66 713.531 L1697.64 696.282 \n  L1680.62 667.623 L1663.6 640.462 L1646.58 615.644 L1629.57 593.915 L1612.55 575.965 L1595.53 562.414 L1578.51 553.803 L1561.49 550.579 L1544.47 553.085 L1527.45 561.552 \n  L1510.43 576.089 L1493.41 596.678 L1476.39 623.171 L1459.37 655.286 L1442.35 692.611 L1425.33 734.584 L1408.31 779.215 L1391.29 796.018 L1374.27 813.768 L1357.26 835.103 \n  L1340.24 860.066 L1323.22 888.539 L1306.2 920.256 L1289.18 954.808 L1272.16 991.646 L1255.14 1030.1 L1238.12 1069.38 L1221.1 1108.63 L1204.08 1146.89 L1187.06 1183.22 \n  L1170.04 1216.62 L1153.02 1246.17 L1136 1270.95 L1118.98 1290.11 L1101.96 1293.07 L1084.94 1264.6 L1067.93 1230.08 L1050.91 1190.57 L1033.89 1147.05 L1016.87 1100.53 \n  L999.848 1052.08 L982.829 1002.75 L965.809 953.618 L948.79 905.674 L931.77 859.846 L914.751 816.954 L897.732 777.692 L880.712 742.61 L863.693 712.104 L846.673 686.406 \n  L829.654 665.579 L812.635 649.401 L795.615 616.752 L778.596 573.932 L761.577 536.29 L744.557 504.392 L727.538 478.601 L710.518 459.133 L693.499 446.065 L676.48 439.343 \n  L659.46 438.789 L642.441 444.113 L625.421 454.924 L608.402 470.748 L591.383 491.045 L574.363 515.218 L557.344 542.641 L540.324 572.661 L523.305 604.612 L506.286 637.21 \n  L489.266 631.172 L472.247 618.452 L455.228 604.352 L438.208 589.208 L421.189 573.342 L404.169 557.068 L387.15 540.689 L370.131 524.484 L353.111 508.701 L336.092 493.55 \n  L319.072 479.204 L302.053 465.794 L285.034 453.412 L268.014 442.109 L250.995 431.906 L233.976 422.789 L216.956 414.724 L199.937 407.653 L182.917 401.509 L165.898 396.21 \n   Z\n  \" fill=\"#e26f46\" fill-rule=\"evenodd\" fill-opacity=\"0.5\"/>\n<polyline clip-path=\"url(#clip8602)\" style=\"stroke:#e26f46; stroke-width:4; stroke-opacity:1; fill:none\" points=\"\n  165.898,721.265 182.917,721.712 199.937,722.062 216.956,722.271 233.976,722.286 250.995,722.047 268.014,721.488 285.034,720.533 302.053,719.103 319.072,717.117 \n  336.092,714.487 353.111,711.133 370.131,706.974 387.15,701.94 404.169,695.975 421.189,689.038 438.208,681.111 455.228,672.205 472.247,662.362 489.266,651.661 \n  506.286,640.223 523.305,628.211 540.324,615.835 557.344,603.351 574.363,591.061 591.383,579.308 608.402,568.474 625.421,558.971 642.441,551.233 659.46,545.707 \n  676.48,542.838 693.499,543.055 710.518,546.759 727.538,554.305 744.557,565.989 761.577,582.031 778.596,602.563 795.615,627.615 812.635,657.109 829.654,690.85 \n  846.673,728.525 863.693,769.702 880.712,813.835 897.732,860.276 914.751,908.285 931.77,957.046 948.79,1005.69 965.809,1053.32 982.829,1099.01 999.848,1141.89 \n  1016.87,1181.1 1033.89,1215.86 1050.91,1245.48 1067.93,1269.39 1084.94,1287.13 1101.96,1298.39 1118.98,1303.02 1136,1301.01 1153.02,1292.5 1170.04,1277.77 \n  1187.06,1257.26 1204.08,1231.51 1221.1,1201.14 1238.12,1166.9 1255.14,1129.55 1272.16,1089.9 1289.18,1048.78 1306.2,1006.99 1323.22,965.318 1340.24,924.476 \n  1357.26,885.126 1374.27,847.844 1391.29,813.12 1408.31,781.35 1425.33,752.835 1442.35,727.782 1459.37,706.309 1476.39,688.449 1493.41,674.164 1510.43,663.347 \n  1527.45,655.838 1544.47,651.435 1561.49,649.9 1578.51,650.973 1595.53,654.377 1612.55,659.83 1629.57,667.046 1646.58,675.745 1663.6,685.648 1680.62,696.489 \n  1697.64,708.004 1714.66,719.942 1731.68,732.053 1748.7,744.094 1765.72,755.824 1782.74,767.002 1799.76,777.389 1816.78,786.746 1833.8,794.835 1850.82,801.421 \n  1867.84,806.276 1884.86,809.184 1901.88,809.945 1918.89,808.381 1935.91,804.343 1952.93,797.719 1969.95,788.442 1986.97,776.493 2003.99,761.91 2021.01,744.789 \n  2038.03,725.293 2055.05,703.646 2072.07,680.136 2089.09,655.111 2106.11,628.973 2123.13,602.17 2140.15,575.186 2157.17,548.531 2174.19,522.725 2191.2,498.282 \n  2208.22,475.702 2225.24,455.446 2242.26,437.93 2259.28,423.504 2276.3,412.447 2293.32,404.951 2310.34,401.115 2327.36,400.943 2344.38,404.339 2361.4,411.11 \n  2378.42,420.968 2395.44,433.545 2412.46,448.392 2429.48,465.004 2446.5,482.826 2463.52,501.274 2480.53,519.75 2497.55,537.664 2514.57,554.446 2531.59,569.571 \n  2548.61,582.566 2565.63,593.031 2582.65,600.651 2599.67,605.199 2616.69,606.55 2633.71,604.684 2650.73,599.681 2667.75,591.725 2684.77,581.096 2701.79,568.158 \n  2718.81,553.356 2735.83,537.195 2752.84,520.228 2769.86,503.04 2786.88,486.227 2803.9,470.383 2820.92,456.075 2837.94,443.834 2854.96,434.133 2871.98,427.376 \n  2889,423.885 2906.02,423.891 2923.04,427.531 2940.06,434.838 2957.08,445.749 2974.1,460.105 2991.12,477.655 3008.14,498.071 3025.15,520.954 3042.17,545.848 \n  3059.19,572.261 3076.21,599.671 3093.23,627.549 3110.25,655.372 3127.27,682.637 3144.29,708.876 3161.31,733.667 3178.33,756.642 3195.35,777.497 3212.37,795.994 \n  3229.39,811.965 3246.41,825.313 3263.43,836.005 3280.45,844.074 3297.47,849.61 3314.48,852.75 3331.5,853.677 3348.52,852.602 3365.54,849.763 3382.56,845.412 \n  3399.58,839.806 3416.6,833.202 3433.62,825.848 3450.64,817.977 3467.66,809.805 3484.68,801.525 3501.7,793.305 3518.72,785.286 3535.74,777.587 3552.76,770.296 \n  \n  \"/>\n<path clip-path=\"url(#clip8600)\" d=\"\nM2699.54 384.204 L3444.76 384.204 L3444.76 202.764 L2699.54 202.764  Z\n  \" fill=\"#ffffff\" fill-rule=\"evenodd\" fill-opacity=\"1\"/>\n<polyline clip-path=\"url(#clip8600)\" style=\"stroke:#000000; stroke-width:4; stroke-opacity:1; fill:none\" points=\"\n  2699.54,384.204 3444.76,384.204 3444.76,202.764 2699.54,202.764 2699.54,384.204 \n  \"/>\n<circle clip-path=\"url(#clip8600)\" cx=\"2861.54\" cy=\"263.244\" r=\"21\" fill=\"#009af9\" fill-rule=\"evenodd\" fill-opacity=\"1\" stroke=\"#000000\" stroke-opacity=\"1\" stroke-width=\"3.2\"/>\n<g clip-path=\"url(#clip8600)\">\n<text style=\"fill:#000000; fill-opacity:1; font-family:Arial,Helvetica Neue,Helvetica,sans-serif; font-size:48px; text-anchor:start;\" transform=\"rotate(0, 2987.54, 280.744)\" x=\"2987.54\" y=\"280.744\">data</text>\n</g>\n<polyline clip-path=\"url(#clip8600)\" style=\"stroke:#e26f46; stroke-width:4; stroke-opacity:1; fill:none\" points=\"\n  2735.54,323.724 2951.54,323.724 \n  \"/>\n<g clip-path=\"url(#clip8600)\">\n<text style=\"fill:#000000; fill-opacity:1; font-family:Arial,Helvetica Neue,Helvetica,sans-serif; font-size:48px; text-anchor:start;\" transform=\"rotate(0, 2987.54, 341.224)\" x=\"2987.54\" y=\"341.224\">Gaussian process</text>\n</g>\n</svg>\n"
               },
               "type": "node"
              }
             ],
             "instanceArgs": {
              "namespace": "html",
              "tag": "div"
             },
             "nodeType": "DOM",
             "props": {
              "className": "interact-flex-row interact-widget"
             },
             "type": "node"
            }
           }
          },
          "systemjs_options": null
         },
         "nodeType": "Scope",
         "props": {},
         "type": "node"
        }
       ],
       "instanceArgs": {
        "namespace": "html",
        "tag": "div"
       },
       "nodeType": "DOM",
       "props": {},
       "type": "node"
      },
      "text/html": [
       "<div\n",
       "    class=\"webio-mountpoint\"\n",
       "    data-webio-mountpoint=\"9172130781233578586\"\n",
       ">\n",
       "    <script>\n",
       "    if (window.require && require.defined && require.defined(\"nbextensions/webio-jupyter-notebook\")) {\n",
       "        console.log(\"Jupyter WebIO extension detected, not mounting.\");\n",
       "    } else if (window.WebIO) {\n",
       "        WebIO.mount(\n",
       "            document.querySelector('[data-webio-mountpoint=\"9172130781233578586\"]'),\n",
       "            {\"props\":{},\"nodeType\":\"DOM\",\"type\":\"node\",\"instanceArgs\":{\"namespace\":\"html\",\"tag\":\"div\"},\"children\":[{\"props\":{\"className\":\"field interact-widget\"},\"nodeType\":\"DOM\",\"type\":\"node\",\"instanceArgs\":{\"namespace\":\"html\",\"tag\":\"div\"},\"children\":[{\"props\":{},\"nodeType\":\"Scope\",\"type\":\"node\",\"instanceArgs\":{\"imports\":{\"data\":[{\"name\":\"knockout\",\"type\":\"js\",\"url\":\"\\/assetserver\\/f848bd002af2052b634cac1eb2affe109cbba3ba-knockout.js\"},{\"name\":\"knockout_punches\",\"type\":\"js\",\"url\":\"\\/assetserver\\/31ecefdc4553d90f2aa48f9261b2f16dfc2d359b-knockout_punches.js\"},{\"name\":null,\"type\":\"js\",\"url\":\"\\/assetserver\\/f2c8ad3910f87ab7e0acf2b3cfd5913e15d66f87-all.js\"},{\"name\":null,\"type\":\"css\",\"url\":\"\\/assetserver\\/dae29c5c6cb77b6ac0bed0cefad4137f69351557-style.css\"},{\"name\":null,\"type\":\"css\",\"url\":\"\\/assetserver\\/5f021a427ae3fef2ec76433c67544a048a5b7e8c-bulma_confined.min.css\"}],\"type\":\"async_block\"},\"id\":\"1493092013962898336\",\"handlers\":{\"changes\":[\"(function (val){return (val!=this.model[\\\"changes\\\"]()) ? (this.valueFromJulia[\\\"changes\\\"]=true, this.model[\\\"changes\\\"](val)) : undefined})\"],\"index\":[\"(function (val){return (val!=this.model[\\\"index\\\"]()) ? (this.valueFromJulia[\\\"index\\\"]=true, this.model[\\\"index\\\"](val)) : undefined})\"]},\"systemjs_options\":null,\"mount_callbacks\":[\"function () {\\n    var handler = (function (ko, koPunches) {\\n    ko.punches.enableAll();\\n    ko.bindingHandlers.numericValue = {\\n        init: function(element, valueAccessor, allBindings, data, context) {\\n            var stringified = ko.observable(ko.unwrap(valueAccessor()));\\n            stringified.subscribe(function(value) {\\n                var val = parseFloat(value);\\n                if (!isNaN(val)) {\\n                    valueAccessor()(val);\\n                }\\n            });\\n            valueAccessor().subscribe(function(value) {\\n                var str = JSON.stringify(value);\\n                if ((str == \\\"0\\\") && ([\\\"-0\\\", \\\"-0.\\\"].indexOf(stringified()) >= 0))\\n                     return;\\n                 if ([\\\"null\\\", \\\"\\\"].indexOf(str) >= 0)\\n                     return;\\n                stringified(str);\\n            });\\n            ko.applyBindingsToNode(\\n                element,\\n                {\\n                    value: stringified,\\n                    valueUpdate: allBindings.get('valueUpdate'),\\n                },\\n                context,\\n            );\\n        }\\n    };\\n    var json_data = {\\\"formatted_vals\\\":[\\\"0.0\\\",\\\"0.00204082\\\",\\\"0.00408163\\\",\\\"0.00612245\\\",\\\"0.00816327\\\",\\\"0.0102041\\\",\\\"0.0122449\\\",\\\"0.0142857\\\",\\\"0.0163265\\\",\\\"0.0183673\\\",\\\"0.0204082\\\",\\\"0.022449\\\",\\\"0.0244898\\\",\\\"0.0265306\\\",\\\"0.0285714\\\",\\\"0.0306122\\\",\\\"0.0326531\\\",\\\"0.0346939\\\",\\\"0.0367347\\\",\\\"0.0387755\\\",\\\"0.0408163\\\",\\\"0.0428571\\\",\\\"0.044898\\\",\\\"0.0469388\\\",\\\"0.0489796\\\",\\\"0.0510204\\\",\\\"0.0530612\\\",\\\"0.055102\\\",\\\"0.0571429\\\",\\\"0.0591837\\\",\\\"0.0612245\\\",\\\"0.0632653\\\",\\\"0.0653061\\\",\\\"0.0673469\\\",\\\"0.0693878\\\",\\\"0.0714286\\\",\\\"0.0734694\\\",\\\"0.0755102\\\",\\\"0.077551\\\",\\\"0.0795918\\\",\\\"0.0816327\\\",\\\"0.0836735\\\",\\\"0.0857143\\\",\\\"0.0877551\\\",\\\"0.0897959\\\",\\\"0.0918367\\\",\\\"0.0938776\\\",\\\"0.0959184\\\",\\\"0.0979592\\\",\\\"0.1\\\"],\\\"changes\\\":WebIO.getval({\\\"name\\\":\\\"changes\\\",\\\"scope\\\":\\\"1493092013962898336\\\",\\\"id\\\":\\\"ob_15\\\",\\\"type\\\":\\\"observable\\\"}),\\\"index\\\":WebIO.getval({\\\"name\\\":\\\"index\\\",\\\"scope\\\":\\\"1493092013962898336\\\",\\\"id\\\":\\\"ob_14\\\",\\\"type\\\":\\\"observable\\\"})};\\n    var self = this;\\n    function AppViewModel() {\\n        for (var key in json_data) {\\n            var el = json_data[key];\\n            this[key] = Array.isArray(el) ? ko.observableArray(el) : ko.observable(el);\\n        }\\n        \\n        [this[\\\"formatted_val\\\"]=ko.computed(    function(){\\n        return this.formatted_vals()[parseInt(this.index())-(1)];\\n    }\\n,this)]\\n        [this[\\\"changes\\\"].subscribe((function (val){!(this.valueFromJulia[\\\"changes\\\"]) ? (WebIO.setval({\\\"name\\\":\\\"changes\\\",\\\"scope\\\":\\\"1493092013962898336\\\",\\\"id\\\":\\\"ob_15\\\",\\\"type\\\":\\\"observable\\\"},val)) : undefined; return this.valueFromJulia[\\\"changes\\\"]=false}),self),this[\\\"index\\\"].subscribe((function (val){!(this.valueFromJulia[\\\"index\\\"]) ? (WebIO.setval({\\\"name\\\":\\\"index\\\",\\\"scope\\\":\\\"1493092013962898336\\\",\\\"id\\\":\\\"ob_14\\\",\\\"type\\\":\\\"observable\\\"},val)) : undefined; return this.valueFromJulia[\\\"index\\\"]=false}),self)]\\n        \\n    }\\n    self.model = new AppViewModel();\\n    self.valueFromJulia = {};\\n    for (var key in json_data) {\\n        self.valueFromJulia[key] = false;\\n    }\\n    ko.applyBindings(self.model, self.dom);\\n}\\n);\\n    (WebIO.importBlock({\\\"data\\\":[{\\\"name\\\":\\\"knockout\\\",\\\"type\\\":\\\"js\\\",\\\"url\\\":\\\"\\/assetserver\\/f848bd002af2052b634cac1eb2affe109cbba3ba-knockout.js\\\"},{\\\"name\\\":\\\"knockout_punches\\\",\\\"type\\\":\\\"js\\\",\\\"url\\\":\\\"\\/assetserver\\/31ecefdc4553d90f2aa48f9261b2f16dfc2d359b-knockout_punches.js\\\"}],\\\"type\\\":\\\"async_block\\\"})).then((imports) => handler.apply(this, imports));\\n}\\n\"],\"observables\":{\"changes\":{\"sync\":false,\"id\":\"ob_15\",\"value\":0},\"index\":{\"sync\":true,\"id\":\"ob_14\",\"value\":25}}},\"children\":[{\"props\":{\"className\":\"interact-flex-row interact-widget\"},\"nodeType\":\"DOM\",\"type\":\"node\",\"instanceArgs\":{\"namespace\":\"html\",\"tag\":\"div\"},\"children\":[{\"props\":{\"className\":\"interact-flex-row-left\"},\"nodeType\":\"DOM\",\"type\":\"node\",\"instanceArgs\":{\"namespace\":\"html\",\"tag\":\"div\"},\"children\":[{\"props\":{\"className\":\"interact \",\"style\":{\"padding\":\"5px 10px 0px 10px\"}},\"nodeType\":\"DOM\",\"type\":\"node\",\"instanceArgs\":{\"namespace\":\"html\",\"tag\":\"label\"},\"children\":[\"s\"]}]},{\"props\":{\"className\":\"interact-flex-row-center\"},\"nodeType\":\"DOM\",\"type\":\"node\",\"instanceArgs\":{\"namespace\":\"html\",\"tag\":\"div\"},\"children\":[{\"props\":{\"max\":50,\"min\":1,\"attributes\":{\"type\":\"range\",\"data-bind\":\"numericValue: index, valueUpdate: 'input', event: {change: function (){this.changes(this.changes()+1)}}\",\"orient\":\"horizontal\"},\"step\":1,\"className\":\"slider slider is-fullwidth\",\"style\":{}},\"nodeType\":\"DOM\",\"type\":\"node\",\"instanceArgs\":{\"namespace\":\"html\",\"tag\":\"input\"},\"children\":[]}]},{\"props\":{\"className\":\"interact-flex-row-right\"},\"nodeType\":\"DOM\",\"type\":\"node\",\"instanceArgs\":{\"namespace\":\"html\",\"tag\":\"div\"},\"children\":[{\"props\":{\"attributes\":{\"data-bind\":\"text: formatted_val\"}},\"nodeType\":\"DOM\",\"type\":\"node\",\"instanceArgs\":{\"namespace\":\"html\",\"tag\":\"p\"},\"children\":[]}]}]}]}]},{\"props\":{\"className\":\"field interact-widget\"},\"nodeType\":\"DOM\",\"type\":\"node\",\"instanceArgs\":{\"namespace\":\"html\",\"tag\":\"div\"},\"children\":[{\"props\":{},\"nodeType\":\"Scope\",\"type\":\"node\",\"instanceArgs\":{\"imports\":{\"data\":[{\"name\":\"knockout\",\"type\":\"js\",\"url\":\"\\/assetserver\\/f848bd002af2052b634cac1eb2affe109cbba3ba-knockout.js\"},{\"name\":\"knockout_punches\",\"type\":\"js\",\"url\":\"\\/assetserver\\/31ecefdc4553d90f2aa48f9261b2f16dfc2d359b-knockout_punches.js\"},{\"name\":null,\"type\":\"js\",\"url\":\"\\/assetserver\\/f2c8ad3910f87ab7e0acf2b3cfd5913e15d66f87-all.js\"},{\"name\":null,\"type\":\"css\",\"url\":\"\\/assetserver\\/dae29c5c6cb77b6ac0bed0cefad4137f69351557-style.css\"},{\"name\":null,\"type\":\"css\",\"url\":\"\\/assetserver\\/5f021a427ae3fef2ec76433c67544a048a5b7e8c-bulma_confined.min.css\"}],\"type\":\"async_block\"},\"id\":\"15895758726710654535\",\"handlers\":{\"changes\":[\"(function (val){return (val!=this.model[\\\"changes\\\"]()) ? (this.valueFromJulia[\\\"changes\\\"]=true, this.model[\\\"changes\\\"](val)) : undefined})\"],\"index\":[\"(function (val){return (val!=this.model[\\\"index\\\"]()) ? (this.valueFromJulia[\\\"index\\\"]=true, this.model[\\\"index\\\"](val)) : undefined})\"]},\"systemjs_options\":null,\"mount_callbacks\":[\"function () {\\n    var handler = (function (ko, koPunches) {\\n    ko.punches.enableAll();\\n    ko.bindingHandlers.numericValue = {\\n        init: function(element, valueAccessor, allBindings, data, context) {\\n            var stringified = ko.observable(ko.unwrap(valueAccessor()));\\n            stringified.subscribe(function(value) {\\n                var val = parseFloat(value);\\n                if (!isNaN(val)) {\\n                    valueAccessor()(val);\\n                }\\n            });\\n            valueAccessor().subscribe(function(value) {\\n                var str = JSON.stringify(value);\\n                if ((str == \\\"0\\\") && ([\\\"-0\\\", \\\"-0.\\\"].indexOf(stringified()) >= 0))\\n                     return;\\n                 if ([\\\"null\\\", \\\"\\\"].indexOf(str) >= 0)\\n                     return;\\n                stringified(str);\\n            });\\n            ko.applyBindingsToNode(\\n                element,\\n                {\\n                    value: stringified,\\n                    valueUpdate: allBindings.get('valueUpdate'),\\n                },\\n                context,\\n            );\\n        }\\n    };\\n    var json_data = {\\\"formatted_vals\\\":[\\\"0.1\\\",\\\"0.102041\\\",\\\"0.104082\\\",\\\"0.106122\\\",\\\"0.108163\\\",\\\"0.110204\\\",\\\"0.112245\\\",\\\"0.114286\\\",\\\"0.116327\\\",\\\"0.118367\\\",\\\"0.120408\\\",\\\"0.122449\\\",\\\"0.12449\\\",\\\"0.126531\\\",\\\"0.128571\\\",\\\"0.130612\\\",\\\"0.132653\\\",\\\"0.134694\\\",\\\"0.136735\\\",\\\"0.138776\\\",\\\"0.140816\\\",\\\"0.142857\\\",\\\"0.144898\\\",\\\"0.146939\\\",\\\"0.14898\\\",\\\"0.15102\\\",\\\"0.153061\\\",\\\"0.155102\\\",\\\"0.157143\\\",\\\"0.159184\\\",\\\"0.161224\\\",\\\"0.163265\\\",\\\"0.165306\\\",\\\"0.167347\\\",\\\"0.169388\\\",\\\"0.171429\\\",\\\"0.173469\\\",\\\"0.17551\\\",\\\"0.177551\\\",\\\"0.179592\\\",\\\"0.181633\\\",\\\"0.183673\\\",\\\"0.185714\\\",\\\"0.187755\\\",\\\"0.189796\\\",\\\"0.191837\\\",\\\"0.193878\\\",\\\"0.195918\\\",\\\"0.197959\\\",\\\"0.2\\\"],\\\"changes\\\":WebIO.getval({\\\"name\\\":\\\"changes\\\",\\\"scope\\\":\\\"15895758726710654535\\\",\\\"id\\\":\\\"ob_18\\\",\\\"type\\\":\\\"observable\\\"}),\\\"index\\\":WebIO.getval({\\\"name\\\":\\\"index\\\",\\\"scope\\\":\\\"15895758726710654535\\\",\\\"id\\\":\\\"ob_17\\\",\\\"type\\\":\\\"observable\\\"})};\\n    var self = this;\\n    function AppViewModel() {\\n        for (var key in json_data) {\\n            var el = json_data[key];\\n            this[key] = Array.isArray(el) ? ko.observableArray(el) : ko.observable(el);\\n        }\\n        \\n        [this[\\\"formatted_val\\\"]=ko.computed(    function(){\\n        return this.formatted_vals()[parseInt(this.index())-(1)];\\n    }\\n,this)]\\n        [this[\\\"changes\\\"].subscribe((function (val){!(this.valueFromJulia[\\\"changes\\\"]) ? (WebIO.setval({\\\"name\\\":\\\"changes\\\",\\\"scope\\\":\\\"15895758726710654535\\\",\\\"id\\\":\\\"ob_18\\\",\\\"type\\\":\\\"observable\\\"},val)) : undefined; return this.valueFromJulia[\\\"changes\\\"]=false}),self),this[\\\"index\\\"].subscribe((function (val){!(this.valueFromJulia[\\\"index\\\"]) ? (WebIO.setval({\\\"name\\\":\\\"index\\\",\\\"scope\\\":\\\"15895758726710654535\\\",\\\"id\\\":\\\"ob_17\\\",\\\"type\\\":\\\"observable\\\"},val)) : undefined; return this.valueFromJulia[\\\"index\\\"]=false}),self)]\\n        \\n    }\\n    self.model = new AppViewModel();\\n    self.valueFromJulia = {};\\n    for (var key in json_data) {\\n        self.valueFromJulia[key] = false;\\n    }\\n    ko.applyBindings(self.model, self.dom);\\n}\\n);\\n    (WebIO.importBlock({\\\"data\\\":[{\\\"name\\\":\\\"knockout\\\",\\\"type\\\":\\\"js\\\",\\\"url\\\":\\\"\\/assetserver\\/f848bd002af2052b634cac1eb2affe109cbba3ba-knockout.js\\\"},{\\\"name\\\":\\\"knockout_punches\\\",\\\"type\\\":\\\"js\\\",\\\"url\\\":\\\"\\/assetserver\\/31ecefdc4553d90f2aa48f9261b2f16dfc2d359b-knockout_punches.js\\\"}],\\\"type\\\":\\\"async_block\\\"})).then((imports) => handler.apply(this, imports));\\n}\\n\"],\"observables\":{\"changes\":{\"sync\":false,\"id\":\"ob_18\",\"value\":0},\"index\":{\"sync\":true,\"id\":\"ob_17\",\"value\":25}}},\"children\":[{\"props\":{\"className\":\"interact-flex-row interact-widget\"},\"nodeType\":\"DOM\",\"type\":\"node\",\"instanceArgs\":{\"namespace\":\"html\",\"tag\":\"div\"},\"children\":[{\"props\":{\"className\":\"interact-flex-row-left\"},\"nodeType\":\"DOM\",\"type\":\"node\",\"instanceArgs\":{\"namespace\":\"html\",\"tag\":\"div\"},\"children\":[{\"props\":{\"className\":\"interact \",\"style\":{\"padding\":\"5px 10px 0px 10px\"}},\"nodeType\":\"DOM\",\"type\":\"node\",\"instanceArgs\":{\"namespace\":\"html\",\"tag\":\"label\"},\"children\":[\"r\"]}]},{\"props\":{\"className\":\"interact-flex-row-center\"},\"nodeType\":\"DOM\",\"type\":\"node\",\"instanceArgs\":{\"namespace\":\"html\",\"tag\":\"div\"},\"children\":[{\"props\":{\"max\":50,\"min\":1,\"attributes\":{\"type\":\"range\",\"data-bind\":\"numericValue: index, valueUpdate: 'input', event: {change: function (){this.changes(this.changes()+1)}}\",\"orient\":\"horizontal\"},\"step\":1,\"className\":\"slider slider is-fullwidth\",\"style\":{}},\"nodeType\":\"DOM\",\"type\":\"node\",\"instanceArgs\":{\"namespace\":\"html\",\"tag\":\"input\"},\"children\":[]}]},{\"props\":{\"className\":\"interact-flex-row-right\"},\"nodeType\":\"DOM\",\"type\":\"node\",\"instanceArgs\":{\"namespace\":\"html\",\"tag\":\"div\"},\"children\":[{\"props\":{\"attributes\":{\"data-bind\":\"text: formatted_val\"}},\"nodeType\":\"DOM\",\"type\":\"node\",\"instanceArgs\":{\"namespace\":\"html\",\"tag\":\"p\"},\"children\":[]}]}]}]}]},{\"props\":{},\"nodeType\":\"Scope\",\"type\":\"node\",\"instanceArgs\":{\"imports\":{\"data\":[],\"type\":\"async_block\"},\"id\":\"13843434011072061718\",\"handlers\":{},\"systemjs_options\":null,\"mount_callbacks\":[],\"observables\":{\"obs-node\":{\"sync\":false,\"id\":\"ob_22\",\"value\":{\"props\":{\"className\":\"interact-flex-row interact-widget\"},\"nodeType\":\"DOM\",\"type\":\"node\",\"instanceArgs\":{\"namespace\":\"html\",\"tag\":\"div\"},\"children\":[{\"props\":{\"setInnerHtml\":\"<?xml version=\\\"1.0\\\" encoding=\\\"utf-8\\\"?>\\n<svg xmlns=\\\"http:\\/\\/www.w3.org\\/2000\\/svg\\\" xmlns:xlink=\\\"http:\\/\\/www.w3.org\\/1999\\/xlink\\\" width=\\\"900\\\" height=\\\"400\\\" viewBox=\\\"0 0 3600 1600\\\">\\n<defs>\\n  <clipPath id=\\\"clip8200\\\">\\n    <rect x=\\\"0\\\" y=\\\"0\\\" width=\\\"3600\\\" height=\\\"1600\\\"\\/>\\n  <\\/clipPath>\\n<\\/defs>\\n<path clip-path=\\\"url(#clip8200)\\\" d=\\\"\\nM0 1600 L3600 1600 L3600 0 L0 0  Z\\n  \\\" fill=\\\"#ffffff\\\" fill-rule=\\\"evenodd\\\" fill-opacity=\\\"1\\\"\\/>\\n<defs>\\n  <clipPath id=\\\"clip8201\\\">\\n    <rect x=\\\"720\\\" y=\\\"0\\\" width=\\\"2521\\\" height=\\\"1600\\\"\\/>\\n  <\\/clipPath>\\n<\\/defs>\\n<path clip-path=\\\"url(#clip8200)\\\" d=\\\"\\nM165.898 1498.65 L3552.76 1498.65 L3552.76 47.2441 L165.898 47.2441  Z\\n  \\\" fill=\\\"#ffffff\\\" fill-rule=\\\"evenodd\\\" fill-opacity=\\\"1\\\"\\/>\\n<defs>\\n  <clipPath id=\\\"clip8202\\\">\\n    <rect x=\\\"165\\\" y=\\\"47\\\" width=\\\"3388\\\" height=\\\"1452\\\"\\/>\\n  <\\/clipPath>\\n<\\/defs>\\n<polyline clip-path=\\\"url(#clip8202)\\\" style=\\\"stroke:#000000; stroke-width:2; stroke-opacity:0.1; fill:none\\\" points=\\\"\\n  165.898,1498.65 165.898,47.2441 \\n  \\\"\\/>\\n<polyline clip-path=\\\"url(#clip8202)\\\" style=\\\"stroke:#000000; stroke-width:2; stroke-opacity:0.1; fill:none\\\" points=\\\"\\n  843.27,1498.65 843.27,47.2441 \\n  \\\"\\/>\\n<polyline clip-path=\\\"url(#clip8202)\\\" style=\\\"stroke:#000000; stroke-width:2; stroke-opacity:0.1; fill:none\\\" points=\\\"\\n  1520.64,1498.65 1520.64,47.2441 \\n  \\\"\\/>\\n<polyline clip-path=\\\"url(#clip8202)\\\" style=\\\"stroke:#000000; stroke-width:2; stroke-opacity:0.1; fill:none\\\" points=\\\"\\n  2198.01,1498.65 2198.01,47.2441 \\n  \\\"\\/>\\n<polyline clip-path=\\\"url(#clip8202)\\\" style=\\\"stroke:#000000; stroke-width:2; stroke-opacity:0.1; fill:none\\\" points=\\\"\\n  2875.38,1498.65 2875.38,47.2441 \\n  \\\"\\/>\\n<polyline clip-path=\\\"url(#clip8202)\\\" style=\\\"stroke:#000000; stroke-width:2; stroke-opacity:0.1; fill:none\\\" points=\\\"\\n  3552.76,1498.65 3552.76,47.2441 \\n  \\\"\\/>\\n<polyline clip-path=\\\"url(#clip8202)\\\" style=\\\"stroke:#000000; stroke-width:2; stroke-opacity:0.1; fill:none\\\" points=\\\"\\n  165.898,1498.65 3552.76,1498.65 \\n  \\\"\\/>\\n<polyline clip-path=\\\"url(#clip8202)\\\" style=\\\"stroke:#000000; stroke-width:2; stroke-opacity:0.1; fill:none\\\" points=\\\"\\n  165.898,1208.37 3552.76,1208.37 \\n  \\\"\\/>\\n<polyline clip-path=\\\"url(#clip8202)\\\" style=\\\"stroke:#000000; stroke-width:2; stroke-opacity:0.1; fill:none\\\" points=\\\"\\n  165.898,918.089 3552.76,918.089 \\n  \\\"\\/>\\n<polyline clip-path=\\\"url(#clip8202)\\\" style=\\\"stroke:#000000; stroke-width:2; stroke-opacity:0.1; fill:none\\\" points=\\\"\\n  165.898,627.807 3552.76,627.807 \\n  \\\"\\/>\\n<polyline clip-path=\\\"url(#clip8202)\\\" style=\\\"stroke:#000000; stroke-width:2; stroke-opacity:0.1; fill:none\\\" points=\\\"\\n  165.898,337.526 3552.76,337.526 \\n  \\\"\\/>\\n<polyline clip-path=\\\"url(#clip8202)\\\" style=\\\"stroke:#000000; stroke-width:2; stroke-opacity:0.1; fill:none\\\" points=\\\"\\n  165.898,47.2441 3552.76,47.2441 \\n  \\\"\\/>\\n<polyline clip-path=\\\"url(#clip8200)\\\" style=\\\"stroke:#000000; stroke-width:4; stroke-opacity:1; fill:none\\\" points=\\\"\\n  165.898,1498.65 3552.76,1498.65 \\n  \\\"\\/>\\n<polyline clip-path=\\\"url(#clip8200)\\\" style=\\\"stroke:#000000; stroke-width:4; stroke-opacity:1; fill:none\\\" points=\\\"\\n  165.898,1498.65 165.898,47.2441 \\n  \\\"\\/>\\n<polyline clip-path=\\\"url(#clip8200)\\\" style=\\\"stroke:#000000; stroke-width:4; stroke-opacity:1; fill:none\\\" points=\\\"\\n  165.898,1498.65 165.898,1481.24 \\n  \\\"\\/>\\n<polyline clip-path=\\\"url(#clip8200)\\\" style=\\\"stroke:#000000; stroke-width:4; stroke-opacity:1; fill:none\\\" points=\\\"\\n  843.27,1498.65 843.27,1481.24 \\n  \\\"\\/>\\n<polyline clip-path=\\\"url(#clip8200)\\\" style=\\\"stroke:#000000; stroke-width:4; stroke-opacity:1; fill:none\\\" points=\\\"\\n  1520.64,1498.65 1520.64,1481.24 \\n  \\\"\\/>\\n<polyline clip-path=\\\"url(#clip8200)\\\" style=\\\"stroke:#000000; stroke-width:4; stroke-opacity:1; fill:none\\\" points=\\\"\\n  2198.01,1498.65 2198.01,1481.24 \\n  \\\"\\/>\\n<polyline clip-path=\\\"url(#clip8200)\\\" style=\\\"stroke:#000000; stroke-width:4; stroke-opacity:1; fill:none\\\" points=\\\"\\n  2875.38,1498.65 2875.38,1481.24 \\n  \\\"\\/>\\n<polyline clip-path=\\\"url(#clip8200)\\\" style=\\\"stroke:#000000; stroke-width:4; stroke-opacity:1; fill:none\\\" points=\\\"\\n  3552.76,1498.65 3552.76,1481.24 \\n  \\\"\\/>\\n<polyline clip-path=\\\"url(#clip8200)\\\" style=\\\"stroke:#000000; stroke-width:4; stroke-opacity:1; fill:none\\\" points=\\\"\\n  165.898,1498.65 206.54,1498.65 \\n  \\\"\\/>\\n<polyline clip-path=\\\"url(#clip8200)\\\" style=\\\"stroke:#000000; stroke-width:4; stroke-opacity:1; fill:none\\\" points=\\\"\\n  165.898,1208.37 206.54,1208.37 \\n  \\\"\\/>\\n<polyline clip-path=\\\"url(#clip8200)\\\" style=\\\"stroke:#000000; stroke-width:4; stroke-opacity:1; fill:none\\\" points=\\\"\\n  165.898,918.089 206.54,918.089 \\n  \\\"\\/>\\n<polyline clip-path=\\\"url(#clip8200)\\\" style=\\\"stroke:#000000; stroke-width:4; stroke-opacity:1; fill:none\\\" points=\\\"\\n  165.898,627.807 206.54,627.807 \\n  \\\"\\/>\\n<polyline clip-path=\\\"url(#clip8200)\\\" style=\\\"stroke:#000000; stroke-width:4; stroke-opacity:1; fill:none\\\" points=\\\"\\n  165.898,337.526 206.54,337.526 \\n  \\\"\\/>\\n<polyline clip-path=\\\"url(#clip8200)\\\" style=\\\"stroke:#000000; stroke-width:4; stroke-opacity:1; fill:none\\\" points=\\\"\\n  165.898,47.2441 206.54,47.2441 \\n  \\\"\\/>\\n<g clip-path=\\\"url(#clip8200)\\\">\\n<text style=\\\"fill:#000000; fill-opacity:1; font-family:Arial,Helvetica Neue,Helvetica,sans-serif; font-size:48px; text-anchor:middle;\\\" transform=\\\"rotate(0, 165.898, 1558.65)\\\" x=\\\"165.898\\\" y=\\\"1558.65\\\">0.0<\\/text>\\n<\\/g>\\n<g clip-path=\\\"url(#clip8200)\\\">\\n<text style=\\\"fill:#000000; fill-opacity:1; font-family:Arial,Helvetica Neue,Helvetica,sans-serif; font-size:48px; text-anchor:middle;\\\" transform=\\\"rotate(0, 843.27, 1558.65)\\\" x=\\\"843.27\\\" y=\\\"1558.65\\\">0.2<\\/text>\\n<\\/g>\\n<g clip-path=\\\"url(#clip8200)\\\">\\n<text style=\\\"fill:#000000; fill-opacity:1; font-family:Arial,Helvetica Neue,Helvetica,sans-serif; font-size:48px; text-anchor:middle;\\\" transform=\\\"rotate(0, 1520.64, 1558.65)\\\" x=\\\"1520.64\\\" y=\\\"1558.65\\\">0.4<\\/text>\\n<\\/g>\\n<g clip-path=\\\"url(#clip8200)\\\">\\n<text style=\\\"fill:#000000; fill-opacity:1; font-family:Arial,Helvetica Neue,Helvetica,sans-serif; font-size:48px; text-anchor:middle;\\\" transform=\\\"rotate(0, 2198.01, 1558.65)\\\" x=\\\"2198.01\\\" y=\\\"1558.65\\\">0.6<\\/text>\\n<\\/g>\\n<g clip-path=\\\"url(#clip8200)\\\">\\n<text style=\\\"fill:#000000; fill-opacity:1; font-family:Arial,Helvetica Neue,Helvetica,sans-serif; font-size:48px; text-anchor:middle;\\\" transform=\\\"rotate(0, 2875.38, 1558.65)\\\" x=\\\"2875.38\\\" y=\\\"1558.65\\\">0.8<\\/text>\\n<\\/g>\\n<g clip-path=\\\"url(#clip8200)\\\">\\n<text style=\\\"fill:#000000; fill-opacity:1; font-family:Arial,Helvetica Neue,Helvetica,sans-serif; font-size:48px; text-anchor:middle;\\\" transform=\\\"rotate(0, 3552.76, 1558.65)\\\" x=\\\"3552.76\\\" y=\\\"1558.65\\\">1.0<\\/text>\\n<\\/g>\\n<g clip-path=\\\"url(#clip8200)\\\">\\n<text style=\\\"fill:#000000; fill-opacity:1; font-family:Arial,Helvetica Neue,Helvetica,sans-serif; font-size:48px; text-anchor:end;\\\" transform=\\\"rotate(0, 129.898, 1516.15)\\\" x=\\\"129.898\\\" y=\\\"1516.15\\\">0.0<\\/text>\\n<\\/g>\\n<g clip-path=\\\"url(#clip8200)\\\">\\n<text style=\\\"fill:#000000; fill-opacity:1; font-family:Arial,Helvetica Neue,Helvetica,sans-serif; font-size:48px; text-anchor:end;\\\" transform=\\\"rotate(0, 129.898, 1225.87)\\\" x=\\\"129.898\\\" y=\\\"1225.87\\\">0.2<\\/text>\\n<\\/g>\\n<g clip-path=\\\"url(#clip8200)\\\">\\n<text style=\\\"fill:#000000; fill-opacity:1; font-family:Arial,Helvetica Neue,Helvetica,sans-serif; font-size:48px; text-anchor:end;\\\" transform=\\\"rotate(0, 129.898, 935.589)\\\" x=\\\"129.898\\\" y=\\\"935.589\\\">0.4<\\/text>\\n<\\/g>\\n<g clip-path=\\\"url(#clip8200)\\\">\\n<text style=\\\"fill:#000000; fill-opacity:1; font-family:Arial,Helvetica Neue,Helvetica,sans-serif; font-size:48px; text-anchor:end;\\\" transform=\\\"rotate(0, 129.898, 645.307)\\\" x=\\\"129.898\\\" y=\\\"645.307\\\">0.6<\\/text>\\n<\\/g>\\n<g clip-path=\\\"url(#clip8200)\\\">\\n<text style=\\\"fill:#000000; fill-opacity:1; font-family:Arial,Helvetica Neue,Helvetica,sans-serif; font-size:48px; text-anchor:end;\\\" transform=\\\"rotate(0, 129.898, 355.026)\\\" x=\\\"129.898\\\" y=\\\"355.026\\\">0.8<\\/text>\\n<\\/g>\\n<g clip-path=\\\"url(#clip8200)\\\">\\n<text style=\\\"fill:#000000; fill-opacity:1; font-family:Arial,Helvetica Neue,Helvetica,sans-serif; font-size:48px; text-anchor:end;\\\" transform=\\\"rotate(0, 129.898, 64.7441)\\\" x=\\\"129.898\\\" y=\\\"64.7441\\\">1.0<\\/text>\\n<\\/g>\\n<circle clip-path=\\\"url(#clip8202)\\\" cx=\\\"504.584\\\" cy=\\\"641.397\\\" r=\\\"14\\\" fill=\\\"#009af9\\\" fill-rule=\\\"evenodd\\\" fill-opacity=\\\"1\\\" stroke=\\\"#000000\\\" stroke-opacity=\\\"1\\\" stroke-width=\\\"3.2\\\"\\/>\\n<circle clip-path=\\\"url(#clip8202)\\\" cx=\\\"805.638\\\" cy=\\\"644.449\\\" r=\\\"14\\\" fill=\\\"#009af9\\\" fill-rule=\\\"evenodd\\\" fill-opacity=\\\"1\\\" stroke=\\\"#000000\\\" stroke-opacity=\\\"1\\\" stroke-width=\\\"3.2\\\"\\/>\\n<circle clip-path=\\\"url(#clip8202)\\\" cx=\\\"1106.69\\\" cy=\\\"1300.36\\\" r=\\\"14\\\" fill=\\\"#009af9\\\" fill-rule=\\\"evenodd\\\" fill-opacity=\\\"1\\\" stroke=\\\"#000000\\\" stroke-opacity=\\\"1\\\" stroke-width=\\\"3.2\\\"\\/>\\n<circle clip-path=\\\"url(#clip8202)\\\" cx=\\\"1407.75\\\" cy=\\\"782.354\\\" r=\\\"14\\\" fill=\\\"#009af9\\\" fill-rule=\\\"evenodd\\\" fill-opacity=\\\"1\\\" stroke=\\\"#000000\\\" stroke-opacity=\\\"1\\\" stroke-width=\\\"3.2\\\"\\/>\\n<circle clip-path=\\\"url(#clip8202)\\\" cx=\\\"1708.8\\\" cy=\\\"715.798\\\" r=\\\"14\\\" fill=\\\"#009af9\\\" fill-rule=\\\"evenodd\\\" fill-opacity=\\\"1\\\" stroke=\\\"#000000\\\" stroke-opacity=\\\"1\\\" stroke-width=\\\"3.2\\\"\\/>\\n<circle clip-path=\\\"url(#clip8202)\\\" cx=\\\"2009.85\\\" cy=\\\"756.296\\\" r=\\\"14\\\" fill=\\\"#009af9\\\" fill-rule=\\\"evenodd\\\" fill-opacity=\\\"1\\\" stroke=\\\"#000000\\\" stroke-opacity=\\\"1\\\" stroke-width=\\\"3.2\\\"\\/>\\n<circle clip-path=\\\"url(#clip8202)\\\" cx=\\\"2310.91\\\" cy=\\\"401.042\\\" r=\\\"14\\\" fill=\\\"#009af9\\\" fill-rule=\\\"evenodd\\\" fill-opacity=\\\"1\\\" stroke=\\\"#000000\\\" stroke-opacity=\\\"1\\\" stroke-width=\\\"3.2\\\"\\/>\\n<circle clip-path=\\\"url(#clip8202)\\\" cx=\\\"2611.96\\\" cy=\\\"606.502\\\" r=\\\"14\\\" fill=\\\"#009af9\\\" fill-rule=\\\"evenodd\\\" fill-opacity=\\\"1\\\" stroke=\\\"#000000\\\" stroke-opacity=\\\"1\\\" stroke-width=\\\"3.2\\\"\\/>\\n<circle clip-path=\\\"url(#clip8202)\\\" cx=\\\"2913.02\\\" cy=\\\"424.935\\\" r=\\\"14\\\" fill=\\\"#009af9\\\" fill-rule=\\\"evenodd\\\" fill-opacity=\\\"1\\\" stroke=\\\"#000000\\\" stroke-opacity=\\\"1\\\" stroke-width=\\\"3.2\\\"\\/>\\n<circle clip-path=\\\"url(#clip8202)\\\" cx=\\\"3214.07\\\" cy=\\\"797.712\\\" r=\\\"14\\\" fill=\\\"#009af9\\\" fill-rule=\\\"evenodd\\\" fill-opacity=\\\"1\\\" stroke=\\\"#000000\\\" stroke-opacity=\\\"1\\\" stroke-width=\\\"3.2\\\"\\/>\\n<path clip-path=\\\"url(#clip8202)\\\" d=\\\"\\nM165.898 1046.32 L182.917 1041.92 L199.937 1036.47 L216.956 1029.82 L233.976 1021.78 L250.995 1012.19 L268.014 1000.87 L285.034 987.654 L302.053 972.413 L319.072 955.029 \\n  L336.092 935.425 L353.111 913.565 L370.131 889.464 L387.15 863.192 L404.169 834.882 L421.189 804.734 L438.208 773.014 L455.228 740.058 L472.247 706.272 L489.266 672.151 \\n  L506.286 643.236 L523.305 651.81 L540.324 659.009 L557.344 664.062 L574.363 666.903 L591.383 667.571 L608.402 666.199 L625.421 663.018 L642.441 658.354 L659.46 652.625 \\n  L676.48 646.332 L693.499 640.044 L710.518 634.385 L727.538 630.009 L744.557 627.586 L761.577 627.773 L778.596 631.193 L795.615 638.478 L812.635 664.817 L829.654 716.122 \\n  L846.673 770.644 L863.693 827.299 L880.712 885.06 L897.732 942.86 L914.751 999.615 L931.77 1054.25 L948.79 1105.71 L965.809 1153.01 L982.829 1195.27 L999.848 1231.71 \\n  L1016.87 1261.67 L1033.89 1284.67 L1050.91 1300.4 L1067.93 1308.71 L1084.94 1309.66 L1101.96 1303.72 L1118.98 1315.93 L1136 1331.07 L1153.02 1338.82 L1170.04 1338.92 \\n  L1187.06 1331.31 L1204.08 1316.12 L1221.1 1293.66 L1238.12 1264.42 L1255.14 1229 L1272.16 1188.15 L1289.18 1142.75 L1306.2 1093.73 L1323.22 1042.1 L1340.24 988.887 \\n  L1357.26 935.149 L1374.27 881.92 L1391.29 830.223 L1408.31 783.485 L1425.33 771.086 L1442.35 762.953 L1459.37 757.331 L1476.39 753.728 L1493.41 751.649 L1510.43 750.604 \\n  L1527.45 750.125 L1544.47 749.786 L1561.49 749.222 L1578.51 748.143 L1595.53 746.34 L1612.55 743.695 L1629.57 740.178 L1646.58 735.845 L1663.6 730.834 L1680.62 725.354 \\n  L1697.64 719.727 L1714.66 726.353 L1731.68 755.64 L1748.7 784.328 L1765.72 811.463 L1782.74 836.305 L1799.76 858.179 L1816.78 876.483 L1833.8 890.699 L1850.82 900.397 \\n  L1867.84 905.253 L1884.86 905.049 L1901.88 899.683 L1918.89 889.17 L1935.91 873.645 L1952.93 853.358 L1969.95 828.676 L1986.97 800.08 L2003.99 768.321 L2021.01 756.511 \\n  L2038.03 754.159 L2055.05 748.832 L2072.07 740.236 L2089.09 728.242 L2106.11 712.838 L2123.13 694.133 L2140.15 672.356 L2157.17 647.853 L2174.19 621.075 L2191.2 592.569 \\n  L2208.22 562.959 L2225.24 532.932 L2242.26 503.208 L2259.28 474.527 L2276.3 447.618 L2293.32 423.202 L2310.34 403.251 L2327.36 418.046 L2344.38 438.415 L2361.4 461.132 \\n  L2378.42 485.379 L2395.44 510.323 L2412.46 535.13 L2429.48 558.976 L2446.5 581.08 L2463.52 600.722 L2480.53 617.267 L2497.55 630.183 L2514.57 639.06 L2531.59 643.616 \\n  L2548.61 643.714 L2565.63 639.36 L2582.65 630.711 L2599.67 618.107 L2616.69 611.876 L2633.71 627.21 L2650.73 638.996 L2667.75 646.636 L2684.77 649.904 L2701.79 648.725 \\n  L2718.81 643.171 L2735.83 633.455 L2752.84 619.926 L2769.86 603.056 L2786.88 583.427 L2803.9 561.713 L2820.92 538.659 L2837.94 515.059 L2854.96 491.731 L2871.98 469.495 \\n  L2889 449.157 L2906.02 431.6 L2923.04 438.394 L2940.06 463.468 L2957.08 491.491 L2974.1 521.702 L2991.12 553.36 L3008.14 585.697 L3025.15 617.943 L3042.17 649.343 \\n  L3059.19 679.179 L3076.21 706.792 L3093.23 731.596 L3110.25 753.097 L3127.27 770.9 L3144.29 784.719 L3161.31 794.378 L3178.33 799.817 L3195.35 801.096 L3212.37 799.007 \\n  L3229.39 832.455 L3246.41 869.223 L3263.43 903.857 L3280.45 935.977 L3297.47 965.306 L3314.48 991.658 L3331.5 1014.93 L3348.52 1035.09 L3365.54 1052.2 L3382.56 1066.35 \\n  L3399.58 1077.72 L3416.6 1086.51 L3433.62 1092.97 L3450.64 1097.36 L3467.66 1099.95 L3484.68 1101.02 L3501.7 1100.85 L3518.72 1099.7 L3535.74 1097.79 L3552.76 1095.35 \\n  L3552.76 445.242 L3535.74 457.383 L3518.72 470.878 L3501.7 485.757 L3484.68 502.028 L3467.66 519.664 L3450.64 538.599 L3433.62 558.727 L3416.6 579.893 L3399.58 601.894 \\n  L3382.56 624.474 L3365.54 647.331 L3348.52 670.113 L3331.5 692.426 L3314.48 713.843 L3297.47 733.914 L3280.45 752.172 L3263.43 768.152 L3246.41 781.402 L3229.39 791.476 \\n  L3212.37 792.981 L3195.35 753.899 L3178.33 713.468 L3161.31 672.957 L3144.29 633.034 L3127.27 594.374 L3110.25 557.647 L3093.23 523.502 L3076.21 492.55 L3059.19 465.343 \\n  L3042.17 442.354 L3025.15 423.964 L3008.14 410.445 L2991.12 401.951 L2974.1 398.507 L2957.08 400.008 L2940.06 406.207 L2923.04 416.667 L2906.02 416.183 L2889 398.613 \\n  L2871.98 385.257 L2854.96 376.536 L2837.94 372.609 L2820.92 373.491 L2803.9 379.052 L2786.88 389.028 L2769.86 403.024 L2752.84 420.531 L2735.83 440.935 L2718.81 463.542 \\n  L2701.79 487.592 L2684.77 512.287 L2667.75 536.814 L2650.73 560.367 L2633.71 582.158 L2616.69 601.224 L2599.67 592.29 L2582.65 570.59 L2565.63 546.703 L2548.61 521.417 \\n  L2531.59 495.525 L2514.57 469.833 L2497.55 445.144 L2480.53 422.233 L2463.52 401.826 L2446.5 384.572 L2429.48 371.032 L2412.46 361.655 L2395.44 356.766 L2378.42 356.558 \\n  L2361.4 361.087 L2344.38 370.264 L2327.36 383.841 L2310.34 398.98 L2293.32 386.7 L2276.3 377.276 L2259.28 372.482 L2242.26 372.651 L2225.24 377.961 L2208.22 388.444 \\n  L2191.2 403.996 L2174.19 424.374 L2157.17 449.21 L2140.15 478.016 L2123.13 510.206 L2106.11 545.107 L2089.09 581.979 L2072.07 620.035 L2055.05 658.46 L2038.03 696.427 \\n  L2021.01 733.067 L2003.99 755.498 L1986.97 752.906 L1969.95 748.208 L1952.93 742.08 L1935.91 735.04 L1918.89 727.591 L1901.88 720.208 L1884.86 713.32 L1867.84 707.299 \\n  L1850.82 702.444 L1833.8 698.97 L1816.78 697.008 L1799.76 696.6 L1782.74 697.7 L1765.72 700.185 L1748.7 703.861 L1731.68 708.467 L1714.66 713.531 L1697.64 696.282 \\n  L1680.62 667.623 L1663.6 640.462 L1646.58 615.644 L1629.57 593.915 L1612.55 575.965 L1595.53 562.414 L1578.51 553.803 L1561.49 550.579 L1544.47 553.085 L1527.45 561.552 \\n  L1510.43 576.089 L1493.41 596.678 L1476.39 623.171 L1459.37 655.286 L1442.35 692.611 L1425.33 734.584 L1408.31 779.215 L1391.29 796.018 L1374.27 813.768 L1357.26 835.103 \\n  L1340.24 860.066 L1323.22 888.539 L1306.2 920.256 L1289.18 954.808 L1272.16 991.646 L1255.14 1030.1 L1238.12 1069.38 L1221.1 1108.63 L1204.08 1146.89 L1187.06 1183.22 \\n  L1170.04 1216.62 L1153.02 1246.17 L1136 1270.95 L1118.98 1290.11 L1101.96 1293.07 L1084.94 1264.6 L1067.93 1230.08 L1050.91 1190.57 L1033.89 1147.05 L1016.87 1100.53 \\n  L999.848 1052.08 L982.829 1002.75 L965.809 953.618 L948.79 905.674 L931.77 859.846 L914.751 816.954 L897.732 777.692 L880.712 742.61 L863.693 712.104 L846.673 686.406 \\n  L829.654 665.579 L812.635 649.401 L795.615 616.752 L778.596 573.932 L761.577 536.29 L744.557 504.392 L727.538 478.601 L710.518 459.133 L693.499 446.065 L676.48 439.343 \\n  L659.46 438.789 L642.441 444.113 L625.421 454.924 L608.402 470.748 L591.383 491.045 L574.363 515.218 L557.344 542.641 L540.324 572.661 L523.305 604.612 L506.286 637.21 \\n  L489.266 631.172 L472.247 618.452 L455.228 604.352 L438.208 589.208 L421.189 573.342 L404.169 557.068 L387.15 540.689 L370.131 524.484 L353.111 508.701 L336.092 493.55 \\n  L319.072 479.204 L302.053 465.794 L285.034 453.412 L268.014 442.109 L250.995 431.906 L233.976 422.789 L216.956 414.724 L199.937 407.653 L182.917 401.509 L165.898 396.21 \\n   Z\\n  \\\" fill=\\\"#e26f46\\\" fill-rule=\\\"evenodd\\\" fill-opacity=\\\"0.5\\\"\\/>\\n<polyline clip-path=\\\"url(#clip8202)\\\" style=\\\"stroke:#e26f46; stroke-width:4; stroke-opacity:1; fill:none\\\" points=\\\"\\n  165.898,721.265 182.917,721.712 199.937,722.062 216.956,722.271 233.976,722.286 250.995,722.047 268.014,721.488 285.034,720.533 302.053,719.103 319.072,717.117 \\n  336.092,714.487 353.111,711.133 370.131,706.974 387.15,701.94 404.169,695.975 421.189,689.038 438.208,681.111 455.228,672.205 472.247,662.362 489.266,651.661 \\n  506.286,640.223 523.305,628.211 540.324,615.835 557.344,603.351 574.363,591.061 591.383,579.308 608.402,568.474 625.421,558.971 642.441,551.233 659.46,545.707 \\n  676.48,542.838 693.499,543.055 710.518,546.759 727.538,554.305 744.557,565.989 761.577,582.031 778.596,602.563 795.615,627.615 812.635,657.109 829.654,690.85 \\n  846.673,728.525 863.693,769.702 880.712,813.835 897.732,860.276 914.751,908.285 931.77,957.046 948.79,1005.69 965.809,1053.32 982.829,1099.01 999.848,1141.89 \\n  1016.87,1181.1 1033.89,1215.86 1050.91,1245.48 1067.93,1269.39 1084.94,1287.13 1101.96,1298.39 1118.98,1303.02 1136,1301.01 1153.02,1292.5 1170.04,1277.77 \\n  1187.06,1257.26 1204.08,1231.51 1221.1,1201.14 1238.12,1166.9 1255.14,1129.55 1272.16,1089.9 1289.18,1048.78 1306.2,1006.99 1323.22,965.318 1340.24,924.476 \\n  1357.26,885.126 1374.27,847.844 1391.29,813.12 1408.31,781.35 1425.33,752.835 1442.35,727.782 1459.37,706.309 1476.39,688.449 1493.41,674.164 1510.43,663.347 \\n  1527.45,655.838 1544.47,651.435 1561.49,649.9 1578.51,650.973 1595.53,654.377 1612.55,659.83 1629.57,667.046 1646.58,675.745 1663.6,685.648 1680.62,696.489 \\n  1697.64,708.004 1714.66,719.942 1731.68,732.053 1748.7,744.094 1765.72,755.824 1782.74,767.002 1799.76,777.389 1816.78,786.746 1833.8,794.835 1850.82,801.421 \\n  1867.84,806.276 1884.86,809.184 1901.88,809.945 1918.89,808.381 1935.91,804.343 1952.93,797.719 1969.95,788.442 1986.97,776.493 2003.99,761.91 2021.01,744.789 \\n  2038.03,725.293 2055.05,703.646 2072.07,680.136 2089.09,655.111 2106.11,628.973 2123.13,602.17 2140.15,575.186 2157.17,548.531 2174.19,522.725 2191.2,498.282 \\n  2208.22,475.702 2225.24,455.446 2242.26,437.93 2259.28,423.504 2276.3,412.447 2293.32,404.951 2310.34,401.115 2327.36,400.943 2344.38,404.339 2361.4,411.11 \\n  2378.42,420.968 2395.44,433.545 2412.46,448.392 2429.48,465.004 2446.5,482.826 2463.52,501.274 2480.53,519.75 2497.55,537.664 2514.57,554.446 2531.59,569.571 \\n  2548.61,582.566 2565.63,593.031 2582.65,600.651 2599.67,605.199 2616.69,606.55 2633.71,604.684 2650.73,599.681 2667.75,591.725 2684.77,581.096 2701.79,568.158 \\n  2718.81,553.356 2735.83,537.195 2752.84,520.228 2769.86,503.04 2786.88,486.227 2803.9,470.383 2820.92,456.075 2837.94,443.834 2854.96,434.133 2871.98,427.376 \\n  2889,423.885 2906.02,423.891 2923.04,427.531 2940.06,434.838 2957.08,445.749 2974.1,460.105 2991.12,477.655 3008.14,498.071 3025.15,520.954 3042.17,545.848 \\n  3059.19,572.261 3076.21,599.671 3093.23,627.549 3110.25,655.372 3127.27,682.637 3144.29,708.876 3161.31,733.667 3178.33,756.642 3195.35,777.497 3212.37,795.994 \\n  3229.39,811.965 3246.41,825.313 3263.43,836.005 3280.45,844.074 3297.47,849.61 3314.48,852.75 3331.5,853.677 3348.52,852.602 3365.54,849.763 3382.56,845.412 \\n  3399.58,839.806 3416.6,833.202 3433.62,825.848 3450.64,817.977 3467.66,809.805 3484.68,801.525 3501.7,793.305 3518.72,785.286 3535.74,777.587 3552.76,770.296 \\n  \\n  \\\"\\/>\\n<path clip-path=\\\"url(#clip8200)\\\" d=\\\"\\nM2699.54 384.204 L3444.76 384.204 L3444.76 202.764 L2699.54 202.764  Z\\n  \\\" fill=\\\"#ffffff\\\" fill-rule=\\\"evenodd\\\" fill-opacity=\\\"1\\\"\\/>\\n<polyline clip-path=\\\"url(#clip8200)\\\" style=\\\"stroke:#000000; stroke-width:4; stroke-opacity:1; fill:none\\\" points=\\\"\\n  2699.54,384.204 3444.76,384.204 3444.76,202.764 2699.54,202.764 2699.54,384.204 \\n  \\\"\\/>\\n<circle clip-path=\\\"url(#clip8200)\\\" cx=\\\"2861.54\\\" cy=\\\"263.244\\\" r=\\\"21\\\" fill=\\\"#009af9\\\" fill-rule=\\\"evenodd\\\" fill-opacity=\\\"1\\\" stroke=\\\"#000000\\\" stroke-opacity=\\\"1\\\" stroke-width=\\\"3.2\\\"\\/>\\n<g clip-path=\\\"url(#clip8200)\\\">\\n<text style=\\\"fill:#000000; fill-opacity:1; font-family:Arial,Helvetica Neue,Helvetica,sans-serif; font-size:48px; text-anchor:start;\\\" transform=\\\"rotate(0, 2987.54, 280.744)\\\" x=\\\"2987.54\\\" y=\\\"280.744\\\">data<\\/text>\\n<\\/g>\\n<polyline clip-path=\\\"url(#clip8200)\\\" style=\\\"stroke:#e26f46; stroke-width:4; stroke-opacity:1; fill:none\\\" points=\\\"\\n  2735.54,323.724 2951.54,323.724 \\n  \\\"\\/>\\n<g clip-path=\\\"url(#clip8200)\\\">\\n<text style=\\\"fill:#000000; fill-opacity:1; font-family:Arial,Helvetica Neue,Helvetica,sans-serif; font-size:48px; text-anchor:start;\\\" transform=\\\"rotate(0, 2987.54, 341.224)\\\" x=\\\"2987.54\\\" y=\\\"341.224\\\">Gaussian process<\\/text>\\n<\\/g>\\n<\\/svg>\\n\"},\"nodeType\":\"DOM\",\"type\":\"node\",\"instanceArgs\":{\"namespace\":\"html\",\"tag\":\"div\"},\"children\":[]}]}}}},\"children\":[{\"props\":{},\"nodeType\":\"ObservableNode\",\"type\":\"node\",\"instanceArgs\":{\"id\":\"ob_22\",\"name\":\"obs-node\"},\"children\":[]}]}]},\n",
       "            window,\n",
       "        );\n",
       "    } else {\n",
       "        document\n",
       "            .querySelector('[data-webio-mountpoint=\"9172130781233578586\"]')\n",
       "            .innerHTML = (\n",
       "                '<div style=\"padding: 1em; background-color: #f8d6da; border: 1px solid #f5c6cb\">' +\n",
       "                '<p><strong>WebIO not detected.</strong></p>' +\n",
       "                '<p>Please read ' +\n",
       "                '<a href=\"https://juliagizmos.github.io/WebIO.jl/latest/troubleshooting/not-detected/\" target=\"_blank\">the troubleshooting guide</a> ' +\n",
       "                'for more information on how to resolve this issue.</p>' +\n",
       "                '<p><a href=\"https://juliagizmos.github.io/WebIO.jl/latest/troubleshooting/not-detected/\" target=\"_blank\">https://juliagizmos.github.io/WebIO.jl/latest/troubleshooting/not-detected/</a></p>' +\n",
       "                '</div>'\n",
       "            );\n",
       "    }\n",
       "    </script>\n",
       "</div>\n"
      ],
      "text/plain": [
       "Node{WebIO.DOM}(WebIO.DOM(:html, :div), Any[Node{WebIO.DOM}(WebIO.DOM(:html, :div), Any[Scope(Node{WebIO.DOM}(WebIO.DOM(:html, :div), Any[Node{WebIO.DOM}(WebIO.DOM(:html, :div), Any[Node{WebIO.DOM}(WebIO.DOM(:html, :label), Any[\"s\"], Dict{Symbol,Any}(:className => \"interact \",:style => Dict{Any,Any}(:padding => \"5px 10px 0px 10px\")))], Dict{Symbol,Any}(:className => \"interact-flex-row-left\")), Node{WebIO.DOM}(WebIO.DOM(:html, :div), Any[Node{WebIO.DOM}(WebIO.DOM(:html, :input), Any[], Dict{Symbol,Any}(:max => 50,:min => 1,:attributes => Dict{Any,Any}(:type => \"range\",Symbol(\"data-bind\") => \"numericValue: index, valueUpdate: 'input', event: {change: function (){this.changes(this.changes()+1)}}\",\"orient\" => \"horizontal\"),:step => 1,:className => \"slider slider is-fullwidth\",:style => Dict{Any,Any}()))], Dict{Symbol,Any}(:className => \"interact-flex-row-center\")), Node{WebIO.DOM}(WebIO.DOM(:html, :div), Any[Node{WebIO.DOM}(WebIO.DOM(:html, :p), Any[], Dict{Symbol,Any}(:attributes => Dict(\"data-bind\" => \"text: formatted_val\")))], Dict{Symbol,Any}(:className => \"interact-flex-row-right\"))], Dict{Symbol,Any}(:className => \"interact-flex-row interact-widget\")), Dict{String,Tuple{Observables.AbstractObservable,Union{Nothing, Bool}}}(\"changes\" => (Observable{Int64} with 1 listeners. Value:\n",
       "0, nothing),\"index\" => (Observable{Any} with 2 listeners. Value:\n",
       "25, nothing)), Set(String[]), nothing, Asset[Asset(\"js\", \"knockout\", \"/home/juliohm/.julia/packages/Knockout/IP1uR/src/../assets/knockout.js\"), Asset(\"js\", \"knockout_punches\", \"/home/juliohm/.julia/packages/Knockout/IP1uR/src/../assets/knockout_punches.js\"), Asset(\"js\", nothing, \"/home/juliohm/.julia/packages/InteractBase/9mFwe/src/../assets/all.js\"), Asset(\"css\", nothing, \"/home/juliohm/.julia/packages/InteractBase/9mFwe/src/../assets/style.css\"), Asset(\"css\", nothing, \"/home/juliohm/.julia/packages/Interact/SbgIk/src/../assets/bulma_confined.min.css\")], Dict{Any,Any}(\"changes\" => Any[WebIO.JSString(\"(function (val){return (val!=this.model[\\\"changes\\\"]()) ? (this.valueFromJulia[\\\"changes\\\"]=true, this.model[\\\"changes\\\"](val)) : undefined})\")],\"index\" => Any[WebIO.JSString(\"(function (val){return (val!=this.model[\\\"index\\\"]()) ? (this.valueFromJulia[\\\"index\\\"]=true, this.model[\\\"index\\\"](val)) : undefined})\")]), WebIO.ConnectionPool(Channel{Any}(sz_max:32,sz_curr:0), Set(AbstractConnection[]), Base.GenericCondition{Base.AlwaysLockedST}(Base.InvasiveLinkedList{Task}(Task (runnable) @0x00007f516146a230, Task (runnable) @0x00007f516146a230), Base.AlwaysLockedST(1))), WebIO.JSString[WebIO.JSString(\"function () {\\n    var handler = (function (ko, koPunches) {\\n    ko.punches.enableAll();\\n    ko.bindingHandlers.numericValue = {\\n        init: function(element, valueAccessor, allBindings, data, context) {\\n            var stringified = ko.observable(ko.unwrap(valueAccessor()));\\n            stringified.subscribe(function(value) {\\n                var val = parseFloat(value);\\n                if (!isNaN(val)) {\\n                    valueAccessor()(val);\\n                }\\n            });\\n            valueAccessor().subscribe(function(value) {\\n                var str = JSON.stringify(value);\\n                if ((str == \\\"0\\\") && ([\\\"-0\\\", \\\"-0.\\\"].indexOf(stringified()) >= 0))\\n                     return;\\n                 if ([\\\"null\\\", \\\"\\\"].indexOf(str) >= 0)\\n                     return;\\n                stringified(str);\\n            });\\n            ko.applyBindingsToNode(\\n                element,\\n                {\\n                    value: stringified,\\n                    valueUpdate: allBindings.get('valueUpdate'),\\n                },\\n                context,\\n            );\\n        }\\n    };\\n    var json_data = {\\\"formatted_vals\\\":[\\\"0.0\\\",\\\"0.00204082\\\",\\\"0.00408163\\\",\\\"0.00612245\\\",\\\"0.00816327\\\",\\\"0.0102041\\\",\\\"0.0122449\\\",\\\"0.0142857\\\",\\\"0.0163265\\\",\\\"0.0183673\\\",\\\"0.0204082\\\",\\\"0.022449\\\",\\\"0.0244898\\\",\\\"0.0265306\\\",\\\"0.0285714\\\",\\\"0.0306122\\\",\\\"0.0326531\\\",\\\"0.0346939\\\",\\\"0.0367347\\\",\\\"0.0387755\\\",\\\"0.0408163\\\",\\\"0.0428571\\\",\\\"0.044898\\\",\\\"0.0469388\\\",\\\"0.0489796\\\",\\\"0.0510204\\\",\\\"0.0530612\\\",\\\"0.055102\\\",\\\"0.0571429\\\",\\\"0.0591837\\\",\\\"0.0612245\\\",\\\"0.0632653\\\",\\\"0.0653061\\\",\\\"0.0673469\\\",\\\"0.0693878\\\",\\\"0.0714286\\\",\\\"0.0734694\\\",\\\"0.0755102\\\",\\\"0.077551\\\",\\\"0.0795918\\\",\\\"0.0816327\\\",\\\"0.0836735\\\",\\\"0.0857143\\\",\\\"0.0877551\\\",\\\"0.0897959\\\",\\\"0.0918367\\\",\\\"0.0938776\\\",\\\"0.0959184\\\",\\\"0.0979592\\\",\\\"0.1\\\"],\\\"changes\\\":WebIO.getval({\\\"name\\\":\\\"changes\\\",\\\"scope\\\":\\\"1493092013962898336\\\",\\\"id\\\":\\\"ob_15\\\",\\\"type\\\":\\\"observable\\\"}),\\\"index\\\":WebIO.getval({\\\"name\\\":\\\"index\\\",\\\"scope\\\":\\\"1493092013962898336\\\",\\\"id\\\":\\\"ob_14\\\",\\\"type\\\":\\\"observable\\\"})};\\n    var self = this;\\n    function AppViewModel() {\\n        for (var key in json_data) {\\n            var el = json_data[key];\\n            this[key] = Array.isArray(el) ? ko.observableArray(el) : ko.observable(el);\\n        }\\n        \\n        [this[\\\"formatted_val\\\"]=ko.computed(    function(){\\n        return this.formatted_vals()[parseInt(this.index())-(1)];\\n    }\\n,this)]\\n        [this[\\\"changes\\\"].subscribe((function (val){!(this.valueFromJulia[\\\"changes\\\"]) ? (WebIO.setval({\\\"name\\\":\\\"changes\\\",\\\"scope\\\":\\\"1493092013962898336\\\",\\\"id\\\":\\\"ob_15\\\",\\\"type\\\":\\\"observable\\\"},val)) : undefined; return this.valueFromJulia[\\\"changes\\\"]=false}),self),this[\\\"index\\\"].subscribe((function (val){!(this.valueFromJulia[\\\"index\\\"]) ? (WebIO.setval({\\\"name\\\":\\\"index\\\",\\\"scope\\\":\\\"1493092013962898336\\\",\\\"id\\\":\\\"ob_14\\\",\\\"type\\\":\\\"observable\\\"},val)) : undefined; return this.valueFromJulia[\\\"index\\\"]=false}),self)]\\n        \\n    }\\n    self.model = new AppViewModel();\\n    self.valueFromJulia = {};\\n    for (var key in json_data) {\\n        self.valueFromJulia[key] = false;\\n    }\\n    ko.applyBindings(self.model, self.dom);\\n}\\n);\\n    (WebIO.importBlock({\\\"data\\\":[{\\\"name\\\":\\\"knockout\\\",\\\"type\\\":\\\"js\\\",\\\"url\\\":\\\"/assetserver/f848bd002af2052b634cac1eb2affe109cbba3ba-knockout.js\\\"},{\\\"name\\\":\\\"knockout_punches\\\",\\\"type\\\":\\\"js\\\",\\\"url\\\":\\\"/assetserver/31ecefdc4553d90f2aa48f9261b2f16dfc2d359b-knockout_punches.js\\\"}],\\\"type\\\":\\\"async_block\\\"})).then((imports) => handler.apply(this, imports));\\n}\\n\")])], Dict{Symbol,Any}(:className => \"field interact-widget\")), Node{WebIO.DOM}(WebIO.DOM(:html, :div), Any[Scope(Node{WebIO.DOM}(WebIO.DOM(:html, :div), Any[Node{WebIO.DOM}(WebIO.DOM(:html, :div), Any[Node{WebIO.DOM}(WebIO.DOM(:html, :label), Any[\"r\"], Dict{Symbol,Any}(:className => \"interact \",:style => Dict{Any,Any}(:padding => \"5px 10px 0px 10px\")))], Dict{Symbol,Any}(:className => \"interact-flex-row-left\")), Node{WebIO.DOM}(WebIO.DOM(:html, :div), Any[Node{WebIO.DOM}(WebIO.DOM(:html, :input), Any[], Dict{Symbol,Any}(:max => 50,:min => 1,:attributes => Dict{Any,Any}(:type => \"range\",Symbol(\"data-bind\") => \"numericValue: index, valueUpdate: 'input', event: {change: function (){this.changes(this.changes()+1)}}\",\"orient\" => \"horizontal\"),:step => 1,:className => \"slider slider is-fullwidth\",:style => Dict{Any,Any}()))], Dict{Symbol,Any}(:className => \"interact-flex-row-center\")), Node{WebIO.DOM}(WebIO.DOM(:html, :div), Any[Node{WebIO.DOM}(WebIO.DOM(:html, :p), Any[], Dict{Symbol,Any}(:attributes => Dict(\"data-bind\" => \"text: formatted_val\")))], Dict{Symbol,Any}(:className => \"interact-flex-row-right\"))], Dict{Symbol,Any}(:className => \"interact-flex-row interact-widget\")), Dict{String,Tuple{Observables.AbstractObservable,Union{Nothing, Bool}}}(\"changes\" => (Observable{Int64} with 1 listeners. Value:\n",
       "0, nothing),\"index\" => (Observable{Any} with 2 listeners. Value:\n",
       "25, nothing)), Set(String[]), nothing, Asset[Asset(\"js\", \"knockout\", \"/home/juliohm/.julia/packages/Knockout/IP1uR/src/../assets/knockout.js\"), Asset(\"js\", \"knockout_punches\", \"/home/juliohm/.julia/packages/Knockout/IP1uR/src/../assets/knockout_punches.js\"), Asset(\"js\", nothing, \"/home/juliohm/.julia/packages/InteractBase/9mFwe/src/../assets/all.js\"), Asset(\"css\", nothing, \"/home/juliohm/.julia/packages/InteractBase/9mFwe/src/../assets/style.css\"), Asset(\"css\", nothing, \"/home/juliohm/.julia/packages/Interact/SbgIk/src/../assets/bulma_confined.min.css\")], Dict{Any,Any}(\"changes\" => Any[WebIO.JSString(\"(function (val){return (val!=this.model[\\\"changes\\\"]()) ? (this.valueFromJulia[\\\"changes\\\"]=true, this.model[\\\"changes\\\"](val)) : undefined})\")],\"index\" => Any[WebIO.JSString(\"(function (val){return (val!=this.model[\\\"index\\\"]()) ? (this.valueFromJulia[\\\"index\\\"]=true, this.model[\\\"index\\\"](val)) : undefined})\")]), WebIO.ConnectionPool(Channel{Any}(sz_max:32,sz_curr:0), Set(AbstractConnection[]), Base.GenericCondition{Base.AlwaysLockedST}(Base.InvasiveLinkedList{Task}(Task (runnable) @0x00007f516146a4a0, Task (runnable) @0x00007f516146a4a0), Base.AlwaysLockedST(1))), WebIO.JSString[WebIO.JSString(\"function () {\\n    var handler = (function (ko, koPunches) {\\n    ko.punches.enableAll();\\n    ko.bindingHandlers.numericValue = {\\n        init: function(element, valueAccessor, allBindings, data, context) {\\n            var stringified = ko.observable(ko.unwrap(valueAccessor()));\\n            stringified.subscribe(function(value) {\\n                var val = parseFloat(value);\\n                if (!isNaN(val)) {\\n                    valueAccessor()(val);\\n                }\\n            });\\n            valueAccessor().subscribe(function(value) {\\n                var str = JSON.stringify(value);\\n                if ((str == \\\"0\\\") && ([\\\"-0\\\", \\\"-0.\\\"].indexOf(stringified()) >= 0))\\n                     return;\\n                 if ([\\\"null\\\", \\\"\\\"].indexOf(str) >= 0)\\n                     return;\\n                stringified(str);\\n            });\\n            ko.applyBindingsToNode(\\n                element,\\n                {\\n                    value: stringified,\\n                    valueUpdate: allBindings.get('valueUpdate'),\\n                },\\n                context,\\n            );\\n        }\\n    };\\n    var json_data = {\\\"formatted_vals\\\":[\\\"0.1\\\",\\\"0.102041\\\",\\\"0.104082\\\",\\\"0.106122\\\",\\\"0.108163\\\",\\\"0.110204\\\",\\\"0.112245\\\",\\\"0.114286\\\",\\\"0.116327\\\",\\\"0.118367\\\",\\\"0.120408\\\",\\\"0.122449\\\",\\\"0.12449\\\",\\\"0.126531\\\",\\\"0.128571\\\",\\\"0.130612\\\",\\\"0.132653\\\",\\\"0.134694\\\",\\\"0.136735\\\",\\\"0.138776\\\",\\\"0.140816\\\",\\\"0.142857\\\",\\\"0.144898\\\",\\\"0.146939\\\",\\\"0.14898\\\",\\\"0.15102\\\",\\\"0.153061\\\",\\\"0.155102\\\",\\\"0.157143\\\",\\\"0.159184\\\",\\\"0.161224\\\",\\\"0.163265\\\",\\\"0.165306\\\",\\\"0.167347\\\",\\\"0.169388\\\",\\\"0.171429\\\",\\\"0.173469\\\",\\\"0.17551\\\",\\\"0.177551\\\",\\\"0.179592\\\",\\\"0.181633\\\",\\\"0.183673\\\",\\\"0.185714\\\",\\\"0.187755\\\",\\\"0.189796\\\",\\\"0.191837\\\",\\\"0.193878\\\",\\\"0.195918\\\",\\\"0.197959\\\",\\\"0.2\\\"],\\\"changes\\\":WebIO.getval({\\\"name\\\":\\\"changes\\\",\\\"scope\\\":\\\"15895758726710654535\\\",\\\"id\\\":\\\"ob_18\\\",\\\"type\\\":\\\"observable\\\"}),\\\"index\\\":WebIO.getval({\\\"name\\\":\\\"index\\\",\\\"scope\\\":\\\"15895758726710654535\\\",\\\"id\\\":\\\"ob_17\\\",\\\"type\\\":\\\"observable\\\"})};\\n    var self = this;\\n    function AppViewModel() {\\n        for (var key in json_data) {\\n            var el = json_data[key];\\n            this[key] = Array.isArray(el) ? ko.observableArray(el) : ko.observable(el);\\n        }\\n        \\n        [this[\\\"formatted_val\\\"]=ko.computed(    function(){\\n        return this.formatted_vals()[parseInt(this.index())-(1)];\\n    }\\n,this)]\\n        [this[\\\"changes\\\"].subscribe((function (val){!(this.valueFromJulia[\\\"changes\\\"]) ? (WebIO.setval({\\\"name\\\":\\\"changes\\\",\\\"scope\\\":\\\"15895758726710654535\\\",\\\"id\\\":\\\"ob_18\\\",\\\"type\\\":\\\"observable\\\"},val)) : undefined; return this.valueFromJulia[\\\"changes\\\"]=false}),self),this[\\\"index\\\"].subscribe((function (val){!(this.valueFromJulia[\\\"index\\\"]) ? (WebIO.setval({\\\"name\\\":\\\"index\\\",\\\"scope\\\":\\\"15895758726710654535\\\",\\\"id\\\":\\\"ob_17\\\",\\\"type\\\":\\\"observable\\\"},val)) : undefined; return this.valueFromJulia[\\\"index\\\"]=false}),self)]\\n        \\n    }\\n    self.model = new AppViewModel();\\n    self.valueFromJulia = {};\\n    for (var key in json_data) {\\n        self.valueFromJulia[key] = false;\\n    }\\n    ko.applyBindings(self.model, self.dom);\\n}\\n);\\n    (WebIO.importBlock({\\\"data\\\":[{\\\"name\\\":\\\"knockout\\\",\\\"type\\\":\\\"js\\\",\\\"url\\\":\\\"/assetserver/f848bd002af2052b634cac1eb2affe109cbba3ba-knockout.js\\\"},{\\\"name\\\":\\\"knockout_punches\\\",\\\"type\\\":\\\"js\\\",\\\"url\\\":\\\"/assetserver/31ecefdc4553d90f2aa48f9261b2f16dfc2d359b-knockout_punches.js\\\"}],\\\"type\\\":\\\"async_block\\\"})).then((imports) => handler.apply(this, imports));\\n}\\n\")])], Dict{Symbol,Any}(:className => \"field interact-widget\")), Observable{Any} with 0 listeners. Value:\n",
       "Node{WebIO.DOM}(WebIO.DOM(:html, :div), Any[Plot{Plots.GRBackend() n=2}], Dict{Symbol,Any}(:className => \"interact-flex-row interact-widget\"))], Dict{Symbol,Any}())"
      ]
     },
     "execution_count": 5,
     "metadata": {
      "application/vnd.webio.node+json": {
       "kernelId": "fae46fb0-2edb-49c4-949e-fc793b3b9a1a"
      }
     },
     "output_type": "execute_result"
    }
   ],
   "source": [
    "using GeoStats\n",
    "using Interact\n",
    "\n",
    "# discretize the line segment for plotting\n",
    "n  = 200\n",
    "xs = range(0., stop=1, length=n)\n",
    "\n",
    "@manipulate for s=range(.0, stop=.1, length=50),\n",
    "                r=range(.1, stop=.2, length=50)\n",
    "    # spatial structure\n",
    "    γ = GaussianVariogram(sill=s, range=r)\n",
    "    \n",
    "    # create Gaussian process\n",
    "    ok = OrdinaryKriging(x', z, γ)\n",
    "    \n",
    "    # estimate mean and variance\n",
    "    μ = zeros(n)\n",
    "    σ² = zeros(n)\n",
    "    for (i,loc) in enumerate(xs)\n",
    "        μ[i], σ²[i] = predict(ok, [loc])\n",
    "    end\n",
    "    \n",
    "    σ = sqrt.(σ²)\n",
    "    \n",
    "    scatter(x, z, label=\"data\")\n",
    "    plot!(xs, μ, ribbon=σ, fillalpha=.5, label=\"Gaussian process\")\n",
    "end"
   ]
  },
  {
   "cell_type": "markdown",
   "metadata": {},
   "source": [
    "# Other generalizations\n",
    "\n",
    "- We can also have random fields with non-constant mean. In Universal Kriging, the mean is a polynomial on the coordinates of the problem up to a certain degree specified by the user. In External Drift Kriging, the mean can be any external variable (a.k.a. external drift).\n",
    "\n",
    "- All methods in GeoStats.jl accept general distance functions. We can for example use the Haversine distance to compute covariances between latitude/longitude coordinates directly.\n",
    "\n",
    "- Other methods for co-estimation and co-simulation will be available in future releases."
   ]
  }
 ],
 "metadata": {
  "@webio": {
   "lastCommId": "90cd134ee2d34cf599e1aa4b081abc10",
   "lastKernelId": "fae46fb0-2edb-49c4-949e-fc793b3b9a1a"
  },
  "kernelspec": {
   "display_name": "Julia 1.3.1",
   "language": "julia",
   "name": "julia-1.3"
  },
  "language_info": {
   "file_extension": ".jl",
   "mimetype": "application/julia",
   "name": "julia",
   "version": "1.3.1"
  }
 },
 "nbformat": 4,
 "nbformat_minor": 2
}
