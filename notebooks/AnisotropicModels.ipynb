{
 "cells": [
  {
   "cell_type": "markdown",
   "metadata": {},
   "source": [
    "# Anisotropic models\n",
    "\n",
    "In this tutorial, we demonstrate how to perform estimation with anisotropic variograms using GeoStats.jl.\n",
    "\n",
    "Before we proceed, please install the following packages:"
   ]
  },
  {
   "cell_type": "code",
   "execution_count": 1,
   "metadata": {},
   "outputs": [
    {
     "name": "stdout",
     "output_type": "stream",
     "text": [
      "\u001b[32m\u001b[1m  Updating\u001b[22m\u001b[39m registry at `~/.julia/registries/General`\n",
      "\u001b[32m\u001b[1m  Updating\u001b[22m\u001b[39m git-repo `https://github.com/JuliaRegistries/General.git`\n",
      "\u001b[?25l\u001b[2K\u001b[?25h\u001b[32m\u001b[1m Resolving\u001b[22m\u001b[39m package versions...\n",
      "\u001b[32m\u001b[1m  Updating\u001b[22m\u001b[39m `~/.julia/environments/v1.1/Project.toml`\n",
      "\u001b[90m [no changes]\u001b[39m\n",
      "\u001b[32m\u001b[1m  Updating\u001b[22m\u001b[39m `~/.julia/environments/v1.1/Manifest.toml`\n",
      "\u001b[90m [no changes]\u001b[39m\n"
     ]
    }
   ],
   "source": [
    "] add GeoStats Plots GR"
   ]
  },
  {
   "cell_type": "code",
   "execution_count": 2,
   "metadata": {},
   "outputs": [],
   "source": [
    "using Random; Random.seed!(2000); # make sure this tutorial is reproducible"
   ]
  },
  {
   "cell_type": "markdown",
   "metadata": {},
   "source": [
    "## Ellipsoid distance\n",
    "\n",
    "Anisotropy can be thought of as a deformation of space with an ellipsoid distance. The semiaxes of the ellipsoid determine the preferential directions of the field and their lengths characterize the anisotropy ratio. In GeoStats.jl, all variogram models (empirical and theoretical) support a custom distance function that\n",
    "can be used to model anisotropy.\n",
    "\n",
    "A variogram object $\\gamma$ can be evaluated as an isotropic model $\\gamma(h)$ or as a (possibly) anisotropic model $\\gamma(x,y)$. For the Euclidean distance (the default), these two operations match $\\gamma(x,y) = \\gamma(h)$ in all directions:"
   ]
  },
  {
   "cell_type": "code",
   "execution_count": 3,
   "metadata": {},
   "outputs": [
    {
     "data": {
      "text/plain": [
       "true"
      ]
     },
     "execution_count": 3,
     "metadata": {},
     "output_type": "execute_result"
    }
   ],
   "source": [
    "using GeoStats\n",
    "\n",
    "γ = GaussianVariogram()\n",
    "\n",
    "γ([1.,0.], [0.,0.]) ≈ γ(1.)"
   ]
  },
  {
   "cell_type": "markdown",
   "metadata": {},
   "source": [
    "If instead of an Euclidean ball, we use an ellipsoid with different semiaxes, the operation $\\gamma(x,y)$ becomes a function of the direction $x-y$. For example, we can create an ellipsoid distance aligned with the coordinate system where the major semiaxis has twice the size of the minor semiaxis:"
   ]
  },
  {
   "cell_type": "code",
   "execution_count": 4,
   "metadata": {},
   "outputs": [
    {
     "data": {
      "text/plain": [
       "true"
      ]
     },
     "execution_count": 4,
     "metadata": {},
     "output_type": "execute_result"
    }
   ],
   "source": [
    "using Distances\n",
    "\n",
    "γaniso = GaussianVariogram(distance=Ellipsoidal([2.,1.],[0.]))\n",
    "\n",
    "γaniso([1.,0.],[0.,0.]) ≠ γaniso([0.,1.],[0.,0.])"
   ]
  },
  {
   "cell_type": "markdown",
   "metadata": {},
   "source": [
    "## Effects on estimation\n",
    "\n",
    "Now that we know how to construct anisotropic variograms, we can investigate the effect of varying the anisotropy ratio and alignement angle on estimation results. We start by generating some random data:"
   ]
  },
  {
   "cell_type": "code",
   "execution_count": 5,
   "metadata": {},
   "outputs": [
    {
     "data": {
      "text/plain": [
       "50 PointSetData{Float64,2}\n",
       "  variables\n",
       "    └─z (Float64)"
      ]
     },
     "execution_count": 5,
     "metadata": {},
     "output_type": "execute_result"
    }
   ],
   "source": [
    "dim, nobs = 2, 50\n",
    "\n",
    "X = 100*rand(dim, nobs)\n",
    "z = rand(nobs)\n",
    "\n",
    "geodata = PointSetData(Dict(:z => z), X)"
   ]
  },
  {
   "cell_type": "code",
   "execution_count": 6,
   "metadata": {},
   "outputs": [
    {
     "data": {
      "image/svg+xml": [
       "<?xml version=\"1.0\" encoding=\"utf-8\"?>\n",
       "<svg xmlns=\"http://www.w3.org/2000/svg\" xmlns:xlink=\"http://www.w3.org/1999/xlink\" width=\"600\" height=\"400\" viewBox=\"0 0 2400 1600\">\n",
       "<defs>\n",
       "  <clipPath id=\"clip8500\">\n",
       "    <rect x=\"0\" y=\"0\" width=\"2400\" height=\"1600\"/>\n",
       "  </clipPath>\n",
       "</defs>\n",
       "<polygon clip-path=\"url(#clip8500)\" points=\"\n",
       "0,1600 2400,1600 2400,0 0,0 \n",
       "  \" fill=\"#ffffff\" fill-rule=\"evenodd\" fill-opacity=\"1\"/>\n",
       "<defs>\n",
       "  <clipPath id=\"clip8501\">\n",
       "    <rect x=\"480\" y=\"0\" width=\"1681\" height=\"1600\"/>\n",
       "  </clipPath>\n",
       "</defs>\n",
       "<polygon clip-path=\"url(#clip8500)\" points=\"\n",
       "469.153,1503.47 1786.88,1503.47 1786.88,125.984 469.153,125.984 \n",
       "  \" fill=\"#ffffff\" fill-rule=\"evenodd\" fill-opacity=\"1\"/>\n",
       "<defs>\n",
       "  <clipPath id=\"clip8502\">\n",
       "    <rect x=\"469\" y=\"125\" width=\"1319\" height=\"1378\"/>\n",
       "  </clipPath>\n",
       "</defs>\n",
       "<polyline clip-path=\"url(#clip8502)\" style=\"stroke:#000000; stroke-width:2; stroke-opacity:0.1; fill:none\" points=\"\n",
       "  719.261,1503.47 719.261,125.984 \n",
       "  \"/>\n",
       "<polyline clip-path=\"url(#clip8502)\" style=\"stroke:#000000; stroke-width:2; stroke-opacity:0.1; fill:none\" points=\"\n",
       "  988.378,1503.47 988.378,125.984 \n",
       "  \"/>\n",
       "<polyline clip-path=\"url(#clip8502)\" style=\"stroke:#000000; stroke-width:2; stroke-opacity:0.1; fill:none\" points=\"\n",
       "  1257.5,1503.47 1257.5,125.984 \n",
       "  \"/>\n",
       "<polyline clip-path=\"url(#clip8502)\" style=\"stroke:#000000; stroke-width:2; stroke-opacity:0.1; fill:none\" points=\"\n",
       "  1526.61,1503.47 1526.61,125.984 \n",
       "  \"/>\n",
       "<polyline clip-path=\"url(#clip8502)\" style=\"stroke:#000000; stroke-width:2; stroke-opacity:0.1; fill:none\" points=\"\n",
       "  469.153,1235.07 1786.88,1235.07 \n",
       "  \"/>\n",
       "<polyline clip-path=\"url(#clip8502)\" style=\"stroke:#000000; stroke-width:2; stroke-opacity:0.1; fill:none\" points=\"\n",
       "  469.153,965.949 1786.88,965.949 \n",
       "  \"/>\n",
       "<polyline clip-path=\"url(#clip8502)\" style=\"stroke:#000000; stroke-width:2; stroke-opacity:0.1; fill:none\" points=\"\n",
       "  469.153,696.832 1786.88,696.832 \n",
       "  \"/>\n",
       "<polyline clip-path=\"url(#clip8502)\" style=\"stroke:#000000; stroke-width:2; stroke-opacity:0.1; fill:none\" points=\"\n",
       "  469.153,427.715 1786.88,427.715 \n",
       "  \"/>\n",
       "<polyline clip-path=\"url(#clip8502)\" style=\"stroke:#000000; stroke-width:2; stroke-opacity:0.1; fill:none\" points=\"\n",
       "  469.153,158.598 1786.88,158.598 \n",
       "  \"/>\n",
       "<polyline clip-path=\"url(#clip8500)\" style=\"stroke:#000000; stroke-width:4; stroke-opacity:1; fill:none\" points=\"\n",
       "  469.153,1503.47 1786.88,1503.47 \n",
       "  \"/>\n",
       "<polyline clip-path=\"url(#clip8500)\" style=\"stroke:#000000; stroke-width:4; stroke-opacity:1; fill:none\" points=\"\n",
       "  469.153,1503.47 469.153,125.984 \n",
       "  \"/>\n",
       "<polyline clip-path=\"url(#clip8500)\" style=\"stroke:#000000; stroke-width:4; stroke-opacity:1; fill:none\" points=\"\n",
       "  719.261,1503.47 719.261,1482.81 \n",
       "  \"/>\n",
       "<polyline clip-path=\"url(#clip8500)\" style=\"stroke:#000000; stroke-width:4; stroke-opacity:1; fill:none\" points=\"\n",
       "  988.378,1503.47 988.378,1482.81 \n",
       "  \"/>\n",
       "<polyline clip-path=\"url(#clip8500)\" style=\"stroke:#000000; stroke-width:4; stroke-opacity:1; fill:none\" points=\"\n",
       "  1257.5,1503.47 1257.5,1482.81 \n",
       "  \"/>\n",
       "<polyline clip-path=\"url(#clip8500)\" style=\"stroke:#000000; stroke-width:4; stroke-opacity:1; fill:none\" points=\"\n",
       "  1526.61,1503.47 1526.61,1482.81 \n",
       "  \"/>\n",
       "<polyline clip-path=\"url(#clip8500)\" style=\"stroke:#000000; stroke-width:4; stroke-opacity:1; fill:none\" points=\"\n",
       "  469.153,1235.07 488.919,1235.07 \n",
       "  \"/>\n",
       "<polyline clip-path=\"url(#clip8500)\" style=\"stroke:#000000; stroke-width:4; stroke-opacity:1; fill:none\" points=\"\n",
       "  469.153,965.949 488.919,965.949 \n",
       "  \"/>\n",
       "<polyline clip-path=\"url(#clip8500)\" style=\"stroke:#000000; stroke-width:4; stroke-opacity:1; fill:none\" points=\"\n",
       "  469.153,696.832 488.919,696.832 \n",
       "  \"/>\n",
       "<polyline clip-path=\"url(#clip8500)\" style=\"stroke:#000000; stroke-width:4; stroke-opacity:1; fill:none\" points=\"\n",
       "  469.153,427.715 488.919,427.715 \n",
       "  \"/>\n",
       "<polyline clip-path=\"url(#clip8500)\" style=\"stroke:#000000; stroke-width:4; stroke-opacity:1; fill:none\" points=\"\n",
       "  469.153,158.598 488.919,158.598 \n",
       "  \"/>\n",
       "<g clip-path=\"url(#clip8500)\">\n",
       "<text style=\"fill:#000000; fill-opacity:1; font-family:Arial,Helvetica Neue,Helvetica,sans-serif; font-size:48px; text-anchor:middle;\" transform=\"rotate(0, 719.261, 1557.47)\" x=\"719.261\" y=\"1557.47\">20</text>\n",
       "</g>\n",
       "<g clip-path=\"url(#clip8500)\">\n",
       "<text style=\"fill:#000000; fill-opacity:1; font-family:Arial,Helvetica Neue,Helvetica,sans-serif; font-size:48px; text-anchor:middle;\" transform=\"rotate(0, 988.378, 1557.47)\" x=\"988.378\" y=\"1557.47\">40</text>\n",
       "</g>\n",
       "<g clip-path=\"url(#clip8500)\">\n",
       "<text style=\"fill:#000000; fill-opacity:1; font-family:Arial,Helvetica Neue,Helvetica,sans-serif; font-size:48px; text-anchor:middle;\" transform=\"rotate(0, 1257.5, 1557.47)\" x=\"1257.5\" y=\"1557.47\">60</text>\n",
       "</g>\n",
       "<g clip-path=\"url(#clip8500)\">\n",
       "<text style=\"fill:#000000; fill-opacity:1; font-family:Arial,Helvetica Neue,Helvetica,sans-serif; font-size:48px; text-anchor:middle;\" transform=\"rotate(0, 1526.61, 1557.47)\" x=\"1526.61\" y=\"1557.47\">80</text>\n",
       "</g>\n",
       "<g clip-path=\"url(#clip8500)\">\n",
       "<text style=\"fill:#000000; fill-opacity:1; font-family:Arial,Helvetica Neue,Helvetica,sans-serif; font-size:48px; text-anchor:end;\" transform=\"rotate(0, 445.153, 1252.57)\" x=\"445.153\" y=\"1252.57\">20</text>\n",
       "</g>\n",
       "<g clip-path=\"url(#clip8500)\">\n",
       "<text style=\"fill:#000000; fill-opacity:1; font-family:Arial,Helvetica Neue,Helvetica,sans-serif; font-size:48px; text-anchor:end;\" transform=\"rotate(0, 445.153, 983.449)\" x=\"445.153\" y=\"983.449\">40</text>\n",
       "</g>\n",
       "<g clip-path=\"url(#clip8500)\">\n",
       "<text style=\"fill:#000000; fill-opacity:1; font-family:Arial,Helvetica Neue,Helvetica,sans-serif; font-size:48px; text-anchor:end;\" transform=\"rotate(0, 445.153, 714.332)\" x=\"445.153\" y=\"714.332\">60</text>\n",
       "</g>\n",
       "<g clip-path=\"url(#clip8500)\">\n",
       "<text style=\"fill:#000000; fill-opacity:1; font-family:Arial,Helvetica Neue,Helvetica,sans-serif; font-size:48px; text-anchor:end;\" transform=\"rotate(0, 445.153, 445.215)\" x=\"445.153\" y=\"445.215\">80</text>\n",
       "</g>\n",
       "<g clip-path=\"url(#clip8500)\">\n",
       "<text style=\"fill:#000000; fill-opacity:1; font-family:Arial,Helvetica Neue,Helvetica,sans-serif; font-size:48px; text-anchor:end;\" transform=\"rotate(0, 445.153, 176.098)\" x=\"445.153\" y=\"176.098\">100</text>\n",
       "</g>\n",
       "<g clip-path=\"url(#clip8500)\">\n",
       "<text style=\"fill:#000000; fill-opacity:1; font-family:Arial,Helvetica Neue,Helvetica,sans-serif; font-size:84px; text-anchor:middle;\" transform=\"rotate(0, 1128.02, 73.2)\" x=\"1128.02\" y=\"73.2\">z</text>\n",
       "</g>\n",
       "<circle clip-path=\"url(#clip8502)\" style=\"fill:#000000; stroke:none; fill-opacity:1\" cx=\"1244.9\" cy=\"712.26\" r=\"10\"/>\n",
       "<circle clip-path=\"url(#clip8502)\" style=\"fill:#8b0202; stroke:none; fill-opacity:1\" cx=\"1244.9\" cy=\"712.26\" r=\"7\"/>\n",
       "<circle clip-path=\"url(#clip8502)\" style=\"fill:#000000; stroke:none; fill-opacity:1\" cx=\"633.975\" cy=\"840.11\" r=\"10\"/>\n",
       "<circle clip-path=\"url(#clip8502)\" style=\"fill:#ad726b; stroke:none; fill-opacity:1\" cx=\"633.975\" cy=\"840.11\" r=\"7\"/>\n",
       "<circle clip-path=\"url(#clip8502)\" style=\"fill:#000000; stroke:none; fill-opacity:1\" cx=\"1175.92\" cy=\"815.952\" r=\"10\"/>\n",
       "<circle clip-path=\"url(#clip8502)\" style=\"fill:#aa6862; stroke:none; fill-opacity:1\" cx=\"1175.92\" cy=\"815.952\" r=\"7\"/>\n",
       "<circle clip-path=\"url(#clip8502)\" style=\"fill:#000000; stroke:none; fill-opacity:1\" cx=\"1467.73\" cy=\"677.08\" r=\"10\"/>\n",
       "<circle clip-path=\"url(#clip8502)\" style=\"fill:#cad5c8; stroke:none; fill-opacity:1\" cx=\"1467.73\" cy=\"677.08\" r=\"7\"/>\n",
       "<circle clip-path=\"url(#clip8502)\" style=\"fill:#000000; stroke:none; fill-opacity:1\" cx=\"1445.58\" cy=\"854.348\" r=\"10\"/>\n",
       "<circle clip-path=\"url(#clip8502)\" style=\"fill:#c7d3ca; stroke:none; fill-opacity:1\" cx=\"1445.58\" cy=\"854.348\" r=\"7\"/>\n",
       "<circle clip-path=\"url(#clip8502)\" style=\"fill:#000000; stroke:none; fill-opacity:1\" cx=\"520.042\" cy=\"1137.33\" r=\"10\"/>\n",
       "<circle clip-path=\"url(#clip8502)\" style=\"fill:#9da7bd; stroke:none; fill-opacity:1\" cx=\"520.042\" cy=\"1137.33\" r=\"7\"/>\n",
       "<circle clip-path=\"url(#clip8502)\" style=\"fill:#000000; stroke:none; fill-opacity:1\" cx=\"1692.31\" cy=\"493.015\" r=\"10\"/>\n",
       "<circle clip-path=\"url(#clip8502)\" style=\"fill:#c0b2a7; stroke:none; fill-opacity:1\" cx=\"1692.31\" cy=\"493.015\" r=\"7\"/>\n",
       "<circle clip-path=\"url(#clip8502)\" style=\"fill:#000000; stroke:none; fill-opacity:1\" cx=\"1397.26\" cy=\"316.006\" r=\"10\"/>\n",
       "<circle clip-path=\"url(#clip8502)\" style=\"fill:#c7c9bd; stroke:none; fill-opacity:1\" cx=\"1397.26\" cy=\"316.006\" r=\"7\"/>\n",
       "<circle clip-path=\"url(#clip8502)\" style=\"fill:#000000; stroke:none; fill-opacity:1\" cx=\"519.776\" cy=\"963.728\" r=\"10\"/>\n",
       "<circle clip-path=\"url(#clip8502)\" style=\"fill:#00008b; stroke:none; fill-opacity:1\" cx=\"519.776\" cy=\"963.728\" r=\"7\"/>\n",
       "<circle clip-path=\"url(#clip8502)\" style=\"fill:#000000; stroke:none; fill-opacity:1\" cx=\"506.448\" cy=\"403.536\" r=\"10\"/>\n",
       "<circle clip-path=\"url(#clip8502)\" style=\"fill:#2f329a; stroke:none; fill-opacity:1\" cx=\"506.448\" cy=\"403.536\" r=\"7\"/>\n",
       "<circle clip-path=\"url(#clip8502)\" style=\"fill:#000000; stroke:none; fill-opacity:1\" cx=\"1294.14\" cy=\"753.314\" r=\"10\"/>\n",
       "<circle clip-path=\"url(#clip8502)\" style=\"fill:#5459a5; stroke:none; fill-opacity:1\" cx=\"1294.14\" cy=\"753.314\" r=\"7\"/>\n",
       "<circle clip-path=\"url(#clip8502)\" style=\"fill:#000000; stroke:none; fill-opacity:1\" cx=\"1128.27\" cy=\"316.942\" r=\"10\"/>\n",
       "<circle clip-path=\"url(#clip8502)\" style=\"fill:#a6b1c0; stroke:none; fill-opacity:1\" cx=\"1128.27\" cy=\"316.942\" r=\"7\"/>\n",
       "<circle clip-path=\"url(#clip8502)\" style=\"fill:#000000; stroke:none; fill-opacity:1\" cx=\"859.856\" cy=\"281.227\" r=\"10\"/>\n",
       "<circle clip-path=\"url(#clip8502)\" style=\"fill:#b7948b; stroke:none; fill-opacity:1\" cx=\"859.856\" cy=\"281.227\" r=\"7\"/>\n",
       "<circle clip-path=\"url(#clip8502)\" style=\"fill:#000000; stroke:none; fill-opacity:1\" cx=\"758.626\" cy=\"314.489\" r=\"10\"/>\n",
       "<circle clip-path=\"url(#clip8502)\" style=\"fill:#972b28; stroke:none; fill-opacity:1\" cx=\"758.626\" cy=\"314.489\" r=\"7\"/>\n",
       "<circle clip-path=\"url(#clip8502)\" style=\"fill:#000000; stroke:none; fill-opacity:1\" cx=\"1749.59\" cy=\"959.393\" r=\"10\"/>\n",
       "<circle clip-path=\"url(#clip8502)\" style=\"fill:#828ab4; stroke:none; fill-opacity:1\" cx=\"1749.59\" cy=\"959.393\" r=\"7\"/>\n",
       "<circle clip-path=\"url(#clip8502)\" style=\"fill:#000000; stroke:none; fill-opacity:1\" cx=\"1468.05\" cy=\"216.597\" r=\"10\"/>\n",
       "<circle clip-path=\"url(#clip8502)\" style=\"fill:#8b0302; stroke:none; fill-opacity:1\" cx=\"1468.05\" cy=\"216.597\" r=\"7\"/>\n",
       "<circle clip-path=\"url(#clip8502)\" style=\"fill:#000000; stroke:none; fill-opacity:1\" cx=\"1678\" cy=\"978.341\" r=\"10\"/>\n",
       "<circle clip-path=\"url(#clip8502)\" style=\"fill:#992e2c; stroke:none; fill-opacity:1\" cx=\"1678\" cy=\"978.341\" r=\"7\"/>\n",
       "<circle clip-path=\"url(#clip8502)\" style=\"fill:#000000; stroke:none; fill-opacity:1\" cx=\"529.656\" cy=\"895.675\" r=\"10\"/>\n",
       "<circle clip-path=\"url(#clip8502)\" style=\"fill:#c8cbbf; stroke:none; fill-opacity:1\" cx=\"529.656\" cy=\"895.675\" r=\"7\"/>\n",
       "<circle clip-path=\"url(#clip8502)\" style=\"fill:#000000; stroke:none; fill-opacity:1\" cx=\"1522.22\" cy=\"1262.04\" r=\"10\"/>\n",
       "<circle clip-path=\"url(#clip8502)\" style=\"fill:#bda99f; stroke:none; fill-opacity:1\" cx=\"1522.22\" cy=\"1262.04\" r=\"7\"/>\n",
       "<circle clip-path=\"url(#clip8502)\" style=\"fill:#000000; stroke:none; fill-opacity:1\" cx=\"1429.1\" cy=\"1356.58\" r=\"10\"/>\n",
       "<circle clip-path=\"url(#clip8502)\" style=\"fill:#a14945; stroke:none; fill-opacity:1\" cx=\"1429.1\" cy=\"1356.58\" r=\"7\"/>\n",
       "<circle clip-path=\"url(#clip8502)\" style=\"fill:#000000; stroke:none; fill-opacity:1\" cx=\"1439.92\" cy=\"231.609\" r=\"10\"/>\n",
       "<circle clip-path=\"url(#clip8502)\" style=\"fill:#1c1e94; stroke:none; fill-opacity:1\" cx=\"1439.92\" cy=\"231.609\" r=\"7\"/>\n",
       "<circle clip-path=\"url(#clip8502)\" style=\"fill:#000000; stroke:none; fill-opacity:1\" cx=\"1153.61\" cy=\"173.255\" r=\"10\"/>\n",
       "<circle clip-path=\"url(#clip8502)\" style=\"fill:#2c2f99; stroke:none; fill-opacity:1\" cx=\"1153.61\" cy=\"173.255\" r=\"7\"/>\n",
       "<circle clip-path=\"url(#clip8502)\" style=\"fill:#000000; stroke:none; fill-opacity:1\" cx=\"665.338\" cy=\"599.221\" r=\"10\"/>\n",
       "<circle clip-path=\"url(#clip8502)\" style=\"fill:#b4c0c4; stroke:none; fill-opacity:1\" cx=\"665.338\" cy=\"599.221\" r=\"7\"/>\n",
       "<circle clip-path=\"url(#clip8502)\" style=\"fill:#000000; stroke:none; fill-opacity:1\" cx=\"1253.17\" cy=\"164.97\" r=\"10\"/>\n",
       "<circle clip-path=\"url(#clip8502)\" style=\"fill:#a45651; stroke:none; fill-opacity:1\" cx=\"1253.17\" cy=\"164.97\" r=\"7\"/>\n",
       "<circle clip-path=\"url(#clip8502)\" style=\"fill:#000000; stroke:none; fill-opacity:1\" cx=\"1439.49\" cy=\"969.229\" r=\"10\"/>\n",
       "<circle clip-path=\"url(#clip8502)\" style=\"fill:#8f0f0e; stroke:none; fill-opacity:1\" cx=\"1439.49\" cy=\"969.229\" r=\"7\"/>\n",
       "<circle clip-path=\"url(#clip8502)\" style=\"fill:#000000; stroke:none; fill-opacity:1\" cx=\"1150.86\" cy=\"706.162\" r=\"10\"/>\n",
       "<circle clip-path=\"url(#clip8502)\" style=\"fill:#6b72ad; stroke:none; fill-opacity:1\" cx=\"1150.86\" cy=\"706.162\" r=\"7\"/>\n",
       "<circle clip-path=\"url(#clip8502)\" style=\"fill:#000000; stroke:none; fill-opacity:1\" cx=\"648.654\" cy=\"294.619\" r=\"10\"/>\n",
       "<circle clip-path=\"url(#clip8502)\" style=\"fill:#ba9e95; stroke:none; fill-opacity:1\" cx=\"648.654\" cy=\"294.619\" r=\"7\"/>\n",
       "<circle clip-path=\"url(#clip8502)\" style=\"fill:#000000; stroke:none; fill-opacity:1\" cx=\"679.695\" cy=\"753.846\" r=\"10\"/>\n",
       "<circle clip-path=\"url(#clip8502)\" style=\"fill:#3c409e; stroke:none; fill-opacity:1\" cx=\"679.695\" cy=\"753.846\" r=\"7\"/>\n",
       "<circle clip-path=\"url(#clip8502)\" style=\"fill:#000000; stroke:none; fill-opacity:1\" cx=\"1460.28\" cy=\"287.399\" r=\"10\"/>\n",
       "<circle clip-path=\"url(#clip8502)\" style=\"fill:#9d3e3a; stroke:none; fill-opacity:1\" cx=\"1460.28\" cy=\"287.399\" r=\"7\"/>\n",
       "<circle clip-path=\"url(#clip8502)\" style=\"fill:#000000; stroke:none; fill-opacity:1\" cx=\"786.744\" cy=\"1141.09\" r=\"10\"/>\n",
       "<circle clip-path=\"url(#clip8502)\" style=\"fill:#ad746d; stroke:none; fill-opacity:1\" cx=\"786.744\" cy=\"1141.09\" r=\"7\"/>\n",
       "<circle clip-path=\"url(#clip8502)\" style=\"fill:#000000; stroke:none; fill-opacity:1\" cx=\"1260.78\" cy=\"1464.49\" r=\"10\"/>\n",
       "<circle clip-path=\"url(#clip8502)\" style=\"fill:#8b0000; stroke:none; fill-opacity:1\" cx=\"1260.78\" cy=\"1464.49\" r=\"7\"/>\n",
       "<circle clip-path=\"url(#clip8502)\" style=\"fill:#000000; stroke:none; fill-opacity:1\" cx=\"575.13\" cy=\"726.037\" r=\"10\"/>\n",
       "<circle clip-path=\"url(#clip8502)\" style=\"fill:#30339a; stroke:none; fill-opacity:1\" cx=\"575.13\" cy=\"726.037\" r=\"7\"/>\n",
       "<circle clip-path=\"url(#clip8502)\" style=\"fill:#000000; stroke:none; fill-opacity:1\" cx=\"1526.27\" cy=\"968.182\" r=\"10\"/>\n",
       "<circle clip-path=\"url(#clip8502)\" style=\"fill:#929bb9; stroke:none; fill-opacity:1\" cx=\"1526.27\" cy=\"968.182\" r=\"7\"/>\n",
       "<circle clip-path=\"url(#clip8502)\" style=\"fill:#000000; stroke:none; fill-opacity:1\" cx=\"843.863\" cy=\"675.353\" r=\"10\"/>\n",
       "<circle clip-path=\"url(#clip8502)\" style=\"fill:#383c9d; stroke:none; fill-opacity:1\" cx=\"843.863\" cy=\"675.353\" r=\"7\"/>\n",
       "<circle clip-path=\"url(#clip8502)\" style=\"fill:#000000; stroke:none; fill-opacity:1\" cx=\"525.698\" cy=\"633.068\" r=\"10\"/>\n",
       "<circle clip-path=\"url(#clip8502)\" style=\"fill:#8d0606; stroke:none; fill-opacity:1\" cx=\"525.698\" cy=\"633.068\" r=\"7\"/>\n",
       "<circle clip-path=\"url(#clip8502)\" style=\"fill:#000000; stroke:none; fill-opacity:1\" cx=\"1177.15\" cy=\"1073.18\" r=\"10\"/>\n",
       "<circle clip-path=\"url(#clip8502)\" style=\"fill:#aab4c1; stroke:none; fill-opacity:1\" cx=\"1177.15\" cy=\"1073.18\" r=\"7\"/>\n",
       "<circle clip-path=\"url(#clip8502)\" style=\"fill:#000000; stroke:none; fill-opacity:1\" cx=\"1149.98\" cy=\"321.525\" r=\"10\"/>\n",
       "<circle clip-path=\"url(#clip8502)\" style=\"fill:#2d3099; stroke:none; fill-opacity:1\" cx=\"1149.98\" cy=\"321.525\" r=\"7\"/>\n",
       "<circle clip-path=\"url(#clip8502)\" style=\"fill:#000000; stroke:none; fill-opacity:1\" cx=\"668.162\" cy=\"571.932\" r=\"10\"/>\n",
       "<circle clip-path=\"url(#clip8502)\" style=\"fill:#09098d; stroke:none; fill-opacity:1\" cx=\"668.162\" cy=\"571.932\" r=\"7\"/>\n",
       "<circle clip-path=\"url(#clip8502)\" style=\"fill:#000000; stroke:none; fill-opacity:1\" cx=\"576.369\" cy=\"1211.83\" r=\"10\"/>\n",
       "<circle clip-path=\"url(#clip8502)\" style=\"fill:#c7cbbf; stroke:none; fill-opacity:1\" cx=\"576.369\" cy=\"1211.83\" r=\"7\"/>\n",
       "<circle clip-path=\"url(#clip8502)\" style=\"fill:#000000; stroke:none; fill-opacity:1\" cx=\"1477.41\" cy=\"412.05\" r=\"10\"/>\n",
       "<circle clip-path=\"url(#clip8502)\" style=\"fill:#ba9d94; stroke:none; fill-opacity:1\" cx=\"1477.41\" cy=\"412.05\" r=\"7\"/>\n",
       "<circle clip-path=\"url(#clip8502)\" style=\"fill:#000000; stroke:none; fill-opacity:1\" cx=\"1086.61\" cy=\"433.992\" r=\"10\"/>\n",
       "<circle clip-path=\"url(#clip8502)\" style=\"fill:#a45651; stroke:none; fill-opacity:1\" cx=\"1086.61\" cy=\"433.992\" r=\"7\"/>\n",
       "<circle clip-path=\"url(#clip8502)\" style=\"fill:#000000; stroke:none; fill-opacity:1\" cx=\"638.111\" cy=\"691.432\" r=\"10\"/>\n",
       "<circle clip-path=\"url(#clip8502)\" style=\"fill:#b48a82; stroke:none; fill-opacity:1\" cx=\"638.111\" cy=\"691.432\" r=\"7\"/>\n",
       "<circle clip-path=\"url(#clip8502)\" style=\"fill:#000000; stroke:none; fill-opacity:1\" cx=\"1093.15\" cy=\"702.325\" r=\"10\"/>\n",
       "<circle clip-path=\"url(#clip8502)\" style=\"fill:#c8ccc0; stroke:none; fill-opacity:1\" cx=\"1093.15\" cy=\"702.325\" r=\"7\"/>\n",
       "<circle clip-path=\"url(#clip8502)\" style=\"fill:#000000; stroke:none; fill-opacity:1\" cx=\"1407.94\" cy=\"1369.81\" r=\"10\"/>\n",
       "<circle clip-path=\"url(#clip8502)\" style=\"fill:#6167a9; stroke:none; fill-opacity:1\" cx=\"1407.94\" cy=\"1369.81\" r=\"7\"/>\n",
       "<circle clip-path=\"url(#clip8502)\" style=\"fill:#000000; stroke:none; fill-opacity:1\" cx=\"620.237\" cy=\"839.343\" r=\"10\"/>\n",
       "<circle clip-path=\"url(#clip8502)\" style=\"fill:#8e97b8; stroke:none; fill-opacity:1\" cx=\"620.237\" cy=\"839.343\" r=\"7\"/>\n",
       "<circle clip-path=\"url(#clip8502)\" style=\"fill:#000000; stroke:none; fill-opacity:1\" cx=\"612.979\" cy=\"1448.3\" r=\"10\"/>\n",
       "<circle clip-path=\"url(#clip8502)\" style=\"fill:#b8968d; stroke:none; fill-opacity:1\" cx=\"612.979\" cy=\"1448.3\" r=\"7\"/>\n",
       "<circle clip-path=\"url(#clip8502)\" style=\"fill:#000000; stroke:none; fill-opacity:1\" cx=\"558.905\" cy=\"329.319\" r=\"10\"/>\n",
       "<circle clip-path=\"url(#clip8502)\" style=\"fill:#b7958c; stroke:none; fill-opacity:1\" cx=\"558.905\" cy=\"329.319\" r=\"7\"/>\n",
       "<circle clip-path=\"url(#clip8502)\" style=\"fill:#000000; stroke:none; fill-opacity:1\" cx=\"1631.74\" cy=\"944.417\" r=\"10\"/>\n",
       "<circle clip-path=\"url(#clip8502)\" style=\"fill:#ae756e; stroke:none; fill-opacity:1\" cx=\"1631.74\" cy=\"944.417\" r=\"7\"/>\n",
       "<circle clip-path=\"url(#clip8502)\" style=\"fill:#000000; stroke:none; fill-opacity:1\" cx=\"547.145\" cy=\"812.99\" r=\"10\"/>\n",
       "<circle clip-path=\"url(#clip8502)\" style=\"fill:#c1cdc8; stroke:none; fill-opacity:1\" cx=\"547.145\" cy=\"812.99\" r=\"7\"/>\n",
       "<circle clip-path=\"url(#clip8502)\" style=\"fill:#000000; stroke:none; fill-opacity:1\" cx=\"959.686\" cy=\"956.233\" r=\"10\"/>\n",
       "<circle clip-path=\"url(#clip8502)\" style=\"fill:#474ba1; stroke:none; fill-opacity:1\" cx=\"959.686\" cy=\"956.233\" r=\"7\"/>\n",
       "<defs>\n",
       "  <clipPath id=\"clip8503\">\n",
       "    <rect x=\"1834\" y=\"125\" width=\"73\" height=\"1378\"/>\n",
       "  </clipPath>\n",
       "</defs>\n",
       "<g clip-path=\"url(#clip8503)\">\n",
       "<image width=\"72\" height=\"1377\" xlink:href=\"data:image/png;base64,\n",
       "iVBORw0KGgoAAAANSUhEUgAAAEgAAAVhCAYAAAAndsgeAAALj0lEQVR4nO3dwY3jWBAFQX6hvB+f\n",
       "ybZgKo/kIcKCQeIBK0qs3vPvup6L//q9/Q/4OoGCQEGgIFCY65y3/w2fZkFBoCBQECjM+Wm0UScI\n",
       "FAQKAgWBwlw/jxobCwoCBYGCQGHO0WijThAoCBQECnP5PmilThAoCBQECgKFOb4PWllQECgIFAQK\n",
       "c/k+aKVOECgIFAQKAgWPGsGCgkBBoCBQ8KtGUCcIFAQKAoU57sVWFhQECgIFgYJAwaNGUCcIFAQK\n",
       "AgVXz0GdIFAQKAgUHPUGCwoCBYGCQEGg4Oo5qBMECgIFgYIv7YM6QaAgUBAoCBScIgQLCgIFgYJA\n",
       "wdVzUCcIFAQKAgWfpIMFBYGCQEGgIFDwq0ZQJwgUBAoCBacIQZ0gUBAoCBT8r4yDBQWBgkBBoCBQ\n",
       "8KgR1AkCBYGCQMHVc7CgIFAQKAgUBAqunoM6QaAgUBAoeD8oqBMECgIFgYJThGBBQaAgUBAoCBRc\n",
       "PQd1gkBBoCBQ8KgRLCgIFAQKAgVf2gd1gkBBoCBQECg4RQjqBIGCQEGg4Oo5WFAQKAgUBAoCBY8a\n",
       "QZ0gUBAoCBRcPQcLCgIFgYJAwVFvUCcIFAQKAgWBgkeNYEFBoCBQECj40j6oEwQKAgWBgkDB1XNQ\n",
       "JwgUBAoCBVfPwYKCQEGgIFBw9RzUCQIFgYJAQaDgV42gThAoCBQECq6egwUFgYJAQaDgk3RQJwgU\n",
       "BAoCBYGCU4RgQUGgIFAQKLh6DuoEgYJAQaAgUPACVVAnCBQECgIFpwjBgoJAQaAgUHDUG9QJAgWB\n",
       "gkBBoOBRI1hQECgIFAQKvrQP6gSBgkBBoOD9oKBOECgIFAQKAgWnCMGCgkBBoCBQcPUc1AkCBYGC\n",
       "QEGg4KfnYEFBoCBQECh4yzWoEwQKAgWBgu+DgjpBoCBQECgIFPz0HCwoCBQECgIFb7kGdYJAQaAg\n",
       "UPBJOlhQECgIFAQKAgW/agR1gkBBoCBQ8KcpgjpBoCBQECgIFOb4fz2vLCgIFAQKAgWPGkGdIFAQ\n",
       "KAgUHPUGCwoCBYGCQEGg4Oo5qBMECgIFgYL3g4I6QaAgUBAoCBTcagQLCgIFgYJAwdVzUCcIFAQK\n",
       "AgWfpIMFBYGCQEGgIFDwq0ZQJwgUBAoCBacIQZ0gUBAoCBQc9QYLCgIFgYJAQaDgUSOoEwQKAgWB\n",
       "gqvnYEFBoCBQECgIFFw9B3WCQEGgIFDwqBEsKAgUBAoCBV/aB3WCQEGgIFAQKLh6DuoEgYJAQaDg\n",
       "6jlYUBAoCBQECo56gzpBoCBQECgIFPyqEdQJAgWBgkDB1XOwoCBQECgIFAQKHjWCOkGgIFAQKDhF\n",
       "CBYUBAoCBYGCo96gThAoCBQECgIFL1AFdYJAQaAgUHCKECwoCBQECgIFR71BnSBQECgIFAQKHjWC\n",
       "BQWBgkBBoOBL+6BOECgIFAQKAgWnCEGdIFAQKAgUXD0HCwoCBYGCQMEn6aBOECgIFAQKAgVXz8GC\n",
       "gkBBoCBQcPUc1AkCBYGCQMH7QUGdIFAQKAgUBApOEYIFBYGCQEGg4Oo5qBMECgIFgYJAwaNGsKAg\n",
       "UBAoCBT8qhHUCQIFgYJAwSlCUCcIFAQKAgWBgqvnYEFBoCBQECj4PiioEwQKAgWBgkDBT8/BgoJA\n",
       "QaAgUPCWa1AnCBQECgIFPz0HdYJAQaAgUBAo+Ct4wYKCQEGgIFDwV/CCOkGgIFAQKPgkHSwoCBQE\n",
       "CgIFgYJfNYI6QaAgUBAoOEUI6gSBgkBBoCBQmMvV88qCgkBBoCBQ8KgR1AkCBYGCQMFRb7CgIFAQ\n",
       "KAgUBAqunoM6QaAgUBAoeD8oqBMECgIFgYJThGBBQaAgUBAoCBRcPQd1gkBBoCBQ8KgRLCgIFAQK\n",
       "AgWBgl81gjpBoCBQECh4PyioEwQKAgWBglOEYEFBoCBQECgIFFw9B3WCQEGgIFDwqBEsKAgUBAoC\n",
       "BV/aB3WCQEGgIFAQKHg/KKgTBAoCBYGCU4RgQUGgIFAQKAgUXD0HdYJAQaAgUBAoCBQECgIFgcLc\n",
       "z9v/hG+zoCBQECgIFAQK8/jP2MqCgkBBoCBQmPt++5/wbRYUBAoCBYGCQGHux6PGxoKCQEGgIFCY\n",
       "x6PGyoKCQEGgIFCY25f2KwsKAgWBgkBBoOBRI1hQECgIFAQKvrQPFhQECgIFgYL3g4IFBYGCQEGg\n",
       "IFBwihAsKAgUBAoCBVfPwYKCQEGgIFAQKHjUCBYUBAoCBYGCXzWCBQWBgkBBoOD9oGBBQaAgUBAo\n",
       "CBScIgQLCgIFgYJAwdVzsKAgUBAoCBTG10E7CwoCBYGCQEGg4FEjWFAQKAgUBAreDwoWFAQKAgWB\n",
       "gkDBKUKwoCBQECgIFFw9BwsKAgWBgkDBJ+lgQUGgIFAQKAgU/KoRLCgIFAQKAgVXz8GCgkBBoCBQ\n",
       "cNQbLCgIFAQKAgWBglOEYEFBoCBQECjM4/uglQUFgYJAQaAgUPDTc7CgIFAQKAgUfB8ULCgIFAQK\n",
       "AgU/PQcLCgIFgYJAQaDgLddgQUGgIFAQKHjUCBYUBAoCBYGCQMGvGsGCgkBBoCBQ8FfwggUFgYJA\n",
       "QaDgr+AFCwoCBYGCQEGg4BQhWFAQKAgUBAqunoMFBYGCQEGg4JN0sKAgUBAoCBQECt4PChYUBAoC\n",
       "BYGCU4RgQUGgIFAQKAgUXD0HCwoCBYGCQMGjRrCgIFAQKAgUfGkfLCgIFAQKAgWBgqvnYEFBoCBQ\n",
       "ECi4eg4WFAQKAgWBglOEYEFBoCBQECgIFFw9BwsKAgWBgkDBo0awoCBQECgIFAQKXqAKFhQECgIF\n",
       "gYJThGBBQaAgUBAoOOoNFhQECgIFgYJAwaNGsKAgUBAoCBR8aR8sKAgUBAoCBUe9wYKCQEGgIFAQ\n",
       "KLh6DhYUBAoCBYGCU4RgQUGgIFAQKAgUXD0HCwoCBYGCQMGjRrCgIFAQKAgUvB8ULCgIFAQKAgWB\n",
       "glOEYEFBoCBQECi4eg4WFAQKAgWBgk/SwYKCQEGgIFAQKPhVI1hQECgIFAQKrp6DBQWBgkBBoCBQ\n",
       "cPUcLCgIFAQKAgWnCMGCgkBBoCBQ8Ek6WFAQKAgUBAoCBb9qBAsKAgWBgkDB+0HBgoJAQaAgUBAo\n",
       "uNUIFhQECgIFgYKr52BBQaAgUBAo+CQdLCgIFAQKAgWBgl81ggUFgYJAQaDg/aBgQUGgIFAQKDhF\n",
       "CBYUBAoCBYGCQMHVc7CgIFAQKAgU/K+MgwUFgYJAQaAgUPDTc7CgIFAQKAgUfB8ULCgIFAQKAgU/\n",
       "PQcLCgIFgYJAQaDgLddgQUGgIFAQKHjUCBYUBAoCBYGCL+2DBQWBgkBBoCBQ8FfwggUFgYJAQaDg\n",
       "r+AFCwoCBYGCQEGg4BQhWFAQKAgUBArj66CdBQWBgkBBoOCTdLCgIFAQKAgUBApeoAoWFAQKAgWB\n",
       "glOEYEFBoCBQECg46g0WFAQKAgWBgkDBo0awoCBQECgIFHxpHywoCBQECgIFgYKr52BBQaAgUBAo\n",
       "uHoOFhQECgIFgYJThGBBQaAgUBAoCBQ8agQLCgIFgYJAwZf2wYKCQEGgIFAQKHiBKlhQECgIFAQK\n",
       "ThGCBQWBgkBBoODqOVhQECgIFAQKAgWPGsGCgkBBoCBQ8KV9sKAgUBAoCBS8HxQsKAgUBAoCBYGC\n",
       "U4RgQUGgIFAQKLh6DhYUBAoCBYGCQMH/6zlYUBAoCBQECh41ggUFgYJAQaDg/aBgQUGgIFAQKAgU\n",
       "nCIECwoCBYGCQMHVc7CgIFAQKAgUfJIOFhQECgIFgYJAwa8awYKCQEGgIFBw9RwsKAgUBAoCBYGC\n",
       "q+dgQUGgIFAQKDhFCBYUBAoCBYGCo95gQUGgIFAQKAgUPGoECwoCBYGCQMH7QcGCgkBBoCBQcIoQ\n",
       "LCgIFAQKAgWBgqvnYEFBoCBQECh41AgWFAQKAgWBgkDBrxrBgoJAQaAgUHD1HCwoCBQECgIFR73B\n",
       "goJAQaAgUBAoOEUIFhQECgIFgYKr52BBQaAgUBAo/AFwdkxXAfGKSQAAAABJRU5ErkJggg==\n",
       "\" transform=\"translate(1835, 126)\"/>\n",
       "</g>\n",
       "<g clip-path=\"url(#clip8500)\">\n",
       "<text style=\"fill:#000000; fill-opacity:1; font-family:Arial,Helvetica Neue,Helvetica,sans-serif; font-size:48px; text-anchor:start;\" transform=\"rotate(0, 1942.88, 1388.96)\" x=\"1942.88\" y=\"1388.96\">0.1</text>\n",
       "</g>\n",
       "<g clip-path=\"url(#clip8500)\">\n",
       "<text style=\"fill:#000000; fill-opacity:1; font-family:Arial,Helvetica Neue,Helvetica,sans-serif; font-size:48px; text-anchor:start;\" transform=\"rotate(0, 1942.88, 1245.22)\" x=\"1942.88\" y=\"1245.22\">0.2</text>\n",
       "</g>\n",
       "<g clip-path=\"url(#clip8500)\">\n",
       "<text style=\"fill:#000000; fill-opacity:1; font-family:Arial,Helvetica Neue,Helvetica,sans-serif; font-size:48px; text-anchor:start;\" transform=\"rotate(0, 1942.88, 1101.47)\" x=\"1942.88\" y=\"1101.47\">0.3</text>\n",
       "</g>\n",
       "<g clip-path=\"url(#clip8500)\">\n",
       "<text style=\"fill:#000000; fill-opacity:1; font-family:Arial,Helvetica Neue,Helvetica,sans-serif; font-size:48px; text-anchor:start;\" transform=\"rotate(0, 1942.88, 957.727)\" x=\"1942.88\" y=\"957.727\">0.4</text>\n",
       "</g>\n",
       "<g clip-path=\"url(#clip8500)\">\n",
       "<text style=\"fill:#000000; fill-opacity:1; font-family:Arial,Helvetica Neue,Helvetica,sans-serif; font-size:48px; text-anchor:start;\" transform=\"rotate(0, 1942.88, 813.983)\" x=\"1942.88\" y=\"813.983\">0.5</text>\n",
       "</g>\n",
       "<g clip-path=\"url(#clip8500)\">\n",
       "<text style=\"fill:#000000; fill-opacity:1; font-family:Arial,Helvetica Neue,Helvetica,sans-serif; font-size:48px; text-anchor:start;\" transform=\"rotate(0, 1942.88, 670.239)\" x=\"1942.88\" y=\"670.239\">0.6</text>\n",
       "</g>\n",
       "<g clip-path=\"url(#clip8500)\">\n",
       "<text style=\"fill:#000000; fill-opacity:1; font-family:Arial,Helvetica Neue,Helvetica,sans-serif; font-size:48px; text-anchor:start;\" transform=\"rotate(0, 1942.88, 526.495)\" x=\"1942.88\" y=\"526.495\">0.7</text>\n",
       "</g>\n",
       "<g clip-path=\"url(#clip8500)\">\n",
       "<text style=\"fill:#000000; fill-opacity:1; font-family:Arial,Helvetica Neue,Helvetica,sans-serif; font-size:48px; text-anchor:start;\" transform=\"rotate(0, 1942.88, 382.751)\" x=\"1942.88\" y=\"382.751\">0.8</text>\n",
       "</g>\n",
       "<g clip-path=\"url(#clip8500)\">\n",
       "<text style=\"fill:#000000; fill-opacity:1; font-family:Arial,Helvetica Neue,Helvetica,sans-serif; font-size:48px; text-anchor:start;\" transform=\"rotate(0, 1942.88, 239.007)\" x=\"1942.88\" y=\"239.007\">0.9</text>\n",
       "</g>\n",
       "<polyline clip-path=\"url(#clip8500)\" style=\"stroke:#000000; stroke-width:4; stroke-opacity:1; fill:none\" points=\"\n",
       "  1906.88,1503.47 1906.88,1375.31 1930.88,1375.31 1906.88,1375.31 1906.88,1231.56 1930.88,1231.56 1906.88,1231.56 1906.88,1087.82 1930.88,1087.82 1906.88,1087.82 \n",
       "  1906.88,944.076 1930.88,944.076 1906.88,944.076 1906.88,800.332 1930.88,800.332 1906.88,800.332 1906.88,656.588 1930.88,656.588 1906.88,656.588 1906.88,512.844 \n",
       "  1930.88,512.844 1906.88,512.844 1906.88,369.1 1930.88,369.1 1906.88,369.1 1906.88,225.356 1930.88,225.356 1906.88,225.356 1906.88,125.984 \n",
       "  \"/>\n",
       "<g clip-path=\"url(#clip8500)\">\n",
       "<text style=\"fill:#000000; fill-opacity:1; font-family:Arial,Helvetica Neue,Helvetica,sans-serif; font-size:66px; text-anchor:middle;\" transform=\"rotate(-90, 2084.48, 814.729)\" x=\"2084.48\" y=\"814.729\"></text>\n",
       "</g>\n",
       "</svg>\n"
      ]
     },
     "execution_count": 6,
     "metadata": {},
     "output_type": "execute_result"
    }
   ],
   "source": [
    "using Plots\n",
    "\n",
    "plot(geodata)"
   ]
  },
  {
   "cell_type": "markdown",
   "metadata": {},
   "source": [
    "and by defining an estimation problem:"
   ]
  },
  {
   "cell_type": "code",
   "execution_count": 7,
   "metadata": {},
   "outputs": [
    {
     "data": {
      "text/plain": [
       "2D EstimationProblem\n",
       "  data:      50 PointSetData{Float64,2}\n",
       "  domain:    100×100 RegularGrid{Float64,2}\n",
       "  variables: z (Float64)"
      ]
     },
     "execution_count": 7,
     "metadata": {},
     "output_type": "execute_result"
    }
   ],
   "source": [
    "domain  = RegularGrid{Float64}(100,100)\n",
    "problem = EstimationProblem(geodata, domain, :z)"
   ]
  },
  {
   "cell_type": "markdown",
   "metadata": {},
   "source": [
    "First, we vary the anisotropy ratio with an ellipsoid that is aligned with the coordinate system:"
   ]
  },
  {
   "cell_type": "code",
   "execution_count": 8,
   "metadata": {},
   "outputs": [
    {
     "name": "stderr",
     "output_type": "stream",
     "text": [
      "┌ Info: Saved animation to \n",
      "│   fn = /home/juliohm/Desktop/GeoStatsTutorials/notebooks/figs/anisotropy_ratio.gif\n",
      "└ @ Plots /home/juliohm/.julia/packages/Plots/47Tik/src/animation.jl:90\n"
     ]
    },
    {
     "data": {
      "text/html": [
       "<img src=\"figs/anisotropy_ratio.gif\" />"
      ],
      "text/plain": [
       "Plots.AnimatedGif(\"/home/juliohm/Desktop/GeoStatsTutorials/notebooks/figs/anisotropy_ratio.gif\")"
      ]
     },
     "execution_count": 8,
     "metadata": {},
     "output_type": "execute_result"
    }
   ],
   "source": [
    "anim = @animate for a in range(1, stop=10., length=10)\n",
    "    γ = GaussianVariogram(range=5., distance=Ellipsoidal([a,1.], [0.]))\n",
    "    \n",
    "    solution = solve(problem, Kriging(:z => (variogram=γ,)))\n",
    "    \n",
    "    plot(solution, size=(1000,400))\n",
    "end\n",
    "gif(anim, \"figs/anisotropy_ratio.gif\", fps=1)"
   ]
  },
  {
   "cell_type": "markdown",
   "metadata": {},
   "source": [
    "Second, we fix the anisotropy ratio and vary the alignment angle:"
   ]
  },
  {
   "cell_type": "code",
   "execution_count": 9,
   "metadata": {},
   "outputs": [
    {
     "name": "stderr",
     "output_type": "stream",
     "text": [
      "┌ Info: Saved animation to \n",
      "│   fn = /home/juliohm/Desktop/GeoStatsTutorials/notebooks/figs/anisotropy_angle.gif\n",
      "└ @ Plots /home/juliohm/.julia/packages/Plots/47Tik/src/animation.jl:90\n"
     ]
    },
    {
     "data": {
      "text/html": [
       "<img src=\"figs/anisotropy_angle.gif\" />"
      ],
      "text/plain": [
       "Plots.AnimatedGif(\"/home/juliohm/Desktop/GeoStatsTutorials/notebooks/figs/anisotropy_angle.gif\")"
      ]
     },
     "execution_count": 9,
     "metadata": {},
     "output_type": "execute_result"
    }
   ],
   "source": [
    "anim = @animate for θ in range(0, stop=2π, length=10)\n",
    "    γ = GaussianVariogram(range=5., distance=Ellipsoidal([10.,1.], [θ]))\n",
    "    \n",
    "    solution = solve(problem, Kriging(:z => (variogram=γ,)))\n",
    "    \n",
    "    plot(solution, size=(1000,400))\n",
    "end\n",
    "gif(anim, \"figs/anisotropy_angle.gif\", fps=1)"
   ]
  },
  {
   "cell_type": "markdown",
   "metadata": {},
   "source": [
    "This experiment can be extended to 3D with the only difference being that ellipsoids therein are defined by 3 semiaxes and 3 angles. For example, the Euclidean distance in 3D can be recovered with a degenerated ellipsoid with equal semiaxes (i.e. sphere):"
   ]
  },
  {
   "cell_type": "code",
   "execution_count": 10,
   "metadata": {},
   "outputs": [
    {
     "data": {
      "text/plain": [
       "true"
      ]
     },
     "execution_count": 10,
     "metadata": {},
     "output_type": "execute_result"
    }
   ],
   "source": [
    "ellipsoid = Ellipsoidal([1.,1.,1.],[0.,0.,0.])\n",
    "euclidean = Euclidean()\n",
    "\n",
    "a, b = rand(3), rand(3)\n",
    "\n",
    "evaluate(ellipsoid, a, b) ≈ evaluate(euclidean, a, b)"
   ]
  },
  {
   "cell_type": "markdown",
   "metadata": {},
   "source": [
    "## Conclusions\n",
    "\n",
    "- Geometric anisotropy can be easily modeled with an `Ellipsoidal` distance\n",
    "\n",
    "- GeoStats.jl recognizes any distance following the [Distances.jl](https://github.com/JuliaStats/Distances.jl) API (i.e. `Metric` types)"
   ]
  }
 ],
 "metadata": {
  "@webio": {
   "lastCommId": null,
   "lastKernelId": null
  },
  "kernelspec": {
   "display_name": "Julia 1.1.0",
   "language": "julia",
   "name": "julia-1.1"
  },
  "language_info": {
   "file_extension": ".jl",
   "mimetype": "application/julia",
   "name": "julia",
   "version": "1.1.0"
  }
 },
 "nbformat": 4,
 "nbformat_minor": 2
}
