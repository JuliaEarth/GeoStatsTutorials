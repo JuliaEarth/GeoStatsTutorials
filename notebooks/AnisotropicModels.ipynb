{
 "cells": [
  {
   "cell_type": "markdown",
   "metadata": {},
   "source": [
    "# Anisotropic models\n",
    "\n",
    "In this tutorial, we demonstrate how to perform estimation with anisotropic variograms using GeoStats.jl.\n",
    "\n",
    "Before we proceed, please install the following packages:"
   ]
  },
  {
   "cell_type": "code",
   "execution_count": 1,
   "metadata": {},
   "outputs": [
    {
     "name": "stdout",
     "output_type": "stream",
     "text": [
      "\u001b[32m\u001b[1m  Updating\u001b[22m\u001b[39m registry at `~/.julia/registries/General`\n",
      "\u001b[32m\u001b[1m  Updating\u001b[22m\u001b[39m git-repo `https://github.com/JuliaRegistries/General.git`\n",
      "\u001b[?25l\u001b[2K\u001b[?25h\u001b[32m\u001b[1m Resolving\u001b[22m\u001b[39m package versions...\n",
      "\u001b[32m\u001b[1m  Updating\u001b[22m\u001b[39m `~/.julia/environments/v1.0/Project.toml`\n",
      "\u001b[90m [no changes]\u001b[39m\n",
      "\u001b[32m\u001b[1m  Updating\u001b[22m\u001b[39m `~/.julia/environments/v1.0/Manifest.toml`\n",
      "\u001b[90m [no changes]\u001b[39m\n"
     ]
    }
   ],
   "source": [
    "] add GeoStats Plots GR"
   ]
  },
  {
   "cell_type": "code",
   "execution_count": 2,
   "metadata": {},
   "outputs": [],
   "source": [
    "using Random; Random.seed!(2000); # make sure this tutorial is reproducible"
   ]
  },
  {
   "cell_type": "markdown",
   "metadata": {},
   "source": [
    "## Ellipsoid distance\n",
    "\n",
    "Anisotropy can be thought of as a deformation of space with an ellipsoid distance. The semiaxes of the ellipsoid determine the preferential directions of the field and their lengths characterize the anisotropy ratio. In GeoStats.jl, all variogram models (empirical and theoretical) support a custom distance function that\n",
    "can be used to model anisotropy.\n",
    "\n",
    "A variogram object $\\gamma$ can be evaluated as an isotropic model $\\gamma(h)$ or as a (possibly) anisotropic model $\\gamma(x,y)$. For the Euclidean distance (the default), these two operations match $\\gamma(x,y) = \\gamma(h)$ in all directions:"
   ]
  },
  {
   "cell_type": "code",
   "execution_count": 3,
   "metadata": {},
   "outputs": [
    {
     "data": {
      "text/plain": [
       "true"
      ]
     },
     "execution_count": 3,
     "metadata": {},
     "output_type": "execute_result"
    }
   ],
   "source": [
    "using GeoStats\n",
    "\n",
    "γ = GaussianVariogram()\n",
    "\n",
    "γ([1.,0.], [0.,0.]) ≈ γ(1.)"
   ]
  },
  {
   "cell_type": "markdown",
   "metadata": {},
   "source": [
    "If instead of an Euclidean ball, we use an ellipsoid with different semiaxes, the operation $\\gamma(x,y)$ becomes a function of the direction $x-y$. For example, we can create an ellipsoid distance aligned with the coordinate system where the major semiaxis has twice the size of the minor semiaxis:"
   ]
  },
  {
   "cell_type": "code",
   "execution_count": 4,
   "metadata": {},
   "outputs": [
    {
     "data": {
      "text/plain": [
       "true"
      ]
     },
     "execution_count": 4,
     "metadata": {},
     "output_type": "execute_result"
    }
   ],
   "source": [
    "using Distances\n",
    "\n",
    "γaniso = GaussianVariogram(distance=Ellipsoidal([2.,1.],[0.]))\n",
    "\n",
    "γaniso([1.,0.],[0.,0.]) ≠ γaniso([0.,1.],[0.,0.])"
   ]
  },
  {
   "cell_type": "markdown",
   "metadata": {},
   "source": [
    "## Effects on estimation\n",
    "\n",
    "Now that we know how to construct anisotropic variograms, we can investigate the effect of varying the anisotropy ratio and alignement angle on estimation results. We start by generating some random data:"
   ]
  },
  {
   "cell_type": "code",
   "execution_count": 5,
   "metadata": {},
   "outputs": [
    {
     "data": {
      "image/svg+xml": [
       "<?xml version=\"1.0\" encoding=\"utf-8\"?>\n",
       "<svg xmlns=\"http://www.w3.org/2000/svg\" xmlns:xlink=\"http://www.w3.org/1999/xlink\" width=\"600\" height=\"400\" viewBox=\"0 0 2400 1600\">\n",
       "<defs>\n",
       "  <clipPath id=\"clip0300\">\n",
       "    <rect x=\"0\" y=\"0\" width=\"2000\" height=\"2000\"/>\n",
       "  </clipPath>\n",
       "</defs>\n",
       "<defs>\n",
       "  <clipPath id=\"clip0301\">\n",
       "    <rect x=\"0\" y=\"0\" width=\"2400\" height=\"1600\"/>\n",
       "  </clipPath>\n",
       "</defs>\n",
       "<polygon clip-path=\"url(#clip0301)\" points=\"\n",
       "0,1600 2400,1600 2400,0 0,0 \n",
       "  \" fill=\"#ffffff\" fill-rule=\"evenodd\" fill-opacity=\"1\"/>\n",
       "<defs>\n",
       "  <clipPath id=\"clip0302\">\n",
       "    <rect x=\"480\" y=\"0\" width=\"1681\" height=\"1600\"/>\n",
       "  </clipPath>\n",
       "</defs>\n",
       "<polygon clip-path=\"url(#clip0301)\" points=\"\n",
       "174.775,1503.47 2081.26,1503.47 2081.26,47.2441 174.775,47.2441 \n",
       "  \" fill=\"#ffffff\" fill-rule=\"evenodd\" fill-opacity=\"1\"/>\n",
       "<defs>\n",
       "  <clipPath id=\"clip0303\">\n",
       "    <rect x=\"174\" y=\"47\" width=\"1907\" height=\"1457\"/>\n",
       "  </clipPath>\n",
       "</defs>\n",
       "<polyline clip-path=\"url(#clip0303)\" style=\"stroke:#000000; stroke-width:2; stroke-opacity:0.1; fill:none\" points=\"\n",
       "  536.63,1503.47 536.63,47.2441 \n",
       "  \"/>\n",
       "<polyline clip-path=\"url(#clip0303)\" style=\"stroke:#000000; stroke-width:2; stroke-opacity:0.1; fill:none\" points=\"\n",
       "  925.988,1503.47 925.988,47.2441 \n",
       "  \"/>\n",
       "<polyline clip-path=\"url(#clip0303)\" style=\"stroke:#000000; stroke-width:2; stroke-opacity:0.1; fill:none\" points=\"\n",
       "  1315.35,1503.47 1315.35,47.2441 \n",
       "  \"/>\n",
       "<polyline clip-path=\"url(#clip0303)\" style=\"stroke:#000000; stroke-width:2; stroke-opacity:0.1; fill:none\" points=\"\n",
       "  1704.7,1503.47 1704.7,47.2441 \n",
       "  \"/>\n",
       "<polyline clip-path=\"url(#clip0303)\" style=\"stroke:#000000; stroke-width:2; stroke-opacity:0.1; fill:none\" points=\"\n",
       "  174.775,1219.72 2081.26,1219.72 \n",
       "  \"/>\n",
       "<polyline clip-path=\"url(#clip0303)\" style=\"stroke:#000000; stroke-width:2; stroke-opacity:0.1; fill:none\" points=\"\n",
       "  174.775,935.223 2081.26,935.223 \n",
       "  \"/>\n",
       "<polyline clip-path=\"url(#clip0303)\" style=\"stroke:#000000; stroke-width:2; stroke-opacity:0.1; fill:none\" points=\"\n",
       "  174.775,650.722 2081.26,650.722 \n",
       "  \"/>\n",
       "<polyline clip-path=\"url(#clip0303)\" style=\"stroke:#000000; stroke-width:2; stroke-opacity:0.1; fill:none\" points=\"\n",
       "  174.775,366.222 2081.26,366.222 \n",
       "  \"/>\n",
       "<polyline clip-path=\"url(#clip0303)\" style=\"stroke:#000000; stroke-width:2; stroke-opacity:0.1; fill:none\" points=\"\n",
       "  174.775,81.7216 2081.26,81.7216 \n",
       "  \"/>\n",
       "<polyline clip-path=\"url(#clip0301)\" style=\"stroke:#000000; stroke-width:4; stroke-opacity:1; fill:none\" points=\"\n",
       "  174.775,1503.47 2081.26,1503.47 \n",
       "  \"/>\n",
       "<polyline clip-path=\"url(#clip0301)\" style=\"stroke:#000000; stroke-width:4; stroke-opacity:1; fill:none\" points=\"\n",
       "  174.775,1503.47 174.775,47.2441 \n",
       "  \"/>\n",
       "<polyline clip-path=\"url(#clip0301)\" style=\"stroke:#000000; stroke-width:4; stroke-opacity:1; fill:none\" points=\"\n",
       "  536.63,1503.47 536.63,1481.63 \n",
       "  \"/>\n",
       "<polyline clip-path=\"url(#clip0301)\" style=\"stroke:#000000; stroke-width:4; stroke-opacity:1; fill:none\" points=\"\n",
       "  925.988,1503.47 925.988,1481.63 \n",
       "  \"/>\n",
       "<polyline clip-path=\"url(#clip0301)\" style=\"stroke:#000000; stroke-width:4; stroke-opacity:1; fill:none\" points=\"\n",
       "  1315.35,1503.47 1315.35,1481.63 \n",
       "  \"/>\n",
       "<polyline clip-path=\"url(#clip0301)\" style=\"stroke:#000000; stroke-width:4; stroke-opacity:1; fill:none\" points=\"\n",
       "  1704.7,1503.47 1704.7,1481.63 \n",
       "  \"/>\n",
       "<polyline clip-path=\"url(#clip0301)\" style=\"stroke:#000000; stroke-width:4; stroke-opacity:1; fill:none\" points=\"\n",
       "  174.775,1219.72 203.372,1219.72 \n",
       "  \"/>\n",
       "<polyline clip-path=\"url(#clip0301)\" style=\"stroke:#000000; stroke-width:4; stroke-opacity:1; fill:none\" points=\"\n",
       "  174.775,935.223 203.372,935.223 \n",
       "  \"/>\n",
       "<polyline clip-path=\"url(#clip0301)\" style=\"stroke:#000000; stroke-width:4; stroke-opacity:1; fill:none\" points=\"\n",
       "  174.775,650.722 203.372,650.722 \n",
       "  \"/>\n",
       "<polyline clip-path=\"url(#clip0301)\" style=\"stroke:#000000; stroke-width:4; stroke-opacity:1; fill:none\" points=\"\n",
       "  174.775,366.222 203.372,366.222 \n",
       "  \"/>\n",
       "<polyline clip-path=\"url(#clip0301)\" style=\"stroke:#000000; stroke-width:4; stroke-opacity:1; fill:none\" points=\"\n",
       "  174.775,81.7216 203.372,81.7216 \n",
       "  \"/>\n",
       "<g clip-path=\"url(#clip0301)\">\n",
       "<text style=\"fill:#000000; fill-opacity:1; font-family:Arial,Helvetica Neue,Helvetica,sans-serif; font-size:48px; text-anchor:middle;\" transform=\"rotate(0, 536.63, 1557.47)\" x=\"536.63\" y=\"1557.47\">20</text>\n",
       "</g>\n",
       "<g clip-path=\"url(#clip0301)\">\n",
       "<text style=\"fill:#000000; fill-opacity:1; font-family:Arial,Helvetica Neue,Helvetica,sans-serif; font-size:48px; text-anchor:middle;\" transform=\"rotate(0, 925.988, 1557.47)\" x=\"925.988\" y=\"1557.47\">40</text>\n",
       "</g>\n",
       "<g clip-path=\"url(#clip0301)\">\n",
       "<text style=\"fill:#000000; fill-opacity:1; font-family:Arial,Helvetica Neue,Helvetica,sans-serif; font-size:48px; text-anchor:middle;\" transform=\"rotate(0, 1315.35, 1557.47)\" x=\"1315.35\" y=\"1557.47\">60</text>\n",
       "</g>\n",
       "<g clip-path=\"url(#clip0301)\">\n",
       "<text style=\"fill:#000000; fill-opacity:1; font-family:Arial,Helvetica Neue,Helvetica,sans-serif; font-size:48px; text-anchor:middle;\" transform=\"rotate(0, 1704.7, 1557.47)\" x=\"1704.7\" y=\"1557.47\">80</text>\n",
       "</g>\n",
       "<g clip-path=\"url(#clip0301)\">\n",
       "<text style=\"fill:#000000; fill-opacity:1; font-family:Arial,Helvetica Neue,Helvetica,sans-serif; font-size:48px; text-anchor:end;\" transform=\"rotate(0, 150.775, 1237.22)\" x=\"150.775\" y=\"1237.22\">20</text>\n",
       "</g>\n",
       "<g clip-path=\"url(#clip0301)\">\n",
       "<text style=\"fill:#000000; fill-opacity:1; font-family:Arial,Helvetica Neue,Helvetica,sans-serif; font-size:48px; text-anchor:end;\" transform=\"rotate(0, 150.775, 952.723)\" x=\"150.775\" y=\"952.723\">40</text>\n",
       "</g>\n",
       "<g clip-path=\"url(#clip0301)\">\n",
       "<text style=\"fill:#000000; fill-opacity:1; font-family:Arial,Helvetica Neue,Helvetica,sans-serif; font-size:48px; text-anchor:end;\" transform=\"rotate(0, 150.775, 668.222)\" x=\"150.775\" y=\"668.222\">60</text>\n",
       "</g>\n",
       "<g clip-path=\"url(#clip0301)\">\n",
       "<text style=\"fill:#000000; fill-opacity:1; font-family:Arial,Helvetica Neue,Helvetica,sans-serif; font-size:48px; text-anchor:end;\" transform=\"rotate(0, 150.775, 383.722)\" x=\"150.775\" y=\"383.722\">80</text>\n",
       "</g>\n",
       "<g clip-path=\"url(#clip0301)\">\n",
       "<text style=\"fill:#000000; fill-opacity:1; font-family:Arial,Helvetica Neue,Helvetica,sans-serif; font-size:48px; text-anchor:end;\" transform=\"rotate(0, 150.775, 99.2216)\" x=\"150.775\" y=\"99.2216\">100</text>\n",
       "</g>\n",
       "<circle clip-path=\"url(#clip0303)\" style=\"fill:#000000; stroke:none; fill-opacity:1\" cx=\"1297.12\" cy=\"667.032\" r=\"18\"/>\n",
       "<circle clip-path=\"url(#clip0303)\" style=\"fill:#fafc9d; stroke:none; fill-opacity:1\" cx=\"1297.12\" cy=\"667.032\" r=\"14\"/>\n",
       "<circle clip-path=\"url(#clip0303)\" style=\"fill:#000000; stroke:none; fill-opacity:1\" cx=\"413.239\" cy=\"802.191\" r=\"18\"/>\n",
       "<circle clip-path=\"url(#clip0303)\" style=\"fill:#f7860e; stroke:none; fill-opacity:1\" cx=\"413.239\" cy=\"802.191\" r=\"14\"/>\n",
       "<circle clip-path=\"url(#clip0303)\" style=\"fill:#000000; stroke:none; fill-opacity:1\" cx=\"1197.32\" cy=\"776.652\" r=\"18\"/>\n",
       "<circle clip-path=\"url(#clip0303)\" style=\"fill:#f99008; stroke:none; fill-opacity:1\" cx=\"1197.32\" cy=\"776.652\" r=\"14\"/>\n",
       "<circle clip-path=\"url(#clip0303)\" style=\"fill:#000000; stroke:none; fill-opacity:1\" cx=\"1619.51\" cy=\"629.841\" r=\"18\"/>\n",
       "<circle clip-path=\"url(#clip0303)\" style=\"fill:#be3852; stroke:none; fill-opacity:1\" cx=\"1619.51\" cy=\"629.841\" r=\"14\"/>\n",
       "<circle clip-path=\"url(#clip0303)\" style=\"fill:#000000; stroke:none; fill-opacity:1\" cx=\"1587.46\" cy=\"817.243\" r=\"18\"/>\n",
       "<circle clip-path=\"url(#clip0303)\" style=\"fill:#b63457; stroke:none; fill-opacity:1\" cx=\"1587.46\" cy=\"817.243\" r=\"14\"/>\n",
       "<circle clip-path=\"url(#clip0303)\" style=\"fill:#000000; stroke:none; fill-opacity:1\" cx=\"248.4\" cy=\"1116.4\" r=\"18\"/>\n",
       "<circle clip-path=\"url(#clip0303)\" style=\"fill:#8e2368; stroke:none; fill-opacity:1\" cx=\"248.4\" cy=\"1116.4\" r=\"14\"/>\n",
       "<circle clip-path=\"url(#clip0303)\" style=\"fill:#000000; stroke:none; fill-opacity:1\" cx=\"1944.43\" cy=\"435.255\" r=\"18\"/>\n",
       "<circle clip-path=\"url(#clip0303)\" style=\"fill:#d84c3d; stroke:none; fill-opacity:1\" cx=\"1944.43\" cy=\"435.255\" r=\"14\"/>\n",
       "<circle clip-path=\"url(#clip0303)\" style=\"fill:#000000; stroke:none; fill-opacity:1\" cx=\"1517.56\" cy=\"248.128\" r=\"18\"/>\n",
       "<circle clip-path=\"url(#clip0303)\" style=\"fill:#c73e4b; stroke:none; fill-opacity:1\" cx=\"1517.56\" cy=\"248.128\" r=\"14\"/>\n",
       "<circle clip-path=\"url(#clip0303)\" style=\"fill:#000000; stroke:none; fill-opacity:1\" cx=\"248.015\" cy=\"932.875\" r=\"18\"/>\n",
       "<circle clip-path=\"url(#clip0303)\" style=\"fill:#000003; stroke:none; fill-opacity:1\" cx=\"248.015\" cy=\"932.875\" r=\"14\"/>\n",
       "<circle clip-path=\"url(#clip0303)\" style=\"fill:#000000; stroke:none; fill-opacity:1\" cx=\"228.732\" cy=\"340.661\" r=\"18\"/>\n",
       "<circle clip-path=\"url(#clip0303)\" style=\"fill:#1d0b43; stroke:none; fill-opacity:1\" cx=\"228.732\" cy=\"340.661\" r=\"14\"/>\n",
       "<circle clip-path=\"url(#clip0303)\" style=\"fill:#000000; stroke:none; fill-opacity:1\" cx=\"1368.37\" cy=\"710.434\" r=\"18\"/>\n",
       "<circle clip-path=\"url(#clip0303)\" style=\"fill:#450a68; stroke:none; fill-opacity:1\" cx=\"1368.37\" cy=\"710.434\" r=\"14\"/>\n",
       "<circle clip-path=\"url(#clip0303)\" style=\"fill:#000000; stroke:none; fill-opacity:1\" cx=\"1128.38\" cy=\"249.117\" r=\"18\"/>\n",
       "<circle clip-path=\"url(#clip0303)\" style=\"fill:#972765; stroke:none; fill-opacity:1\" cx=\"1128.38\" cy=\"249.117\" r=\"14\"/>\n",
       "<circle clip-path=\"url(#clip0303)\" style=\"fill:#000000; stroke:none; fill-opacity:1\" cx=\"740.042\" cy=\"211.361\" r=\"18\"/>\n",
       "<circle clip-path=\"url(#clip0303)\" style=\"fill:#eb6527; stroke:none; fill-opacity:1\" cx=\"740.042\" cy=\"211.361\" r=\"14\"/>\n",
       "<circle clip-path=\"url(#clip0303)\" style=\"fill:#000000; stroke:none; fill-opacity:1\" cx=\"593.583\" cy=\"246.525\" r=\"18\"/>\n",
       "<circle clip-path=\"url(#clip0303)\" style=\"fill:#f5d645; stroke:none; fill-opacity:1\" cx=\"593.583\" cy=\"246.525\" r=\"14\"/>\n",
       "<circle clip-path=\"url(#clip0303)\" style=\"fill:#000000; stroke:none; fill-opacity:1\" cx=\"2027.3\" cy=\"928.292\" r=\"18\"/>\n",
       "<circle clip-path=\"url(#clip0303)\" style=\"fill:#721a6d; stroke:none; fill-opacity:1\" cx=\"2027.3\" cy=\"928.292\" r=\"14\"/>\n",
       "<circle clip-path=\"url(#clip0303)\" style=\"fill:#000000; stroke:none; fill-opacity:1\" cx=\"1619.97\" cy=\"143.036\" r=\"18\"/>\n",
       "<circle clip-path=\"url(#clip0303)\" style=\"fill:#f9fc9d; stroke:none; fill-opacity:1\" cx=\"1619.97\" cy=\"143.036\" r=\"14\"/>\n",
       "<circle clip-path=\"url(#clip0303)\" style=\"fill:#000000; stroke:none; fill-opacity:1\" cx=\"1923.74\" cy=\"948.323\" r=\"18\"/>\n",
       "<circle clip-path=\"url(#clip0303)\" style=\"fill:#f6d23f; stroke:none; fill-opacity:1\" cx=\"1923.74\" cy=\"948.323\" r=\"14\"/>\n",
       "<circle clip-path=\"url(#clip0303)\" style=\"fill:#000000; stroke:none; fill-opacity:1\" cx=\"262.31\" cy=\"860.932\" r=\"18\"/>\n",
       "<circle clip-path=\"url(#clip0303)\" style=\"fill:#c53d4d; stroke:none; fill-opacity:1\" cx=\"262.31\" cy=\"860.932\" r=\"14\"/>\n",
       "<circle clip-path=\"url(#clip0303)\" style=\"fill:#000000; stroke:none; fill-opacity:1\" cx=\"1698.35\" cy=\"1248.24\" r=\"18\"/>\n",
       "<circle clip-path=\"url(#clip0303)\" style=\"fill:#de5337; stroke:none; fill-opacity:1\" cx=\"1698.35\" cy=\"1248.24\" r=\"14\"/>\n",
       "<circle clip-path=\"url(#clip0303)\" style=\"fill:#000000; stroke:none; fill-opacity:1\" cx=\"1563.63\" cy=\"1348.19\" r=\"18\"/>\n",
       "<circle clip-path=\"url(#clip0303)\" style=\"fill:#fbb317; stroke:none; fill-opacity:1\" cx=\"1563.63\" cy=\"1348.19\" r=\"14\"/>\n",
       "<circle clip-path=\"url(#clip0303)\" style=\"fill:#000000; stroke:none; fill-opacity:1\" cx=\"1579.28\" cy=\"158.907\" r=\"18\"/>\n",
       "<circle clip-path=\"url(#clip0303)\" style=\"fill:#0d0828; stroke:none; fill-opacity:1\" cx=\"1579.28\" cy=\"158.907\" r=\"14\"/>\n",
       "<circle clip-path=\"url(#clip0303)\" style=\"fill:#000000; stroke:none; fill-opacity:1\" cx=\"1165.05\" cy=\"97.2168\" r=\"18\"/>\n",
       "<circle clip-path=\"url(#clip0303)\" style=\"fill:#1a0b3f; stroke:none; fill-opacity:1\" cx=\"1165.05\" cy=\"97.2168\" r=\"14\"/>\n",
       "<circle clip-path=\"url(#clip0303)\" style=\"fill:#000000; stroke:none; fill-opacity:1\" cx=\"458.614\" cy=\"547.532\" r=\"18\"/>\n",
       "<circle clip-path=\"url(#clip0303)\" style=\"fill:#a42c60; stroke:none; fill-opacity:1\" cx=\"458.614\" cy=\"547.532\" r=\"14\"/>\n",
       "<circle clip-path=\"url(#clip0303)\" style=\"fill:#000000; stroke:none; fill-opacity:1\" cx=\"1309.09\" cy=\"88.4582\" r=\"18\"/>\n",
       "<circle clip-path=\"url(#clip0303)\" style=\"fill:#fba40b; stroke:none; fill-opacity:1\" cx=\"1309.09\" cy=\"88.4582\" r=\"14\"/>\n",
       "<circle clip-path=\"url(#clip0303)\" style=\"fill:#000000; stroke:none; fill-opacity:1\" cx=\"1578.65\" cy=\"938.69\" r=\"18\"/>\n",
       "<circle clip-path=\"url(#clip0303)\" style=\"fill:#f2f380; stroke:none; fill-opacity:1\" cx=\"1578.65\" cy=\"938.69\" r=\"14\"/>\n",
       "<circle clip-path=\"url(#clip0303)\" style=\"fill:#000000; stroke:none; fill-opacity:1\" cx=\"1161.06\" cy=\"660.586\" r=\"18\"/>\n",
       "<circle clip-path=\"url(#clip0303)\" style=\"fill:#5c116d; stroke:none; fill-opacity:1\" cx=\"1161.06\" cy=\"660.586\" r=\"14\"/>\n",
       "<circle clip-path=\"url(#clip0303)\" style=\"fill:#000000; stroke:none; fill-opacity:1\" cx=\"434.476\" cy=\"225.519\" r=\"18\"/>\n",
       "<circle clip-path=\"url(#clip0303)\" style=\"fill:#e55c2f; stroke:none; fill-opacity:1\" cx=\"434.476\" cy=\"225.519\" r=\"14\"/>\n",
       "<circle clip-path=\"url(#clip0303)\" style=\"fill:#000000; stroke:none; fill-opacity:1\" cx=\"479.386\" cy=\"710.995\" r=\"18\"/>\n",
       "<circle clip-path=\"url(#clip0303)\" style=\"fill:#2b0a55; stroke:none; fill-opacity:1\" cx=\"479.386\" cy=\"710.995\" r=\"14\"/>\n",
       "<circle clip-path=\"url(#clip0303)\" style=\"fill:#000000; stroke:none; fill-opacity:1\" cx=\"1608.74\" cy=\"217.886\" r=\"18\"/>\n",
       "<circle clip-path=\"url(#clip0303)\" style=\"fill:#fac027; stroke:none; fill-opacity:1\" cx=\"1608.74\" cy=\"217.886\" r=\"14\"/>\n",
       "<circle clip-path=\"url(#clip0303)\" style=\"fill:#000000; stroke:none; fill-opacity:1\" cx=\"634.264\" cy=\"1120.37\" r=\"18\"/>\n",
       "<circle clip-path=\"url(#clip0303)\" style=\"fill:#f7840f; stroke:none; fill-opacity:1\" cx=\"634.264\" cy=\"1120.37\" r=\"14\"/>\n",
       "<circle clip-path=\"url(#clip0303)\" style=\"fill:#000000; stroke:none; fill-opacity:1\" cx=\"1320.09\" cy=\"1462.26\" r=\"18\"/>\n",
       "<circle clip-path=\"url(#clip0303)\" style=\"fill:#fcfea4; stroke:none; fill-opacity:1\" cx=\"1320.09\" cy=\"1462.26\" r=\"14\"/>\n",
       "<circle clip-path=\"url(#clip0303)\" style=\"fill:#000000; stroke:none; fill-opacity:1\" cx=\"328.101\" cy=\"681.597\" r=\"18\"/>\n",
       "<circle clip-path=\"url(#clip0303)\" style=\"fill:#1e0b45; stroke:none; fill-opacity:1\" cx=\"328.101\" cy=\"681.597\" r=\"14\"/>\n",
       "<circle clip-path=\"url(#clip0303)\" style=\"fill:#000000; stroke:none; fill-opacity:1\" cx=\"1704.21\" cy=\"937.583\" r=\"18\"/>\n",
       "<circle clip-path=\"url(#clip0303)\" style=\"fill:#831f6b; stroke:none; fill-opacity:1\" cx=\"1704.21\" cy=\"937.583\" r=\"14\"/>\n",
       "<circle clip-path=\"url(#clip0303)\" style=\"fill:#000000; stroke:none; fill-opacity:1\" cx=\"716.904\" cy=\"628.016\" r=\"18\"/>\n",
       "<circle clip-path=\"url(#clip0303)\" style=\"fill:#260b51; stroke:none; fill-opacity:1\" cx=\"716.904\" cy=\"628.016\" r=\"14\"/>\n",
       "<circle clip-path=\"url(#clip0303)\" style=\"fill:#000000; stroke:none; fill-opacity:1\" cx=\"256.583\" cy=\"583.313\" r=\"18\"/>\n",
       "<circle clip-path=\"url(#clip0303)\" style=\"fill:#f7f994; stroke:none; fill-opacity:1\" cx=\"256.583\" cy=\"583.313\" r=\"14\"/>\n",
       "<circle clip-path=\"url(#clip0303)\" style=\"fill:#000000; stroke:none; fill-opacity:1\" cx=\"1199.1\" cy=\"1048.58\" r=\"18\"/>\n",
       "<circle clip-path=\"url(#clip0303)\" style=\"fill:#9a2864; stroke:none; fill-opacity:1\" cx=\"1199.1\" cy=\"1048.58\" r=\"14\"/>\n",
       "<circle clip-path=\"url(#clip0303)\" style=\"fill:#000000; stroke:none; fill-opacity:1\" cx=\"1159.79\" cy=\"253.962\" r=\"18\"/>\n",
       "<circle clip-path=\"url(#clip0303)\" style=\"fill:#1a0b40; stroke:none; fill-opacity:1\" cx=\"1159.79\" cy=\"253.962\" r=\"14\"/>\n",
       "<circle clip-path=\"url(#clip0303)\" style=\"fill:#000000; stroke:none; fill-opacity:1\" cx=\"462.7\" cy=\"518.683\" r=\"18\"/>\n",
       "<circle clip-path=\"url(#clip0303)\" style=\"fill:#02020e; stroke:none; fill-opacity:1\" cx=\"462.7\" cy=\"518.683\" r=\"14\"/>\n",
       "<circle clip-path=\"url(#clip0303)\" style=\"fill:#000000; stroke:none; fill-opacity:1\" cx=\"329.894\" cy=\"1195.16\" r=\"18\"/>\n",
       "<circle clip-path=\"url(#clip0303)\" style=\"fill:#c63d4c; stroke:none; fill-opacity:1\" cx=\"329.894\" cy=\"1195.16\" r=\"14\"/>\n",
       "<circle clip-path=\"url(#clip0303)\" style=\"fill:#000000; stroke:none; fill-opacity:1\" cx=\"1633.52\" cy=\"349.662\" r=\"18\"/>\n",
       "<circle clip-path=\"url(#clip0303)\" style=\"fill:#e55c2f; stroke:none; fill-opacity:1\" cx=\"1633.52\" cy=\"349.662\" r=\"14\"/>\n",
       "<circle clip-path=\"url(#clip0303)\" style=\"fill:#000000; stroke:none; fill-opacity:1\" cx=\"1068.11\" cy=\"372.858\" r=\"18\"/>\n",
       "<circle clip-path=\"url(#clip0303)\" style=\"fill:#fba40b; stroke:none; fill-opacity:1\" cx=\"1068.11\" cy=\"372.858\" r=\"14\"/>\n",
       "<circle clip-path=\"url(#clip0303)\" style=\"fill:#000000; stroke:none; fill-opacity:1\" cx=\"419.223\" cy=\"645.014\" r=\"18\"/>\n",
       "<circle clip-path=\"url(#clip0303)\" style=\"fill:#ef6e20; stroke:none; fill-opacity:1\" cx=\"419.223\" cy=\"645.014\" r=\"14\"/>\n",
       "<circle clip-path=\"url(#clip0303)\" style=\"fill:#000000; stroke:none; fill-opacity:1\" cx=\"1077.58\" cy=\"656.53\" r=\"18\"/>\n",
       "<circle clip-path=\"url(#clip0303)\" style=\"fill:#c53d4d; stroke:none; fill-opacity:1\" cx=\"1077.58\" cy=\"656.53\" r=\"14\"/>\n",
       "<circle clip-path=\"url(#clip0303)\" style=\"fill:#000000; stroke:none; fill-opacity:1\" cx=\"1533.01\" cy=\"1362.17\" r=\"18\"/>\n",
       "<circle clip-path=\"url(#clip0303)\" style=\"fill:#520e6c; stroke:none; fill-opacity:1\" cx=\"1533.01\" cy=\"1362.17\" r=\"14\"/>\n",
       "<circle clip-path=\"url(#clip0303)\" style=\"fill:#000000; stroke:none; fill-opacity:1\" cx=\"393.363\" cy=\"801.38\" r=\"18\"/>\n",
       "<circle clip-path=\"url(#clip0303)\" style=\"fill:#7f1e6c; stroke:none; fill-opacity:1\" cx=\"393.363\" cy=\"801.38\" r=\"14\"/>\n",
       "<circle clip-path=\"url(#clip0303)\" style=\"fill:#000000; stroke:none; fill-opacity:1\" cx=\"382.862\" cy=\"1445.15\" r=\"18\"/>\n",
       "<circle clip-path=\"url(#clip0303)\" style=\"fill:#e96329; stroke:none; fill-opacity:1\" cx=\"382.862\" cy=\"1445.15\" r=\"14\"/>\n",
       "<circle clip-path=\"url(#clip0303)\" style=\"fill:#000000; stroke:none; fill-opacity:1\" cx=\"304.627\" cy=\"262.202\" r=\"18\"/>\n",
       "<circle clip-path=\"url(#clip0303)\" style=\"fill:#ea6428; stroke:none; fill-opacity:1\" cx=\"304.627\" cy=\"262.202\" r=\"14\"/>\n",
       "<circle clip-path=\"url(#clip0303)\" style=\"fill:#000000; stroke:none; fill-opacity:1\" cx=\"1856.8\" cy=\"912.46\" r=\"18\"/>\n",
       "<circle clip-path=\"url(#clip0303)\" style=\"fill:#f78310; stroke:none; fill-opacity:1\" cx=\"1856.8\" cy=\"912.46\" r=\"14\"/>\n",
       "<circle clip-path=\"url(#clip0303)\" style=\"fill:#000000; stroke:none; fill-opacity:1\" cx=\"287.614\" cy=\"773.52\" r=\"18\"/>\n",
       "<circle clip-path=\"url(#clip0303)\" style=\"fill:#b0315a; stroke:none; fill-opacity:1\" cx=\"287.614\" cy=\"773.52\" r=\"14\"/>\n",
       "<circle clip-path=\"url(#clip0303)\" style=\"fill:#000000; stroke:none; fill-opacity:1\" cx=\"884.475\" cy=\"924.952\" r=\"18\"/>\n",
       "<circle clip-path=\"url(#clip0303)\" style=\"fill:#360961; stroke:none; fill-opacity:1\" cx=\"884.475\" cy=\"924.952\" r=\"14\"/>\n",
       "<defs>\n",
       "  <clipPath id=\"clip0304\">\n",
       "    <rect x=\"2129\" y=\"47\" width=\"73\" height=\"1457\"/>\n",
       "  </clipPath>\n",
       "</defs>\n",
       "<g clip-path=\"url(#clip0304)\">\n",
       "<image width=\"72\" height=\"1456\" xlink:href=\"data:image/png;base64,\n",
       "iVBORw0KGgoAAAANSUhEUgAAAEgAAAWwCAYAAAD+FAeUAAAMbklEQVR4nO3dwY3sRhAFQY5Q/lsh\n",
       "L6XfLQtUeSQPERYMEg9LNMmZ/f17/r4P/+uvtz/A1wkUBAoCBYHCnPvv25/h0ywoCBQECgIFgcJc\n",
       "V7GVBQWBgkBBoCBQmHtcxTYWFAQKAgWBgqNGsKAgUBAoCBQECq5iwYKCQEGgIFAQKLiKBQsKAgWB\n",
       "gkDBU41gQUGgIFAQKAgUHDWCBQWBgkBBoCBQcBULFhQECgIFgcI8bpitLCgIFAQKAgWBgqtYsKAg\n",
       "UBAoCBQECvO4YbayoCBQECgIFBw1ggUFgYJAQaAgUHAVCxYUBAoCBYGCQGGe88/bn+HTLCgIFAQK\n",
       "AgVPNYIFBYGCQEGgIFBwwyxYUBAoCBQECgIFV7FgQUGgIFAQKAgU5nf/vP0ZPs2CgkBBoCBQmOf4\n",
       "I72xoCBQECgIFAQK83MVW1lQECgIFAQKAgVnsWBBQaAgUBAozOOpxsqCgkBBoCBQECi4YRYsKAgU\n",
       "BAoCBYGCG2bBgoJAQaAgUHDUCBYUBAoCBYGCQMFRI1hQECgIFAQKAoX5nfP2Z/g0CwoCBYGCQMFR\n",
       "I1hQECgIFAQKAgVXsWBBQaAgUBAoCBS8vBAsKAgUBAoChXk81VhZUBAoCBQECgIFR41gQUGgIFAQ\n",
       "KAgUPPYJFhQECgIFgYJAwVUsWFAQKAgUBAq+zBIsKAgUBAoCBYGClxeCBQWBgkBBoCBQcMMsWFAQ\n",
       "KAgUBAqOGsGCgkBBoCBQECi4igULCgIFgYJAQaDg5YVgQUGgIFAQKHiqESwoCBQECgIFgYIbZsGC\n",
       "gkBBoCBQECi4igULCgIFgYJAwR/pYEFBoCBQECgIFOY59+3P8GkWFAQKAgWBgkBhnusstrGgIFAQ\n",
       "KAgU3DALFhQECgIFgYJAwQ2zYEFBoCBQECgIFJzFggUFgYJAQaAgUHAVCxYUBAoCBYGCG2bBgoJA\n",
       "QaAgUBAoOGoECwoCBYGCQEGgMI+L2MqCgkBBoCBQ8Ec6WFAQKAgUBAoChfGNzJ0FBYGCQEGgIFBw\n",
       "FgsWFAQKAgWBgj/SwYKCQEGgIFAQKLiKBQsKAgWBgkBBoDCPL/usLCgIFAQKAoW55/f2Z/g0CwoC\n",
       "BYGCQEGg4IZZsKAgUBAoCBQECvM4i60sKAgUBAoChbnXH+mNBQWBgkBBoCBQcNQIFhQECgIFgYJA\n",
       "wVUsWFAQKAgUBAoCBXcUgwUFgYJAQaDgqBEsKAgUBAoCBYHCPEejjTpBoCBQECgIFNwwCxYUBAoC\n",
       "BYGCG2bBgoJAQaAgUBAo+HmcYEFBoCBQECgIFOa5Gm3UCQIFgYJAwVEjWFAQKAgUBAoCBVexYEFB\n",
       "oCBQECgIFLwnHdQJAgWBgkDBa8DBgoJAQaAgUBAoeE86WFAQKAgUBAoChblumK3UCQIFgYJAwQ2z\n",
       "YEFBoCBQECgIFNwwCxYUBAoCBYGCQMENs6BOECgIFAQKAgV3FIMFBYGCQEGg4CuZwYKCQEGgIFAQ\n",
       "KMz1G2YrdYJAQaAgUBAoeHkhWFAQKAgUBApumAULCgIFgYJAQaDg2XywoCBQECgIFAQK3pMO6gSB\n",
       "gkBBoOCoESwoCBQECgIFgYLHPsGCgkBBoCBQECg4iwULCgIFgYJAwVONoE4QKAgUBAoCBUeNYEFB\n",
       "oCBQECgIFDz2CRYUBAoCBYGCo0awoCBQECgIFAQKHvsEdYJAQaAgUBAoOIsFCwoCBYGCQEGg4CoW\n",
       "LCgIFAQKAgV/pIMFBYGCQEGgIFDwhlmwoCBQECgIFAQKc/wDtpU6QaAgUBAouGEWLCgIFAQKAgWB\n",
       "ghtmwYKCQEGgIFAQKDiLBQsKAgWBgkDBH+lgQUGgIFAQKAgUXMWCBQWBgkBBoCBQcBULFhQECgIF\n",
       "gcIcf6RXFhQECgIFgYJAwVEjWFAQKAgUBAoCBVexYEFBoCBQECj4Ix0sKAgUBAoCBYGCq1iwoCBQ\n",
       "ECgIFAQKrmLBgoJAQaAgUBAoeAUvWFAQKAgUBAqOGsGCgkBBoCBQECi4igULCgIFgYJAQaDgX9cE\n",
       "dYJAQaAgUHDUCBYUBAoCBYGCQMGz+WBBQaAgUBAoCBScxYIFBYGCQEGg4KgRLCgIFAQKAgWBgqNG\n",
       "sKAgUBAoCBQECq5iwYKCQEGgIFBwwyxYUBAoCBQECgKFuY+r2MaCgkBBoCBQECg4iwULCgIFgYJA\n",
       "wVONYEFBoCBQECgIFObctz/Ct1lQECgIFAQKAgVnsWBBQaAgUBAoCBQ89gkWFAQKAgWBwhxvmK0s\n",
       "KAgUBAoCBYGCG2bBgoJAQaAgUBAouGEWLCgIFAQKAgVHjWBBQaAgUBAoCBTmvP0JPs6CgkBBoCBQ\n",
       "ECg4iwULCgIFgYJAwVONYEFBoCBQECgIFPwSZ7CgIFAQKAgUBArOYsGCgkBBoCBQ8BtmwYKCQEGg\n",
       "IFAQKLhhFiwoCBQECgIFgYI3zIIFBYGCQEGg4MsswYKCQEGgIFAQKDhqBAsKAgWBgkBBoOAsFiwo\n",
       "CBQECgIFgYKzWLCgIFAQKAgUfJklWFAQKAgUBAoChfFln50FBYGCQEGgIFBwFgsWFAQKAgWBgqNG\n",
       "sKAgUBAoCBQECo4awYKCQEGgIFAQKDiLBQsKAgWBgkDBUSNYUBAoCBQECgIFvycdLCgIFAQKAgWB\n",
       "gt+TDhYUBAoCBYGCo0awoCBQECgIFAQKcxw1VhYUBAoCBYGCQGGus9jKgoJAQaAgUPCGWbCgIFAQ\n",
       "KAgUBAq+zBIsKAgUBAoCBYGClxeCBQWBgkBBoCBQ8PJCsKAgUBAoCBQ8mw8WFAQKAgWBgkDB/3oO\n",
       "FhQECgIFgYJAwSt4wYKCQEGgIFBwwyxYUBAoCBQECgIFN8yCBQWBgkBBoCBQcBYLFhQECgIFgYLX\n",
       "gIMFBYGCQEGgIFDwlcxgQUGgIFAQKAgU/DxOsKAgUBAoCBQcNYIFBYGCQEGgIFBwFQsWFAQKAgWB\n",
       "gkDB/3oOFhQECgIFgYKjRrCgIFAQKAgUBAqezQcLCgIFgYJAQaDgLBYsKAgUBAoCBYGCq1iwoCBQ\n",
       "ECgIFNwwCxYUBAoCBYGCQMFRI1hQECgIFAQKAgW/Jx0sKAgUBAoCBT+XHCwoCBQECgIFgYIbZsGC\n",
       "gkBBoCBQECh4eSFYUBAoCBQECo4awYKCQEGgIFAQKMx9XMY2FhQECgIFgYJAwVksWFAQKAgUBAqe\n",
       "agQLCgIFgYJAQaDgqBEsKAgUBAoCBYGCs1iwoCBQECgIFBw1ggUFgYJAQaAgUPDDAsGCgkBBoCBQ\n",
       "ECjM8Z70yoKCQEGgIFAQKDiLBQsKAgWBgkDBUSNYUBAoCBQECgIFP/ofLCgIFAQKAgWBwlx3zFYW\n",
       "FAQKAgWBgqNGsKAgUBAoCBQECr7tEywoCBQECgIFgYLfkw4WFAQKAgWBgqNGsKAgUBAoCBQECt6T\n",
       "DhYUBAoCBYGCQMENs2BBQaAgUBAoOGoECwoCBYGCQEGg4CoWLCgIFAQKAgWBwhxfyVxZUBAoCBQE\n",
       "Cp5qBAsKAgWBgkBBoOCGWbCgIFAQKAgUBAquYsGCgkBBoCBQECi4igULCgIFgYJAYe7jtzg3FhQE\n",
       "CgIFgYJAwVEjWFAQKAgUBAoChTk/Z7GNBQWBgkBBoDDHDbOVBQWBgkBBoCBQcBULFhQECgIFgYJA\n",
       "wcsLwYKCQEGgIFCY8/NsfmNBQaAgUBAoCBTcMAsWFAQKAgWBgkDBVSxYUBAoCBQECp5qBAsKAgWB\n",
       "gkBBoDDn+fP2Z/g0CwoCBYGCQEGg4IZZsKAgUBAoCBTmOmqsLCgIFAQKAgWBgqNGsKAgUBAoCBQE\n",
       "Cq5iwYKCQEGgIFAQKLijGCwoCBQECgIFR41gQUGgIFAQKAgUHDWCBQWBgkBBoCBQ8J3VYEFBoCBQ\n",
       "ECjMuf5IbywoCBQECgIFgYKjRrCgIFAQKAgUBApzncVWFhQECgIFgYKjRrCgIFAQKAgUBAreMAsW\n",
       "FAQKAgWBgkDBywvBgoJAQaAgUHDDLFhQECgIFAQKAgXP5oMFBYGCQEGgIFDw2CdYUBAoCBQECo4a\n",
       "wYKCQEGgIFAQKHjsEywoCBQECgIFgYKzWLCgIFAQKAgUBAoe+wQLCgIFgYJAwVEjWFAQKAgUBAoC\n",
       "BY99ggUFgYJAQaAgUJh73TDbWFAQKAgUBAqOGsGCgkBBoCBQECjMc+/bn+HTLCgIFAQKAgWBwjzO\n",
       "YisLCgIFgYJAwRtmwYKCQEGgIFAQKDhqBAsKAgWBgkBBoODlhWBBQaAgUBAozOOG2cqCgkBBoCBQ\n",
       "ECg4agQLCgIFgYJAQaDgsU+woCBQECgIFP4DPcHwb7pfSUoAAAAASUVORK5CYII=\n",
       "\" transform=\"translate(2129, 47)\"/>\n",
       "</g>\n",
       "<g clip-path=\"url(#clip0301)\">\n",
       "<text style=\"fill:#000000; fill-opacity:1; font-family:Arial,Helvetica Neue,Helvetica,sans-serif; font-size:48px; text-anchor:start;\" transform=\"rotate(0, 2237.26, 1381.63)\" x=\"2237.26\" y=\"1381.63\">0.1</text>\n",
       "</g>\n",
       "<g clip-path=\"url(#clip0301)\">\n",
       "<text style=\"fill:#000000; fill-opacity:1; font-family:Arial,Helvetica Neue,Helvetica,sans-serif; font-size:48px; text-anchor:start;\" transform=\"rotate(0, 2237.26, 1229.67)\" x=\"2237.26\" y=\"1229.67\">0.2</text>\n",
       "</g>\n",
       "<g clip-path=\"url(#clip0301)\">\n",
       "<text style=\"fill:#000000; fill-opacity:1; font-family:Arial,Helvetica Neue,Helvetica,sans-serif; font-size:48px; text-anchor:start;\" transform=\"rotate(0, 2237.26, 1077.71)\" x=\"2237.26\" y=\"1077.71\">0.3</text>\n",
       "</g>\n",
       "<g clip-path=\"url(#clip0301)\">\n",
       "<text style=\"fill:#000000; fill-opacity:1; font-family:Arial,Helvetica Neue,Helvetica,sans-serif; font-size:48px; text-anchor:start;\" transform=\"rotate(0, 2237.26, 925.751)\" x=\"2237.26\" y=\"925.751\">0.4</text>\n",
       "</g>\n",
       "<g clip-path=\"url(#clip0301)\">\n",
       "<text style=\"fill:#000000; fill-opacity:1; font-family:Arial,Helvetica Neue,Helvetica,sans-serif; font-size:48px; text-anchor:start;\" transform=\"rotate(0, 2237.26, 773.79)\" x=\"2237.26\" y=\"773.79\">0.5</text>\n",
       "</g>\n",
       "<g clip-path=\"url(#clip0301)\">\n",
       "<text style=\"fill:#000000; fill-opacity:1; font-family:Arial,Helvetica Neue,Helvetica,sans-serif; font-size:48px; text-anchor:start;\" transform=\"rotate(0, 2237.26, 621.829)\" x=\"2237.26\" y=\"621.829\">0.6</text>\n",
       "</g>\n",
       "<g clip-path=\"url(#clip0301)\">\n",
       "<text style=\"fill:#000000; fill-opacity:1; font-family:Arial,Helvetica Neue,Helvetica,sans-serif; font-size:48px; text-anchor:start;\" transform=\"rotate(0, 2237.26, 469.869)\" x=\"2237.26\" y=\"469.869\">0.7</text>\n",
       "</g>\n",
       "<g clip-path=\"url(#clip0301)\">\n",
       "<text style=\"fill:#000000; fill-opacity:1; font-family:Arial,Helvetica Neue,Helvetica,sans-serif; font-size:48px; text-anchor:start;\" transform=\"rotate(0, 2237.26, 317.908)\" x=\"2237.26\" y=\"317.908\">0.8</text>\n",
       "</g>\n",
       "<g clip-path=\"url(#clip0301)\">\n",
       "<text style=\"fill:#000000; fill-opacity:1; font-family:Arial,Helvetica Neue,Helvetica,sans-serif; font-size:48px; text-anchor:start;\" transform=\"rotate(0, 2237.26, 165.947)\" x=\"2237.26\" y=\"165.947\">0.9</text>\n",
       "</g>\n",
       "<polyline clip-path=\"url(#clip0301)\" style=\"stroke:#000000; stroke-width:4; stroke-opacity:1; fill:none\" points=\"\n",
       "  2201.26,1503.47 2201.26,1367.98 2225.26,1367.98 2201.26,1367.98 2201.26,1216.02 2225.26,1216.02 2201.26,1216.02 2201.26,1064.06 2225.26,1064.06 2201.26,1064.06 \n",
       "  2201.26,912.1 2225.26,912.1 2201.26,912.1 2201.26,760.139 2225.26,760.139 2201.26,760.139 2201.26,608.178 2225.26,608.178 2201.26,608.178 2201.26,456.217 \n",
       "  2225.26,456.217 2201.26,456.217 2201.26,304.257 2225.26,304.257 2201.26,304.257 2201.26,152.296 2225.26,152.296 2201.26,152.296 2201.26,47.2441 \n",
       "  \"/>\n",
       "<g clip-path=\"url(#clip0301)\">\n",
       "<text style=\"fill:#000000; fill-opacity:1; font-family:Arial,Helvetica Neue,Helvetica,sans-serif; font-size:66px; text-anchor:middle;\" transform=\"rotate(-90, 2378.86, 775.359)\" x=\"2378.86\" y=\"775.359\"></text>\n",
       "</g>\n",
       "<polygon clip-path=\"url(#clip0301)\" points=\"\n",
       "1675.59,251.724 2009.26,251.724 2009.26,130.764 1675.59,130.764 \n",
       "  \" fill=\"#ffffff\" fill-rule=\"evenodd\" fill-opacity=\"1\"/>\n",
       "<polyline clip-path=\"url(#clip0301)\" style=\"stroke:#000000; stroke-width:4; stroke-opacity:1; fill:none\" points=\"\n",
       "  1675.59,251.724 2009.26,251.724 2009.26,130.764 1675.59,130.764 1675.59,251.724 \n",
       "  \"/>\n",
       "<circle clip-path=\"url(#clip0301)\" style=\"fill:#000000; stroke:none; fill-opacity:1\" cx=\"1783.59\" cy=\"191.244\" r=\"25\"/>\n",
       "<circle clip-path=\"url(#clip0301)\" style=\"fill:#fafc9d; stroke:none; fill-opacity:1\" cx=\"1783.59\" cy=\"191.244\" r=\"21\"/>\n",
       "<g clip-path=\"url(#clip0301)\">\n",
       "<text style=\"fill:#000000; fill-opacity:1; font-family:Arial,Helvetica Neue,Helvetica,sans-serif; font-size:48px; text-anchor:start;\" transform=\"rotate(0, 1867.59, 208.744)\" x=\"1867.59\" y=\"208.744\">data</text>\n",
       "</g>\n",
       "</svg>\n"
      ]
     },
     "execution_count": 5,
     "metadata": {},
     "output_type": "execute_result"
    }
   ],
   "source": [
    "using Plots; gr()\n",
    "\n",
    "dim, nobs = 2, 50\n",
    "\n",
    "X = 100*rand(dim, nobs)\n",
    "z = rand(nobs)\n",
    "\n",
    "scatter(X[1,:], X[2,:], zcolor=z, label=\"data\")"
   ]
  },
  {
   "cell_type": "markdown",
   "metadata": {},
   "source": [
    "and by defining an estimation problem:"
   ]
  },
  {
   "cell_type": "code",
   "execution_count": 6,
   "metadata": {},
   "outputs": [
    {
     "data": {
      "text/plain": [
       "2D EstimationProblem\n",
       "  data:      50 PointSetData{Float64,2}\n",
       "  domain:    100×100 RegularGrid{Float64,2}\n",
       "  variables: z (Float64)"
      ]
     },
     "execution_count": 6,
     "metadata": {},
     "output_type": "execute_result"
    }
   ],
   "source": [
    "geodata = PointSetData(Dict(:z => z), X)\n",
    "domain  = RegularGrid{Float64}(100,100)\n",
    "problem = EstimationProblem(geodata, domain, :z)"
   ]
  },
  {
   "cell_type": "markdown",
   "metadata": {},
   "source": [
    "First, we vary the anisotropy ratio with an ellipsoid that is aligned with the coordinate system:"
   ]
  },
  {
   "cell_type": "code",
   "execution_count": 7,
   "metadata": {},
   "outputs": [
    {
     "name": "stderr",
     "output_type": "stream",
     "text": [
      "┌ Info: Saved animation to \n",
      "│   fn = /home/juliohm/Desktop/GeoStatsTutorials/notebooks/figs/anisotropy_ratio.gif\n",
      "└ @ Plots /home/juliohm/.julia/packages/Plots/rmogG/src/animation.jl:90\n"
     ]
    },
    {
     "data": {
      "text/html": [
       "<img src=\"figs/anisotropy_ratio.gif?0.943356905739213>\" />"
      ],
      "text/plain": [
       "Plots.AnimatedGif(\"/home/juliohm/Desktop/GeoStatsTutorials/notebooks/figs/anisotropy_ratio.gif\")"
      ]
     },
     "execution_count": 7,
     "metadata": {},
     "output_type": "execute_result"
    }
   ],
   "source": [
    "anim = @animate for a in range(1, stop=10., length=10)\n",
    "    γ = GaussianVariogram(range=5., distance=Ellipsoidal([a,1.], [0.]))\n",
    "    \n",
    "    solution = solve(problem, Kriging(:z => (variogram=γ,)))\n",
    "    \n",
    "    plot(solution, size=(1000,400))\n",
    "end\n",
    "gif(anim, \"figs/anisotropy_ratio.gif\", fps=1)"
   ]
  },
  {
   "cell_type": "markdown",
   "metadata": {},
   "source": [
    "Second, we fix the anisotropy ratio and vary the alignment angle:"
   ]
  },
  {
   "cell_type": "code",
   "execution_count": 8,
   "metadata": {},
   "outputs": [
    {
     "name": "stderr",
     "output_type": "stream",
     "text": [
      "┌ Info: Saved animation to \n",
      "│   fn = /home/juliohm/Desktop/GeoStatsTutorials/notebooks/figs/anisotropy_angle.gif\n",
      "└ @ Plots /home/juliohm/.julia/packages/Plots/rmogG/src/animation.jl:90\n"
     ]
    },
    {
     "data": {
      "text/html": [
       "<img src=\"figs/anisotropy_angle.gif?0.57557066645746>\" />"
      ],
      "text/plain": [
       "Plots.AnimatedGif(\"/home/juliohm/Desktop/GeoStatsTutorials/notebooks/figs/anisotropy_angle.gif\")"
      ]
     },
     "execution_count": 8,
     "metadata": {},
     "output_type": "execute_result"
    }
   ],
   "source": [
    "anim = @animate for θ in range(0, stop=2π, length=10)\n",
    "    γ = GaussianVariogram(range=5., distance=Ellipsoidal([10.,1.], [θ]))\n",
    "    \n",
    "    solution = solve(problem, Kriging(:z => (variogram=γ,)))\n",
    "    \n",
    "    plot(solution, size=(1000,400))\n",
    "end\n",
    "gif(anim, \"figs/anisotropy_angle.gif\", fps=1)"
   ]
  },
  {
   "cell_type": "markdown",
   "metadata": {},
   "source": [
    "This experiment can be extended to 3D with the only difference being that ellipsoids therein are defined by 3 semiaxes and 3 angles. For example, the Euclidean distance in 3D can be recovered with a degenerated ellipsoid with equal semiaxes (i.e. sphere):"
   ]
  },
  {
   "cell_type": "code",
   "execution_count": 9,
   "metadata": {},
   "outputs": [
    {
     "data": {
      "text/plain": [
       "true"
      ]
     },
     "execution_count": 9,
     "metadata": {},
     "output_type": "execute_result"
    }
   ],
   "source": [
    "ellipsoid = Ellipsoidal([1.,1.,1.],[0.,0.,0.])\n",
    "euclidean = Euclidean()\n",
    "\n",
    "a, b = rand(3), rand(3)\n",
    "\n",
    "evaluate(ellipsoid, a, b) ≈ evaluate(euclidean, a, b)"
   ]
  },
  {
   "cell_type": "markdown",
   "metadata": {},
   "source": [
    "## Conclusions\n",
    "\n",
    "- Geometric anisotropy can be easily modeled with an `Ellipsoidal` distance\n",
    "\n",
    "- GeoStats.jl recognizes any distance following the [Distances.jl](https://github.com/JuliaStats/Distances.jl) API (i.e. `Metric` types)"
   ]
  }
 ],
 "metadata": {
  "@webio": {
   "lastCommId": "c11cc5e5360c40129b35e99b4359dd58",
   "lastKernelId": "73c1fd17-4965-4f35-a1c3-78689cf889aa"
  },
  "kernelspec": {
   "display_name": "Julia 1.0.0",
   "language": "julia",
   "name": "julia-1.0"
  },
  "language_info": {
   "file_extension": ".jl",
   "mimetype": "application/julia",
   "name": "julia",
   "version": "1.0.0"
  }
 },
 "nbformat": 4,
 "nbformat_minor": 2
}
