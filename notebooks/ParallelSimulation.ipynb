{
 "cells": [
  {
   "cell_type": "markdown",
   "metadata": {},
   "source": [
    "# Parallel stochastic simulation\n",
    "\n",
    "Stochastic simulation is an [embarrassingly parallel problem](https://en.wikipedia.org/wiki/Embarrassingly_parallel) in which realizations are only a function of the random seed, and can be generated indenpendently one from another. Although this is a well-known fact, there has not been reasonable effort in geostatistical software to exploit modern hardware such as HPC clusters and the cloud (e.g. AWS, MS Azure).\n",
    "\n",
    "In GeoStats.jl, *all* stochastic simulation algorithms generate realizations in parallel by default. The package exploits Julia's built-in support for parallel execution, and works seamlessly on personal laptops with multiple cores as well as on high-performance computer clusters with multiple nodes.\n",
    "\n",
    "In this tutorial, we demonstrate how to generate realizations with direct Gaussian simulation in parallel. The same script can be run on a computer cluster where thousands of processes are available.\n",
    "\n",
    "Before we proceed, please install the following packages:"
   ]
  },
  {
   "cell_type": "code",
   "execution_count": 1,
   "metadata": {},
   "outputs": [
    {
     "name": "stdout",
     "output_type": "stream",
     "text": [
      "\u001b[32m\u001b[1m  Updating\u001b[22m\u001b[39m registry at `~/.julia/registries/General`\n",
      "\u001b[32m\u001b[1m  Updating\u001b[22m\u001b[39m git-repo `https://github.com/JuliaRegistries/General.git`\n",
      "\u001b[?25l\u001b[2K\u001b[?25h\u001b[32m\u001b[1m Resolving\u001b[22m\u001b[39m package versions...\n",
      "\u001b[32m\u001b[1m  Updating\u001b[22m\u001b[39m `~/.julia/environments/v1.0/Project.toml`\n",
      "\u001b[90m [no changes]\u001b[39m\n",
      "\u001b[32m\u001b[1m  Updating\u001b[22m\u001b[39m `~/.julia/environments/v1.0/Manifest.toml`\n",
      "\u001b[90m [no changes]\u001b[39m\n"
     ]
    }
   ],
   "source": [
    "] add GeoStats DirectGaussianSimulation Plots PyPlot"
   ]
  },
  {
   "cell_type": "code",
   "execution_count": 2,
   "metadata": {},
   "outputs": [],
   "source": [
    "using Random; Random.seed!(2000); # make sure this tutorial is reproducible"
   ]
  },
  {
   "cell_type": "markdown",
   "metadata": {},
   "source": [
    "## Number of processes\n",
    "\n",
    "When you start Julia, it starts with a single process:"
   ]
  },
  {
   "cell_type": "code",
   "execution_count": 3,
   "metadata": {},
   "outputs": [
    {
     "data": {
      "text/plain": [
       "1"
      ]
     },
     "execution_count": 3,
     "metadata": {},
     "output_type": "execute_result"
    }
   ],
   "source": [
    "using Distributed\n",
    "\n",
    "nprocs()"
   ]
  },
  {
   "cell_type": "markdown",
   "metadata": {},
   "source": [
    "In order to run simulations in parallel with GeoStats.jl, the first thing we need to do is increase the number of processes in the pool *before* loading the package. The command `addprocs` adds a given number of processes for parallel execution:"
   ]
  },
  {
   "cell_type": "code",
   "execution_count": 4,
   "metadata": {},
   "outputs": [
    {
     "data": {
      "text/plain": [
       "4-element Array{Int64,1}:\n",
       " 2\n",
       " 3\n",
       " 4\n",
       " 5"
      ]
     },
     "execution_count": 4,
     "metadata": {},
     "output_type": "execute_result"
    }
   ],
   "source": [
    "addprocs()"
   ]
  },
  {
   "cell_type": "markdown",
   "metadata": {},
   "source": [
    "Notice that `addprocs()` when called without an argument, adds the number of *logical* cores available in the machine.\n",
    "\n",
    "> **WARNING:** If you are on Windows 8 or an older version of the operating system, you will likely experience a slow down. Please add the number of *physical* cores instead that can be found externally in computer settings or via packages such as [CpuId.jl](https://github.com/m-j-w/CpuId.jl) and [Hwloc.jl](https://github.com/JuliaParallel/Hwloc.jl).\n",
    "\n",
    "On a HPC cluster, computing resources are generally requested via a resource manager (e.g. SLURM, PBS). In this case, the package [ClusterManagers.jl](https://github.com/JuliaParallel/ClusterManagers.jl) provides variants of the built-in `addprocs()` for adding processes to the pool effortlessly. For example, we can use `addprocs_slurm(1000)` to request 1000 processes in a SLURM job.\n",
    "\n",
    "Now that the processes are available, we can run normal GeoStats.jl scripts and they will automatically distribute the execution among the processes.\n",
    "\n",
    "## Problem definition"
   ]
  },
  {
   "cell_type": "code",
   "execution_count": 5,
   "metadata": {},
   "outputs": [
    {
     "data": {
      "text/plain": [
       "2D SimulationProblem (conditional)\n",
       "  data:      3×4 GeoDataFrame (x and y)\n",
       "  domain:    20×20 RegularGrid{Float64,2}\n",
       "  variables: precipitation (Float64)\n",
       "  N° reals:  30"
      ]
     },
     "execution_count": 5,
     "metadata": {},
     "output_type": "execute_result"
    }
   ],
   "source": [
    "using GeoStats\n",
    "\n",
    "geodata = readgeotable(\"data/precipitation.csv\", coordnames=[:x,:y])\n",
    "domain  = RegularGrid((0.,0.), (100.,100.), dims=(20,20))\n",
    "problem = SimulationProblem(geodata, domain, :precipitation, 30)"
   ]
  },
  {
   "cell_type": "markdown",
   "metadata": {},
   "source": [
    "## Solving the problem"
   ]
  },
  {
   "cell_type": "code",
   "execution_count": 6,
   "metadata": {},
   "outputs": [
    {
     "data": {
      "text/plain": [
       "DirectGaussSim\n",
       "  └─precipitation\n",
       "    └─variogram = SphericalVariogram{Float64,Euclidean}\n",
       "  range: Float64 20.0\n",
       "  sill: Float64 1.0\n",
       "  nugget: Float64 0.0\n",
       "  distance: Euclidean\n",
       "\n"
      ]
     },
     "execution_count": 6,
     "metadata": {},
     "output_type": "execute_result"
    }
   ],
   "source": [
    "using DirectGaussianSimulation\n",
    "\n",
    "solver = DirectGaussSim(\n",
    "    :precipitation => (variogram=SphericalVariogram(range=20.),)\n",
    ")"
   ]
  },
  {
   "cell_type": "code",
   "execution_count": 7,
   "metadata": {
    "scrolled": false
   },
   "outputs": [
    {
     "data": {
      "text/plain": [
       "2D SimulationSolution\n",
       "  domain: 20×20 RegularGrid{Float64,2}\n",
       "  variables: precipitation"
      ]
     },
     "execution_count": 7,
     "metadata": {},
     "output_type": "execute_result"
    }
   ],
   "source": [
    "solution = solve(problem, solver)"
   ]
  },
  {
   "cell_type": "code",
   "execution_count": 8,
   "metadata": {},
   "outputs": [
    {
     "data": {
      "image/png": "[encoded data removed]"
     },
     "execution_count": 8,
     "metadata": {},
     "output_type": "execute_result"
    }
   ],
   "source": [
    "using Plots; pyplot()\n",
    "\n",
    "plot(solution, size=(1000,300))"
   ]
  },
  {
   "cell_type": "markdown",
   "metadata": {},
   "source": [
    "## Remarks\n",
    "\n",
    "- In GeoStats.jl, *parallel* stochastic simulation is achieved with ease. From a user's perspective, it consists of a single call to `addprocs` variants.\n",
    "- Users can utilize hardware resources such as HPC clusters and the cloud to speed up simulation jobs. In theory, the speedup is upper bounded by the number of computing nodes/cores/processes available. In practice, this translates into generating multiple realizations within the time required for one.\n",
    "- On a personal laptop or desktop, serial (non-parallel) simulation can often outperform parallel simulation. See the example above."
   ]
  }
 ],
 "metadata": {
  "@webio": {
   "lastCommId": "dd737516614146388156837bb363d4c4",
   "lastKernelId": "c2c0cc86-4509-42ae-872f-a0800f17ac4f"
  },
  "kernelspec": {
   "display_name": "Julia 1.0.0",
   "language": "julia",
   "name": "julia-1.0"
  },
  "language_info": {
   "file_extension": ".jl",
   "mimetype": "application/julia",
   "name": "julia",
   "version": "1.0.0"
  }
 },
 "nbformat": 4,
 "nbformat_minor": 2
}
